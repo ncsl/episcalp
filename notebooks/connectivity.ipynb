{
 "cells": [
  {
   "cell_type": "code",
   "execution_count": 1,
   "metadata": {},
   "outputs": [],
   "source": [
    "import os\n",
    "from pathlib import Path\n",
    "import glob\n",
    "\n",
    "import numpy as np\n",
    "import matplotlib.pyplot as plt\n",
    "import seaborn as sbs\n",
    "\n",
    "import mne\n",
    "from mne.time_frequency import tfr_morlet, psd_multitaper, psd_welch\n",
    "from mne.datasets import somato\n",
    "import mne_bids\n",
    "from mne_connectivity import spectral_connectivity\n",
    "#import mne_connectivity\n",
    "\n",
    "import pandas as pd\n",
    "import scipy.signal as sig\n",
    "import scipy.stats as stats\n",
    "from scipy.special import softmax\n",
    "from sklearn.svm import SVC\n",
    "from sklearn.model_selection import train_test_split\n",
    "from sklearn.linear_model import LogisticRegression\n",
    "from sklearn.metrics import roc_auc_score\n",
    "from sklearn.feature_selection import SelectKBest, chi2, mutual_info_classif\n",
    "from sklearn.decomposition import PCA\n",
    "from sklearn.model_selection import StratifiedKFold\n",
    "from sklearn.ensemble import RandomForestClassifier\n",
    "from sklearn.neighbors import KNeighborsClassifier\n",
    "from sklearn.discriminant_analysis import QuadraticDiscriminantAnalysis\n",
    "from skimage import measure\n",
    "import pickle"
   ]
  },
  {
   "cell_type": "code",
   "execution_count": 38,
   "metadata": {},
   "outputs": [
    {
     "ename": "ValueError",
     "evalue": "array split does not result in an equal division",
     "output_type": "error",
     "traceback": [
      "\u001b[0;31m---------------------------------------------------------------------------\u001b[0m",
      "\u001b[0;31mTypeError\u001b[0m                                 Traceback (most recent call last)",
      "\u001b[0;32m~/opt/anaconda3/lib/python3.8/site-packages/numpy/lib/shape_base.py\u001b[0m in \u001b[0;36msplit\u001b[0;34m(ary, indices_or_sections, axis)\u001b[0m\n\u001b[1;32m    866\u001b[0m     \u001b[0;32mtry\u001b[0m\u001b[0;34m:\u001b[0m\u001b[0;34m\u001b[0m\u001b[0;34m\u001b[0m\u001b[0m\n\u001b[0;32m--> 867\u001b[0;31m         \u001b[0mlen\u001b[0m\u001b[0;34m(\u001b[0m\u001b[0mindices_or_sections\u001b[0m\u001b[0;34m)\u001b[0m\u001b[0;34m\u001b[0m\u001b[0;34m\u001b[0m\u001b[0m\n\u001b[0m\u001b[1;32m    868\u001b[0m     \u001b[0;32mexcept\u001b[0m \u001b[0mTypeError\u001b[0m\u001b[0;34m:\u001b[0m\u001b[0;34m\u001b[0m\u001b[0;34m\u001b[0m\u001b[0m\n",
      "\u001b[0;31mTypeError\u001b[0m: object of type 'int' has no len()",
      "\nDuring handling of the above exception, another exception occurred:\n",
      "\u001b[0;31mValueError\u001b[0m                                Traceback (most recent call last)",
      "\u001b[0;32m<ipython-input-38-5535377b8631>\u001b[0m in \u001b[0;36m<module>\u001b[0;34m\u001b[0m\n\u001b[1;32m     50\u001b[0m     \u001b[0mchunks\u001b[0m \u001b[0;34m=\u001b[0m \u001b[0mint\u001b[0m\u001b[0;34m(\u001b[0m\u001b[0mnp\u001b[0m\u001b[0;34m.\u001b[0m\u001b[0mceil\u001b[0m\u001b[0;34m(\u001b[0m\u001b[0mdf_array\u001b[0m\u001b[0;34m.\u001b[0m\u001b[0mshape\u001b[0m\u001b[0;34m[\u001b[0m\u001b[0;36m0\u001b[0m\u001b[0;34m]\u001b[0m \u001b[0;34m/\u001b[0m \u001b[0mwin_size\u001b[0m\u001b[0;34m)\u001b[0m\u001b[0;34m)\u001b[0m\u001b[0;34m\u001b[0m\u001b[0;34m\u001b[0m\u001b[0m\n\u001b[1;32m     51\u001b[0m \u001b[0;34m\u001b[0m\u001b[0m\n\u001b[0;32m---> 52\u001b[0;31m     \u001b[0msplit_30_s\u001b[0m \u001b[0;34m=\u001b[0m \u001b[0mnp\u001b[0m\u001b[0;34m.\u001b[0m\u001b[0msplit\u001b[0m\u001b[0;34m(\u001b[0m\u001b[0mdf_array\u001b[0m\u001b[0;34m,\u001b[0m \u001b[0mchunks\u001b[0m\u001b[0;34m,\u001b[0m \u001b[0maxis\u001b[0m \u001b[0;34m=\u001b[0m \u001b[0;36m0\u001b[0m\u001b[0;34m)\u001b[0m\u001b[0;34m\u001b[0m\u001b[0;34m\u001b[0m\u001b[0m\n\u001b[0m\u001b[1;32m     53\u001b[0m     \u001b[0msplit_30_arr\u001b[0m \u001b[0;34m=\u001b[0m \u001b[0mnp\u001b[0m\u001b[0;34m.\u001b[0m\u001b[0mzeros\u001b[0m\u001b[0;34m(\u001b[0m\u001b[0;34m(\u001b[0m\u001b[0mlen\u001b[0m\u001b[0;34m(\u001b[0m\u001b[0msplit_30_s\u001b[0m\u001b[0;34m)\u001b[0m\u001b[0;34m,\u001b[0m \u001b[0msplit_30_s\u001b[0m\u001b[0;34m[\u001b[0m\u001b[0;36m0\u001b[0m\u001b[0;34m]\u001b[0m\u001b[0;34m.\u001b[0m\u001b[0mshape\u001b[0m\u001b[0;34m[\u001b[0m\u001b[0;36m1\u001b[0m\u001b[0;34m]\u001b[0m\u001b[0;34m,\u001b[0m \u001b[0msplit_30_s\u001b[0m\u001b[0;34m[\u001b[0m\u001b[0;36m0\u001b[0m\u001b[0;34m]\u001b[0m\u001b[0;34m.\u001b[0m\u001b[0mshape\u001b[0m\u001b[0;34m[\u001b[0m\u001b[0;36m0\u001b[0m\u001b[0;34m]\u001b[0m\u001b[0;34m)\u001b[0m\u001b[0;34m)\u001b[0m\u001b[0;34m\u001b[0m\u001b[0;34m\u001b[0m\u001b[0m\n\u001b[1;32m     54\u001b[0m \u001b[0;34m\u001b[0m\u001b[0m\n",
      "\u001b[0;32m<__array_function__ internals>\u001b[0m in \u001b[0;36msplit\u001b[0;34m(*args, **kwargs)\u001b[0m\n",
      "\u001b[0;32m~/opt/anaconda3/lib/python3.8/site-packages/numpy/lib/shape_base.py\u001b[0m in \u001b[0;36msplit\u001b[0;34m(ary, indices_or_sections, axis)\u001b[0m\n\u001b[1;32m    870\u001b[0m         \u001b[0mN\u001b[0m \u001b[0;34m=\u001b[0m \u001b[0mary\u001b[0m\u001b[0;34m.\u001b[0m\u001b[0mshape\u001b[0m\u001b[0;34m[\u001b[0m\u001b[0maxis\u001b[0m\u001b[0;34m]\u001b[0m\u001b[0;34m\u001b[0m\u001b[0;34m\u001b[0m\u001b[0m\n\u001b[1;32m    871\u001b[0m         \u001b[0;32mif\u001b[0m \u001b[0mN\u001b[0m \u001b[0;34m%\u001b[0m \u001b[0msections\u001b[0m\u001b[0;34m:\u001b[0m\u001b[0;34m\u001b[0m\u001b[0;34m\u001b[0m\u001b[0m\n\u001b[0;32m--> 872\u001b[0;31m             raise ValueError(\n\u001b[0m\u001b[1;32m    873\u001b[0m                 'array split does not result in an equal division')\n\u001b[1;32m    874\u001b[0m     \u001b[0;32mreturn\u001b[0m \u001b[0marray_split\u001b[0m\u001b[0;34m(\u001b[0m\u001b[0mary\u001b[0m\u001b[0;34m,\u001b[0m \u001b[0mindices_or_sections\u001b[0m\u001b[0;34m,\u001b[0m \u001b[0maxis\u001b[0m\u001b[0;34m)\u001b[0m\u001b[0;34m\u001b[0m\u001b[0;34m\u001b[0m\u001b[0m\n",
      "\u001b[0;31mValueError\u001b[0m: array split does not result in an equal division"
     ]
    }
   ],
   "source": [
    "%%capture\n",
    "# Prevents prints from occuring for ease of reading code (can be removed)\n",
    "\n",
    "data = pd.read_csv('jhu_new_patients.csv', index_col = 0)\n",
    "\n",
    "# sets the path for files\n",
    "root = Path('/Users/silumen/OneDrive - Johns Hopkins/Documents/40Hz-30/')\n",
    "\n",
    "bad_subs = []\n",
    "\n",
    "# loops thru each of the subjects\n",
    "for index, row in data.iterrows():\n",
    "    # formats the fields needed for mne_bids to the correct length\n",
    "    subject = '{:03d}'.format(row['id'])\n",
    "    session = row['session']\n",
    "    task = row['task']\n",
    "    run = '{:02d}'.format(row['run'])\n",
    "    acq = 'run'\n",
    "    datatype = 'eeg'\n",
    "    # reads in data\n",
    "    bids_path = mne_bids.BIDSPath(subject=subject, session=session, task=task,\n",
    "                     acquisition=None, run=run, datatype=datatype, root=root,\n",
    "                     suffix='eeg', extension='.vhdr')\n",
    "    raw = mne_bids.read_raw_bids(bids_path)\n",
    "    \n",
    "    # ensures all windows are 30 seconds\n",
    "    sfreq = raw.info['sfreq']\n",
    "    win_size = int(sfreq*30)\n",
    "    \n",
    "    # gets the channel names\n",
    "    cols = np.array(raw.info['ch_names'])\n",
    "    \n",
    "    # sets the new dataframe of the raw data to be processed\n",
    "    df = raw.to_data_frame()\n",
    "    df = df.set_index('time')\n",
    "    \n",
    "    # keeps all channels except midline (since they may be unplugged)\n",
    "    idx = []\n",
    "    for i, col in enumerate(cols):\n",
    "        if 'Z' in col:\n",
    "            idx.append(i)\n",
    "            df = df.drop([col], axis = 1)\n",
    "    cols = np.delete(cols, idx)\n",
    "    \n",
    "    # converts raw data to numpy array\n",
    "    df_array = np.array(df)\n",
    "    \n",
    "    if df_array.shape[1] != 16:\n",
    "        bad_subs.append(subject)\n",
    "        continue\n",
    "    \n",
    "    df_array = df_array[:int(sfreq*30*10), :]\n",
    "    \n",
    "    \n",
    "    # finds the correct number of chunks to split into\n",
    "    chunks = int(np.ceil(df_array.shape[0] / win_size))\n",
    "    \n",
    "    split_30_s = np.split(df_array, chunks, axis = 0)\n",
    "    split_30_arr = np.zeros((len(split_30_s), split_30_s[0].shape[1], split_30_s[0].shape[0]))\n",
    "    \n",
    "    \n",
    "    for i in range(len(split_30_s)):\n",
    "        split_30_arr[i, :, :] = split_30_s[i].transpose()     \n",
    "              \n",
    "    \n",
    "    for method in ['coh', 'cohy', 'imcoh']:\n",
    "        \n",
    "        time_conn = np.zeros((split_30_arr.shape[0], split_30_arr.shape[1], split_30_arr.shape[1]))\n",
    "        \n",
    "        for i, time in enumerate(split_30_arr):\n",
    "            time = time[np.newaxis, :, :]\n",
    "            \n",
    "            conn = spectral_connectivity(time, method=method, sfreq = sfreq)\n",
    "            \n",
    "            conn = np.mean(conn[0], axis = 2)\n",
    "            conn += np.rot90(np.fliplr(conn)) + np.eye(conn.shape[0])\n",
    "            \n",
    "            time_conn[i] = conn\n",
    "        \n",
    "        # creates directory for numpy files and for figures\n",
    "        if not os.path.exists(os.path.join(root, 'derivatives/{}/'.format(method))):\n",
    "            os.makedirs(os.path.join(root, 'derivatives/{}/'.format(method)))\n",
    "        meas_path = os.path.join(root, 'derivatives/{}/'.format(method))\n",
    "\n",
    "        if not os.path.exists(os.path.join(root, 'derivatives/figures/{}/'.format(method))):\n",
    "            os.makedirs(os.path.join(root, 'derivatives/figures/{}/'.format(method)))\n",
    "        figures_path = os.path.join(root, 'derivatives/figures/{}/'.format(method))\n",
    "\n",
    "        # creates path for numpy data to be stored\n",
    "        if not os.path.exists(os.path.join(meas_path, 'sub-{}'.format(subject))):\n",
    "            os.makedirs(os.path.join(meas_path, 'sub-{}'.format(subject)))\n",
    "\n",
    "        folder = os.path.join(meas_path, 'sub-{}'.format(subject))\n",
    "\n",
    "        base = 'sub-{}_ses-{}_task-{}_run-{}_desc-'.format(subject, session, task, run)\n",
    "        base = os.path.join(folder, base)\n",
    "\n",
    "        np.save(base + '30-s-split.npy', time_conn)\n",
    "    \n",
    "        # changes the order of the columns so all odds are next to each other\n",
    "        # and all evens are next to each other\n",
    "        odd = list(range(1, len(cols), 2))\n",
    "        even = list(range(0, len(cols), 2))\n",
    "        new = even + odd\n",
    "        cols = cols[new]\n",
    "\n",
    "        # makes path for figures\n",
    "        if not os.path.exists(os.path.join(figures_path, 'sub-{}'.format(subject))):\n",
    "            os.makedirs(os.path.join(figures_path, 'sub-{}'.format(subject)))\n",
    "\n",
    "        direc = os.path.join(figures_path, 'sub-{}'.format(subject))\n",
    "\n",
    "        filen = 'sub-{}_ses-{}_task-{}_run-{}_desc-'.format(subject, session, task, run)\n",
    "        filen = os.path.join(direc, filen)\n",
    "\n",
    "        # gets the mean plv value and plots it\n",
    "        mean = np.mean(time_conn, axis = 0)\n",
    "        mean = mean[new, :]\n",
    "        mean = mean[:, new]\n",
    "\n",
    "        sbs.heatmap(data=mean, vmin = 0, vmax = 1, cmap = 'hot', square = True, xticklabels = cols, yticklabels = cols)\n",
    "        plt.savefig(filen + '30-s-split-mean.png')\n",
    "        plt.close()\n",
    "\n",
    "        # gets the standard deviation of the plv values and plots it\n",
    "        std = np.std(time_conn, axis = 0)\n",
    "        std = std[new, :]\n",
    "        std = std[:, new]\n",
    "\n",
    "        sbs.heatmap(data = std, vmin = 0, vmax = 0.3, cmap = 'hot', square = True, xticklabels = cols, yticklabels = cols)\n",
    "        plt.savefig(filen + '30-s-split-std.png')\n",
    "        plt.close()\n",
    "\n",
    "        # plots the plv values for each of the windows\n",
    "        for i in range(time_conn.shape[0]):\n",
    "            window = time_conn[i, :, :]\n",
    "            window = window[new, :]\n",
    "            window = window[:, new]\n",
    "\n",
    "            sbs.heatmap(data = window, vmin = 0, vmax = 1, cmap = 'hot', square = True, xticklabels = cols, yticklabels = cols)\n",
    "            plt.savefig(filen + 'split-{}-{}.png'.format(time_conn.shape[0], i+1))\n",
    "            plt.close()"
   ]
  },
  {
   "cell_type": "code",
   "execution_count": 46,
   "metadata": {},
   "outputs": [],
   "source": [
    "test = np.load('/Users/silumen/OneDrive - Johns Hopkins/Documents/40Hz-30/derivatives/plv/sub-021/sub-021_ses-initialvisit_task-monitor_run-01_desc-30-s-split.npy')"
   ]
  },
  {
   "cell_type": "code",
   "execution_count": 47,
   "metadata": {},
   "outputs": [
    {
     "data": {
      "text/plain": [
       "<AxesSubplot:>"
      ]
     },
     "execution_count": 47,
     "metadata": {},
     "output_type": "execute_result"
    },
    {
     "data": {
      "image/png": "[encoded data removed]",
      "text/plain": [
       "<Figure size 432x288 with 2 Axes>"
      ]
     },
     "metadata": {
      "needs_background": "light"
     },
     "output_type": "display_data"
    }
   ],
   "source": [
    "sbs.heatmap(test[0])"
   ]
  },
  {
   "cell_type": "code",
   "execution_count": 48,
   "metadata": {},
   "outputs": [
    {
     "data": {
      "text/plain": [
       "array([[1., 1., 1., 1., 1., 1., 1., 1., 1., 1., 1., 1., 1., 1., 1., 1.],\n",
       "       [1., 1., 1., 1., 1., 1., 1., 1., 1., 1., 1., 1., 1., 1., 1., 1.],\n",
       "       [1., 1., 1., 1., 1., 1., 1., 1., 1., 1., 1., 1., 1., 1., 1., 1.],\n",
       "       [1., 1., 1., 1., 1., 1., 1., 1., 1., 1., 1., 1., 1., 1., 1., 1.],\n",
       "       [1., 1., 1., 1., 1., 1., 1., 1., 1., 1., 1., 1., 1., 1., 1., 1.],\n",
       "       [1., 1., 1., 1., 1., 1., 1., 1., 1., 1., 1., 1., 1., 1., 1., 1.],\n",
       "       [1., 1., 1., 1., 1., 1., 1., 1., 1., 1., 1., 1., 1., 1., 1., 1.],\n",
       "       [1., 1., 1., 1., 1., 1., 1., 1., 1., 1., 1., 1., 1., 1., 1., 1.],\n",
       "       [1., 1., 1., 1., 1., 1., 1., 1., 1., 1., 1., 1., 1., 1., 1., 1.],\n",
       "       [1., 1., 1., 1., 1., 1., 1., 1., 1., 1., 1., 1., 1., 1., 1., 1.],\n",
       "       [1., 1., 1., 1., 1., 1., 1., 1., 1., 1., 1., 1., 1., 1., 1., 1.],\n",
       "       [1., 1., 1., 1., 1., 1., 1., 1., 1., 1., 1., 1., 1., 1., 1., 1.],\n",
       "       [1., 1., 1., 1., 1., 1., 1., 1., 1., 1., 1., 1., 1., 1., 1., 1.],\n",
       "       [1., 1., 1., 1., 1., 1., 1., 1., 1., 1., 1., 1., 1., 1., 1., 1.],\n",
       "       [1., 1., 1., 1., 1., 1., 1., 1., 1., 1., 1., 1., 1., 1., 1., 1.],\n",
       "       [1., 1., 1., 1., 1., 1., 1., 1., 1., 1., 1., 1., 1., 1., 1., 1.]])"
      ]
     },
     "execution_count": 48,
     "metadata": {},
     "output_type": "execute_result"
    }
   ],
   "source": [
    "test[0]"
   ]
  },
  {
   "cell_type": "code",
   "execution_count": 54,
   "metadata": {},
   "outputs": [
    {
     "data": {
      "text/plain": [
       "(100.0, 0.16666666666666666, 29.995, 10, None)"
      ]
     },
     "execution_count": 54,
     "metadata": {},
     "output_type": "execute_result"
    }
   ],
   "source": [
    "np.max(conn[1]), np.min(conn[1]), conn[2][-1], conn[3], conn[4]"
   ]
  },
  {
   "cell_type": "code",
   "execution_count": 74,
   "metadata": {},
   "outputs": [
    {
     "data": {
      "text/plain": [
       "(5, (16, 16, 2996), (2996,), (6000,), 10, None)"
      ]
     },
     "execution_count": 74,
     "metadata": {},
     "output_type": "execute_result"
    }
   ],
   "source": [
    "len(conn), conn[0].shape, conn[1].shape, conn[2].shape, conn[3], conn[4]"
   ]
  },
  {
   "cell_type": "code",
   "execution_count": 69,
   "metadata": {},
   "outputs": [
    {
     "data": {
      "image/png": "[encoded data removed]",
      "text/plain": [
       "<Figure size 432x288 with 2 Axes>"
      ]
     },
     "metadata": {
      "needs_background": "light"
     },
     "output_type": "display_data"
    },
    {
     "data": {
      "image/png": "[encoded data removed]",
      "text/plain": [
       "<Figure size 432x288 with 2 Axes>"
      ]
     },
     "metadata": {
      "needs_background": "light"
     },
     "output_type": "display_data"
    }
   ],
   "source": [
    "sbs.heatmap(conn[0][:, :, 2])\n",
    "plt.show()\n",
    "sbs.heatmap(conn[0][:, :, 3])\n",
    "plt.show()"
   ]
  }
 ],
 "metadata": {
  "kernelspec": {
   "display_name": "Python 3",
   "language": "python",
   "name": "python3"
  },
  "language_info": {
   "codemirror_mode": {
    "name": "ipython",
    "version": 3
   },
   "file_extension": ".py",
   "mimetype": "text/x-python",
   "name": "python",
   "nbconvert_exporter": "python",
   "pygments_lexer": "ipython3",
   "version": "3.8.5"
  }
 },
 "nbformat": 4,
 "nbformat_minor": 4
}
