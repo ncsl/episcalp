{
 "cells": [
  {
   "cell_type": "code",
   "execution_count": 1,
   "metadata": {},
   "outputs": [],
   "source": [
    "import os\n",
    "import numpy as np\n",
    "from pathlib import Path\n",
    "import mne\n",
    "from mne import create_info\n",
    "from mne.io import RawArray\n",
    "from mne_bids import BIDSPath, get_entity_vals, read_raw_bids, get_entities_from_fname\n",
    "from eztrack.fragility import DiscreteLinearSystem\n",
    "from eztrack.fragility.fragility import _reference_raw, state_lds_derivative\n",
    "from eztrack.io.array import DerivativeArray\n",
    "from eztrack.io.deriv_info import create_deriv_info"
   ]
  },
  {
   "cell_type": "code",
   "execution_count": 2,
   "metadata": {},
   "outputs": [],
   "source": [
    "bids_root = \"D:/OneDriveParent/OneDrive - Johns Hopkins/scalp_reconstruction/ICA\"\n",
    "sourcedata = Path(bids_root) / \"sourcedata\"\n",
    "deriv_dir = Path(bids_root) / \"derivatives\"\n",
    "figure_dir = Path(deriv_dir) / \"figures\""
   ]
  },
  {
   "cell_type": "code",
   "execution_count": 3,
   "metadata": {},
   "outputs": [],
   "source": [
    "session = 'monitor'\n",
    "task = 'monitor'\n",
    "run = \"01\"\n",
    "datatype = \"eeg\"\n",
    "montage = \"standard_1020\"\n",
    "ext = \".edf\"\n",
    "reference=\"monopolar\""
   ]
  },
  {
   "cell_type": "code",
   "execution_count": 4,
   "metadata": {},
   "outputs": [],
   "source": [
    "subjects = get_entity_vals(bids_root, 'subject')\n",
    "bids_fpaths = [BIDSPath(subject=s, session=session, task=task, run=run, datatype=datatype, extension=ext, root=bids_root).match() for s in subjects]\n",
    "bids_fpaths = [item for sublist in bids_fpaths for item in sublist]"
   ]
  },
  {
   "cell_type": "code",
   "execution_count": 5,
   "metadata": {},
   "outputs": [],
   "source": [
    "reconstructed_root = Path(deriv_dir) / \"reconstructed\"\n",
    "reconstructed_fpaths = [BIDSPath(subject=s, session=session, task=task, run=run, datatype=datatype, extension=\"fif\", root=reconstructed_root).match() for s in subjects]\n",
    "reconstructed_fpaths = [item for sublist in reconstructed_fpaths for item in sublist]"
   ]
  },
  {
   "cell_type": "code",
   "execution_count": 6,
   "metadata": {},
   "outputs": [],
   "source": [
    "fpath_pairs = [(b, r) for b,r in zip(bids_fpaths, reconstructed_fpaths)]"
   ]
  },
  {
   "cell_type": "code",
   "execution_count": 7,
   "metadata": {},
   "outputs": [],
   "source": [
    "for raw_fpath, reconstructed_fpath in fpath_pairs:\n",
    "    raw_bids_entities = get_entities_from_fname(raw_fpath)\n",
    "    reconstructed_bids_entities = get_entities_from_fname(reconstructed_fpath)\n",
    "    raw = read_raw_bids(raw_fpath)\n",
    "    reconstructed = read_raw_bids(reconstructed_fpath)\n",
    "    raw_fig = raw.plot(show=False)\n",
    "    reconstructed_fig = reconstructed.plot(show=False)\n",
    "    raw_root = figure_dir / \"raw\" \n",
    "    raw_fig_bids = BIDSPath(**raw_bids_entities, root=raw_root)\n",
    "    raw_figs_fpath = str(raw_fig_bids).split(\".\")[0] + \".png\"\n",
    "    raw_fig.savefig(raw_figs_fpath)\n",
    "    reconstructed_root = figure_dir / \"reconstructed\"\n",
    "    reconstructed_fig_bids = BIDSPath(**reconstructed_bids_entities, root=reconstructed_root)\n",
    "    reconstructed_figs_fpath = str(reconstructed_fig_bids).split(\".\")[0] + \".png\"\n",
    "    reconstructed_fig.savefig(reconstructed_figs_fpath)"
   ]
  }
 ],
 "metadata": {
  "kernelspec": {
   "display_name": "Python eztrack",
   "language": "python",
   "name": "eztrack"
  },
  "language_info": {
   "codemirror_mode": {
    "name": "ipython",
    "version": 3
   },
   "file_extension": ".py",
   "mimetype": "text/x-python",
   "name": "python",
   "nbconvert_exporter": "python",
   "pygments_lexer": "ipython3",
   "version": "3.8.7"
  }
 },
 "nbformat": 4,
 "nbformat_minor": 4
}
