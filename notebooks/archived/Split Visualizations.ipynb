{
 "cells": [
  {
   "cell_type": "code",
   "execution_count": 1,
   "metadata": {},
   "outputs": [],
   "source": [
    "import os.path as op\n",
    "from pathlib import Path\n",
    "import glob\n",
    "\n",
    "import numpy as np\n",
    "import matplotlib.pyplot as plt\n",
    "import seaborn as sbs\n",
    "\n",
    "import mne\n",
    "from mne.time_frequency import tfr_morlet, psd_multitaper, psd_welch\n",
    "from mne.datasets import somato\n",
    "import mne_bids\n",
    "\n",
    "import pandas as pd\n",
    "import scipy.signal as sig\n",
    "import pickle"
   ]
  },
  {
   "cell_type": "code",
   "execution_count": 2,
   "metadata": {},
   "outputs": [
    {
     "data": {
      "text/html": [
       "<div>\n",
       "<style scoped>\n",
       "    .dataframe tbody tr th:only-of-type {\n",
       "        vertical-align: middle;\n",
       "    }\n",
       "\n",
       "    .dataframe tbody tr th {\n",
       "        vertical-align: top;\n",
       "    }\n",
       "\n",
       "    .dataframe thead th {\n",
       "        text-align: right;\n",
       "    }\n",
       "</style>\n",
       "<table border=\"1\" class=\"dataframe\">\n",
       "  <thead>\n",
       "    <tr style=\"text-align: right;\">\n",
       "      <th></th>\n",
       "      <th>id</th>\n",
       "      <th>session</th>\n",
       "      <th>run</th>\n",
       "      <th>task</th>\n",
       "    </tr>\n",
       "  </thead>\n",
       "  <tbody>\n",
       "    <tr>\n",
       "      <th>0</th>\n",
       "      <td>6249</td>\n",
       "      <td>4</td>\n",
       "      <td>0</td>\n",
       "      <td>normal</td>\n",
       "    </tr>\n",
       "    <tr>\n",
       "      <th>2</th>\n",
       "      <td>8576</td>\n",
       "      <td>1</td>\n",
       "      <td>0</td>\n",
       "      <td>normal</td>\n",
       "    </tr>\n",
       "    <tr>\n",
       "      <th>3</th>\n",
       "      <td>9002</td>\n",
       "      <td>1</td>\n",
       "      <td>0</td>\n",
       "      <td>normal</td>\n",
       "    </tr>\n",
       "    <tr>\n",
       "      <th>6</th>\n",
       "      <td>9051</td>\n",
       "      <td>1</td>\n",
       "      <td>0</td>\n",
       "      <td>normal</td>\n",
       "    </tr>\n",
       "  </tbody>\n",
       "</table>\n",
       "</div>"
      ],
      "text/plain": [
       "     id  session  run    task\n",
       "0  6249        4    0  normal\n",
       "2  8576        1    0  normal\n",
       "3  9002        1    0  normal\n",
       "6  9051        1    0  normal"
      ]
     },
     "execution_count": 2,
     "metadata": {},
     "output_type": "execute_result"
    }
   ],
   "source": [
    "data = pd.read_csv(\"epilepsy_patients.csv\", usecols = [\"id\", \"session\", \"run\", \"task\"])\n",
    "data = data.drop_duplicates('id')\n",
    "\n",
    "norm = data.loc[data['task'] == 'normal']\n",
    "ep = data.loc[data['task'] == 'epilepsy']\n",
    "\n",
    "norm.head(4)\n",
    "\n",
    "#print(norm.shape, ep.shape)\n",
    "\n",
    "#norm = norm.sample(n = 1, random_state = 0)\n",
    "#ep = ep.sample(n = 1, random_state = 0)\n",
    "\n",
    "#print(norm.shape, ep.shape)"
   ]
  },
  {
   "cell_type": "code",
   "execution_count": 3,
   "metadata": {},
   "outputs": [
    {
     "data": {
      "text/html": [
       "<div>\n",
       "<style scoped>\n",
       "    .dataframe tbody tr th:only-of-type {\n",
       "        vertical-align: middle;\n",
       "    }\n",
       "\n",
       "    .dataframe tbody tr th {\n",
       "        vertical-align: top;\n",
       "    }\n",
       "\n",
       "    .dataframe thead th {\n",
       "        text-align: right;\n",
       "    }\n",
       "</style>\n",
       "<table border=\"1\" class=\"dataframe\">\n",
       "  <thead>\n",
       "    <tr style=\"text-align: right;\">\n",
       "      <th></th>\n",
       "      <th>id</th>\n",
       "      <th>session</th>\n",
       "      <th>run</th>\n",
       "      <th>task</th>\n",
       "    </tr>\n",
       "  </thead>\n",
       "  <tbody>\n",
       "    <tr>\n",
       "      <th>12</th>\n",
       "      <td>3101</td>\n",
       "      <td>2</td>\n",
       "      <td>4</td>\n",
       "      <td>epilepsy</td>\n",
       "    </tr>\n",
       "    <tr>\n",
       "      <th>41</th>\n",
       "      <td>6622</td>\n",
       "      <td>1</td>\n",
       "      <td>0</td>\n",
       "      <td>epilepsy</td>\n",
       "    </tr>\n",
       "    <tr>\n",
       "      <th>49</th>\n",
       "      <td>3136</td>\n",
       "      <td>1</td>\n",
       "      <td>4</td>\n",
       "      <td>epilepsy</td>\n",
       "    </tr>\n",
       "    <tr>\n",
       "      <th>63</th>\n",
       "      <td>4401</td>\n",
       "      <td>1</td>\n",
       "      <td>0</td>\n",
       "      <td>epilepsy</td>\n",
       "    </tr>\n",
       "  </tbody>\n",
       "</table>\n",
       "</div>"
      ],
      "text/plain": [
       "      id  session  run      task\n",
       "12  3101        2    4  epilepsy\n",
       "41  6622        1    0  epilepsy\n",
       "49  3136        1    4  epilepsy\n",
       "63  4401        1    0  epilepsy"
      ]
     },
     "execution_count": 3,
     "metadata": {},
     "output_type": "execute_result"
    }
   ],
   "source": [
    "ep.head(4)"
   ]
  },
  {
   "cell_type": "code",
   "execution_count": 4,
   "metadata": {},
   "outputs": [
    {
     "name": "stdout",
     "output_type": "stream",
     "text": [
      "Extracting parameters from C:\\Users\\patri\\OneDrive - Johns Hopkins\\tuh_epilepsy_vs_normal\\derivatives\\ICA\\sub-00006249\\ses-004\\eeg\\sub-00006249_ses-004_task-normal_run-000_eeg.vhdr...\n",
      "Setting channel info structure...\n",
      "Reading channel info from C:\\Users\\patri\\OneDrive - Johns Hopkins\\tuh_epilepsy_vs_normal\\derivatives\\ICA\\sub-00006249\\ses-004\\eeg\\sub-00006249_ses-004_task-normal_run-000_channels.tsv.\n"
     ]
    },
    {
     "name": "stderr",
     "output_type": "stream",
     "text": [
      "<ipython-input-4-5b38eb41f93b>:17: RuntimeWarning: Did not find any events.tsv associated with sub-00006249_ses-004_task-normal_run-000.\n",
      "\n",
      "The search_str was \"C:\\Users\\patri\\OneDrive - Johns Hopkins\\tuh_epilepsy_vs_normal\\derivatives\\ICA\\sub-00006249\\**\\sub-00006249_ses-004*events.tsv\"\n",
      "  raw = mne_bids.read_raw_bids(bids_path)\n",
      "<ipython-input-4-5b38eb41f93b>:17: RuntimeWarning: Did not find any coordsystem.json associated with sub-00006249_ses-004_task-normal_run-000.\n",
      "\n",
      "The search_str was \"C:\\Users\\patri\\OneDrive - Johns Hopkins\\tuh_epilepsy_vs_normal\\derivatives\\ICA\\sub-00006249\\**\\sub-00006249_ses-004*coordsystem.json\"\n",
      "  raw = mne_bids.read_raw_bids(bids_path)\n"
     ]
    },
    {
     "name": "stdout",
     "output_type": "stream",
     "text": [
      "Extracting parameters from C:\\Users\\patri\\OneDrive - Johns Hopkins\\tuh_epilepsy_vs_normal\\derivatives\\ICA\\sub-00008576\\ses-001\\eeg\\sub-00008576_ses-001_task-normal_run-000_eeg.vhdr...\n",
      "Setting channel info structure...\n",
      "Reading channel info from C:\\Users\\patri\\OneDrive - Johns Hopkins\\tuh_epilepsy_vs_normal\\derivatives\\ICA\\sub-00008576\\ses-001\\eeg\\sub-00008576_ses-001_task-normal_run-000_channels.tsv.\n"
     ]
    },
    {
     "name": "stderr",
     "output_type": "stream",
     "text": [
      "<ipython-input-4-5b38eb41f93b>:17: RuntimeWarning: Did not find any events.tsv associated with sub-00008576_ses-001_task-normal_run-000.\n",
      "\n",
      "The search_str was \"C:\\Users\\patri\\OneDrive - Johns Hopkins\\tuh_epilepsy_vs_normal\\derivatives\\ICA\\sub-00008576\\**\\sub-00008576_ses-001*events.tsv\"\n",
      "  raw = mne_bids.read_raw_bids(bids_path)\n",
      "<ipython-input-4-5b38eb41f93b>:17: RuntimeWarning: Did not find any coordsystem.json associated with sub-00008576_ses-001_task-normal_run-000.\n",
      "\n",
      "The search_str was \"C:\\Users\\patri\\OneDrive - Johns Hopkins\\tuh_epilepsy_vs_normal\\derivatives\\ICA\\sub-00008576\\**\\sub-00008576_ses-001*coordsystem.json\"\n",
      "  raw = mne_bids.read_raw_bids(bids_path)\n"
     ]
    },
    {
     "name": "stdout",
     "output_type": "stream",
     "text": [
      "Extracting parameters from C:\\Users\\patri\\OneDrive - Johns Hopkins\\tuh_epilepsy_vs_normal\\derivatives\\ICA\\sub-00009002\\ses-001\\eeg\\sub-00009002_ses-001_task-normal_run-000_eeg.vhdr...\n",
      "Setting channel info structure...\n",
      "Reading channel info from C:\\Users\\patri\\OneDrive - Johns Hopkins\\tuh_epilepsy_vs_normal\\derivatives\\ICA\\sub-00009002\\ses-001\\eeg\\sub-00009002_ses-001_task-normal_run-000_channels.tsv.\n"
     ]
    },
    {
     "name": "stderr",
     "output_type": "stream",
     "text": [
      "<ipython-input-4-5b38eb41f93b>:17: RuntimeWarning: Did not find any events.tsv associated with sub-00009002_ses-001_task-normal_run-000.\n",
      "\n",
      "The search_str was \"C:\\Users\\patri\\OneDrive - Johns Hopkins\\tuh_epilepsy_vs_normal\\derivatives\\ICA\\sub-00009002\\**\\sub-00009002_ses-001*events.tsv\"\n",
      "  raw = mne_bids.read_raw_bids(bids_path)\n",
      "<ipython-input-4-5b38eb41f93b>:17: RuntimeWarning: Did not find any coordsystem.json associated with sub-00009002_ses-001_task-normal_run-000.\n",
      "\n",
      "The search_str was \"C:\\Users\\patri\\OneDrive - Johns Hopkins\\tuh_epilepsy_vs_normal\\derivatives\\ICA\\sub-00009002\\**\\sub-00009002_ses-001*coordsystem.json\"\n",
      "  raw = mne_bids.read_raw_bids(bids_path)\n"
     ]
    },
    {
     "name": "stdout",
     "output_type": "stream",
     "text": [
      "Extracting parameters from C:\\Users\\patri\\OneDrive - Johns Hopkins\\tuh_epilepsy_vs_normal\\derivatives\\ICA\\sub-00009051\\ses-001\\eeg\\sub-00009051_ses-001_task-normal_run-000_eeg.vhdr...\n",
      "Setting channel info structure...\n",
      "Reading channel info from C:\\Users\\patri\\OneDrive - Johns Hopkins\\tuh_epilepsy_vs_normal\\derivatives\\ICA\\sub-00009051\\ses-001\\eeg\\sub-00009051_ses-001_task-normal_run-000_channels.tsv.\n"
     ]
    },
    {
     "name": "stderr",
     "output_type": "stream",
     "text": [
      "<ipython-input-4-5b38eb41f93b>:17: RuntimeWarning: Did not find any events.tsv associated with sub-00009051_ses-001_task-normal_run-000.\n",
      "\n",
      "The search_str was \"C:\\Users\\patri\\OneDrive - Johns Hopkins\\tuh_epilepsy_vs_normal\\derivatives\\ICA\\sub-00009051\\**\\sub-00009051_ses-001*events.tsv\"\n",
      "  raw = mne_bids.read_raw_bids(bids_path)\n",
      "<ipython-input-4-5b38eb41f93b>:17: RuntimeWarning: Did not find any coordsystem.json associated with sub-00009051_ses-001_task-normal_run-000.\n",
      "\n",
      "The search_str was \"C:\\Users\\patri\\OneDrive - Johns Hopkins\\tuh_epilepsy_vs_normal\\derivatives\\ICA\\sub-00009051\\**\\sub-00009051_ses-001*coordsystem.json\"\n",
      "  raw = mne_bids.read_raw_bids(bids_path)\n"
     ]
    },
    {
     "name": "stdout",
     "output_type": "stream",
     "text": [
      "Extracting parameters from C:\\Users\\patri\\OneDrive - Johns Hopkins\\tuh_epilepsy_vs_normal\\derivatives\\ICA\\sub-00006473\\ses-001\\eeg\\sub-00006473_ses-001_task-normal_run-000_eeg.vhdr...\n",
      "Setting channel info structure...\n",
      "Reading channel info from C:\\Users\\patri\\OneDrive - Johns Hopkins\\tuh_epilepsy_vs_normal\\derivatives\\ICA\\sub-00006473\\ses-001\\eeg\\sub-00006473_ses-001_task-normal_run-000_channels.tsv.\n"
     ]
    },
    {
     "name": "stderr",
     "output_type": "stream",
     "text": [
      "<ipython-input-4-5b38eb41f93b>:17: RuntimeWarning: Did not find any events.tsv associated with sub-00006473_ses-001_task-normal_run-000.\n",
      "\n",
      "The search_str was \"C:\\Users\\patri\\OneDrive - Johns Hopkins\\tuh_epilepsy_vs_normal\\derivatives\\ICA\\sub-00006473\\**\\sub-00006473_ses-001*events.tsv\"\n",
      "  raw = mne_bids.read_raw_bids(bids_path)\n",
      "<ipython-input-4-5b38eb41f93b>:17: RuntimeWarning: Did not find any coordsystem.json associated with sub-00006473_ses-001_task-normal_run-000.\n",
      "\n",
      "The search_str was \"C:\\Users\\patri\\OneDrive - Johns Hopkins\\tuh_epilepsy_vs_normal\\derivatives\\ICA\\sub-00006473\\**\\sub-00006473_ses-001*coordsystem.json\"\n",
      "  raw = mne_bids.read_raw_bids(bids_path)\n"
     ]
    },
    {
     "name": "stdout",
     "output_type": "stream",
     "text": [
      "Extracting parameters from C:\\Users\\patri\\OneDrive - Johns Hopkins\\tuh_epilepsy_vs_normal\\derivatives\\ICA\\sub-00010586\\ses-001\\eeg\\sub-00010586_ses-001_task-normal_run-002_eeg.vhdr...\n",
      "Setting channel info structure...\n",
      "Reading channel info from C:\\Users\\patri\\OneDrive - Johns Hopkins\\tuh_epilepsy_vs_normal\\derivatives\\ICA\\sub-00010586\\ses-001\\eeg\\sub-00010586_ses-001_task-normal_run-002_channels.tsv.\n"
     ]
    },
    {
     "name": "stderr",
     "output_type": "stream",
     "text": [
      "<ipython-input-4-5b38eb41f93b>:17: RuntimeWarning: Did not find any events.tsv associated with sub-00010586_ses-001_task-normal_run-002.\n",
      "\n",
      "The search_str was \"C:\\Users\\patri\\OneDrive - Johns Hopkins\\tuh_epilepsy_vs_normal\\derivatives\\ICA\\sub-00010586\\**\\sub-00010586_ses-001*events.tsv\"\n",
      "  raw = mne_bids.read_raw_bids(bids_path)\n",
      "<ipython-input-4-5b38eb41f93b>:17: RuntimeWarning: Did not find any coordsystem.json associated with sub-00010586_ses-001_task-normal_run-002.\n",
      "\n",
      "The search_str was \"C:\\Users\\patri\\OneDrive - Johns Hopkins\\tuh_epilepsy_vs_normal\\derivatives\\ICA\\sub-00010586\\**\\sub-00010586_ses-001*coordsystem.json\"\n",
      "  raw = mne_bids.read_raw_bids(bids_path)\n"
     ]
    },
    {
     "name": "stdout",
     "output_type": "stream",
     "text": [
      "Extracting parameters from C:\\Users\\patri\\OneDrive - Johns Hopkins\\tuh_epilepsy_vs_normal\\derivatives\\ICA\\sub-00008317\\ses-001\\eeg\\sub-00008317_ses-001_task-normal_run-000_eeg.vhdr...\n",
      "Setting channel info structure...\n",
      "Reading channel info from C:\\Users\\patri\\OneDrive - Johns Hopkins\\tuh_epilepsy_vs_normal\\derivatives\\ICA\\sub-00008317\\ses-001\\eeg\\sub-00008317_ses-001_task-normal_run-000_channels.tsv.\n"
     ]
    },
    {
     "name": "stderr",
     "output_type": "stream",
     "text": [
      "<ipython-input-4-5b38eb41f93b>:17: RuntimeWarning: Did not find any events.tsv associated with sub-00008317_ses-001_task-normal_run-000.\n",
      "\n",
      "The search_str was \"C:\\Users\\patri\\OneDrive - Johns Hopkins\\tuh_epilepsy_vs_normal\\derivatives\\ICA\\sub-00008317\\**\\sub-00008317_ses-001*events.tsv\"\n",
      "  raw = mne_bids.read_raw_bids(bids_path)\n",
      "<ipython-input-4-5b38eb41f93b>:17: RuntimeWarning: Did not find any coordsystem.json associated with sub-00008317_ses-001_task-normal_run-000.\n",
      "\n",
      "The search_str was \"C:\\Users\\patri\\OneDrive - Johns Hopkins\\tuh_epilepsy_vs_normal\\derivatives\\ICA\\sub-00008317\\**\\sub-00008317_ses-001*coordsystem.json\"\n",
      "  raw = mne_bids.read_raw_bids(bids_path)\n"
     ]
    },
    {
     "name": "stdout",
     "output_type": "stream",
     "text": [
      "Extracting parameters from C:\\Users\\patri\\OneDrive - Johns Hopkins\\tuh_epilepsy_vs_normal\\derivatives\\ICA\\sub-00007732\\ses-001\\eeg\\sub-00007732_ses-001_task-normal_run-000_eeg.vhdr...\n",
      "Setting channel info structure...\n",
      "Reading channel info from C:\\Users\\patri\\OneDrive - Johns Hopkins\\tuh_epilepsy_vs_normal\\derivatives\\ICA\\sub-00007732\\ses-001\\eeg\\sub-00007732_ses-001_task-normal_run-000_channels.tsv.\n"
     ]
    },
    {
     "name": "stderr",
     "output_type": "stream",
     "text": [
      "<ipython-input-4-5b38eb41f93b>:17: RuntimeWarning: Did not find any events.tsv associated with sub-00007732_ses-001_task-normal_run-000.\n",
      "\n",
      "The search_str was \"C:\\Users\\patri\\OneDrive - Johns Hopkins\\tuh_epilepsy_vs_normal\\derivatives\\ICA\\sub-00007732\\**\\sub-00007732_ses-001*events.tsv\"\n",
      "  raw = mne_bids.read_raw_bids(bids_path)\n",
      "<ipython-input-4-5b38eb41f93b>:17: RuntimeWarning: Did not find any coordsystem.json associated with sub-00007732_ses-001_task-normal_run-000.\n",
      "\n",
      "The search_str was \"C:\\Users\\patri\\OneDrive - Johns Hopkins\\tuh_epilepsy_vs_normal\\derivatives\\ICA\\sub-00007732\\**\\sub-00007732_ses-001*coordsystem.json\"\n",
      "  raw = mne_bids.read_raw_bids(bids_path)\n"
     ]
    },
    {
     "name": "stdout",
     "output_type": "stream",
     "text": [
      "Extracting parameters from C:\\Users\\patri\\OneDrive - Johns Hopkins\\tuh_epilepsy_vs_normal\\derivatives\\ICA\\sub-00010544\\ses-001\\eeg\\sub-00010544_ses-001_task-normal_run-002_eeg.vhdr...\n",
      "Setting channel info structure...\n",
      "Reading channel info from C:\\Users\\patri\\OneDrive - Johns Hopkins\\tuh_epilepsy_vs_normal\\derivatives\\ICA\\sub-00010544\\ses-001\\eeg\\sub-00010544_ses-001_task-normal_run-002_channels.tsv.\n"
     ]
    },
    {
     "name": "stderr",
     "output_type": "stream",
     "text": [
      "<ipython-input-4-5b38eb41f93b>:17: RuntimeWarning: Did not find any events.tsv associated with sub-00010544_ses-001_task-normal_run-002.\n",
      "\n",
      "The search_str was \"C:\\Users\\patri\\OneDrive - Johns Hopkins\\tuh_epilepsy_vs_normal\\derivatives\\ICA\\sub-00010544\\**\\sub-00010544_ses-001*events.tsv\"\n",
      "  raw = mne_bids.read_raw_bids(bids_path)\n",
      "<ipython-input-4-5b38eb41f93b>:17: RuntimeWarning: Did not find any coordsystem.json associated with sub-00010544_ses-001_task-normal_run-002.\n",
      "\n",
      "The search_str was \"C:\\Users\\patri\\OneDrive - Johns Hopkins\\tuh_epilepsy_vs_normal\\derivatives\\ICA\\sub-00010544\\**\\sub-00010544_ses-001*coordsystem.json\"\n",
      "  raw = mne_bids.read_raw_bids(bids_path)\n"
     ]
    },
    {
     "name": "stdout",
     "output_type": "stream",
     "text": [
      "Extracting parameters from C:\\Users\\patri\\OneDrive - Johns Hopkins\\tuh_epilepsy_vs_normal\\derivatives\\ICA\\sub-00006815\\ses-001\\eeg\\sub-00006815_ses-001_task-normal_run-000_eeg.vhdr...\n",
      "Setting channel info structure...\n",
      "Reading channel info from C:\\Users\\patri\\OneDrive - Johns Hopkins\\tuh_epilepsy_vs_normal\\derivatives\\ICA\\sub-00006815\\ses-001\\eeg\\sub-00006815_ses-001_task-normal_run-000_channels.tsv.\n"
     ]
    },
    {
     "name": "stderr",
     "output_type": "stream",
     "text": [
      "<ipython-input-4-5b38eb41f93b>:17: RuntimeWarning: Did not find any events.tsv associated with sub-00006815_ses-001_task-normal_run-000.\n",
      "\n",
      "The search_str was \"C:\\Users\\patri\\OneDrive - Johns Hopkins\\tuh_epilepsy_vs_normal\\derivatives\\ICA\\sub-00006815\\**\\sub-00006815_ses-001*events.tsv\"\n",
      "  raw = mne_bids.read_raw_bids(bids_path)\n",
      "<ipython-input-4-5b38eb41f93b>:17: RuntimeWarning: Did not find any coordsystem.json associated with sub-00006815_ses-001_task-normal_run-000.\n",
      "\n",
      "The search_str was \"C:\\Users\\patri\\OneDrive - Johns Hopkins\\tuh_epilepsy_vs_normal\\derivatives\\ICA\\sub-00006815\\**\\sub-00006815_ses-001*coordsystem.json\"\n",
      "  raw = mne_bids.read_raw_bids(bids_path)\n"
     ]
    },
    {
     "name": "stdout",
     "output_type": "stream",
     "text": [
      "Extracting parameters from C:\\Users\\patri\\OneDrive - Johns Hopkins\\tuh_epilepsy_vs_normal\\derivatives\\ICA\\sub-00009853\\ses-001\\eeg\\sub-00009853_ses-001_task-normal_run-000_eeg.vhdr...\n",
      "Setting channel info structure...\n",
      "Reading channel info from C:\\Users\\patri\\OneDrive - Johns Hopkins\\tuh_epilepsy_vs_normal\\derivatives\\ICA\\sub-00009853\\ses-001\\eeg\\sub-00009853_ses-001_task-normal_run-000_channels.tsv.\n"
     ]
    },
    {
     "name": "stderr",
     "output_type": "stream",
     "text": [
      "<ipython-input-4-5b38eb41f93b>:17: RuntimeWarning: Did not find any events.tsv associated with sub-00009853_ses-001_task-normal_run-000.\n",
      "\n",
      "The search_str was \"C:\\Users\\patri\\OneDrive - Johns Hopkins\\tuh_epilepsy_vs_normal\\derivatives\\ICA\\sub-00009853\\**\\sub-00009853_ses-001*events.tsv\"\n",
      "  raw = mne_bids.read_raw_bids(bids_path)\n",
      "<ipython-input-4-5b38eb41f93b>:17: RuntimeWarning: Did not find any coordsystem.json associated with sub-00009853_ses-001_task-normal_run-000.\n",
      "\n",
      "The search_str was \"C:\\Users\\patri\\OneDrive - Johns Hopkins\\tuh_epilepsy_vs_normal\\derivatives\\ICA\\sub-00009853\\**\\sub-00009853_ses-001*coordsystem.json\"\n",
      "  raw = mne_bids.read_raw_bids(bids_path)\n"
     ]
    },
    {
     "name": "stdout",
     "output_type": "stream",
     "text": [
      "Extracting parameters from C:\\Users\\patri\\OneDrive - Johns Hopkins\\tuh_epilepsy_vs_normal\\derivatives\\ICA\\sub-00007073\\ses-001\\eeg\\sub-00007073_ses-001_task-normal_run-000_eeg.vhdr...\n",
      "Setting channel info structure...\n",
      "Reading channel info from C:\\Users\\patri\\OneDrive - Johns Hopkins\\tuh_epilepsy_vs_normal\\derivatives\\ICA\\sub-00007073\\ses-001\\eeg\\sub-00007073_ses-001_task-normal_run-000_channels.tsv.\n"
     ]
    },
    {
     "name": "stderr",
     "output_type": "stream",
     "text": [
      "<ipython-input-4-5b38eb41f93b>:17: RuntimeWarning: Did not find any events.tsv associated with sub-00007073_ses-001_task-normal_run-000.\n",
      "\n",
      "The search_str was \"C:\\Users\\patri\\OneDrive - Johns Hopkins\\tuh_epilepsy_vs_normal\\derivatives\\ICA\\sub-00007073\\**\\sub-00007073_ses-001*events.tsv\"\n",
      "  raw = mne_bids.read_raw_bids(bids_path)\n",
      "<ipython-input-4-5b38eb41f93b>:17: RuntimeWarning: Did not find any coordsystem.json associated with sub-00007073_ses-001_task-normal_run-000.\n",
      "\n",
      "The search_str was \"C:\\Users\\patri\\OneDrive - Johns Hopkins\\tuh_epilepsy_vs_normal\\derivatives\\ICA\\sub-00007073\\**\\sub-00007073_ses-001*coordsystem.json\"\n",
      "  raw = mne_bids.read_raw_bids(bids_path)\n"
     ]
    },
    {
     "name": "stdout",
     "output_type": "stream",
     "text": [
      "Extracting parameters from C:\\Users\\patri\\OneDrive - Johns Hopkins\\tuh_epilepsy_vs_normal\\derivatives\\ICA\\sub-00007848\\ses-001\\eeg\\sub-00007848_ses-001_task-normal_run-001_eeg.vhdr...\n",
      "Setting channel info structure...\n",
      "Reading channel info from C:\\Users\\patri\\OneDrive - Johns Hopkins\\tuh_epilepsy_vs_normal\\derivatives\\ICA\\sub-00007848\\ses-001\\eeg\\sub-00007848_ses-001_task-normal_run-001_channels.tsv.\n"
     ]
    },
    {
     "name": "stderr",
     "output_type": "stream",
     "text": [
      "<ipython-input-4-5b38eb41f93b>:17: RuntimeWarning: Did not find any events.tsv associated with sub-00007848_ses-001_task-normal_run-001.\n",
      "\n",
      "The search_str was \"C:\\Users\\patri\\OneDrive - Johns Hopkins\\tuh_epilepsy_vs_normal\\derivatives\\ICA\\sub-00007848\\**\\sub-00007848_ses-001*events.tsv\"\n",
      "  raw = mne_bids.read_raw_bids(bids_path)\n",
      "<ipython-input-4-5b38eb41f93b>:17: RuntimeWarning: Did not find any coordsystem.json associated with sub-00007848_ses-001_task-normal_run-001.\n",
      "\n",
      "The search_str was \"C:\\Users\\patri\\OneDrive - Johns Hopkins\\tuh_epilepsy_vs_normal\\derivatives\\ICA\\sub-00007848\\**\\sub-00007848_ses-001*coordsystem.json\"\n",
      "  raw = mne_bids.read_raw_bids(bids_path)\n"
     ]
    },
    {
     "name": "stdout",
     "output_type": "stream",
     "text": [
      "Extracting parameters from C:\\Users\\patri\\OneDrive - Johns Hopkins\\tuh_epilepsy_vs_normal\\derivatives\\ICA\\sub-00003612\\ses-001\\eeg\\sub-00003612_ses-001_task-normal_run-000_eeg.vhdr...\n",
      "Setting channel info structure...\n",
      "Reading channel info from C:\\Users\\patri\\OneDrive - Johns Hopkins\\tuh_epilepsy_vs_normal\\derivatives\\ICA\\sub-00003612\\ses-001\\eeg\\sub-00003612_ses-001_task-normal_run-000_channels.tsv.\n"
     ]
    },
    {
     "name": "stderr",
     "output_type": "stream",
     "text": [
      "<ipython-input-4-5b38eb41f93b>:17: RuntimeWarning: Did not find any events.tsv associated with sub-00003612_ses-001_task-normal_run-000.\n",
      "\n",
      "The search_str was \"C:\\Users\\patri\\OneDrive - Johns Hopkins\\tuh_epilepsy_vs_normal\\derivatives\\ICA\\sub-00003612\\**\\sub-00003612_ses-001*events.tsv\"\n",
      "  raw = mne_bids.read_raw_bids(bids_path)\n",
      "<ipython-input-4-5b38eb41f93b>:17: RuntimeWarning: Did not find any coordsystem.json associated with sub-00003612_ses-001_task-normal_run-000.\n",
      "\n",
      "The search_str was \"C:\\Users\\patri\\OneDrive - Johns Hopkins\\tuh_epilepsy_vs_normal\\derivatives\\ICA\\sub-00003612\\**\\sub-00003612_ses-001*coordsystem.json\"\n",
      "  raw = mne_bids.read_raw_bids(bids_path)\n"
     ]
    },
    {
     "name": "stdout",
     "output_type": "stream",
     "text": [
      "Extracting parameters from C:\\Users\\patri\\OneDrive - Johns Hopkins\\tuh_epilepsy_vs_normal\\derivatives\\ICA\\sub-00009583\\ses-001\\eeg\\sub-00009583_ses-001_task-normal_run-000_eeg.vhdr...\n",
      "Setting channel info structure...\n",
      "Reading channel info from C:\\Users\\patri\\OneDrive - Johns Hopkins\\tuh_epilepsy_vs_normal\\derivatives\\ICA\\sub-00009583\\ses-001\\eeg\\sub-00009583_ses-001_task-normal_run-000_channels.tsv.\n"
     ]
    },
    {
     "name": "stderr",
     "output_type": "stream",
     "text": [
      "<ipython-input-4-5b38eb41f93b>:17: RuntimeWarning: Did not find any events.tsv associated with sub-00009583_ses-001_task-normal_run-000.\n",
      "\n",
      "The search_str was \"C:\\Users\\patri\\OneDrive - Johns Hopkins\\tuh_epilepsy_vs_normal\\derivatives\\ICA\\sub-00009583\\**\\sub-00009583_ses-001*events.tsv\"\n",
      "  raw = mne_bids.read_raw_bids(bids_path)\n",
      "<ipython-input-4-5b38eb41f93b>:17: RuntimeWarning: Did not find any coordsystem.json associated with sub-00009583_ses-001_task-normal_run-000.\n",
      "\n",
      "The search_str was \"C:\\Users\\patri\\OneDrive - Johns Hopkins\\tuh_epilepsy_vs_normal\\derivatives\\ICA\\sub-00009583\\**\\sub-00009583_ses-001*coordsystem.json\"\n",
      "  raw = mne_bids.read_raw_bids(bids_path)\n"
     ]
    },
    {
     "name": "stdout",
     "output_type": "stream",
     "text": [
      "Extracting parameters from C:\\Users\\patri\\OneDrive - Johns Hopkins\\tuh_epilepsy_vs_normal\\derivatives\\ICA\\sub-00009910\\ses-001\\eeg\\sub-00009910_ses-001_task-normal_run-000_eeg.vhdr...\n",
      "Setting channel info structure...\n",
      "Reading channel info from C:\\Users\\patri\\OneDrive - Johns Hopkins\\tuh_epilepsy_vs_normal\\derivatives\\ICA\\sub-00009910\\ses-001\\eeg\\sub-00009910_ses-001_task-normal_run-000_channels.tsv.\n"
     ]
    },
    {
     "name": "stderr",
     "output_type": "stream",
     "text": [
      "<ipython-input-4-5b38eb41f93b>:17: RuntimeWarning: Did not find any events.tsv associated with sub-00009910_ses-001_task-normal_run-000.\n",
      "\n",
      "The search_str was \"C:\\Users\\patri\\OneDrive - Johns Hopkins\\tuh_epilepsy_vs_normal\\derivatives\\ICA\\sub-00009910\\**\\sub-00009910_ses-001*events.tsv\"\n",
      "  raw = mne_bids.read_raw_bids(bids_path)\n",
      "<ipython-input-4-5b38eb41f93b>:17: RuntimeWarning: Did not find any coordsystem.json associated with sub-00009910_ses-001_task-normal_run-000.\n",
      "\n",
      "The search_str was \"C:\\Users\\patri\\OneDrive - Johns Hopkins\\tuh_epilepsy_vs_normal\\derivatives\\ICA\\sub-00009910\\**\\sub-00009910_ses-001*coordsystem.json\"\n",
      "  raw = mne_bids.read_raw_bids(bids_path)\n"
     ]
    },
    {
     "name": "stdout",
     "output_type": "stream",
     "text": [
      "Extracting parameters from C:\\Users\\patri\\OneDrive - Johns Hopkins\\tuh_epilepsy_vs_normal\\derivatives\\ICA\\sub-00006538\\ses-001\\eeg\\sub-00006538_ses-001_task-normal_run-000_eeg.vhdr...\n",
      "Setting channel info structure...\n",
      "Reading channel info from C:\\Users\\patri\\OneDrive - Johns Hopkins\\tuh_epilepsy_vs_normal\\derivatives\\ICA\\sub-00006538\\ses-001\\eeg\\sub-00006538_ses-001_task-normal_run-000_channels.tsv.\n"
     ]
    },
    {
     "name": "stderr",
     "output_type": "stream",
     "text": [
      "<ipython-input-4-5b38eb41f93b>:17: RuntimeWarning: Did not find any events.tsv associated with sub-00006538_ses-001_task-normal_run-000.\n",
      "\n",
      "The search_str was \"C:\\Users\\patri\\OneDrive - Johns Hopkins\\tuh_epilepsy_vs_normal\\derivatives\\ICA\\sub-00006538\\**\\sub-00006538_ses-001*events.tsv\"\n",
      "  raw = mne_bids.read_raw_bids(bids_path)\n",
      "<ipython-input-4-5b38eb41f93b>:17: RuntimeWarning: Did not find any coordsystem.json associated with sub-00006538_ses-001_task-normal_run-000.\n",
      "\n",
      "The search_str was \"C:\\Users\\patri\\OneDrive - Johns Hopkins\\tuh_epilepsy_vs_normal\\derivatives\\ICA\\sub-00006538\\**\\sub-00006538_ses-001*coordsystem.json\"\n",
      "  raw = mne_bids.read_raw_bids(bids_path)\n"
     ]
    },
    {
     "name": "stdout",
     "output_type": "stream",
     "text": [
      "Extracting parameters from C:\\Users\\patri\\OneDrive - Johns Hopkins\\tuh_epilepsy_vs_normal\\derivatives\\ICA\\sub-00008066\\ses-001\\eeg\\sub-00008066_ses-001_task-normal_run-001_eeg.vhdr...\n",
      "Setting channel info structure...\n",
      "Reading channel info from C:\\Users\\patri\\OneDrive - Johns Hopkins\\tuh_epilepsy_vs_normal\\derivatives\\ICA\\sub-00008066\\ses-001\\eeg\\sub-00008066_ses-001_task-normal_run-001_channels.tsv.\n"
     ]
    },
    {
     "name": "stderr",
     "output_type": "stream",
     "text": [
      "<ipython-input-4-5b38eb41f93b>:17: RuntimeWarning: Did not find any events.tsv associated with sub-00008066_ses-001_task-normal_run-001.\n",
      "\n",
      "The search_str was \"C:\\Users\\patri\\OneDrive - Johns Hopkins\\tuh_epilepsy_vs_normal\\derivatives\\ICA\\sub-00008066\\**\\sub-00008066_ses-001*events.tsv\"\n",
      "  raw = mne_bids.read_raw_bids(bids_path)\n",
      "<ipython-input-4-5b38eb41f93b>:17: RuntimeWarning: Did not find any coordsystem.json associated with sub-00008066_ses-001_task-normal_run-001.\n",
      "\n",
      "The search_str was \"C:\\Users\\patri\\OneDrive - Johns Hopkins\\tuh_epilepsy_vs_normal\\derivatives\\ICA\\sub-00008066\\**\\sub-00008066_ses-001*coordsystem.json\"\n",
      "  raw = mne_bids.read_raw_bids(bids_path)\n"
     ]
    },
    {
     "name": "stdout",
     "output_type": "stream",
     "text": [
      "Extracting parameters from C:\\Users\\patri\\OneDrive - Johns Hopkins\\tuh_epilepsy_vs_normal\\derivatives\\ICA\\sub-00005573\\ses-001\\eeg\\sub-00005573_ses-001_task-normal_run-000_eeg.vhdr...\n",
      "Setting channel info structure...\n",
      "Reading channel info from C:\\Users\\patri\\OneDrive - Johns Hopkins\\tuh_epilepsy_vs_normal\\derivatives\\ICA\\sub-00005573\\ses-001\\eeg\\sub-00005573_ses-001_task-normal_run-000_channels.tsv.\n"
     ]
    },
    {
     "name": "stderr",
     "output_type": "stream",
     "text": [
      "<ipython-input-4-5b38eb41f93b>:17: RuntimeWarning: Did not find any events.tsv associated with sub-00005573_ses-001_task-normal_run-000.\n",
      "\n",
      "The search_str was \"C:\\Users\\patri\\OneDrive - Johns Hopkins\\tuh_epilepsy_vs_normal\\derivatives\\ICA\\sub-00005573\\**\\sub-00005573_ses-001*events.tsv\"\n",
      "  raw = mne_bids.read_raw_bids(bids_path)\n",
      "<ipython-input-4-5b38eb41f93b>:17: RuntimeWarning: Did not find any coordsystem.json associated with sub-00005573_ses-001_task-normal_run-000.\n",
      "\n",
      "The search_str was \"C:\\Users\\patri\\OneDrive - Johns Hopkins\\tuh_epilepsy_vs_normal\\derivatives\\ICA\\sub-00005573\\**\\sub-00005573_ses-001*coordsystem.json\"\n",
      "  raw = mne_bids.read_raw_bids(bids_path)\n"
     ]
    },
    {
     "name": "stdout",
     "output_type": "stream",
     "text": [
      "Extracting parameters from C:\\Users\\patri\\OneDrive - Johns Hopkins\\tuh_epilepsy_vs_normal\\derivatives\\ICA\\sub-00009147\\ses-001\\eeg\\sub-00009147_ses-001_task-normal_run-000_eeg.vhdr...\n",
      "Setting channel info structure...\n",
      "Reading channel info from C:\\Users\\patri\\OneDrive - Johns Hopkins\\tuh_epilepsy_vs_normal\\derivatives\\ICA\\sub-00009147\\ses-001\\eeg\\sub-00009147_ses-001_task-normal_run-000_channels.tsv.\n"
     ]
    },
    {
     "name": "stderr",
     "output_type": "stream",
     "text": [
      "<ipython-input-4-5b38eb41f93b>:17: RuntimeWarning: Did not find any events.tsv associated with sub-00009147_ses-001_task-normal_run-000.\n",
      "\n",
      "The search_str was \"C:\\Users\\patri\\OneDrive - Johns Hopkins\\tuh_epilepsy_vs_normal\\derivatives\\ICA\\sub-00009147\\**\\sub-00009147_ses-001*events.tsv\"\n",
      "  raw = mne_bids.read_raw_bids(bids_path)\n",
      "<ipython-input-4-5b38eb41f93b>:17: RuntimeWarning: Did not find any coordsystem.json associated with sub-00009147_ses-001_task-normal_run-000.\n",
      "\n",
      "The search_str was \"C:\\Users\\patri\\OneDrive - Johns Hopkins\\tuh_epilepsy_vs_normal\\derivatives\\ICA\\sub-00009147\\**\\sub-00009147_ses-001*coordsystem.json\"\n",
      "  raw = mne_bids.read_raw_bids(bids_path)\n"
     ]
    },
    {
     "name": "stdout",
     "output_type": "stream",
     "text": [
      "Extracting parameters from C:\\Users\\patri\\OneDrive - Johns Hopkins\\tuh_epilepsy_vs_normal\\derivatives\\ICA\\sub-00009375\\ses-001\\eeg\\sub-00009375_ses-001_task-normal_run-000_eeg.vhdr...\n",
      "Setting channel info structure...\n",
      "Reading channel info from C:\\Users\\patri\\OneDrive - Johns Hopkins\\tuh_epilepsy_vs_normal\\derivatives\\ICA\\sub-00009375\\ses-001\\eeg\\sub-00009375_ses-001_task-normal_run-000_channels.tsv.\n"
     ]
    },
    {
     "name": "stderr",
     "output_type": "stream",
     "text": [
      "<ipython-input-4-5b38eb41f93b>:17: RuntimeWarning: Did not find any events.tsv associated with sub-00009375_ses-001_task-normal_run-000.\n",
      "\n",
      "The search_str was \"C:\\Users\\patri\\OneDrive - Johns Hopkins\\tuh_epilepsy_vs_normal\\derivatives\\ICA\\sub-00009375\\**\\sub-00009375_ses-001*events.tsv\"\n",
      "  raw = mne_bids.read_raw_bids(bids_path)\n",
      "<ipython-input-4-5b38eb41f93b>:17: RuntimeWarning: Did not find any coordsystem.json associated with sub-00009375_ses-001_task-normal_run-000.\n",
      "\n",
      "The search_str was \"C:\\Users\\patri\\OneDrive - Johns Hopkins\\tuh_epilepsy_vs_normal\\derivatives\\ICA\\sub-00009375\\**\\sub-00009375_ses-001*coordsystem.json\"\n",
      "  raw = mne_bids.read_raw_bids(bids_path)\n"
     ]
    },
    {
     "name": "stdout",
     "output_type": "stream",
     "text": [
      "Extracting parameters from C:\\Users\\patri\\OneDrive - Johns Hopkins\\tuh_epilepsy_vs_normal\\derivatives\\ICA\\sub-00007671\\ses-001\\eeg\\sub-00007671_ses-001_task-normal_run-000_eeg.vhdr...\n",
      "Setting channel info structure...\n",
      "Reading channel info from C:\\Users\\patri\\OneDrive - Johns Hopkins\\tuh_epilepsy_vs_normal\\derivatives\\ICA\\sub-00007671\\ses-001\\eeg\\sub-00007671_ses-001_task-normal_run-000_channels.tsv.\n"
     ]
    },
    {
     "name": "stderr",
     "output_type": "stream",
     "text": [
      "<ipython-input-4-5b38eb41f93b>:17: RuntimeWarning: Did not find any events.tsv associated with sub-00007671_ses-001_task-normal_run-000.\n",
      "\n",
      "The search_str was \"C:\\Users\\patri\\OneDrive - Johns Hopkins\\tuh_epilepsy_vs_normal\\derivatives\\ICA\\sub-00007671\\**\\sub-00007671_ses-001*events.tsv\"\n",
      "  raw = mne_bids.read_raw_bids(bids_path)\n",
      "<ipython-input-4-5b38eb41f93b>:17: RuntimeWarning: Did not find any coordsystem.json associated with sub-00007671_ses-001_task-normal_run-000.\n",
      "\n",
      "The search_str was \"C:\\Users\\patri\\OneDrive - Johns Hopkins\\tuh_epilepsy_vs_normal\\derivatives\\ICA\\sub-00007671\\**\\sub-00007671_ses-001*coordsystem.json\"\n",
      "  raw = mne_bids.read_raw_bids(bids_path)\n"
     ]
    },
    {
     "name": "stdout",
     "output_type": "stream",
     "text": [
      "Extracting parameters from C:\\Users\\patri\\OneDrive - Johns Hopkins\\tuh_epilepsy_vs_normal\\derivatives\\ICA\\sub-00007026\\ses-001\\eeg\\sub-00007026_ses-001_task-normal_run-000_eeg.vhdr...\n",
      "Setting channel info structure...\n",
      "Reading channel info from C:\\Users\\patri\\OneDrive - Johns Hopkins\\tuh_epilepsy_vs_normal\\derivatives\\ICA\\sub-00007026\\ses-001\\eeg\\sub-00007026_ses-001_task-normal_run-000_channels.tsv.\n"
     ]
    },
    {
     "name": "stderr",
     "output_type": "stream",
     "text": [
      "<ipython-input-4-5b38eb41f93b>:17: RuntimeWarning: Did not find any events.tsv associated with sub-00007026_ses-001_task-normal_run-000.\n",
      "\n",
      "The search_str was \"C:\\Users\\patri\\OneDrive - Johns Hopkins\\tuh_epilepsy_vs_normal\\derivatives\\ICA\\sub-00007026\\**\\sub-00007026_ses-001*events.tsv\"\n",
      "  raw = mne_bids.read_raw_bids(bids_path)\n",
      "<ipython-input-4-5b38eb41f93b>:17: RuntimeWarning: Did not find any coordsystem.json associated with sub-00007026_ses-001_task-normal_run-000.\n",
      "\n",
      "The search_str was \"C:\\Users\\patri\\OneDrive - Johns Hopkins\\tuh_epilepsy_vs_normal\\derivatives\\ICA\\sub-00007026\\**\\sub-00007026_ses-001*coordsystem.json\"\n",
      "  raw = mne_bids.read_raw_bids(bids_path)\n"
     ]
    },
    {
     "name": "stdout",
     "output_type": "stream",
     "text": [
      "Extracting parameters from C:\\Users\\patri\\OneDrive - Johns Hopkins\\tuh_epilepsy_vs_normal\\derivatives\\ICA\\sub-00007021\\ses-001\\eeg\\sub-00007021_ses-001_task-normal_run-000_eeg.vhdr...\n",
      "Setting channel info structure...\n",
      "Reading channel info from C:\\Users\\patri\\OneDrive - Johns Hopkins\\tuh_epilepsy_vs_normal\\derivatives\\ICA\\sub-00007021\\ses-001\\eeg\\sub-00007021_ses-001_task-normal_run-000_channels.tsv.\n"
     ]
    },
    {
     "name": "stderr",
     "output_type": "stream",
     "text": [
      "<ipython-input-4-5b38eb41f93b>:17: RuntimeWarning: Did not find any events.tsv associated with sub-00007021_ses-001_task-normal_run-000.\n",
      "\n",
      "The search_str was \"C:\\Users\\patri\\OneDrive - Johns Hopkins\\tuh_epilepsy_vs_normal\\derivatives\\ICA\\sub-00007021\\**\\sub-00007021_ses-001*events.tsv\"\n",
      "  raw = mne_bids.read_raw_bids(bids_path)\n",
      "<ipython-input-4-5b38eb41f93b>:17: RuntimeWarning: Did not find any coordsystem.json associated with sub-00007021_ses-001_task-normal_run-000.\n",
      "\n",
      "The search_str was \"C:\\Users\\patri\\OneDrive - Johns Hopkins\\tuh_epilepsy_vs_normal\\derivatives\\ICA\\sub-00007021\\**\\sub-00007021_ses-001*coordsystem.json\"\n",
      "  raw = mne_bids.read_raw_bids(bids_path)\n"
     ]
    },
    {
     "name": "stdout",
     "output_type": "stream",
     "text": [
      "Extracting parameters from C:\\Users\\patri\\OneDrive - Johns Hopkins\\tuh_epilepsy_vs_normal\\derivatives\\ICA\\sub-00009945\\ses-001\\eeg\\sub-00009945_ses-001_task-normal_run-000_eeg.vhdr...\n",
      "Setting channel info structure...\n",
      "Reading channel info from C:\\Users\\patri\\OneDrive - Johns Hopkins\\tuh_epilepsy_vs_normal\\derivatives\\ICA\\sub-00009945\\ses-001\\eeg\\sub-00009945_ses-001_task-normal_run-000_channels.tsv.\n"
     ]
    },
    {
     "name": "stderr",
     "output_type": "stream",
     "text": [
      "<ipython-input-4-5b38eb41f93b>:17: RuntimeWarning: Did not find any events.tsv associated with sub-00009945_ses-001_task-normal_run-000.\n",
      "\n",
      "The search_str was \"C:\\Users\\patri\\OneDrive - Johns Hopkins\\tuh_epilepsy_vs_normal\\derivatives\\ICA\\sub-00009945\\**\\sub-00009945_ses-001*events.tsv\"\n",
      "  raw = mne_bids.read_raw_bids(bids_path)\n",
      "<ipython-input-4-5b38eb41f93b>:17: RuntimeWarning: Did not find any coordsystem.json associated with sub-00009945_ses-001_task-normal_run-000.\n",
      "\n",
      "The search_str was \"C:\\Users\\patri\\OneDrive - Johns Hopkins\\tuh_epilepsy_vs_normal\\derivatives\\ICA\\sub-00009945\\**\\sub-00009945_ses-001*coordsystem.json\"\n",
      "  raw = mne_bids.read_raw_bids(bids_path)\n"
     ]
    },
    {
     "name": "stdout",
     "output_type": "stream",
     "text": [
      "Extracting parameters from C:\\Users\\patri\\OneDrive - Johns Hopkins\\tuh_epilepsy_vs_normal\\derivatives\\ICA\\sub-00010292\\ses-001\\eeg\\sub-00010292_ses-001_task-normal_run-000_eeg.vhdr...\n",
      "Setting channel info structure...\n",
      "Reading channel info from C:\\Users\\patri\\OneDrive - Johns Hopkins\\tuh_epilepsy_vs_normal\\derivatives\\ICA\\sub-00010292\\ses-001\\eeg\\sub-00010292_ses-001_task-normal_run-000_channels.tsv.\n"
     ]
    },
    {
     "name": "stderr",
     "output_type": "stream",
     "text": [
      "<ipython-input-4-5b38eb41f93b>:17: RuntimeWarning: Did not find any events.tsv associated with sub-00010292_ses-001_task-normal_run-000.\n",
      "\n",
      "The search_str was \"C:\\Users\\patri\\OneDrive - Johns Hopkins\\tuh_epilepsy_vs_normal\\derivatives\\ICA\\sub-00010292\\**\\sub-00010292_ses-001*events.tsv\"\n",
      "  raw = mne_bids.read_raw_bids(bids_path)\n",
      "<ipython-input-4-5b38eb41f93b>:17: RuntimeWarning: Did not find any coordsystem.json associated with sub-00010292_ses-001_task-normal_run-000.\n",
      "\n",
      "The search_str was \"C:\\Users\\patri\\OneDrive - Johns Hopkins\\tuh_epilepsy_vs_normal\\derivatives\\ICA\\sub-00010292\\**\\sub-00010292_ses-001*coordsystem.json\"\n",
      "  raw = mne_bids.read_raw_bids(bids_path)\n"
     ]
    },
    {
     "name": "stdout",
     "output_type": "stream",
     "text": [
      "Extracting parameters from C:\\Users\\patri\\OneDrive - Johns Hopkins\\tuh_epilepsy_vs_normal\\derivatives\\ICA\\sub-00009710\\ses-001\\eeg\\sub-00009710_ses-001_task-normal_run-000_eeg.vhdr...\n",
      "Setting channel info structure...\n",
      "Reading channel info from C:\\Users\\patri\\OneDrive - Johns Hopkins\\tuh_epilepsy_vs_normal\\derivatives\\ICA\\sub-00009710\\ses-001\\eeg\\sub-00009710_ses-001_task-normal_run-000_channels.tsv.\n"
     ]
    },
    {
     "name": "stderr",
     "output_type": "stream",
     "text": [
      "<ipython-input-4-5b38eb41f93b>:17: RuntimeWarning: Did not find any events.tsv associated with sub-00009710_ses-001_task-normal_run-000.\n",
      "\n",
      "The search_str was \"C:\\Users\\patri\\OneDrive - Johns Hopkins\\tuh_epilepsy_vs_normal\\derivatives\\ICA\\sub-00009710\\**\\sub-00009710_ses-001*events.tsv\"\n",
      "  raw = mne_bids.read_raw_bids(bids_path)\n",
      "<ipython-input-4-5b38eb41f93b>:17: RuntimeWarning: Did not find any coordsystem.json associated with sub-00009710_ses-001_task-normal_run-000.\n",
      "\n",
      "The search_str was \"C:\\Users\\patri\\OneDrive - Johns Hopkins\\tuh_epilepsy_vs_normal\\derivatives\\ICA\\sub-00009710\\**\\sub-00009710_ses-001*coordsystem.json\"\n",
      "  raw = mne_bids.read_raw_bids(bids_path)\n"
     ]
    },
    {
     "name": "stdout",
     "output_type": "stream",
     "text": [
      "Extracting parameters from C:\\Users\\patri\\OneDrive - Johns Hopkins\\tuh_epilepsy_vs_normal\\derivatives\\ICA\\sub-00006917\\ses-001\\eeg\\sub-00006917_ses-001_task-normal_run-000_eeg.vhdr...\n",
      "Setting channel info structure...\n",
      "Reading channel info from C:\\Users\\patri\\OneDrive - Johns Hopkins\\tuh_epilepsy_vs_normal\\derivatives\\ICA\\sub-00006917\\ses-001\\eeg\\sub-00006917_ses-001_task-normal_run-000_channels.tsv.\n"
     ]
    },
    {
     "name": "stderr",
     "output_type": "stream",
     "text": [
      "<ipython-input-4-5b38eb41f93b>:17: RuntimeWarning: Did not find any events.tsv associated with sub-00006917_ses-001_task-normal_run-000.\n",
      "\n",
      "The search_str was \"C:\\Users\\patri\\OneDrive - Johns Hopkins\\tuh_epilepsy_vs_normal\\derivatives\\ICA\\sub-00006917\\**\\sub-00006917_ses-001*events.tsv\"\n",
      "  raw = mne_bids.read_raw_bids(bids_path)\n",
      "<ipython-input-4-5b38eb41f93b>:17: RuntimeWarning: Did not find any coordsystem.json associated with sub-00006917_ses-001_task-normal_run-000.\n",
      "\n",
      "The search_str was \"C:\\Users\\patri\\OneDrive - Johns Hopkins\\tuh_epilepsy_vs_normal\\derivatives\\ICA\\sub-00006917\\**\\sub-00006917_ses-001*coordsystem.json\"\n",
      "  raw = mne_bids.read_raw_bids(bids_path)\n"
     ]
    },
    {
     "name": "stdout",
     "output_type": "stream",
     "text": [
      "Extracting parameters from C:\\Users\\patri\\OneDrive - Johns Hopkins\\tuh_epilepsy_vs_normal\\derivatives\\ICA\\sub-00010085\\ses-001\\eeg\\sub-00010085_ses-001_task-normal_run-001_eeg.vhdr...\n",
      "Setting channel info structure...\n",
      "Reading channel info from C:\\Users\\patri\\OneDrive - Johns Hopkins\\tuh_epilepsy_vs_normal\\derivatives\\ICA\\sub-00010085\\ses-001\\eeg\\sub-00010085_ses-001_task-normal_run-001_channels.tsv.\n"
     ]
    },
    {
     "name": "stderr",
     "output_type": "stream",
     "text": [
      "<ipython-input-4-5b38eb41f93b>:17: RuntimeWarning: Did not find any events.tsv associated with sub-00010085_ses-001_task-normal_run-001.\n",
      "\n",
      "The search_str was \"C:\\Users\\patri\\OneDrive - Johns Hopkins\\tuh_epilepsy_vs_normal\\derivatives\\ICA\\sub-00010085\\**\\sub-00010085_ses-001*events.tsv\"\n",
      "  raw = mne_bids.read_raw_bids(bids_path)\n",
      "<ipython-input-4-5b38eb41f93b>:17: RuntimeWarning: Did not find any coordsystem.json associated with sub-00010085_ses-001_task-normal_run-001.\n",
      "\n",
      "The search_str was \"C:\\Users\\patri\\OneDrive - Johns Hopkins\\tuh_epilepsy_vs_normal\\derivatives\\ICA\\sub-00010085\\**\\sub-00010085_ses-001*coordsystem.json\"\n",
      "  raw = mne_bids.read_raw_bids(bids_path)\n"
     ]
    },
    {
     "name": "stdout",
     "output_type": "stream",
     "text": [
      "Extracting parameters from C:\\Users\\patri\\OneDrive - Johns Hopkins\\tuh_epilepsy_vs_normal\\derivatives\\ICA\\sub-00010620\\ses-001\\eeg\\sub-00010620_ses-001_task-normal_run-000_eeg.vhdr...\n",
      "Setting channel info structure...\n",
      "Reading channel info from C:\\Users\\patri\\OneDrive - Johns Hopkins\\tuh_epilepsy_vs_normal\\derivatives\\ICA\\sub-00010620\\ses-001\\eeg\\sub-00010620_ses-001_task-normal_run-000_channels.tsv.\n"
     ]
    },
    {
     "name": "stderr",
     "output_type": "stream",
     "text": [
      "<ipython-input-4-5b38eb41f93b>:17: RuntimeWarning: Did not find any events.tsv associated with sub-00010620_ses-001_task-normal_run-000.\n",
      "\n",
      "The search_str was \"C:\\Users\\patri\\OneDrive - Johns Hopkins\\tuh_epilepsy_vs_normal\\derivatives\\ICA\\sub-00010620\\**\\sub-00010620_ses-001*events.tsv\"\n",
      "  raw = mne_bids.read_raw_bids(bids_path)\n",
      "<ipython-input-4-5b38eb41f93b>:17: RuntimeWarning: Did not find any coordsystem.json associated with sub-00010620_ses-001_task-normal_run-000.\n",
      "\n",
      "The search_str was \"C:\\Users\\patri\\OneDrive - Johns Hopkins\\tuh_epilepsy_vs_normal\\derivatives\\ICA\\sub-00010620\\**\\sub-00010620_ses-001*coordsystem.json\"\n",
      "  raw = mne_bids.read_raw_bids(bids_path)\n"
     ]
    },
    {
     "name": "stdout",
     "output_type": "stream",
     "text": [
      "Extracting parameters from C:\\Users\\patri\\OneDrive - Johns Hopkins\\tuh_epilepsy_vs_normal\\derivatives\\ICA\\sub-00002744\\ses-001\\eeg\\sub-00002744_ses-001_task-normal_run-000_eeg.vhdr...\n",
      "Setting channel info structure...\n",
      "Reading channel info from C:\\Users\\patri\\OneDrive - Johns Hopkins\\tuh_epilepsy_vs_normal\\derivatives\\ICA\\sub-00002744\\ses-001\\eeg\\sub-00002744_ses-001_task-normal_run-000_channels.tsv.\n"
     ]
    },
    {
     "name": "stderr",
     "output_type": "stream",
     "text": [
      "<ipython-input-4-5b38eb41f93b>:17: RuntimeWarning: Did not find any events.tsv associated with sub-00002744_ses-001_task-normal_run-000.\n",
      "\n",
      "The search_str was \"C:\\Users\\patri\\OneDrive - Johns Hopkins\\tuh_epilepsy_vs_normal\\derivatives\\ICA\\sub-00002744\\**\\sub-00002744_ses-001*events.tsv\"\n",
      "  raw = mne_bids.read_raw_bids(bids_path)\n",
      "<ipython-input-4-5b38eb41f93b>:17: RuntimeWarning: Did not find any coordsystem.json associated with sub-00002744_ses-001_task-normal_run-000.\n",
      "\n",
      "The search_str was \"C:\\Users\\patri\\OneDrive - Johns Hopkins\\tuh_epilepsy_vs_normal\\derivatives\\ICA\\sub-00002744\\**\\sub-00002744_ses-001*coordsystem.json\"\n",
      "  raw = mne_bids.read_raw_bids(bids_path)\n"
     ]
    },
    {
     "name": "stdout",
     "output_type": "stream",
     "text": [
      "Extracting parameters from C:\\Users\\patri\\OneDrive - Johns Hopkins\\tuh_epilepsy_vs_normal\\derivatives\\ICA\\sub-00009358\\ses-001\\eeg\\sub-00009358_ses-001_task-normal_run-001_eeg.vhdr...\n",
      "Setting channel info structure...\n",
      "Reading channel info from C:\\Users\\patri\\OneDrive - Johns Hopkins\\tuh_epilepsy_vs_normal\\derivatives\\ICA\\sub-00009358\\ses-001\\eeg\\sub-00009358_ses-001_task-normal_run-001_channels.tsv.\n"
     ]
    },
    {
     "name": "stderr",
     "output_type": "stream",
     "text": [
      "<ipython-input-4-5b38eb41f93b>:17: RuntimeWarning: Did not find any events.tsv associated with sub-00009358_ses-001_task-normal_run-001.\n",
      "\n",
      "The search_str was \"C:\\Users\\patri\\OneDrive - Johns Hopkins\\tuh_epilepsy_vs_normal\\derivatives\\ICA\\sub-00009358\\**\\sub-00009358_ses-001*events.tsv\"\n",
      "  raw = mne_bids.read_raw_bids(bids_path)\n",
      "<ipython-input-4-5b38eb41f93b>:17: RuntimeWarning: Did not find any coordsystem.json associated with sub-00009358_ses-001_task-normal_run-001.\n",
      "\n",
      "The search_str was \"C:\\Users\\patri\\OneDrive - Johns Hopkins\\tuh_epilepsy_vs_normal\\derivatives\\ICA\\sub-00009358\\**\\sub-00009358_ses-001*coordsystem.json\"\n",
      "  raw = mne_bids.read_raw_bids(bids_path)\n"
     ]
    },
    {
     "name": "stdout",
     "output_type": "stream",
     "text": [
      "Extracting parameters from C:\\Users\\patri\\OneDrive - Johns Hopkins\\tuh_epilepsy_vs_normal\\derivatives\\ICA\\sub-00008443\\ses-001\\eeg\\sub-00008443_ses-001_task-normal_run-000_eeg.vhdr...\n",
      "Setting channel info structure...\n",
      "Reading channel info from C:\\Users\\patri\\OneDrive - Johns Hopkins\\tuh_epilepsy_vs_normal\\derivatives\\ICA\\sub-00008443\\ses-001\\eeg\\sub-00008443_ses-001_task-normal_run-000_channels.tsv.\n"
     ]
    },
    {
     "name": "stderr",
     "output_type": "stream",
     "text": [
      "<ipython-input-4-5b38eb41f93b>:17: RuntimeWarning: Did not find any events.tsv associated with sub-00008443_ses-001_task-normal_run-000.\n",
      "\n",
      "The search_str was \"C:\\Users\\patri\\OneDrive - Johns Hopkins\\tuh_epilepsy_vs_normal\\derivatives\\ICA\\sub-00008443\\**\\sub-00008443_ses-001*events.tsv\"\n",
      "  raw = mne_bids.read_raw_bids(bids_path)\n",
      "<ipython-input-4-5b38eb41f93b>:17: RuntimeWarning: Did not find any coordsystem.json associated with sub-00008443_ses-001_task-normal_run-000.\n",
      "\n",
      "The search_str was \"C:\\Users\\patri\\OneDrive - Johns Hopkins\\tuh_epilepsy_vs_normal\\derivatives\\ICA\\sub-00008443\\**\\sub-00008443_ses-001*coordsystem.json\"\n",
      "  raw = mne_bids.read_raw_bids(bids_path)\n"
     ]
    },
    {
     "name": "stdout",
     "output_type": "stream",
     "text": [
      "Extracting parameters from C:\\Users\\patri\\OneDrive - Johns Hopkins\\tuh_epilepsy_vs_normal\\derivatives\\ICA\\sub-00009333\\ses-001\\eeg\\sub-00009333_ses-001_task-normal_run-000_eeg.vhdr...\n",
      "Setting channel info structure...\n",
      "Reading channel info from C:\\Users\\patri\\OneDrive - Johns Hopkins\\tuh_epilepsy_vs_normal\\derivatives\\ICA\\sub-00009333\\ses-001\\eeg\\sub-00009333_ses-001_task-normal_run-000_channels.tsv.\n"
     ]
    },
    {
     "name": "stderr",
     "output_type": "stream",
     "text": [
      "<ipython-input-4-5b38eb41f93b>:17: RuntimeWarning: Did not find any events.tsv associated with sub-00009333_ses-001_task-normal_run-000.\n",
      "\n",
      "The search_str was \"C:\\Users\\patri\\OneDrive - Johns Hopkins\\tuh_epilepsy_vs_normal\\derivatives\\ICA\\sub-00009333\\**\\sub-00009333_ses-001*events.tsv\"\n",
      "  raw = mne_bids.read_raw_bids(bids_path)\n",
      "<ipython-input-4-5b38eb41f93b>:17: RuntimeWarning: Did not find any coordsystem.json associated with sub-00009333_ses-001_task-normal_run-000.\n",
      "\n",
      "The search_str was \"C:\\Users\\patri\\OneDrive - Johns Hopkins\\tuh_epilepsy_vs_normal\\derivatives\\ICA\\sub-00009333\\**\\sub-00009333_ses-001*coordsystem.json\"\n",
      "  raw = mne_bids.read_raw_bids(bids_path)\n"
     ]
    },
    {
     "name": "stdout",
     "output_type": "stream",
     "text": [
      "Extracting parameters from C:\\Users\\patri\\OneDrive - Johns Hopkins\\tuh_epilepsy_vs_normal\\derivatives\\ICA\\sub-00010674\\ses-001\\eeg\\sub-00010674_ses-001_task-normal_run-000_eeg.vhdr...\n",
      "Setting channel info structure...\n",
      "Reading channel info from C:\\Users\\patri\\OneDrive - Johns Hopkins\\tuh_epilepsy_vs_normal\\derivatives\\ICA\\sub-00010674\\ses-001\\eeg\\sub-00010674_ses-001_task-normal_run-000_channels.tsv.\n"
     ]
    },
    {
     "name": "stderr",
     "output_type": "stream",
     "text": [
      "<ipython-input-4-5b38eb41f93b>:17: RuntimeWarning: Did not find any events.tsv associated with sub-00010674_ses-001_task-normal_run-000.\n",
      "\n",
      "The search_str was \"C:\\Users\\patri\\OneDrive - Johns Hopkins\\tuh_epilepsy_vs_normal\\derivatives\\ICA\\sub-00010674\\**\\sub-00010674_ses-001*events.tsv\"\n",
      "  raw = mne_bids.read_raw_bids(bids_path)\n",
      "<ipython-input-4-5b38eb41f93b>:17: RuntimeWarning: Did not find any coordsystem.json associated with sub-00010674_ses-001_task-normal_run-000.\n",
      "\n",
      "The search_str was \"C:\\Users\\patri\\OneDrive - Johns Hopkins\\tuh_epilepsy_vs_normal\\derivatives\\ICA\\sub-00010674\\**\\sub-00010674_ses-001*coordsystem.json\"\n",
      "  raw = mne_bids.read_raw_bids(bids_path)\n"
     ]
    },
    {
     "name": "stdout",
     "output_type": "stream",
     "text": [
      "Extracting parameters from C:\\Users\\patri\\OneDrive - Johns Hopkins\\tuh_epilepsy_vs_normal\\derivatives\\ICA\\sub-00007862\\ses-001\\eeg\\sub-00007862_ses-001_task-normal_run-001_eeg.vhdr...\n",
      "Setting channel info structure...\n",
      "Reading channel info from C:\\Users\\patri\\OneDrive - Johns Hopkins\\tuh_epilepsy_vs_normal\\derivatives\\ICA\\sub-00007862\\ses-001\\eeg\\sub-00007862_ses-001_task-normal_run-001_channels.tsv.\n"
     ]
    },
    {
     "name": "stderr",
     "output_type": "stream",
     "text": [
      "<ipython-input-4-5b38eb41f93b>:17: RuntimeWarning: Did not find any events.tsv associated with sub-00007862_ses-001_task-normal_run-001.\n",
      "\n",
      "The search_str was \"C:\\Users\\patri\\OneDrive - Johns Hopkins\\tuh_epilepsy_vs_normal\\derivatives\\ICA\\sub-00007862\\**\\sub-00007862_ses-001*events.tsv\"\n",
      "  raw = mne_bids.read_raw_bids(bids_path)\n",
      "<ipython-input-4-5b38eb41f93b>:17: RuntimeWarning: Did not find any coordsystem.json associated with sub-00007862_ses-001_task-normal_run-001.\n",
      "\n",
      "The search_str was \"C:\\Users\\patri\\OneDrive - Johns Hopkins\\tuh_epilepsy_vs_normal\\derivatives\\ICA\\sub-00007862\\**\\sub-00007862_ses-001*coordsystem.json\"\n",
      "  raw = mne_bids.read_raw_bids(bids_path)\n"
     ]
    },
    {
     "name": "stdout",
     "output_type": "stream",
     "text": [
      "Extracting parameters from C:\\Users\\patri\\OneDrive - Johns Hopkins\\tuh_epilepsy_vs_normal\\derivatives\\ICA\\sub-00008240\\ses-001\\eeg\\sub-00008240_ses-001_task-normal_run-000_eeg.vhdr...\n",
      "Setting channel info structure...\n",
      "Reading channel info from C:\\Users\\patri\\OneDrive - Johns Hopkins\\tuh_epilepsy_vs_normal\\derivatives\\ICA\\sub-00008240\\ses-001\\eeg\\sub-00008240_ses-001_task-normal_run-000_channels.tsv.\n"
     ]
    },
    {
     "name": "stderr",
     "output_type": "stream",
     "text": [
      "<ipython-input-4-5b38eb41f93b>:17: RuntimeWarning: Did not find any events.tsv associated with sub-00008240_ses-001_task-normal_run-000.\n",
      "\n",
      "The search_str was \"C:\\Users\\patri\\OneDrive - Johns Hopkins\\tuh_epilepsy_vs_normal\\derivatives\\ICA\\sub-00008240\\**\\sub-00008240_ses-001*events.tsv\"\n",
      "  raw = mne_bids.read_raw_bids(bids_path)\n",
      "<ipython-input-4-5b38eb41f93b>:17: RuntimeWarning: Did not find any coordsystem.json associated with sub-00008240_ses-001_task-normal_run-000.\n",
      "\n",
      "The search_str was \"C:\\Users\\patri\\OneDrive - Johns Hopkins\\tuh_epilepsy_vs_normal\\derivatives\\ICA\\sub-00008240\\**\\sub-00008240_ses-001*coordsystem.json\"\n",
      "  raw = mne_bids.read_raw_bids(bids_path)\n"
     ]
    },
    {
     "name": "stdout",
     "output_type": "stream",
     "text": [
      "Extracting parameters from C:\\Users\\patri\\OneDrive - Johns Hopkins\\tuh_epilepsy_vs_normal\\derivatives\\ICA\\sub-00010422\\ses-001\\eeg\\sub-00010422_ses-001_task-normal_run-001_eeg.vhdr...\n",
      "Setting channel info structure...\n",
      "Reading channel info from C:\\Users\\patri\\OneDrive - Johns Hopkins\\tuh_epilepsy_vs_normal\\derivatives\\ICA\\sub-00010422\\ses-001\\eeg\\sub-00010422_ses-001_task-normal_run-001_channels.tsv.\n"
     ]
    },
    {
     "name": "stderr",
     "output_type": "stream",
     "text": [
      "<ipython-input-4-5b38eb41f93b>:17: RuntimeWarning: Did not find any events.tsv associated with sub-00010422_ses-001_task-normal_run-001.\n",
      "\n",
      "The search_str was \"C:\\Users\\patri\\OneDrive - Johns Hopkins\\tuh_epilepsy_vs_normal\\derivatives\\ICA\\sub-00010422\\**\\sub-00010422_ses-001*events.tsv\"\n",
      "  raw = mne_bids.read_raw_bids(bids_path)\n",
      "<ipython-input-4-5b38eb41f93b>:17: RuntimeWarning: Did not find any coordsystem.json associated with sub-00010422_ses-001_task-normal_run-001.\n",
      "\n",
      "The search_str was \"C:\\Users\\patri\\OneDrive - Johns Hopkins\\tuh_epilepsy_vs_normal\\derivatives\\ICA\\sub-00010422\\**\\sub-00010422_ses-001*coordsystem.json\"\n",
      "  raw = mne_bids.read_raw_bids(bids_path)\n"
     ]
    },
    {
     "name": "stdout",
     "output_type": "stream",
     "text": [
      "Extracting parameters from C:\\Users\\patri\\OneDrive - Johns Hopkins\\tuh_epilepsy_vs_normal\\derivatives\\ICA\\sub-00010617\\ses-001\\eeg\\sub-00010617_ses-001_task-normal_run-001_eeg.vhdr...\n",
      "Setting channel info structure...\n",
      "Reading channel info from C:\\Users\\patri\\OneDrive - Johns Hopkins\\tuh_epilepsy_vs_normal\\derivatives\\ICA\\sub-00010617\\ses-001\\eeg\\sub-00010617_ses-001_task-normal_run-001_channels.tsv.\n"
     ]
    },
    {
     "name": "stderr",
     "output_type": "stream",
     "text": [
      "<ipython-input-4-5b38eb41f93b>:17: RuntimeWarning: Did not find any events.tsv associated with sub-00010617_ses-001_task-normal_run-001.\n",
      "\n",
      "The search_str was \"C:\\Users\\patri\\OneDrive - Johns Hopkins\\tuh_epilepsy_vs_normal\\derivatives\\ICA\\sub-00010617\\**\\sub-00010617_ses-001*events.tsv\"\n",
      "  raw = mne_bids.read_raw_bids(bids_path)\n",
      "<ipython-input-4-5b38eb41f93b>:17: RuntimeWarning: Did not find any coordsystem.json associated with sub-00010617_ses-001_task-normal_run-001.\n",
      "\n",
      "The search_str was \"C:\\Users\\patri\\OneDrive - Johns Hopkins\\tuh_epilepsy_vs_normal\\derivatives\\ICA\\sub-00010617\\**\\sub-00010617_ses-001*coordsystem.json\"\n",
      "  raw = mne_bids.read_raw_bids(bids_path)\n"
     ]
    },
    {
     "name": "stdout",
     "output_type": "stream",
     "text": [
      "Extracting parameters from C:\\Users\\patri\\OneDrive - Johns Hopkins\\tuh_epilepsy_vs_normal\\derivatives\\ICA\\sub-00009165\\ses-001\\eeg\\sub-00009165_ses-001_task-normal_run-000_eeg.vhdr...\n",
      "Setting channel info structure...\n",
      "Reading channel info from C:\\Users\\patri\\OneDrive - Johns Hopkins\\tuh_epilepsy_vs_normal\\derivatives\\ICA\\sub-00009165\\ses-001\\eeg\\sub-00009165_ses-001_task-normal_run-000_channels.tsv.\n"
     ]
    },
    {
     "name": "stderr",
     "output_type": "stream",
     "text": [
      "<ipython-input-4-5b38eb41f93b>:17: RuntimeWarning: Did not find any events.tsv associated with sub-00009165_ses-001_task-normal_run-000.\n",
      "\n",
      "The search_str was \"C:\\Users\\patri\\OneDrive - Johns Hopkins\\tuh_epilepsy_vs_normal\\derivatives\\ICA\\sub-00009165\\**\\sub-00009165_ses-001*events.tsv\"\n",
      "  raw = mne_bids.read_raw_bids(bids_path)\n",
      "<ipython-input-4-5b38eb41f93b>:17: RuntimeWarning: Did not find any coordsystem.json associated with sub-00009165_ses-001_task-normal_run-000.\n",
      "\n",
      "The search_str was \"C:\\Users\\patri\\OneDrive - Johns Hopkins\\tuh_epilepsy_vs_normal\\derivatives\\ICA\\sub-00009165\\**\\sub-00009165_ses-001*coordsystem.json\"\n",
      "  raw = mne_bids.read_raw_bids(bids_path)\n"
     ]
    },
    {
     "name": "stdout",
     "output_type": "stream",
     "text": [
      "Extracting parameters from C:\\Users\\patri\\OneDrive - Johns Hopkins\\tuh_epilepsy_vs_normal\\derivatives\\ICA\\sub-00008840\\ses-001\\eeg\\sub-00008840_ses-001_task-normal_run-000_eeg.vhdr...\n",
      "Setting channel info structure...\n",
      "Reading channel info from C:\\Users\\patri\\OneDrive - Johns Hopkins\\tuh_epilepsy_vs_normal\\derivatives\\ICA\\sub-00008840\\ses-001\\eeg\\sub-00008840_ses-001_task-normal_run-000_channels.tsv.\n"
     ]
    },
    {
     "name": "stderr",
     "output_type": "stream",
     "text": [
      "<ipython-input-4-5b38eb41f93b>:17: RuntimeWarning: Did not find any events.tsv associated with sub-00008840_ses-001_task-normal_run-000.\n",
      "\n",
      "The search_str was \"C:\\Users\\patri\\OneDrive - Johns Hopkins\\tuh_epilepsy_vs_normal\\derivatives\\ICA\\sub-00008840\\**\\sub-00008840_ses-001*events.tsv\"\n",
      "  raw = mne_bids.read_raw_bids(bids_path)\n",
      "<ipython-input-4-5b38eb41f93b>:17: RuntimeWarning: Did not find any coordsystem.json associated with sub-00008840_ses-001_task-normal_run-000.\n",
      "\n",
      "The search_str was \"C:\\Users\\patri\\OneDrive - Johns Hopkins\\tuh_epilepsy_vs_normal\\derivatives\\ICA\\sub-00008840\\**\\sub-00008840_ses-001*coordsystem.json\"\n",
      "  raw = mne_bids.read_raw_bids(bids_path)\n"
     ]
    },
    {
     "name": "stdout",
     "output_type": "stream",
     "text": [
      "Extracting parameters from C:\\Users\\patri\\OneDrive - Johns Hopkins\\tuh_epilepsy_vs_normal\\derivatives\\ICA\\sub-00009966\\ses-001\\eeg\\sub-00009966_ses-001_task-normal_run-002_eeg.vhdr...\n",
      "Setting channel info structure...\n",
      "Reading channel info from C:\\Users\\patri\\OneDrive - Johns Hopkins\\tuh_epilepsy_vs_normal\\derivatives\\ICA\\sub-00009966\\ses-001\\eeg\\sub-00009966_ses-001_task-normal_run-002_channels.tsv.\n"
     ]
    },
    {
     "name": "stderr",
     "output_type": "stream",
     "text": [
      "<ipython-input-4-5b38eb41f93b>:17: RuntimeWarning: Did not find any events.tsv associated with sub-00009966_ses-001_task-normal_run-002.\n",
      "\n",
      "The search_str was \"C:\\Users\\patri\\OneDrive - Johns Hopkins\\tuh_epilepsy_vs_normal\\derivatives\\ICA\\sub-00009966\\**\\sub-00009966_ses-001*events.tsv\"\n",
      "  raw = mne_bids.read_raw_bids(bids_path)\n",
      "<ipython-input-4-5b38eb41f93b>:17: RuntimeWarning: Did not find any coordsystem.json associated with sub-00009966_ses-001_task-normal_run-002.\n",
      "\n",
      "The search_str was \"C:\\Users\\patri\\OneDrive - Johns Hopkins\\tuh_epilepsy_vs_normal\\derivatives\\ICA\\sub-00009966\\**\\sub-00009966_ses-001*coordsystem.json\"\n",
      "  raw = mne_bids.read_raw_bids(bids_path)\n"
     ]
    },
    {
     "name": "stdout",
     "output_type": "stream",
     "text": [
      "Extracting parameters from C:\\Users\\patri\\OneDrive - Johns Hopkins\\tuh_epilepsy_vs_normal\\derivatives\\ICA\\sub-00009539\\ses-001\\eeg\\sub-00009539_ses-001_task-normal_run-000_eeg.vhdr...\n",
      "Setting channel info structure...\n",
      "Reading channel info from C:\\Users\\patri\\OneDrive - Johns Hopkins\\tuh_epilepsy_vs_normal\\derivatives\\ICA\\sub-00009539\\ses-001\\eeg\\sub-00009539_ses-001_task-normal_run-000_channels.tsv.\n"
     ]
    },
    {
     "name": "stderr",
     "output_type": "stream",
     "text": [
      "<ipython-input-4-5b38eb41f93b>:17: RuntimeWarning: Did not find any events.tsv associated with sub-00009539_ses-001_task-normal_run-000.\n",
      "\n",
      "The search_str was \"C:\\Users\\patri\\OneDrive - Johns Hopkins\\tuh_epilepsy_vs_normal\\derivatives\\ICA\\sub-00009539\\**\\sub-00009539_ses-001*events.tsv\"\n",
      "  raw = mne_bids.read_raw_bids(bids_path)\n",
      "<ipython-input-4-5b38eb41f93b>:17: RuntimeWarning: Did not find any coordsystem.json associated with sub-00009539_ses-001_task-normal_run-000.\n",
      "\n",
      "The search_str was \"C:\\Users\\patri\\OneDrive - Johns Hopkins\\tuh_epilepsy_vs_normal\\derivatives\\ICA\\sub-00009539\\**\\sub-00009539_ses-001*coordsystem.json\"\n",
      "  raw = mne_bids.read_raw_bids(bids_path)\n"
     ]
    },
    {
     "name": "stdout",
     "output_type": "stream",
     "text": [
      "Extracting parameters from C:\\Users\\patri\\OneDrive - Johns Hopkins\\tuh_epilepsy_vs_normal\\derivatives\\ICA\\sub-00008249\\ses-001\\eeg\\sub-00008249_ses-001_task-normal_run-000_eeg.vhdr...\n",
      "Setting channel info structure...\n",
      "Reading channel info from C:\\Users\\patri\\OneDrive - Johns Hopkins\\tuh_epilepsy_vs_normal\\derivatives\\ICA\\sub-00008249\\ses-001\\eeg\\sub-00008249_ses-001_task-normal_run-000_channels.tsv.\n"
     ]
    },
    {
     "name": "stderr",
     "output_type": "stream",
     "text": [
      "<ipython-input-4-5b38eb41f93b>:17: RuntimeWarning: Did not find any events.tsv associated with sub-00008249_ses-001_task-normal_run-000.\n",
      "\n",
      "The search_str was \"C:\\Users\\patri\\OneDrive - Johns Hopkins\\tuh_epilepsy_vs_normal\\derivatives\\ICA\\sub-00008249\\**\\sub-00008249_ses-001*events.tsv\"\n",
      "  raw = mne_bids.read_raw_bids(bids_path)\n",
      "<ipython-input-4-5b38eb41f93b>:17: RuntimeWarning: Did not find any coordsystem.json associated with sub-00008249_ses-001_task-normal_run-000.\n",
      "\n",
      "The search_str was \"C:\\Users\\patri\\OneDrive - Johns Hopkins\\tuh_epilepsy_vs_normal\\derivatives\\ICA\\sub-00008249\\**\\sub-00008249_ses-001*coordsystem.json\"\n",
      "  raw = mne_bids.read_raw_bids(bids_path)\n"
     ]
    },
    {
     "name": "stdout",
     "output_type": "stream",
     "text": [
      "Extracting parameters from C:\\Users\\patri\\OneDrive - Johns Hopkins\\tuh_epilepsy_vs_normal\\derivatives\\ICA\\sub-00008684\\ses-001\\eeg\\sub-00008684_ses-001_task-normal_run-000_eeg.vhdr...\n",
      "Setting channel info structure...\n",
      "Reading channel info from C:\\Users\\patri\\OneDrive - Johns Hopkins\\tuh_epilepsy_vs_normal\\derivatives\\ICA\\sub-00008684\\ses-001\\eeg\\sub-00008684_ses-001_task-normal_run-000_channels.tsv.\n"
     ]
    },
    {
     "name": "stderr",
     "output_type": "stream",
     "text": [
      "<ipython-input-4-5b38eb41f93b>:17: RuntimeWarning: Did not find any events.tsv associated with sub-00008684_ses-001_task-normal_run-000.\n",
      "\n",
      "The search_str was \"C:\\Users\\patri\\OneDrive - Johns Hopkins\\tuh_epilepsy_vs_normal\\derivatives\\ICA\\sub-00008684\\**\\sub-00008684_ses-001*events.tsv\"\n",
      "  raw = mne_bids.read_raw_bids(bids_path)\n",
      "<ipython-input-4-5b38eb41f93b>:17: RuntimeWarning: Did not find any coordsystem.json associated with sub-00008684_ses-001_task-normal_run-000.\n",
      "\n",
      "The search_str was \"C:\\Users\\patri\\OneDrive - Johns Hopkins\\tuh_epilepsy_vs_normal\\derivatives\\ICA\\sub-00008684\\**\\sub-00008684_ses-001*coordsystem.json\"\n",
      "  raw = mne_bids.read_raw_bids(bids_path)\n"
     ]
    },
    {
     "name": "stdout",
     "output_type": "stream",
     "text": [
      "Extracting parameters from C:\\Users\\patri\\OneDrive - Johns Hopkins\\tuh_epilepsy_vs_normal\\derivatives\\ICA\\sub-00006980\\ses-001\\eeg\\sub-00006980_ses-001_task-normal_run-002_eeg.vhdr...\n",
      "Setting channel info structure...\n",
      "Reading channel info from C:\\Users\\patri\\OneDrive - Johns Hopkins\\tuh_epilepsy_vs_normal\\derivatives\\ICA\\sub-00006980\\ses-001\\eeg\\sub-00006980_ses-001_task-normal_run-002_channels.tsv.\n"
     ]
    },
    {
     "name": "stderr",
     "output_type": "stream",
     "text": [
      "<ipython-input-4-5b38eb41f93b>:17: RuntimeWarning: Did not find any events.tsv associated with sub-00006980_ses-001_task-normal_run-002.\n",
      "\n",
      "The search_str was \"C:\\Users\\patri\\OneDrive - Johns Hopkins\\tuh_epilepsy_vs_normal\\derivatives\\ICA\\sub-00006980\\**\\sub-00006980_ses-001*events.tsv\"\n",
      "  raw = mne_bids.read_raw_bids(bids_path)\n",
      "<ipython-input-4-5b38eb41f93b>:17: RuntimeWarning: Did not find any coordsystem.json associated with sub-00006980_ses-001_task-normal_run-002.\n",
      "\n",
      "The search_str was \"C:\\Users\\patri\\OneDrive - Johns Hopkins\\tuh_epilepsy_vs_normal\\derivatives\\ICA\\sub-00006980\\**\\sub-00006980_ses-001*coordsystem.json\"\n",
      "  raw = mne_bids.read_raw_bids(bids_path)\n"
     ]
    },
    {
     "name": "stdout",
     "output_type": "stream",
     "text": [
      "Extracting parameters from C:\\Users\\patri\\OneDrive - Johns Hopkins\\tuh_epilepsy_vs_normal\\derivatives\\ICA\\sub-00009072\\ses-001\\eeg\\sub-00009072_ses-001_task-normal_run-000_eeg.vhdr...\n",
      "Setting channel info structure...\n",
      "Reading channel info from C:\\Users\\patri\\OneDrive - Johns Hopkins\\tuh_epilepsy_vs_normal\\derivatives\\ICA\\sub-00009072\\ses-001\\eeg\\sub-00009072_ses-001_task-normal_run-000_channels.tsv.\n"
     ]
    },
    {
     "name": "stderr",
     "output_type": "stream",
     "text": [
      "<ipython-input-4-5b38eb41f93b>:17: RuntimeWarning: Did not find any events.tsv associated with sub-00009072_ses-001_task-normal_run-000.\n",
      "\n",
      "The search_str was \"C:\\Users\\patri\\OneDrive - Johns Hopkins\\tuh_epilepsy_vs_normal\\derivatives\\ICA\\sub-00009072\\**\\sub-00009072_ses-001*events.tsv\"\n",
      "  raw = mne_bids.read_raw_bids(bids_path)\n",
      "<ipython-input-4-5b38eb41f93b>:17: RuntimeWarning: Did not find any coordsystem.json associated with sub-00009072_ses-001_task-normal_run-000.\n",
      "\n",
      "The search_str was \"C:\\Users\\patri\\OneDrive - Johns Hopkins\\tuh_epilepsy_vs_normal\\derivatives\\ICA\\sub-00009072\\**\\sub-00009072_ses-001*coordsystem.json\"\n",
      "  raw = mne_bids.read_raw_bids(bids_path)\n"
     ]
    },
    {
     "name": "stdout",
     "output_type": "stream",
     "text": [
      "Extracting parameters from C:\\Users\\patri\\OneDrive - Johns Hopkins\\tuh_epilepsy_vs_normal\\derivatives\\ICA\\sub-00010736\\ses-001\\eeg\\sub-00010736_ses-001_task-normal_run-000_eeg.vhdr...\n",
      "Setting channel info structure...\n",
      "Reading channel info from C:\\Users\\patri\\OneDrive - Johns Hopkins\\tuh_epilepsy_vs_normal\\derivatives\\ICA\\sub-00010736\\ses-001\\eeg\\sub-00010736_ses-001_task-normal_run-000_channels.tsv.\n"
     ]
    },
    {
     "name": "stderr",
     "output_type": "stream",
     "text": [
      "<ipython-input-4-5b38eb41f93b>:17: RuntimeWarning: Did not find any events.tsv associated with sub-00010736_ses-001_task-normal_run-000.\n",
      "\n",
      "The search_str was \"C:\\Users\\patri\\OneDrive - Johns Hopkins\\tuh_epilepsy_vs_normal\\derivatives\\ICA\\sub-00010736\\**\\sub-00010736_ses-001*events.tsv\"\n",
      "  raw = mne_bids.read_raw_bids(bids_path)\n",
      "<ipython-input-4-5b38eb41f93b>:17: RuntimeWarning: Did not find any coordsystem.json associated with sub-00010736_ses-001_task-normal_run-000.\n",
      "\n",
      "The search_str was \"C:\\Users\\patri\\OneDrive - Johns Hopkins\\tuh_epilepsy_vs_normal\\derivatives\\ICA\\sub-00010736\\**\\sub-00010736_ses-001*coordsystem.json\"\n",
      "  raw = mne_bids.read_raw_bids(bids_path)\n"
     ]
    },
    {
     "name": "stdout",
     "output_type": "stream",
     "text": [
      "Extracting parameters from C:\\Users\\patri\\OneDrive - Johns Hopkins\\tuh_epilepsy_vs_normal\\derivatives\\ICA\\sub-00006801\\ses-001\\eeg\\sub-00006801_ses-001_task-normal_run-001_eeg.vhdr...\n",
      "Setting channel info structure...\n",
      "Reading channel info from C:\\Users\\patri\\OneDrive - Johns Hopkins\\tuh_epilepsy_vs_normal\\derivatives\\ICA\\sub-00006801\\ses-001\\eeg\\sub-00006801_ses-001_task-normal_run-001_channels.tsv.\n"
     ]
    },
    {
     "name": "stderr",
     "output_type": "stream",
     "text": [
      "<ipython-input-4-5b38eb41f93b>:17: RuntimeWarning: Did not find any events.tsv associated with sub-00006801_ses-001_task-normal_run-001.\n",
      "\n",
      "The search_str was \"C:\\Users\\patri\\OneDrive - Johns Hopkins\\tuh_epilepsy_vs_normal\\derivatives\\ICA\\sub-00006801\\**\\sub-00006801_ses-001*events.tsv\"\n",
      "  raw = mne_bids.read_raw_bids(bids_path)\n",
      "<ipython-input-4-5b38eb41f93b>:17: RuntimeWarning: Did not find any coordsystem.json associated with sub-00006801_ses-001_task-normal_run-001.\n",
      "\n",
      "The search_str was \"C:\\Users\\patri\\OneDrive - Johns Hopkins\\tuh_epilepsy_vs_normal\\derivatives\\ICA\\sub-00006801\\**\\sub-00006801_ses-001*coordsystem.json\"\n",
      "  raw = mne_bids.read_raw_bids(bids_path)\n"
     ]
    },
    {
     "name": "stdout",
     "output_type": "stream",
     "text": [
      "Extracting parameters from C:\\Users\\patri\\OneDrive - Johns Hopkins\\tuh_epilepsy_vs_normal\\derivatives\\ICA\\sub-00008950\\ses-001\\eeg\\sub-00008950_ses-001_task-normal_run-000_eeg.vhdr...\n",
      "Setting channel info structure...\n",
      "Reading channel info from C:\\Users\\patri\\OneDrive - Johns Hopkins\\tuh_epilepsy_vs_normal\\derivatives\\ICA\\sub-00008950\\ses-001\\eeg\\sub-00008950_ses-001_task-normal_run-000_channels.tsv.\n"
     ]
    },
    {
     "name": "stderr",
     "output_type": "stream",
     "text": [
      "<ipython-input-4-5b38eb41f93b>:17: RuntimeWarning: Did not find any events.tsv associated with sub-00008950_ses-001_task-normal_run-000.\n",
      "\n",
      "The search_str was \"C:\\Users\\patri\\OneDrive - Johns Hopkins\\tuh_epilepsy_vs_normal\\derivatives\\ICA\\sub-00008950\\**\\sub-00008950_ses-001*events.tsv\"\n",
      "  raw = mne_bids.read_raw_bids(bids_path)\n",
      "<ipython-input-4-5b38eb41f93b>:17: RuntimeWarning: Did not find any coordsystem.json associated with sub-00008950_ses-001_task-normal_run-000.\n",
      "\n",
      "The search_str was \"C:\\Users\\patri\\OneDrive - Johns Hopkins\\tuh_epilepsy_vs_normal\\derivatives\\ICA\\sub-00008950\\**\\sub-00008950_ses-001*coordsystem.json\"\n",
      "  raw = mne_bids.read_raw_bids(bids_path)\n"
     ]
    },
    {
     "name": "stdout",
     "output_type": "stream",
     "text": [
      "Extracting parameters from C:\\Users\\patri\\OneDrive - Johns Hopkins\\tuh_epilepsy_vs_normal\\derivatives\\ICA\\sub-00008138\\ses-001\\eeg\\sub-00008138_ses-001_task-normal_run-000_eeg.vhdr...\n",
      "Setting channel info structure...\n",
      "Reading channel info from C:\\Users\\patri\\OneDrive - Johns Hopkins\\tuh_epilepsy_vs_normal\\derivatives\\ICA\\sub-00008138\\ses-001\\eeg\\sub-00008138_ses-001_task-normal_run-000_channels.tsv.\n"
     ]
    },
    {
     "name": "stderr",
     "output_type": "stream",
     "text": [
      "<ipython-input-4-5b38eb41f93b>:17: RuntimeWarning: Did not find any events.tsv associated with sub-00008138_ses-001_task-normal_run-000.\n",
      "\n",
      "The search_str was \"C:\\Users\\patri\\OneDrive - Johns Hopkins\\tuh_epilepsy_vs_normal\\derivatives\\ICA\\sub-00008138\\**\\sub-00008138_ses-001*events.tsv\"\n",
      "  raw = mne_bids.read_raw_bids(bids_path)\n",
      "<ipython-input-4-5b38eb41f93b>:17: RuntimeWarning: Did not find any coordsystem.json associated with sub-00008138_ses-001_task-normal_run-000.\n",
      "\n",
      "The search_str was \"C:\\Users\\patri\\OneDrive - Johns Hopkins\\tuh_epilepsy_vs_normal\\derivatives\\ICA\\sub-00008138\\**\\sub-00008138_ses-001*coordsystem.json\"\n",
      "  raw = mne_bids.read_raw_bids(bids_path)\n"
     ]
    },
    {
     "name": "stdout",
     "output_type": "stream",
     "text": [
      "Extracting parameters from C:\\Users\\patri\\OneDrive - Johns Hopkins\\tuh_epilepsy_vs_normal\\derivatives\\ICA\\sub-00009074\\ses-001\\eeg\\sub-00009074_ses-001_task-normal_run-000_eeg.vhdr...\n",
      "Setting channel info structure...\n",
      "Reading channel info from C:\\Users\\patri\\OneDrive - Johns Hopkins\\tuh_epilepsy_vs_normal\\derivatives\\ICA\\sub-00009074\\ses-001\\eeg\\sub-00009074_ses-001_task-normal_run-000_channels.tsv.\n"
     ]
    },
    {
     "name": "stderr",
     "output_type": "stream",
     "text": [
      "<ipython-input-4-5b38eb41f93b>:17: RuntimeWarning: Did not find any events.tsv associated with sub-00009074_ses-001_task-normal_run-000.\n",
      "\n",
      "The search_str was \"C:\\Users\\patri\\OneDrive - Johns Hopkins\\tuh_epilepsy_vs_normal\\derivatives\\ICA\\sub-00009074\\**\\sub-00009074_ses-001*events.tsv\"\n",
      "  raw = mne_bids.read_raw_bids(bids_path)\n",
      "<ipython-input-4-5b38eb41f93b>:17: RuntimeWarning: Did not find any coordsystem.json associated with sub-00009074_ses-001_task-normal_run-000.\n",
      "\n",
      "The search_str was \"C:\\Users\\patri\\OneDrive - Johns Hopkins\\tuh_epilepsy_vs_normal\\derivatives\\ICA\\sub-00009074\\**\\sub-00009074_ses-001*coordsystem.json\"\n",
      "  raw = mne_bids.read_raw_bids(bids_path)\n"
     ]
    },
    {
     "name": "stdout",
     "output_type": "stream",
     "text": [
      "Extracting parameters from C:\\Users\\patri\\OneDrive - Johns Hopkins\\tuh_epilepsy_vs_normal\\derivatives\\ICA\\sub-00006493\\ses-001\\eeg\\sub-00006493_ses-001_task-normal_run-000_eeg.vhdr...\n",
      "Setting channel info structure...\n",
      "Reading channel info from C:\\Users\\patri\\OneDrive - Johns Hopkins\\tuh_epilepsy_vs_normal\\derivatives\\ICA\\sub-00006493\\ses-001\\eeg\\sub-00006493_ses-001_task-normal_run-000_channels.tsv.\n"
     ]
    },
    {
     "name": "stderr",
     "output_type": "stream",
     "text": [
      "<ipython-input-4-5b38eb41f93b>:17: RuntimeWarning: Did not find any events.tsv associated with sub-00006493_ses-001_task-normal_run-000.\n",
      "\n",
      "The search_str was \"C:\\Users\\patri\\OneDrive - Johns Hopkins\\tuh_epilepsy_vs_normal\\derivatives\\ICA\\sub-00006493\\**\\sub-00006493_ses-001*events.tsv\"\n",
      "  raw = mne_bids.read_raw_bids(bids_path)\n",
      "<ipython-input-4-5b38eb41f93b>:17: RuntimeWarning: Did not find any coordsystem.json associated with sub-00006493_ses-001_task-normal_run-000.\n",
      "\n",
      "The search_str was \"C:\\Users\\patri\\OneDrive - Johns Hopkins\\tuh_epilepsy_vs_normal\\derivatives\\ICA\\sub-00006493\\**\\sub-00006493_ses-001*coordsystem.json\"\n",
      "  raw = mne_bids.read_raw_bids(bids_path)\n"
     ]
    },
    {
     "name": "stdout",
     "output_type": "stream",
     "text": [
      "Extracting parameters from C:\\Users\\patri\\OneDrive - Johns Hopkins\\tuh_epilepsy_vs_normal\\derivatives\\ICA\\sub-00009488\\ses-001\\eeg\\sub-00009488_ses-001_task-normal_run-000_eeg.vhdr...\n",
      "Setting channel info structure...\n",
      "Reading channel info from C:\\Users\\patri\\OneDrive - Johns Hopkins\\tuh_epilepsy_vs_normal\\derivatives\\ICA\\sub-00009488\\ses-001\\eeg\\sub-00009488_ses-001_task-normal_run-000_channels.tsv.\n"
     ]
    },
    {
     "name": "stderr",
     "output_type": "stream",
     "text": [
      "<ipython-input-4-5b38eb41f93b>:17: RuntimeWarning: Did not find any events.tsv associated with sub-00009488_ses-001_task-normal_run-000.\n",
      "\n",
      "The search_str was \"C:\\Users\\patri\\OneDrive - Johns Hopkins\\tuh_epilepsy_vs_normal\\derivatives\\ICA\\sub-00009488\\**\\sub-00009488_ses-001*events.tsv\"\n",
      "  raw = mne_bids.read_raw_bids(bids_path)\n",
      "<ipython-input-4-5b38eb41f93b>:17: RuntimeWarning: Did not find any coordsystem.json associated with sub-00009488_ses-001_task-normal_run-000.\n",
      "\n",
      "The search_str was \"C:\\Users\\patri\\OneDrive - Johns Hopkins\\tuh_epilepsy_vs_normal\\derivatives\\ICA\\sub-00009488\\**\\sub-00009488_ses-001*coordsystem.json\"\n",
      "  raw = mne_bids.read_raw_bids(bids_path)\n"
     ]
    },
    {
     "name": "stdout",
     "output_type": "stream",
     "text": [
      "Extracting parameters from C:\\Users\\patri\\OneDrive - Johns Hopkins\\tuh_epilepsy_vs_normal\\derivatives\\ICA\\sub-00009676\\ses-001\\eeg\\sub-00009676_ses-001_task-normal_run-000_eeg.vhdr...\n",
      "Setting channel info structure...\n",
      "Reading channel info from C:\\Users\\patri\\OneDrive - Johns Hopkins\\tuh_epilepsy_vs_normal\\derivatives\\ICA\\sub-00009676\\ses-001\\eeg\\sub-00009676_ses-001_task-normal_run-000_channels.tsv.\n"
     ]
    },
    {
     "name": "stderr",
     "output_type": "stream",
     "text": [
      "<ipython-input-4-5b38eb41f93b>:17: RuntimeWarning: Did not find any events.tsv associated with sub-00009676_ses-001_task-normal_run-000.\n",
      "\n",
      "The search_str was \"C:\\Users\\patri\\OneDrive - Johns Hopkins\\tuh_epilepsy_vs_normal\\derivatives\\ICA\\sub-00009676\\**\\sub-00009676_ses-001*events.tsv\"\n",
      "  raw = mne_bids.read_raw_bids(bids_path)\n",
      "<ipython-input-4-5b38eb41f93b>:17: RuntimeWarning: Did not find any coordsystem.json associated with sub-00009676_ses-001_task-normal_run-000.\n",
      "\n",
      "The search_str was \"C:\\Users\\patri\\OneDrive - Johns Hopkins\\tuh_epilepsy_vs_normal\\derivatives\\ICA\\sub-00009676\\**\\sub-00009676_ses-001*coordsystem.json\"\n",
      "  raw = mne_bids.read_raw_bids(bids_path)\n"
     ]
    },
    {
     "name": "stdout",
     "output_type": "stream",
     "text": [
      "Extracting parameters from C:\\Users\\patri\\OneDrive - Johns Hopkins\\tuh_epilepsy_vs_normal\\derivatives\\ICA\\sub-00006253\\ses-003\\eeg\\sub-00006253_ses-003_task-normal_run-000_eeg.vhdr...\n",
      "Setting channel info structure...\n",
      "Reading channel info from C:\\Users\\patri\\OneDrive - Johns Hopkins\\tuh_epilepsy_vs_normal\\derivatives\\ICA\\sub-00006253\\ses-003\\eeg\\sub-00006253_ses-003_task-normal_run-000_channels.tsv.\n"
     ]
    },
    {
     "name": "stderr",
     "output_type": "stream",
     "text": [
      "<ipython-input-4-5b38eb41f93b>:17: RuntimeWarning: Did not find any events.tsv associated with sub-00006253_ses-003_task-normal_run-000.\n",
      "\n",
      "The search_str was \"C:\\Users\\patri\\OneDrive - Johns Hopkins\\tuh_epilepsy_vs_normal\\derivatives\\ICA\\sub-00006253\\**\\sub-00006253_ses-003*events.tsv\"\n",
      "  raw = mne_bids.read_raw_bids(bids_path)\n",
      "<ipython-input-4-5b38eb41f93b>:17: RuntimeWarning: Did not find any coordsystem.json associated with sub-00006253_ses-003_task-normal_run-000.\n",
      "\n",
      "The search_str was \"C:\\Users\\patri\\OneDrive - Johns Hopkins\\tuh_epilepsy_vs_normal\\derivatives\\ICA\\sub-00006253\\**\\sub-00006253_ses-003*coordsystem.json\"\n",
      "  raw = mne_bids.read_raw_bids(bids_path)\n"
     ]
    },
    {
     "name": "stdout",
     "output_type": "stream",
     "text": [
      "Extracting parameters from C:\\Users\\patri\\OneDrive - Johns Hopkins\\tuh_epilepsy_vs_normal\\derivatives\\ICA\\sub-00008130\\ses-001\\eeg\\sub-00008130_ses-001_task-normal_run-000_eeg.vhdr...\n",
      "Setting channel info structure...\n",
      "Reading channel info from C:\\Users\\patri\\OneDrive - Johns Hopkins\\tuh_epilepsy_vs_normal\\derivatives\\ICA\\sub-00008130\\ses-001\\eeg\\sub-00008130_ses-001_task-normal_run-000_channels.tsv.\n"
     ]
    },
    {
     "name": "stderr",
     "output_type": "stream",
     "text": [
      "<ipython-input-4-5b38eb41f93b>:17: RuntimeWarning: Did not find any events.tsv associated with sub-00008130_ses-001_task-normal_run-000.\n",
      "\n",
      "The search_str was \"C:\\Users\\patri\\OneDrive - Johns Hopkins\\tuh_epilepsy_vs_normal\\derivatives\\ICA\\sub-00008130\\**\\sub-00008130_ses-001*events.tsv\"\n",
      "  raw = mne_bids.read_raw_bids(bids_path)\n",
      "<ipython-input-4-5b38eb41f93b>:17: RuntimeWarning: Did not find any coordsystem.json associated with sub-00008130_ses-001_task-normal_run-000.\n",
      "\n",
      "The search_str was \"C:\\Users\\patri\\OneDrive - Johns Hopkins\\tuh_epilepsy_vs_normal\\derivatives\\ICA\\sub-00008130\\**\\sub-00008130_ses-001*coordsystem.json\"\n",
      "  raw = mne_bids.read_raw_bids(bids_path)\n"
     ]
    },
    {
     "name": "stdout",
     "output_type": "stream",
     "text": [
      "Extracting parameters from C:\\Users\\patri\\OneDrive - Johns Hopkins\\tuh_epilepsy_vs_normal\\derivatives\\ICA\\sub-00007331\\ses-001\\eeg\\sub-00007331_ses-001_task-normal_run-000_eeg.vhdr...\n",
      "Setting channel info structure...\n",
      "Reading channel info from C:\\Users\\patri\\OneDrive - Johns Hopkins\\tuh_epilepsy_vs_normal\\derivatives\\ICA\\sub-00007331\\ses-001\\eeg\\sub-00007331_ses-001_task-normal_run-000_channels.tsv.\n"
     ]
    },
    {
     "name": "stderr",
     "output_type": "stream",
     "text": [
      "<ipython-input-4-5b38eb41f93b>:17: RuntimeWarning: Did not find any events.tsv associated with sub-00007331_ses-001_task-normal_run-000.\n",
      "\n",
      "The search_str was \"C:\\Users\\patri\\OneDrive - Johns Hopkins\\tuh_epilepsy_vs_normal\\derivatives\\ICA\\sub-00007331\\**\\sub-00007331_ses-001*events.tsv\"\n",
      "  raw = mne_bids.read_raw_bids(bids_path)\n",
      "<ipython-input-4-5b38eb41f93b>:17: RuntimeWarning: Did not find any coordsystem.json associated with sub-00007331_ses-001_task-normal_run-000.\n",
      "\n",
      "The search_str was \"C:\\Users\\patri\\OneDrive - Johns Hopkins\\tuh_epilepsy_vs_normal\\derivatives\\ICA\\sub-00007331\\**\\sub-00007331_ses-001*coordsystem.json\"\n",
      "  raw = mne_bids.read_raw_bids(bids_path)\n"
     ]
    },
    {
     "name": "stdout",
     "output_type": "stream",
     "text": [
      "Extracting parameters from C:\\Users\\patri\\OneDrive - Johns Hopkins\\tuh_epilepsy_vs_normal\\derivatives\\ICA\\sub-00006687\\ses-001\\eeg\\sub-00006687_ses-001_task-normal_run-000_eeg.vhdr...\n",
      "Setting channel info structure...\n",
      "Reading channel info from C:\\Users\\patri\\OneDrive - Johns Hopkins\\tuh_epilepsy_vs_normal\\derivatives\\ICA\\sub-00006687\\ses-001\\eeg\\sub-00006687_ses-001_task-normal_run-000_channels.tsv.\n"
     ]
    },
    {
     "name": "stderr",
     "output_type": "stream",
     "text": [
      "<ipython-input-4-5b38eb41f93b>:17: RuntimeWarning: Did not find any events.tsv associated with sub-00006687_ses-001_task-normal_run-000.\n",
      "\n",
      "The search_str was \"C:\\Users\\patri\\OneDrive - Johns Hopkins\\tuh_epilepsy_vs_normal\\derivatives\\ICA\\sub-00006687\\**\\sub-00006687_ses-001*events.tsv\"\n",
      "  raw = mne_bids.read_raw_bids(bids_path)\n",
      "<ipython-input-4-5b38eb41f93b>:17: RuntimeWarning: Did not find any coordsystem.json associated with sub-00006687_ses-001_task-normal_run-000.\n",
      "\n",
      "The search_str was \"C:\\Users\\patri\\OneDrive - Johns Hopkins\\tuh_epilepsy_vs_normal\\derivatives\\ICA\\sub-00006687\\**\\sub-00006687_ses-001*coordsystem.json\"\n",
      "  raw = mne_bids.read_raw_bids(bids_path)\n"
     ]
    },
    {
     "name": "stdout",
     "output_type": "stream",
     "text": [
      "Extracting parameters from C:\\Users\\patri\\OneDrive - Johns Hopkins\\tuh_epilepsy_vs_normal\\derivatives\\ICA\\sub-00009604\\ses-001\\eeg\\sub-00009604_ses-001_task-normal_run-000_eeg.vhdr...\n",
      "Setting channel info structure...\n",
      "Reading channel info from C:\\Users\\patri\\OneDrive - Johns Hopkins\\tuh_epilepsy_vs_normal\\derivatives\\ICA\\sub-00009604\\ses-001\\eeg\\sub-00009604_ses-001_task-normal_run-000_channels.tsv.\n"
     ]
    },
    {
     "name": "stderr",
     "output_type": "stream",
     "text": [
      "<ipython-input-4-5b38eb41f93b>:17: RuntimeWarning: Did not find any events.tsv associated with sub-00009604_ses-001_task-normal_run-000.\n",
      "\n",
      "The search_str was \"C:\\Users\\patri\\OneDrive - Johns Hopkins\\tuh_epilepsy_vs_normal\\derivatives\\ICA\\sub-00009604\\**\\sub-00009604_ses-001*events.tsv\"\n",
      "  raw = mne_bids.read_raw_bids(bids_path)\n",
      "<ipython-input-4-5b38eb41f93b>:17: RuntimeWarning: Did not find any coordsystem.json associated with sub-00009604_ses-001_task-normal_run-000.\n",
      "\n",
      "The search_str was \"C:\\Users\\patri\\OneDrive - Johns Hopkins\\tuh_epilepsy_vs_normal\\derivatives\\ICA\\sub-00009604\\**\\sub-00009604_ses-001*coordsystem.json\"\n",
      "  raw = mne_bids.read_raw_bids(bids_path)\n"
     ]
    },
    {
     "name": "stdout",
     "output_type": "stream",
     "text": [
      "Extracting parameters from C:\\Users\\patri\\OneDrive - Johns Hopkins\\tuh_epilepsy_vs_normal\\derivatives\\ICA\\sub-00005459\\ses-001\\eeg\\sub-00005459_ses-001_task-normal_run-000_eeg.vhdr...\n",
      "Setting channel info structure...\n",
      "Reading channel info from C:\\Users\\patri\\OneDrive - Johns Hopkins\\tuh_epilepsy_vs_normal\\derivatives\\ICA\\sub-00005459\\ses-001\\eeg\\sub-00005459_ses-001_task-normal_run-000_channels.tsv.\n"
     ]
    },
    {
     "name": "stderr",
     "output_type": "stream",
     "text": [
      "<ipython-input-4-5b38eb41f93b>:17: RuntimeWarning: Did not find any events.tsv associated with sub-00005459_ses-001_task-normal_run-000.\n",
      "\n",
      "The search_str was \"C:\\Users\\patri\\OneDrive - Johns Hopkins\\tuh_epilepsy_vs_normal\\derivatives\\ICA\\sub-00005459\\**\\sub-00005459_ses-001*events.tsv\"\n",
      "  raw = mne_bids.read_raw_bids(bids_path)\n",
      "<ipython-input-4-5b38eb41f93b>:17: RuntimeWarning: Did not find any coordsystem.json associated with sub-00005459_ses-001_task-normal_run-000.\n",
      "\n",
      "The search_str was \"C:\\Users\\patri\\OneDrive - Johns Hopkins\\tuh_epilepsy_vs_normal\\derivatives\\ICA\\sub-00005459\\**\\sub-00005459_ses-001*coordsystem.json\"\n",
      "  raw = mne_bids.read_raw_bids(bids_path)\n"
     ]
    },
    {
     "name": "stdout",
     "output_type": "stream",
     "text": [
      "Extracting parameters from C:\\Users\\patri\\OneDrive - Johns Hopkins\\tuh_epilepsy_vs_normal\\derivatives\\ICA\\sub-00009666\\ses-001\\eeg\\sub-00009666_ses-001_task-normal_run-000_eeg.vhdr...\n",
      "Setting channel info structure...\n",
      "Reading channel info from C:\\Users\\patri\\OneDrive - Johns Hopkins\\tuh_epilepsy_vs_normal\\derivatives\\ICA\\sub-00009666\\ses-001\\eeg\\sub-00009666_ses-001_task-normal_run-000_channels.tsv.\n"
     ]
    },
    {
     "name": "stderr",
     "output_type": "stream",
     "text": [
      "<ipython-input-4-5b38eb41f93b>:17: RuntimeWarning: Did not find any events.tsv associated with sub-00009666_ses-001_task-normal_run-000.\n",
      "\n",
      "The search_str was \"C:\\Users\\patri\\OneDrive - Johns Hopkins\\tuh_epilepsy_vs_normal\\derivatives\\ICA\\sub-00009666\\**\\sub-00009666_ses-001*events.tsv\"\n",
      "  raw = mne_bids.read_raw_bids(bids_path)\n",
      "<ipython-input-4-5b38eb41f93b>:17: RuntimeWarning: Did not find any coordsystem.json associated with sub-00009666_ses-001_task-normal_run-000.\n",
      "\n",
      "The search_str was \"C:\\Users\\patri\\OneDrive - Johns Hopkins\\tuh_epilepsy_vs_normal\\derivatives\\ICA\\sub-00009666\\**\\sub-00009666_ses-001*coordsystem.json\"\n",
      "  raw = mne_bids.read_raw_bids(bids_path)\n"
     ]
    },
    {
     "name": "stdout",
     "output_type": "stream",
     "text": [
      "Extracting parameters from C:\\Users\\patri\\OneDrive - Johns Hopkins\\tuh_epilepsy_vs_normal\\derivatives\\ICA\\sub-00007161\\ses-001\\eeg\\sub-00007161_ses-001_task-normal_run-001_eeg.vhdr...\n",
      "Setting channel info structure...\n",
      "Reading channel info from C:\\Users\\patri\\OneDrive - Johns Hopkins\\tuh_epilepsy_vs_normal\\derivatives\\ICA\\sub-00007161\\ses-001\\eeg\\sub-00007161_ses-001_task-normal_run-001_channels.tsv.\n"
     ]
    },
    {
     "name": "stderr",
     "output_type": "stream",
     "text": [
      "<ipython-input-4-5b38eb41f93b>:17: RuntimeWarning: Did not find any events.tsv associated with sub-00007161_ses-001_task-normal_run-001.\n",
      "\n",
      "The search_str was \"C:\\Users\\patri\\OneDrive - Johns Hopkins\\tuh_epilepsy_vs_normal\\derivatives\\ICA\\sub-00007161\\**\\sub-00007161_ses-001*events.tsv\"\n",
      "  raw = mne_bids.read_raw_bids(bids_path)\n",
      "<ipython-input-4-5b38eb41f93b>:17: RuntimeWarning: Did not find any coordsystem.json associated with sub-00007161_ses-001_task-normal_run-001.\n",
      "\n",
      "The search_str was \"C:\\Users\\patri\\OneDrive - Johns Hopkins\\tuh_epilepsy_vs_normal\\derivatives\\ICA\\sub-00007161\\**\\sub-00007161_ses-001*coordsystem.json\"\n",
      "  raw = mne_bids.read_raw_bids(bids_path)\n"
     ]
    },
    {
     "name": "stdout",
     "output_type": "stream",
     "text": [
      "Extracting parameters from C:\\Users\\patri\\OneDrive - Johns Hopkins\\tuh_epilepsy_vs_normal\\derivatives\\ICA\\sub-00007906\\ses-001\\eeg\\sub-00007906_ses-001_task-normal_run-000_eeg.vhdr...\n",
      "Setting channel info structure...\n",
      "Reading channel info from C:\\Users\\patri\\OneDrive - Johns Hopkins\\tuh_epilepsy_vs_normal\\derivatives\\ICA\\sub-00007906\\ses-001\\eeg\\sub-00007906_ses-001_task-normal_run-000_channels.tsv.\n"
     ]
    },
    {
     "name": "stderr",
     "output_type": "stream",
     "text": [
      "<ipython-input-4-5b38eb41f93b>:17: RuntimeWarning: Did not find any events.tsv associated with sub-00007906_ses-001_task-normal_run-000.\n",
      "\n",
      "The search_str was \"C:\\Users\\patri\\OneDrive - Johns Hopkins\\tuh_epilepsy_vs_normal\\derivatives\\ICA\\sub-00007906\\**\\sub-00007906_ses-001*events.tsv\"\n",
      "  raw = mne_bids.read_raw_bids(bids_path)\n",
      "<ipython-input-4-5b38eb41f93b>:17: RuntimeWarning: Did not find any coordsystem.json associated with sub-00007906_ses-001_task-normal_run-000.\n",
      "\n",
      "The search_str was \"C:\\Users\\patri\\OneDrive - Johns Hopkins\\tuh_epilepsy_vs_normal\\derivatives\\ICA\\sub-00007906\\**\\sub-00007906_ses-001*coordsystem.json\"\n",
      "  raw = mne_bids.read_raw_bids(bids_path)\n"
     ]
    },
    {
     "name": "stdout",
     "output_type": "stream",
     "text": [
      "Extracting parameters from C:\\Users\\patri\\OneDrive - Johns Hopkins\\tuh_epilepsy_vs_normal\\derivatives\\ICA\\sub-00010311\\ses-001\\eeg\\sub-00010311_ses-001_task-normal_run-000_eeg.vhdr...\n",
      "Setting channel info structure...\n",
      "Reading channel info from C:\\Users\\patri\\OneDrive - Johns Hopkins\\tuh_epilepsy_vs_normal\\derivatives\\ICA\\sub-00010311\\ses-001\\eeg\\sub-00010311_ses-001_task-normal_run-000_channels.tsv.\n"
     ]
    },
    {
     "name": "stderr",
     "output_type": "stream",
     "text": [
      "<ipython-input-4-5b38eb41f93b>:17: RuntimeWarning: Did not find any events.tsv associated with sub-00010311_ses-001_task-normal_run-000.\n",
      "\n",
      "The search_str was \"C:\\Users\\patri\\OneDrive - Johns Hopkins\\tuh_epilepsy_vs_normal\\derivatives\\ICA\\sub-00010311\\**\\sub-00010311_ses-001*events.tsv\"\n",
      "  raw = mne_bids.read_raw_bids(bids_path)\n",
      "<ipython-input-4-5b38eb41f93b>:17: RuntimeWarning: Did not find any coordsystem.json associated with sub-00010311_ses-001_task-normal_run-000.\n",
      "\n",
      "The search_str was \"C:\\Users\\patri\\OneDrive - Johns Hopkins\\tuh_epilepsy_vs_normal\\derivatives\\ICA\\sub-00010311\\**\\sub-00010311_ses-001*coordsystem.json\"\n",
      "  raw = mne_bids.read_raw_bids(bids_path)\n"
     ]
    },
    {
     "name": "stdout",
     "output_type": "stream",
     "text": [
      "Extracting parameters from C:\\Users\\patri\\OneDrive - Johns Hopkins\\tuh_epilepsy_vs_normal\\derivatives\\ICA\\sub-00008408\\ses-001\\eeg\\sub-00008408_ses-001_task-normal_run-001_eeg.vhdr...\n",
      "Setting channel info structure...\n",
      "Reading channel info from C:\\Users\\patri\\OneDrive - Johns Hopkins\\tuh_epilepsy_vs_normal\\derivatives\\ICA\\sub-00008408\\ses-001\\eeg\\sub-00008408_ses-001_task-normal_run-001_channels.tsv.\n"
     ]
    },
    {
     "name": "stderr",
     "output_type": "stream",
     "text": [
      "<ipython-input-4-5b38eb41f93b>:17: RuntimeWarning: Did not find any events.tsv associated with sub-00008408_ses-001_task-normal_run-001.\n",
      "\n",
      "The search_str was \"C:\\Users\\patri\\OneDrive - Johns Hopkins\\tuh_epilepsy_vs_normal\\derivatives\\ICA\\sub-00008408\\**\\sub-00008408_ses-001*events.tsv\"\n",
      "  raw = mne_bids.read_raw_bids(bids_path)\n",
      "<ipython-input-4-5b38eb41f93b>:17: RuntimeWarning: Did not find any coordsystem.json associated with sub-00008408_ses-001_task-normal_run-001.\n",
      "\n",
      "The search_str was \"C:\\Users\\patri\\OneDrive - Johns Hopkins\\tuh_epilepsy_vs_normal\\derivatives\\ICA\\sub-00008408\\**\\sub-00008408_ses-001*coordsystem.json\"\n",
      "  raw = mne_bids.read_raw_bids(bids_path)\n"
     ]
    },
    {
     "name": "stdout",
     "output_type": "stream",
     "text": [
      "Extracting parameters from C:\\Users\\patri\\OneDrive - Johns Hopkins\\tuh_epilepsy_vs_normal\\derivatives\\ICA\\sub-00008437\\ses-001\\eeg\\sub-00008437_ses-001_task-normal_run-000_eeg.vhdr...\n",
      "Setting channel info structure...\n",
      "Reading channel info from C:\\Users\\patri\\OneDrive - Johns Hopkins\\tuh_epilepsy_vs_normal\\derivatives\\ICA\\sub-00008437\\ses-001\\eeg\\sub-00008437_ses-001_task-normal_run-000_channels.tsv.\n"
     ]
    },
    {
     "name": "stderr",
     "output_type": "stream",
     "text": [
      "<ipython-input-4-5b38eb41f93b>:17: RuntimeWarning: Did not find any events.tsv associated with sub-00008437_ses-001_task-normal_run-000.\n",
      "\n",
      "The search_str was \"C:\\Users\\patri\\OneDrive - Johns Hopkins\\tuh_epilepsy_vs_normal\\derivatives\\ICA\\sub-00008437\\**\\sub-00008437_ses-001*events.tsv\"\n",
      "  raw = mne_bids.read_raw_bids(bids_path)\n",
      "<ipython-input-4-5b38eb41f93b>:17: RuntimeWarning: Did not find any coordsystem.json associated with sub-00008437_ses-001_task-normal_run-000.\n",
      "\n",
      "The search_str was \"C:\\Users\\patri\\OneDrive - Johns Hopkins\\tuh_epilepsy_vs_normal\\derivatives\\ICA\\sub-00008437\\**\\sub-00008437_ses-001*coordsystem.json\"\n",
      "  raw = mne_bids.read_raw_bids(bids_path)\n"
     ]
    },
    {
     "name": "stdout",
     "output_type": "stream",
     "text": [
      "Extracting parameters from C:\\Users\\patri\\OneDrive - Johns Hopkins\\tuh_epilepsy_vs_normal\\derivatives\\ICA\\sub-00006906\\ses-001\\eeg\\sub-00006906_ses-001_task-normal_run-001_eeg.vhdr...\n",
      "Setting channel info structure...\n",
      "Reading channel info from C:\\Users\\patri\\OneDrive - Johns Hopkins\\tuh_epilepsy_vs_normal\\derivatives\\ICA\\sub-00006906\\ses-001\\eeg\\sub-00006906_ses-001_task-normal_run-001_channels.tsv.\n"
     ]
    },
    {
     "name": "stderr",
     "output_type": "stream",
     "text": [
      "<ipython-input-4-5b38eb41f93b>:17: RuntimeWarning: Did not find any events.tsv associated with sub-00006906_ses-001_task-normal_run-001.\n",
      "\n",
      "The search_str was \"C:\\Users\\patri\\OneDrive - Johns Hopkins\\tuh_epilepsy_vs_normal\\derivatives\\ICA\\sub-00006906\\**\\sub-00006906_ses-001*events.tsv\"\n",
      "  raw = mne_bids.read_raw_bids(bids_path)\n",
      "<ipython-input-4-5b38eb41f93b>:17: RuntimeWarning: Did not find any coordsystem.json associated with sub-00006906_ses-001_task-normal_run-001.\n",
      "\n",
      "The search_str was \"C:\\Users\\patri\\OneDrive - Johns Hopkins\\tuh_epilepsy_vs_normal\\derivatives\\ICA\\sub-00006906\\**\\sub-00006906_ses-001*coordsystem.json\"\n",
      "  raw = mne_bids.read_raw_bids(bids_path)\n"
     ]
    },
    {
     "name": "stdout",
     "output_type": "stream",
     "text": [
      "Extracting parameters from C:\\Users\\patri\\OneDrive - Johns Hopkins\\tuh_epilepsy_vs_normal\\derivatives\\ICA\\sub-00010662\\ses-001\\eeg\\sub-00010662_ses-001_task-normal_run-001_eeg.vhdr...\n",
      "Setting channel info structure...\n",
      "Reading channel info from C:\\Users\\patri\\OneDrive - Johns Hopkins\\tuh_epilepsy_vs_normal\\derivatives\\ICA\\sub-00010662\\ses-001\\eeg\\sub-00010662_ses-001_task-normal_run-001_channels.tsv.\n"
     ]
    },
    {
     "name": "stderr",
     "output_type": "stream",
     "text": [
      "<ipython-input-4-5b38eb41f93b>:17: RuntimeWarning: Did not find any events.tsv associated with sub-00010662_ses-001_task-normal_run-001.\n",
      "\n",
      "The search_str was \"C:\\Users\\patri\\OneDrive - Johns Hopkins\\tuh_epilepsy_vs_normal\\derivatives\\ICA\\sub-00010662\\**\\sub-00010662_ses-001*events.tsv\"\n",
      "  raw = mne_bids.read_raw_bids(bids_path)\n",
      "<ipython-input-4-5b38eb41f93b>:17: RuntimeWarning: Did not find any coordsystem.json associated with sub-00010662_ses-001_task-normal_run-001.\n",
      "\n",
      "The search_str was \"C:\\Users\\patri\\OneDrive - Johns Hopkins\\tuh_epilepsy_vs_normal\\derivatives\\ICA\\sub-00010662\\**\\sub-00010662_ses-001*coordsystem.json\"\n",
      "  raw = mne_bids.read_raw_bids(bids_path)\n"
     ]
    },
    {
     "name": "stdout",
     "output_type": "stream",
     "text": [
      "Extracting parameters from C:\\Users\\patri\\OneDrive - Johns Hopkins\\tuh_epilepsy_vs_normal\\derivatives\\ICA\\sub-00008455\\ses-001\\eeg\\sub-00008455_ses-001_task-normal_run-000_eeg.vhdr...\n",
      "Setting channel info structure...\n",
      "Reading channel info from C:\\Users\\patri\\OneDrive - Johns Hopkins\\tuh_epilepsy_vs_normal\\derivatives\\ICA\\sub-00008455\\ses-001\\eeg\\sub-00008455_ses-001_task-normal_run-000_channels.tsv.\n"
     ]
    },
    {
     "name": "stderr",
     "output_type": "stream",
     "text": [
      "<ipython-input-4-5b38eb41f93b>:17: RuntimeWarning: Did not find any events.tsv associated with sub-00008455_ses-001_task-normal_run-000.\n",
      "\n",
      "The search_str was \"C:\\Users\\patri\\OneDrive - Johns Hopkins\\tuh_epilepsy_vs_normal\\derivatives\\ICA\\sub-00008455\\**\\sub-00008455_ses-001*events.tsv\"\n",
      "  raw = mne_bids.read_raw_bids(bids_path)\n",
      "<ipython-input-4-5b38eb41f93b>:17: RuntimeWarning: Did not find any coordsystem.json associated with sub-00008455_ses-001_task-normal_run-000.\n",
      "\n",
      "The search_str was \"C:\\Users\\patri\\OneDrive - Johns Hopkins\\tuh_epilepsy_vs_normal\\derivatives\\ICA\\sub-00008455\\**\\sub-00008455_ses-001*coordsystem.json\"\n",
      "  raw = mne_bids.read_raw_bids(bids_path)\n"
     ]
    },
    {
     "name": "stdout",
     "output_type": "stream",
     "text": [
      "Extracting parameters from C:\\Users\\patri\\OneDrive - Johns Hopkins\\tuh_epilepsy_vs_normal\\derivatives\\ICA\\sub-00010095\\ses-001\\eeg\\sub-00010095_ses-001_task-normal_run-000_eeg.vhdr...\n",
      "Setting channel info structure...\n",
      "Reading channel info from C:\\Users\\patri\\OneDrive - Johns Hopkins\\tuh_epilepsy_vs_normal\\derivatives\\ICA\\sub-00010095\\ses-001\\eeg\\sub-00010095_ses-001_task-normal_run-000_channels.tsv.\n"
     ]
    },
    {
     "name": "stderr",
     "output_type": "stream",
     "text": [
      "<ipython-input-4-5b38eb41f93b>:17: RuntimeWarning: Did not find any events.tsv associated with sub-00010095_ses-001_task-normal_run-000.\n",
      "\n",
      "The search_str was \"C:\\Users\\patri\\OneDrive - Johns Hopkins\\tuh_epilepsy_vs_normal\\derivatives\\ICA\\sub-00010095\\**\\sub-00010095_ses-001*events.tsv\"\n",
      "  raw = mne_bids.read_raw_bids(bids_path)\n",
      "<ipython-input-4-5b38eb41f93b>:17: RuntimeWarning: Did not find any coordsystem.json associated with sub-00010095_ses-001_task-normal_run-000.\n",
      "\n",
      "The search_str was \"C:\\Users\\patri\\OneDrive - Johns Hopkins\\tuh_epilepsy_vs_normal\\derivatives\\ICA\\sub-00010095\\**\\sub-00010095_ses-001*coordsystem.json\"\n",
      "  raw = mne_bids.read_raw_bids(bids_path)\n"
     ]
    },
    {
     "name": "stdout",
     "output_type": "stream",
     "text": [
      "Extracting parameters from C:\\Users\\patri\\OneDrive - Johns Hopkins\\tuh_epilepsy_vs_normal\\derivatives\\ICA\\sub-00009725\\ses-001\\eeg\\sub-00009725_ses-001_task-normal_run-000_eeg.vhdr...\n",
      "Setting channel info structure...\n",
      "Reading channel info from C:\\Users\\patri\\OneDrive - Johns Hopkins\\tuh_epilepsy_vs_normal\\derivatives\\ICA\\sub-00009725\\ses-001\\eeg\\sub-00009725_ses-001_task-normal_run-000_channels.tsv.\n"
     ]
    },
    {
     "name": "stderr",
     "output_type": "stream",
     "text": [
      "<ipython-input-4-5b38eb41f93b>:17: RuntimeWarning: Did not find any events.tsv associated with sub-00009725_ses-001_task-normal_run-000.\n",
      "\n",
      "The search_str was \"C:\\Users\\patri\\OneDrive - Johns Hopkins\\tuh_epilepsy_vs_normal\\derivatives\\ICA\\sub-00009725\\**\\sub-00009725_ses-001*events.tsv\"\n",
      "  raw = mne_bids.read_raw_bids(bids_path)\n",
      "<ipython-input-4-5b38eb41f93b>:17: RuntimeWarning: Did not find any coordsystem.json associated with sub-00009725_ses-001_task-normal_run-000.\n",
      "\n",
      "The search_str was \"C:\\Users\\patri\\OneDrive - Johns Hopkins\\tuh_epilepsy_vs_normal\\derivatives\\ICA\\sub-00009725\\**\\sub-00009725_ses-001*coordsystem.json\"\n",
      "  raw = mne_bids.read_raw_bids(bids_path)\n"
     ]
    },
    {
     "name": "stdout",
     "output_type": "stream",
     "text": [
      "Extracting parameters from C:\\Users\\patri\\OneDrive - Johns Hopkins\\tuh_epilepsy_vs_normal\\derivatives\\ICA\\sub-00009977\\ses-001\\eeg\\sub-00009977_ses-001_task-normal_run-000_eeg.vhdr...\n",
      "Setting channel info structure...\n",
      "Reading channel info from C:\\Users\\patri\\OneDrive - Johns Hopkins\\tuh_epilepsy_vs_normal\\derivatives\\ICA\\sub-00009977\\ses-001\\eeg\\sub-00009977_ses-001_task-normal_run-000_channels.tsv.\n"
     ]
    },
    {
     "name": "stderr",
     "output_type": "stream",
     "text": [
      "<ipython-input-4-5b38eb41f93b>:17: RuntimeWarning: Did not find any events.tsv associated with sub-00009977_ses-001_task-normal_run-000.\n",
      "\n",
      "The search_str was \"C:\\Users\\patri\\OneDrive - Johns Hopkins\\tuh_epilepsy_vs_normal\\derivatives\\ICA\\sub-00009977\\**\\sub-00009977_ses-001*events.tsv\"\n",
      "  raw = mne_bids.read_raw_bids(bids_path)\n",
      "<ipython-input-4-5b38eb41f93b>:17: RuntimeWarning: Did not find any coordsystem.json associated with sub-00009977_ses-001_task-normal_run-000.\n",
      "\n",
      "The search_str was \"C:\\Users\\patri\\OneDrive - Johns Hopkins\\tuh_epilepsy_vs_normal\\derivatives\\ICA\\sub-00009977\\**\\sub-00009977_ses-001*coordsystem.json\"\n",
      "  raw = mne_bids.read_raw_bids(bids_path)\n"
     ]
    },
    {
     "name": "stdout",
     "output_type": "stream",
     "text": [
      "Extracting parameters from C:\\Users\\patri\\OneDrive - Johns Hopkins\\tuh_epilepsy_vs_normal\\derivatives\\ICA\\sub-00006567\\ses-001\\eeg\\sub-00006567_ses-001_task-normal_run-001_eeg.vhdr...\n",
      "Setting channel info structure...\n",
      "Reading channel info from C:\\Users\\patri\\OneDrive - Johns Hopkins\\tuh_epilepsy_vs_normal\\derivatives\\ICA\\sub-00006567\\ses-001\\eeg\\sub-00006567_ses-001_task-normal_run-001_channels.tsv.\n"
     ]
    },
    {
     "name": "stderr",
     "output_type": "stream",
     "text": [
      "<ipython-input-4-5b38eb41f93b>:17: RuntimeWarning: Did not find any events.tsv associated with sub-00006567_ses-001_task-normal_run-001.\n",
      "\n",
      "The search_str was \"C:\\Users\\patri\\OneDrive - Johns Hopkins\\tuh_epilepsy_vs_normal\\derivatives\\ICA\\sub-00006567\\**\\sub-00006567_ses-001*events.tsv\"\n",
      "  raw = mne_bids.read_raw_bids(bids_path)\n",
      "<ipython-input-4-5b38eb41f93b>:17: RuntimeWarning: Did not find any coordsystem.json associated with sub-00006567_ses-001_task-normal_run-001.\n",
      "\n",
      "The search_str was \"C:\\Users\\patri\\OneDrive - Johns Hopkins\\tuh_epilepsy_vs_normal\\derivatives\\ICA\\sub-00006567\\**\\sub-00006567_ses-001*coordsystem.json\"\n",
      "  raw = mne_bids.read_raw_bids(bids_path)\n"
     ]
    },
    {
     "name": "stdout",
     "output_type": "stream",
     "text": [
      "Extracting parameters from C:\\Users\\patri\\OneDrive - Johns Hopkins\\tuh_epilepsy_vs_normal\\derivatives\\ICA\\sub-00008867\\ses-001\\eeg\\sub-00008867_ses-001_task-normal_run-000_eeg.vhdr...\n",
      "Setting channel info structure...\n",
      "Reading channel info from C:\\Users\\patri\\OneDrive - Johns Hopkins\\tuh_epilepsy_vs_normal\\derivatives\\ICA\\sub-00008867\\ses-001\\eeg\\sub-00008867_ses-001_task-normal_run-000_channels.tsv.\n"
     ]
    },
    {
     "name": "stderr",
     "output_type": "stream",
     "text": [
      "<ipython-input-4-5b38eb41f93b>:17: RuntimeWarning: Did not find any events.tsv associated with sub-00008867_ses-001_task-normal_run-000.\n",
      "\n",
      "The search_str was \"C:\\Users\\patri\\OneDrive - Johns Hopkins\\tuh_epilepsy_vs_normal\\derivatives\\ICA\\sub-00008867\\**\\sub-00008867_ses-001*events.tsv\"\n",
      "  raw = mne_bids.read_raw_bids(bids_path)\n",
      "<ipython-input-4-5b38eb41f93b>:17: RuntimeWarning: Did not find any coordsystem.json associated with sub-00008867_ses-001_task-normal_run-000.\n",
      "\n",
      "The search_str was \"C:\\Users\\patri\\OneDrive - Johns Hopkins\\tuh_epilepsy_vs_normal\\derivatives\\ICA\\sub-00008867\\**\\sub-00008867_ses-001*coordsystem.json\"\n",
      "  raw = mne_bids.read_raw_bids(bids_path)\n"
     ]
    },
    {
     "name": "stdout",
     "output_type": "stream",
     "text": [
      "Extracting parameters from C:\\Users\\patri\\OneDrive - Johns Hopkins\\tuh_epilepsy_vs_normal\\derivatives\\ICA\\sub-00008090\\ses-001\\eeg\\sub-00008090_ses-001_task-normal_run-001_eeg.vhdr...\n",
      "Setting channel info structure...\n",
      "Reading channel info from C:\\Users\\patri\\OneDrive - Johns Hopkins\\tuh_epilepsy_vs_normal\\derivatives\\ICA\\sub-00008090\\ses-001\\eeg\\sub-00008090_ses-001_task-normal_run-001_channels.tsv.\n"
     ]
    },
    {
     "name": "stderr",
     "output_type": "stream",
     "text": [
      "<ipython-input-4-5b38eb41f93b>:17: RuntimeWarning: Did not find any events.tsv associated with sub-00008090_ses-001_task-normal_run-001.\n",
      "\n",
      "The search_str was \"C:\\Users\\patri\\OneDrive - Johns Hopkins\\tuh_epilepsy_vs_normal\\derivatives\\ICA\\sub-00008090\\**\\sub-00008090_ses-001*events.tsv\"\n",
      "  raw = mne_bids.read_raw_bids(bids_path)\n",
      "<ipython-input-4-5b38eb41f93b>:17: RuntimeWarning: Did not find any coordsystem.json associated with sub-00008090_ses-001_task-normal_run-001.\n",
      "\n",
      "The search_str was \"C:\\Users\\patri\\OneDrive - Johns Hopkins\\tuh_epilepsy_vs_normal\\derivatives\\ICA\\sub-00008090\\**\\sub-00008090_ses-001*coordsystem.json\"\n",
      "  raw = mne_bids.read_raw_bids(bids_path)\n"
     ]
    },
    {
     "name": "stdout",
     "output_type": "stream",
     "text": [
      "Extracting parameters from C:\\Users\\patri\\OneDrive - Johns Hopkins\\tuh_epilepsy_vs_normal\\derivatives\\ICA\\sub-00008695\\ses-001\\eeg\\sub-00008695_ses-001_task-normal_run-000_eeg.vhdr...\n",
      "Setting channel info structure...\n",
      "Reading channel info from C:\\Users\\patri\\OneDrive - Johns Hopkins\\tuh_epilepsy_vs_normal\\derivatives\\ICA\\sub-00008695\\ses-001\\eeg\\sub-00008695_ses-001_task-normal_run-000_channels.tsv.\n"
     ]
    },
    {
     "name": "stderr",
     "output_type": "stream",
     "text": [
      "<ipython-input-4-5b38eb41f93b>:17: RuntimeWarning: Did not find any events.tsv associated with sub-00008695_ses-001_task-normal_run-000.\n",
      "\n",
      "The search_str was \"C:\\Users\\patri\\OneDrive - Johns Hopkins\\tuh_epilepsy_vs_normal\\derivatives\\ICA\\sub-00008695\\**\\sub-00008695_ses-001*events.tsv\"\n",
      "  raw = mne_bids.read_raw_bids(bids_path)\n",
      "<ipython-input-4-5b38eb41f93b>:17: RuntimeWarning: Did not find any coordsystem.json associated with sub-00008695_ses-001_task-normal_run-000.\n",
      "\n",
      "The search_str was \"C:\\Users\\patri\\OneDrive - Johns Hopkins\\tuh_epilepsy_vs_normal\\derivatives\\ICA\\sub-00008695\\**\\sub-00008695_ses-001*coordsystem.json\"\n",
      "  raw = mne_bids.read_raw_bids(bids_path)\n"
     ]
    },
    {
     "name": "stdout",
     "output_type": "stream",
     "text": [
      "Extracting parameters from C:\\Users\\patri\\OneDrive - Johns Hopkins\\tuh_epilepsy_vs_normal\\derivatives\\ICA\\sub-00008037\\ses-001\\eeg\\sub-00008037_ses-001_task-normal_run-000_eeg.vhdr...\n",
      "Setting channel info structure...\n",
      "Reading channel info from C:\\Users\\patri\\OneDrive - Johns Hopkins\\tuh_epilepsy_vs_normal\\derivatives\\ICA\\sub-00008037\\ses-001\\eeg\\sub-00008037_ses-001_task-normal_run-000_channels.tsv.\n"
     ]
    },
    {
     "name": "stderr",
     "output_type": "stream",
     "text": [
      "<ipython-input-4-5b38eb41f93b>:17: RuntimeWarning: Did not find any events.tsv associated with sub-00008037_ses-001_task-normal_run-000.\n",
      "\n",
      "The search_str was \"C:\\Users\\patri\\OneDrive - Johns Hopkins\\tuh_epilepsy_vs_normal\\derivatives\\ICA\\sub-00008037\\**\\sub-00008037_ses-001*events.tsv\"\n",
      "  raw = mne_bids.read_raw_bids(bids_path)\n",
      "<ipython-input-4-5b38eb41f93b>:17: RuntimeWarning: Did not find any coordsystem.json associated with sub-00008037_ses-001_task-normal_run-000.\n",
      "\n",
      "The search_str was \"C:\\Users\\patri\\OneDrive - Johns Hopkins\\tuh_epilepsy_vs_normal\\derivatives\\ICA\\sub-00008037\\**\\sub-00008037_ses-001*coordsystem.json\"\n",
      "  raw = mne_bids.read_raw_bids(bids_path)\n"
     ]
    },
    {
     "name": "stdout",
     "output_type": "stream",
     "text": [
      "Extracting parameters from C:\\Users\\patri\\OneDrive - Johns Hopkins\\tuh_epilepsy_vs_normal\\derivatives\\ICA\\sub-00010460\\ses-001\\eeg\\sub-00010460_ses-001_task-normal_run-001_eeg.vhdr...\n",
      "Setting channel info structure...\n",
      "Reading channel info from C:\\Users\\patri\\OneDrive - Johns Hopkins\\tuh_epilepsy_vs_normal\\derivatives\\ICA\\sub-00010460\\ses-001\\eeg\\sub-00010460_ses-001_task-normal_run-001_channels.tsv.\n"
     ]
    },
    {
     "name": "stderr",
     "output_type": "stream",
     "text": [
      "<ipython-input-4-5b38eb41f93b>:17: RuntimeWarning: Did not find any events.tsv associated with sub-00010460_ses-001_task-normal_run-001.\n",
      "\n",
      "The search_str was \"C:\\Users\\patri\\OneDrive - Johns Hopkins\\tuh_epilepsy_vs_normal\\derivatives\\ICA\\sub-00010460\\**\\sub-00010460_ses-001*events.tsv\"\n",
      "  raw = mne_bids.read_raw_bids(bids_path)\n",
      "<ipython-input-4-5b38eb41f93b>:17: RuntimeWarning: Did not find any coordsystem.json associated with sub-00010460_ses-001_task-normal_run-001.\n",
      "\n",
      "The search_str was \"C:\\Users\\patri\\OneDrive - Johns Hopkins\\tuh_epilepsy_vs_normal\\derivatives\\ICA\\sub-00010460\\**\\sub-00010460_ses-001*coordsystem.json\"\n",
      "  raw = mne_bids.read_raw_bids(bids_path)\n"
     ]
    },
    {
     "name": "stdout",
     "output_type": "stream",
     "text": [
      "Extracting parameters from C:\\Users\\patri\\OneDrive - Johns Hopkins\\tuh_epilepsy_vs_normal\\derivatives\\ICA\\sub-00010838\\ses-001\\eeg\\sub-00010838_ses-001_task-normal_run-000_eeg.vhdr...\n",
      "Setting channel info structure...\n",
      "Reading channel info from C:\\Users\\patri\\OneDrive - Johns Hopkins\\tuh_epilepsy_vs_normal\\derivatives\\ICA\\sub-00010838\\ses-001\\eeg\\sub-00010838_ses-001_task-normal_run-000_channels.tsv.\n"
     ]
    },
    {
     "name": "stderr",
     "output_type": "stream",
     "text": [
      "<ipython-input-4-5b38eb41f93b>:17: RuntimeWarning: Did not find any events.tsv associated with sub-00010838_ses-001_task-normal_run-000.\n",
      "\n",
      "The search_str was \"C:\\Users\\patri\\OneDrive - Johns Hopkins\\tuh_epilepsy_vs_normal\\derivatives\\ICA\\sub-00010838\\**\\sub-00010838_ses-001*events.tsv\"\n",
      "  raw = mne_bids.read_raw_bids(bids_path)\n",
      "<ipython-input-4-5b38eb41f93b>:17: RuntimeWarning: Did not find any coordsystem.json associated with sub-00010838_ses-001_task-normal_run-000.\n",
      "\n",
      "The search_str was \"C:\\Users\\patri\\OneDrive - Johns Hopkins\\tuh_epilepsy_vs_normal\\derivatives\\ICA\\sub-00010838\\**\\sub-00010838_ses-001*coordsystem.json\"\n",
      "  raw = mne_bids.read_raw_bids(bids_path)\n"
     ]
    },
    {
     "name": "stdout",
     "output_type": "stream",
     "text": [
      "Extracting parameters from C:\\Users\\patri\\OneDrive - Johns Hopkins\\tuh_epilepsy_vs_normal\\derivatives\\ICA\\sub-00006533\\ses-001\\eeg\\sub-00006533_ses-001_task-normal_run-001_eeg.vhdr...\n",
      "Setting channel info structure...\n",
      "Reading channel info from C:\\Users\\patri\\OneDrive - Johns Hopkins\\tuh_epilepsy_vs_normal\\derivatives\\ICA\\sub-00006533\\ses-001\\eeg\\sub-00006533_ses-001_task-normal_run-001_channels.tsv.\n"
     ]
    },
    {
     "name": "stderr",
     "output_type": "stream",
     "text": [
      "<ipython-input-4-5b38eb41f93b>:17: RuntimeWarning: Did not find any events.tsv associated with sub-00006533_ses-001_task-normal_run-001.\n",
      "\n",
      "The search_str was \"C:\\Users\\patri\\OneDrive - Johns Hopkins\\tuh_epilepsy_vs_normal\\derivatives\\ICA\\sub-00006533\\**\\sub-00006533_ses-001*events.tsv\"\n",
      "  raw = mne_bids.read_raw_bids(bids_path)\n",
      "<ipython-input-4-5b38eb41f93b>:17: RuntimeWarning: Did not find any coordsystem.json associated with sub-00006533_ses-001_task-normal_run-001.\n",
      "\n",
      "The search_str was \"C:\\Users\\patri\\OneDrive - Johns Hopkins\\tuh_epilepsy_vs_normal\\derivatives\\ICA\\sub-00006533\\**\\sub-00006533_ses-001*coordsystem.json\"\n",
      "  raw = mne_bids.read_raw_bids(bids_path)\n"
     ]
    },
    {
     "name": "stdout",
     "output_type": "stream",
     "text": [
      "Extracting parameters from C:\\Users\\patri\\OneDrive - Johns Hopkins\\tuh_epilepsy_vs_normal\\derivatives\\ICA\\sub-00010017\\ses-001\\eeg\\sub-00010017_ses-001_task-normal_run-000_eeg.vhdr...\n",
      "Setting channel info structure...\n",
      "Reading channel info from C:\\Users\\patri\\OneDrive - Johns Hopkins\\tuh_epilepsy_vs_normal\\derivatives\\ICA\\sub-00010017\\ses-001\\eeg\\sub-00010017_ses-001_task-normal_run-000_channels.tsv.\n"
     ]
    },
    {
     "name": "stderr",
     "output_type": "stream",
     "text": [
      "<ipython-input-4-5b38eb41f93b>:17: RuntimeWarning: Did not find any events.tsv associated with sub-00010017_ses-001_task-normal_run-000.\n",
      "\n",
      "The search_str was \"C:\\Users\\patri\\OneDrive - Johns Hopkins\\tuh_epilepsy_vs_normal\\derivatives\\ICA\\sub-00010017\\**\\sub-00010017_ses-001*events.tsv\"\n",
      "  raw = mne_bids.read_raw_bids(bids_path)\n",
      "<ipython-input-4-5b38eb41f93b>:17: RuntimeWarning: Did not find any coordsystem.json associated with sub-00010017_ses-001_task-normal_run-000.\n",
      "\n",
      "The search_str was \"C:\\Users\\patri\\OneDrive - Johns Hopkins\\tuh_epilepsy_vs_normal\\derivatives\\ICA\\sub-00010017\\**\\sub-00010017_ses-001*coordsystem.json\"\n",
      "  raw = mne_bids.read_raw_bids(bids_path)\n"
     ]
    },
    {
     "name": "stdout",
     "output_type": "stream",
     "text": [
      "Extracting parameters from C:\\Users\\patri\\OneDrive - Johns Hopkins\\tuh_epilepsy_vs_normal\\derivatives\\ICA\\sub-00010442\\ses-001\\eeg\\sub-00010442_ses-001_task-normal_run-000_eeg.vhdr...\n",
      "Setting channel info structure...\n",
      "Reading channel info from C:\\Users\\patri\\OneDrive - Johns Hopkins\\tuh_epilepsy_vs_normal\\derivatives\\ICA\\sub-00010442\\ses-001\\eeg\\sub-00010442_ses-001_task-normal_run-000_channels.tsv.\n"
     ]
    },
    {
     "name": "stderr",
     "output_type": "stream",
     "text": [
      "<ipython-input-4-5b38eb41f93b>:17: RuntimeWarning: Did not find any events.tsv associated with sub-00010442_ses-001_task-normal_run-000.\n",
      "\n",
      "The search_str was \"C:\\Users\\patri\\OneDrive - Johns Hopkins\\tuh_epilepsy_vs_normal\\derivatives\\ICA\\sub-00010442\\**\\sub-00010442_ses-001*events.tsv\"\n",
      "  raw = mne_bids.read_raw_bids(bids_path)\n",
      "<ipython-input-4-5b38eb41f93b>:17: RuntimeWarning: Did not find any coordsystem.json associated with sub-00010442_ses-001_task-normal_run-000.\n",
      "\n",
      "The search_str was \"C:\\Users\\patri\\OneDrive - Johns Hopkins\\tuh_epilepsy_vs_normal\\derivatives\\ICA\\sub-00010442\\**\\sub-00010442_ses-001*coordsystem.json\"\n",
      "  raw = mne_bids.read_raw_bids(bids_path)\n"
     ]
    },
    {
     "name": "stdout",
     "output_type": "stream",
     "text": [
      "Extracting parameters from C:\\Users\\patri\\OneDrive - Johns Hopkins\\tuh_epilepsy_vs_normal\\derivatives\\ICA\\sub-00008644\\ses-001\\eeg\\sub-00008644_ses-001_task-normal_run-000_eeg.vhdr...\n",
      "Setting channel info structure...\n",
      "Reading channel info from C:\\Users\\patri\\OneDrive - Johns Hopkins\\tuh_epilepsy_vs_normal\\derivatives\\ICA\\sub-00008644\\ses-001\\eeg\\sub-00008644_ses-001_task-normal_run-000_channels.tsv.\n"
     ]
    },
    {
     "name": "stderr",
     "output_type": "stream",
     "text": [
      "<ipython-input-4-5b38eb41f93b>:17: RuntimeWarning: Did not find any events.tsv associated with sub-00008644_ses-001_task-normal_run-000.\n",
      "\n",
      "The search_str was \"C:\\Users\\patri\\OneDrive - Johns Hopkins\\tuh_epilepsy_vs_normal\\derivatives\\ICA\\sub-00008644\\**\\sub-00008644_ses-001*events.tsv\"\n",
      "  raw = mne_bids.read_raw_bids(bids_path)\n",
      "<ipython-input-4-5b38eb41f93b>:17: RuntimeWarning: Did not find any coordsystem.json associated with sub-00008644_ses-001_task-normal_run-000.\n",
      "\n",
      "The search_str was \"C:\\Users\\patri\\OneDrive - Johns Hopkins\\tuh_epilepsy_vs_normal\\derivatives\\ICA\\sub-00008644\\**\\sub-00008644_ses-001*coordsystem.json\"\n",
      "  raw = mne_bids.read_raw_bids(bids_path)\n"
     ]
    },
    {
     "name": "stdout",
     "output_type": "stream",
     "text": [
      "Extracting parameters from C:\\Users\\patri\\OneDrive - Johns Hopkins\\tuh_epilepsy_vs_normal\\derivatives\\ICA\\sub-00010075\\ses-001\\eeg\\sub-00010075_ses-001_task-normal_run-000_eeg.vhdr...\n",
      "Setting channel info structure...\n",
      "Reading channel info from C:\\Users\\patri\\OneDrive - Johns Hopkins\\tuh_epilepsy_vs_normal\\derivatives\\ICA\\sub-00010075\\ses-001\\eeg\\sub-00010075_ses-001_task-normal_run-000_channels.tsv.\n"
     ]
    },
    {
     "name": "stderr",
     "output_type": "stream",
     "text": [
      "<ipython-input-4-5b38eb41f93b>:17: RuntimeWarning: Did not find any events.tsv associated with sub-00010075_ses-001_task-normal_run-000.\n",
      "\n",
      "The search_str was \"C:\\Users\\patri\\OneDrive - Johns Hopkins\\tuh_epilepsy_vs_normal\\derivatives\\ICA\\sub-00010075\\**\\sub-00010075_ses-001*events.tsv\"\n",
      "  raw = mne_bids.read_raw_bids(bids_path)\n",
      "<ipython-input-4-5b38eb41f93b>:17: RuntimeWarning: Did not find any coordsystem.json associated with sub-00010075_ses-001_task-normal_run-000.\n",
      "\n",
      "The search_str was \"C:\\Users\\patri\\OneDrive - Johns Hopkins\\tuh_epilepsy_vs_normal\\derivatives\\ICA\\sub-00010075\\**\\sub-00010075_ses-001*coordsystem.json\"\n",
      "  raw = mne_bids.read_raw_bids(bids_path)\n"
     ]
    },
    {
     "name": "stdout",
     "output_type": "stream",
     "text": [
      "Extracting parameters from C:\\Users\\patri\\OneDrive - Johns Hopkins\\tuh_epilepsy_vs_normal\\derivatives\\ICA\\sub-00010429\\ses-001\\eeg\\sub-00010429_ses-001_task-normal_run-000_eeg.vhdr...\n",
      "Setting channel info structure...\n",
      "Reading channel info from C:\\Users\\patri\\OneDrive - Johns Hopkins\\tuh_epilepsy_vs_normal\\derivatives\\ICA\\sub-00010429\\ses-001\\eeg\\sub-00010429_ses-001_task-normal_run-000_channels.tsv.\n"
     ]
    },
    {
     "name": "stderr",
     "output_type": "stream",
     "text": [
      "<ipython-input-4-5b38eb41f93b>:17: RuntimeWarning: Did not find any events.tsv associated with sub-00010429_ses-001_task-normal_run-000.\n",
      "\n",
      "The search_str was \"C:\\Users\\patri\\OneDrive - Johns Hopkins\\tuh_epilepsy_vs_normal\\derivatives\\ICA\\sub-00010429\\**\\sub-00010429_ses-001*events.tsv\"\n",
      "  raw = mne_bids.read_raw_bids(bids_path)\n",
      "<ipython-input-4-5b38eb41f93b>:17: RuntimeWarning: Did not find any coordsystem.json associated with sub-00010429_ses-001_task-normal_run-000.\n",
      "\n",
      "The search_str was \"C:\\Users\\patri\\OneDrive - Johns Hopkins\\tuh_epilepsy_vs_normal\\derivatives\\ICA\\sub-00010429\\**\\sub-00010429_ses-001*coordsystem.json\"\n",
      "  raw = mne_bids.read_raw_bids(bids_path)\n"
     ]
    },
    {
     "name": "stdout",
     "output_type": "stream",
     "text": [
      "Extracting parameters from C:\\Users\\patri\\OneDrive - Johns Hopkins\\tuh_epilepsy_vs_normal\\derivatives\\ICA\\sub-00010624\\ses-001\\eeg\\sub-00010624_ses-001_task-normal_run-000_eeg.vhdr...\n",
      "Setting channel info structure...\n",
      "Reading channel info from C:\\Users\\patri\\OneDrive - Johns Hopkins\\tuh_epilepsy_vs_normal\\derivatives\\ICA\\sub-00010624\\ses-001\\eeg\\sub-00010624_ses-001_task-normal_run-000_channels.tsv.\n"
     ]
    },
    {
     "name": "stderr",
     "output_type": "stream",
     "text": [
      "<ipython-input-4-5b38eb41f93b>:17: RuntimeWarning: Did not find any events.tsv associated with sub-00010624_ses-001_task-normal_run-000.\n",
      "\n",
      "The search_str was \"C:\\Users\\patri\\OneDrive - Johns Hopkins\\tuh_epilepsy_vs_normal\\derivatives\\ICA\\sub-00010624\\**\\sub-00010624_ses-001*events.tsv\"\n",
      "  raw = mne_bids.read_raw_bids(bids_path)\n",
      "<ipython-input-4-5b38eb41f93b>:17: RuntimeWarning: Did not find any coordsystem.json associated with sub-00010624_ses-001_task-normal_run-000.\n",
      "\n",
      "The search_str was \"C:\\Users\\patri\\OneDrive - Johns Hopkins\\tuh_epilepsy_vs_normal\\derivatives\\ICA\\sub-00010624\\**\\sub-00010624_ses-001*coordsystem.json\"\n",
      "  raw = mne_bids.read_raw_bids(bids_path)\n"
     ]
    },
    {
     "name": "stdout",
     "output_type": "stream",
     "text": [
      "Extracting parameters from C:\\Users\\patri\\OneDrive - Johns Hopkins\\tuh_epilepsy_vs_normal\\derivatives\\ICA\\sub-00010444\\ses-001\\eeg\\sub-00010444_ses-001_task-normal_run-000_eeg.vhdr...\n",
      "Setting channel info structure...\n",
      "Reading channel info from C:\\Users\\patri\\OneDrive - Johns Hopkins\\tuh_epilepsy_vs_normal\\derivatives\\ICA\\sub-00010444\\ses-001\\eeg\\sub-00010444_ses-001_task-normal_run-000_channels.tsv.\n"
     ]
    },
    {
     "name": "stderr",
     "output_type": "stream",
     "text": [
      "<ipython-input-4-5b38eb41f93b>:17: RuntimeWarning: Did not find any events.tsv associated with sub-00010444_ses-001_task-normal_run-000.\n",
      "\n",
      "The search_str was \"C:\\Users\\patri\\OneDrive - Johns Hopkins\\tuh_epilepsy_vs_normal\\derivatives\\ICA\\sub-00010444\\**\\sub-00010444_ses-001*events.tsv\"\n",
      "  raw = mne_bids.read_raw_bids(bids_path)\n",
      "<ipython-input-4-5b38eb41f93b>:17: RuntimeWarning: Did not find any coordsystem.json associated with sub-00010444_ses-001_task-normal_run-000.\n",
      "\n",
      "The search_str was \"C:\\Users\\patri\\OneDrive - Johns Hopkins\\tuh_epilepsy_vs_normal\\derivatives\\ICA\\sub-00010444\\**\\sub-00010444_ses-001*coordsystem.json\"\n",
      "  raw = mne_bids.read_raw_bids(bids_path)\n"
     ]
    },
    {
     "name": "stdout",
     "output_type": "stream",
     "text": [
      "Extracting parameters from C:\\Users\\patri\\OneDrive - Johns Hopkins\\tuh_epilepsy_vs_normal\\derivatives\\ICA\\sub-00010472\\ses-001\\eeg\\sub-00010472_ses-001_task-normal_run-000_eeg.vhdr...\n",
      "Setting channel info structure...\n",
      "Reading channel info from C:\\Users\\patri\\OneDrive - Johns Hopkins\\tuh_epilepsy_vs_normal\\derivatives\\ICA\\sub-00010472\\ses-001\\eeg\\sub-00010472_ses-001_task-normal_run-000_channels.tsv.\n"
     ]
    },
    {
     "name": "stderr",
     "output_type": "stream",
     "text": [
      "<ipython-input-4-5b38eb41f93b>:17: RuntimeWarning: Did not find any events.tsv associated with sub-00010472_ses-001_task-normal_run-000.\n",
      "\n",
      "The search_str was \"C:\\Users\\patri\\OneDrive - Johns Hopkins\\tuh_epilepsy_vs_normal\\derivatives\\ICA\\sub-00010472\\**\\sub-00010472_ses-001*events.tsv\"\n",
      "  raw = mne_bids.read_raw_bids(bids_path)\n",
      "<ipython-input-4-5b38eb41f93b>:17: RuntimeWarning: Did not find any coordsystem.json associated with sub-00010472_ses-001_task-normal_run-000.\n",
      "\n",
      "The search_str was \"C:\\Users\\patri\\OneDrive - Johns Hopkins\\tuh_epilepsy_vs_normal\\derivatives\\ICA\\sub-00010472\\**\\sub-00010472_ses-001*coordsystem.json\"\n",
      "  raw = mne_bids.read_raw_bids(bids_path)\n"
     ]
    },
    {
     "name": "stdout",
     "output_type": "stream",
     "text": [
      "Extracting parameters from C:\\Users\\patri\\OneDrive - Johns Hopkins\\tuh_epilepsy_vs_normal\\derivatives\\ICA\\sub-00008446\\ses-001\\eeg\\sub-00008446_ses-001_task-normal_run-000_eeg.vhdr...\n",
      "Setting channel info structure...\n",
      "Reading channel info from C:\\Users\\patri\\OneDrive - Johns Hopkins\\tuh_epilepsy_vs_normal\\derivatives\\ICA\\sub-00008446\\ses-001\\eeg\\sub-00008446_ses-001_task-normal_run-000_channels.tsv.\n"
     ]
    },
    {
     "name": "stderr",
     "output_type": "stream",
     "text": [
      "<ipython-input-4-5b38eb41f93b>:17: RuntimeWarning: Did not find any events.tsv associated with sub-00008446_ses-001_task-normal_run-000.\n",
      "\n",
      "The search_str was \"C:\\Users\\patri\\OneDrive - Johns Hopkins\\tuh_epilepsy_vs_normal\\derivatives\\ICA\\sub-00008446\\**\\sub-00008446_ses-001*events.tsv\"\n",
      "  raw = mne_bids.read_raw_bids(bids_path)\n",
      "<ipython-input-4-5b38eb41f93b>:17: RuntimeWarning: Did not find any coordsystem.json associated with sub-00008446_ses-001_task-normal_run-000.\n",
      "\n",
      "The search_str was \"C:\\Users\\patri\\OneDrive - Johns Hopkins\\tuh_epilepsy_vs_normal\\derivatives\\ICA\\sub-00008446\\**\\sub-00008446_ses-001*coordsystem.json\"\n",
      "  raw = mne_bids.read_raw_bids(bids_path)\n"
     ]
    },
    {
     "name": "stdout",
     "output_type": "stream",
     "text": [
      "Extracting parameters from C:\\Users\\patri\\OneDrive - Johns Hopkins\\tuh_epilepsy_vs_normal\\derivatives\\ICA\\sub-00009560\\ses-001\\eeg\\sub-00009560_ses-001_task-normal_run-000_eeg.vhdr...\n",
      "Setting channel info structure...\n",
      "Reading channel info from C:\\Users\\patri\\OneDrive - Johns Hopkins\\tuh_epilepsy_vs_normal\\derivatives\\ICA\\sub-00009560\\ses-001\\eeg\\sub-00009560_ses-001_task-normal_run-000_channels.tsv.\n"
     ]
    },
    {
     "name": "stderr",
     "output_type": "stream",
     "text": [
      "<ipython-input-4-5b38eb41f93b>:17: RuntimeWarning: Did not find any events.tsv associated with sub-00009560_ses-001_task-normal_run-000.\n",
      "\n",
      "The search_str was \"C:\\Users\\patri\\OneDrive - Johns Hopkins\\tuh_epilepsy_vs_normal\\derivatives\\ICA\\sub-00009560\\**\\sub-00009560_ses-001*events.tsv\"\n",
      "  raw = mne_bids.read_raw_bids(bids_path)\n",
      "<ipython-input-4-5b38eb41f93b>:17: RuntimeWarning: Did not find any coordsystem.json associated with sub-00009560_ses-001_task-normal_run-000.\n",
      "\n",
      "The search_str was \"C:\\Users\\patri\\OneDrive - Johns Hopkins\\tuh_epilepsy_vs_normal\\derivatives\\ICA\\sub-00009560\\**\\sub-00009560_ses-001*coordsystem.json\"\n",
      "  raw = mne_bids.read_raw_bids(bids_path)\n"
     ]
    },
    {
     "name": "stdout",
     "output_type": "stream",
     "text": [
      "Extracting parameters from C:\\Users\\patri\\OneDrive - Johns Hopkins\\tuh_epilepsy_vs_normal\\derivatives\\ICA\\sub-00010419\\ses-001\\eeg\\sub-00010419_ses-001_task-normal_run-000_eeg.vhdr...\n",
      "Setting channel info structure...\n",
      "Reading channel info from C:\\Users\\patri\\OneDrive - Johns Hopkins\\tuh_epilepsy_vs_normal\\derivatives\\ICA\\sub-00010419\\ses-001\\eeg\\sub-00010419_ses-001_task-normal_run-000_channels.tsv.\n"
     ]
    },
    {
     "name": "stderr",
     "output_type": "stream",
     "text": [
      "<ipython-input-4-5b38eb41f93b>:17: RuntimeWarning: Did not find any events.tsv associated with sub-00010419_ses-001_task-normal_run-000.\n",
      "\n",
      "The search_str was \"C:\\Users\\patri\\OneDrive - Johns Hopkins\\tuh_epilepsy_vs_normal\\derivatives\\ICA\\sub-00010419\\**\\sub-00010419_ses-001*events.tsv\"\n",
      "  raw = mne_bids.read_raw_bids(bids_path)\n",
      "<ipython-input-4-5b38eb41f93b>:17: RuntimeWarning: Did not find any coordsystem.json associated with sub-00010419_ses-001_task-normal_run-000.\n",
      "\n",
      "The search_str was \"C:\\Users\\patri\\OneDrive - Johns Hopkins\\tuh_epilepsy_vs_normal\\derivatives\\ICA\\sub-00010419\\**\\sub-00010419_ses-001*coordsystem.json\"\n",
      "  raw = mne_bids.read_raw_bids(bids_path)\n"
     ]
    },
    {
     "name": "stdout",
     "output_type": "stream",
     "text": [
      "Extracting parameters from C:\\Users\\patri\\OneDrive - Johns Hopkins\\tuh_epilepsy_vs_normal\\derivatives\\ICA\\sub-00007834\\ses-001\\eeg\\sub-00007834_ses-001_task-normal_run-004_eeg.vhdr...\n",
      "Setting channel info structure...\n",
      "Reading channel info from C:\\Users\\patri\\OneDrive - Johns Hopkins\\tuh_epilepsy_vs_normal\\derivatives\\ICA\\sub-00007834\\ses-001\\eeg\\sub-00007834_ses-001_task-normal_run-004_channels.tsv.\n"
     ]
    },
    {
     "name": "stderr",
     "output_type": "stream",
     "text": [
      "<ipython-input-4-5b38eb41f93b>:17: RuntimeWarning: Did not find any events.tsv associated with sub-00007834_ses-001_task-normal_run-004.\n",
      "\n",
      "The search_str was \"C:\\Users\\patri\\OneDrive - Johns Hopkins\\tuh_epilepsy_vs_normal\\derivatives\\ICA\\sub-00007834\\**\\sub-00007834_ses-001*events.tsv\"\n",
      "  raw = mne_bids.read_raw_bids(bids_path)\n",
      "<ipython-input-4-5b38eb41f93b>:17: RuntimeWarning: Did not find any coordsystem.json associated with sub-00007834_ses-001_task-normal_run-004.\n",
      "\n",
      "The search_str was \"C:\\Users\\patri\\OneDrive - Johns Hopkins\\tuh_epilepsy_vs_normal\\derivatives\\ICA\\sub-00007834\\**\\sub-00007834_ses-001*coordsystem.json\"\n",
      "  raw = mne_bids.read_raw_bids(bids_path)\n"
     ]
    },
    {
     "name": "stdout",
     "output_type": "stream",
     "text": [
      "Extracting parameters from C:\\Users\\patri\\OneDrive - Johns Hopkins\\tuh_epilepsy_vs_normal\\derivatives\\ICA\\sub-00010101\\ses-001\\eeg\\sub-00010101_ses-001_task-normal_run-000_eeg.vhdr...\n",
      "Setting channel info structure...\n",
      "Reading channel info from C:\\Users\\patri\\OneDrive - Johns Hopkins\\tuh_epilepsy_vs_normal\\derivatives\\ICA\\sub-00010101\\ses-001\\eeg\\sub-00010101_ses-001_task-normal_run-000_channels.tsv.\n"
     ]
    },
    {
     "name": "stderr",
     "output_type": "stream",
     "text": [
      "<ipython-input-4-5b38eb41f93b>:17: RuntimeWarning: Did not find any events.tsv associated with sub-00010101_ses-001_task-normal_run-000.\n",
      "\n",
      "The search_str was \"C:\\Users\\patri\\OneDrive - Johns Hopkins\\tuh_epilepsy_vs_normal\\derivatives\\ICA\\sub-00010101\\**\\sub-00010101_ses-001*events.tsv\"\n",
      "  raw = mne_bids.read_raw_bids(bids_path)\n",
      "<ipython-input-4-5b38eb41f93b>:17: RuntimeWarning: Did not find any coordsystem.json associated with sub-00010101_ses-001_task-normal_run-000.\n",
      "\n",
      "The search_str was \"C:\\Users\\patri\\OneDrive - Johns Hopkins\\tuh_epilepsy_vs_normal\\derivatives\\ICA\\sub-00010101\\**\\sub-00010101_ses-001*coordsystem.json\"\n",
      "  raw = mne_bids.read_raw_bids(bids_path)\n"
     ]
    },
    {
     "name": "stdout",
     "output_type": "stream",
     "text": [
      "Extracting parameters from C:\\Users\\patri\\OneDrive - Johns Hopkins\\tuh_epilepsy_vs_normal\\derivatives\\ICA\\sub-00010155\\ses-001\\eeg\\sub-00010155_ses-001_task-normal_run-000_eeg.vhdr...\n",
      "Setting channel info structure...\n",
      "Reading channel info from C:\\Users\\patri\\OneDrive - Johns Hopkins\\tuh_epilepsy_vs_normal\\derivatives\\ICA\\sub-00010155\\ses-001\\eeg\\sub-00010155_ses-001_task-normal_run-000_channels.tsv.\n"
     ]
    },
    {
     "name": "stderr",
     "output_type": "stream",
     "text": [
      "<ipython-input-4-5b38eb41f93b>:17: RuntimeWarning: Did not find any events.tsv associated with sub-00010155_ses-001_task-normal_run-000.\n",
      "\n",
      "The search_str was \"C:\\Users\\patri\\OneDrive - Johns Hopkins\\tuh_epilepsy_vs_normal\\derivatives\\ICA\\sub-00010155\\**\\sub-00010155_ses-001*events.tsv\"\n",
      "  raw = mne_bids.read_raw_bids(bids_path)\n",
      "<ipython-input-4-5b38eb41f93b>:17: RuntimeWarning: Did not find any coordsystem.json associated with sub-00010155_ses-001_task-normal_run-000.\n",
      "\n",
      "The search_str was \"C:\\Users\\patri\\OneDrive - Johns Hopkins\\tuh_epilepsy_vs_normal\\derivatives\\ICA\\sub-00010155\\**\\sub-00010155_ses-001*coordsystem.json\"\n",
      "  raw = mne_bids.read_raw_bids(bids_path)\n"
     ]
    },
    {
     "name": "stdout",
     "output_type": "stream",
     "text": [
      "Extracting parameters from C:\\Users\\patri\\OneDrive - Johns Hopkins\\tuh_epilepsy_vs_normal\\derivatives\\ICA\\sub-00008134\\ses-001\\eeg\\sub-00008134_ses-001_task-normal_run-002_eeg.vhdr...\n",
      "Setting channel info structure...\n",
      "Reading channel info from C:\\Users\\patri\\OneDrive - Johns Hopkins\\tuh_epilepsy_vs_normal\\derivatives\\ICA\\sub-00008134\\ses-001\\eeg\\sub-00008134_ses-001_task-normal_run-002_channels.tsv.\n"
     ]
    },
    {
     "name": "stderr",
     "output_type": "stream",
     "text": [
      "<ipython-input-4-5b38eb41f93b>:17: RuntimeWarning: Did not find any events.tsv associated with sub-00008134_ses-001_task-normal_run-002.\n",
      "\n",
      "The search_str was \"C:\\Users\\patri\\OneDrive - Johns Hopkins\\tuh_epilepsy_vs_normal\\derivatives\\ICA\\sub-00008134\\**\\sub-00008134_ses-001*events.tsv\"\n",
      "  raw = mne_bids.read_raw_bids(bids_path)\n",
      "<ipython-input-4-5b38eb41f93b>:17: RuntimeWarning: Did not find any coordsystem.json associated with sub-00008134_ses-001_task-normal_run-002.\n",
      "\n",
      "The search_str was \"C:\\Users\\patri\\OneDrive - Johns Hopkins\\tuh_epilepsy_vs_normal\\derivatives\\ICA\\sub-00008134\\**\\sub-00008134_ses-001*coordsystem.json\"\n",
      "  raw = mne_bids.read_raw_bids(bids_path)\n"
     ]
    },
    {
     "name": "stdout",
     "output_type": "stream",
     "text": [
      "Extracting parameters from C:\\Users\\patri\\OneDrive - Johns Hopkins\\tuh_epilepsy_vs_normal\\derivatives\\ICA\\sub-00010107\\ses-001\\eeg\\sub-00010107_ses-001_task-normal_run-000_eeg.vhdr...\n",
      "Setting channel info structure...\n",
      "Reading channel info from C:\\Users\\patri\\OneDrive - Johns Hopkins\\tuh_epilepsy_vs_normal\\derivatives\\ICA\\sub-00010107\\ses-001\\eeg\\sub-00010107_ses-001_task-normal_run-000_channels.tsv.\n"
     ]
    },
    {
     "name": "stderr",
     "output_type": "stream",
     "text": [
      "<ipython-input-4-5b38eb41f93b>:17: RuntimeWarning: Did not find any events.tsv associated with sub-00010107_ses-001_task-normal_run-000.\n",
      "\n",
      "The search_str was \"C:\\Users\\patri\\OneDrive - Johns Hopkins\\tuh_epilepsy_vs_normal\\derivatives\\ICA\\sub-00010107\\**\\sub-00010107_ses-001*events.tsv\"\n",
      "  raw = mne_bids.read_raw_bids(bids_path)\n",
      "<ipython-input-4-5b38eb41f93b>:17: RuntimeWarning: Did not find any coordsystem.json associated with sub-00010107_ses-001_task-normal_run-000.\n",
      "\n",
      "The search_str was \"C:\\Users\\patri\\OneDrive - Johns Hopkins\\tuh_epilepsy_vs_normal\\derivatives\\ICA\\sub-00010107\\**\\sub-00010107_ses-001*coordsystem.json\"\n",
      "  raw = mne_bids.read_raw_bids(bids_path)\n"
     ]
    },
    {
     "name": "stdout",
     "output_type": "stream",
     "text": [
      "Extracting parameters from C:\\Users\\patri\\OneDrive - Johns Hopkins\\tuh_epilepsy_vs_normal\\derivatives\\ICA\\sub-00006694\\ses-001\\eeg\\sub-00006694_ses-001_task-normal_run-001_eeg.vhdr...\n",
      "Setting channel info structure...\n",
      "Reading channel info from C:\\Users\\patri\\OneDrive - Johns Hopkins\\tuh_epilepsy_vs_normal\\derivatives\\ICA\\sub-00006694\\ses-001\\eeg\\sub-00006694_ses-001_task-normal_run-001_channels.tsv.\n"
     ]
    },
    {
     "name": "stderr",
     "output_type": "stream",
     "text": [
      "<ipython-input-4-5b38eb41f93b>:17: RuntimeWarning: Did not find any events.tsv associated with sub-00006694_ses-001_task-normal_run-001.\n",
      "\n",
      "The search_str was \"C:\\Users\\patri\\OneDrive - Johns Hopkins\\tuh_epilepsy_vs_normal\\derivatives\\ICA\\sub-00006694\\**\\sub-00006694_ses-001*events.tsv\"\n",
      "  raw = mne_bids.read_raw_bids(bids_path)\n",
      "<ipython-input-4-5b38eb41f93b>:17: RuntimeWarning: Did not find any coordsystem.json associated with sub-00006694_ses-001_task-normal_run-001.\n",
      "\n",
      "The search_str was \"C:\\Users\\patri\\OneDrive - Johns Hopkins\\tuh_epilepsy_vs_normal\\derivatives\\ICA\\sub-00006694\\**\\sub-00006694_ses-001*coordsystem.json\"\n",
      "  raw = mne_bids.read_raw_bids(bids_path)\n"
     ]
    },
    {
     "name": "stdout",
     "output_type": "stream",
     "text": [
      "Extracting parameters from C:\\Users\\patri\\OneDrive - Johns Hopkins\\tuh_epilepsy_vs_normal\\derivatives\\ICA\\sub-00010539\\ses-001\\eeg\\sub-00010539_ses-001_task-normal_run-002_eeg.vhdr...\n",
      "Setting channel info structure...\n",
      "Reading channel info from C:\\Users\\patri\\OneDrive - Johns Hopkins\\tuh_epilepsy_vs_normal\\derivatives\\ICA\\sub-00010539\\ses-001\\eeg\\sub-00010539_ses-001_task-normal_run-002_channels.tsv.\n"
     ]
    },
    {
     "name": "stderr",
     "output_type": "stream",
     "text": [
      "<ipython-input-4-5b38eb41f93b>:17: RuntimeWarning: Did not find any events.tsv associated with sub-00010539_ses-001_task-normal_run-002.\n",
      "\n",
      "The search_str was \"C:\\Users\\patri\\OneDrive - Johns Hopkins\\tuh_epilepsy_vs_normal\\derivatives\\ICA\\sub-00010539\\**\\sub-00010539_ses-001*events.tsv\"\n",
      "  raw = mne_bids.read_raw_bids(bids_path)\n",
      "<ipython-input-4-5b38eb41f93b>:17: RuntimeWarning: Did not find any coordsystem.json associated with sub-00010539_ses-001_task-normal_run-002.\n",
      "\n",
      "The search_str was \"C:\\Users\\patri\\OneDrive - Johns Hopkins\\tuh_epilepsy_vs_normal\\derivatives\\ICA\\sub-00010539\\**\\sub-00010539_ses-001*coordsystem.json\"\n",
      "  raw = mne_bids.read_raw_bids(bids_path)\n"
     ]
    },
    {
     "name": "stdout",
     "output_type": "stream",
     "text": [
      "Extracting parameters from C:\\Users\\patri\\OneDrive - Johns Hopkins\\tuh_epilepsy_vs_normal\\derivatives\\ICA\\sub-00010501\\ses-001\\eeg\\sub-00010501_ses-001_task-normal_run-001_eeg.vhdr...\n",
      "Setting channel info structure...\n",
      "Reading channel info from C:\\Users\\patri\\OneDrive - Johns Hopkins\\tuh_epilepsy_vs_normal\\derivatives\\ICA\\sub-00010501\\ses-001\\eeg\\sub-00010501_ses-001_task-normal_run-001_channels.tsv.\n"
     ]
    },
    {
     "name": "stderr",
     "output_type": "stream",
     "text": [
      "<ipython-input-4-5b38eb41f93b>:17: RuntimeWarning: Did not find any events.tsv associated with sub-00010501_ses-001_task-normal_run-001.\n",
      "\n",
      "The search_str was \"C:\\Users\\patri\\OneDrive - Johns Hopkins\\tuh_epilepsy_vs_normal\\derivatives\\ICA\\sub-00010501\\**\\sub-00010501_ses-001*events.tsv\"\n",
      "  raw = mne_bids.read_raw_bids(bids_path)\n",
      "<ipython-input-4-5b38eb41f93b>:17: RuntimeWarning: Did not find any coordsystem.json associated with sub-00010501_ses-001_task-normal_run-001.\n",
      "\n",
      "The search_str was \"C:\\Users\\patri\\OneDrive - Johns Hopkins\\tuh_epilepsy_vs_normal\\derivatives\\ICA\\sub-00010501\\**\\sub-00010501_ses-001*coordsystem.json\"\n",
      "  raw = mne_bids.read_raw_bids(bids_path)\n"
     ]
    }
   ],
   "source": [
    "root = Path('C:/Users/patri/OneDrive - Johns Hopkins/tuh_epilepsy_vs_normal/derivatives/ICA/')\n",
    "list_5 = []\n",
    "list_10 = []\n",
    "list_25 = []\n",
    "list_50 = []\n",
    "\n",
    "for index, row in norm.iterrows():\n",
    "    subject = '{:08d}'.format(row[\"id\"])\n",
    "    session = '{:03d}'.format(row[\"session\"])\n",
    "    run = '{:03d}'.format(row[\"run\"])\n",
    "    task = \"normal\"\n",
    "    acq = \"run\"\n",
    "    datatype = \"eeg\"\n",
    "    bids_path = mne_bids.BIDSPath(subject=subject, session=session, task=task,\n",
    "                     acquisition=None, run=run, datatype=datatype, root=root,\n",
    "                     suffix='eeg', extension='.vhdr')\n",
    "    raw = mne_bids.read_raw_bids(bids_path)\n",
    "    \n",
    "    df = raw.to_data_frame()\n",
    "    df = df.set_index('time')\n",
    "    test_array = np.array(df)\n",
    "    split_5 = np.array_split(test_array, 5)\n",
    "    split_10 = np.array_split(test_array, 10)\n",
    "    split_25 = np.array_split(test_array, 25)\n",
    "    split_50 = np.array_split(test_array, 50)\n",
    "    \n",
    "    list_5.append(split_5)\n",
    "    list_10.append(split_10)\n",
    "    list_25.append(split_25)\n",
    "    list_50.append(split_50)\n",
    "    \n",
    "pickle.dump(list_5, open(\"normal_split_5.pkl\", \"wb\"))\n",
    "pickle.dump(list_10, open(\"normal_split_10.pkl\", \"wb\"))\n",
    "pickle.dump(list_25, open(\"normal_split_25.pkl\", \"wb\"))\n",
    "pickle.dump(list_50, open(\"normal_split_50.pkl\", \"wb\"))"
   ]
  },
  {
   "cell_type": "code",
   "execution_count": 6,
   "metadata": {},
   "outputs": [
    {
     "name": "stdout",
     "output_type": "stream",
     "text": [
      "Extracting parameters from C:\\Users\\patri\\OneDrive - Johns Hopkins\\tuh_epilepsy_vs_normal\\derivatives\\ICA\\sub-00003101\\ses-002\\eeg\\sub-00003101_ses-002_task-epilepsy_run-004_eeg.vhdr...\n",
      "Setting channel info structure...\n",
      "Reading channel info from C:\\Users\\patri\\OneDrive - Johns Hopkins\\tuh_epilepsy_vs_normal\\derivatives\\ICA\\sub-00003101\\ses-002\\eeg\\sub-00003101_ses-002_task-epilepsy_run-004_channels.tsv.\n"
     ]
    },
    {
     "name": "stderr",
     "output_type": "stream",
     "text": [
      "<ipython-input-6-0cb37f6594b2>:18: RuntimeWarning: Did not find any events.tsv associated with sub-00003101_ses-002_task-epilepsy_run-004.\n",
      "\n",
      "The search_str was \"C:\\Users\\patri\\OneDrive - Johns Hopkins\\tuh_epilepsy_vs_normal\\derivatives\\ICA\\sub-00003101\\**\\sub-00003101_ses-002*events.tsv\"\n",
      "  raw = mne_bids.read_raw_bids(bids_path)\n",
      "<ipython-input-6-0cb37f6594b2>:18: RuntimeWarning: Did not find any coordsystem.json associated with sub-00003101_ses-002_task-epilepsy_run-004.\n",
      "\n",
      "The search_str was \"C:\\Users\\patri\\OneDrive - Johns Hopkins\\tuh_epilepsy_vs_normal\\derivatives\\ICA\\sub-00003101\\**\\sub-00003101_ses-002*coordsystem.json\"\n",
      "  raw = mne_bids.read_raw_bids(bids_path)\n"
     ]
    },
    {
     "name": "stdout",
     "output_type": "stream",
     "text": [
      "Extracting parameters from C:\\Users\\patri\\OneDrive - Johns Hopkins\\tuh_epilepsy_vs_normal\\derivatives\\ICA\\sub-00006622\\ses-001\\eeg\\sub-00006622_ses-001_task-epilepsy_run-000_eeg.vhdr...\n",
      "Setting channel info structure...\n",
      "Reading channel info from C:\\Users\\patri\\OneDrive - Johns Hopkins\\tuh_epilepsy_vs_normal\\derivatives\\ICA\\sub-00006622\\ses-001\\eeg\\sub-00006622_ses-001_task-epilepsy_run-000_channels.tsv.\n"
     ]
    },
    {
     "name": "stderr",
     "output_type": "stream",
     "text": [
      "<ipython-input-6-0cb37f6594b2>:18: RuntimeWarning: Did not find any events.tsv associated with sub-00006622_ses-001_task-epilepsy_run-000.\n",
      "\n",
      "The search_str was \"C:\\Users\\patri\\OneDrive - Johns Hopkins\\tuh_epilepsy_vs_normal\\derivatives\\ICA\\sub-00006622\\**\\sub-00006622_ses-001*events.tsv\"\n",
      "  raw = mne_bids.read_raw_bids(bids_path)\n",
      "<ipython-input-6-0cb37f6594b2>:18: RuntimeWarning: Did not find any coordsystem.json associated with sub-00006622_ses-001_task-epilepsy_run-000.\n",
      "\n",
      "The search_str was \"C:\\Users\\patri\\OneDrive - Johns Hopkins\\tuh_epilepsy_vs_normal\\derivatives\\ICA\\sub-00006622\\**\\sub-00006622_ses-001*coordsystem.json\"\n",
      "  raw = mne_bids.read_raw_bids(bids_path)\n"
     ]
    },
    {
     "name": "stdout",
     "output_type": "stream",
     "text": [
      "Extracting parameters from C:\\Users\\patri\\OneDrive - Johns Hopkins\\tuh_epilepsy_vs_normal\\derivatives\\ICA\\sub-00003136\\ses-001\\eeg\\sub-00003136_ses-001_task-epilepsy_run-004_eeg.vhdr...\n",
      "Setting channel info structure...\n",
      "Reading channel info from C:\\Users\\patri\\OneDrive - Johns Hopkins\\tuh_epilepsy_vs_normal\\derivatives\\ICA\\sub-00003136\\ses-001\\eeg\\sub-00003136_ses-001_task-epilepsy_run-004_channels.tsv.\n"
     ]
    },
    {
     "name": "stderr",
     "output_type": "stream",
     "text": [
      "<ipython-input-6-0cb37f6594b2>:18: RuntimeWarning: Did not find any events.tsv associated with sub-00003136_ses-001_task-epilepsy_run-004.\n",
      "\n",
      "The search_str was \"C:\\Users\\patri\\OneDrive - Johns Hopkins\\tuh_epilepsy_vs_normal\\derivatives\\ICA\\sub-00003136\\**\\sub-00003136_ses-001*events.tsv\"\n",
      "  raw = mne_bids.read_raw_bids(bids_path)\n",
      "<ipython-input-6-0cb37f6594b2>:18: RuntimeWarning: Did not find any coordsystem.json associated with sub-00003136_ses-001_task-epilepsy_run-004.\n",
      "\n",
      "The search_str was \"C:\\Users\\patri\\OneDrive - Johns Hopkins\\tuh_epilepsy_vs_normal\\derivatives\\ICA\\sub-00003136\\**\\sub-00003136_ses-001*coordsystem.json\"\n",
      "  raw = mne_bids.read_raw_bids(bids_path)\n"
     ]
    },
    {
     "name": "stdout",
     "output_type": "stream",
     "text": [
      "Extracting parameters from C:\\Users\\patri\\OneDrive - Johns Hopkins\\tuh_epilepsy_vs_normal\\derivatives\\ICA\\sub-00004401\\ses-001\\eeg\\sub-00004401_ses-001_task-epilepsy_run-000_eeg.vhdr...\n",
      "Setting channel info structure...\n",
      "Reading channel info from C:\\Users\\patri\\OneDrive - Johns Hopkins\\tuh_epilepsy_vs_normal\\derivatives\\ICA\\sub-00004401\\ses-001\\eeg\\sub-00004401_ses-001_task-epilepsy_run-000_channels.tsv.\n"
     ]
    },
    {
     "name": "stderr",
     "output_type": "stream",
     "text": [
      "<ipython-input-6-0cb37f6594b2>:18: RuntimeWarning: Did not find any events.tsv associated with sub-00004401_ses-001_task-epilepsy_run-000.\n",
      "\n",
      "The search_str was \"C:\\Users\\patri\\OneDrive - Johns Hopkins\\tuh_epilepsy_vs_normal\\derivatives\\ICA\\sub-00004401\\**\\sub-00004401_ses-001*events.tsv\"\n",
      "  raw = mne_bids.read_raw_bids(bids_path)\n",
      "<ipython-input-6-0cb37f6594b2>:18: RuntimeWarning: Did not find any coordsystem.json associated with sub-00004401_ses-001_task-epilepsy_run-000.\n",
      "\n",
      "The search_str was \"C:\\Users\\patri\\OneDrive - Johns Hopkins\\tuh_epilepsy_vs_normal\\derivatives\\ICA\\sub-00004401\\**\\sub-00004401_ses-001*coordsystem.json\"\n",
      "  raw = mne_bids.read_raw_bids(bids_path)\n"
     ]
    },
    {
     "name": "stdout",
     "output_type": "stream",
     "text": [
      "Extracting parameters from C:\\Users\\patri\\OneDrive - Johns Hopkins\\tuh_epilepsy_vs_normal\\derivatives\\ICA\\sub-00008092\\ses-014\\eeg\\sub-00008092_ses-014_task-epilepsy_run-000_eeg.vhdr...\n",
      "Setting channel info structure...\n",
      "Reading channel info from C:\\Users\\patri\\OneDrive - Johns Hopkins\\tuh_epilepsy_vs_normal\\derivatives\\ICA\\sub-00008092\\ses-014\\eeg\\sub-00008092_ses-014_task-epilepsy_run-000_channels.tsv.\n"
     ]
    },
    {
     "name": "stderr",
     "output_type": "stream",
     "text": [
      "<ipython-input-6-0cb37f6594b2>:18: RuntimeWarning: Did not find any events.tsv associated with sub-00008092_ses-014_task-epilepsy_run-000.\n",
      "\n",
      "The search_str was \"C:\\Users\\patri\\OneDrive - Johns Hopkins\\tuh_epilepsy_vs_normal\\derivatives\\ICA\\sub-00008092\\**\\sub-00008092_ses-014*events.tsv\"\n",
      "  raw = mne_bids.read_raw_bids(bids_path)\n",
      "<ipython-input-6-0cb37f6594b2>:18: RuntimeWarning: Did not find any coordsystem.json associated with sub-00008092_ses-014_task-epilepsy_run-000.\n",
      "\n",
      "The search_str was \"C:\\Users\\patri\\OneDrive - Johns Hopkins\\tuh_epilepsy_vs_normal\\derivatives\\ICA\\sub-00008092\\**\\sub-00008092_ses-014*coordsystem.json\"\n",
      "  raw = mne_bids.read_raw_bids(bids_path)\n"
     ]
    },
    {
     "name": "stdout",
     "output_type": "stream",
     "text": [
      "Extracting parameters from C:\\Users\\patri\\OneDrive - Johns Hopkins\\tuh_epilepsy_vs_normal\\derivatives\\ICA\\sub-00007813\\ses-001\\eeg\\sub-00007813_ses-001_task-epilepsy_run-000_eeg.vhdr...\n",
      "Setting channel info structure...\n",
      "Reading channel info from C:\\Users\\patri\\OneDrive - Johns Hopkins\\tuh_epilepsy_vs_normal\\derivatives\\ICA\\sub-00007813\\ses-001\\eeg\\sub-00007813_ses-001_task-epilepsy_run-000_channels.tsv.\n"
     ]
    },
    {
     "name": "stderr",
     "output_type": "stream",
     "text": [
      "<ipython-input-6-0cb37f6594b2>:18: RuntimeWarning: Did not find any events.tsv associated with sub-00007813_ses-001_task-epilepsy_run-000.\n",
      "\n",
      "The search_str was \"C:\\Users\\patri\\OneDrive - Johns Hopkins\\tuh_epilepsy_vs_normal\\derivatives\\ICA\\sub-00007813\\**\\sub-00007813_ses-001*events.tsv\"\n",
      "  raw = mne_bids.read_raw_bids(bids_path)\n",
      "<ipython-input-6-0cb37f6594b2>:18: RuntimeWarning: Did not find any coordsystem.json associated with sub-00007813_ses-001_task-epilepsy_run-000.\n",
      "\n",
      "The search_str was \"C:\\Users\\patri\\OneDrive - Johns Hopkins\\tuh_epilepsy_vs_normal\\derivatives\\ICA\\sub-00007813\\**\\sub-00007813_ses-001*coordsystem.json\"\n",
      "  raw = mne_bids.read_raw_bids(bids_path)\n"
     ]
    },
    {
     "name": "stdout",
     "output_type": "stream",
     "text": [
      "Extracting parameters from C:\\Users\\patri\\OneDrive - Johns Hopkins\\tuh_epilepsy_vs_normal\\derivatives\\ICA\\sub-00005765\\ses-006\\eeg\\sub-00005765_ses-006_task-epilepsy_run-000_eeg.vhdr...\n",
      "Setting channel info structure...\n",
      "Reading channel info from C:\\Users\\patri\\OneDrive - Johns Hopkins\\tuh_epilepsy_vs_normal\\derivatives\\ICA\\sub-00005765\\ses-006\\eeg\\sub-00005765_ses-006_task-epilepsy_run-000_channels.tsv.\n"
     ]
    },
    {
     "name": "stderr",
     "output_type": "stream",
     "text": [
      "<ipython-input-6-0cb37f6594b2>:18: RuntimeWarning: Did not find any events.tsv associated with sub-00005765_ses-006_task-epilepsy_run-000.\n",
      "\n",
      "The search_str was \"C:\\Users\\patri\\OneDrive - Johns Hopkins\\tuh_epilepsy_vs_normal\\derivatives\\ICA\\sub-00005765\\**\\sub-00005765_ses-006*events.tsv\"\n",
      "  raw = mne_bids.read_raw_bids(bids_path)\n",
      "<ipython-input-6-0cb37f6594b2>:18: RuntimeWarning: Did not find any coordsystem.json associated with sub-00005765_ses-006_task-epilepsy_run-000.\n",
      "\n",
      "The search_str was \"C:\\Users\\patri\\OneDrive - Johns Hopkins\\tuh_epilepsy_vs_normal\\derivatives\\ICA\\sub-00005765\\**\\sub-00005765_ses-006*coordsystem.json\"\n",
      "  raw = mne_bids.read_raw_bids(bids_path)\n"
     ]
    },
    {
     "name": "stdout",
     "output_type": "stream",
     "text": [
      "Extracting parameters from C:\\Users\\patri\\OneDrive - Johns Hopkins\\tuh_epilepsy_vs_normal\\derivatives\\ICA\\sub-00008270\\ses-001\\eeg\\sub-00008270_ses-001_task-epilepsy_run-001_eeg.vhdr...\n",
      "Setting channel info structure...\n",
      "Reading channel info from C:\\Users\\patri\\OneDrive - Johns Hopkins\\tuh_epilepsy_vs_normal\\derivatives\\ICA\\sub-00008270\\ses-001\\eeg\\sub-00008270_ses-001_task-epilepsy_run-001_channels.tsv.\n"
     ]
    },
    {
     "name": "stderr",
     "output_type": "stream",
     "text": [
      "<ipython-input-6-0cb37f6594b2>:18: RuntimeWarning: Did not find any events.tsv associated with sub-00008270_ses-001_task-epilepsy_run-001.\n",
      "\n",
      "The search_str was \"C:\\Users\\patri\\OneDrive - Johns Hopkins\\tuh_epilepsy_vs_normal\\derivatives\\ICA\\sub-00008270\\**\\sub-00008270_ses-001*events.tsv\"\n",
      "  raw = mne_bids.read_raw_bids(bids_path)\n",
      "<ipython-input-6-0cb37f6594b2>:18: RuntimeWarning: Did not find any coordsystem.json associated with sub-00008270_ses-001_task-epilepsy_run-001.\n",
      "\n",
      "The search_str was \"C:\\Users\\patri\\OneDrive - Johns Hopkins\\tuh_epilepsy_vs_normal\\derivatives\\ICA\\sub-00008270\\**\\sub-00008270_ses-001*coordsystem.json\"\n",
      "  raw = mne_bids.read_raw_bids(bids_path)\n"
     ]
    },
    {
     "name": "stdout",
     "output_type": "stream",
     "text": [
      "Extracting parameters from C:\\Users\\patri\\OneDrive - Johns Hopkins\\tuh_epilepsy_vs_normal\\derivatives\\ICA\\sub-00003005\\ses-006\\eeg\\sub-00003005_ses-006_task-epilepsy_run-000_eeg.vhdr...\n",
      "Setting channel info structure...\n",
      "Reading channel info from C:\\Users\\patri\\OneDrive - Johns Hopkins\\tuh_epilepsy_vs_normal\\derivatives\\ICA\\sub-00003005\\ses-006\\eeg\\sub-00003005_ses-006_task-epilepsy_run-000_channels.tsv.\n"
     ]
    },
    {
     "name": "stderr",
     "output_type": "stream",
     "text": [
      "<ipython-input-6-0cb37f6594b2>:18: RuntimeWarning: Did not find any events.tsv associated with sub-00003005_ses-006_task-epilepsy_run-000.\n",
      "\n",
      "The search_str was \"C:\\Users\\patri\\OneDrive - Johns Hopkins\\tuh_epilepsy_vs_normal\\derivatives\\ICA\\sub-00003005\\**\\sub-00003005_ses-006*events.tsv\"\n",
      "  raw = mne_bids.read_raw_bids(bids_path)\n",
      "<ipython-input-6-0cb37f6594b2>:18: RuntimeWarning: Did not find any coordsystem.json associated with sub-00003005_ses-006_task-epilepsy_run-000.\n",
      "\n",
      "The search_str was \"C:\\Users\\patri\\OneDrive - Johns Hopkins\\tuh_epilepsy_vs_normal\\derivatives\\ICA\\sub-00003005\\**\\sub-00003005_ses-006*coordsystem.json\"\n",
      "  raw = mne_bids.read_raw_bids(bids_path)\n"
     ]
    },
    {
     "name": "stdout",
     "output_type": "stream",
     "text": [
      "Extracting parameters from C:\\Users\\patri\\OneDrive - Johns Hopkins\\tuh_epilepsy_vs_normal\\derivatives\\ICA\\sub-00006123\\ses-002\\eeg\\sub-00006123_ses-002_task-epilepsy_run-001_eeg.vhdr...\n",
      "Setting channel info structure...\n",
      "Reading channel info from C:\\Users\\patri\\OneDrive - Johns Hopkins\\tuh_epilepsy_vs_normal\\derivatives\\ICA\\sub-00006123\\ses-002\\eeg\\sub-00006123_ses-002_task-epilepsy_run-001_channels.tsv.\n"
     ]
    },
    {
     "name": "stderr",
     "output_type": "stream",
     "text": [
      "<ipython-input-6-0cb37f6594b2>:18: RuntimeWarning: Did not find any events.tsv associated with sub-00006123_ses-002_task-epilepsy_run-001.\n",
      "\n",
      "The search_str was \"C:\\Users\\patri\\OneDrive - Johns Hopkins\\tuh_epilepsy_vs_normal\\derivatives\\ICA\\sub-00006123\\**\\sub-00006123_ses-002*events.tsv\"\n",
      "  raw = mne_bids.read_raw_bids(bids_path)\n",
      "<ipython-input-6-0cb37f6594b2>:18: RuntimeWarning: Did not find any coordsystem.json associated with sub-00006123_ses-002_task-epilepsy_run-001.\n",
      "\n",
      "The search_str was \"C:\\Users\\patri\\OneDrive - Johns Hopkins\\tuh_epilepsy_vs_normal\\derivatives\\ICA\\sub-00006123\\**\\sub-00006123_ses-002*coordsystem.json\"\n",
      "  raw = mne_bids.read_raw_bids(bids_path)\n"
     ]
    },
    {
     "name": "stdout",
     "output_type": "stream",
     "text": [
      "Extracting parameters from C:\\Users\\patri\\OneDrive - Johns Hopkins\\tuh_epilepsy_vs_normal\\derivatives\\ICA\\sub-00006927\\ses-001\\eeg\\sub-00006927_ses-001_task-epilepsy_run-001_eeg.vhdr...\n",
      "Setting channel info structure...\n",
      "Reading channel info from C:\\Users\\patri\\OneDrive - Johns Hopkins\\tuh_epilepsy_vs_normal\\derivatives\\ICA\\sub-00006927\\ses-001\\eeg\\sub-00006927_ses-001_task-epilepsy_run-001_channels.tsv.\n"
     ]
    },
    {
     "name": "stderr",
     "output_type": "stream",
     "text": [
      "<ipython-input-6-0cb37f6594b2>:18: RuntimeWarning: Did not find any events.tsv associated with sub-00006927_ses-001_task-epilepsy_run-001.\n",
      "\n",
      "The search_str was \"C:\\Users\\patri\\OneDrive - Johns Hopkins\\tuh_epilepsy_vs_normal\\derivatives\\ICA\\sub-00006927\\**\\sub-00006927_ses-001*events.tsv\"\n",
      "  raw = mne_bids.read_raw_bids(bids_path)\n",
      "<ipython-input-6-0cb37f6594b2>:18: RuntimeWarning: Did not find any coordsystem.json associated with sub-00006927_ses-001_task-epilepsy_run-001.\n",
      "\n",
      "The search_str was \"C:\\Users\\patri\\OneDrive - Johns Hopkins\\tuh_epilepsy_vs_normal\\derivatives\\ICA\\sub-00006927\\**\\sub-00006927_ses-001*coordsystem.json\"\n",
      "  raw = mne_bids.read_raw_bids(bids_path)\n"
     ]
    },
    {
     "name": "stdout",
     "output_type": "stream",
     "text": [
      "Extracting parameters from C:\\Users\\patri\\OneDrive - Johns Hopkins\\tuh_epilepsy_vs_normal\\derivatives\\ICA\\sub-00005551\\ses-008\\eeg\\sub-00005551_ses-008_task-epilepsy_run-000_eeg.vhdr...\n",
      "Setting channel info structure...\n",
      "Reading channel info from C:\\Users\\patri\\OneDrive - Johns Hopkins\\tuh_epilepsy_vs_normal\\derivatives\\ICA\\sub-00005551\\ses-008\\eeg\\sub-00005551_ses-008_task-epilepsy_run-000_channels.tsv.\n"
     ]
    },
    {
     "name": "stderr",
     "output_type": "stream",
     "text": [
      "<ipython-input-6-0cb37f6594b2>:18: RuntimeWarning: Did not find any events.tsv associated with sub-00005551_ses-008_task-epilepsy_run-000.\n",
      "\n",
      "The search_str was \"C:\\Users\\patri\\OneDrive - Johns Hopkins\\tuh_epilepsy_vs_normal\\derivatives\\ICA\\sub-00005551\\**\\sub-00005551_ses-008*events.tsv\"\n",
      "  raw = mne_bids.read_raw_bids(bids_path)\n",
      "<ipython-input-6-0cb37f6594b2>:18: RuntimeWarning: Did not find any coordsystem.json associated with sub-00005551_ses-008_task-epilepsy_run-000.\n",
      "\n",
      "The search_str was \"C:\\Users\\patri\\OneDrive - Johns Hopkins\\tuh_epilepsy_vs_normal\\derivatives\\ICA\\sub-00005551\\**\\sub-00005551_ses-008*coordsystem.json\"\n",
      "  raw = mne_bids.read_raw_bids(bids_path)\n"
     ]
    },
    {
     "name": "stdout",
     "output_type": "stream",
     "text": [
      "Extracting parameters from C:\\Users\\patri\\OneDrive - Johns Hopkins\\tuh_epilepsy_vs_normal\\derivatives\\ICA\\sub-00005931\\ses-001\\eeg\\sub-00005931_ses-001_task-epilepsy_run-001_eeg.vhdr...\n",
      "Setting channel info structure...\n",
      "Reading channel info from C:\\Users\\patri\\OneDrive - Johns Hopkins\\tuh_epilepsy_vs_normal\\derivatives\\ICA\\sub-00005931\\ses-001\\eeg\\sub-00005931_ses-001_task-epilepsy_run-001_channels.tsv.\n"
     ]
    },
    {
     "name": "stderr",
     "output_type": "stream",
     "text": [
      "<ipython-input-6-0cb37f6594b2>:18: RuntimeWarning: Did not find any events.tsv associated with sub-00005931_ses-001_task-epilepsy_run-001.\n",
      "\n",
      "The search_str was \"C:\\Users\\patri\\OneDrive - Johns Hopkins\\tuh_epilepsy_vs_normal\\derivatives\\ICA\\sub-00005931\\**\\sub-00005931_ses-001*events.tsv\"\n",
      "  raw = mne_bids.read_raw_bids(bids_path)\n",
      "<ipython-input-6-0cb37f6594b2>:18: RuntimeWarning: Did not find any coordsystem.json associated with sub-00005931_ses-001_task-epilepsy_run-001.\n",
      "\n",
      "The search_str was \"C:\\Users\\patri\\OneDrive - Johns Hopkins\\tuh_epilepsy_vs_normal\\derivatives\\ICA\\sub-00005931\\**\\sub-00005931_ses-001*coordsystem.json\"\n",
      "  raw = mne_bids.read_raw_bids(bids_path)\n"
     ]
    },
    {
     "name": "stdout",
     "output_type": "stream",
     "text": [
      "Extracting parameters from C:\\Users\\patri\\OneDrive - Johns Hopkins\\tuh_epilepsy_vs_normal\\derivatives\\ICA\\sub-00007067\\ses-001\\eeg\\sub-00007067_ses-001_task-epilepsy_run-001_eeg.vhdr...\n",
      "Setting channel info structure...\n",
      "Reading channel info from C:\\Users\\patri\\OneDrive - Johns Hopkins\\tuh_epilepsy_vs_normal\\derivatives\\ICA\\sub-00007067\\ses-001\\eeg\\sub-00007067_ses-001_task-epilepsy_run-001_channels.tsv.\n"
     ]
    },
    {
     "name": "stderr",
     "output_type": "stream",
     "text": [
      "<ipython-input-6-0cb37f6594b2>:18: RuntimeWarning: Did not find any events.tsv associated with sub-00007067_ses-001_task-epilepsy_run-001.\n",
      "\n",
      "The search_str was \"C:\\Users\\patri\\OneDrive - Johns Hopkins\\tuh_epilepsy_vs_normal\\derivatives\\ICA\\sub-00007067\\**\\sub-00007067_ses-001*events.tsv\"\n",
      "  raw = mne_bids.read_raw_bids(bids_path)\n",
      "<ipython-input-6-0cb37f6594b2>:18: RuntimeWarning: Did not find any coordsystem.json associated with sub-00007067_ses-001_task-epilepsy_run-001.\n",
      "\n",
      "The search_str was \"C:\\Users\\patri\\OneDrive - Johns Hopkins\\tuh_epilepsy_vs_normal\\derivatives\\ICA\\sub-00007067\\**\\sub-00007067_ses-001*coordsystem.json\"\n",
      "  raw = mne_bids.read_raw_bids(bids_path)\n"
     ]
    },
    {
     "name": "stdout",
     "output_type": "stream",
     "text": [
      "Extracting parameters from C:\\Users\\patri\\OneDrive - Johns Hopkins\\tuh_epilepsy_vs_normal\\derivatives\\ICA\\sub-00007864\\ses-001\\eeg\\sub-00007864_ses-001_task-epilepsy_run-000_eeg.vhdr...\n",
      "Setting channel info structure...\n",
      "Reading channel info from C:\\Users\\patri\\OneDrive - Johns Hopkins\\tuh_epilepsy_vs_normal\\derivatives\\ICA\\sub-00007864\\ses-001\\eeg\\sub-00007864_ses-001_task-epilepsy_run-000_channels.tsv.\n"
     ]
    },
    {
     "name": "stderr",
     "output_type": "stream",
     "text": [
      "<ipython-input-6-0cb37f6594b2>:18: RuntimeWarning: Did not find any events.tsv associated with sub-00007864_ses-001_task-epilepsy_run-000.\n",
      "\n",
      "The search_str was \"C:\\Users\\patri\\OneDrive - Johns Hopkins\\tuh_epilepsy_vs_normal\\derivatives\\ICA\\sub-00007864\\**\\sub-00007864_ses-001*events.tsv\"\n",
      "  raw = mne_bids.read_raw_bids(bids_path)\n",
      "<ipython-input-6-0cb37f6594b2>:18: RuntimeWarning: Did not find any coordsystem.json associated with sub-00007864_ses-001_task-epilepsy_run-000.\n",
      "\n",
      "The search_str was \"C:\\Users\\patri\\OneDrive - Johns Hopkins\\tuh_epilepsy_vs_normal\\derivatives\\ICA\\sub-00007864\\**\\sub-00007864_ses-001*coordsystem.json\"\n",
      "  raw = mne_bids.read_raw_bids(bids_path)\n"
     ]
    },
    {
     "name": "stdout",
     "output_type": "stream",
     "text": [
      "Extracting parameters from C:\\Users\\patri\\OneDrive - Johns Hopkins\\tuh_epilepsy_vs_normal\\derivatives\\ICA\\sub-00007600\\ses-001\\eeg\\sub-00007600_ses-001_task-epilepsy_run-001_eeg.vhdr...\n",
      "Setting channel info structure...\n",
      "Reading channel info from C:\\Users\\patri\\OneDrive - Johns Hopkins\\tuh_epilepsy_vs_normal\\derivatives\\ICA\\sub-00007600\\ses-001\\eeg\\sub-00007600_ses-001_task-epilepsy_run-001_channels.tsv.\n"
     ]
    },
    {
     "name": "stderr",
     "output_type": "stream",
     "text": [
      "<ipython-input-6-0cb37f6594b2>:18: RuntimeWarning: Did not find any events.tsv associated with sub-00007600_ses-001_task-epilepsy_run-001.\n",
      "\n",
      "The search_str was \"C:\\Users\\patri\\OneDrive - Johns Hopkins\\tuh_epilepsy_vs_normal\\derivatives\\ICA\\sub-00007600\\**\\sub-00007600_ses-001*events.tsv\"\n",
      "  raw = mne_bids.read_raw_bids(bids_path)\n",
      "<ipython-input-6-0cb37f6594b2>:18: RuntimeWarning: Did not find any coordsystem.json associated with sub-00007600_ses-001_task-epilepsy_run-001.\n",
      "\n",
      "The search_str was \"C:\\Users\\patri\\OneDrive - Johns Hopkins\\tuh_epilepsy_vs_normal\\derivatives\\ICA\\sub-00007600\\**\\sub-00007600_ses-001*coordsystem.json\"\n",
      "  raw = mne_bids.read_raw_bids(bids_path)\n"
     ]
    },
    {
     "name": "stdout",
     "output_type": "stream",
     "text": [
      "Extracting parameters from C:\\Users\\patri\\OneDrive - Johns Hopkins\\tuh_epilepsy_vs_normal\\derivatives\\ICA\\sub-00006514\\ses-014\\eeg\\sub-00006514_ses-014_task-epilepsy_run-002_eeg.vhdr...\n",
      "Setting channel info structure...\n",
      "Reading channel info from C:\\Users\\patri\\OneDrive - Johns Hopkins\\tuh_epilepsy_vs_normal\\derivatives\\ICA\\sub-00006514\\ses-014\\eeg\\sub-00006514_ses-014_task-epilepsy_run-002_channels.tsv.\n"
     ]
    },
    {
     "name": "stderr",
     "output_type": "stream",
     "text": [
      "<ipython-input-6-0cb37f6594b2>:18: RuntimeWarning: Did not find any events.tsv associated with sub-00006514_ses-014_task-epilepsy_run-002.\n",
      "\n",
      "The search_str was \"C:\\Users\\patri\\OneDrive - Johns Hopkins\\tuh_epilepsy_vs_normal\\derivatives\\ICA\\sub-00006514\\**\\sub-00006514_ses-014*events.tsv\"\n",
      "  raw = mne_bids.read_raw_bids(bids_path)\n",
      "<ipython-input-6-0cb37f6594b2>:18: RuntimeWarning: Did not find any coordsystem.json associated with sub-00006514_ses-014_task-epilepsy_run-002.\n",
      "\n",
      "The search_str was \"C:\\Users\\patri\\OneDrive - Johns Hopkins\\tuh_epilepsy_vs_normal\\derivatives\\ICA\\sub-00006514\\**\\sub-00006514_ses-014*coordsystem.json\"\n",
      "  raw = mne_bids.read_raw_bids(bids_path)\n"
     ]
    },
    {
     "name": "stdout",
     "output_type": "stream",
     "text": [
      "Extracting parameters from C:\\Users\\patri\\OneDrive - Johns Hopkins\\tuh_epilepsy_vs_normal\\derivatives\\ICA\\sub-00000930\\ses-001\\eeg\\sub-00000930_ses-001_task-epilepsy_run-000_eeg.vhdr...\n",
      "Setting channel info structure...\n",
      "Reading channel info from C:\\Users\\patri\\OneDrive - Johns Hopkins\\tuh_epilepsy_vs_normal\\derivatives\\ICA\\sub-00000930\\ses-001\\eeg\\sub-00000930_ses-001_task-epilepsy_run-000_channels.tsv.\n"
     ]
    },
    {
     "name": "stderr",
     "output_type": "stream",
     "text": [
      "<ipython-input-6-0cb37f6594b2>:18: RuntimeWarning: Did not find any events.tsv associated with sub-00000930_ses-001_task-epilepsy_run-000.\n",
      "\n",
      "The search_str was \"C:\\Users\\patri\\OneDrive - Johns Hopkins\\tuh_epilepsy_vs_normal\\derivatives\\ICA\\sub-00000930\\**\\sub-00000930_ses-001*events.tsv\"\n",
      "  raw = mne_bids.read_raw_bids(bids_path)\n",
      "<ipython-input-6-0cb37f6594b2>:18: RuntimeWarning: Did not find any coordsystem.json associated with sub-00000930_ses-001_task-epilepsy_run-000.\n",
      "\n",
      "The search_str was \"C:\\Users\\patri\\OneDrive - Johns Hopkins\\tuh_epilepsy_vs_normal\\derivatives\\ICA\\sub-00000930\\**\\sub-00000930_ses-001*coordsystem.json\"\n",
      "  raw = mne_bids.read_raw_bids(bids_path)\n"
     ]
    },
    {
     "name": "stdout",
     "output_type": "stream",
     "text": [
      "Extracting parameters from C:\\Users\\patri\\OneDrive - Johns Hopkins\\tuh_epilepsy_vs_normal\\derivatives\\ICA\\sub-00000592\\ses-001\\eeg\\sub-00000592_ses-001_task-epilepsy_run-001_eeg.vhdr...\n",
      "Setting channel info structure...\n",
      "Reading channel info from C:\\Users\\patri\\OneDrive - Johns Hopkins\\tuh_epilepsy_vs_normal\\derivatives\\ICA\\sub-00000592\\ses-001\\eeg\\sub-00000592_ses-001_task-epilepsy_run-001_channels.tsv.\n"
     ]
    },
    {
     "name": "stderr",
     "output_type": "stream",
     "text": [
      "<ipython-input-6-0cb37f6594b2>:18: RuntimeWarning: Did not find any events.tsv associated with sub-00000592_ses-001_task-epilepsy_run-001.\n",
      "\n",
      "The search_str was \"C:\\Users\\patri\\OneDrive - Johns Hopkins\\tuh_epilepsy_vs_normal\\derivatives\\ICA\\sub-00000592\\**\\sub-00000592_ses-001*events.tsv\"\n",
      "  raw = mne_bids.read_raw_bids(bids_path)\n",
      "<ipython-input-6-0cb37f6594b2>:18: RuntimeWarning: Did not find any coordsystem.json associated with sub-00000592_ses-001_task-epilepsy_run-001.\n",
      "\n",
      "The search_str was \"C:\\Users\\patri\\OneDrive - Johns Hopkins\\tuh_epilepsy_vs_normal\\derivatives\\ICA\\sub-00000592\\**\\sub-00000592_ses-001*coordsystem.json\"\n",
      "  raw = mne_bids.read_raw_bids(bids_path)\n"
     ]
    },
    {
     "name": "stdout",
     "output_type": "stream",
     "text": [
      "Extracting parameters from C:\\Users\\patri\\OneDrive - Johns Hopkins\\tuh_epilepsy_vs_normal\\derivatives\\ICA\\sub-00000355\\ses-008\\eeg\\sub-00000355_ses-008_task-epilepsy_run-001_eeg.vhdr...\n",
      "Setting channel info structure...\n",
      "Reading channel info from C:\\Users\\patri\\OneDrive - Johns Hopkins\\tuh_epilepsy_vs_normal\\derivatives\\ICA\\sub-00000355\\ses-008\\eeg\\sub-00000355_ses-008_task-epilepsy_run-001_channels.tsv.\n"
     ]
    },
    {
     "name": "stderr",
     "output_type": "stream",
     "text": [
      "<ipython-input-6-0cb37f6594b2>:18: RuntimeWarning: Did not find any events.tsv associated with sub-00000355_ses-008_task-epilepsy_run-001.\n",
      "\n",
      "The search_str was \"C:\\Users\\patri\\OneDrive - Johns Hopkins\\tuh_epilepsy_vs_normal\\derivatives\\ICA\\sub-00000355\\**\\sub-00000355_ses-008*events.tsv\"\n",
      "  raw = mne_bids.read_raw_bids(bids_path)\n",
      "<ipython-input-6-0cb37f6594b2>:18: RuntimeWarning: Did not find any coordsystem.json associated with sub-00000355_ses-008_task-epilepsy_run-001.\n",
      "\n",
      "The search_str was \"C:\\Users\\patri\\OneDrive - Johns Hopkins\\tuh_epilepsy_vs_normal\\derivatives\\ICA\\sub-00000355\\**\\sub-00000355_ses-008*coordsystem.json\"\n",
      "  raw = mne_bids.read_raw_bids(bids_path)\n"
     ]
    },
    {
     "name": "stdout",
     "output_type": "stream",
     "text": [
      "Extracting parameters from C:\\Users\\patri\\OneDrive - Johns Hopkins\\tuh_epilepsy_vs_normal\\derivatives\\ICA\\sub-00006607\\ses-013\\eeg\\sub-00006607_ses-013_task-epilepsy_run-002_eeg.vhdr...\n",
      "Setting channel info structure...\n",
      "Reading channel info from C:\\Users\\patri\\OneDrive - Johns Hopkins\\tuh_epilepsy_vs_normal\\derivatives\\ICA\\sub-00006607\\ses-013\\eeg\\sub-00006607_ses-013_task-epilepsy_run-002_channels.tsv.\n"
     ]
    },
    {
     "name": "stderr",
     "output_type": "stream",
     "text": [
      "<ipython-input-6-0cb37f6594b2>:18: RuntimeWarning: Did not find any events.tsv associated with sub-00006607_ses-013_task-epilepsy_run-002.\n",
      "\n",
      "The search_str was \"C:\\Users\\patri\\OneDrive - Johns Hopkins\\tuh_epilepsy_vs_normal\\derivatives\\ICA\\sub-00006607\\**\\sub-00006607_ses-013*events.tsv\"\n",
      "  raw = mne_bids.read_raw_bids(bids_path)\n",
      "<ipython-input-6-0cb37f6594b2>:18: RuntimeWarning: Did not find any coordsystem.json associated with sub-00006607_ses-013_task-epilepsy_run-002.\n",
      "\n",
      "The search_str was \"C:\\Users\\patri\\OneDrive - Johns Hopkins\\tuh_epilepsy_vs_normal\\derivatives\\ICA\\sub-00006607\\**\\sub-00006607_ses-013*coordsystem.json\"\n",
      "  raw = mne_bids.read_raw_bids(bids_path)\n"
     ]
    },
    {
     "name": "stdout",
     "output_type": "stream",
     "text": [
      "Extracting parameters from C:\\Users\\patri\\OneDrive - Johns Hopkins\\tuh_epilepsy_vs_normal\\derivatives\\ICA\\sub-00001819\\ses-006\\eeg\\sub-00001819_ses-006_task-epilepsy_run-004_eeg.vhdr...\n",
      "Setting channel info structure...\n",
      "Reading channel info from C:\\Users\\patri\\OneDrive - Johns Hopkins\\tuh_epilepsy_vs_normal\\derivatives\\ICA\\sub-00001819\\ses-006\\eeg\\sub-00001819_ses-006_task-epilepsy_run-004_channels.tsv.\n"
     ]
    },
    {
     "name": "stderr",
     "output_type": "stream",
     "text": [
      "<ipython-input-6-0cb37f6594b2>:18: RuntimeWarning: Did not find any events.tsv associated with sub-00001819_ses-006_task-epilepsy_run-004.\n",
      "\n",
      "The search_str was \"C:\\Users\\patri\\OneDrive - Johns Hopkins\\tuh_epilepsy_vs_normal\\derivatives\\ICA\\sub-00001819\\**\\sub-00001819_ses-006*events.tsv\"\n",
      "  raw = mne_bids.read_raw_bids(bids_path)\n",
      "<ipython-input-6-0cb37f6594b2>:18: RuntimeWarning: Did not find any coordsystem.json associated with sub-00001819_ses-006_task-epilepsy_run-004.\n",
      "\n",
      "The search_str was \"C:\\Users\\patri\\OneDrive - Johns Hopkins\\tuh_epilepsy_vs_normal\\derivatives\\ICA\\sub-00001819\\**\\sub-00001819_ses-006*coordsystem.json\"\n",
      "  raw = mne_bids.read_raw_bids(bids_path)\n"
     ]
    },
    {
     "name": "stdout",
     "output_type": "stream",
     "text": [
      "Extracting parameters from C:\\Users\\patri\\OneDrive - Johns Hopkins\\tuh_epilepsy_vs_normal\\derivatives\\ICA\\sub-00007176\\ses-002\\eeg\\sub-00007176_ses-002_task-epilepsy_run-000_eeg.vhdr...\n",
      "Setting channel info structure...\n",
      "Reading channel info from C:\\Users\\patri\\OneDrive - Johns Hopkins\\tuh_epilepsy_vs_normal\\derivatives\\ICA\\sub-00007176\\ses-002\\eeg\\sub-00007176_ses-002_task-epilepsy_run-000_channels.tsv.\n"
     ]
    },
    {
     "name": "stderr",
     "output_type": "stream",
     "text": [
      "<ipython-input-6-0cb37f6594b2>:18: RuntimeWarning: Did not find any events.tsv associated with sub-00007176_ses-002_task-epilepsy_run-000.\n",
      "\n",
      "The search_str was \"C:\\Users\\patri\\OneDrive - Johns Hopkins\\tuh_epilepsy_vs_normal\\derivatives\\ICA\\sub-00007176\\**\\sub-00007176_ses-002*events.tsv\"\n",
      "  raw = mne_bids.read_raw_bids(bids_path)\n",
      "<ipython-input-6-0cb37f6594b2>:18: RuntimeWarning: Did not find any coordsystem.json associated with sub-00007176_ses-002_task-epilepsy_run-000.\n",
      "\n",
      "The search_str was \"C:\\Users\\patri\\OneDrive - Johns Hopkins\\tuh_epilepsy_vs_normal\\derivatives\\ICA\\sub-00007176\\**\\sub-00007176_ses-002*coordsystem.json\"\n",
      "  raw = mne_bids.read_raw_bids(bids_path)\n"
     ]
    },
    {
     "name": "stdout",
     "output_type": "stream",
     "text": [
      "Extracting parameters from C:\\Users\\patri\\OneDrive - Johns Hopkins\\tuh_epilepsy_vs_normal\\derivatives\\ICA\\sub-00007972\\ses-001\\eeg\\sub-00007972_ses-001_task-epilepsy_run-001_eeg.vhdr...\n",
      "Setting channel info structure...\n",
      "Reading channel info from C:\\Users\\patri\\OneDrive - Johns Hopkins\\tuh_epilepsy_vs_normal\\derivatives\\ICA\\sub-00007972\\ses-001\\eeg\\sub-00007972_ses-001_task-epilepsy_run-001_channels.tsv.\n"
     ]
    },
    {
     "name": "stderr",
     "output_type": "stream",
     "text": [
      "<ipython-input-6-0cb37f6594b2>:18: RuntimeWarning: Did not find any events.tsv associated with sub-00007972_ses-001_task-epilepsy_run-001.\n",
      "\n",
      "The search_str was \"C:\\Users\\patri\\OneDrive - Johns Hopkins\\tuh_epilepsy_vs_normal\\derivatives\\ICA\\sub-00007972\\**\\sub-00007972_ses-001*events.tsv\"\n",
      "  raw = mne_bids.read_raw_bids(bids_path)\n",
      "<ipython-input-6-0cb37f6594b2>:18: RuntimeWarning: Did not find any coordsystem.json associated with sub-00007972_ses-001_task-epilepsy_run-001.\n",
      "\n",
      "The search_str was \"C:\\Users\\patri\\OneDrive - Johns Hopkins\\tuh_epilepsy_vs_normal\\derivatives\\ICA\\sub-00007972\\**\\sub-00007972_ses-001*coordsystem.json\"\n",
      "  raw = mne_bids.read_raw_bids(bids_path)\n"
     ]
    },
    {
     "name": "stdout",
     "output_type": "stream",
     "text": [
      "Extracting parameters from C:\\Users\\patri\\OneDrive - Johns Hopkins\\tuh_epilepsy_vs_normal\\derivatives\\ICA\\sub-00007386\\ses-001\\eeg\\sub-00007386_ses-001_task-epilepsy_run-000_eeg.vhdr...\n",
      "Setting channel info structure...\n",
      "Reading channel info from C:\\Users\\patri\\OneDrive - Johns Hopkins\\tuh_epilepsy_vs_normal\\derivatives\\ICA\\sub-00007386\\ses-001\\eeg\\sub-00007386_ses-001_task-epilepsy_run-000_channels.tsv.\n"
     ]
    },
    {
     "name": "stderr",
     "output_type": "stream",
     "text": [
      "<ipython-input-6-0cb37f6594b2>:18: RuntimeWarning: Did not find any events.tsv associated with sub-00007386_ses-001_task-epilepsy_run-000.\n",
      "\n",
      "The search_str was \"C:\\Users\\patri\\OneDrive - Johns Hopkins\\tuh_epilepsy_vs_normal\\derivatives\\ICA\\sub-00007386\\**\\sub-00007386_ses-001*events.tsv\"\n",
      "  raw = mne_bids.read_raw_bids(bids_path)\n",
      "<ipython-input-6-0cb37f6594b2>:18: RuntimeWarning: Did not find any coordsystem.json associated with sub-00007386_ses-001_task-epilepsy_run-000.\n",
      "\n",
      "The search_str was \"C:\\Users\\patri\\OneDrive - Johns Hopkins\\tuh_epilepsy_vs_normal\\derivatives\\ICA\\sub-00007386\\**\\sub-00007386_ses-001*coordsystem.json\"\n",
      "  raw = mne_bids.read_raw_bids(bids_path)\n"
     ]
    },
    {
     "name": "stdout",
     "output_type": "stream",
     "text": [
      "Extracting parameters from C:\\Users\\patri\\OneDrive - Johns Hopkins\\tuh_epilepsy_vs_normal\\derivatives\\ICA\\sub-00007140\\ses-012\\eeg\\sub-00007140_ses-012_task-epilepsy_run-001_eeg.vhdr...\n",
      "Setting channel info structure...\n",
      "Reading channel info from C:\\Users\\patri\\OneDrive - Johns Hopkins\\tuh_epilepsy_vs_normal\\derivatives\\ICA\\sub-00007140\\ses-012\\eeg\\sub-00007140_ses-012_task-epilepsy_run-001_channels.tsv.\n"
     ]
    },
    {
     "name": "stderr",
     "output_type": "stream",
     "text": [
      "<ipython-input-6-0cb37f6594b2>:18: RuntimeWarning: Did not find any events.tsv associated with sub-00007140_ses-012_task-epilepsy_run-001.\n",
      "\n",
      "The search_str was \"C:\\Users\\patri\\OneDrive - Johns Hopkins\\tuh_epilepsy_vs_normal\\derivatives\\ICA\\sub-00007140\\**\\sub-00007140_ses-012*events.tsv\"\n",
      "  raw = mne_bids.read_raw_bids(bids_path)\n",
      "<ipython-input-6-0cb37f6594b2>:18: RuntimeWarning: Did not find any coordsystem.json associated with sub-00007140_ses-012_task-epilepsy_run-001.\n",
      "\n",
      "The search_str was \"C:\\Users\\patri\\OneDrive - Johns Hopkins\\tuh_epilepsy_vs_normal\\derivatives\\ICA\\sub-00007140\\**\\sub-00007140_ses-012*coordsystem.json\"\n",
      "  raw = mne_bids.read_raw_bids(bids_path)\n"
     ]
    },
    {
     "name": "stdout",
     "output_type": "stream",
     "text": [
      "Extracting parameters from C:\\Users\\patri\\OneDrive - Johns Hopkins\\tuh_epilepsy_vs_normal\\derivatives\\ICA\\sub-00005461\\ses-001\\eeg\\sub-00005461_ses-001_task-epilepsy_run-000_eeg.vhdr...\n",
      "Setting channel info structure...\n",
      "Reading channel info from C:\\Users\\patri\\OneDrive - Johns Hopkins\\tuh_epilepsy_vs_normal\\derivatives\\ICA\\sub-00005461\\ses-001\\eeg\\sub-00005461_ses-001_task-epilepsy_run-000_channels.tsv.\n"
     ]
    },
    {
     "name": "stderr",
     "output_type": "stream",
     "text": [
      "<ipython-input-6-0cb37f6594b2>:18: RuntimeWarning: Did not find any events.tsv associated with sub-00005461_ses-001_task-epilepsy_run-000.\n",
      "\n",
      "The search_str was \"C:\\Users\\patri\\OneDrive - Johns Hopkins\\tuh_epilepsy_vs_normal\\derivatives\\ICA\\sub-00005461\\**\\sub-00005461_ses-001*events.tsv\"\n",
      "  raw = mne_bids.read_raw_bids(bids_path)\n",
      "<ipython-input-6-0cb37f6594b2>:18: RuntimeWarning: Did not find any coordsystem.json associated with sub-00005461_ses-001_task-epilepsy_run-000.\n",
      "\n",
      "The search_str was \"C:\\Users\\patri\\OneDrive - Johns Hopkins\\tuh_epilepsy_vs_normal\\derivatives\\ICA\\sub-00005461\\**\\sub-00005461_ses-001*coordsystem.json\"\n",
      "  raw = mne_bids.read_raw_bids(bids_path)\n"
     ]
    },
    {
     "name": "stdout",
     "output_type": "stream",
     "text": [
      "Extracting parameters from C:\\Users\\patri\\OneDrive - Johns Hopkins\\tuh_epilepsy_vs_normal\\derivatives\\ICA\\sub-00007192\\ses-001\\eeg\\sub-00007192_ses-001_task-epilepsy_run-001_eeg.vhdr...\n",
      "Setting channel info structure...\n",
      "Reading channel info from C:\\Users\\patri\\OneDrive - Johns Hopkins\\tuh_epilepsy_vs_normal\\derivatives\\ICA\\sub-00007192\\ses-001\\eeg\\sub-00007192_ses-001_task-epilepsy_run-001_channels.tsv.\n"
     ]
    },
    {
     "name": "stderr",
     "output_type": "stream",
     "text": [
      "<ipython-input-6-0cb37f6594b2>:18: RuntimeWarning: Did not find any events.tsv associated with sub-00007192_ses-001_task-epilepsy_run-001.\n",
      "\n",
      "The search_str was \"C:\\Users\\patri\\OneDrive - Johns Hopkins\\tuh_epilepsy_vs_normal\\derivatives\\ICA\\sub-00007192\\**\\sub-00007192_ses-001*events.tsv\"\n",
      "  raw = mne_bids.read_raw_bids(bids_path)\n",
      "<ipython-input-6-0cb37f6594b2>:18: RuntimeWarning: Did not find any coordsystem.json associated with sub-00007192_ses-001_task-epilepsy_run-001.\n",
      "\n",
      "The search_str was \"C:\\Users\\patri\\OneDrive - Johns Hopkins\\tuh_epilepsy_vs_normal\\derivatives\\ICA\\sub-00007192\\**\\sub-00007192_ses-001*coordsystem.json\"\n",
      "  raw = mne_bids.read_raw_bids(bids_path)\n"
     ]
    },
    {
     "name": "stdout",
     "output_type": "stream",
     "text": [
      "Extracting parameters from C:\\Users\\patri\\OneDrive - Johns Hopkins\\tuh_epilepsy_vs_normal\\derivatives\\ICA\\sub-00007962\\ses-001\\eeg\\sub-00007962_ses-001_task-epilepsy_run-000_eeg.vhdr...\n",
      "Setting channel info structure...\n",
      "Reading channel info from C:\\Users\\patri\\OneDrive - Johns Hopkins\\tuh_epilepsy_vs_normal\\derivatives\\ICA\\sub-00007962\\ses-001\\eeg\\sub-00007962_ses-001_task-epilepsy_run-000_channels.tsv.\n"
     ]
    },
    {
     "name": "stderr",
     "output_type": "stream",
     "text": [
      "<ipython-input-6-0cb37f6594b2>:18: RuntimeWarning: Did not find any events.tsv associated with sub-00007962_ses-001_task-epilepsy_run-000.\n",
      "\n",
      "The search_str was \"C:\\Users\\patri\\OneDrive - Johns Hopkins\\tuh_epilepsy_vs_normal\\derivatives\\ICA\\sub-00007962\\**\\sub-00007962_ses-001*events.tsv\"\n",
      "  raw = mne_bids.read_raw_bids(bids_path)\n",
      "<ipython-input-6-0cb37f6594b2>:18: RuntimeWarning: Did not find any coordsystem.json associated with sub-00007962_ses-001_task-epilepsy_run-000.\n",
      "\n",
      "The search_str was \"C:\\Users\\patri\\OneDrive - Johns Hopkins\\tuh_epilepsy_vs_normal\\derivatives\\ICA\\sub-00007962\\**\\sub-00007962_ses-001*coordsystem.json\"\n",
      "  raw = mne_bids.read_raw_bids(bids_path)\n"
     ]
    },
    {
     "name": "stdout",
     "output_type": "stream",
     "text": [
      "Extracting parameters from C:\\Users\\patri\\OneDrive - Johns Hopkins\\tuh_epilepsy_vs_normal\\derivatives\\ICA\\sub-00003593\\ses-001\\eeg\\sub-00003593_ses-001_task-epilepsy_run-001_eeg.vhdr...\n",
      "Setting channel info structure...\n",
      "Reading channel info from C:\\Users\\patri\\OneDrive - Johns Hopkins\\tuh_epilepsy_vs_normal\\derivatives\\ICA\\sub-00003593\\ses-001\\eeg\\sub-00003593_ses-001_task-epilepsy_run-001_channels.tsv.\n"
     ]
    },
    {
     "name": "stderr",
     "output_type": "stream",
     "text": [
      "<ipython-input-6-0cb37f6594b2>:18: RuntimeWarning: Did not find any events.tsv associated with sub-00003593_ses-001_task-epilepsy_run-001.\n",
      "\n",
      "The search_str was \"C:\\Users\\patri\\OneDrive - Johns Hopkins\\tuh_epilepsy_vs_normal\\derivatives\\ICA\\sub-00003593\\**\\sub-00003593_ses-001*events.tsv\"\n",
      "  raw = mne_bids.read_raw_bids(bids_path)\n",
      "<ipython-input-6-0cb37f6594b2>:18: RuntimeWarning: Did not find any coordsystem.json associated with sub-00003593_ses-001_task-epilepsy_run-001.\n",
      "\n",
      "The search_str was \"C:\\Users\\patri\\OneDrive - Johns Hopkins\\tuh_epilepsy_vs_normal\\derivatives\\ICA\\sub-00003593\\**\\sub-00003593_ses-001*coordsystem.json\"\n",
      "  raw = mne_bids.read_raw_bids(bids_path)\n"
     ]
    },
    {
     "name": "stdout",
     "output_type": "stream",
     "text": [
      "Extracting parameters from C:\\Users\\patri\\OneDrive - Johns Hopkins\\tuh_epilepsy_vs_normal\\derivatives\\ICA\\sub-00005745\\ses-001\\eeg\\sub-00005745_ses-001_task-epilepsy_run-000_eeg.vhdr...\n",
      "Setting channel info structure...\n",
      "Reading channel info from C:\\Users\\patri\\OneDrive - Johns Hopkins\\tuh_epilepsy_vs_normal\\derivatives\\ICA\\sub-00005745\\ses-001\\eeg\\sub-00005745_ses-001_task-epilepsy_run-000_channels.tsv.\n"
     ]
    },
    {
     "name": "stderr",
     "output_type": "stream",
     "text": [
      "<ipython-input-6-0cb37f6594b2>:18: RuntimeWarning: Did not find any events.tsv associated with sub-00005745_ses-001_task-epilepsy_run-000.\n",
      "\n",
      "The search_str was \"C:\\Users\\patri\\OneDrive - Johns Hopkins\\tuh_epilepsy_vs_normal\\derivatives\\ICA\\sub-00005745\\**\\sub-00005745_ses-001*events.tsv\"\n",
      "  raw = mne_bids.read_raw_bids(bids_path)\n",
      "<ipython-input-6-0cb37f6594b2>:18: RuntimeWarning: Did not find any coordsystem.json associated with sub-00005745_ses-001_task-epilepsy_run-000.\n",
      "\n",
      "The search_str was \"C:\\Users\\patri\\OneDrive - Johns Hopkins\\tuh_epilepsy_vs_normal\\derivatives\\ICA\\sub-00005745\\**\\sub-00005745_ses-001*coordsystem.json\"\n",
      "  raw = mne_bids.read_raw_bids(bids_path)\n"
     ]
    },
    {
     "name": "stdout",
     "output_type": "stream",
     "text": [
      "Extracting parameters from C:\\Users\\patri\\OneDrive - Johns Hopkins\\tuh_epilepsy_vs_normal\\derivatives\\ICA\\sub-00002309\\ses-001\\eeg\\sub-00002309_ses-001_task-epilepsy_run-001_eeg.vhdr...\n",
      "Setting channel info structure...\n",
      "Reading channel info from C:\\Users\\patri\\OneDrive - Johns Hopkins\\tuh_epilepsy_vs_normal\\derivatives\\ICA\\sub-00002309\\ses-001\\eeg\\sub-00002309_ses-001_task-epilepsy_run-001_channels.tsv.\n"
     ]
    },
    {
     "name": "stderr",
     "output_type": "stream",
     "text": [
      "<ipython-input-6-0cb37f6594b2>:18: RuntimeWarning: Did not find any events.tsv associated with sub-00002309_ses-001_task-epilepsy_run-001.\n",
      "\n",
      "The search_str was \"C:\\Users\\patri\\OneDrive - Johns Hopkins\\tuh_epilepsy_vs_normal\\derivatives\\ICA\\sub-00002309\\**\\sub-00002309_ses-001*events.tsv\"\n",
      "  raw = mne_bids.read_raw_bids(bids_path)\n",
      "<ipython-input-6-0cb37f6594b2>:18: RuntimeWarning: Did not find any coordsystem.json associated with sub-00002309_ses-001_task-epilepsy_run-001.\n",
      "\n",
      "The search_str was \"C:\\Users\\patri\\OneDrive - Johns Hopkins\\tuh_epilepsy_vs_normal\\derivatives\\ICA\\sub-00002309\\**\\sub-00002309_ses-001*coordsystem.json\"\n",
      "  raw = mne_bids.read_raw_bids(bids_path)\n"
     ]
    },
    {
     "name": "stdout",
     "output_type": "stream",
     "text": [
      "Extracting parameters from C:\\Users\\patri\\OneDrive - Johns Hopkins\\tuh_epilepsy_vs_normal\\derivatives\\ICA\\sub-00008295\\ses-001\\eeg\\sub-00008295_ses-001_task-epilepsy_run-000_eeg.vhdr...\n",
      "Setting channel info structure...\n",
      "Reading channel info from C:\\Users\\patri\\OneDrive - Johns Hopkins\\tuh_epilepsy_vs_normal\\derivatives\\ICA\\sub-00008295\\ses-001\\eeg\\sub-00008295_ses-001_task-epilepsy_run-000_channels.tsv.\n"
     ]
    },
    {
     "name": "stderr",
     "output_type": "stream",
     "text": [
      "<ipython-input-6-0cb37f6594b2>:18: RuntimeWarning: Did not find any events.tsv associated with sub-00008295_ses-001_task-epilepsy_run-000.\n",
      "\n",
      "The search_str was \"C:\\Users\\patri\\OneDrive - Johns Hopkins\\tuh_epilepsy_vs_normal\\derivatives\\ICA\\sub-00008295\\**\\sub-00008295_ses-001*events.tsv\"\n",
      "  raw = mne_bids.read_raw_bids(bids_path)\n",
      "<ipython-input-6-0cb37f6594b2>:18: RuntimeWarning: Did not find any coordsystem.json associated with sub-00008295_ses-001_task-epilepsy_run-000.\n",
      "\n",
      "The search_str was \"C:\\Users\\patri\\OneDrive - Johns Hopkins\\tuh_epilepsy_vs_normal\\derivatives\\ICA\\sub-00008295\\**\\sub-00008295_ses-001*coordsystem.json\"\n",
      "  raw = mne_bids.read_raw_bids(bids_path)\n"
     ]
    },
    {
     "name": "stdout",
     "output_type": "stream",
     "text": [
      "Extracting parameters from C:\\Users\\patri\\OneDrive - Johns Hopkins\\tuh_epilepsy_vs_normal\\derivatives\\ICA\\sub-00003281\\ses-001\\eeg\\sub-00003281_ses-001_task-epilepsy_run-001_eeg.vhdr...\n",
      "Setting channel info structure...\n",
      "Reading channel info from C:\\Users\\patri\\OneDrive - Johns Hopkins\\tuh_epilepsy_vs_normal\\derivatives\\ICA\\sub-00003281\\ses-001\\eeg\\sub-00003281_ses-001_task-epilepsy_run-001_channels.tsv.\n"
     ]
    },
    {
     "name": "stderr",
     "output_type": "stream",
     "text": [
      "<ipython-input-6-0cb37f6594b2>:18: RuntimeWarning: Did not find any events.tsv associated with sub-00003281_ses-001_task-epilepsy_run-001.\n",
      "\n",
      "The search_str was \"C:\\Users\\patri\\OneDrive - Johns Hopkins\\tuh_epilepsy_vs_normal\\derivatives\\ICA\\sub-00003281\\**\\sub-00003281_ses-001*events.tsv\"\n",
      "  raw = mne_bids.read_raw_bids(bids_path)\n",
      "<ipython-input-6-0cb37f6594b2>:18: RuntimeWarning: Did not find any coordsystem.json associated with sub-00003281_ses-001_task-epilepsy_run-001.\n",
      "\n",
      "The search_str was \"C:\\Users\\patri\\OneDrive - Johns Hopkins\\tuh_epilepsy_vs_normal\\derivatives\\ICA\\sub-00003281\\**\\sub-00003281_ses-001*coordsystem.json\"\n",
      "  raw = mne_bids.read_raw_bids(bids_path)\n"
     ]
    },
    {
     "name": "stdout",
     "output_type": "stream",
     "text": [
      "Extracting parameters from C:\\Users\\patri\\OneDrive - Johns Hopkins\\tuh_epilepsy_vs_normal\\derivatives\\ICA\\sub-00006103\\ses-014\\eeg\\sub-00006103_ses-014_task-epilepsy_run-007_eeg.vhdr...\n",
      "Setting channel info structure...\n",
      "Reading channel info from C:\\Users\\patri\\OneDrive - Johns Hopkins\\tuh_epilepsy_vs_normal\\derivatives\\ICA\\sub-00006103\\ses-014\\eeg\\sub-00006103_ses-014_task-epilepsy_run-007_channels.tsv.\n"
     ]
    },
    {
     "name": "stderr",
     "output_type": "stream",
     "text": [
      "<ipython-input-6-0cb37f6594b2>:18: RuntimeWarning: Did not find any events.tsv associated with sub-00006103_ses-014_task-epilepsy_run-007.\n",
      "\n",
      "The search_str was \"C:\\Users\\patri\\OneDrive - Johns Hopkins\\tuh_epilepsy_vs_normal\\derivatives\\ICA\\sub-00006103\\**\\sub-00006103_ses-014*events.tsv\"\n",
      "  raw = mne_bids.read_raw_bids(bids_path)\n",
      "<ipython-input-6-0cb37f6594b2>:18: RuntimeWarning: Did not find any coordsystem.json associated with sub-00006103_ses-014_task-epilepsy_run-007.\n",
      "\n",
      "The search_str was \"C:\\Users\\patri\\OneDrive - Johns Hopkins\\tuh_epilepsy_vs_normal\\derivatives\\ICA\\sub-00006103\\**\\sub-00006103_ses-014*coordsystem.json\"\n",
      "  raw = mne_bids.read_raw_bids(bids_path)\n"
     ]
    },
    {
     "name": "stdout",
     "output_type": "stream",
     "text": [
      "Extracting parameters from C:\\Users\\patri\\OneDrive - Johns Hopkins\\tuh_epilepsy_vs_normal\\derivatives\\ICA\\sub-00007645\\ses-006\\eeg\\sub-00007645_ses-006_task-epilepsy_run-000_eeg.vhdr...\n",
      "Setting channel info structure...\n",
      "Reading channel info from C:\\Users\\patri\\OneDrive - Johns Hopkins\\tuh_epilepsy_vs_normal\\derivatives\\ICA\\sub-00007645\\ses-006\\eeg\\sub-00007645_ses-006_task-epilepsy_run-000_channels.tsv.\n"
     ]
    },
    {
     "name": "stderr",
     "output_type": "stream",
     "text": [
      "<ipython-input-6-0cb37f6594b2>:18: RuntimeWarning: Did not find any events.tsv associated with sub-00007645_ses-006_task-epilepsy_run-000.\n",
      "\n",
      "The search_str was \"C:\\Users\\patri\\OneDrive - Johns Hopkins\\tuh_epilepsy_vs_normal\\derivatives\\ICA\\sub-00007645\\**\\sub-00007645_ses-006*events.tsv\"\n",
      "  raw = mne_bids.read_raw_bids(bids_path)\n",
      "<ipython-input-6-0cb37f6594b2>:18: RuntimeWarning: Did not find any coordsystem.json associated with sub-00007645_ses-006_task-epilepsy_run-000.\n",
      "\n",
      "The search_str was \"C:\\Users\\patri\\OneDrive - Johns Hopkins\\tuh_epilepsy_vs_normal\\derivatives\\ICA\\sub-00007645\\**\\sub-00007645_ses-006*coordsystem.json\"\n",
      "  raw = mne_bids.read_raw_bids(bids_path)\n"
     ]
    },
    {
     "name": "stdout",
     "output_type": "stream",
     "text": [
      "Extracting parameters from C:\\Users\\patri\\OneDrive - Johns Hopkins\\tuh_epilepsy_vs_normal\\derivatives\\ICA\\sub-00005522\\ses-001\\eeg\\sub-00005522_ses-001_task-epilepsy_run-000_eeg.vhdr...\n",
      "Setting channel info structure...\n",
      "Reading channel info from C:\\Users\\patri\\OneDrive - Johns Hopkins\\tuh_epilepsy_vs_normal\\derivatives\\ICA\\sub-00005522\\ses-001\\eeg\\sub-00005522_ses-001_task-epilepsy_run-000_channels.tsv.\n"
     ]
    },
    {
     "name": "stderr",
     "output_type": "stream",
     "text": [
      "<ipython-input-6-0cb37f6594b2>:18: RuntimeWarning: Did not find any events.tsv associated with sub-00005522_ses-001_task-epilepsy_run-000.\n",
      "\n",
      "The search_str was \"C:\\Users\\patri\\OneDrive - Johns Hopkins\\tuh_epilepsy_vs_normal\\derivatives\\ICA\\sub-00005522\\**\\sub-00005522_ses-001*events.tsv\"\n",
      "  raw = mne_bids.read_raw_bids(bids_path)\n",
      "<ipython-input-6-0cb37f6594b2>:18: RuntimeWarning: Did not find any coordsystem.json associated with sub-00005522_ses-001_task-epilepsy_run-000.\n",
      "\n",
      "The search_str was \"C:\\Users\\patri\\OneDrive - Johns Hopkins\\tuh_epilepsy_vs_normal\\derivatives\\ICA\\sub-00005522\\**\\sub-00005522_ses-001*coordsystem.json\"\n",
      "  raw = mne_bids.read_raw_bids(bids_path)\n"
     ]
    },
    {
     "name": "stdout",
     "output_type": "stream",
     "text": [
      "Extracting parameters from C:\\Users\\patri\\OneDrive - Johns Hopkins\\tuh_epilepsy_vs_normal\\derivatives\\ICA\\sub-00007065\\ses-001\\eeg\\sub-00007065_ses-001_task-epilepsy_run-001_eeg.vhdr...\n",
      "Setting channel info structure...\n",
      "Reading channel info from C:\\Users\\patri\\OneDrive - Johns Hopkins\\tuh_epilepsy_vs_normal\\derivatives\\ICA\\sub-00007065\\ses-001\\eeg\\sub-00007065_ses-001_task-epilepsy_run-001_channels.tsv.\n"
     ]
    },
    {
     "name": "stderr",
     "output_type": "stream",
     "text": [
      "<ipython-input-6-0cb37f6594b2>:18: RuntimeWarning: Did not find any events.tsv associated with sub-00007065_ses-001_task-epilepsy_run-001.\n",
      "\n",
      "The search_str was \"C:\\Users\\patri\\OneDrive - Johns Hopkins\\tuh_epilepsy_vs_normal\\derivatives\\ICA\\sub-00007065\\**\\sub-00007065_ses-001*events.tsv\"\n",
      "  raw = mne_bids.read_raw_bids(bids_path)\n",
      "<ipython-input-6-0cb37f6594b2>:18: RuntimeWarning: Did not find any coordsystem.json associated with sub-00007065_ses-001_task-epilepsy_run-001.\n",
      "\n",
      "The search_str was \"C:\\Users\\patri\\OneDrive - Johns Hopkins\\tuh_epilepsy_vs_normal\\derivatives\\ICA\\sub-00007065\\**\\sub-00007065_ses-001*coordsystem.json\"\n",
      "  raw = mne_bids.read_raw_bids(bids_path)\n"
     ]
    },
    {
     "name": "stdout",
     "output_type": "stream",
     "text": [
      "Extracting parameters from C:\\Users\\patri\\OneDrive - Johns Hopkins\\tuh_epilepsy_vs_normal\\derivatives\\ICA\\sub-00006940\\ses-001\\eeg\\sub-00006940_ses-001_task-epilepsy_run-001_eeg.vhdr...\n",
      "Setting channel info structure...\n",
      "Reading channel info from C:\\Users\\patri\\OneDrive - Johns Hopkins\\tuh_epilepsy_vs_normal\\derivatives\\ICA\\sub-00006940\\ses-001\\eeg\\sub-00006940_ses-001_task-epilepsy_run-001_channels.tsv.\n"
     ]
    },
    {
     "name": "stderr",
     "output_type": "stream",
     "text": [
      "<ipython-input-6-0cb37f6594b2>:18: RuntimeWarning: Did not find any events.tsv associated with sub-00006940_ses-001_task-epilepsy_run-001.\n",
      "\n",
      "The search_str was \"C:\\Users\\patri\\OneDrive - Johns Hopkins\\tuh_epilepsy_vs_normal\\derivatives\\ICA\\sub-00006940\\**\\sub-00006940_ses-001*events.tsv\"\n",
      "  raw = mne_bids.read_raw_bids(bids_path)\n",
      "<ipython-input-6-0cb37f6594b2>:18: RuntimeWarning: Did not find any coordsystem.json associated with sub-00006940_ses-001_task-epilepsy_run-001.\n",
      "\n",
      "The search_str was \"C:\\Users\\patri\\OneDrive - Johns Hopkins\\tuh_epilepsy_vs_normal\\derivatives\\ICA\\sub-00006940\\**\\sub-00006940_ses-001*coordsystem.json\"\n",
      "  raw = mne_bids.read_raw_bids(bids_path)\n"
     ]
    },
    {
     "name": "stdout",
     "output_type": "stream",
     "text": [
      "Extracting parameters from C:\\Users\\patri\\OneDrive - Johns Hopkins\\tuh_epilepsy_vs_normal\\derivatives\\ICA\\sub-00005553\\ses-001\\eeg\\sub-00005553_ses-001_task-epilepsy_run-000_eeg.vhdr...\n",
      "Setting channel info structure...\n",
      "Reading channel info from C:\\Users\\patri\\OneDrive - Johns Hopkins\\tuh_epilepsy_vs_normal\\derivatives\\ICA\\sub-00005553\\ses-001\\eeg\\sub-00005553_ses-001_task-epilepsy_run-000_channels.tsv.\n"
     ]
    },
    {
     "name": "stderr",
     "output_type": "stream",
     "text": [
      "<ipython-input-6-0cb37f6594b2>:18: RuntimeWarning: Did not find any events.tsv associated with sub-00005553_ses-001_task-epilepsy_run-000.\n",
      "\n",
      "The search_str was \"C:\\Users\\patri\\OneDrive - Johns Hopkins\\tuh_epilepsy_vs_normal\\derivatives\\ICA\\sub-00005553\\**\\sub-00005553_ses-001*events.tsv\"\n",
      "  raw = mne_bids.read_raw_bids(bids_path)\n",
      "<ipython-input-6-0cb37f6594b2>:18: RuntimeWarning: Did not find any coordsystem.json associated with sub-00005553_ses-001_task-epilepsy_run-000.\n",
      "\n",
      "The search_str was \"C:\\Users\\patri\\OneDrive - Johns Hopkins\\tuh_epilepsy_vs_normal\\derivatives\\ICA\\sub-00005553\\**\\sub-00005553_ses-001*coordsystem.json\"\n",
      "  raw = mne_bids.read_raw_bids(bids_path)\n"
     ]
    },
    {
     "name": "stdout",
     "output_type": "stream",
     "text": [
      "Extracting parameters from C:\\Users\\patri\\OneDrive - Johns Hopkins\\tuh_epilepsy_vs_normal\\derivatives\\ICA\\sub-00004671\\ses-008\\eeg\\sub-00004671_ses-008_task-epilepsy_run-000_eeg.vhdr...\n",
      "Setting channel info structure...\n",
      "Reading channel info from C:\\Users\\patri\\OneDrive - Johns Hopkins\\tuh_epilepsy_vs_normal\\derivatives\\ICA\\sub-00004671\\ses-008\\eeg\\sub-00004671_ses-008_task-epilepsy_run-000_channels.tsv.\n"
     ]
    },
    {
     "name": "stderr",
     "output_type": "stream",
     "text": [
      "<ipython-input-6-0cb37f6594b2>:18: RuntimeWarning: Did not find any events.tsv associated with sub-00004671_ses-008_task-epilepsy_run-000.\n",
      "\n",
      "The search_str was \"C:\\Users\\patri\\OneDrive - Johns Hopkins\\tuh_epilepsy_vs_normal\\derivatives\\ICA\\sub-00004671\\**\\sub-00004671_ses-008*events.tsv\"\n",
      "  raw = mne_bids.read_raw_bids(bids_path)\n",
      "<ipython-input-6-0cb37f6594b2>:18: RuntimeWarning: Did not find any coordsystem.json associated with sub-00004671_ses-008_task-epilepsy_run-000.\n",
      "\n",
      "The search_str was \"C:\\Users\\patri\\OneDrive - Johns Hopkins\\tuh_epilepsy_vs_normal\\derivatives\\ICA\\sub-00004671\\**\\sub-00004671_ses-008*coordsystem.json\"\n",
      "  raw = mne_bids.read_raw_bids(bids_path)\n"
     ]
    },
    {
     "name": "stdout",
     "output_type": "stream",
     "text": [
      "Extracting parameters from C:\\Users\\patri\\OneDrive - Johns Hopkins\\tuh_epilepsy_vs_normal\\derivatives\\ICA\\sub-00007656\\ses-012\\eeg\\sub-00007656_ses-012_task-epilepsy_run-001_eeg.vhdr...\n",
      "Setting channel info structure...\n",
      "Reading channel info from C:\\Users\\patri\\OneDrive - Johns Hopkins\\tuh_epilepsy_vs_normal\\derivatives\\ICA\\sub-00007656\\ses-012\\eeg\\sub-00007656_ses-012_task-epilepsy_run-001_channels.tsv.\n"
     ]
    },
    {
     "name": "stderr",
     "output_type": "stream",
     "text": [
      "<ipython-input-6-0cb37f6594b2>:18: RuntimeWarning: Did not find any events.tsv associated with sub-00007656_ses-012_task-epilepsy_run-001.\n",
      "\n",
      "The search_str was \"C:\\Users\\patri\\OneDrive - Johns Hopkins\\tuh_epilepsy_vs_normal\\derivatives\\ICA\\sub-00007656\\**\\sub-00007656_ses-012*events.tsv\"\n",
      "  raw = mne_bids.read_raw_bids(bids_path)\n",
      "<ipython-input-6-0cb37f6594b2>:18: RuntimeWarning: Did not find any coordsystem.json associated with sub-00007656_ses-012_task-epilepsy_run-001.\n",
      "\n",
      "The search_str was \"C:\\Users\\patri\\OneDrive - Johns Hopkins\\tuh_epilepsy_vs_normal\\derivatives\\ICA\\sub-00007656\\**\\sub-00007656_ses-012*coordsystem.json\"\n",
      "  raw = mne_bids.read_raw_bids(bids_path)\n"
     ]
    },
    {
     "name": "stdout",
     "output_type": "stream",
     "text": [
      "Extracting parameters from C:\\Users\\patri\\OneDrive - Johns Hopkins\\tuh_epilepsy_vs_normal\\derivatives\\ICA\\sub-00007635\\ses-001\\eeg\\sub-00007635_ses-001_task-epilepsy_run-000_eeg.vhdr...\n",
      "Setting channel info structure...\n",
      "Reading channel info from C:\\Users\\patri\\OneDrive - Johns Hopkins\\tuh_epilepsy_vs_normal\\derivatives\\ICA\\sub-00007635\\ses-001\\eeg\\sub-00007635_ses-001_task-epilepsy_run-000_channels.tsv.\n"
     ]
    },
    {
     "name": "stderr",
     "output_type": "stream",
     "text": [
      "<ipython-input-6-0cb37f6594b2>:18: RuntimeWarning: Did not find any events.tsv associated with sub-00007635_ses-001_task-epilepsy_run-000.\n",
      "\n",
      "The search_str was \"C:\\Users\\patri\\OneDrive - Johns Hopkins\\tuh_epilepsy_vs_normal\\derivatives\\ICA\\sub-00007635\\**\\sub-00007635_ses-001*events.tsv\"\n",
      "  raw = mne_bids.read_raw_bids(bids_path)\n",
      "<ipython-input-6-0cb37f6594b2>:18: RuntimeWarning: Did not find any coordsystem.json associated with sub-00007635_ses-001_task-epilepsy_run-000.\n",
      "\n",
      "The search_str was \"C:\\Users\\patri\\OneDrive - Johns Hopkins\\tuh_epilepsy_vs_normal\\derivatives\\ICA\\sub-00007635\\**\\sub-00007635_ses-001*coordsystem.json\"\n",
      "  raw = mne_bids.read_raw_bids(bids_path)\n"
     ]
    },
    {
     "name": "stdout",
     "output_type": "stream",
     "text": [
      "Extracting parameters from C:\\Users\\patri\\OneDrive - Johns Hopkins\\tuh_epilepsy_vs_normal\\derivatives\\ICA\\sub-00000883\\ses-012\\eeg\\sub-00000883_ses-012_task-epilepsy_run-002_eeg.vhdr...\n",
      "Setting channel info structure...\n",
      "Reading channel info from C:\\Users\\patri\\OneDrive - Johns Hopkins\\tuh_epilepsy_vs_normal\\derivatives\\ICA\\sub-00000883\\ses-012\\eeg\\sub-00000883_ses-012_task-epilepsy_run-002_channels.tsv.\n"
     ]
    },
    {
     "name": "stderr",
     "output_type": "stream",
     "text": [
      "<ipython-input-6-0cb37f6594b2>:18: RuntimeWarning: Did not find any events.tsv associated with sub-00000883_ses-012_task-epilepsy_run-002.\n",
      "\n",
      "The search_str was \"C:\\Users\\patri\\OneDrive - Johns Hopkins\\tuh_epilepsy_vs_normal\\derivatives\\ICA\\sub-00000883\\**\\sub-00000883_ses-012*events.tsv\"\n",
      "  raw = mne_bids.read_raw_bids(bids_path)\n",
      "<ipython-input-6-0cb37f6594b2>:18: RuntimeWarning: Did not find any coordsystem.json associated with sub-00000883_ses-012_task-epilepsy_run-002.\n",
      "\n",
      "The search_str was \"C:\\Users\\patri\\OneDrive - Johns Hopkins\\tuh_epilepsy_vs_normal\\derivatives\\ICA\\sub-00000883\\**\\sub-00000883_ses-012*coordsystem.json\"\n",
      "  raw = mne_bids.read_raw_bids(bids_path)\n"
     ]
    },
    {
     "name": "stdout",
     "output_type": "stream",
     "text": [
      "Extracting parameters from C:\\Users\\patri\\OneDrive - Johns Hopkins\\tuh_epilepsy_vs_normal\\derivatives\\ICA\\sub-00007267\\ses-001\\eeg\\sub-00007267_ses-001_task-epilepsy_run-001_eeg.vhdr...\n",
      "Setting channel info structure...\n",
      "Reading channel info from C:\\Users\\patri\\OneDrive - Johns Hopkins\\tuh_epilepsy_vs_normal\\derivatives\\ICA\\sub-00007267\\ses-001\\eeg\\sub-00007267_ses-001_task-epilepsy_run-001_channels.tsv.\n"
     ]
    },
    {
     "name": "stderr",
     "output_type": "stream",
     "text": [
      "<ipython-input-6-0cb37f6594b2>:18: RuntimeWarning: Did not find any events.tsv associated with sub-00007267_ses-001_task-epilepsy_run-001.\n",
      "\n",
      "The search_str was \"C:\\Users\\patri\\OneDrive - Johns Hopkins\\tuh_epilepsy_vs_normal\\derivatives\\ICA\\sub-00007267\\**\\sub-00007267_ses-001*events.tsv\"\n",
      "  raw = mne_bids.read_raw_bids(bids_path)\n",
      "<ipython-input-6-0cb37f6594b2>:18: RuntimeWarning: Did not find any coordsystem.json associated with sub-00007267_ses-001_task-epilepsy_run-001.\n",
      "\n",
      "The search_str was \"C:\\Users\\patri\\OneDrive - Johns Hopkins\\tuh_epilepsy_vs_normal\\derivatives\\ICA\\sub-00007267\\**\\sub-00007267_ses-001*coordsystem.json\"\n",
      "  raw = mne_bids.read_raw_bids(bids_path)\n"
     ]
    },
    {
     "name": "stdout",
     "output_type": "stream",
     "text": [
      "Extracting parameters from C:\\Users\\patri\\OneDrive - Johns Hopkins\\tuh_epilepsy_vs_normal\\derivatives\\ICA\\sub-00003667\\ses-002\\eeg\\sub-00003667_ses-002_task-epilepsy_run-000_eeg.vhdr...\n",
      "Setting channel info structure...\n",
      "Reading channel info from C:\\Users\\patri\\OneDrive - Johns Hopkins\\tuh_epilepsy_vs_normal\\derivatives\\ICA\\sub-00003667\\ses-002\\eeg\\sub-00003667_ses-002_task-epilepsy_run-000_channels.tsv.\n"
     ]
    },
    {
     "name": "stderr",
     "output_type": "stream",
     "text": [
      "<ipython-input-6-0cb37f6594b2>:18: RuntimeWarning: Did not find any events.tsv associated with sub-00003667_ses-002_task-epilepsy_run-000.\n",
      "\n",
      "The search_str was \"C:\\Users\\patri\\OneDrive - Johns Hopkins\\tuh_epilepsy_vs_normal\\derivatives\\ICA\\sub-00003667\\**\\sub-00003667_ses-002*events.tsv\"\n",
      "  raw = mne_bids.read_raw_bids(bids_path)\n",
      "<ipython-input-6-0cb37f6594b2>:18: RuntimeWarning: Did not find any coordsystem.json associated with sub-00003667_ses-002_task-epilepsy_run-000.\n",
      "\n",
      "The search_str was \"C:\\Users\\patri\\OneDrive - Johns Hopkins\\tuh_epilepsy_vs_normal\\derivatives\\ICA\\sub-00003667\\**\\sub-00003667_ses-002*coordsystem.json\"\n",
      "  raw = mne_bids.read_raw_bids(bids_path)\n"
     ]
    },
    {
     "name": "stdout",
     "output_type": "stream",
     "text": [
      "Extracting parameters from C:\\Users\\patri\\OneDrive - Johns Hopkins\\tuh_epilepsy_vs_normal\\derivatives\\ICA\\sub-00007805\\ses-001\\eeg\\sub-00007805_ses-001_task-epilepsy_run-000_eeg.vhdr...\n",
      "Setting channel info structure...\n",
      "Reading channel info from C:\\Users\\patri\\OneDrive - Johns Hopkins\\tuh_epilepsy_vs_normal\\derivatives\\ICA\\sub-00007805\\ses-001\\eeg\\sub-00007805_ses-001_task-epilepsy_run-000_channels.tsv.\n"
     ]
    },
    {
     "name": "stderr",
     "output_type": "stream",
     "text": [
      "<ipython-input-6-0cb37f6594b2>:18: RuntimeWarning: Did not find any events.tsv associated with sub-00007805_ses-001_task-epilepsy_run-000.\n",
      "\n",
      "The search_str was \"C:\\Users\\patri\\OneDrive - Johns Hopkins\\tuh_epilepsy_vs_normal\\derivatives\\ICA\\sub-00007805\\**\\sub-00007805_ses-001*events.tsv\"\n",
      "  raw = mne_bids.read_raw_bids(bids_path)\n",
      "<ipython-input-6-0cb37f6594b2>:18: RuntimeWarning: Did not find any coordsystem.json associated with sub-00007805_ses-001_task-epilepsy_run-000.\n",
      "\n",
      "The search_str was \"C:\\Users\\patri\\OneDrive - Johns Hopkins\\tuh_epilepsy_vs_normal\\derivatives\\ICA\\sub-00007805\\**\\sub-00007805_ses-001*coordsystem.json\"\n",
      "  raw = mne_bids.read_raw_bids(bids_path)\n"
     ]
    },
    {
     "name": "stdout",
     "output_type": "stream",
     "text": [
      "Extracting parameters from C:\\Users\\patri\\OneDrive - Johns Hopkins\\tuh_epilepsy_vs_normal\\derivatives\\ICA\\sub-00007666\\ses-001\\eeg\\sub-00007666_ses-001_task-epilepsy_run-000_eeg.vhdr...\n",
      "Setting channel info structure...\n",
      "Reading channel info from C:\\Users\\patri\\OneDrive - Johns Hopkins\\tuh_epilepsy_vs_normal\\derivatives\\ICA\\sub-00007666\\ses-001\\eeg\\sub-00007666_ses-001_task-epilepsy_run-000_channels.tsv.\n"
     ]
    },
    {
     "name": "stderr",
     "output_type": "stream",
     "text": [
      "<ipython-input-6-0cb37f6594b2>:18: RuntimeWarning: Did not find any events.tsv associated with sub-00007666_ses-001_task-epilepsy_run-000.\n",
      "\n",
      "The search_str was \"C:\\Users\\patri\\OneDrive - Johns Hopkins\\tuh_epilepsy_vs_normal\\derivatives\\ICA\\sub-00007666\\**\\sub-00007666_ses-001*events.tsv\"\n",
      "  raw = mne_bids.read_raw_bids(bids_path)\n",
      "<ipython-input-6-0cb37f6594b2>:18: RuntimeWarning: Did not find any coordsystem.json associated with sub-00007666_ses-001_task-epilepsy_run-000.\n",
      "\n",
      "The search_str was \"C:\\Users\\patri\\OneDrive - Johns Hopkins\\tuh_epilepsy_vs_normal\\derivatives\\ICA\\sub-00007666\\**\\sub-00007666_ses-001*coordsystem.json\"\n",
      "  raw = mne_bids.read_raw_bids(bids_path)\n"
     ]
    },
    {
     "name": "stdout",
     "output_type": "stream",
     "text": [
      "Extracting parameters from C:\\Users\\patri\\OneDrive - Johns Hopkins\\tuh_epilepsy_vs_normal\\derivatives\\ICA\\sub-00006894\\ses-001\\eeg\\sub-00006894_ses-001_task-epilepsy_run-000_eeg.vhdr...\n",
      "Setting channel info structure...\n",
      "Reading channel info from C:\\Users\\patri\\OneDrive - Johns Hopkins\\tuh_epilepsy_vs_normal\\derivatives\\ICA\\sub-00006894\\ses-001\\eeg\\sub-00006894_ses-001_task-epilepsy_run-000_channels.tsv.\n"
     ]
    },
    {
     "name": "stderr",
     "output_type": "stream",
     "text": [
      "<ipython-input-6-0cb37f6594b2>:18: RuntimeWarning: Did not find any events.tsv associated with sub-00006894_ses-001_task-epilepsy_run-000.\n",
      "\n",
      "The search_str was \"C:\\Users\\patri\\OneDrive - Johns Hopkins\\tuh_epilepsy_vs_normal\\derivatives\\ICA\\sub-00006894\\**\\sub-00006894_ses-001*events.tsv\"\n",
      "  raw = mne_bids.read_raw_bids(bids_path)\n",
      "<ipython-input-6-0cb37f6594b2>:18: RuntimeWarning: Did not find any coordsystem.json associated with sub-00006894_ses-001_task-epilepsy_run-000.\n",
      "\n",
      "The search_str was \"C:\\Users\\patri\\OneDrive - Johns Hopkins\\tuh_epilepsy_vs_normal\\derivatives\\ICA\\sub-00006894\\**\\sub-00006894_ses-001*coordsystem.json\"\n",
      "  raw = mne_bids.read_raw_bids(bids_path)\n"
     ]
    },
    {
     "name": "stdout",
     "output_type": "stream",
     "text": [
      "Extracting parameters from C:\\Users\\patri\\OneDrive - Johns Hopkins\\tuh_epilepsy_vs_normal\\derivatives\\ICA\\sub-00006805\\ses-001\\eeg\\sub-00006805_ses-001_task-epilepsy_run-001_eeg.vhdr...\n",
      "Setting channel info structure...\n",
      "Reading channel info from C:\\Users\\patri\\OneDrive - Johns Hopkins\\tuh_epilepsy_vs_normal\\derivatives\\ICA\\sub-00006805\\ses-001\\eeg\\sub-00006805_ses-001_task-epilepsy_run-001_channels.tsv.\n"
     ]
    },
    {
     "name": "stderr",
     "output_type": "stream",
     "text": [
      "<ipython-input-6-0cb37f6594b2>:18: RuntimeWarning: Did not find any events.tsv associated with sub-00006805_ses-001_task-epilepsy_run-001.\n",
      "\n",
      "The search_str was \"C:\\Users\\patri\\OneDrive - Johns Hopkins\\tuh_epilepsy_vs_normal\\derivatives\\ICA\\sub-00006805\\**\\sub-00006805_ses-001*events.tsv\"\n",
      "  raw = mne_bids.read_raw_bids(bids_path)\n",
      "<ipython-input-6-0cb37f6594b2>:18: RuntimeWarning: Did not find any coordsystem.json associated with sub-00006805_ses-001_task-epilepsy_run-001.\n",
      "\n",
      "The search_str was \"C:\\Users\\patri\\OneDrive - Johns Hopkins\\tuh_epilepsy_vs_normal\\derivatives\\ICA\\sub-00006805\\**\\sub-00006805_ses-001*coordsystem.json\"\n",
      "  raw = mne_bids.read_raw_bids(bids_path)\n"
     ]
    },
    {
     "name": "stdout",
     "output_type": "stream",
     "text": [
      "Extracting parameters from C:\\Users\\patri\\OneDrive - Johns Hopkins\\tuh_epilepsy_vs_normal\\derivatives\\ICA\\sub-00005641\\ses-001\\eeg\\sub-00005641_ses-001_task-epilepsy_run-000_eeg.vhdr...\n",
      "Setting channel info structure...\n",
      "Reading channel info from C:\\Users\\patri\\OneDrive - Johns Hopkins\\tuh_epilepsy_vs_normal\\derivatives\\ICA\\sub-00005641\\ses-001\\eeg\\sub-00005641_ses-001_task-epilepsy_run-000_channels.tsv.\n"
     ]
    },
    {
     "name": "stderr",
     "output_type": "stream",
     "text": [
      "<ipython-input-6-0cb37f6594b2>:18: RuntimeWarning: Did not find any events.tsv associated with sub-00005641_ses-001_task-epilepsy_run-000.\n",
      "\n",
      "The search_str was \"C:\\Users\\patri\\OneDrive - Johns Hopkins\\tuh_epilepsy_vs_normal\\derivatives\\ICA\\sub-00005641\\**\\sub-00005641_ses-001*events.tsv\"\n",
      "  raw = mne_bids.read_raw_bids(bids_path)\n",
      "<ipython-input-6-0cb37f6594b2>:18: RuntimeWarning: Did not find any coordsystem.json associated with sub-00005641_ses-001_task-epilepsy_run-000.\n",
      "\n",
      "The search_str was \"C:\\Users\\patri\\OneDrive - Johns Hopkins\\tuh_epilepsy_vs_normal\\derivatives\\ICA\\sub-00005641\\**\\sub-00005641_ses-001*coordsystem.json\"\n",
      "  raw = mne_bids.read_raw_bids(bids_path)\n"
     ]
    },
    {
     "name": "stdout",
     "output_type": "stream",
     "text": [
      "Extracting parameters from C:\\Users\\patri\\OneDrive - Johns Hopkins\\tuh_epilepsy_vs_normal\\derivatives\\ICA\\sub-00007572\\ses-006\\eeg\\sub-00007572_ses-006_task-epilepsy_run-002_eeg.vhdr...\n",
      "Setting channel info structure...\n",
      "Reading channel info from C:\\Users\\patri\\OneDrive - Johns Hopkins\\tuh_epilepsy_vs_normal\\derivatives\\ICA\\sub-00007572\\ses-006\\eeg\\sub-00007572_ses-006_task-epilepsy_run-002_channels.tsv.\n"
     ]
    },
    {
     "name": "stderr",
     "output_type": "stream",
     "text": [
      "<ipython-input-6-0cb37f6594b2>:18: RuntimeWarning: Did not find any events.tsv associated with sub-00007572_ses-006_task-epilepsy_run-002.\n",
      "\n",
      "The search_str was \"C:\\Users\\patri\\OneDrive - Johns Hopkins\\tuh_epilepsy_vs_normal\\derivatives\\ICA\\sub-00007572\\**\\sub-00007572_ses-006*events.tsv\"\n",
      "  raw = mne_bids.read_raw_bids(bids_path)\n",
      "<ipython-input-6-0cb37f6594b2>:18: RuntimeWarning: Did not find any coordsystem.json associated with sub-00007572_ses-006_task-epilepsy_run-002.\n",
      "\n",
      "The search_str was \"C:\\Users\\patri\\OneDrive - Johns Hopkins\\tuh_epilepsy_vs_normal\\derivatives\\ICA\\sub-00007572\\**\\sub-00007572_ses-006*coordsystem.json\"\n",
      "  raw = mne_bids.read_raw_bids(bids_path)\n"
     ]
    },
    {
     "name": "stdout",
     "output_type": "stream",
     "text": [
      "Extracting parameters from C:\\Users\\patri\\OneDrive - Johns Hopkins\\tuh_epilepsy_vs_normal\\derivatives\\ICA\\sub-00007323\\ses-001\\eeg\\sub-00007323_ses-001_task-epilepsy_run-000_eeg.vhdr...\n",
      "Setting channel info structure...\n",
      "Reading channel info from C:\\Users\\patri\\OneDrive - Johns Hopkins\\tuh_epilepsy_vs_normal\\derivatives\\ICA\\sub-00007323\\ses-001\\eeg\\sub-00007323_ses-001_task-epilepsy_run-000_channels.tsv.\n"
     ]
    },
    {
     "name": "stderr",
     "output_type": "stream",
     "text": [
      "<ipython-input-6-0cb37f6594b2>:18: RuntimeWarning: Did not find any events.tsv associated with sub-00007323_ses-001_task-epilepsy_run-000.\n",
      "\n",
      "The search_str was \"C:\\Users\\patri\\OneDrive - Johns Hopkins\\tuh_epilepsy_vs_normal\\derivatives\\ICA\\sub-00007323\\**\\sub-00007323_ses-001*events.tsv\"\n",
      "  raw = mne_bids.read_raw_bids(bids_path)\n",
      "<ipython-input-6-0cb37f6594b2>:18: RuntimeWarning: Did not find any coordsystem.json associated with sub-00007323_ses-001_task-epilepsy_run-000.\n",
      "\n",
      "The search_str was \"C:\\Users\\patri\\OneDrive - Johns Hopkins\\tuh_epilepsy_vs_normal\\derivatives\\ICA\\sub-00007323\\**\\sub-00007323_ses-001*coordsystem.json\"\n",
      "  raw = mne_bids.read_raw_bids(bids_path)\n"
     ]
    },
    {
     "name": "stdout",
     "output_type": "stream",
     "text": [
      "Extracting parameters from C:\\Users\\patri\\OneDrive - Johns Hopkins\\tuh_epilepsy_vs_normal\\derivatives\\ICA\\sub-00008194\\ses-006\\eeg\\sub-00008194_ses-006_task-epilepsy_run-002_eeg.vhdr...\n",
      "Setting channel info structure...\n",
      "Reading channel info from C:\\Users\\patri\\OneDrive - Johns Hopkins\\tuh_epilepsy_vs_normal\\derivatives\\ICA\\sub-00008194\\ses-006\\eeg\\sub-00008194_ses-006_task-epilepsy_run-002_channels.tsv.\n"
     ]
    },
    {
     "name": "stderr",
     "output_type": "stream",
     "text": [
      "<ipython-input-6-0cb37f6594b2>:18: RuntimeWarning: Did not find any events.tsv associated with sub-00008194_ses-006_task-epilepsy_run-002.\n",
      "\n",
      "The search_str was \"C:\\Users\\patri\\OneDrive - Johns Hopkins\\tuh_epilepsy_vs_normal\\derivatives\\ICA\\sub-00008194\\**\\sub-00008194_ses-006*events.tsv\"\n",
      "  raw = mne_bids.read_raw_bids(bids_path)\n",
      "<ipython-input-6-0cb37f6594b2>:18: RuntimeWarning: Did not find any coordsystem.json associated with sub-00008194_ses-006_task-epilepsy_run-002.\n",
      "\n",
      "The search_str was \"C:\\Users\\patri\\OneDrive - Johns Hopkins\\tuh_epilepsy_vs_normal\\derivatives\\ICA\\sub-00008194\\**\\sub-00008194_ses-006*coordsystem.json\"\n",
      "  raw = mne_bids.read_raw_bids(bids_path)\n"
     ]
    },
    {
     "name": "stdout",
     "output_type": "stream",
     "text": [
      "Extracting parameters from C:\\Users\\patri\\OneDrive - Johns Hopkins\\tuh_epilepsy_vs_normal\\derivatives\\ICA\\sub-00000767\\ses-008\\eeg\\sub-00000767_ses-008_task-epilepsy_run-000_eeg.vhdr...\n",
      "Setting channel info structure...\n",
      "Reading channel info from C:\\Users\\patri\\OneDrive - Johns Hopkins\\tuh_epilepsy_vs_normal\\derivatives\\ICA\\sub-00000767\\ses-008\\eeg\\sub-00000767_ses-008_task-epilepsy_run-000_channels.tsv.\n"
     ]
    },
    {
     "name": "stderr",
     "output_type": "stream",
     "text": [
      "<ipython-input-6-0cb37f6594b2>:18: RuntimeWarning: Did not find any events.tsv associated with sub-00000767_ses-008_task-epilepsy_run-000.\n",
      "\n",
      "The search_str was \"C:\\Users\\patri\\OneDrive - Johns Hopkins\\tuh_epilepsy_vs_normal\\derivatives\\ICA\\sub-00000767\\**\\sub-00000767_ses-008*events.tsv\"\n",
      "  raw = mne_bids.read_raw_bids(bids_path)\n",
      "<ipython-input-6-0cb37f6594b2>:18: RuntimeWarning: Did not find any coordsystem.json associated with sub-00000767_ses-008_task-epilepsy_run-000.\n",
      "\n",
      "The search_str was \"C:\\Users\\patri\\OneDrive - Johns Hopkins\\tuh_epilepsy_vs_normal\\derivatives\\ICA\\sub-00000767\\**\\sub-00000767_ses-008*coordsystem.json\"\n",
      "  raw = mne_bids.read_raw_bids(bids_path)\n"
     ]
    }
   ],
   "source": [
    "root = Path('C:/Users/patri/OneDrive - Johns Hopkins/tuh_epilepsy_vs_normal/derivatives/ICA/')\n",
    "\n",
    "list_5 = []\n",
    "list_10 = []\n",
    "list_25 = []\n",
    "list_50 = []\n",
    "\n",
    "for index, row in ep.iterrows():\n",
    "    subject = '{:08d}'.format(row[\"id\"])\n",
    "    session = '{:03d}'.format(row[\"session\"])\n",
    "    run = '{:03d}'.format(row[\"run\"])\n",
    "    task = \"epilepsy\"\n",
    "    acq = \"run\"\n",
    "    datatype = \"eeg\"\n",
    "    bids_path = mne_bids.BIDSPath(subject=subject, session=session, task=task,\n",
    "                     acquisition=None, run=run, datatype=datatype, root=root,\n",
    "                     suffix='eeg', extension='.vhdr')\n",
    "    raw = mne_bids.read_raw_bids(bids_path)\n",
    "    \n",
    "    df = raw.to_data_frame()\n",
    "    df = df.set_index('time')\n",
    "    test_array = np.array(df)\n",
    "    split_5 = np.array_split(test_array, 5)\n",
    "    split_10 = np.array_split(test_array, 10)\n",
    "    split_25 = np.array_split(test_array, 25)\n",
    "    split_50 = np.array_split(test_array, 50)\n",
    "    \n",
    "    list_5.append(split_5)\n",
    "    list_10.append(split_10)\n",
    "    list_25.append(split_25)\n",
    "    list_50.append(split_50)\n",
    "    \n",
    "pickle.dump(list_5, open(\"epilepsy_split_5.pkl\", \"wb\"))\n",
    "pickle.dump(list_10, open(\"epilepsy_split_10.pkl\", \"wb\"))\n",
    "pickle.dump(list_25, open(\"epilepsy_split_25.pkl\", \"wb\"))\n",
    "pickle.dump(list_50, open(\"epilepsy_split_50.pkl\", \"wb\"))"
   ]
  },
  {
   "cell_type": "code",
   "execution_count": 7,
   "metadata": {},
   "outputs": [],
   "source": [
    "def split_plv(split_list, cols):\n",
    "    plv_vals = np.zeros((len(split_list), len(split_list[0]), len(cols), len(cols)))\n",
    "    for i, sub in enumerate(split_list):\n",
    "        print('On subject {} out of {}'.format(i+1, len(split_list)))\n",
    "        for j, split in enumerate(sub):\n",
    "            split = sig.hilbert(split, axis = 0)\n",
    "            split = np.angle(split)\n",
    "            split = np.unwrap(split, axis = 0)\n",
    "            for k in range(len(cols)):\n",
    "                for l in range(len(cols)):\n",
    "                    c_k = split[:, k]\n",
    "                    c_l = split[:, l]\n",
    "                    c_kl = c_k - c_l\n",
    "                    c_kl = np.array([complex(0, a) for a in c_kl])\n",
    "                    plv_vals[i, j, k, l] = np.abs(np.sum(np.exp(c_kl))) / len(c_kl)\n",
    "    return plv_vals"
   ]
  },
  {
   "cell_type": "code",
   "execution_count": 9,
   "metadata": {
    "scrolled": true
   },
   "outputs": [
    {
     "name": "stdout",
     "output_type": "stream",
     "text": [
      "On subject 1 out of 55\n",
      "On subject 2 out of 55\n",
      "On subject 3 out of 55\n",
      "On subject 4 out of 55\n",
      "On subject 5 out of 55\n",
      "On subject 6 out of 55\n",
      "On subject 7 out of 55\n",
      "On subject 8 out of 55\n",
      "On subject 9 out of 55\n",
      "On subject 10 out of 55\n",
      "On subject 11 out of 55\n",
      "On subject 12 out of 55\n",
      "On subject 13 out of 55\n",
      "On subject 14 out of 55\n",
      "On subject 15 out of 55\n",
      "On subject 16 out of 55\n",
      "On subject 17 out of 55\n",
      "On subject 18 out of 55\n",
      "On subject 19 out of 55\n",
      "On subject 20 out of 55\n",
      "On subject 21 out of 55\n",
      "On subject 22 out of 55\n",
      "On subject 23 out of 55\n",
      "On subject 24 out of 55\n",
      "On subject 25 out of 55\n",
      "On subject 26 out of 55\n",
      "On subject 27 out of 55\n",
      "On subject 28 out of 55\n",
      "On subject 29 out of 55\n",
      "On subject 30 out of 55\n",
      "On subject 31 out of 55\n",
      "On subject 32 out of 55\n",
      "On subject 33 out of 55\n",
      "On subject 34 out of 55\n",
      "On subject 35 out of 55\n",
      "On subject 36 out of 55\n",
      "On subject 37 out of 55\n",
      "On subject 38 out of 55\n",
      "On subject 39 out of 55\n",
      "On subject 40 out of 55\n",
      "On subject 41 out of 55\n",
      "On subject 42 out of 55\n",
      "On subject 43 out of 55\n",
      "On subject 44 out of 55\n",
      "On subject 45 out of 55\n",
      "On subject 46 out of 55\n",
      "On subject 47 out of 55\n",
      "On subject 48 out of 55\n",
      "On subject 49 out of 55\n",
      "On subject 50 out of 55\n",
      "On subject 51 out of 55\n",
      "On subject 52 out of 55\n",
      "On subject 53 out of 55\n",
      "On subject 54 out of 55\n",
      "On subject 55 out of 55\n"
     ]
    }
   ],
   "source": [
    "cols = pickle.load(open(\"chan_names.pkl\", \"rb\"))\n",
    "\n",
    "list_5 = pickle.load(open(\"epilepsy_split_5.pkl\", \"rb\"))\n",
    "plv_5 = split_plv(list_5, cols)\n",
    "pickle.dump(plv_5, open(\"epilepsy_plv_5.pkl\", \"wb\"))"
   ]
  },
  {
   "cell_type": "code",
   "execution_count": 10,
   "metadata": {
    "scrolled": true
   },
   "outputs": [
    {
     "name": "stdout",
     "output_type": "stream",
     "text": [
      "On subject 1 out of 55\n",
      "On subject 2 out of 55\n",
      "On subject 3 out of 55\n",
      "On subject 4 out of 55\n",
      "On subject 5 out of 55\n",
      "On subject 6 out of 55\n",
      "On subject 7 out of 55\n",
      "On subject 8 out of 55\n",
      "On subject 9 out of 55\n",
      "On subject 10 out of 55\n",
      "On subject 11 out of 55\n",
      "On subject 12 out of 55\n",
      "On subject 13 out of 55\n",
      "On subject 14 out of 55\n",
      "On subject 15 out of 55\n",
      "On subject 16 out of 55\n",
      "On subject 17 out of 55\n",
      "On subject 18 out of 55\n",
      "On subject 19 out of 55\n",
      "On subject 20 out of 55\n",
      "On subject 21 out of 55\n",
      "On subject 22 out of 55\n",
      "On subject 23 out of 55\n",
      "On subject 24 out of 55\n",
      "On subject 25 out of 55\n",
      "On subject 26 out of 55\n",
      "On subject 27 out of 55\n",
      "On subject 28 out of 55\n",
      "On subject 29 out of 55\n",
      "On subject 30 out of 55\n",
      "On subject 31 out of 55\n",
      "On subject 32 out of 55\n",
      "On subject 33 out of 55\n",
      "On subject 34 out of 55\n",
      "On subject 35 out of 55\n",
      "On subject 36 out of 55\n",
      "On subject 37 out of 55\n",
      "On subject 38 out of 55\n",
      "On subject 39 out of 55\n",
      "On subject 40 out of 55\n",
      "On subject 41 out of 55\n",
      "On subject 42 out of 55\n",
      "On subject 43 out of 55\n",
      "On subject 44 out of 55\n",
      "On subject 45 out of 55\n",
      "On subject 46 out of 55\n",
      "On subject 47 out of 55\n",
      "On subject 48 out of 55\n",
      "On subject 49 out of 55\n",
      "On subject 50 out of 55\n",
      "On subject 51 out of 55\n",
      "On subject 52 out of 55\n",
      "On subject 53 out of 55\n",
      "On subject 54 out of 55\n",
      "On subject 55 out of 55\n"
     ]
    }
   ],
   "source": [
    "list_10 = pickle.load(open(\"epilepsy_split_10.pkl\", \"rb\"))\n",
    "plv_10 = split_plv(list_10, cols)\n",
    "pickle.dump(plv_10, open(\"epilepsy_plv_10.pkl\", \"wb\"))"
   ]
  },
  {
   "cell_type": "code",
   "execution_count": 11,
   "metadata": {
    "scrolled": true
   },
   "outputs": [
    {
     "name": "stdout",
     "output_type": "stream",
     "text": [
      "On subject 1 out of 55\n",
      "On subject 2 out of 55\n",
      "On subject 3 out of 55\n",
      "On subject 4 out of 55\n",
      "On subject 5 out of 55\n",
      "On subject 6 out of 55\n",
      "On subject 7 out of 55\n",
      "On subject 8 out of 55\n",
      "On subject 9 out of 55\n",
      "On subject 10 out of 55\n",
      "On subject 11 out of 55\n",
      "On subject 12 out of 55\n",
      "On subject 13 out of 55\n",
      "On subject 14 out of 55\n",
      "On subject 15 out of 55\n",
      "On subject 16 out of 55\n",
      "On subject 17 out of 55\n",
      "On subject 18 out of 55\n",
      "On subject 19 out of 55\n",
      "On subject 20 out of 55\n",
      "On subject 21 out of 55\n",
      "On subject 22 out of 55\n",
      "On subject 23 out of 55\n",
      "On subject 24 out of 55\n",
      "On subject 25 out of 55\n",
      "On subject 26 out of 55\n",
      "On subject 27 out of 55\n",
      "On subject 28 out of 55\n",
      "On subject 29 out of 55\n",
      "On subject 30 out of 55\n",
      "On subject 31 out of 55\n",
      "On subject 32 out of 55\n",
      "On subject 33 out of 55\n",
      "On subject 34 out of 55\n",
      "On subject 35 out of 55\n",
      "On subject 36 out of 55\n",
      "On subject 37 out of 55\n",
      "On subject 38 out of 55\n",
      "On subject 39 out of 55\n",
      "On subject 40 out of 55\n",
      "On subject 41 out of 55\n",
      "On subject 42 out of 55\n",
      "On subject 43 out of 55\n",
      "On subject 44 out of 55\n",
      "On subject 45 out of 55\n",
      "On subject 46 out of 55\n",
      "On subject 47 out of 55\n",
      "On subject 48 out of 55\n",
      "On subject 49 out of 55\n",
      "On subject 50 out of 55\n",
      "On subject 51 out of 55\n",
      "On subject 52 out of 55\n",
      "On subject 53 out of 55\n",
      "On subject 54 out of 55\n",
      "On subject 55 out of 55\n"
     ]
    }
   ],
   "source": [
    "list_25 = pickle.load(open(\"epilepsy_split_25.pkl\", \"rb\"))\n",
    "plv_25 = split_plv(list_25, cols)\n",
    "pickle.dump(plv_25, open(\"epilepsy_plv_25.pkl\", \"wb\"))"
   ]
  },
  {
   "cell_type": "code",
   "execution_count": 12,
   "metadata": {
    "scrolled": true
   },
   "outputs": [
    {
     "name": "stdout",
     "output_type": "stream",
     "text": [
      "On subject 1 out of 55\n",
      "On subject 2 out of 55\n",
      "On subject 3 out of 55\n",
      "On subject 4 out of 55\n",
      "On subject 5 out of 55\n",
      "On subject 6 out of 55\n",
      "On subject 7 out of 55\n",
      "On subject 8 out of 55\n",
      "On subject 9 out of 55\n",
      "On subject 10 out of 55\n",
      "On subject 11 out of 55\n",
      "On subject 12 out of 55\n",
      "On subject 13 out of 55\n",
      "On subject 14 out of 55\n",
      "On subject 15 out of 55\n",
      "On subject 16 out of 55\n",
      "On subject 17 out of 55\n",
      "On subject 18 out of 55\n",
      "On subject 19 out of 55\n",
      "On subject 20 out of 55\n",
      "On subject 21 out of 55\n",
      "On subject 22 out of 55\n",
      "On subject 23 out of 55\n",
      "On subject 24 out of 55\n",
      "On subject 25 out of 55\n",
      "On subject 26 out of 55\n",
      "On subject 27 out of 55\n",
      "On subject 28 out of 55\n",
      "On subject 29 out of 55\n",
      "On subject 30 out of 55\n",
      "On subject 31 out of 55\n",
      "On subject 32 out of 55\n",
      "On subject 33 out of 55\n",
      "On subject 34 out of 55\n",
      "On subject 35 out of 55\n",
      "On subject 36 out of 55\n",
      "On subject 37 out of 55\n",
      "On subject 38 out of 55\n",
      "On subject 39 out of 55\n",
      "On subject 40 out of 55\n",
      "On subject 41 out of 55\n",
      "On subject 42 out of 55\n",
      "On subject 43 out of 55\n",
      "On subject 44 out of 55\n",
      "On subject 45 out of 55\n",
      "On subject 46 out of 55\n",
      "On subject 47 out of 55\n",
      "On subject 48 out of 55\n",
      "On subject 49 out of 55\n",
      "On subject 50 out of 55\n",
      "On subject 51 out of 55\n",
      "On subject 52 out of 55\n",
      "On subject 53 out of 55\n",
      "On subject 54 out of 55\n",
      "On subject 55 out of 55\n"
     ]
    }
   ],
   "source": [
    "list_50 = pickle.load(open(\"epilepsy_split_50.pkl\", \"rb\"))\n",
    "plv_50 = split_plv(list_50, cols)\n",
    "pickle.dump(plv_50, open(\"epilepsy_plv_50.pkl\", \"wb\"))"
   ]
  },
  {
   "cell_type": "code",
   "execution_count": 13,
   "metadata": {},
   "outputs": [
    {
     "data": {
      "image/png": "[encoded data removed]",
      "text/plain": [
       "<Figure size 1440x864 with 30 Axes>"
      ]
     },
     "metadata": {
      "needs_background": "light"
     },
     "output_type": "display_data"
    }
   ],
   "source": [
    "eeg_stack = pickle.load(open(\"epilepsy_eeg.pkl\", \"rb\"))\n",
    "plv_5 = pickle.load(open(\"epilepsy_plv_5.pkl\", \"rb\"))\n",
    "plv_10 = pickle.load(open(\"epilepsy_plv_10.pkl\", \"rb\"))\n",
    "plv_25 = pickle.load(open(\"epilepsy_plv_25.pkl\", \"rb\"))\n",
    "plv_50 = pickle.load(open(\"epilepsy_plv_50.pkl\", \"rb\"))\n",
    "cols = pickle.load(open(\"chan_names.pkl\", \"rb\"))\n",
    "\n",
    "odd = list(range(1, 19, 2))\n",
    "even = list(range(0, 19, 2))\n",
    "new = even + odd\n",
    "cols = cols[new]\n",
    "\n",
    "fig, axes = plt.subplots(3, 5, figsize = (20,12))\n",
    "\n",
    "for i in range(3):\n",
    "    \n",
    "    true = eeg_stack[i]\n",
    "    true = true[new, :]\n",
    "    true = true[:, new]\n",
    "    true = np.triu(true)\n",
    "    \n",
    "    std_5 = np.std(plv_5[i], axis = 0)\n",
    "    std_5 = std_5[new, :]\n",
    "    std_5 = std_5[:, new]\n",
    "    std_5 = np.triu(std_5)\n",
    "    \n",
    "    std_10 = np.std(plv_10[i], axis = 0)\n",
    "    std_10 = std_10[new, :]\n",
    "    std_10 = std_10[:, new]\n",
    "    std_10 = np.triu(std_10)\n",
    "    \n",
    "    std_25 = np.std(plv_25[i], axis = 0)\n",
    "    std_25 = std_25[new, :]\n",
    "    std_25 = std_25[:, new]\n",
    "    std_25 = np.triu(std_25)\n",
    "    \n",
    "    std_50 = np.std(plv_50[i], axis = 0)\n",
    "    std_50 = std_50[new, :]\n",
    "    std_50 = std_50[:, new]\n",
    "    std_50 = np.triu(std_50)\n",
    "    \n",
    "    sbs.heatmap(ax = axes[i, 0], data=true, cmap = 'hot', square = True, xticklabels = cols, yticklabels = cols)\n",
    "    sbs.heatmap(ax = axes[i, 1], data=std_5, cmap = 'hot', square = True, xticklabels = cols, yticklabels = cols)\n",
    "    sbs.heatmap(ax = axes[i, 2], data=std_10, cmap = 'hot', square = True, xticklabels = cols, yticklabels = cols)\n",
    "    sbs.heatmap(ax = axes[i, 3], data=std_25, cmap = 'hot', square = True, xticklabels = cols, yticklabels = cols)\n",
    "    sbs.heatmap(ax = axes[i, 4], data=std_50, cmap = 'hot', square = True, xticklabels = cols, yticklabels = cols)"
   ]
  },
  {
   "cell_type": "code",
   "execution_count": 14,
   "metadata": {},
   "outputs": [
    {
     "data": {
      "image/png": "[encoded data removed]",
      "text/plain": [
       "<Figure size 1440x864 with 30 Axes>"
      ]
     },
     "metadata": {
      "needs_background": "light"
     },
     "output_type": "display_data"
    }
   ],
   "source": [
    "fig, axes = plt.subplots(3, 5, figsize = (20,12))\n",
    "\n",
    "for i in range(3):\n",
    "    \n",
    "    true = eeg_stack[i]\n",
    "    true = true[new, :]\n",
    "    true = true[:, new]\n",
    "    true = np.triu(true)\n",
    "    \n",
    "    mean_5 = np.mean(plv_5[i], axis = 0)\n",
    "    mean_5 = mean_5[new, :]\n",
    "    mean_5 = mean_5[:, new]\n",
    "    mean_5 = np.triu(mean_5)\n",
    "    \n",
    "    mean_10 = np.mean(plv_10[i], axis = 0)\n",
    "    mean_10 = mean_10[new, :]\n",
    "    mean_10 = mean_10[:, new]\n",
    "    mean_10 = np.triu(mean_10)\n",
    "    \n",
    "    mean_25 = np.mean(plv_25[i], axis = 0)\n",
    "    mean_25 = mean_25[new, :]\n",
    "    mean_25 = mean_25[:, new]\n",
    "    mean_25 = np.triu(mean_25)\n",
    "    \n",
    "    mean_50 = np.mean(plv_50[i], axis = 0)\n",
    "    mean_50 = mean_50[new, :]\n",
    "    mean_50 = mean_50[:, new]\n",
    "    mean_50 = np.triu(mean_50)\n",
    "    \n",
    "    sbs.heatmap(ax = axes[i, 0], data=true, cmap = 'hot', square = True, xticklabels = cols, yticklabels = cols)\n",
    "    sbs.heatmap(ax = axes[i, 1], data=mean_5, cmap = 'hot', square = True, xticklabels = cols, yticklabels = cols)\n",
    "    sbs.heatmap(ax = axes[i, 2], data=mean_10, cmap = 'hot', square = True, xticklabels = cols, yticklabels = cols)\n",
    "    sbs.heatmap(ax = axes[i, 3], data=mean_25, cmap = 'hot', square = True, xticklabels = cols, yticklabels = cols)\n",
    "    sbs.heatmap(ax = axes[i, 4], data=mean_50, cmap = 'hot', square = True, xticklabels = cols, yticklabels = cols)"
   ]
  },
  {
   "cell_type": "markdown",
   "metadata": {},
   "source": [
    "# Normal"
   ]
  },
  {
   "cell_type": "code",
   "execution_count": 15,
   "metadata": {
    "scrolled": true
   },
   "outputs": [
    {
     "name": "stdout",
     "output_type": "stream",
     "text": [
      "On subject 1 out of 100\n",
      "On subject 2 out of 100\n",
      "On subject 3 out of 100\n",
      "On subject 4 out of 100\n",
      "On subject 5 out of 100\n",
      "On subject 6 out of 100\n",
      "On subject 7 out of 100\n",
      "On subject 8 out of 100\n",
      "On subject 9 out of 100\n",
      "On subject 10 out of 100\n",
      "On subject 11 out of 100\n",
      "On subject 12 out of 100\n",
      "On subject 13 out of 100\n",
      "On subject 14 out of 100\n",
      "On subject 15 out of 100\n",
      "On subject 16 out of 100\n",
      "On subject 17 out of 100\n",
      "On subject 18 out of 100\n",
      "On subject 19 out of 100\n",
      "On subject 20 out of 100\n",
      "On subject 21 out of 100\n",
      "On subject 22 out of 100\n",
      "On subject 23 out of 100\n",
      "On subject 24 out of 100\n",
      "On subject 25 out of 100\n",
      "On subject 26 out of 100\n",
      "On subject 27 out of 100\n",
      "On subject 28 out of 100\n",
      "On subject 29 out of 100\n",
      "On subject 30 out of 100\n",
      "On subject 31 out of 100\n",
      "On subject 32 out of 100\n",
      "On subject 33 out of 100\n",
      "On subject 34 out of 100\n",
      "On subject 35 out of 100\n",
      "On subject 36 out of 100\n",
      "On subject 37 out of 100\n",
      "On subject 38 out of 100\n",
      "On subject 39 out of 100\n",
      "On subject 40 out of 100\n",
      "On subject 41 out of 100\n",
      "On subject 42 out of 100\n",
      "On subject 43 out of 100\n",
      "On subject 44 out of 100\n",
      "On subject 45 out of 100\n",
      "On subject 46 out of 100\n",
      "On subject 47 out of 100\n",
      "On subject 48 out of 100\n",
      "On subject 49 out of 100\n",
      "On subject 50 out of 100\n",
      "On subject 51 out of 100\n",
      "On subject 52 out of 100\n",
      "On subject 53 out of 100\n",
      "On subject 54 out of 100\n",
      "On subject 55 out of 100\n",
      "On subject 56 out of 100\n",
      "On subject 57 out of 100\n",
      "On subject 58 out of 100\n",
      "On subject 59 out of 100\n",
      "On subject 60 out of 100\n",
      "On subject 61 out of 100\n",
      "On subject 62 out of 100\n",
      "On subject 63 out of 100\n",
      "On subject 64 out of 100\n",
      "On subject 65 out of 100\n",
      "On subject 66 out of 100\n",
      "On subject 67 out of 100\n",
      "On subject 68 out of 100\n",
      "On subject 69 out of 100\n",
      "On subject 70 out of 100\n",
      "On subject 71 out of 100\n",
      "On subject 72 out of 100\n",
      "On subject 73 out of 100\n",
      "On subject 74 out of 100\n",
      "On subject 75 out of 100\n",
      "On subject 76 out of 100\n",
      "On subject 77 out of 100\n",
      "On subject 78 out of 100\n",
      "On subject 79 out of 100\n",
      "On subject 80 out of 100\n",
      "On subject 81 out of 100\n",
      "On subject 82 out of 100\n",
      "On subject 83 out of 100\n",
      "On subject 84 out of 100\n",
      "On subject 85 out of 100\n",
      "On subject 86 out of 100\n",
      "On subject 87 out of 100\n",
      "On subject 88 out of 100\n",
      "On subject 89 out of 100\n",
      "On subject 90 out of 100\n",
      "On subject 91 out of 100\n",
      "On subject 92 out of 100\n",
      "On subject 93 out of 100\n",
      "On subject 94 out of 100\n",
      "On subject 95 out of 100\n",
      "On subject 96 out of 100\n",
      "On subject 97 out of 100\n",
      "On subject 98 out of 100\n",
      "On subject 99 out of 100\n",
      "On subject 100 out of 100\n"
     ]
    }
   ],
   "source": [
    "cols = pickle.load(open(\"chan_names.pkl\", \"rb\"))\n",
    "\n",
    "list_5 = pickle.load(open(\"normal_split_5.pkl\", \"rb\"))\n",
    "plv_5 = split_plv(list_5, cols)\n",
    "pickle.dump(plv_5, open(\"normal_plv_5.pkl\", \"wb\"))"
   ]
  },
  {
   "cell_type": "code",
   "execution_count": 16,
   "metadata": {
    "scrolled": true
   },
   "outputs": [
    {
     "name": "stdout",
     "output_type": "stream",
     "text": [
      "On subject 1 out of 100\n",
      "On subject 2 out of 100\n",
      "On subject 3 out of 100\n",
      "On subject 4 out of 100\n",
      "On subject 5 out of 100\n",
      "On subject 6 out of 100\n",
      "On subject 7 out of 100\n",
      "On subject 8 out of 100\n",
      "On subject 9 out of 100\n",
      "On subject 10 out of 100\n",
      "On subject 11 out of 100\n",
      "On subject 12 out of 100\n",
      "On subject 13 out of 100\n",
      "On subject 14 out of 100\n",
      "On subject 15 out of 100\n",
      "On subject 16 out of 100\n",
      "On subject 17 out of 100\n",
      "On subject 18 out of 100\n",
      "On subject 19 out of 100\n",
      "On subject 20 out of 100\n",
      "On subject 21 out of 100\n",
      "On subject 22 out of 100\n",
      "On subject 23 out of 100\n",
      "On subject 24 out of 100\n",
      "On subject 25 out of 100\n",
      "On subject 26 out of 100\n",
      "On subject 27 out of 100\n",
      "On subject 28 out of 100\n",
      "On subject 29 out of 100\n",
      "On subject 30 out of 100\n",
      "On subject 31 out of 100\n",
      "On subject 32 out of 100\n",
      "On subject 33 out of 100\n",
      "On subject 34 out of 100\n",
      "On subject 35 out of 100\n",
      "On subject 36 out of 100\n",
      "On subject 37 out of 100\n",
      "On subject 38 out of 100\n",
      "On subject 39 out of 100\n",
      "On subject 40 out of 100\n",
      "On subject 41 out of 100\n",
      "On subject 42 out of 100\n",
      "On subject 43 out of 100\n",
      "On subject 44 out of 100\n",
      "On subject 45 out of 100\n",
      "On subject 46 out of 100\n",
      "On subject 47 out of 100\n",
      "On subject 48 out of 100\n",
      "On subject 49 out of 100\n",
      "On subject 50 out of 100\n",
      "On subject 51 out of 100\n",
      "On subject 52 out of 100\n",
      "On subject 53 out of 100\n",
      "On subject 54 out of 100\n",
      "On subject 55 out of 100\n",
      "On subject 56 out of 100\n",
      "On subject 57 out of 100\n",
      "On subject 58 out of 100\n",
      "On subject 59 out of 100\n",
      "On subject 60 out of 100\n",
      "On subject 61 out of 100\n",
      "On subject 62 out of 100\n",
      "On subject 63 out of 100\n",
      "On subject 64 out of 100\n",
      "On subject 65 out of 100\n",
      "On subject 66 out of 100\n",
      "On subject 67 out of 100\n",
      "On subject 68 out of 100\n",
      "On subject 69 out of 100\n",
      "On subject 70 out of 100\n",
      "On subject 71 out of 100\n",
      "On subject 72 out of 100\n",
      "On subject 73 out of 100\n",
      "On subject 74 out of 100\n",
      "On subject 75 out of 100\n",
      "On subject 76 out of 100\n",
      "On subject 77 out of 100\n",
      "On subject 78 out of 100\n",
      "On subject 79 out of 100\n",
      "On subject 80 out of 100\n",
      "On subject 81 out of 100\n",
      "On subject 82 out of 100\n",
      "On subject 83 out of 100\n",
      "On subject 84 out of 100\n",
      "On subject 85 out of 100\n",
      "On subject 86 out of 100\n",
      "On subject 87 out of 100\n",
      "On subject 88 out of 100\n",
      "On subject 89 out of 100\n",
      "On subject 90 out of 100\n",
      "On subject 91 out of 100\n",
      "On subject 92 out of 100\n",
      "On subject 93 out of 100\n",
      "On subject 94 out of 100\n",
      "On subject 95 out of 100\n",
      "On subject 96 out of 100\n",
      "On subject 97 out of 100\n",
      "On subject 98 out of 100\n",
      "On subject 99 out of 100\n",
      "On subject 100 out of 100\n"
     ]
    }
   ],
   "source": [
    "list_10 = pickle.load(open(\"normal_split_10.pkl\", \"rb\"))\n",
    "plv_10 = split_plv(list_10, cols)\n",
    "pickle.dump(plv_10, open(\"normal_plv_10.pkl\", \"wb\"))"
   ]
  },
  {
   "cell_type": "code",
   "execution_count": 17,
   "metadata": {
    "scrolled": true
   },
   "outputs": [
    {
     "name": "stdout",
     "output_type": "stream",
     "text": [
      "On subject 1 out of 100\n",
      "On subject 2 out of 100\n",
      "On subject 3 out of 100\n",
      "On subject 4 out of 100\n",
      "On subject 5 out of 100\n",
      "On subject 6 out of 100\n",
      "On subject 7 out of 100\n",
      "On subject 8 out of 100\n",
      "On subject 9 out of 100\n",
      "On subject 10 out of 100\n",
      "On subject 11 out of 100\n",
      "On subject 12 out of 100\n",
      "On subject 13 out of 100\n",
      "On subject 14 out of 100\n",
      "On subject 15 out of 100\n",
      "On subject 16 out of 100\n",
      "On subject 17 out of 100\n",
      "On subject 18 out of 100\n",
      "On subject 19 out of 100\n",
      "On subject 20 out of 100\n",
      "On subject 21 out of 100\n",
      "On subject 22 out of 100\n",
      "On subject 23 out of 100\n",
      "On subject 24 out of 100\n",
      "On subject 25 out of 100\n",
      "On subject 26 out of 100\n",
      "On subject 27 out of 100\n",
      "On subject 28 out of 100\n",
      "On subject 29 out of 100\n",
      "On subject 30 out of 100\n",
      "On subject 31 out of 100\n",
      "On subject 32 out of 100\n",
      "On subject 33 out of 100\n",
      "On subject 34 out of 100\n",
      "On subject 35 out of 100\n",
      "On subject 36 out of 100\n",
      "On subject 37 out of 100\n",
      "On subject 38 out of 100\n",
      "On subject 39 out of 100\n",
      "On subject 40 out of 100\n",
      "On subject 41 out of 100\n",
      "On subject 42 out of 100\n",
      "On subject 43 out of 100\n",
      "On subject 44 out of 100\n",
      "On subject 45 out of 100\n",
      "On subject 46 out of 100\n",
      "On subject 47 out of 100\n",
      "On subject 48 out of 100\n",
      "On subject 49 out of 100\n",
      "On subject 50 out of 100\n",
      "On subject 51 out of 100\n",
      "On subject 52 out of 100\n",
      "On subject 53 out of 100\n",
      "On subject 54 out of 100\n",
      "On subject 55 out of 100\n",
      "On subject 56 out of 100\n",
      "On subject 57 out of 100\n",
      "On subject 58 out of 100\n",
      "On subject 59 out of 100\n",
      "On subject 60 out of 100\n",
      "On subject 61 out of 100\n",
      "On subject 62 out of 100\n",
      "On subject 63 out of 100\n",
      "On subject 64 out of 100\n",
      "On subject 65 out of 100\n",
      "On subject 66 out of 100\n",
      "On subject 67 out of 100\n",
      "On subject 68 out of 100\n",
      "On subject 69 out of 100\n",
      "On subject 70 out of 100\n",
      "On subject 71 out of 100\n",
      "On subject 72 out of 100\n",
      "On subject 73 out of 100\n",
      "On subject 74 out of 100\n",
      "On subject 75 out of 100\n",
      "On subject 76 out of 100\n",
      "On subject 77 out of 100\n",
      "On subject 78 out of 100\n",
      "On subject 79 out of 100\n",
      "On subject 80 out of 100\n",
      "On subject 81 out of 100\n",
      "On subject 82 out of 100\n",
      "On subject 83 out of 100\n",
      "On subject 84 out of 100\n",
      "On subject 85 out of 100\n",
      "On subject 86 out of 100\n",
      "On subject 87 out of 100\n",
      "On subject 88 out of 100\n",
      "On subject 89 out of 100\n",
      "On subject 90 out of 100\n",
      "On subject 91 out of 100\n",
      "On subject 92 out of 100\n",
      "On subject 93 out of 100\n",
      "On subject 94 out of 100\n",
      "On subject 95 out of 100\n",
      "On subject 96 out of 100\n",
      "On subject 97 out of 100\n",
      "On subject 98 out of 100\n",
      "On subject 99 out of 100\n",
      "On subject 100 out of 100\n"
     ]
    }
   ],
   "source": [
    "list_25 = pickle.load(open(\"normal_split_25.pkl\", \"rb\"))\n",
    "plv_25 = split_plv(list_25, cols)\n",
    "pickle.dump(plv_25, open(\"normal_plv_25.pkl\", \"wb\"))"
   ]
  },
  {
   "cell_type": "code",
   "execution_count": 18,
   "metadata": {
    "scrolled": true
   },
   "outputs": [
    {
     "name": "stdout",
     "output_type": "stream",
     "text": [
      "On subject 1 out of 100\n",
      "On subject 2 out of 100\n",
      "On subject 3 out of 100\n",
      "On subject 4 out of 100\n",
      "On subject 5 out of 100\n",
      "On subject 6 out of 100\n",
      "On subject 7 out of 100\n",
      "On subject 8 out of 100\n",
      "On subject 9 out of 100\n",
      "On subject 10 out of 100\n",
      "On subject 11 out of 100\n",
      "On subject 12 out of 100\n",
      "On subject 13 out of 100\n",
      "On subject 14 out of 100\n",
      "On subject 15 out of 100\n",
      "On subject 16 out of 100\n",
      "On subject 17 out of 100\n",
      "On subject 18 out of 100\n",
      "On subject 19 out of 100\n",
      "On subject 20 out of 100\n",
      "On subject 21 out of 100\n",
      "On subject 22 out of 100\n",
      "On subject 23 out of 100\n",
      "On subject 24 out of 100\n",
      "On subject 25 out of 100\n",
      "On subject 26 out of 100\n",
      "On subject 27 out of 100\n",
      "On subject 28 out of 100\n",
      "On subject 29 out of 100\n",
      "On subject 30 out of 100\n",
      "On subject 31 out of 100\n",
      "On subject 32 out of 100\n",
      "On subject 33 out of 100\n",
      "On subject 34 out of 100\n",
      "On subject 35 out of 100\n",
      "On subject 36 out of 100\n",
      "On subject 37 out of 100\n",
      "On subject 38 out of 100\n",
      "On subject 39 out of 100\n",
      "On subject 40 out of 100\n",
      "On subject 41 out of 100\n",
      "On subject 42 out of 100\n",
      "On subject 43 out of 100\n",
      "On subject 44 out of 100\n",
      "On subject 45 out of 100\n",
      "On subject 46 out of 100\n",
      "On subject 47 out of 100\n",
      "On subject 48 out of 100\n",
      "On subject 49 out of 100\n",
      "On subject 50 out of 100\n",
      "On subject 51 out of 100\n",
      "On subject 52 out of 100\n",
      "On subject 53 out of 100\n",
      "On subject 54 out of 100\n",
      "On subject 55 out of 100\n",
      "On subject 56 out of 100\n",
      "On subject 57 out of 100\n",
      "On subject 58 out of 100\n",
      "On subject 59 out of 100\n",
      "On subject 60 out of 100\n",
      "On subject 61 out of 100\n",
      "On subject 62 out of 100\n",
      "On subject 63 out of 100\n",
      "On subject 64 out of 100\n",
      "On subject 65 out of 100\n",
      "On subject 66 out of 100\n",
      "On subject 67 out of 100\n",
      "On subject 68 out of 100\n",
      "On subject 69 out of 100\n",
      "On subject 70 out of 100\n",
      "On subject 71 out of 100\n",
      "On subject 72 out of 100\n",
      "On subject 73 out of 100\n",
      "On subject 74 out of 100\n",
      "On subject 75 out of 100\n",
      "On subject 76 out of 100\n",
      "On subject 77 out of 100\n",
      "On subject 78 out of 100\n",
      "On subject 79 out of 100\n",
      "On subject 80 out of 100\n",
      "On subject 81 out of 100\n",
      "On subject 82 out of 100\n",
      "On subject 83 out of 100\n",
      "On subject 84 out of 100\n",
      "On subject 85 out of 100\n",
      "On subject 86 out of 100\n",
      "On subject 87 out of 100\n",
      "On subject 88 out of 100\n",
      "On subject 89 out of 100\n",
      "On subject 90 out of 100\n",
      "On subject 91 out of 100\n",
      "On subject 92 out of 100\n",
      "On subject 93 out of 100\n",
      "On subject 94 out of 100\n",
      "On subject 95 out of 100\n",
      "On subject 96 out of 100\n",
      "On subject 97 out of 100\n",
      "On subject 98 out of 100\n",
      "On subject 99 out of 100\n",
      "On subject 100 out of 100\n"
     ]
    }
   ],
   "source": [
    "list_50 = pickle.load(open(\"normal_split_50.pkl\", \"rb\"))\n",
    "plv_50 = split_plv(list_50, cols)\n",
    "pickle.dump(plv_50, open(\"normal_plv_50.pkl\", \"wb\"))"
   ]
  },
  {
   "cell_type": "code",
   "execution_count": 19,
   "metadata": {},
   "outputs": [
    {
     "data": {
      "image/png": "[encoded data removed]",
      "text/plain": [
       "<Figure size 1440x864 with 30 Axes>"
      ]
     },
     "metadata": {
      "needs_background": "light"
     },
     "output_type": "display_data"
    }
   ],
   "source": [
    "eeg_stack = pickle.load(open(\"normal_eeg.pkl\", \"rb\"))\n",
    "plv_5 = pickle.load(open(\"normal_plv_5.pkl\", \"rb\"))\n",
    "plv_10 = pickle.load(open(\"normal_plv_10.pkl\", \"rb\"))\n",
    "plv_25 = pickle.load(open(\"normal_plv_25.pkl\", \"rb\"))\n",
    "plv_50 = pickle.load(open(\"normal_plv_50.pkl\", \"rb\"))\n",
    "cols = pickle.load(open(\"chan_names.pkl\", \"rb\"))\n",
    "\n",
    "odd = list(range(1, 19, 2))\n",
    "even = list(range(0, 19, 2))\n",
    "new = even + odd\n",
    "cols = cols[new]\n",
    "\n",
    "fig, axes = plt.subplots(3, 5, figsize = (20,12))\n",
    "\n",
    "for i in range(3):\n",
    "    \n",
    "    true = eeg_stack[i]\n",
    "    true = true[new, :]\n",
    "    true = true[:, new]\n",
    "    true = np.triu(true)\n",
    "    \n",
    "    std_5 = np.std(plv_5[i], axis = 0)\n",
    "    std_5 = std_5[new, :]\n",
    "    std_5 = std_5[:, new]\n",
    "    std_5 = np.triu(std_5)\n",
    "    \n",
    "    std_10 = np.std(plv_10[i], axis = 0)\n",
    "    std_10 = std_10[new, :]\n",
    "    std_10 = std_10[:, new]\n",
    "    std_10 = np.triu(std_10)\n",
    "    \n",
    "    std_25 = np.std(plv_25[i], axis = 0)\n",
    "    std_25 = std_25[new, :]\n",
    "    std_25 = std_25[:, new]\n",
    "    std_25 = np.triu(std_25)\n",
    "    \n",
    "    std_50 = np.std(plv_50[i], axis = 0)\n",
    "    std_50 = std_50[new, :]\n",
    "    std_50 = std_50[:, new]\n",
    "    std_50 = np.triu(std_50)\n",
    "    \n",
    "    sbs.heatmap(ax = axes[i, 0], data=true, cmap = 'hot', square = True, xticklabels = cols, yticklabels = cols)\n",
    "    sbs.heatmap(ax = axes[i, 1], data=std_5, cmap = 'hot', square = True, xticklabels = cols, yticklabels = cols)\n",
    "    sbs.heatmap(ax = axes[i, 2], data=std_10, cmap = 'hot', square = True, xticklabels = cols, yticklabels = cols)\n",
    "    sbs.heatmap(ax = axes[i, 3], data=std_25, cmap = 'hot', square = True, xticklabels = cols, yticklabels = cols)\n",
    "    sbs.heatmap(ax = axes[i, 4], data=std_50, cmap = 'hot', square = True, xticklabels = cols, yticklabels = cols)"
   ]
  },
  {
   "cell_type": "code",
   "execution_count": 20,
   "metadata": {},
   "outputs": [
    {
     "data": {
      "image/png": "[encoded data removed]",
      "text/plain": [
       "<Figure size 1440x864 with 30 Axes>"
      ]
     },
     "metadata": {
      "needs_background": "light"
     },
     "output_type": "display_data"
    }
   ],
   "source": [
    "fig, axes = plt.subplots(3, 5, figsize = (20,12))\n",
    "\n",
    "for i in range(3):\n",
    "    \n",
    "    true = eeg_stack[i]\n",
    "    true = true[new, :]\n",
    "    true = true[:, new]\n",
    "    true = np.triu(true)\n",
    "    \n",
    "    mean_5 = np.mean(plv_5[i], axis = 0)\n",
    "    mean_5 = mean_5[new, :]\n",
    "    mean_5 = mean_5[:, new]\n",
    "    mean_5 = np.triu(mean_5)\n",
    "    \n",
    "    mean_10 = np.mean(plv_10[i], axis = 0)\n",
    "    mean_10 = mean_10[new, :]\n",
    "    mean_10 = mean_10[:, new]\n",
    "    mean_10 = np.triu(mean_10)\n",
    "    \n",
    "    mean_25 = np.mean(plv_25[i], axis = 0)\n",
    "    mean_25 = mean_25[new, :]\n",
    "    mean_25 = mean_25[:, new]\n",
    "    mean_25 = np.triu(mean_25)\n",
    "    \n",
    "    mean_50 = np.mean(plv_50[i], axis = 0)\n",
    "    mean_50 = mean_50[new, :]\n",
    "    mean_50 = mean_50[:, new]\n",
    "    mean_50 = np.triu(mean_50)\n",
    "    \n",
    "    sbs.heatmap(ax = axes[i, 0], data=true, cmap = 'hot', square = True, xticklabels = cols, yticklabels = cols)\n",
    "    sbs.heatmap(ax = axes[i, 1], data=mean_5, cmap = 'hot', square = True, xticklabels = cols, yticklabels = cols)\n",
    "    sbs.heatmap(ax = axes[i, 2], data=mean_10, cmap = 'hot', square = True, xticklabels = cols, yticklabels = cols)\n",
    "    sbs.heatmap(ax = axes[i, 3], data=mean_25, cmap = 'hot', square = True, xticklabels = cols, yticklabels = cols)\n",
    "    sbs.heatmap(ax = axes[i, 4], data=mean_50, cmap = 'hot', square = True, xticklabels = cols, yticklabels = cols)"
   ]
  },
  {
   "cell_type": "code",
   "execution_count": 21,
   "metadata": {},
   "outputs": [
    {
     "data": {
      "text/plain": [
       "(100, 5, 19, 19)"
      ]
     },
     "execution_count": 21,
     "metadata": {},
     "output_type": "execute_result"
    }
   ],
   "source": [
    "plv_5.shape"
   ]
  },
  {
   "cell_type": "code",
   "execution_count": null,
   "metadata": {},
   "outputs": [],
   "source": []
  }
 ],
 "metadata": {
  "kernelspec": {
   "display_name": "Python 3",
   "language": "python",
   "name": "python3"
  },
  "language_info": {
   "codemirror_mode": {
    "name": "ipython",
    "version": 3
   },
   "file_extension": ".py",
   "mimetype": "text/x-python",
   "name": "python",
   "nbconvert_exporter": "python",
   "pygments_lexer": "ipython3",
   "version": "3.8.7"
  }
 },
 "nbformat": 4,
 "nbformat_minor": 4
}
