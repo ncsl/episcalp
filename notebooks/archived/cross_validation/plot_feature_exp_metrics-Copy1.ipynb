{
 "cells": [
  {
   "cell_type": "markdown",
   "metadata": {},
   "source": [
    "# Plotting Source Sink Cross Validation Experiment\n",
    "\n",
    "Acknowledgements: See https://github.com/sipv/MultipanelFigures/blob/main/MultipanelFigures.ipynb for a great explanation on laying out figures in matplotlib"
   ]
  },
  {
   "cell_type": "code",
   "execution_count": 4,
   "metadata": {},
   "outputs": [],
   "source": [
    "%load_ext lab_black"
   ]
  },
  {
   "cell_type": "code",
   "execution_count": 1,
   "metadata": {},
   "outputs": [],
   "source": [
    "import numpy as np\n",
    "import scipy\n",
    "import scipy.io\n",
    "import pandas as pd\n",
    "from pathlib import Path\n",
    "import os\n",
    "import collections\n",
    "from natsort import natsorted\n",
    "import json\n",
    "import pickle\n",
    "import re\n",
    "\n",
    "from mne_bids import BIDSPath, get_entities_from_fname, get_entity_vals\n",
    "\n",
    "from sklearn.metrics import auc\n",
    "\n",
    "import pingouin as pg\n",
    "from mlxtend.evaluate import mcnemar_table, mcnemar\n",
    "import dabest\n",
    "\n",
    "import matplotlib as mpl\n",
    "import matplotlib.pyplot as plt\n",
    "import seaborn as sns"
   ]
  },
  {
   "cell_type": "markdown",
   "metadata": {},
   "source": [
    "# Set Plotting Options"
   ]
  },
  {
   "cell_type": "code",
   "execution_count": 2,
   "metadata": {},
   "outputs": [],
   "source": [
    "# Set font sizes\n",
    "SMALL_SIZE = 8 * 2\n",
    "MEDIUM_SIZE = 10 * 2\n",
    "BIGGER_SIZE = 12 * 2\n",
    "\n",
    "plt.rc(\"font\", size=SMALL_SIZE)  # controls default text sizes\n",
    "plt.rc(\"axes\", titlesize=SMALL_SIZE)  # fontsize of the axes title\n",
    "plt.rc(\"axes\", labelsize=MEDIUM_SIZE)  # fontsize of the x and y labels\n",
    "plt.rc(\"xtick\", labelsize=SMALL_SIZE)  # fontsize of the tick labels\n",
    "plt.rc(\"ytick\", labelsize=SMALL_SIZE)  # fontsize of the tick labels\n",
    "plt.rc(\"legend\", fontsize=SMALL_SIZE)  # legend fontsize\n",
    "plt.rc(\"figure\", titlesize=BIGGER_SIZE)  # fontsize of the figure title\n",
    "\n",
    "plt.rc(\"font\", **{\"family\": \"sans-serif\", \"sans-serif\": [\"Arial\"]})"
   ]
  },
  {
   "cell_type": "code",
   "execution_count": 3,
   "metadata": {},
   "outputs": [],
   "source": [
    "def load_participant_df(root, subject):\n",
    "    \"\"\"Load participants.tsv file as a dataframe for a specific subject.\n",
    "    \n",
    "    Note: subject ID needs to be in format ``sub-<subject>``.\n",
    "    \"\"\"\n",
    "    df = pd.read_csv(os.path.join(root, 'participants.tsv', sep='\\t'))\n",
    "    \n",
    "    if not subject.startswith('sub-'):\n",
    "        subject = f'sub-{subject}'\n",
    "    subj_row = df[df['participant_id'] == subject]\n",
    "    return subj_row"
   ]
  },
  {
   "cell_type": "markdown",
   "metadata": {},
   "source": [
    "# Load Data"
   ]
  },
  {
   "cell_type": "code",
   "execution_count": 4,
   "metadata": {},
   "outputs": [],
   "source": [
    "jhroot = Path(\"D:/OneDriveParent/OneDrive - Johns Hopkins/Shared Documents/bids\")\n",
    "jeffroot = Path(\"D:/OneDriveParent/Johns Hopkins/Jefferson_Scalp - Documents/root\")\n",
    "\n",
    "# not ready yet\n",
    "upmcroot = Path(\"D:/OneDriveParent/Johns Hopkins/UPMC_Scalp - Documents/scalp_study/root\")"
   ]
  },
  {
   "cell_type": "code",
   "execution_count": 5,
   "metadata": {},
   "outputs": [],
   "source": [
    "root =  Path(\"D:/OneDriveParent/OneDrive - Johns Hopkins/Shared Documents/bids\")\n",
    "# root = Path(\"/home/adam2392/hdd/Dropbox/epilepsy_interictal\")\n",
    "deriv_root = root / \"derivatives\"\n",
    "\n",
    "reference = \"monopolar\"\n",
    "deriv_chain = Path(\"sourcesink\") / reference \n",
    "deriv_path = deriv_root / deriv_chain\n",
    "\n",
    "combined_deriv_root = Path(\"D:/OneDriveParent/OneDrive - Johns Hopkins/Scalp_EEG_combined/derivatives\")"
   ]
  },
  {
   "cell_type": "code",
   "execution_count": 6,
   "metadata": {},
   "outputs": [],
   "source": [
    "figure_dir = deriv_root / \"figures\""
   ]
  },
  {
   "cell_type": "markdown",
   "metadata": {},
   "source": [
    "## Load Experimental Data from JSON - output of sklearn's \"cross_validate\" function"
   ]
  },
  {
   "cell_type": "code",
   "execution_count": 7,
   "metadata": {},
   "outputs": [],
   "source": [
    "# here name the experiment something that is uniquely identifiable\n",
    "# THIS STR WILL BE USED TO PREFIX/SUFFIX ALL FIGURES DOWNSTREAM\n",
    "exp_name = \"ssdist\""
   ]
  },
  {
   "cell_type": "code",
   "execution_count": 8,
   "metadata": {},
   "outputs": [],
   "source": [
    "n_splits = 10\n",
    "\n",
    "clf_name = \"rf\"\n",
    "n_features = 32\n",
    "n_estimators = (2000,)\n",
    "max_features = n_features"
   ]
  },
  {
   "cell_type": "code",
   "execution_count": 9,
   "metadata": {},
   "outputs": [
    {
     "name": "stdout",
     "output_type": "stream",
     "text": [
      "D:\\OneDriveParent\\OneDrive - Johns Hopkins\\Shared Documents\\bids\\derivatives\\cv10_rf_mtry32_exp_ssdist_meandiff.json\n"
     ]
    }
   ],
   "source": [
    "# specify the filenmae\n",
    "fname = (\n",
    "    deriv_root\n",
    "    / f\"cv{n_splits}_{clf_name}_mtry{max_features}_exp_{exp_name}_meandiff.json\"\n",
    ")\n",
    "print(fname)"
   ]
  },
  {
   "cell_type": "code",
   "execution_count": 10,
   "metadata": {},
   "outputs": [],
   "source": [
    "with open(fname.with_suffix(\".json\"), \"r\") as fp:\n",
    "    scores = json.load(fp)"
   ]
  },
  {
   "cell_type": "code",
   "execution_count": 11,
   "metadata": {},
   "outputs": [],
   "source": [
    "max_features = 10"
   ]
  },
  {
   "cell_type": "markdown",
   "metadata": {},
   "source": [
    "## Load Metadata DataFrame"
   ]
  },
  {
   "cell_type": "code",
   "execution_count": 11,
   "metadata": {},
   "outputs": [
    {
     "data": {
      "text/html": [
       "<div>\n",
       "<style scoped>\n",
       "    .dataframe tbody tr th:only-of-type {\n",
       "        vertical-align: middle;\n",
       "    }\n",
       "\n",
       "    .dataframe tbody tr th {\n",
       "        vertical-align: top;\n",
       "    }\n",
       "\n",
       "    .dataframe thead th {\n",
       "        text-align: right;\n",
       "    }\n",
       "</style>\n",
       "<table border=\"1\" class=\"dataframe\">\n",
       "  <thead>\n",
       "    <tr style=\"text-align: right;\">\n",
       "      <th></th>\n",
       "      <th>participant_id</th>\n",
       "      <th>age</th>\n",
       "      <th>sex</th>\n",
       "      <th>hand</th>\n",
       "      <th>site</th>\n",
       "      <th>exp_condition</th>\n",
       "    </tr>\n",
       "  </thead>\n",
       "  <tbody>\n",
       "    <tr>\n",
       "      <th>0</th>\n",
       "      <td>sub-jhh001</td>\n",
       "      <td>NaN</td>\n",
       "      <td>NaN</td>\n",
       "      <td>NaN</td>\n",
       "      <td>BV</td>\n",
       "      <td>non-epilepsy-normal-eeg</td>\n",
       "    </tr>\n",
       "    <tr>\n",
       "      <th>1</th>\n",
       "      <td>sub-jhh002</td>\n",
       "      <td>NaN</td>\n",
       "      <td>NaN</td>\n",
       "      <td>NaN</td>\n",
       "      <td>BV</td>\n",
       "      <td>non-epilepsy-normal-eeg</td>\n",
       "    </tr>\n",
       "    <tr>\n",
       "      <th>2</th>\n",
       "      <td>sub-jhh003</td>\n",
       "      <td>NaN</td>\n",
       "      <td>NaN</td>\n",
       "      <td>NaN</td>\n",
       "      <td>BV</td>\n",
       "      <td>non-epilepsy-normal-eeg</td>\n",
       "    </tr>\n",
       "    <tr>\n",
       "      <th>3</th>\n",
       "      <td>sub-jhh004</td>\n",
       "      <td>NaN</td>\n",
       "      <td>NaN</td>\n",
       "      <td>NaN</td>\n",
       "      <td>BV</td>\n",
       "      <td>non-epilepsy-normal-eeg</td>\n",
       "    </tr>\n",
       "    <tr>\n",
       "      <th>4</th>\n",
       "      <td>sub-jhh005</td>\n",
       "      <td>NaN</td>\n",
       "      <td>NaN</td>\n",
       "      <td>NaN</td>\n",
       "      <td>BV</td>\n",
       "      <td>non-epilepsy-normal-eeg</td>\n",
       "    </tr>\n",
       "  </tbody>\n",
       "</table>\n",
       "</div>"
      ],
      "text/plain": [
       "  participant_id  age  sex  hand site            exp_condition\n",
       "0     sub-jhh001  NaN  NaN   NaN   BV  non-epilepsy-normal-eeg\n",
       "1     sub-jhh002  NaN  NaN   NaN   BV  non-epilepsy-normal-eeg\n",
       "2     sub-jhh003  NaN  NaN   NaN   BV  non-epilepsy-normal-eeg\n",
       "3     sub-jhh004  NaN  NaN   NaN   BV  non-epilepsy-normal-eeg\n",
       "4     sub-jhh005  NaN  NaN   NaN   BV  non-epilepsy-normal-eeg"
      ]
     },
     "metadata": {},
     "output_type": "display_data"
    }
   ],
   "source": [
    "meta_df = pd.DataFrame()\n",
    "for root in [jhroot]:\n",
    "    df = pd.read_csv(os.path.join(root, \"participants.tsv\"), sep=\"\\t\")\n",
    "    meta_df = pd.concat((meta_df, df), axis=0)\n",
    "\n",
    "# meta_df = pd.concat(df_list, axis=0)\n",
    "\n",
    "display(meta_df.head())"
   ]
  },
  {
   "cell_type": "markdown",
   "metadata": {
    "tags": []
   },
   "source": [
    "# Make Plots of the Source Sink Data"
   ]
  },
  {
   "cell_type": "code",
   "execution_count": 12,
   "metadata": {},
   "outputs": [],
   "source": [
    "# either train or test set\n",
    "which_set = \"test\"\n",
    "\n",
    "# construct mean/std ROC curves\n",
    "tprs = []\n",
    "aucs = scores[f\"{which_set}_roc_auc\"]\n",
    "mean_fpr = np.linspace(0, 1, 100)\n",
    "\n",
    "for idx in range(n_splits):\n",
    "    fpr = scores[f\"{which_set}_fpr\"][idx]\n",
    "    tpr = scores[f\"{which_set}_tpr\"][idx]\n",
    "\n",
    "    # interpolate the tpr\n",
    "    interp_tpr = np.interp(mean_fpr, fpr, tpr)\n",
    "    interp_tpr[0] = 0.0\n",
    "    tprs.append(interp_tpr)\n",
    "\n",
    "mean_tpr = np.mean(tprs, axis=0)\n",
    "mean_tpr[-1] = 1.0\n",
    "mean_auc = auc(mean_fpr, mean_tpr)\n",
    "mean_auc = np.mean(aucs)\n",
    "std_auc = np.std(aucs)\n",
    "\n",
    "std_tpr = np.std(tprs, axis=0)\n",
    "tprs_upper = np.minimum(mean_tpr + std_tpr, 1)\n",
    "tprs_lower = np.maximum(mean_tpr - std_tpr, 0)"
   ]
  },
  {
   "cell_type": "markdown",
   "metadata": {},
   "source": [
    "## Print out Summary Statistics"
   ]
  },
  {
   "cell_type": "code",
   "execution_count": 13,
   "metadata": {},
   "outputs": [
    {
     "name": "stdout",
     "output_type": "stream",
     "text": [
      "0.4833333333333333 0.07393273552842508\n"
     ]
    }
   ],
   "source": [
    "print(np.mean(aucs), np.std(aucs))"
   ]
  },
  {
   "cell_type": "code",
   "execution_count": 14,
   "metadata": {},
   "outputs": [
    {
     "name": "stdout",
     "output_type": "stream",
     "text": [
      "0.4833333333333333 0.07393273552842508\n"
     ]
    }
   ],
   "source": [
    "print(np.mean(aucs), np.std(aucs))"
   ]
  },
  {
   "cell_type": "code",
   "execution_count": 15,
   "metadata": {},
   "outputs": [
    {
     "name": "stdout",
     "output_type": "stream",
     "text": [
      "test_balanced_accuracy 0.4488888888888889 +/- 0.0772122295692964\n"
     ]
    }
   ],
   "source": [
    "metric = \"test_balanced_accuracy\"\n",
    "print(metric, np.mean(scores[metric]), \"+/-\", np.std(scores[metric]))"
   ]
  },
  {
   "cell_type": "code",
   "execution_count": 16,
   "metadata": {},
   "outputs": [
    {
     "name": "stdout",
     "output_type": "stream",
     "text": [
      "test_average_precision 0.6989960192313825 +/- 0.060868573775120886\n"
     ]
    }
   ],
   "source": [
    "metric = \"test_average_precision\"\n",
    "print(metric, np.mean(scores[metric]), \"+/-\", np.std(scores[metric]))"
   ]
  },
  {
   "cell_type": "code",
   "execution_count": 17,
   "metadata": {},
   "outputs": [
    {
     "name": "stdout",
     "output_type": "stream",
     "text": [
      "test_recall 0.7277777777777777 +/- 0.13933262448871614\n"
     ]
    }
   ],
   "source": [
    "metric = \"test_recall\"\n",
    "print(metric, np.mean(scores[metric]), \"+/-\", np.std(scores[metric]))"
   ]
  },
  {
   "cell_type": "code",
   "execution_count": 18,
   "metadata": {},
   "outputs": [
    {
     "name": "stdout",
     "output_type": "stream",
     "text": [
      "test_specificity 0.17 +/- 0.06403124237432849\n"
     ]
    }
   ],
   "source": [
    "metric = \"test_specificity\"\n",
    "print(metric, np.mean(scores[metric]), \"+/-\", np.std(scores[metric]))"
   ]
  },
  {
   "cell_type": "code",
   "execution_count": 19,
   "metadata": {},
   "outputs": [
    {
     "name": "stdout",
     "output_type": "stream",
     "text": [
      "test_f1 0.6595199380565234 +/- 0.0893747788911356\n"
     ]
    }
   ],
   "source": [
    "metric = \"test_f1\"\n",
    "print(metric, np.mean(scores[metric]), \"+/-\", np.std(scores[metric]))"
   ]
  },
  {
   "cell_type": "code",
   "execution_count": 20,
   "metadata": {},
   "outputs": [
    {
     "data": {
      "text/html": [
       "<div>\n",
       "<style scoped>\n",
       "    .dataframe tbody tr th:only-of-type {\n",
       "        vertical-align: middle;\n",
       "    }\n",
       "\n",
       "    .dataframe tbody tr th {\n",
       "        vertical-align: top;\n",
       "    }\n",
       "\n",
       "    .dataframe thead th {\n",
       "        text-align: right;\n",
       "    }\n",
       "</style>\n",
       "<table border=\"1\" class=\"dataframe\">\n",
       "  <thead>\n",
       "    <tr style=\"text-align: right;\">\n",
       "      <th></th>\n",
       "      <th>fit_time</th>\n",
       "      <th>score_time</th>\n",
       "      <th>test_roc_auc</th>\n",
       "      <th>test_accuracy</th>\n",
       "      <th>test_balanced_accuracy</th>\n",
       "      <th>test_average_precision</th>\n",
       "      <th>test_precision</th>\n",
       "      <th>test_neg_brier_score</th>\n",
       "      <th>test_recall</th>\n",
       "      <th>test_f1</th>\n",
       "      <th>test_specificity</th>\n",
       "      <th>test_y</th>\n",
       "      <th>test_y_encodings</th>\n",
       "    </tr>\n",
       "  </thead>\n",
       "  <tbody>\n",
       "    <tr>\n",
       "      <th>4</th>\n",
       "      <td>0.522125</td>\n",
       "      <td>0.168038</td>\n",
       "      <td>0.458333</td>\n",
       "      <td>0.500000</td>\n",
       "      <td>0.411111</td>\n",
       "      <td>0.718039</td>\n",
       "      <td>0.590909</td>\n",
       "      <td>-0.275939</td>\n",
       "      <td>0.722222</td>\n",
       "      <td>0.650000</td>\n",
       "      <td>0.1</td>\n",
       "      <td>[0, 1, 0, 1, 0, 1, 0, 1, 0, 1, 1, 1, 1, 1, 0, ...</td>\n",
       "      <td>[non-epilepsy-normal-eeg, epilepsy-abnormal-ee...</td>\n",
       "    </tr>\n",
       "    <tr>\n",
       "      <th>5</th>\n",
       "      <td>0.528823</td>\n",
       "      <td>0.172919</td>\n",
       "      <td>0.411111</td>\n",
       "      <td>0.392857</td>\n",
       "      <td>0.350000</td>\n",
       "      <td>0.666711</td>\n",
       "      <td>0.529412</td>\n",
       "      <td>-0.329622</td>\n",
       "      <td>0.500000</td>\n",
       "      <td>0.514286</td>\n",
       "      <td>0.2</td>\n",
       "      <td>[0, 1, 1, 0, 1, 0, 1, 0, 0, 1, 1, 1, 1, 1, 0, ...</td>\n",
       "      <td>[non-epilepsy-normal-eeg, epilepsy-abnormal-ee...</td>\n",
       "    </tr>\n",
       "    <tr>\n",
       "      <th>6</th>\n",
       "      <td>0.527172</td>\n",
       "      <td>0.164037</td>\n",
       "      <td>0.588889</td>\n",
       "      <td>0.642857</td>\n",
       "      <td>0.544444</td>\n",
       "      <td>0.768412</td>\n",
       "      <td>0.666667</td>\n",
       "      <td>-0.227890</td>\n",
       "      <td>0.888889</td>\n",
       "      <td>0.761905</td>\n",
       "      <td>0.2</td>\n",
       "      <td>[0, 1, 1, 1, 1, 1, 1, 0, 0, 1, 0, 1, 1, 0, 1, ...</td>\n",
       "      <td>[non-epilepsy-normal-eeg, epilepsy-abnormal-ee...</td>\n",
       "    </tr>\n",
       "    <tr>\n",
       "      <th>7</th>\n",
       "      <td>0.527118</td>\n",
       "      <td>0.167037</td>\n",
       "      <td>0.511111</td>\n",
       "      <td>0.607143</td>\n",
       "      <td>0.516667</td>\n",
       "      <td>0.667254</td>\n",
       "      <td>0.652174</td>\n",
       "      <td>-0.241626</td>\n",
       "      <td>0.833333</td>\n",
       "      <td>0.731707</td>\n",
       "      <td>0.2</td>\n",
       "      <td>[0, 0, 0, 1, 1, 1, 0, 1, 1, 1, 1, 1, 0, 1, 1, ...</td>\n",
       "      <td>[non-epilepsy-normal-eeg, non-epilepsy-normal-...</td>\n",
       "    </tr>\n",
       "    <tr>\n",
       "      <th>8</th>\n",
       "      <td>0.527125</td>\n",
       "      <td>0.163037</td>\n",
       "      <td>0.488889</td>\n",
       "      <td>0.571429</td>\n",
       "      <td>0.466667</td>\n",
       "      <td>0.653002</td>\n",
       "      <td>0.625000</td>\n",
       "      <td>-0.267440</td>\n",
       "      <td>0.833333</td>\n",
       "      <td>0.714286</td>\n",
       "      <td>0.1</td>\n",
       "      <td>[0, 1, 0, 1, 1, 1, 1, 1, 1, 0, 1, 1, 0, 0, 1, ...</td>\n",
       "      <td>[non-epilepsy-normal-eeg, epilepsy-abnormal-ee...</td>\n",
       "    </tr>\n",
       "  </tbody>\n",
       "</table>\n",
       "</div>"
      ],
      "text/plain": [
       "   fit_time  score_time  test_roc_auc  test_accuracy  test_balanced_accuracy  \\\n",
       "4  0.522125    0.168038      0.458333       0.500000                0.411111   \n",
       "5  0.528823    0.172919      0.411111       0.392857                0.350000   \n",
       "6  0.527172    0.164037      0.588889       0.642857                0.544444   \n",
       "7  0.527118    0.167037      0.511111       0.607143                0.516667   \n",
       "8  0.527125    0.163037      0.488889       0.571429                0.466667   \n",
       "\n",
       "   test_average_precision  test_precision  test_neg_brier_score  test_recall  \\\n",
       "4                0.718039        0.590909             -0.275939     0.722222   \n",
       "5                0.666711        0.529412             -0.329622     0.500000   \n",
       "6                0.768412        0.666667             -0.227890     0.888889   \n",
       "7                0.667254        0.652174             -0.241626     0.833333   \n",
       "8                0.653002        0.625000             -0.267440     0.833333   \n",
       "\n",
       "    test_f1  test_specificity  \\\n",
       "4  0.650000               0.1   \n",
       "5  0.514286               0.2   \n",
       "6  0.761905               0.2   \n",
       "7  0.731707               0.2   \n",
       "8  0.714286               0.1   \n",
       "\n",
       "                                              test_y  \\\n",
       "4  [0, 1, 0, 1, 0, 1, 0, 1, 0, 1, 1, 1, 1, 1, 0, ...   \n",
       "5  [0, 1, 1, 0, 1, 0, 1, 0, 0, 1, 1, 1, 1, 1, 0, ...   \n",
       "6  [0, 1, 1, 1, 1, 1, 1, 0, 0, 1, 0, 1, 1, 0, 1, ...   \n",
       "7  [0, 0, 0, 1, 1, 1, 0, 1, 1, 1, 1, 1, 0, 1, 1, ...   \n",
       "8  [0, 1, 0, 1, 1, 1, 1, 1, 1, 0, 1, 1, 0, 0, 1, ...   \n",
       "\n",
       "                                    test_y_encodings  \n",
       "4  [non-epilepsy-normal-eeg, epilepsy-abnormal-ee...  \n",
       "5  [non-epilepsy-normal-eeg, epilepsy-abnormal-ee...  \n",
       "6  [non-epilepsy-normal-eeg, epilepsy-abnormal-ee...  \n",
       "7  [non-epilepsy-normal-eeg, non-epilepsy-normal-...  \n",
       "8  [non-epilepsy-normal-eeg, epilepsy-abnormal-ee...  "
      ]
     },
     "metadata": {},
     "output_type": "display_data"
    }
   ],
   "source": [
    "# create a dataframe from the statistics\n",
    "temp_scores = scores.copy()\n",
    "keys = list(temp_scores.keys())\n",
    "for key in keys:\n",
    "    if any(\n",
    "        [\n",
    "            chars in key\n",
    "            for chars in [\n",
    "                \"fpr\",\n",
    "                \"tpr\",\n",
    "                \"fnr\",\n",
    "                \"tnr\",\n",
    "                \"threshold\",\n",
    "                \"fraction_pos\",\n",
    "                \"mean_pred_value\",\n",
    "                \"subjects\",\n",
    "                \"y_pred_proba\",\n",
    "                \"importances\",\n",
    "                \"train\",\n",
    "            ]\n",
    "        ]\n",
    "    ):\n",
    "        temp_scores.pop(key)\n",
    "score_df = pd.DataFrame(temp_scores)\n",
    "score_df.drop(score_df.tail(1).index,inplace=True) # drop last n rows\n",
    "\n",
    "display(score_df.tail())"
   ]
  },
  {
   "cell_type": "code",
   "execution_count": 21,
   "metadata": {},
   "outputs": [],
   "source": [
    "score_df.describe().to_csv(figure_dir / f\"{exp_name}_{exp_name}_metrics_meansstd.csv\")"
   ]
  },
  {
   "cell_type": "markdown",
   "metadata": {},
   "source": [
    "## Making ROC Curve With Confidence Interval"
   ]
  },
  {
   "cell_type": "code",
   "execution_count": 22,
   "metadata": {},
   "outputs": [
    {
     "data": {
      "image/png": "[encoded data removed]",
      "text/plain": [
       "<Figure size 432x288 with 1 Axes>"
      ]
     },
     "metadata": {
      "needs_background": "light"
     },
     "output_type": "display_data"
    }
   ],
   "source": [
    "fig, ax = plt.subplots()\n",
    "\n",
    "for idx in range(n_splits):\n",
    "    fpr = scores[f\"{which_set}_fpr\"][idx]\n",
    "    tpr = scores[f\"{which_set}_tpr\"][idx]\n",
    "\n",
    "    ax.plot(fpr, tpr, color=\"teal\", lw=2, alpha=0.5, ls=\"--\")\n",
    "\n",
    "ax.plot([0, 1], [0, 1], linestyle=\"--\", lw=2, color=\"r\", label=\"Chance\", alpha=0.8)\n",
    "ax.plot(\n",
    "    mean_fpr,\n",
    "    mean_tpr,\n",
    "    color=\"b\",\n",
    "    label=r\"Mean ROC (AUC = %0.2f $\\pm$ %0.2f)\" % (mean_auc, std_auc),\n",
    "    lw=3,\n",
    "    alpha=0.8,\n",
    ")\n",
    "\n",
    "\n",
    "ax.fill_between(\n",
    "    mean_fpr,\n",
    "    tprs_lower,\n",
    "    tprs_upper,\n",
    "    color=\"grey\",\n",
    "    alpha=0.2,\n",
    "    label=r\"$\\pm$ 1 std. dev.\",\n",
    ")\n",
    "ax.set(\n",
    "    xlim=[-0.05, 1.05],\n",
    "    ylim=[-0.05, 1.05],\n",
    "    title=f\"ROC Curve on Held-out Test Set to \\nPredict EEG Abnormality - {exp_name}\",\n",
    "    xlabel=\"False Postive Rate\",\n",
    "    ylabel=\"True Positive Rate\",\n",
    ")\n",
    "ax.legend(loc=\"lower right\", fontsize=12)\n",
    "\n",
    "# And save it to PDF\n",
    "fig.savefig(\n",
    "    figure_dir / f\"roc_curve_{exp_name}_withoutabnormaleeg.pdf\", bbox_inches=\"tight\"\n",
    ")"
   ]
  },
  {
   "cell_type": "code",
   "execution_count": 23,
   "metadata": {},
   "outputs": [],
   "source": [
    "subjects_ = scores['test_subjects']\n",
    "subjects = [item for sublist in subjects_ for item in sublist]\n",
    "y_pred_proba_ = scores['test_y_pred_proba']\n",
    "y_pred_proba = [item for sublist in y_pred_proba_ for item in sublist]\n",
    "y_pred_proba = np.array(y_pred_proba)"
   ]
  },
  {
   "cell_type": "code",
   "execution_count": 24,
   "metadata": {},
   "outputs": [],
   "source": [
    "groups = []\n",
    "centers = []\n",
    "for subject in subjects:\n",
    "    sub = int(re.search(r'\\d+', subject).group())\n",
    "    center = ''.join([i for i in subject if not i.isdigit()])\n",
    "    if sub < 100:\n",
    "        groups.append(0)\n",
    "    elif sub > 200:\n",
    "        groups.append(2)\n",
    "    else:\n",
    "        groups.append(1)\n",
    "    centers.append(center)"
   ]
  },
  {
   "cell_type": "code",
   "execution_count": 110,
   "metadata": {},
   "outputs": [
    {
     "name": "stdout",
     "output_type": "stream",
     "text": [
      "0 jhh\n",
      "0 jeff\n",
      "1 jhh\n",
      "2 jhh\n",
      "2 jeff\n",
      "1 jhh\n",
      "1 jhh\n",
      "2 jeff\n",
      "1 jhh\n",
      "2 jhh\n",
      "2 jeff\n",
      "0 jhh\n",
      "2 jeff\n",
      "0 jhh\n",
      "2 jeff\n",
      "0 jhh\n",
      "2 jeff\n",
      "1 jhh\n",
      "0 jhh\n",
      "1 jhh\n",
      "2 jhh\n",
      "1 jhh\n",
      "1 jhh\n",
      "1 jhh\n",
      "2 jeff\n",
      "2 jhh\n",
      "0 jhh\n",
      "0 jeff\n",
      "1 jhh\n",
      "0 jhh\n",
      "2 jeff\n",
      "2 jhh\n",
      "2 jhh\n",
      "0 jhh\n",
      "2 jhh\n",
      "0 jhh\n",
      "2 jhh\n",
      "0 jhh\n",
      "1 jhh\n",
      "1 jeff\n",
      "2 jhh\n",
      "1 jhh\n",
      "1 jeff\n",
      "1 jhh\n",
      "2 jeff\n",
      "0 jhh\n",
      "1 jhh\n",
      "2 jeff\n",
      "2 jeff\n",
      "0 jhh\n",
      "1 jeff\n",
      "2 jeff\n",
      "0 jeff\n",
      "2 jhh\n",
      "0 jhh\n",
      "1 jhh\n",
      "2 jhh\n",
      "2 jhh\n",
      "1 jeff\n",
      "2 jeff\n",
      "2 jhh\n",
      "0 jhh\n",
      "1 jeff\n",
      "0 jhh\n",
      "0 jhh\n",
      "1 jhh\n",
      "1 jhh\n",
      "1 jhh\n",
      "2 jhh\n",
      "0 jeff\n",
      "2 jhh\n",
      "1 jhh\n",
      "2 jeff\n",
      "1 jhh\n",
      "2 jhh\n",
      "0 jhh\n",
      "2 jhh\n",
      "1 jhh\n",
      "0 jhh\n",
      "0 jeff\n",
      "2 jeff\n",
      "2 jeff\n",
      "0 jhh\n",
      "2 jhh\n",
      "2 jhh\n",
      "1 jhh\n",
      "2 jeff\n",
      "0 jhh\n",
      "2 jeff\n",
      "1 jhh\n",
      "2 jhh\n",
      "0 jhh\n",
      "1 jhh\n",
      "2 jeff\n",
      "0 jhh\n",
      "0 jhh\n",
      "1 jhh\n",
      "2 jeff\n",
      "2 jeff\n",
      "1 jhh\n",
      "2 jeff\n",
      "0 jhh\n",
      "2 jeff\n",
      "0 jhh\n",
      "1 jhh\n",
      "0 jhh\n",
      "2 jhh\n",
      "0 jhh\n",
      "2 jhh\n",
      "2 jhh\n",
      "1 jeff\n",
      "1 jhh\n",
      "0 jhh\n",
      "1 jhh\n",
      "0 jhh\n",
      "2 jhh\n",
      "2 jeff\n",
      "1 jeff\n",
      "0 jhh\n",
      "2 jeff\n",
      "1 jeff\n",
      "2 jeff\n",
      "0 jhh\n",
      "1 jeff\n",
      "1 jhh\n",
      "2 jeff\n",
      "2 jeff\n",
      "1 jhh\n",
      "0 jhh\n",
      "1 jhh\n",
      "1 jeff\n",
      "2 jeff\n",
      "0 jhh\n",
      "0 jhh\n",
      "1 jeff\n",
      "2 jeff\n",
      "2 jeff\n",
      "0 jhh\n",
      "2 jeff\n",
      "2 jeff\n",
      "1 jhh\n",
      "2 jeff\n",
      "2 jeff\n",
      "2 jhh\n",
      "2 jhh\n",
      "2 jeff\n",
      "2 jeff\n",
      "2 jeff\n",
      "2 jeff\n",
      "2 jhh\n",
      "2 jeff\n",
      "2 jhh\n",
      "2 jhh\n",
      "2 jhh\n",
      "2 jhh\n",
      "2 jeff\n"
     ]
    },
    {
     "data": {
      "text/plain": [
       "[None,\n",
       " None,\n",
       " None,\n",
       " None,\n",
       " None,\n",
       " None,\n",
       " None,\n",
       " None,\n",
       " None,\n",
       " None,\n",
       " None,\n",
       " None,\n",
       " None,\n",
       " None,\n",
       " None,\n",
       " None,\n",
       " None,\n",
       " None,\n",
       " None,\n",
       " None,\n",
       " None,\n",
       " None,\n",
       " None,\n",
       " None,\n",
       " None,\n",
       " None,\n",
       " None,\n",
       " None,\n",
       " None,\n",
       " None,\n",
       " None,\n",
       " None,\n",
       " None,\n",
       " None,\n",
       " None,\n",
       " None,\n",
       " None,\n",
       " None,\n",
       " None,\n",
       " None,\n",
       " None,\n",
       " None,\n",
       " None,\n",
       " None,\n",
       " None,\n",
       " None,\n",
       " None,\n",
       " None,\n",
       " None,\n",
       " None,\n",
       " None,\n",
       " None,\n",
       " None,\n",
       " None,\n",
       " None,\n",
       " None,\n",
       " None,\n",
       " None,\n",
       " None,\n",
       " None,\n",
       " None,\n",
       " None,\n",
       " None,\n",
       " None,\n",
       " None,\n",
       " None,\n",
       " None,\n",
       " None,\n",
       " None,\n",
       " None,\n",
       " None,\n",
       " None,\n",
       " None,\n",
       " None,\n",
       " None,\n",
       " None,\n",
       " None,\n",
       " None,\n",
       " None,\n",
       " None,\n",
       " None,\n",
       " None,\n",
       " None,\n",
       " None,\n",
       " None,\n",
       " None,\n",
       " None,\n",
       " None,\n",
       " None,\n",
       " None,\n",
       " None,\n",
       " None,\n",
       " None,\n",
       " None,\n",
       " None,\n",
       " None,\n",
       " None,\n",
       " None,\n",
       " None,\n",
       " None,\n",
       " None,\n",
       " None,\n",
       " None,\n",
       " None,\n",
       " None,\n",
       " None,\n",
       " None,\n",
       " None,\n",
       " None,\n",
       " None,\n",
       " None,\n",
       " None,\n",
       " None,\n",
       " None,\n",
       " None,\n",
       " None,\n",
       " None,\n",
       " None,\n",
       " None,\n",
       " None,\n",
       " None,\n",
       " None,\n",
       " None,\n",
       " None,\n",
       " None,\n",
       " None,\n",
       " None,\n",
       " None,\n",
       " None,\n",
       " None,\n",
       " None,\n",
       " None,\n",
       " None,\n",
       " None,\n",
       " None,\n",
       " None,\n",
       " None,\n",
       " None,\n",
       " None,\n",
       " None,\n",
       " None,\n",
       " None,\n",
       " None,\n",
       " None,\n",
       " None,\n",
       " None,\n",
       " None,\n",
       " None,\n",
       " None,\n",
       " None,\n",
       " None,\n",
       " None,\n",
       " None,\n",
       " None,\n",
       " None,\n",
       " None]"
      ]
     },
     "execution_count": 110,
     "metadata": {},
     "output_type": "execute_result"
    }
   ],
   "source": [
    "[print(g,c) for g,c in zip(groups, centers)]"
   ]
  },
  {
   "cell_type": "code",
   "execution_count": 25,
   "metadata": {},
   "outputs": [],
   "source": [
    "predict_df = pd.DataFrame()\n",
    "predict_df['subject'] = subjects\n",
    "predict_df['group'] = groups\n",
    "predict_df['pred'] = y_pred_proba\n",
    "predict_df['center'] = centers"
   ]
  },
  {
   "cell_type": "code",
   "execution_count": 26,
   "metadata": {},
   "outputs": [
    {
     "data": {
      "text/plain": [
       "<matplotlib.legend.Legend at 0x28a7f48fd30>"
      ]
     },
     "execution_count": 26,
     "metadata": {},
     "output_type": "execute_result"
    },
    {
     "data": {
      "image/png": "[encoded data removed]",
      "text/plain": [
       "<Figure size 432x288 with 1 Axes>"
      ]
     },
     "metadata": {
      "needs_background": "light"
     },
     "output_type": "display_data"
    }
   ],
   "source": [
    "bp = predict_df.boxplot(column='pred', by='group', grid=False)\n",
    "for group in [0,1,2]:\n",
    "    group_inds_jhh = [i for i, val in enumerate(groups) if val == group and centers[i]=='jhh']\n",
    "    ypred_group_jhh = y_pred_proba[group_inds_jhh]\n",
    "    x_jhh = np.random.normal(group+1, 0.04, size=len(ypred_group_jhh))\n",
    "    plt.scatter(x_jhh, ypred_group_jhh, alpha=0.2, c=\"b\", label='jhh')\n",
    "    group_inds_jeff = [i for i, val in enumerate(groups) if val == group and centers[i]=='jeff']\n",
    "    ypred_group_jeff = y_pred_proba[group_inds_jeff]\n",
    "    x_jeff = np.random.normal(group+1, 0.04, size=len(ypred_group_jeff))\n",
    "    plt.scatter(x_jeff, ypred_group_jeff, alpha=0.3, c=\"g\", label='jeff')\n",
    "plt.legend(bbox_to_anchor=(1.1, 1.05))"
   ]
  },
  {
   "cell_type": "markdown",
   "metadata": {},
   "source": [
    "## Plotting Predicted Probability of Success Scores"
   ]
  },
  {
   "cell_type": "code",
   "execution_count": 19,
   "metadata": {},
   "outputs": [
    {
     "data": {
      "text/html": [
       "<div>\n",
       "<style scoped>\n",
       "    .dataframe tbody tr th:only-of-type {\n",
       "        vertical-align: middle;\n",
       "    }\n",
       "\n",
       "    .dataframe tbody tr th {\n",
       "        vertical-align: top;\n",
       "    }\n",
       "\n",
       "    .dataframe thead th {\n",
       "        text-align: right;\n",
       "    }\n",
       "</style>\n",
       "<table border=\"1\" class=\"dataframe\">\n",
       "  <thead>\n",
       "    <tr style=\"text-align: right;\">\n",
       "      <th></th>\n",
       "      <th>patient_id</th>\n",
       "      <th>hospital_id</th>\n",
       "      <th>number_datasets</th>\n",
       "      <th>CLINICAL_CENTER</th>\n",
       "      <th>modality</th>\n",
       "      <th>montage</th>\n",
       "      <th>sfreq</th>\n",
       "      <th>GROUP</th>\n",
       "      <th>ETHNICITY</th>\n",
       "      <th>Race (0=caucasian, 1=african american, 2=hispanic, 3=asian)</th>\n",
       "      <th>...</th>\n",
       "      <th>HAND</th>\n",
       "      <th>GENDER</th>\n",
       "      <th>bad_contacts</th>\n",
       "      <th>EPILEPSY_TYPE</th>\n",
       "      <th>imaging_outcome_notes</th>\n",
       "      <th>Date of Recording</th>\n",
       "      <th>Notes</th>\n",
       "      <th>include</th>\n",
       "      <th>Reason</th>\n",
       "      <th>best_window</th>\n",
       "    </tr>\n",
       "  </thead>\n",
       "  <tbody>\n",
       "    <tr>\n",
       "      <th>0</th>\n",
       "      <td>101</td>\n",
       "      <td>1</td>\n",
       "      <td>1</td>\n",
       "      <td>jhh</td>\n",
       "      <td>scalp</td>\n",
       "      <td>standard 10-20</td>\n",
       "      <td>200</td>\n",
       "      <td>1</td>\n",
       "      <td>NaN</td>\n",
       "      <td>NaN</td>\n",
       "      <td>...</td>\n",
       "      <td>NaN</td>\n",
       "      <td>NaN</td>\n",
       "      <td>Fz, Cz, E, X1-7, SpO2, EtCO2, DC03, DC04, DC05...</td>\n",
       "      <td>focal</td>\n",
       "      <td>NaN</td>\n",
       "      <td>NaN</td>\n",
       "      <td>Lots of eye artifact. Pz looks more normal, bu...</td>\n",
       "      <td>Y</td>\n",
       "      <td>Good after 100 s, remove Pz</td>\n",
       "      <td>100-400</td>\n",
       "    </tr>\n",
       "    <tr>\n",
       "      <th>1</th>\n",
       "      <td>201</td>\n",
       "      <td>2</td>\n",
       "      <td>1</td>\n",
       "      <td>jhh</td>\n",
       "      <td>scalp</td>\n",
       "      <td>standard 10-20</td>\n",
       "      <td>200</td>\n",
       "      <td>2</td>\n",
       "      <td>NaN</td>\n",
       "      <td>NaN</td>\n",
       "      <td>...</td>\n",
       "      <td>NaN</td>\n",
       "      <td>NaN</td>\n",
       "      <td>E, X1-7, SpO2, EtCO2, DC03, DC04, DC05, DC06, ...</td>\n",
       "      <td>NaN</td>\n",
       "      <td>NaN</td>\n",
       "      <td>NaN</td>\n",
       "      <td>SHW'</td>\n",
       "      <td>Y</td>\n",
       "      <td>Riddled with artifact</td>\n",
       "      <td>600-900</td>\n",
       "    </tr>\n",
       "  </tbody>\n",
       "</table>\n",
       "<p>2 rows × 21 columns</p>\n",
       "</div>"
      ],
      "text/plain": [
       "   patient_id  hospital_id  number_datasets CLINICAL_CENTER modality  \\\n",
       "0         101            1                1             jhh    scalp   \n",
       "1         201            2                1             jhh    scalp   \n",
       "\n",
       "          montage  sfreq  GROUP  ETHNICITY  \\\n",
       "0  standard 10-20    200      1        NaN   \n",
       "1  standard 10-20    200      2        NaN   \n",
       "\n",
       "   Race (0=caucasian, 1=african american, 2=hispanic, 3=asian)  ...  HAND  \\\n",
       "0                                                NaN            ...   NaN   \n",
       "1                                                NaN            ...   NaN   \n",
       "\n",
       "   GENDER                                       bad_contacts EPILEPSY_TYPE  \\\n",
       "0     NaN  Fz, Cz, E, X1-7, SpO2, EtCO2, DC03, DC04, DC05...         focal   \n",
       "1     NaN  E, X1-7, SpO2, EtCO2, DC03, DC04, DC05, DC06, ...           NaN   \n",
       "\n",
       "  imaging_outcome_notes  Date of Recording  \\\n",
       "0                   NaN                NaN   \n",
       "1                   NaN                NaN   \n",
       "\n",
       "                                               Notes include  \\\n",
       "0  Lots of eye artifact. Pz looks more normal, bu...       Y   \n",
       "1                                               SHW'       Y   \n",
       "\n",
       "                        Reason best_window  \n",
       "0  Good after 100 s, remove Pz     100-400  \n",
       "1        Riddled with artifact     600-900  \n",
       "\n",
       "[2 rows x 21 columns]"
      ]
     },
     "metadata": {},
     "output_type": "display_data"
    }
   ],
   "source": [
    "source_root = jhroot / \"sourcedata\"\n",
    "meta_fpath = source_root / \"JHU_scalp_clinical_datasheet_raw_local.xlsx\"\n",
    "meta_df = pd.read_excel(meta_fpath)\n",
    "display(meta_df.head(2))"
   ]
  },
  {
   "cell_type": "code",
   "execution_count": 20,
   "metadata": {},
   "outputs": [
    {
     "ename": "KeyError",
     "evalue": "'outcome'",
     "output_type": "error",
     "traceback": [
      "\u001b[1;31m---------------------------------------------------------------------------\u001b[0m",
      "\u001b[1;31mKeyError\u001b[0m                                  Traceback (most recent call last)",
      "\u001b[1;32m~\\.virtualenvs\\episcalp-235KLvvi\\lib\\site-packages\\pandas\\core\\indexes\\base.py\u001b[0m in \u001b[0;36mget_loc\u001b[1;34m(self, key, method, tolerance)\u001b[0m\n\u001b[0;32m   3079\u001b[0m             \u001b[1;32mtry\u001b[0m\u001b[1;33m:\u001b[0m\u001b[1;33m\u001b[0m\u001b[1;33m\u001b[0m\u001b[0m\n\u001b[1;32m-> 3080\u001b[1;33m                 \u001b[1;32mreturn\u001b[0m \u001b[0mself\u001b[0m\u001b[1;33m.\u001b[0m\u001b[0m_engine\u001b[0m\u001b[1;33m.\u001b[0m\u001b[0mget_loc\u001b[0m\u001b[1;33m(\u001b[0m\u001b[0mcasted_key\u001b[0m\u001b[1;33m)\u001b[0m\u001b[1;33m\u001b[0m\u001b[1;33m\u001b[0m\u001b[0m\n\u001b[0m\u001b[0;32m   3081\u001b[0m             \u001b[1;32mexcept\u001b[0m \u001b[0mKeyError\u001b[0m \u001b[1;32mas\u001b[0m \u001b[0merr\u001b[0m\u001b[1;33m:\u001b[0m\u001b[1;33m\u001b[0m\u001b[1;33m\u001b[0m\u001b[0m\n",
      "\u001b[1;32mpandas\\_libs\\index.pyx\u001b[0m in \u001b[0;36mpandas._libs.index.IndexEngine.get_loc\u001b[1;34m()\u001b[0m\n",
      "\u001b[1;32mpandas\\_libs\\index.pyx\u001b[0m in \u001b[0;36mpandas._libs.index.IndexEngine.get_loc\u001b[1;34m()\u001b[0m\n",
      "\u001b[1;32mpandas\\_libs\\hashtable_class_helper.pxi\u001b[0m in \u001b[0;36mpandas._libs.hashtable.PyObjectHashTable.get_item\u001b[1;34m()\u001b[0m\n",
      "\u001b[1;32mpandas\\_libs\\hashtable_class_helper.pxi\u001b[0m in \u001b[0;36mpandas._libs.hashtable.PyObjectHashTable.get_item\u001b[1;34m()\u001b[0m\n",
      "\u001b[1;31mKeyError\u001b[0m: 'outcome'",
      "\nThe above exception was the direct cause of the following exception:\n",
      "\u001b[1;31mKeyError\u001b[0m                                  Traceback (most recent call last)",
      "\u001b[1;32m<ipython-input-20-00c08e19cfc3>\u001b[0m in \u001b[0;36m<module>\u001b[1;34m\u001b[0m\n\u001b[0;32m     10\u001b[0m     \u001b[0mcv_subjects\u001b[0m \u001b[1;33m=\u001b[0m \u001b[0mscores\u001b[0m\u001b[1;33m[\u001b[0m\u001b[1;34mf\"{which_set}_subjects\"\u001b[0m\u001b[1;33m]\u001b[0m\u001b[1;33m[\u001b[0m\u001b[0midx\u001b[0m\u001b[1;33m]\u001b[0m\u001b[1;33m\u001b[0m\u001b[1;33m\u001b[0m\u001b[0m\n\u001b[0;32m     11\u001b[0m     \u001b[1;32mfor\u001b[0m \u001b[0msubject\u001b[0m \u001b[1;32min\u001b[0m \u001b[0mcv_subjects\u001b[0m\u001b[1;33m:\u001b[0m\u001b[1;33m\u001b[0m\u001b[1;33m\u001b[0m\u001b[0m\n\u001b[1;32m---> 12\u001b[1;33m         \u001b[0moutcome\u001b[0m \u001b[1;33m=\u001b[0m \u001b[0mmeta_df\u001b[0m\u001b[1;33m[\u001b[0m\u001b[0mmeta_df\u001b[0m\u001b[1;33m[\u001b[0m\u001b[1;34m\"patient_id\"\u001b[0m\u001b[1;33m]\u001b[0m \u001b[1;33m==\u001b[0m \u001b[0msubject\u001b[0m\u001b[1;33m]\u001b[0m\u001b[1;33m[\u001b[0m\u001b[1;34m\"outcome\"\u001b[0m\u001b[1;33m]\u001b[0m\u001b[1;33m.\u001b[0m\u001b[0mvalues\u001b[0m\u001b[1;33m[\u001b[0m\u001b[1;36m0\u001b[0m\u001b[1;33m]\u001b[0m\u001b[1;33m\u001b[0m\u001b[1;33m\u001b[0m\u001b[0m\n\u001b[0m\u001b[0;32m     13\u001b[0m         \u001b[0moutcomes\u001b[0m\u001b[1;33m.\u001b[0m\u001b[0mappend\u001b[0m\u001b[1;33m(\u001b[0m\u001b[0moutcome\u001b[0m\u001b[1;33m)\u001b[0m\u001b[1;33m\u001b[0m\u001b[1;33m\u001b[0m\u001b[0m\n\u001b[0;32m     14\u001b[0m \u001b[1;33m\u001b[0m\u001b[0m\n",
      "\u001b[1;32m~\\.virtualenvs\\episcalp-235KLvvi\\lib\\site-packages\\pandas\\core\\frame.py\u001b[0m in \u001b[0;36m__getitem__\u001b[1;34m(self, key)\u001b[0m\n\u001b[0;32m   3022\u001b[0m             \u001b[1;32mif\u001b[0m \u001b[0mself\u001b[0m\u001b[1;33m.\u001b[0m\u001b[0mcolumns\u001b[0m\u001b[1;33m.\u001b[0m\u001b[0mnlevels\u001b[0m \u001b[1;33m>\u001b[0m \u001b[1;36m1\u001b[0m\u001b[1;33m:\u001b[0m\u001b[1;33m\u001b[0m\u001b[1;33m\u001b[0m\u001b[0m\n\u001b[0;32m   3023\u001b[0m                 \u001b[1;32mreturn\u001b[0m \u001b[0mself\u001b[0m\u001b[1;33m.\u001b[0m\u001b[0m_getitem_multilevel\u001b[0m\u001b[1;33m(\u001b[0m\u001b[0mkey\u001b[0m\u001b[1;33m)\u001b[0m\u001b[1;33m\u001b[0m\u001b[1;33m\u001b[0m\u001b[0m\n\u001b[1;32m-> 3024\u001b[1;33m             \u001b[0mindexer\u001b[0m \u001b[1;33m=\u001b[0m \u001b[0mself\u001b[0m\u001b[1;33m.\u001b[0m\u001b[0mcolumns\u001b[0m\u001b[1;33m.\u001b[0m\u001b[0mget_loc\u001b[0m\u001b[1;33m(\u001b[0m\u001b[0mkey\u001b[0m\u001b[1;33m)\u001b[0m\u001b[1;33m\u001b[0m\u001b[1;33m\u001b[0m\u001b[0m\n\u001b[0m\u001b[0;32m   3025\u001b[0m             \u001b[1;32mif\u001b[0m \u001b[0mis_integer\u001b[0m\u001b[1;33m(\u001b[0m\u001b[0mindexer\u001b[0m\u001b[1;33m)\u001b[0m\u001b[1;33m:\u001b[0m\u001b[1;33m\u001b[0m\u001b[1;33m\u001b[0m\u001b[0m\n\u001b[0;32m   3026\u001b[0m                 \u001b[0mindexer\u001b[0m \u001b[1;33m=\u001b[0m \u001b[1;33m[\u001b[0m\u001b[0mindexer\u001b[0m\u001b[1;33m]\u001b[0m\u001b[1;33m\u001b[0m\u001b[1;33m\u001b[0m\u001b[0m\n",
      "\u001b[1;32m~\\.virtualenvs\\episcalp-235KLvvi\\lib\\site-packages\\pandas\\core\\indexes\\base.py\u001b[0m in \u001b[0;36mget_loc\u001b[1;34m(self, key, method, tolerance)\u001b[0m\n\u001b[0;32m   3080\u001b[0m                 \u001b[1;32mreturn\u001b[0m \u001b[0mself\u001b[0m\u001b[1;33m.\u001b[0m\u001b[0m_engine\u001b[0m\u001b[1;33m.\u001b[0m\u001b[0mget_loc\u001b[0m\u001b[1;33m(\u001b[0m\u001b[0mcasted_key\u001b[0m\u001b[1;33m)\u001b[0m\u001b[1;33m\u001b[0m\u001b[1;33m\u001b[0m\u001b[0m\n\u001b[0;32m   3081\u001b[0m             \u001b[1;32mexcept\u001b[0m \u001b[0mKeyError\u001b[0m \u001b[1;32mas\u001b[0m \u001b[0merr\u001b[0m\u001b[1;33m:\u001b[0m\u001b[1;33m\u001b[0m\u001b[1;33m\u001b[0m\u001b[0m\n\u001b[1;32m-> 3082\u001b[1;33m                 \u001b[1;32mraise\u001b[0m \u001b[0mKeyError\u001b[0m\u001b[1;33m(\u001b[0m\u001b[0mkey\u001b[0m\u001b[1;33m)\u001b[0m \u001b[1;32mfrom\u001b[0m \u001b[0merr\u001b[0m\u001b[1;33m\u001b[0m\u001b[1;33m\u001b[0m\u001b[0m\n\u001b[0m\u001b[0;32m   3083\u001b[0m \u001b[1;33m\u001b[0m\u001b[0m\n\u001b[0;32m   3084\u001b[0m         \u001b[1;32mif\u001b[0m \u001b[0mtolerance\u001b[0m \u001b[1;32mis\u001b[0m \u001b[1;32mnot\u001b[0m \u001b[1;32mNone\u001b[0m\u001b[1;33m:\u001b[0m\u001b[1;33m\u001b[0m\u001b[1;33m\u001b[0m\u001b[0m\n",
      "\u001b[1;31mKeyError\u001b[0m: 'outcome'"
     ]
    }
   ],
   "source": [
    "# TODO: modify to fit the participants framework\n",
    "y_probas = []\n",
    "subj_list = []\n",
    "outcomes = []\n",
    "centers = []\n",
    "folds = []\n",
    "\n",
    "for idx in range(n_splits):\n",
    "    y_pred_proba = scores[f\"{which_set}_y_pred_proba\"][idx]\n",
    "    cv_subjects = scores[f\"{which_set}_subjects\"][idx]\n",
    "    for subject in cv_subjects:\n",
    "        outcome = meta_df[meta_df[\"patient_id\"] == subject][\"outcome\"].values[0]\n",
    "        outcomes.append(outcome)\n",
    "\n",
    "        center = meta_df[meta_df[\"patient_id\"] == subject][\"clinical_center\"].values[0]\n",
    "        centers.append(center)\n",
    "\n",
    "    y_probas.extend(y_pred_proba)\n",
    "    subj_list.extend(cv_subjects)\n",
    "    folds.extend([idx] * len(cv_subjects))"
   ]
  },
  {
   "cell_type": "code",
   "execution_count": 29,
   "metadata": {},
   "outputs": [
    {
     "data": {
      "text/html": [
       "<div>\n",
       "<style scoped>\n",
       "    .dataframe tbody tr th:only-of-type {\n",
       "        vertical-align: middle;\n",
       "    }\n",
       "\n",
       "    .dataframe tbody tr th {\n",
       "        vertical-align: top;\n",
       "    }\n",
       "\n",
       "    .dataframe thead th {\n",
       "        text-align: right;\n",
       "    }\n",
       "</style>\n",
       "<table border=\"1\" class=\"dataframe\">\n",
       "  <thead>\n",
       "    <tr style=\"text-align: right;\">\n",
       "      <th></th>\n",
       "      <th>y_proba</th>\n",
       "      <th>subject</th>\n",
       "      <th>outcome</th>\n",
       "      <th>engel</th>\n",
       "      <th>ilae</th>\n",
       "      <th>center</th>\n",
       "      <th>fold</th>\n",
       "    </tr>\n",
       "  </thead>\n",
       "  <tbody>\n",
       "    <tr>\n",
       "      <th>0</th>\n",
       "      <td>0.609425</td>\n",
       "      <td>PY19N023</td>\n",
       "      <td>S</td>\n",
       "      <td>1</td>\n",
       "      <td>1.0</td>\n",
       "      <td>JHH</td>\n",
       "      <td>0</td>\n",
       "    </tr>\n",
       "    <tr>\n",
       "      <th>1</th>\n",
       "      <td>0.335533</td>\n",
       "      <td>la16</td>\n",
       "      <td>F</td>\n",
       "      <td>4</td>\n",
       "      <td>5.0</td>\n",
       "      <td>CClinic</td>\n",
       "      <td>0</td>\n",
       "    </tr>\n",
       "    <tr>\n",
       "      <th>2</th>\n",
       "      <td>0.292</td>\n",
       "      <td>rns015</td>\n",
       "      <td>F</td>\n",
       "      <td>2</td>\n",
       "      <td>NaN</td>\n",
       "      <td>Miami</td>\n",
       "      <td>0</td>\n",
       "    </tr>\n",
       "    <tr>\n",
       "      <th>3</th>\n",
       "      <td>0.653967</td>\n",
       "      <td>upmc3</td>\n",
       "      <td>F</td>\n",
       "      <td>2</td>\n",
       "      <td>3.0</td>\n",
       "      <td>UPMC</td>\n",
       "      <td>0</td>\n",
       "    </tr>\n",
       "    <tr>\n",
       "      <th>4</th>\n",
       "      <td>0.551758</td>\n",
       "      <td>la21</td>\n",
       "      <td>S</td>\n",
       "      <td>1</td>\n",
       "      <td>1.0</td>\n",
       "      <td>CClinic</td>\n",
       "      <td>0</td>\n",
       "    </tr>\n",
       "  </tbody>\n",
       "</table>\n",
       "</div>"
      ],
      "text/plain": [
       "    y_proba   subject outcome engel ilae   center fold\n",
       "0  0.609425  PY19N023       S     1  1.0      JHH    0\n",
       "1  0.335533      la16       F     4  5.0  CClinic    0\n",
       "2     0.292    rns015       F     2  NaN    Miami    0\n",
       "3  0.653967     upmc3       F     2  3.0     UPMC    0\n",
       "4  0.551758      la21       S     1  1.0  CClinic    0"
      ]
     },
     "metadata": {},
     "output_type": "display_data"
    }
   ],
   "source": [
    "proba_df = pd.DataFrame(\n",
    "    (y_probas, subj_list, outcomes, engels, ilaes, centers, folds)\n",
    ").T\n",
    "proba_df.columns = [\"y_proba\", \"subject\", \"outcome\", \"engel\", \"ilae\", \"center\", \"fold\"]\n",
    "\n",
    "proba_df[\"center\"] = proba_df[\"center\"].map(\n",
    "    {\n",
    "        \"jhu\": \"JHH\",\n",
    "        \"miami\": \"Miami\",\n",
    "        \"cc\": \"CClinic\",\n",
    "        \"upmc\": \"UPMC\",\n",
    "        \"kumc\": \"KUMC\",\n",
    "        \"nih\": \"NIH\",\n",
    "    }\n",
    ")\n",
    "\n",
    "display(proba_df.head())"
   ]
  },
  {
   "cell_type": "code",
   "execution_count": 31,
   "metadata": {},
   "outputs": [
    {
     "data": {
      "image/png": "[encoded data removed]",
      "text/plain": [
       "<Figure size 720x432 with 1 Axes>"
      ]
     },
     "metadata": {
      "needs_background": "light"
     },
     "output_type": "display_data"
    }
   ],
   "source": [
    "fig, ax = plt.subplots(figsize=(10, 6))\n",
    "sns.boxplot(\n",
    "    x=\"outcome\",\n",
    "    y=\"y_proba\",\n",
    "    color=\"gray\",\n",
    "    data=proba_df,\n",
    "    ax=ax,\n",
    "    boxprops=dict(alpha=0.4),\n",
    ")\n",
    "sns.swarmplot(x=\"outcome\", y=\"y_proba\", color=\"black\", data=proba_df, ax=ax)\n",
    "\n",
    "ax.set(\n",
    "    ylabel=\"Predicted Probability of Success\",\n",
    "    xlabel=\"Surgical Outcome\",\n",
    ")\n",
    "fig.savefig(figure_dir / f\"{exp_name}_y_pred_proba_surgical_outcomes.pdf\", bbox_inches=\"tight\")"
   ]
  },
  {
   "cell_type": "markdown",
   "metadata": {},
   "source": [
    "## Boundary Split Figure"
   ]
  },
  {
   "cell_type": "code",
   "execution_count": 35,
   "metadata": {},
   "outputs": [
    {
     "data": {
      "image/png": "[encoded data removed]",
      "text/plain": [
       "<Figure size 720x432 with 1 Axes>"
      ]
     },
     "metadata": {
      "needs_background": "light"
     },
     "output_type": "display_data"
    }
   ],
   "source": [
    "fig, ax = plt.subplots(figsize=(10, 6))\n",
    "ax.axhline([0.5], ls=\"--\", label=\"decision boundary\")\n",
    "sns.boxplot(\n",
    "    x=\"center\",\n",
    "    y=\"y_proba\",\n",
    "    data=proba_df,\n",
    "    color=\"gray\",\n",
    "    ax=ax,\n",
    "    boxprops=dict(alpha=0.4),\n",
    ")\n",
    "sns.swarmplot(x=\"center\", y=\"y_proba\", hue=\"outcome\", data=proba_df, ax=ax)\n",
    "ax.set(\n",
    "    ylabel=\"Predicted Probability of Success\",\n",
    "    xlabel=\"Clinical Center\",\n",
    ")\n",
    "ax.legend(fontsize=12)\n",
    "fig.savefig(figure_dir / f\"{exp_name}_boundary_split_center.pdf\", bbox_inches=\"tight\")"
   ]
  },
  {
   "cell_type": "markdown",
   "metadata": {},
   "source": [
    "## Plotting Calibration Curve"
   ]
  },
  {
   "cell_type": "code",
   "execution_count": 36,
   "metadata": {},
   "outputs": [],
   "source": [
    "mean_brier = np.mean(scores[\"test_neg_brier_score\"])\n",
    "std_brier = np.std(scores[\"test_neg_brier_score\"])"
   ]
  },
  {
   "cell_type": "code",
   "execution_count": 37,
   "metadata": {},
   "outputs": [
    {
     "data": {
      "image/png": "[encoded data removed]",
      "text/plain": [
       "<Figure size 648x432 with 1 Axes>"
      ]
     },
     "metadata": {
      "needs_background": "light"
     },
     "output_type": "display_data"
    }
   ],
   "source": [
    "frac_pred_vals = []\n",
    "mean_pred_values = np.linspace(0, 1.0, 200)\n",
    "\n",
    "fig, ax = plt.subplots(figsize=(9, 6))\n",
    "color = \"blue\"\n",
    "for idx in range(n_splits):\n",
    "    y_pred_proba = scores[f\"{which_set}_y_pred_proba\"][idx]\n",
    "\n",
    "    mean_predicted_value = scores[f\"{which_set}_mean_pred_value\"][idx]\n",
    "    fraction_of_positives = scores[f\"{which_set}_fraction_pos\"][idx]\n",
    "\n",
    "    # create a linear interpolation of the calibration\n",
    "    interp_frac_positives = np.interp(\n",
    "        mean_pred_values, mean_predicted_value, fraction_of_positives\n",
    "    )\n",
    "\n",
    "    # store curves\n",
    "    frac_pred_vals.append(interp_frac_positives)\n",
    "#     ax.plot(mean_pred_values, interp_frac_positives, \"s-\", alpha=0.5)\n",
    "\n",
    "# get the mean calibration curve\n",
    "mean_frac_pred_values = np.mean(frac_pred_vals, axis=0)\n",
    "ax.plot(\n",
    "    mean_pred_values,\n",
    "    mean_frac_pred_values,\n",
    "    \"s-\",\n",
    "    label=rf\"(Neg. Brier Loss = {np.round(mean_brier,3)} $\\pm$ {np.round(std_brier, 3)})\",\n",
    ")\n",
    "\n",
    "# get upper and lower bound for tpr\n",
    "std_fpv = np.std(frac_pred_vals, axis=0)\n",
    "tprs_upper = np.minimum(mean_frac_pred_values + std_fpv, 1)\n",
    "tprs_lower = np.maximum(mean_frac_pred_values - std_fpv, 0)\n",
    "ax.fill_between(\n",
    "    mean_pred_values,\n",
    "    tprs_lower,\n",
    "    tprs_upper,\n",
    "    color=color,\n",
    "    alpha=0.2,\n",
    "    label=r\"$\\pm$ 1 std. dev.\",\n",
    ")\n",
    "ax.plot([0, 1], [0, 1], \"k:\", label=\"Perfectly calibrated\")\n",
    "\n",
    "\n",
    "ax.set(\n",
    "    ylabel=\"Fraction of Success Outcomes\",\n",
    "    ylim=[-0.05, 1.05],\n",
    "    xlabel=\"Mean Predicted Success Probabilities of Subjects\",\n",
    "    title=\"Calibration (Reliability) Curve\",\n",
    ")\n",
    "\n",
    "ax.legend(loc=\"lower right\", fontsize=12)\n",
    "\n",
    "fig.savefig(figure_dir / f\"{exp_name}_calibration_curve.pdf\", bbox_inches=\"tight\")"
   ]
  },
  {
   "cell_type": "markdown",
   "metadata": {},
   "source": [
    "# McNemars Test To Compare Two Different Classification Scenarios"
   ]
  },
  {
   "cell_type": "code",
   "execution_count": 55,
   "metadata": {},
   "outputs": [],
   "source": [
    "from numpy.testing import assert_array_equal"
   ]
  },
  {
   "cell_type": "code",
   "execution_count": 56,
   "metadata": {},
   "outputs": [],
   "source": [
    "from sklearn import preprocessing\n",
    "\n",
    "enc = preprocessing.OrdinalEncoder()"
   ]
  },
  {
   "cell_type": "code",
   "execution_count": 57,
   "metadata": {},
   "outputs": [],
   "source": [
    "y_target = []\n",
    "y_modelhfo = []\n",
    "y_modelss = []\n",
    "\n",
    "y_subjs = []\n",
    "for idx in range(n_splits):\n",
    "    y = ss_scores[\"test_subjects\"][idx]\n",
    "    hfo_y = hfo_scores[\"test_subjects\"][idx]\n",
    "\n",
    "    assert_array_equal(y, hfo_y)\n",
    "    y_subjs.extend(y)\n",
    "\n",
    "    y_predhfo = hfo_scores[\"test_y_pred_proba\"][idx]\n",
    "    y_predss = ss_scores[\"test_y_pred_proba\"][idx]\n",
    "    y_modelhfo.extend(y_predhfo)\n",
    "    y_modelss.extend(y_predss)"
   ]
  },
  {
   "cell_type": "code",
   "execution_count": 58,
   "metadata": {},
   "outputs": [],
   "source": [
    "for subject in y_subjs:\n",
    "    outcome = meta_df[meta_df[\"patient_id\"] == subject][\"outcome\"].values[0]\n",
    "    y_target.append(outcome)\n",
    "\n",
    "y_target = enc.fit_transform(np.array(y_target)[:, np.newaxis]).squeeze()\n",
    "y_modelss = np.array(y_modelss).round()\n",
    "y_modelhfo = np.array(y_modelhfo).round()"
   ]
  },
  {
   "cell_type": "code",
   "execution_count": 59,
   "metadata": {},
   "outputs": [
    {
     "name": "stdout",
     "output_type": "stream",
     "text": [
      "[[98 60]\n",
      " [33  9]]\n"
     ]
    }
   ],
   "source": [
    "tb = mcnemar_table(y_target=y_target, y_model1=y_modelss, y_model2=y_modelhfo)\n",
    "print(tb)"
   ]
  },
  {
   "cell_type": "code",
   "execution_count": 60,
   "metadata": {},
   "outputs": [
    {
     "name": "stdout",
     "output_type": "stream",
     "text": [
      "chi-squared: 7.268817204301075\n",
      "p-value: 0.0070161992342396284\n"
     ]
    }
   ],
   "source": [
    "chi2, p = mcnemar(ary=tb, corrected=True)\n",
    "print(\"chi-squared:\", chi2)\n",
    "print(\"p-value:\", p)"
   ]
  },
  {
   "cell_type": "markdown",
   "metadata": {
    "tags": []
   },
   "source": [
    "# Plots Comparing HFO and Source Sink"
   ]
  },
  {
   "cell_type": "code",
   "execution_count": 59,
   "metadata": {},
   "outputs": [],
   "source": [
    "which_set = \"test\"\n",
    "\n",
    "aucs = []\n",
    "precisions = []\n",
    "recalls = []\n",
    "specificities = []\n",
    "accuracies = []\n",
    "clfs = []\n",
    "\n",
    "for clf in [\"HFO\", \"Source-Sink\"]:\n",
    "    if clf == \"HFO\":\n",
    "        scores = hfo_scores\n",
    "    elif clf == \"Source-Sink\":\n",
    "        scores = ss_scores\n",
    "\n",
    "    for idx in range(n_splits):\n",
    "        auc_ = scores[f\"{which_set}_roc_auc\"][idx]\n",
    "        precision_ = scores[f\"{which_set}_average_precision\"][idx]\n",
    "        acc = scores[f\"{which_set}_balanced_accuracy\"][idx]\n",
    "        sens = scores[f\"{which_set}_recall\"][idx]\n",
    "        spec = scores[f\"{which_set}_specificity\"][idx]\n",
    "\n",
    "        aucs.append(auc_)\n",
    "        precisions.append(precision_)\n",
    "        accuracies.append(acc)\n",
    "        recalls.append(sens)\n",
    "        specificities.append(spec)\n",
    "        clfs.append(clf)\n",
    "\n",
    "comp_df = pd.DataFrame((aucs, precisions, accuracies, recalls, specificities, clfs)).T\n",
    "comp_df.columns = [\n",
    "    \"AUC\",\n",
    "    \"Average Precision\",\n",
    "    \"Accuracy\",\n",
    "    \"Sensitivity\",\n",
    "    \"Specificity\",\n",
    "    \"Feature\",\n",
    "]"
   ]
  },
  {
   "cell_type": "code",
   "execution_count": 60,
   "metadata": {},
   "outputs": [
    {
     "data": {
      "text/html": [
       "<div>\n",
       "<style scoped>\n",
       "    .dataframe tbody tr th:only-of-type {\n",
       "        vertical-align: middle;\n",
       "    }\n",
       "\n",
       "    .dataframe tbody tr th {\n",
       "        vertical-align: top;\n",
       "    }\n",
       "\n",
       "    .dataframe thead th {\n",
       "        text-align: right;\n",
       "    }\n",
       "</style>\n",
       "<table border=\"1\" class=\"dataframe\">\n",
       "  <thead>\n",
       "    <tr style=\"text-align: right;\">\n",
       "      <th></th>\n",
       "      <th>AUC</th>\n",
       "      <th>Average Precision</th>\n",
       "      <th>Accuracy</th>\n",
       "      <th>Sensitivity</th>\n",
       "      <th>Specificity</th>\n",
       "      <th>Feature</th>\n",
       "    </tr>\n",
       "  </thead>\n",
       "  <tbody>\n",
       "    <tr>\n",
       "      <th>0</th>\n",
       "      <td>0.787879</td>\n",
       "      <td>0.821022</td>\n",
       "      <td>0.787879</td>\n",
       "      <td>0.666667</td>\n",
       "      <td>0.909091</td>\n",
       "      <td>HFO</td>\n",
       "    </tr>\n",
       "    <tr>\n",
       "      <th>1</th>\n",
       "      <td>0.656566</td>\n",
       "      <td>0.665096</td>\n",
       "      <td>0.575758</td>\n",
       "      <td>0.333333</td>\n",
       "      <td>0.818182</td>\n",
       "      <td>HFO</td>\n",
       "    </tr>\n",
       "    <tr>\n",
       "      <th>2</th>\n",
       "      <td>0.727273</td>\n",
       "      <td>0.636522</td>\n",
       "      <td>0.676768</td>\n",
       "      <td>0.444444</td>\n",
       "      <td>0.909091</td>\n",
       "      <td>HFO</td>\n",
       "    </tr>\n",
       "    <tr>\n",
       "      <th>3</th>\n",
       "      <td>0.555556</td>\n",
       "      <td>0.615104</td>\n",
       "      <td>0.414141</td>\n",
       "      <td>0.555556</td>\n",
       "      <td>0.272727</td>\n",
       "      <td>HFO</td>\n",
       "    </tr>\n",
       "    <tr>\n",
       "      <th>4</th>\n",
       "      <td>0.707071</td>\n",
       "      <td>0.748319</td>\n",
       "      <td>0.69697</td>\n",
       "      <td>0.666667</td>\n",
       "      <td>0.727273</td>\n",
       "      <td>HFO</td>\n",
       "    </tr>\n",
       "  </tbody>\n",
       "</table>\n",
       "</div>"
      ],
      "text/plain": [
       "        AUC Average Precision  Accuracy Sensitivity Specificity Feature\n",
       "0  0.787879          0.821022  0.787879    0.666667    0.909091     HFO\n",
       "1  0.656566          0.665096  0.575758    0.333333    0.818182     HFO\n",
       "2  0.727273          0.636522  0.676768    0.444444    0.909091     HFO\n",
       "3  0.555556          0.615104  0.414141    0.555556    0.272727     HFO\n",
       "4  0.707071          0.748319   0.69697    0.666667    0.727273     HFO"
      ]
     },
     "metadata": {},
     "output_type": "display_data"
    }
   ],
   "source": [
    "display(comp_df.head())"
   ]
  },
  {
   "cell_type": "code",
   "execution_count": 61,
   "metadata": {},
   "outputs": [
    {
     "data": {
      "text/html": [
       "<div>\n",
       "<style scoped>\n",
       "    .dataframe tbody tr th:only-of-type {\n",
       "        vertical-align: middle;\n",
       "    }\n",
       "\n",
       "    .dataframe tbody tr th {\n",
       "        vertical-align: top;\n",
       "    }\n",
       "\n",
       "    .dataframe thead th {\n",
       "        text-align: right;\n",
       "    }\n",
       "</style>\n",
       "<table border=\"1\" class=\"dataframe\">\n",
       "  <thead>\n",
       "    <tr style=\"text-align: right;\">\n",
       "      <th></th>\n",
       "      <th>Feature</th>\n",
       "      <th>Metric</th>\n",
       "      <th>Value</th>\n",
       "    </tr>\n",
       "  </thead>\n",
       "  <tbody>\n",
       "    <tr>\n",
       "      <th>0</th>\n",
       "      <td>HFO</td>\n",
       "      <td>AUC</td>\n",
       "      <td>0.787879</td>\n",
       "    </tr>\n",
       "    <tr>\n",
       "      <th>1</th>\n",
       "      <td>HFO</td>\n",
       "      <td>AUC</td>\n",
       "      <td>0.656566</td>\n",
       "    </tr>\n",
       "    <tr>\n",
       "      <th>2</th>\n",
       "      <td>HFO</td>\n",
       "      <td>AUC</td>\n",
       "      <td>0.727273</td>\n",
       "    </tr>\n",
       "    <tr>\n",
       "      <th>3</th>\n",
       "      <td>HFO</td>\n",
       "      <td>AUC</td>\n",
       "      <td>0.555556</td>\n",
       "    </tr>\n",
       "    <tr>\n",
       "      <th>4</th>\n",
       "      <td>HFO</td>\n",
       "      <td>AUC</td>\n",
       "      <td>0.707071</td>\n",
       "    </tr>\n",
       "  </tbody>\n",
       "</table>\n",
       "</div>"
      ],
      "text/plain": [
       "  Feature Metric     Value\n",
       "0     HFO    AUC  0.787879\n",
       "1     HFO    AUC  0.656566\n",
       "2     HFO    AUC  0.727273\n",
       "3     HFO    AUC  0.555556\n",
       "4     HFO    AUC  0.707071"
      ]
     },
     "metadata": {},
     "output_type": "display_data"
    }
   ],
   "source": [
    "df = pd.melt(\n",
    "    comp_df,\n",
    "    id_vars=[\"Feature\"],\n",
    "    value_name=\"Value\",\n",
    "    var_name=\"Metric\",\n",
    ")\n",
    "\n",
    "display(df.head())"
   ]
  },
  {
   "cell_type": "code",
   "execution_count": 64,
   "metadata": {},
   "outputs": [
    {
     "name": "stderr",
     "output_type": "stream",
     "text": [
      "/opt/conda/lib/python3.8/site-packages/seaborn/categorical.py:3002: UserWarning: The `split` parameter has been renamed to `dodge`.\n",
      "  warnings.warn(msg, UserWarning)\n"
     ]
    },
    {
     "data": {
      "image/png": "[encoded data removed]",
      "text/plain": [
       "<Figure size 720x432 with 1 Axes>"
      ]
     },
     "metadata": {
      "needs_background": "light"
     },
     "output_type": "display_data"
    }
   ],
   "source": [
    "fig, ax = plt.subplots(figsize=(10, 6))\n",
    "sns.boxplot(\n",
    "    x=\"Metric\", y=\"Value\", hue=\"Feature\", data=df, ax=ax, boxprops=dict(alpha=0.4)\n",
    ")\n",
    "sns.swarmplot(x=\"Metric\", y=\"Value\", hue=\"Feature\", data=df, ax=ax, split=True)\n",
    "\n",
    "handles, labels = ax.get_legend_handles_labels()\n",
    "ax.legend(handles[:2], labels[:2])\n",
    "ax.set(\n",
    "    xlabel=\"Cross-Validated Metric\",\n",
    "    ylabel=\"Test Set Metric Value\",\n",
    ")\n",
    "fig.savefig(figure_dir / \"compare_metrics.pdf\", bbox_inches=\"tight\")"
   ]
  },
  {
   "cell_type": "markdown",
   "metadata": {},
   "source": [
    "# Look at Feature Importances"
   ]
  },
  {
   "cell_type": "code",
   "execution_count": 88,
   "metadata": {},
   "outputs": [],
   "source": [
    "scores = ss_scores"
   ]
  },
  {
   "cell_type": "code",
   "execution_count": 89,
   "metadata": {},
   "outputs": [
    {
     "name": "stdout",
     "output_type": "stream",
     "text": [
      "dict_keys(['fit_time', 'score_time', 'test_roc_auc', 'train_roc_auc', 'test_accuracy', 'train_accuracy', 'test_balanced_accuracy', 'train_balanced_accuracy', 'test_average_precision', 'train_average_precision', 'test_precision', 'train_precision', 'test_neg_brier_score', 'train_neg_brier_score', 'test_recall', 'train_recall', 'test_f1', 'train_f1', 'test_fraction_pos', 'test_mean_pred_value', 'test_fpr', 'test_tpr', 'test_fnr', 'test_tnr', 'test_thresholds', 'train_fraction_pos', 'train_mean_pred_value', 'train_y_pred_proba', 'train_fpr', 'train_tpr', 'train_fnr', 'train_tnr', 'train_thresholds', 'train_subjects', 'test_subjects', 'test_y_pred_proba', 'test_importances', 'test_specificity'])\n"
     ]
    }
   ],
   "source": [
    "print(scores.keys())"
   ]
  },
  {
   "cell_type": "code",
   "execution_count": 93,
   "metadata": {},
   "outputs": [
    {
     "name": "stdout",
     "output_type": "stream",
     "text": [
      "10\n"
     ]
    }
   ],
   "source": [
    "importances = scores[\"test_importances\"]\n",
    "print(len(importances))"
   ]
  },
  {
   "cell_type": "code",
   "execution_count": null,
   "metadata": {},
   "outputs": [],
   "source": [
    "mean_imp = scores[\"test_neg_brier_score\"]\n",
    "std_imp = scores[\"test_\"]"
   ]
  },
  {
   "cell_type": "code",
   "execution_count": null,
   "metadata": {},
   "outputs": [],
   "source": []
  }
 ],
 "metadata": {
  "kernelspec": {
   "display_name": "episcalp",
   "language": "python",
   "name": "episcalp"
  },
  "language_info": {
   "codemirror_mode": {
    "name": "ipython",
    "version": 3
   },
   "file_extension": ".py",
   "mimetype": "text/x-python",
   "name": "python",
   "nbconvert_exporter": "python",
   "pygments_lexer": "ipython3",
   "version": "3.8.7"
  }
 },
 "nbformat": 4,
 "nbformat_minor": 5
}
