{
 "cells": [
  {
   "cell_type": "markdown",
   "id": "41d1b495-befc-47e9-bf60-58bf9f6c1368",
   "metadata": {
    "tags": []
   },
   "source": [
    "# Autoreject and Windowed Derivative Analysis"
   ]
  },
  {
   "cell_type": "code",
   "execution_count": 1,
   "id": "18443247-a10d-4bb0-81ad-e30627da8405",
   "metadata": {},
   "outputs": [],
   "source": [
    "# comment if you don't have nb_black installed\n",
    "%load_ext lab_black"
   ]
  },
  {
   "cell_type": "code",
   "execution_count": 46,
   "id": "ad09c91f-6f44-4cf6-a1f5-ec2d96072cd0",
   "metadata": {},
   "outputs": [
    {
     "name": "stdout",
     "output_type": "stream",
     "text": [
      "The autoreload extension is already loaded. To reload it, use:\n",
      "  %reload_ext autoreload\n"
     ]
    }
   ],
   "source": [
    "import numpy as np\n",
    "import scipy\n",
    "import scipy.io\n",
    "import pandas as pd\n",
    "from pathlib import Path\n",
    "import os\n",
    "import collections\n",
    "from natsort import natsorted\n",
    "import json\n",
    "import pickle\n",
    "import warnings\n",
    "import sys\n",
    "from copy import copy, deepcopy\n",
    "\n",
    "warnings.filterwarnings(\"ignore\")\n",
    "\n",
    "import mne\n",
    "from mne import make_fixed_length_epochs\n",
    "\n",
    "mne.set_log_level(\"ERROR\")\n",
    "from mne_bids import BIDSPath, get_entities_from_fname, get_entity_vals, read_raw_bids\n",
    "import autoreject\n",
    "from autoreject import AutoReject, read_auto_reject\n",
    "\n",
    "from sklearn.preprocessing import OrdinalEncoder, LabelBinarizer, LabelEncoder\n",
    "from sklearn.multiclass import OneVsRestClassifier\n",
    "from sklearn.dummy import DummyClassifier\n",
    "from sklearn.ensemble import RandomForestClassifier\n",
    "from sklearn.linear_model import LogisticRegression\n",
    "from sklearn.calibration import calibration_curve\n",
    "from sklearn.metrics import (\n",
    "    brier_score_loss,\n",
    "    roc_curve,\n",
    "    average_precision_score,\n",
    "    roc_auc_score,\n",
    "    f1_score,\n",
    "    recall_score,\n",
    "    jaccard_score,\n",
    "    balanced_accuracy_score,\n",
    "    accuracy_score,\n",
    "    auc,\n",
    "    precision_score,\n",
    "    plot_precision_recall_curve,\n",
    "    average_precision_score,\n",
    "    precision_recall_curve,\n",
    "    confusion_matrix,\n",
    "    cohen_kappa_score,\n",
    "    make_scorer,\n",
    "    precision_recall_fscore_support,\n",
    ")\n",
    "from sklearn.inspection import permutation_importance\n",
    "from sklearn.model_selection import (\n",
    "    StratifiedGroupKFold,\n",
    "    cross_validate,\n",
    "    StratifiedShuffleSplit,\n",
    "    LeaveOneGroupOut,\n",
    ")\n",
    "from sklearn.utils import resample\n",
    "import sklearn\n",
    "from sklearn import preprocessing\n",
    "from sklearn.pipeline import make_pipeline\n",
    "\n",
    "import mne\n",
    "from mne.time_frequency import read_tfrs\n",
    "\n",
    "mne.set_log_level(\"ERROR\")\n",
    "from mne_bids import BIDSPath, get_entities_from_fname, get_entity_vals, read_raw_bids\n",
    "\n",
    "from eztrack.io import read_derivative_npy\n",
    "\n",
    "sys.path.append(\"../../\")\n",
    "from episcalp.features import spike_feature_vector\n",
    "from episcalp.io.read import (\n",
    "    load_persyst_spikes,\n",
    "    load_reject_log,\n",
    "    load_derivative_heatmaps,\n",
    "    map_rejectlog_to_deriv,\n",
    ")\n",
    "from episcalp.utils.utils import NumpyEncoder\n",
    "\n",
    "# if you installed sporf via README\n",
    "from oblique_forests.sporf import ObliqueForestClassifier\n",
    "\n",
    "import matplotlib as mpl\n",
    "import matplotlib.pyplot as plt\n",
    "import seaborn as sns\n",
    "import re\n",
    "\n",
    "%load_ext autoreload\n",
    "%autoreload 2\n",
    "%matplotlib inline"
   ]
  },
  {
   "cell_type": "markdown",
   "id": "6be3ba7b-3f52-42d1-a2cc-2ab6920d2225",
   "metadata": {
    "tags": []
   },
   "source": [
    "# Define Data Directories"
   ]
  },
  {
   "cell_type": "code",
   "execution_count": 7,
   "id": "1a6aac2a-97b6-442a-88c7-f6db2d521769",
   "metadata": {},
   "outputs": [],
   "source": [
    "jhroot = Path(\"/Users/adam2392/Johns Hopkins/Scalp EEG JHH - Documents/bids/\")\n",
    "jeffroot = Path(\"/Users/adam2392/Johns Hopkins/Jefferson_Scalp - Documents/root/\")\n",
    "\n",
    "# not ready yet\n",
    "upmcroot = Path(\"/Users/adam2392/Johns Hopkins/UPMC_Scalp - Documents/\")"
   ]
  },
  {
   "cell_type": "code",
   "execution_count": 24,
   "id": "05e323fe-8e72-409f-9cbf-32ce1a9b6d5d",
   "metadata": {},
   "outputs": [],
   "source": [
    "jh_ica_root = jhroot / \"derivatives\" / \"ICA\" / \"1-30Hz-30\" / \"win-20\"\n",
    "jeff_ica_root = jeffroot / \"derivatives\" / \"ICA\" / \"1-30Hz-30\" / \"win-20\""
   ]
  },
  {
   "cell_type": "code",
   "execution_count": 3,
   "id": "6fd33840-7d53-4776-8046-5475b77b2310",
   "metadata": {},
   "outputs": [],
   "source": [
    "reference = \"monopolar\"\n",
    "radius = \"1.25\"\n",
    "\n",
    "# define derivative chains\n",
    "ss_deriv_chain = Path(\"sourcesink\") / reference\n",
    "frag_deriv_chain = Path(\"fragility\") / f\"radius{radius}\" / reference\n",
    "\n",
    "delta_tfr_deriv_chain = Path(\"tfr\") / \"delta\"\n",
    "theta_tfr_deriv_chain = Path(\"tfr\") / \"theta\"\n",
    "alpha_tfr_deriv_chain = Path(\"tfr\") / \"alpha\"\n",
    "beta_tfr_deriv_chain = Path(\"tfr\") / \"beta\""
   ]
  },
  {
   "cell_type": "code",
   "execution_count": 26,
   "id": "ea0e0caa-7c0f-4210-8464-52f119fd0294",
   "metadata": {},
   "outputs": [
    {
     "name": "stdout",
     "output_type": "stream",
     "text": [
      "Loading data for subjects: ['jhh001', 'jhh002', 'jhh003', 'jhh004', 'jhh005', 'jhh006', 'jhh007', 'jhh008', 'jhh009', 'jhh010', 'jhh011', 'jhh012', 'jhh013', 'jhh014', 'jhh015', 'jhh016', 'jhh017', 'jhh018', 'jhh019', 'jhh020', 'jhh021', 'jhh022', 'jhh023', 'jhh024', 'jhh025', 'jhh026', 'jhh027', 'jhh028', 'jhh029', 'jhh030', 'jhh101', 'jhh102', 'jhh103', 'jhh104', 'jhh105', 'jhh106', 'jhh107', 'jhh108', 'jhh109', 'jhh110', 'jhh111', 'jhh112', 'jhh113', 'jhh114', 'jhh115', 'jhh116', 'jhh117', 'jhh118', 'jhh119', 'jhh120', 'jhh121', 'jhh122', 'jhh124', 'jhh125', 'jhh126', 'jhh127', 'jhh128', 'jhh201', 'jhh202', 'jhh203', 'jhh204', 'jhh205', 'jhh206', 'jhh207', 'jhh208', 'jhh209', 'jhh210', 'jhh211', 'jhh212', 'jhh213', 'jhh214', 'jhh215', 'jhh216', 'jhh217', 'jhh218', 'jhh219', 'jhh220', 'jhh221', 'jhh222', 'jhh223', 'jhh224', 'jhh225', 'jhh226', 'jhh227', 'jhh228', 'jhh229'] from /Users/adam2392/Johns Hopkins/Scalp EEG JHH - Documents/bids/derivatives/fragility/radius1.25/monopolar\n",
      "Loading data for subjects: ['jeff001', 'jeff002', 'jeff101', 'jeff102', 'jeff201', 'jeff202', 'jeff203', 'jeff204', 'jeff205', 'jeff206', 'jeff207', 'jeff208', 'jeff209', 'jeff210'] from /Users/adam2392/Johns Hopkins/Jefferson_Scalp - Documents/root/derivatives/fragility/radius1.25/monopolar\n"
     ]
    }
   ],
   "source": [
    "jh_dataset = load_derivative_heatmaps(\n",
    "    jhroot / \"derivatives\" / frag_deriv_chain,\n",
    "    search_str=\"*desc-perturbmatrix*.npy\",\n",
    "    read_func=read_derivative_npy,\n",
    "    subjects=None,\n",
    "    verbose=True,\n",
    ")\n",
    "jeff_dataset = load_derivative_heatmaps(\n",
    "    jeffroot / \"derivatives\" / frag_deriv_chain,\n",
    "    search_str=\"*desc-perturbmatrix*.npy\",\n",
    "    read_func=read_derivative_npy,\n",
    "    subjects=None,\n",
    "    verbose=True,\n",
    ")"
   ]
  },
  {
   "cell_type": "code",
   "execution_count": 18,
   "id": "acd29f03-6b47-45a5-9d51-513617de6a5c",
   "metadata": {},
   "outputs": [
    {
     "name": "stdout",
     "output_type": "stream",
     "text": [
      "<DerivativeInfo | 17 non-empty values\n",
      " DerivativeFileName: sub-jhh001_run-01_desc-perturbmatrix_eeg.npy\n",
      " ch_axis: 1 item (list)\n",
      " ch_names: Fp1, Fp2, F3, F4, P3, P4, O1, O2, F7, F8, T3, T4, T5, T6\n",
      " chs: 14 EEG\n",
      " datatype: eeg\n",
      " description: perturbmatrix\n",
      " meas_date: 2021-10-05 09:37:34 UTC\n",
      " model_parameters: 3 items (dict)\n",
      " nchan: 14\n",
      " rawsources: 1 item (list)\n",
      " reference: monopolar\n",
      " root: D:/OneDriveParent/OneDrive - Johns Hopkins/Shared ...\n",
      " sfreq: 0.8 Hz\n",
      " source_entities: 9 items (dict)\n",
      " source_info: 14 items (dict)\n",
      " sources: 1 item (list)\n",
      " t_axis: 1 item (list)\n",
      ">\n"
     ]
    }
   ],
   "source": [
    "print(jh_dataset[\"data\"][0].info)"
   ]
  },
  {
   "cell_type": "markdown",
   "id": "f17c60fc-cddc-4a9c-92f2-f93cd32abcab",
   "metadata": {
    "tags": []
   },
   "source": [
    "# Load Previously Ran Autoreject and Filter Epochs"
   ]
  },
  {
   "cell_type": "code",
   "execution_count": 8,
   "id": "cf4460fb-3d23-4a4c-9fd3-ae7af7334e74",
   "metadata": {},
   "outputs": [],
   "source": [
    "verbose = False"
   ]
  },
  {
   "cell_type": "code",
   "execution_count": 51,
   "id": "764ed939-f738-473d-9f42-234c48038a63",
   "metadata": {},
   "outputs": [],
   "source": [
    "# reformat the channel spike dataframes based on autoreject logs\n",
    "for dataset, deriv_root in zip(\n",
    "    [jh_dataset, jeff_dataset], [jh_ica_root, jeff_ica_root]\n",
    "):\n",
    "    subjects = dataset[\"subject\"]\n",
    "\n",
    "    # loop through each dataset and preprocess the channel spike\n",
    "    # dataframes based on the autoreject log\n",
    "    for idx in range(len(subjects)):\n",
    "        subject = subjects[idx]\n",
    "\n",
    "        # get the channel spike df and bids path\n",
    "        data = dataset[\"data\"][idx]\n",
    "        bids_path = dataset[\"bids_path\"][idx]\n",
    "        bids_path.update(root=deriv_root)\n",
    "\n",
    "        # load in the reject log\n",
    "        raw = read_raw_bids(bids_path)\n",
    "        reject_log = load_reject_log(bids_path)\n",
    "\n",
    "        # get spikes not in bad epochs\n",
    "        bad_epochs = reject_log.bad_epochs\n",
    "        bad_epoch_idx = np.argwhere(bad_epochs)\n",
    "        events = mne.make_fixed_length_events(\n",
    "            raw, id=1, start=0, stop=None, duration=1.0, first_samp=True, overlap=0.0\n",
    "        )\n",
    "\n",
    "        bad_events = events[bad_epoch_idx, :]\n",
    "        assert len(events) == len(bad_epochs)\n",
    "\n",
    "        deriv = jh_dataset[\"data\"][0]\n",
    "        winsize = 500\n",
    "        n_windows = deriv.shape[1]\n",
    "        deriv_onsets = np.arange(n_windows) * winsize\n",
    "        duration = 200\n",
    "\n",
    "        # get the bad window indices\n",
    "        bad_win_index = map_rejectlog_to_deriv(\n",
    "            deriv_onsets,\n",
    "            winsize,\n",
    "            rejectlog_events=bad_events.squeeze(),\n",
    "            rejectlog_duration=duration,\n",
    "        )\n",
    "\n",
    "        break\n",
    "    break"
   ]
  },
  {
   "cell_type": "code",
   "execution_count": 52,
   "id": "b51ac3bb-8ac3-43ce-98a7-c6cd79782889",
   "metadata": {},
   "outputs": [
    {
     "name": "stdout",
     "output_type": "stream",
     "text": [
      "[132, 133, 223, 224, 256, 257, 290, 291]\n",
      "[[ 66400      0      1]\n",
      " [112000      0      1]\n",
      " [128400      0      1]\n",
      " [129200      0      1]\n",
      " [145400      0      1]\n",
      " [149200      0      1]]\n",
      "66500\n"
     ]
    }
   ],
   "source": [
    "print(bad_win_index)\n",
    "print(bad_events.squeeze())\n",
    "print(500 * 133)"
   ]
  },
  {
   "cell_type": "code",
   "execution_count": null,
   "id": "d63f37b8-8673-45a1-8759-0169079272ba",
   "metadata": {},
   "outputs": [],
   "source": []
  }
 ],
 "metadata": {
  "kernelspec": {
   "display_name": "episcalp",
   "language": "python",
   "name": "episcalp"
  },
  "language_info": {
   "codemirror_mode": {
    "name": "ipython",
    "version": 3
   },
   "file_extension": ".py",
   "mimetype": "text/x-python",
   "name": "python",
   "nbconvert_exporter": "python",
   "pygments_lexer": "ipython3",
   "version": "3.8.12"
  }
 },
 "nbformat": 4,
 "nbformat_minor": 5
}
