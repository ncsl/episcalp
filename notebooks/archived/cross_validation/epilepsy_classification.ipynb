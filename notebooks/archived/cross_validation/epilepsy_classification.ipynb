{
 "cells": [
  {
   "cell_type": "markdown",
   "metadata": {
    "tags": []
   },
   "source": [
    "# Feature Validation Analysis - Scalp EEG\n",
    "\n",
    "Here, we run through a validation analysis of scalp EEG data for the purposes of predicting epilepsy."
   ]
  },
  {
   "cell_type": "code",
   "execution_count": 1,
   "metadata": {},
   "outputs": [],
   "source": [
    "# comment if you don't have nb_black installed\n",
    "%load_ext lab_black"
   ]
  },
  {
   "cell_type": "code",
   "execution_count": 19,
   "metadata": {
    "tags": []
   },
   "outputs": [
    {
     "name": "stdout",
     "output_type": "stream",
     "text": [
      "The autoreload extension is already loaded. To reload it, use:\n",
      "  %reload_ext autoreload\n"
     ]
    }
   ],
   "source": [
    "import numpy as np\n",
    "import scipy\n",
    "import scipy.io\n",
    "import pandas as pd\n",
    "from pathlib import Path\n",
    "import os\n",
    "import collections\n",
    "from natsort import natsorted\n",
    "import json\n",
    "import pickle\n",
    "import warnings\n",
    "import sys\n",
    "\n",
    "from numpy.testing import assert_array_equal\n",
    "\n",
    "warnings.filterwarnings(\"ignore\")\n",
    "\n",
    "from sklearn.preprocessing import OrdinalEncoder\n",
    "from sklearn.dummy import DummyClassifier\n",
    "from sklearn.ensemble import RandomForestClassifier\n",
    "from sklearn.linear_model import LogisticRegression\n",
    "from sklearn.calibration import calibration_curve\n",
    "from sklearn.metrics import (\n",
    "    brier_score_loss,\n",
    "    roc_curve,\n",
    "    average_precision_score,\n",
    "    roc_auc_score,\n",
    "    f1_score,\n",
    "    balanced_accuracy_score,\n",
    "    accuracy_score,\n",
    "    auc,\n",
    "    plot_precision_recall_curve,\n",
    "    average_precision_score,\n",
    "    precision_recall_curve,\n",
    "    confusion_matrix,\n",
    ")\n",
    "from sklearn.inspection import permutation_importance\n",
    "from sklearn.model_selection import (\n",
    "    StratifiedGroupKFold,\n",
    "    cross_validate,\n",
    "    StratifiedShuffleSplit,\n",
    ")\n",
    "\n",
    "from sklearn.utils import resample\n",
    "\n",
    "import mne\n",
    "from mne.time_frequency import read_tfrs\n",
    "\n",
    "mne.set_log_level(\"ERROR\")\n",
    "from mne_bids import BIDSPath, get_entities_from_fname, get_entity_vals, read_raw_bids\n",
    "\n",
    "from eztrack.io import read_derivative_npy\n",
    "\n",
    "sys.path.append(\"../../\")\n",
    "from episcalp.scripts.spikes.summary import _get_spike_annots\n",
    "from episcalp.cross_validate import get_X_features, load_derived_datasets\n",
    "from episcalp.utils.utils import NumpyEncoder\n",
    "\n",
    "# if you installed sporf via README\n",
    "from oblique_forests.sporf import ObliqueForestClassifier\n",
    "\n",
    "import matplotlib as mpl\n",
    "import matplotlib.pyplot as plt\n",
    "import seaborn as sns\n",
    "import re\n",
    "\n",
    "%load_ext autoreload\n",
    "%autoreload 2\n",
    "%matplotlib inline"
   ]
  },
  {
   "cell_type": "code",
   "execution_count": 3,
   "metadata": {},
   "outputs": [],
   "source": [
    "from episcalp.preprocess.montage import _standard_lobes"
   ]
  },
  {
   "cell_type": "code",
   "execution_count": 4,
   "metadata": {},
   "outputs": [
    {
     "name": "stdout",
     "output_type": "stream",
     "text": [
      "1.1.dev0\n"
     ]
    }
   ],
   "source": [
    "import sklearn\n",
    "\n",
    "# this should be at least 1.0\n",
    "print(sklearn.__version__)"
   ]
  },
  {
   "cell_type": "code",
   "execution_count": 6,
   "metadata": {},
   "outputs": [],
   "source": [
    "from sklearn import preprocessing\n",
    "\n",
    "enc = preprocessing.OrdinalEncoder()"
   ]
  },
  {
   "cell_type": "code",
   "execution_count": 7,
   "metadata": {},
   "outputs": [],
   "source": [
    "def convert_experimental_cond_to_y(experimental_condition_list):\n",
    "    \"\"\"Encoder for y labels.\"\"\"\n",
    "    # Group name keys, assigned y-label values\n",
    "    experimental_condition_map = {\n",
    "        \"non-epilepsy-normal-eeg\": 0,\n",
    "        \"epilepsy-normal-eeg\": 1,\n",
    "        \"epilepsy-abnormal-eeg\": 2,\n",
    "    }\n",
    "    return [experimental_condition_map[cond] for cond in experimental_condition_list]"
   ]
  },
  {
   "cell_type": "markdown",
   "metadata": {
    "tags": []
   },
   "source": [
    "# Define possible helper functions"
   ]
  },
  {
   "cell_type": "code",
   "execution_count": 8,
   "metadata": {},
   "outputs": [],
   "source": [
    "def _compute_spike_rates(raw):\n",
    "    raw.pick_types(eeg=True)\n",
    "    raw.drop_channels(raw.info[\"bads\"])\n",
    "    ch_spike_rates = dict()\n",
    "\n",
    "    # extract spike annotations\n",
    "    spike_annots = _get_spike_annots(raw)\n",
    "    if len(spike_annots) == 0:\n",
    "        for ch_name in raw.ch_names:\n",
    "            ch_spike_rates[ch_name] = 0\n",
    "        return ch_spike_rates\n",
    "\n",
    "    spike_df = spike_annots.to_data_frame()\n",
    "\n",
    "    for ch_name in raw.ch_names:\n",
    "        if any(ch_name in tup for tup in spike_df[\"ch_names\"]):\n",
    "            ch_spike_rates[ch_name] = len(\n",
    "                spike_df[\n",
    "                    spike_df[\"ch_names\"].apply(\n",
    "                        lambda x: True if ch_name in x else False\n",
    "                    )\n",
    "                ]\n",
    "            )\n",
    "        else:\n",
    "            ch_spike_rates[ch_name] = 0\n",
    "\n",
    "    return ch_spike_rates"
   ]
  },
  {
   "cell_type": "code",
   "execution_count": 9,
   "metadata": {},
   "outputs": [],
   "source": [
    "class NumpyEncoder(json.JSONEncoder):\n",
    "    \"\"\"Special json encoder for numpy types.\n",
    "\n",
    "    Pass to json.dump(), or json.load().\n",
    "    \"\"\"\n",
    "\n",
    "    def default(self, obj):  # noqa\n",
    "        if isinstance(\n",
    "            obj,\n",
    "            (\n",
    "                np.int_,\n",
    "                np.intc,\n",
    "                np.intp,\n",
    "                np.int8,\n",
    "                np.int16,\n",
    "                np.int32,\n",
    "                np.int64,\n",
    "                np.uint8,\n",
    "                np.uint16,\n",
    "                np.uint32,\n",
    "                np.uint64,\n",
    "            ),\n",
    "        ):\n",
    "            return int(obj)\n",
    "        elif isinstance(obj, (np.float_, np.float16, np.float32, np.float64)):\n",
    "            return float(obj)\n",
    "        elif isinstance(obj, (np.ndarray,)):  # This is the fix\n",
    "            return obj.tolist()\n",
    "        elif isinstance(obj, (datetime, date)):\n",
    "            return obj.isoformat()\n",
    "        return json.JSONEncoder.default(self, obj)"
   ]
  },
  {
   "cell_type": "code",
   "execution_count": 10,
   "metadata": {},
   "outputs": [],
   "source": [
    "def plot_subject_feature_map(dataset, desired_subject, feature_name):\n",
    "    for idx, subject in enumerate(dataset[\"subject\"]):\n",
    "        if subject != desired_subject:\n",
    "            continue\n",
    "\n",
    "        # get the metadata\n",
    "        ch_names = dataset[\"ch_names\"][idx]\n",
    "\n",
    "        # get the data\n",
    "        feature_map = dataset[feature_name][idx]\n",
    "\n",
    "        x = np.arange(feature_map.shape[1])\n",
    "\n",
    "        sns.set_context(\"paper\", font_scale=1.75)\n",
    "        fig, ax = plt.subplots()\n",
    "\n",
    "        y_mean = feature_map.mean(axis=0)\n",
    "        y_sem = scipy.stats.sem(feature_map, axis=0)\n",
    "        ax.plot(x, y_mean, color=\"red\")\n",
    "        ax.fill_between(x, y_mean - y_sem, y_mean + y_sem, color=\"red\", alpha=0.5)\n",
    "\n",
    "        ax.set(\n",
    "            title=f\"Subject {subject} - {feature_name}\",\n",
    "            xlabel=\"Time (A.U.)\",\n",
    "            ylabel=f\"{feature_name} Value\",\n",
    "        )\n",
    "        ax.legend()\n",
    "        break"
   ]
  },
  {
   "cell_type": "code",
   "execution_count": 11,
   "metadata": {},
   "outputs": [],
   "source": [
    "def _load_subject_derivs(deriv_path, read_func, subjects=None, search_str=\"*.npy\"):\n",
    "    if subjects is None:\n",
    "        subjects = get_entity_vals(deriv_path, \"subject\")\n",
    "\n",
    "    print(f\"Loading data for subjects: {subjects}\")\n",
    "\n",
    "    dataset = collections.defaultdict(list)\n",
    "    for subject in subjects:\n",
    "        subj_path = deriv_path / f\"sub-{subject}\"\n",
    "\n",
    "        # get all files of certain search_str\n",
    "        fpaths = subj_path.glob(search_str)\n",
    "\n",
    "        # now load in all file paths\n",
    "        for fpath in fpaths:\n",
    "            deriv = read_func(fpath, source_check=False)\n",
    "\n",
    "            # extract data\n",
    "            ch_names = deriv.ch_names\n",
    "            deriv_data = deriv.get_data()\n",
    "\n",
    "            dataset[\"subject\"].append(subject)\n",
    "            dataset[\"data\"].append(deriv_data)\n",
    "            dataset[\"ch_names\"].append(ch_names)\n",
    "\n",
    "    return dataset"
   ]
  },
  {
   "cell_type": "code",
   "execution_count": 12,
   "metadata": {},
   "outputs": [],
   "source": [
    "def _load_subject_tfrs(deriv_path, subjects=None, search_str=\"*.h5\"):\n",
    "    if subjects is None:\n",
    "        subjects = get_entity_vals(deriv_path, \"subject\")\n",
    "\n",
    "    print(f\"Loading data for subjects: {subjects}\")\n",
    "\n",
    "    dataset = collections.defaultdict(list)\n",
    "    for subject in subjects:\n",
    "        subj_path = deriv_path / f\"sub-{subject}\"\n",
    "\n",
    "        # get all files of certain search_str\n",
    "        fpaths = subj_path.glob(search_str)\n",
    "\n",
    "        # now load in all file paths\n",
    "        for fpath in fpaths:\n",
    "            epochs_tfr = read_tfrs(fpath)[0]\n",
    "\n",
    "            # extract data\n",
    "            ch_names = epochs_tfr.ch_names\n",
    "\n",
    "            deriv_data = epochs_tfr.data\n",
    "            deriv_data = _preprocess_epochs_tfr(deriv_data)\n",
    "            dataset[\"subject\"].append(subject)\n",
    "            dataset[\"data\"].append(deriv_data)\n",
    "            dataset[\"ch_names\"].append(ch_names)\n",
    "    return dataset\n",
    "\n",
    "\n",
    "def _preprocess_epochs_tfr(data):\n",
    "    assert data.ndim == 4\n",
    "\n",
    "    # take the average over frequencies\n",
    "    data = np.mean(data, axis=2)\n",
    "\n",
    "    # move the epoch (\"window\") axis to last\n",
    "    data = np.moveaxis(data, 0, -2)\n",
    "\n",
    "    # compress the time axis\n",
    "    data = np.mean(data, axis=-1)\n",
    "\n",
    "    # convert to dB\n",
    "    data = 20 * np.log10(data)\n",
    "\n",
    "    data = np.reshape(data, (data.shape[0], -1))\n",
    "    return data"
   ]
  },
  {
   "cell_type": "code",
   "execution_count": 13,
   "metadata": {},
   "outputs": [],
   "source": [
    "def _load_subject_spikes(root, subjects=None, search_str=\"*.edf\"):\n",
    "    if subjects is None:\n",
    "        subjects = get_entity_vals(root, \"subject\")\n",
    "\n",
    "    print(f\"Loading data for subjects: {subjects}\")\n",
    "\n",
    "    dataset = collections.defaultdict(list)\n",
    "    for subject in subjects:\n",
    "        subj_path = root / f\"sub-{subject}\"\n",
    "\n",
    "        # get all files of certain search_str\n",
    "        fpaths = subj_path.glob(search_str)\n",
    "\n",
    "        # now load in all file paths\n",
    "        for fpath in fpaths:\n",
    "            raw = read_raw_bids(fpath)\n",
    "\n",
    "            # extract data\n",
    "            ch_names = deriv.ch_names\n",
    "            deriv_data = deriv.get_data()\n",
    "\n",
    "            dataset[\"subject\"].append(subject)\n",
    "            dataset[\"data\"].append(deriv_data)\n",
    "            dataset[\"ch_names\"].append(ch_names)\n",
    "\n",
    "    return dataset"
   ]
  },
  {
   "cell_type": "code",
   "execution_count": 16,
   "metadata": {},
   "outputs": [],
   "source": [
    "def _get_exp_condition(subject, root):\n",
    "    part_fname = os.path.join(root, \"participants.tsv\")\n",
    "    df = pd.read_csv(part_fname, sep=\"\\t\")\n",
    "\n",
    "    if not subject.startswith(\"sub-\"):\n",
    "        subject = f\"sub-{subject}\"\n",
    "\n",
    "    return df[df[\"participant_id\"] == subject]"
   ]
  },
  {
   "cell_type": "code",
   "execution_count": 17,
   "metadata": {},
   "outputs": [],
   "source": [
    "def _features_from_spatiotemporal_heatmap(deriv_data):\n",
    "    # stacks channel feature vector\n",
    "    features = np.hstack(\n",
    "        (\n",
    "            deriv_data.mean(axis=1),\n",
    "            deriv_data.std(axis=1),\n",
    "        ),\n",
    "        #         axis=0,\n",
    "    )\n",
    "    return features"
   ]
  },
  {
   "cell_type": "code",
   "execution_count": 18,
   "metadata": {},
   "outputs": [],
   "source": [
    "def get_Xy_matrix(dataset, feature_set):\n",
    "    X = []\n",
    "    y = []\n",
    "    subjects = []\n",
    "\n",
    "    for idx, subject in enumerate(dataset[\"subject\"]):\n",
    "        X_buff = []\n",
    "        for feature_name in feature_set:\n",
    "            feature = dataset[feature_name][idx]\n",
    "            if isinstance(feature, float):\n",
    "                feat = [feature]\n",
    "            elif isinstance(feature, np.ndarray):\n",
    "                feat = list(feature)\n",
    "            else:\n",
    "                feat = feature\n",
    "            feat = [feature] if isinstance(feature, float) else feature\n",
    "            X_buff.extend(feat)\n",
    "        X_buff = np.array(X_buff)\n",
    "\n",
    "        X.append(X_buff)\n",
    "        y.append(dataset[\"group\"][idx] > 0)\n",
    "        subjects.append(subject)\n",
    "    return X, y, subjects"
   ]
  },
  {
   "cell_type": "markdown",
   "metadata": {
    "tags": []
   },
   "source": [
    "# Define data directories"
   ]
  },
  {
   "cell_type": "code",
   "execution_count": 15,
   "metadata": {},
   "outputs": [],
   "source": [
    "jhroot = Path(\"/Users/adam2392/Johns Hopkins/Scalp EEG JHH - Documents/bids/\")\n",
    "jeffroot = Path(\"/Users/adam2392/Johns Hopkins/Jefferson_Scalp - Documents/root/\")\n",
    "\n",
    "# not ready yet\n",
    "upmcroot = Path(\"/Users/adam2392/Johns Hopkins/UPMC_Scalp - Documents/\")"
   ]
  },
  {
   "cell_type": "code",
   "execution_count": 16,
   "metadata": {},
   "outputs": [],
   "source": [
    "root = Path(\"D:/OneDriveParent/OneDrive - Johns Hopkins/Shared Documents/bids\")\n",
    "root = Path(\"/Users/adam2392/Johns Hopkins/Scalp EEG JHH - Documents/bids\")\n",
    "deriv_root = root / \"derivatives\"\n",
    "source_root = root / \"sourcedata\"\n",
    "\n",
    "reference = \"monopolar\"\n",
    "radius = \"1.25\"\n",
    "freq_band = \"delta\"\n",
    "\n",
    "# define derivative chains\n",
    "ss_deriv_chain = Path(\"sourcesink\") / reference\n",
    "frag_deriv_chain = Path(\"fragility\") / f\"radius{radius}\" / reference\n",
    "\n",
    "tfr_deriv_chain = Path(\"tfr\") / freq_band\n",
    "\n",
    "# define final path\n",
    "ss_deriv_dir = deriv_root / ss_deriv_chain\n",
    "frag_deriv_dir = deriv_root / frag_deriv_chain\n",
    "tfr_deriv_dir = deriv_root / tfr_deriv_chain"
   ]
  },
  {
   "cell_type": "code",
   "execution_count": 17,
   "metadata": {},
   "outputs": [
    {
     "name": "stdout",
     "output_type": "stream",
     "text": [
      "/Users/adam2392/Johns Hopkins/Scalp EEG JHH - Documents/bids/derivatives/fragility/radius1.25/monopolar\n"
     ]
    }
   ],
   "source": [
    "print(frag_deriv_dir)"
   ]
  },
  {
   "cell_type": "markdown",
   "metadata": {
    "tags": []
   },
   "source": [
    "# Load Time Frequency Feature"
   ]
  },
  {
   "cell_type": "code",
   "execution_count": 25,
   "metadata": {},
   "outputs": [
    {
     "name": "stdout",
     "output_type": "stream",
     "text": [
      "Loading data for subjects: ['jhh001', 'jhh002', 'jhh003', 'jhh004', 'jhh005', 'jhh006', 'jhh007', 'jhh008', 'jhh009', 'jhh010', 'jhh011', 'jhh012', 'jhh013', 'jhh014', 'jhh015', 'jhh016', 'jhh017', 'jhh018', 'jhh019', 'jhh020', 'jhh021', 'jhh022', 'jhh023', 'jhh024', 'jhh025', 'jhh026', 'jhh027', 'jhh028', 'jhh029', 'jhh030', 'jhh101', 'jhh102', 'jhh103', 'jhh104', 'jhh105', 'jhh106', 'jhh107', 'jhh108', 'jhh109', 'jhh110', 'jhh111', 'jhh112', 'jhh113', 'jhh114', 'jhh115', 'jhh116', 'jhh117', 'jhh118', 'jhh119', 'jhh120', 'jhh121', 'jhh122', 'jhh124', 'jhh125', 'jhh126', 'jhh127', 'jhh128', 'jhh201', 'jhh202', 'jhh203', 'jhh204', 'jhh205', 'jhh206', 'jhh207', 'jhh208', 'jhh209', 'jhh210', 'jhh211', 'jhh212', 'jhh213', 'jhh214', 'jhh215', 'jhh216', 'jhh217', 'jhh218', 'jhh219', 'jhh220', 'jhh221', 'jhh222', 'jhh223', 'jhh224', 'jhh225', 'jhh226', 'jhh227', 'jhh228', 'jhh229']\n",
      "0\n"
     ]
    },
    {
     "data": {
      "image/png": "[encoded data removed]",
      "text/plain": [
       "<Figure size 432x288 with 2 Axes>"
      ]
     },
     "metadata": {
      "needs_background": "light"
     },
     "output_type": "display_data"
    }
   ],
   "source": [
    "dataset = _load_subject_tfrs(tfr_deriv_dir)\n",
    "idx = 0\n",
    "sns.heatmap(\n",
    "    dataset[\"data\"][idx],\n",
    "    cbar_kws=dict(label=f\"dB {freq_band} power\"),\n",
    "    yticklabels=dataset[\"ch_names\"][idx],\n",
    ")\n"
   ]
  },
  {
   "cell_type": "code",
   "execution_count": 26,
   "metadata": {},
   "outputs": [
    {
     "name": "stdout",
     "output_type": "stream",
     "text": [
      "92\n"
     ]
    }
   ],
   "source": [
    "print(len(dataset[\"subject\"]))"
   ]
  },
  {
   "cell_type": "markdown",
   "metadata": {
    "tags": []
   },
   "source": [
    "# Load Fragility Features"
   ]
  },
  {
   "cell_type": "code",
   "execution_count": 41,
   "metadata": {},
   "outputs": [
    {
     "name": "stdout",
     "output_type": "stream",
     "text": [
      "Loading data for subjects: ['jhh001', 'jhh002', 'jhh003', 'jhh004', 'jhh005', 'jhh006', 'jhh007', 'jhh008', 'jhh009', 'jhh010', 'jhh011', 'jhh012', 'jhh013', 'jhh014', 'jhh015', 'jhh016', 'jhh017', 'jhh018', 'jhh019', 'jhh020', 'jhh021', 'jhh022', 'jhh023', 'jhh024', 'jhh025', 'jhh026', 'jhh027', 'jhh028', 'jhh029', 'jhh030', 'jhh101', 'jhh102', 'jhh103', 'jhh104', 'jhh105', 'jhh106', 'jhh107', 'jhh108', 'jhh109', 'jhh110', 'jhh111', 'jhh112', 'jhh113', 'jhh114', 'jhh115', 'jhh116', 'jhh117', 'jhh118', 'jhh119', 'jhh120', 'jhh121', 'jhh122', 'jhh124', 'jhh125', 'jhh126', 'jhh127', 'jhh128', 'jhh201', 'jhh202', 'jhh203', 'jhh204', 'jhh205', 'jhh206', 'jhh207', 'jhh208', 'jhh209', 'jhh210', 'jhh211', 'jhh212', 'jhh213', 'jhh214', 'jhh215', 'jhh216', 'jhh217', 'jhh218', 'jhh219', 'jhh220', 'jhh221', 'jhh222', 'jhh223', 'jhh224', 'jhh225', 'jhh226', 'jhh227', 'jhh228', 'jhh229']\n"
     ]
    }
   ],
   "source": [
    "dataset = _load_subject_derivs(\n",
    "    fra`g_deriv_dir,\n",
    "    read_func=read_derivative_npy,\n",
    "    subjects=None,\n",
    "    search_str=\"*desc-perturbmatrix*.npy\",\n",
    ")"
   ]
  },
  {
   "cell_type": "markdown",
   "metadata": {},
   "source": [
    "## Optionally Load in Specific Excel Sheet"
   ]
  },
  {
   "cell_type": "code",
   "execution_count": 19,
   "metadata": {},
   "outputs": [],
   "source": [
    "meta_fpath = source_root / \"JHU_scalp_clinical_datasheet_raw_local.xlsx\""
   ]
  },
  {
   "cell_type": "code",
   "execution_count": 20,
   "metadata": {},
   "outputs": [
    {
     "data": {
      "text/html": [
       "<div>\n",
       "<style scoped>\n",
       "    .dataframe tbody tr th:only-of-type {\n",
       "        vertical-align: middle;\n",
       "    }\n",
       "\n",
       "    .dataframe tbody tr th {\n",
       "        vertical-align: top;\n",
       "    }\n",
       "\n",
       "    .dataframe thead th {\n",
       "        text-align: right;\n",
       "    }\n",
       "</style>\n",
       "<table border=\"1\" class=\"dataframe\">\n",
       "  <thead>\n",
       "    <tr style=\"text-align: right;\">\n",
       "      <th></th>\n",
       "      <th>patient_id</th>\n",
       "      <th>hospital_id</th>\n",
       "      <th>number_datasets</th>\n",
       "      <th>CLINICAL_CENTER</th>\n",
       "      <th>modality</th>\n",
       "      <th>montage</th>\n",
       "      <th>sfreq</th>\n",
       "      <th>GROUP</th>\n",
       "      <th>outcome</th>\n",
       "      <th>ETHNICITY</th>\n",
       "      <th>...</th>\n",
       "      <th>HAND</th>\n",
       "      <th>GENDER</th>\n",
       "      <th>bad_contacts</th>\n",
       "      <th>EPILEPSY_TYPE</th>\n",
       "      <th>imaging_outcome_notes</th>\n",
       "      <th>Date of Recording</th>\n",
       "      <th>Notes</th>\n",
       "      <th>include</th>\n",
       "      <th>Reason</th>\n",
       "      <th>best_window</th>\n",
       "    </tr>\n",
       "  </thead>\n",
       "  <tbody>\n",
       "    <tr>\n",
       "      <th>0</th>\n",
       "      <td>101</td>\n",
       "      <td>1</td>\n",
       "      <td>1</td>\n",
       "      <td>jhh-bayview</td>\n",
       "      <td>scalp</td>\n",
       "      <td>standard 10-20</td>\n",
       "      <td>200</td>\n",
       "      <td>1</td>\n",
       "      <td>1</td>\n",
       "      <td>NaN</td>\n",
       "      <td>...</td>\n",
       "      <td>NaN</td>\n",
       "      <td>NaN</td>\n",
       "      <td>Fz, Cz, E, X1-7, SpO2, EtCO2, DC03, DC04, DC05...</td>\n",
       "      <td>focal</td>\n",
       "      <td>NaN</td>\n",
       "      <td>NaN</td>\n",
       "      <td>Lots of eye artifact. Pz looks more normal, bu...</td>\n",
       "      <td>Y</td>\n",
       "      <td>Good after 100 s, remove Pz</td>\n",
       "      <td>100-400</td>\n",
       "    </tr>\n",
       "    <tr>\n",
       "      <th>1</th>\n",
       "      <td>201</td>\n",
       "      <td>2</td>\n",
       "      <td>1</td>\n",
       "      <td>jhh</td>\n",
       "      <td>scalp</td>\n",
       "      <td>standard 10-20</td>\n",
       "      <td>200</td>\n",
       "      <td>2</td>\n",
       "      <td>2</td>\n",
       "      <td>NaN</td>\n",
       "      <td>...</td>\n",
       "      <td>NaN</td>\n",
       "      <td>NaN</td>\n",
       "      <td>E, X1-7, SpO2, EtCO2, DC03, DC04, DC05, DC06, ...</td>\n",
       "      <td>NaN</td>\n",
       "      <td>NaN</td>\n",
       "      <td>NaN</td>\n",
       "      <td>SHW'</td>\n",
       "      <td>Y</td>\n",
       "      <td>Riddled with artifact</td>\n",
       "      <td>600-900</td>\n",
       "    </tr>\n",
       "  </tbody>\n",
       "</table>\n",
       "<p>2 rows × 22 columns</p>\n",
       "</div>"
      ],
      "text/plain": [
       "   patient_id  hospital_id  number_datasets CLINICAL_CENTER modality  \\\n",
       "0         101            1                1     jhh-bayview    scalp   \n",
       "1         201            2                1             jhh    scalp   \n",
       "\n",
       "          montage  sfreq  GROUP  outcome  ETHNICITY  ...  HAND  GENDER  \\\n",
       "0  standard 10-20    200      1        1        NaN  ...   NaN     NaN   \n",
       "1  standard 10-20    200      2        2        NaN  ...   NaN     NaN   \n",
       "\n",
       "                                        bad_contacts  EPILEPSY_TYPE  \\\n",
       "0  Fz, Cz, E, X1-7, SpO2, EtCO2, DC03, DC04, DC05...          focal   \n",
       "1  E, X1-7, SpO2, EtCO2, DC03, DC04, DC05, DC06, ...            NaN   \n",
       "\n",
       "  imaging_outcome_notes Date of Recording  \\\n",
       "0                   NaN               NaN   \n",
       "1                   NaN               NaN   \n",
       "\n",
       "                                               Notes  include  \\\n",
       "0  Lots of eye artifact. Pz looks more normal, bu...        Y   \n",
       "1                                               SHW'        Y   \n",
       "\n",
       "                        Reason best_window  \n",
       "0  Good after 100 s, remove Pz     100-400  \n",
       "1        Riddled with artifact     600-900  \n",
       "\n",
       "[2 rows x 22 columns]"
      ]
     },
     "metadata": {},
     "output_type": "display_data"
    }
   ],
   "source": [
    "meta_df = pd.read_excel(meta_fpath)\n",
    "display(meta_df.head(2))"
   ]
  },
  {
   "cell_type": "markdown",
   "metadata": {},
   "source": [
    "## Plot a single subject to test"
   ]
  },
  {
   "cell_type": "code",
   "execution_count": 21,
   "metadata": {},
   "outputs": [
    {
     "name": "stdout",
     "output_type": "stream",
     "text": [
      "['jhh001', 'jhh002', 'jhh003', 'jhh004', 'jhh005', 'jhh006', 'jhh007', 'jhh008', 'jhh009', 'jhh010', 'jhh011', 'jhh012', 'jhh013', 'jhh014', 'jhh015', 'jhh016', 'jhh017', 'jhh018', 'jhh019', 'jhh020', 'jhh021', 'jhh022', 'jhh023', 'jhh024', 'jhh025', 'jhh026', 'jhh027', 'jhh027', 'jhh028', 'jhh028', 'jhh029', 'jhh030', 'jhh101', 'jhh102', 'jhh103', 'jhh104', 'jhh105', 'jhh106', 'jhh107', 'jhh108', 'jhh109', 'jhh110', 'jhh111', 'jhh112', 'jhh113', 'jhh114', 'jhh115', 'jhh116', 'jhh117', 'jhh118', 'jhh119', 'jhh120', 'jhh121', 'jhh122', 'jhh124', 'jhh124', 'jhh125', 'jhh125', 'jhh126', 'jhh127', 'jhh127', 'jhh128', 'jhh201', 'jhh202', 'jhh203', 'jhh204', 'jhh205', 'jhh206', 'jhh207', 'jhh208', 'jhh209', 'jhh210', 'jhh211', 'jhh212', 'jhh213', 'jhh214', 'jhh215', 'jhh216', 'jhh217', 'jhh218', 'jhh219', 'jhh220', 'jhh221', 'jhh222', 'jhh223', 'jhh224', 'jhh225', 'jhh226', 'jhh227', 'jhh228', 'jhh228', 'jhh229']\n"
     ]
    }
   ],
   "source": [
    "print(dataset[\"subject\"])"
   ]
  },
  {
   "cell_type": "code",
   "execution_count": 18,
   "metadata": {},
   "outputs": [
    {
     "data": {
      "image/png": "[encoded data removed]",
      "text/plain": [
       "<Figure size 432x288 with 2 Axes>"
      ]
     },
     "metadata": {
      "needs_background": "light"
     },
     "output_type": "display_data"
    }
   ],
   "source": [
    "desired_subject = \"jhh001\"\n",
    "\n",
    "idx = dataset[\"subject\"].index(desired_subject)\n",
    "data = dataset[\"data\"][idx]\n",
    "ch_names = dataset[\"ch_names\"][idx]\n",
    "\n",
    "\n",
    "fig, ax = plt.subplots()\n",
    "sns.heatmap(data, cmap=\"turbo\", yticklabels=ch_names, ax=ax)\n",
    "\n",
    "plt.show()"
   ]
  },
  {
   "cell_type": "markdown",
   "metadata": {
    "tags": []
   },
   "source": [
    "# Define Cross Validation Experiment"
   ]
  },
  {
   "cell_type": "code",
   "execution_count": 22,
   "metadata": {},
   "outputs": [],
   "source": [
    "n_splits = 10\n",
    "train_size = 0.7\n",
    "random_state = 12345"
   ]
  },
  {
   "cell_type": "code",
   "execution_count": 23,
   "metadata": {},
   "outputs": [],
   "source": [
    "cv = StratifiedGroupKFold(\n",
    "    n_splits=n_splits,\n",
    "    random_state=random_state,\n",
    "    shuffle=True,\n",
    ")\n",
    "cv = StratifiedShuffleSplit(\n",
    "    n_splits=n_splits,\n",
    "    train_size=train_size,\n",
    "    random_state=random_state,\n",
    ")"
   ]
  },
  {
   "cell_type": "markdown",
   "metadata": {},
   "source": [
    "## Form Features from SpatioTemporal Heatmaps"
   ]
  },
  {
   "cell_type": "code",
   "execution_count": 42,
   "metadata": {},
   "outputs": [
    {
     "name": "stdout",
     "output_type": "stream",
     "text": [
      "(62, 32) (62,)\n"
     ]
    }
   ],
   "source": [
    "X = []\n",
    "y = []\n",
    "subjects = []\n",
    "subject_ch_names = []\n",
    "\n",
    "for idx in range(len(dataset[\"subject\"])):\n",
    "    subject = dataset[\"subject\"][idx]\n",
    "\n",
    "    ch_names = dataset[\"ch_names\"][idx]\n",
    "    deriv_data = dataset[\"data\"][idx]\n",
    "\n",
    "    # extract features  from a C x T matrix\n",
    "    X_ = _features_from_spatiotemporal_heatmap(deriv_data)\n",
    "\n",
    "    # extract outcome\n",
    "    if \"jhh\" in subject:\n",
    "        root = jhroot\n",
    "    elif \"jeff\" in subject:\n",
    "        root = jeffroot\n",
    "    elif \"upmc\" in subject:\n",
    "        root = upmcroot\n",
    "    subj_df = _get_exp_condition(subject, root)\n",
    "    outcome = subj_df[\"exp_condition\"].values[0]\n",
    "    #     if outcome.startswith(\"epilepsy\"):\n",
    "    #         outcome = \"epilepsy\"\n",
    "\n",
    "    # skip epilepsy w abnormalities\n",
    "    if outcome == \"epilepsy-abnormal-eeg\":\n",
    "        continue\n",
    "\n",
    "    # hold onto X, y and groups (i.e. subjects)\n",
    "    X.append(X_)\n",
    "    y.append(outcome)\n",
    "    subjects.append(subject)\n",
    "    subject_ch_names.append(ch_names)\n",
    "\n",
    "X = np.array(X)\n",
    "y_encode = np.array(y)\n",
    "subjects = np.array(subjects)\n",
    "subject_ch_names = np.array(subject_ch_names)\n",
    "\n",
    "print(X.shape, y_encode.shape)"
   ]
  },
  {
   "cell_type": "code",
   "execution_count": 43,
   "metadata": {},
   "outputs": [
    {
     "name": "stdout",
     "output_type": "stream",
     "text": [
      "['epilepsy-normal-eeg' 'non-epilepsy-normal-eeg']\n"
     ]
    }
   ],
   "source": [
    "print(np.unique(y_encode))"
   ]
  },
  {
   "cell_type": "code",
   "execution_count": 44,
   "metadata": {},
   "outputs": [
    {
     "name": "stdout",
     "output_type": "stream",
     "text": [
      "(62, 32)\n",
      "(62,)\n",
      "[1. 1. 1. 1. 1. 1. 1. 1. 1. 1. 1. 1. 1. 1. 1. 1. 1. 1. 1. 1. 1. 1. 1. 1.\n",
      " 1. 1. 1. 1. 1. 1. 1. 1. 0. 0. 0. 0. 0. 0. 0. 0. 0. 0. 0. 0. 0. 0. 0. 0.\n",
      " 0. 0. 0. 0. 0. 0. 0. 0. 0. 0. 0. 0. 0. 0.]\n"
     ]
    }
   ],
   "source": [
    "y = enc.fit_transform(y_encode[:, np.newaxis]).squeeze()\n",
    "\n",
    "print(X.shape)\n",
    "print(y.shape)\n",
    "print(y)"
   ]
  },
  {
   "cell_type": "code",
   "execution_count": 45,
   "metadata": {},
   "outputs": [
    {
     "name": "stdout",
     "output_type": "stream",
     "text": [
      "['Fp1', 'Fp2', 'F3', 'F4', 'C3', 'C4', 'P3', 'P4', 'O1', 'O2', 'F7', 'F8', 'T3', 'T4', 'T5', 'T6']\n"
     ]
    }
   ],
   "source": [
    "from numpy.testing import assert_array_equal\n",
    "\n",
    "for ch_names_ in subject_ch_names:\n",
    "    assert_array_equal(ch_names, ch_names_)\n",
    "\n",
    "print(ch_names)"
   ]
  },
  {
   "cell_type": "markdown",
   "metadata": {},
   "source": [
    "## Define Classification Models"
   ]
  },
  {
   "cell_type": "code",
   "execution_count": 46,
   "metadata": {},
   "outputs": [],
   "source": [
    "clf_name = \"sporf\"\n",
    "max_features = X.shape[1]\n",
    "\n",
    "rf_model_params = {\n",
    "    \"n_estimators\": 1000,\n",
    "    \"max_features\": max_features,\n",
    "    \"n_jobs\": -1,\n",
    "    \"random_state\": random_state,\n",
    "}\n",
    "lr_model_params = {\"n_jobs\": -1, \"random_state\": random_state}"
   ]
  },
  {
   "cell_type": "code",
   "execution_count": 47,
   "metadata": {},
   "outputs": [],
   "source": [
    "if clf_name == \"rf\":\n",
    "    clf = RandomForestClassifier(**rf_model_params)\n",
    "elif clf_name == \"sporf\":\n",
    "    # only used if you installed cysporf\n",
    "    clf = ObliqueForestClassifier(**rf_model_params)\n",
    "elif clf_name == \"lr\":\n",
    "    clf = LogisticRegression(**lr_model_params)"
   ]
  },
  {
   "cell_type": "markdown",
   "metadata": {},
   "source": [
    "# Run sklearn.cross_validate"
   ]
  },
  {
   "cell_type": "code",
   "execution_count": 48,
   "metadata": {},
   "outputs": [],
   "source": [
    "scoring_funcs = {\n",
    "    \"roc_auc\": roc_auc_score,\n",
    "    \"accuracy\": accuracy_score,\n",
    "    \"balanced_accuracy\": balanced_accuracy_score,\n",
    "    \"average_precision\": average_precision_score,\n",
    "    \"precision\": \"\",\n",
    "    \"neg_brier_score\": brier_score_loss,\n",
    "    \"recall\": \"\",\n",
    "    \"f1\": \"\",\n",
    "}\n",
    "\n",
    "# run cross-validation\n",
    "scores = cross_validate(\n",
    "    clf,\n",
    "    X,\n",
    "    y,\n",
    "    groups=subjects,\n",
    "    cv=cv,\n",
    "    scoring=list(scoring_funcs.keys()),\n",
    "    return_estimator=True,\n",
    "    return_train_score=True,\n",
    "    n_jobs=1,\n",
    ")\n",
    "\n",
    "# get the estimators\n",
    "estimators = scores.pop(\"estimator\")"
   ]
  },
  {
   "cell_type": "code",
   "execution_count": 49,
   "metadata": {},
   "outputs": [
    {
     "name": "stdout",
     "output_type": "stream",
     "text": [
      "Using estimator  ObliqueForestClassifier(max_features=32, n_estimators=1000, n_jobs=-1,\n",
      "                        random_state=12345)\n"
     ]
    }
   ],
   "source": [
    "print(\"Using estimator \", estimators[0])\n",
    "\n",
    "# initialize keys to list\n",
    "for key in [\n",
    "    \"test_fraction_pos\",\n",
    "    \"test_mean_pred_value\",\n",
    "    \"test_fpr\",\n",
    "    \"test_tpr\",\n",
    "    \"test_fnr\",\n",
    "    \"test_tnr\",\n",
    "    \"test_thresholds\",\n",
    "    \"train_fraction_pos\",\n",
    "    \"train_mean_pred_value\",\n",
    "    \"train_y_pred_proba\",\n",
    "    \"train_fpr\",\n",
    "    \"train_tpr\",\n",
    "    \"train_fnr\",\n",
    "    \"train_tnr\",\n",
    "    \"train_thresholds\",\n",
    "    \"train_subjects\",\n",
    "    \"test_subjects\",\n",
    "    \"test_y_pred_proba\",\n",
    "    \"test_importances\",\n",
    "    \"test_specificity\",\n",
    "    \"test_y\",\n",
    "    \"test_y_encodings\",\n",
    "]:\n",
    "    scores[key] = []\n",
    "\n",
    "for idx, (train_inds, test_inds) in enumerate(cv.split(X, y)):\n",
    "    estimator = estimators[idx]\n",
    "\n",
    "    # append subjects\n",
    "    scores[\"train_subjects\"].append(subjects[train_inds])\n",
    "    scores[\"test_subjects\"].append(subjects[test_inds])\n",
    "    scores[\"test_y\"].append(y[test_inds])\n",
    "    scores[\"test_y_encodings\"].append(y_encode[test_inds])\n",
    "\n",
    "    # evaluate on the test set\n",
    "    y_train = y[train_inds]\n",
    "    X_train = X[train_inds, :]\n",
    "    y_pred_prob = estimator.predict_proba(X_train)[:, 1]\n",
    "\n",
    "    # compute calibration curve\n",
    "    fraction_of_positives, mean_predicted_value = calibration_curve(\n",
    "        y_train, y_pred_prob, n_bins=10, strategy=\"quantile\"\n",
    "    )\n",
    "\n",
    "    # append training data\n",
    "    scores[\"train_y_pred_proba\"].append(y_pred_prob)\n",
    "    scores[\"train_fraction_pos\"].append(fraction_of_positives)\n",
    "    scores[\"train_mean_pred_value\"].append(mean_predicted_value)\n",
    "\n",
    "    # store ROC curve metrics on the held-out test set\n",
    "    fpr, tpr, thresholds = roc_curve(y_train, y_pred_prob, pos_label=1)\n",
    "    fnr, tnr, neg_thresholds = roc_curve(y_train, y_pred_prob, pos_label=0)\n",
    "    scores[\"train_fpr\"].append(fpr)\n",
    "    scores[\"train_tpr\"].append(tpr)\n",
    "    scores[\"train_fnr\"].append(fnr)\n",
    "    scores[\"train_tnr\"].append(tnr)\n",
    "    scores[\"train_thresholds\"].append(thresholds)\n",
    "\n",
    "    # evaluate on the test set\n",
    "    y_test = y[test_inds]\n",
    "    X_test = X[test_inds, :]\n",
    "    y_pred_prob = estimator.predict_proba(X_test)[:, 1]\n",
    "\n",
    "    # compute calibration curve\n",
    "    fraction_of_positives, mean_predicted_value = calibration_curve(\n",
    "        y_test, y_pred_prob, n_bins=10, strategy=\"quantile\"\n",
    "    )\n",
    "\n",
    "    # append testing data\n",
    "    scores[\"test_y_pred_proba\"].append(y_pred_prob)\n",
    "    scores[\"test_fraction_pos\"].append(fraction_of_positives)\n",
    "    scores[\"test_mean_pred_value\"].append(mean_predicted_value)\n",
    "\n",
    "    # store ROC curve metrics on the held-out test set\n",
    "    fpr, tpr, thresholds = roc_curve(y_test, y_pred_prob, pos_label=1)\n",
    "    fnr, tnr, neg_thresholds = roc_curve(y_test, y_pred_prob, pos_label=0)\n",
    "    scores[\"test_fpr\"].append(fpr)\n",
    "    scores[\"test_tpr\"].append(tpr)\n",
    "    scores[\"test_fnr\"].append(fnr)\n",
    "    scores[\"test_tnr\"].append(tnr)\n",
    "    scores[\"test_thresholds\"].append(thresholds)\n",
    "\n",
    "    tn, fp, fn, tp = confusion_matrix(\n",
    "        y_test.astype(int), (y_pred_prob > 0.5).astype(int)\n",
    "    ).ravel()\n",
    "    scores[\"test_specificity\"].append(tn / (tn + fp))\n",
    "\n",
    "    # get the permutation importances\n",
    "    r = permutation_importance(\n",
    "        estimator, X_test, y_test, n_repeats=5, random_state=random_state, n_jobs=-1\n",
    "    )\n",
    "    scores[\"test_importances\"].append(r.importances)"
   ]
  },
  {
   "cell_type": "markdown",
   "metadata": {},
   "source": [
    "## Save Model Output Scores"
   ]
  },
  {
   "cell_type": "code",
   "execution_count": 50,
   "metadata": {},
   "outputs": [
    {
     "name": "stdout",
     "output_type": "stream",
     "text": [
      "/Users/adam2392/Johns Hopkins/Scalp EEG JHH - Documents/derivatives/cv10_sporf_mtry32_exp_tfrdelta_benchmark_without_abnormaleeg.json\n"
     ]
    }
   ],
   "source": [
    "fname = (\n",
    "    deriv_root.parent.parent\n",
    "    / \"derivatives\"\n",
    "    / f\"cv{n_splits}_{clf_name}_mtry{max_features}_exp_tfr{freq_band}_benchmark_without_abnormaleeg.json\"\n",
    ")\n",
    "print(fname)"
   ]
  },
  {
   "cell_type": "code",
   "execution_count": 51,
   "metadata": {},
   "outputs": [],
   "source": [
    "with open(fname.with_suffix(\".json\"), \"w\") as fp:\n",
    "    json.dump(scores, fp, cls=NumpyEncoder)"
   ]
  },
  {
   "cell_type": "markdown",
   "metadata": {},
   "source": [
    "# Benchmark Classification Using Just Spikes"
   ]
  },
  {
   "cell_type": "code",
   "execution_count": 29,
   "metadata": {},
   "outputs": [
    {
     "name": "stdout",
     "output_type": "stream",
     "text": [
      "Loading data for subjects: ['jhh001', 'jhh002', 'jhh003', 'jhh004', 'jhh005', 'jhh006', 'jhh007', 'jhh008', 'jhh009', 'jhh010', 'jhh011', 'jhh012', 'jhh013', 'jhh014', 'jhh015', 'jhh016', 'jhh017', 'jhh018', 'jhh019', 'jhh020', 'jhh021', 'jhh022', 'jhh023', 'jhh024', 'jhh025', 'jhh026', 'jhh027', 'jhh028', 'jhh029', 'jhh030', 'jhh101', 'jhh102', 'jhh103', 'jhh104', 'jhh105', 'jhh106', 'jhh107', 'jhh108', 'jhh109', 'jhh110', 'jhh111', 'jhh112', 'jhh113', 'jhh114', 'jhh115', 'jhh116', 'jhh117', 'jhh118', 'jhh119', 'jhh120', 'jhh121', 'jhh122', 'jhh124', 'jhh125', 'jhh126', 'jhh127', 'jhh128', 'jhh201', 'jhh202', 'jhh203', 'jhh204', 'jhh205', 'jhh206', 'jhh207', 'jhh208', 'jhh209', 'jhh210', 'jhh211', 'jhh212', 'jhh213', 'jhh214', 'jhh215', 'jhh216', 'jhh217', 'jhh218', 'jhh219', 'jhh220', 'jhh221', 'jhh222', 'jhh223', 'jhh224', 'jhh225', 'jhh226', 'jhh227', 'jhh228', 'jhh229']\n"
     ]
    }
   ],
   "source": [
    "search_str = \"*.edf\"\n",
    "subjects = None\n",
    "if subjects is None:\n",
    "    subjects = get_entity_vals(jhroot, \"subject\")\n",
    "\n",
    "print(f\"Loading data for subjects: {subjects}\")\n",
    "\n",
    "dataset = collections.defaultdict(list)\n",
    "for subject in subjects:\n",
    "    subj_path = root / f\"sub-{subject}\"\n",
    "\n",
    "    # get all files of certain search_str\n",
    "    fpaths = subj_path.rglob(search_str)\n",
    "\n",
    "    # now load in all file paths\n",
    "    for fpath in fpaths:\n",
    "        entities = get_entities_from_fname(fpath.name)\n",
    "        bids_path = BIDSPath(root=jhroot, datatype=\"eeg\", **entities)\n",
    "        raw = read_raw_bids(bids_path)\n",
    "\n",
    "        # extract data\n",
    "        ch_spike_rates = _compute_spike_rates(raw)\n",
    "\n",
    "        # normalize spike counts\n",
    "        for ch_name, val in ch_spike_rates.items():\n",
    "            ch_spike_rates[ch_name] = val / (raw.n_times / raw.info[\"sfreq\"])\n",
    "\n",
    "        # total spike rate = total # of spikes regardless of channel / times / n_chs\n",
    "        total_spike_rate = (\n",
    "            np.sum(list(ch_spike_rates.values()))\n",
    "            / len(raw.ch_names)\n",
    "            / (raw.n_times / raw.info[\"sfreq\"])\n",
    "        )\n",
    "\n",
    "        # max spike per lobe\n",
    "        ch_spikes = np.array(list(ch_spike_rates.values()))\n",
    "        lobe_dict = _standard_lobes(separate_hemispheres=False)\n",
    "\n",
    "        # value of the max spike rate\n",
    "        features = np.hstack(\n",
    "            (\n",
    "                ch_spikes.mean(),\n",
    "                ch_spikes.std(),\n",
    "                np.quantile(ch_spikes, q=0.1),\n",
    "                np.quantile(ch_spikes, q=0.5),\n",
    "                np.quantile(ch_spikes, q=0.9),\n",
    "                total_spike_rate,\n",
    "            )\n",
    "        )\n",
    "        ch_names = raw.ch_names\n",
    "\n",
    "        assert len(ch_names) == len(ch_spike_rates.keys())\n",
    "        assert_array_equal(ch_names, list(ch_spike_rates.keys()))\n",
    "\n",
    "        dataset[\"data\"].append(features)\n",
    "        dataset[\"subject\"].append(subject)\n",
    "        dataset[\"ch_names\"].append(ch_names)"
   ]
  },
  {
   "cell_type": "markdown",
   "metadata": {},
   "source": [
    "## Cross Validation Analysis with Only Spike Data"
   ]
  },
  {
   "cell_type": "code",
   "execution_count": 30,
   "metadata": {},
   "outputs": [],
   "source": [
    "n_splits = 10\n",
    "train_size = 0.7\n",
    "random_state = 12345"
   ]
  },
  {
   "cell_type": "code",
   "execution_count": 31,
   "metadata": {},
   "outputs": [],
   "source": [
    "cv = StratifiedGroupKFold(\n",
    "    n_splits=n_splits,\n",
    "    random_state=random_state,\n",
    "    shuffle=True,\n",
    ")\n",
    "cv = StratifiedShuffleSplit(\n",
    "    n_splits=n_splits,\n",
    "    train_size=train_size,\n",
    "    random_state=random_state,\n",
    ")"
   ]
  },
  {
   "cell_type": "markdown",
   "metadata": {},
   "source": [
    "## Form Features from SpatioTemporal Heatmaps"
   ]
  },
  {
   "cell_type": "code",
   "execution_count": 32,
   "metadata": {},
   "outputs": [
    {
     "name": "stdout",
     "output_type": "stream",
     "text": [
      "(92, 6) (92,)\n"
     ]
    }
   ],
   "source": [
    "X = []\n",
    "y = []\n",
    "subjects = []\n",
    "subject_ch_names = []\n",
    "\n",
    "for idx in range(len(dataset[\"subject\"])):\n",
    "    subject = dataset[\"subject\"][idx]\n",
    "\n",
    "    ch_names = dataset[\"ch_names\"][idx]\n",
    "    deriv_data = dataset[\"data\"][idx]\n",
    "\n",
    "    # extract features  from a C x T matrix\n",
    "    X_ = deriv_data\n",
    "\n",
    "    # extract outcome\n",
    "    if \"jhh\" in subject:\n",
    "        root = jhroot\n",
    "    elif \"jeff\" in subject:\n",
    "        root = jeffroot\n",
    "    elif \"upmc\" in subject:\n",
    "        root = upmcroot\n",
    "    subj_df = _get_exp_condition(subject, root)\n",
    "    outcome = subj_df[\"exp_condition\"].values[0]\n",
    "    #     if outcome.startswith(\"epilepsy\"):\n",
    "    #         outcome = \"epilepsy\"\n",
    "    # skip epilepsy w abnormalities\n",
    "    if \"abnormal\" in outcome:\n",
    "        outcome = \"abnormal-eeg\"\n",
    "    else:\n",
    "        outcome = \"normal-eeg\"\n",
    "    #     if outcome == \"epilepsy-abnormal-eeg\":\n",
    "    #         continue\n",
    "\n",
    "    # hold onto X, y and groups (i.e. subjects)\n",
    "    X.append(X_)\n",
    "    y.append(outcome)\n",
    "    subjects.append(subject)\n",
    "    subject_ch_names.append(ch_names)\n",
    "\n",
    "X = np.array(X)\n",
    "y_encode = np.array(y)\n",
    "subjects = np.array(subjects)\n",
    "subject_ch_names = np.array(subject_ch_names)\n",
    "\n",
    "print(X.shape, y_encode.shape)"
   ]
  },
  {
   "cell_type": "code",
   "execution_count": 33,
   "metadata": {},
   "outputs": [
    {
     "name": "stdout",
     "output_type": "stream",
     "text": [
      "[array(['abnormal-eeg', 'normal-eeg'], dtype='<U12')]\n",
      "(92, 6)\n",
      "(92,)\n",
      "[1. 1. 1. 1. 1. 1. 1. 1. 1. 1. 1. 1. 1. 1. 1. 1. 1. 1. 1. 1. 1. 1. 1. 1.\n",
      " 1. 1. 1. 1. 1. 1. 1. 1. 1. 1. 1. 1. 1. 1. 1. 1. 1. 1. 1. 1. 1. 1. 1. 1.\n",
      " 1. 1. 1. 1. 1. 1. 1. 1. 1. 1. 1. 1. 1. 1. 0. 0. 0. 0. 0. 0. 0. 0. 0. 0.\n",
      " 0. 0. 0. 0. 0. 0. 0. 0. 0. 0. 0. 0. 0. 0. 0. 0. 0. 0. 0. 0.]\n"
     ]
    }
   ],
   "source": [
    "y = enc.fit_transform(y_encode[:, np.newaxis]).squeeze()\n",
    "\n",
    "print(enc.categories_)\n",
    "print(X.shape)\n",
    "print(y.shape)\n",
    "print(y)"
   ]
  },
  {
   "cell_type": "code",
   "execution_count": 34,
   "metadata": {},
   "outputs": [
    {
     "name": "stdout",
     "output_type": "stream",
     "text": [
      "['jhh001' 'jhh002' 'jhh003' 'jhh004' 'jhh005' 'jhh006' 'jhh007' 'jhh008'\n",
      " 'jhh009' 'jhh010' 'jhh011' 'jhh012' 'jhh013' 'jhh014' 'jhh015' 'jhh016'\n",
      " 'jhh017' 'jhh018' 'jhh019' 'jhh020' 'jhh021' 'jhh022' 'jhh023' 'jhh024'\n",
      " 'jhh025' 'jhh026' 'jhh027' 'jhh027' 'jhh028' 'jhh028' 'jhh029' 'jhh030'\n",
      " 'jhh101' 'jhh102' 'jhh103' 'jhh104' 'jhh105' 'jhh106' 'jhh107' 'jhh108'\n",
      " 'jhh109' 'jhh110' 'jhh111' 'jhh112' 'jhh113' 'jhh114' 'jhh115' 'jhh116'\n",
      " 'jhh117' 'jhh118' 'jhh119' 'jhh120' 'jhh121' 'jhh122' 'jhh124' 'jhh124'\n",
      " 'jhh125' 'jhh125' 'jhh126' 'jhh127' 'jhh127' 'jhh128' 'jhh201' 'jhh202'\n",
      " 'jhh203' 'jhh204' 'jhh205' 'jhh206' 'jhh207' 'jhh208' 'jhh209' 'jhh210'\n",
      " 'jhh211' 'jhh212' 'jhh213' 'jhh214' 'jhh215' 'jhh216' 'jhh217' 'jhh218'\n",
      " 'jhh219' 'jhh220' 'jhh221' 'jhh222' 'jhh223' 'jhh224' 'jhh225' 'jhh226'\n",
      " 'jhh227' 'jhh228' 'jhh228' 'jhh229']\n"
     ]
    },
    {
     "data": {
      "image/png": "[encoded data removed]",
      "text/plain": [
       "<Figure size 432x864 with 2 Axes>"
      ]
     },
     "metadata": {
      "needs_background": "light"
     },
     "output_type": "display_data"
    }
   ],
   "source": [
    "from matplotlib.colors import LogNorm, Normalize\n",
    "from matplotlib.ticker import MaxNLocator\n",
    "\n",
    "fig, ax = plt.subplots(figsize=(6, 12))\n",
    "sns.heatmap(\n",
    "    X,\n",
    "    ax=ax,\n",
    "    #     norm=LogNorm(),\n",
    "    yticklabels=subjects,\n",
    "    xticklabels=[\n",
    "        \"mean-spike rate\",\n",
    "        \"std-rate\",\n",
    "        \"total-spike-rate\",\n",
    "        \"q0.1\",\n",
    "        \"q0.5\",\n",
    "        \"q0.9\",\n",
    "    ],\n",
    "    cbar_kws=dict(label=\"Log of Features\"),\n",
    ")\n",
    "ax.axhline(np.where(y == 0)[0][0], lw=4)\n",
    "\n",
    "print(subjects)"
   ]
  },
  {
   "cell_type": "code",
   "execution_count": 150,
   "metadata": {},
   "outputs": [
    {
     "name": "stdout",
     "output_type": "stream",
     "text": [
      "['Fp1', 'Fp2', 'F3', 'F4', 'C3', 'C4', 'P3', 'P4', 'O1', 'O2', 'F7', 'F8', 'T3', 'T4', 'T5', 'T6', 'Fz', 'Cz', 'Pz']\n"
     ]
    }
   ],
   "source": [
    "from numpy.testing import assert_array_equal\n",
    "\n",
    "for ch_names_ in subject_ch_names:\n",
    "    assert_array_equal(ch_names, ch_names_)\n",
    "\n",
    "print(ch_names)"
   ]
  },
  {
   "cell_type": "markdown",
   "metadata": {},
   "source": [
    "## Define Classification Models"
   ]
  },
  {
   "cell_type": "code",
   "execution_count": 35,
   "metadata": {},
   "outputs": [],
   "source": [
    "clf_name = \"sporf\"\n",
    "max_features = X.shape[1] * 2\n",
    "\n",
    "rf_model_params = {\n",
    "    \"n_estimators\": 1000,\n",
    "    \"max_features\": max_features,\n",
    "    \"n_jobs\": -1,\n",
    "    \"random_state\": random_state,\n",
    "}\n",
    "lr_model_params = {\"n_jobs\": -1, \"random_state\": random_state}"
   ]
  },
  {
   "cell_type": "code",
   "execution_count": 36,
   "metadata": {},
   "outputs": [],
   "source": [
    "if clf_name == \"rf\":\n",
    "    clf = RandomForestClassifier(**rf_model_params)\n",
    "elif clf_name == \"sporf\":\n",
    "    # only used if you installed cysporf\n",
    "    clf = ObliqueForestClassifier(**rf_model_params)\n",
    "elif clf_name == \"lr\":\n",
    "    clf = LogisticRegression(**lr_model_params)"
   ]
  },
  {
   "cell_type": "markdown",
   "metadata": {},
   "source": [
    "## Run sklearn.cross_validate"
   ]
  },
  {
   "cell_type": "code",
   "execution_count": 37,
   "metadata": {},
   "outputs": [],
   "source": [
    "scoring_funcs = {\n",
    "    \"roc_auc\": roc_auc_score,\n",
    "    \"accuracy\": accuracy_score,\n",
    "    \"balanced_accuracy\": balanced_accuracy_score,\n",
    "    \"average_precision\": average_precision_score,\n",
    "    \"precision\": \"\",\n",
    "    \"neg_brier_score\": brier_score_loss,\n",
    "    \"recall\": \"\",\n",
    "    \"f1\": \"\",\n",
    "}\n",
    "\n",
    "# run cross-validation\n",
    "scores = cross_validate(\n",
    "    clf,\n",
    "    X,\n",
    "    y,\n",
    "    groups=subjects,\n",
    "    cv=cv,\n",
    "    scoring=list(scoring_funcs.keys()),\n",
    "    return_estimator=True,\n",
    "    return_train_score=True,\n",
    "    n_jobs=1,\n",
    ")\n",
    "\n",
    "# get the estimators\n",
    "estimators = scores.pop(\"estimator\")"
   ]
  },
  {
   "cell_type": "code",
   "execution_count": 38,
   "metadata": {},
   "outputs": [
    {
     "name": "stdout",
     "output_type": "stream",
     "text": [
      "Using estimator  ObliqueForestClassifier(max_features=12, n_estimators=1000, n_jobs=-1,\n",
      "                        random_state=12345)\n"
     ]
    }
   ],
   "source": [
    "print(\"Using estimator \", estimators[0])\n",
    "\n",
    "# initialize keys to list\n",
    "for key in [\n",
    "    \"test_fraction_pos\",\n",
    "    \"test_mean_pred_value\",\n",
    "    \"test_fpr\",\n",
    "    \"test_tpr\",\n",
    "    \"test_fnr\",\n",
    "    \"test_tnr\",\n",
    "    \"test_thresholds\",\n",
    "    \"train_fraction_pos\",\n",
    "    \"train_mean_pred_value\",\n",
    "    \"train_y_pred_proba\",\n",
    "    \"train_fpr\",\n",
    "    \"train_tpr\",\n",
    "    \"train_fnr\",\n",
    "    \"train_tnr\",\n",
    "    \"train_thresholds\",\n",
    "    \"train_subjects\",\n",
    "    \"test_subjects\",\n",
    "    \"test_y_pred_proba\",\n",
    "    \"test_importances\",\n",
    "    \"test_specificity\",\n",
    "    \"test_y\",\n",
    "    \"test_y_encodings\",\n",
    "]:\n",
    "    scores[key] = []\n",
    "\n",
    "for idx, (train_inds, test_inds) in enumerate(cv.split(X, y)):\n",
    "    estimator = estimators[idx]\n",
    "\n",
    "    # append subjects\n",
    "    scores[\"train_subjects\"].append(subjects[train_inds])\n",
    "    scores[\"test_subjects\"].append(subjects[test_inds])\n",
    "    scores[\"test_y\"].append(y[test_inds])\n",
    "    scores[\"test_y_encodings\"].append(y_encode[test_inds])\n",
    "\n",
    "    # evaluate on the test set\n",
    "    y_train = y[train_inds]\n",
    "    X_train = X[train_inds, :]\n",
    "    y_pred_prob = estimator.predict_proba(X_train)[:, 1]\n",
    "\n",
    "    # compute calibration curve\n",
    "    fraction_of_positives, mean_predicted_value = calibration_curve(\n",
    "        y_train, y_pred_prob, n_bins=10, strategy=\"quantile\"\n",
    "    )\n",
    "\n",
    "    # append training data\n",
    "    scores[\"train_y_pred_proba\"].append(y_pred_prob)\n",
    "    scores[\"train_fraction_pos\"].append(fraction_of_positives)\n",
    "    scores[\"train_mean_pred_value\"].append(mean_predicted_value)\n",
    "\n",
    "    # store ROC curve metrics on the held-out test set\n",
    "    fpr, tpr, thresholds = roc_curve(y_train, y_pred_prob, pos_label=1)\n",
    "    fnr, tnr, neg_thresholds = roc_curve(y_train, y_pred_prob, pos_label=0)\n",
    "    scores[\"train_fpr\"].append(fpr)\n",
    "    scores[\"train_tpr\"].append(tpr)\n",
    "    scores[\"train_fnr\"].append(fnr)\n",
    "    scores[\"train_tnr\"].append(tnr)\n",
    "    scores[\"train_thresholds\"].append(thresholds)\n",
    "\n",
    "    # evaluate on the test set\n",
    "    y_test = y[test_inds]\n",
    "    X_test = X[test_inds, :]\n",
    "    y_pred_prob = estimator.predict_proba(X_test)[:, 1]\n",
    "\n",
    "    # compute calibration curve\n",
    "    fraction_of_positives, mean_predicted_value = calibration_curve(\n",
    "        y_test, y_pred_prob, n_bins=10, strategy=\"quantile\"\n",
    "    )\n",
    "\n",
    "    # append testing data\n",
    "    scores[\"test_y_pred_proba\"].append(y_pred_prob)\n",
    "    scores[\"test_fraction_pos\"].append(fraction_of_positives)\n",
    "    scores[\"test_mean_pred_value\"].append(mean_predicted_value)\n",
    "\n",
    "    # store ROC curve metrics on the held-out test set\n",
    "    fpr, tpr, thresholds = roc_curve(y_test, y_pred_prob, pos_label=1)\n",
    "    fnr, tnr, neg_thresholds = roc_curve(y_test, y_pred_prob, pos_label=0)\n",
    "    scores[\"test_fpr\"].append(fpr)\n",
    "    scores[\"test_tpr\"].append(tpr)\n",
    "    scores[\"test_fnr\"].append(fnr)\n",
    "    scores[\"test_tnr\"].append(tnr)\n",
    "    scores[\"test_thresholds\"].append(thresholds)\n",
    "\n",
    "    tn, fp, fn, tp = confusion_matrix(\n",
    "        y_test.astype(int), (y_pred_prob > 0.5).astype(int)\n",
    "    ).ravel()\n",
    "    scores[\"test_specificity\"].append(tn / (tn + fp))\n",
    "\n",
    "    # get the permutation importances\n",
    "    r = permutation_importance(\n",
    "        estimator, X_test, y_test, n_repeats=5, random_state=random_state, n_jobs=-1\n",
    "    )\n",
    "    scores[\"test_importances\"].append(r.importances)"
   ]
  },
  {
   "cell_type": "markdown",
   "metadata": {},
   "source": [
    "## Save Model Output Scores"
   ]
  },
  {
   "cell_type": "code",
   "execution_count": 39,
   "metadata": {},
   "outputs": [
    {
     "name": "stdout",
     "output_type": "stream",
     "text": [
      "/Users/adam2392/Johns Hopkins/Scalp EEG JHH - Documents/derivatives/cv10_sporf_mtry12_exp_spikes_benchmark_alldata.json\n"
     ]
    }
   ],
   "source": [
    "fname = (\n",
    "    deriv_root.parent.parent\n",
    "    / \"derivatives\"\n",
    "    / f\"cv{n_splits}_{clf_name}_mtry{max_features}_exp_spikes_benchmark_alldata.json\"\n",
    ")\n",
    "print(fname)"
   ]
  },
  {
   "cell_type": "code",
   "execution_count": 40,
   "metadata": {},
   "outputs": [],
   "source": [
    "with open(fname.with_suffix(\".json\"), \"w\") as fp:\n",
    "    json.dump(scores, fp, cls=NumpyEncoder)"
   ]
  },
  {
   "cell_type": "markdown",
   "metadata": {},
   "source": [
    "## How Many Patients Have Spikes\n",
    "\n",
    "Based on their clinical evaluation of being: abnormal EEG, normal EEG, and/or epilepsy/non-epilepsy."
   ]
  },
  {
   "cell_type": "code",
   "execution_count": null,
   "metadata": {},
   "outputs": [],
   "source": [
    "# these two should have a list of the same length\n",
    "scores['persyst_y_pred_labels'] = ''\n",
    "scores['persyst_subjects'] = ''\n",
    "\n",
    "metrics = [\n",
    "    'accuracy', 'f1_score', 'recall', ...]\n",
    "\n",
    "metric_list = collections.defaultdict(list)\n",
    "\n",
    "# now doing plotting\n",
    "for idx in range(n_splits):\n",
    "    # do stuff per fold that rely on predicted probabilities. e.g. \n",
    "    ROC_curve(jsut the \"normal\" EEG subs)\n",
    "    \n",
    "    # get now concatenated list of predicted and true labels (combining for each fold, with the \"other subjects\")\n",
    "    y_pred_labels = scores['test_y_pred_labels'][idx] + scores['persyst_y_pred_labels']\n",
    "    y_true = scores['test_y_true'][idx] + scores['persyst_subjects']\n",
    "    for metric_func in metrics:\n",
    "        metric_list[metric].append(metric_func(y_true, y_pred_labels))"
   ]
  },
  {
   "cell_type": "code",
   "execution_count": null,
   "metadata": {},
   "outputs": [],
   "source": [
    "# geneerate a plot with data points for every metric\n",
    "# X = metric, Y = value, color = (abnormal, vs normal EEG, or w/e you want)"
   ]
  },
  {
   "cell_type": "markdown",
   "metadata": {
    "tags": []
   },
   "source": [
    "# Discussion"
   ]
  },
  {
   "cell_type": "code",
   "execution_count": null,
   "metadata": {},
   "outputs": [
    {
     "ename": "IndexError",
     "evalue": "list index out of range",
     "output_type": "error",
     "traceback": [
      "\u001b[0;31m---------------------------------------------------------------------------\u001b[0m",
      "\u001b[0;31mIndexError\u001b[0m                                Traceback (most recent call last)",
      "\u001b[0;32m/var/folders/6_/sl83qtkd68x3_mvfys07_6qm0000gn/T/ipykernel_20886/2821060638.py\u001b[0m in \u001b[0;36m<module>\u001b[0;34m\u001b[0m\n\u001b[1;32m      1\u001b[0m \u001b[0mfeature_set\u001b[0m \u001b[0;34m=\u001b[0m \u001b[0;34m[\u001b[0m\u001b[0;34m\"xydistance-frontal\"\u001b[0m\u001b[0;34m,\u001b[0m \u001b[0;34m\"xydistance-temporal\"\u001b[0m\u001b[0;34m,\u001b[0m \u001b[0;34m\"xydistance-parietal\"\u001b[0m\u001b[0;34m,\u001b[0m \u001b[0;34m\"xydistance-occipital\"\u001b[0m\u001b[0;34m,\u001b[0m  \u001b[0;34m\"xycom-frontal\"\u001b[0m\u001b[0;34m,\u001b[0m \u001b[0;34m\"xycom-temporal\"\u001b[0m\u001b[0;34m,\u001b[0m \u001b[0;34m\"xycom-parietal\"\u001b[0m\u001b[0;34m,\u001b[0m \u001b[0;34m\"xycom-occipital\"\u001b[0m\u001b[0;34m,\u001b[0m \u001b[0;34m\"xyvariance-frontal\"\u001b[0m\u001b[0;34m,\u001b[0m \u001b[0;34m\"xyvariance-temporal\"\u001b[0m\u001b[0;34m,\u001b[0m \u001b[0;34m\"xyvariance-parietal\"\u001b[0m\u001b[0;34m,\u001b[0m \u001b[0;34m\"xyvariance-occipital\"\u001b[0m\u001b[0;34m,\u001b[0m \u001b[0;34m\"ssentropy\"\u001b[0m\u001b[0;34m,\u001b[0m \u001b[0;34m\"sskldiv\"\u001b[0m\u001b[0;34m,\u001b[0m \u001b[0;34m\"sskurtosis\"\u001b[0m\u001b[0;34m,\u001b[0m \u001b[0;34m\"ssskew\"\u001b[0m\u001b[0;34m,\u001b[0m \u001b[0;34m\"ssvariance\"\u001b[0m\u001b[0;34m]\u001b[0m\u001b[0;34m\u001b[0m\u001b[0;34m\u001b[0m\u001b[0m\n\u001b[0;32m----> 2\u001b[0;31m \u001b[0mX\u001b[0m\u001b[0;34m,\u001b[0m \u001b[0my\u001b[0m\u001b[0;34m,\u001b[0m \u001b[0msubject\u001b[0m \u001b[0;34m=\u001b[0m \u001b[0mget_Xy_matrix\u001b[0m\u001b[0;34m(\u001b[0m\u001b[0mdataset\u001b[0m\u001b[0;34m,\u001b[0m \u001b[0mfeature_set\u001b[0m\u001b[0;34m)\u001b[0m\u001b[0;34m\u001b[0m\u001b[0;34m\u001b[0m\u001b[0m\n\u001b[0m",
      "\u001b[0;32m/var/folders/6_/sl83qtkd68x3_mvfys07_6qm0000gn/T/ipykernel_20886/1215238933.py\u001b[0m in \u001b[0;36mget_Xy_matrix\u001b[0;34m(dataset, feature_set)\u001b[0m\n\u001b[1;32m      7\u001b[0m         \u001b[0mX_buff\u001b[0m \u001b[0;34m=\u001b[0m \u001b[0;34m[\u001b[0m\u001b[0;34m]\u001b[0m\u001b[0;34m\u001b[0m\u001b[0;34m\u001b[0m\u001b[0m\n\u001b[1;32m      8\u001b[0m         \u001b[0;32mfor\u001b[0m \u001b[0mfeature_name\u001b[0m \u001b[0;32min\u001b[0m \u001b[0mfeature_set\u001b[0m\u001b[0;34m:\u001b[0m\u001b[0;34m\u001b[0m\u001b[0;34m\u001b[0m\u001b[0m\n\u001b[0;32m----> 9\u001b[0;31m             \u001b[0mfeature\u001b[0m \u001b[0;34m=\u001b[0m \u001b[0mdataset\u001b[0m\u001b[0;34m[\u001b[0m\u001b[0mfeature_name\u001b[0m\u001b[0;34m]\u001b[0m\u001b[0;34m[\u001b[0m\u001b[0midx\u001b[0m\u001b[0;34m]\u001b[0m\u001b[0;34m\u001b[0m\u001b[0;34m\u001b[0m\u001b[0m\n\u001b[0m\u001b[1;32m     10\u001b[0m             \u001b[0;32mif\u001b[0m \u001b[0misinstance\u001b[0m\u001b[0;34m(\u001b[0m\u001b[0mfeature\u001b[0m\u001b[0;34m,\u001b[0m \u001b[0mfloat\u001b[0m\u001b[0;34m)\u001b[0m\u001b[0;34m:\u001b[0m\u001b[0;34m\u001b[0m\u001b[0;34m\u001b[0m\u001b[0m\n\u001b[1;32m     11\u001b[0m                 \u001b[0mfeat\u001b[0m \u001b[0;34m=\u001b[0m \u001b[0;34m[\u001b[0m\u001b[0mfeature\u001b[0m\u001b[0;34m]\u001b[0m\u001b[0;34m\u001b[0m\u001b[0;34m\u001b[0m\u001b[0m\n",
      "\u001b[0;31mIndexError\u001b[0m: list index out of range"
     ]
    }
   ],
   "source": [
    "feature_set = [\"xydistance-frontal\", \"xydistance-temporal\", \"xydistance-parietal\", \"xydistance-occipital\",  \"xycom-frontal\", \"xycom-temporal\", \"xycom-parietal\", \"xycom-occipital\", \"xyvariance-frontal\", \"xyvariance-temporal\", \"xyvariance-parietal\", \"xyvariance-occipital\", \"ssentropy\", \"sskldiv\", \"sskurtosis\", \"ssskew\", \"ssvariance\"]\n",
    "X, y, subject = get_Xy_matrix(dataset, feature_set)"
   ]
  },
  {
   "cell_type": "code",
   "execution_count": 45,
   "metadata": {},
   "outputs": [],
   "source": [
    "dataset = collections.defaultdict(list)\n",
    "\n",
    "for subject in subjects:\n",
    "    json_fpaths = dict()\n",
    "    npy_fpaths = dict()\n",
    "    ss_subj_dir = ss_deriv_dir / f\"sub-{subject}\"\n",
    "    ss_json_fpaths = list(ss_subj_dir.glob(\"*.json\"))\n",
    "    ss_npy_fpaths = list(ss_subj_dir.glob(\"*.npy\"))\n",
    "    json_fpaths[\"xydistance\"] = [f for f in ss_json_fpaths if \"xydistance\" in f.name][0]\n",
    "    json_fpaths[\"xyvariance\"] = [f for f in ss_json_fpaths if \"xyvariance\" in f.name][0]\n",
    "    json_fpaths[\"xycom\"] = [f for f in ss_json_fpaths if \"xycenterofmass\" in f.name][0]\n",
    "    npy_fpaths[\"ssentropy\"] = [f for f in ss_npy_fpaths if \"entropy\" in f.name][0]\n",
    "    npy_fpaths[\"sskldiv\"] = [f for f in ss_npy_fpaths if \"kldiv\" in f.name][0]\n",
    "    npy_fpaths[\"sskurtosis\"] = [f for f in ss_npy_fpaths if \"kurtosis\" in f.name][0]\n",
    "    npy_fpaths[\"ssskew\"] = [f for f in ss_npy_fpaths if \"skew\" in f.name][0]\n",
    "    npy_fpaths[\"ssvariance\"] = [f for f in ss_npy_fpaths if \"variance\" in f.name][0]\n",
    "    dataset[\"subject\"].append(subject)\n",
    "    subid = int(re.search(r\"\\d+\", subject).group())\n",
    "    if int(subid) < 100:\n",
    "        dataset[\"group\"].append(0)\n",
    "    elif int(subid) > 200:\n",
    "        dataset[\"group\"].append(2)\n",
    "    else:\n",
    "        dataset[\"group\"].append(1)\n",
    "\n",
    "    for key, fpath in json_fpaths.items():\n",
    "        with open(fpath) as fid:\n",
    "            feature_dict = json.load(fid)\n",
    "            dataset[f\"{key}-frontal\"].append(feature_dict[\"frontal\"])\n",
    "            dataset[f\"{key}-temporal\"].append(feature_dict[\"temporal\"])\n",
    "            dataset[f\"{key}-parietal\"].append(feature_dict[\"parietal\"])\n",
    "            dataset[f\"{key}-occipital\"].append(feature_dict[\"occipital\"])\n",
    "    for key, fpath in npy_fpaths.items():\n",
    "        feat = np.load(fpath)\n",
    "        feature = float(feat)\n",
    "        dataset[key].append(feature)"
   ]
  },
  {
   "cell_type": "code",
   "execution_count": 95,
   "metadata": {},
   "outputs": [],
   "source": [
    "which_set = \"test\"\n",
    "\n",
    "tprs = []\n",
    "aucs = scores[f\"{which_set}_roc_auc\"]\n",
    "mean_fpr = np.linspace(0, 1, 100)\n",
    "\n",
    "for idx in range(n_splits):\n",
    "    fpr = scores[f\"{which_set}_fpr\"][idx]\n",
    "    tpr = scores[f\"{which_set}_tpr\"][idx]\n",
    "\n",
    "    # interpolate the tpr\n",
    "    interp_tpr = np.interp(mean_fpr, fpr, tpr)\n",
    "    interp_tpr[0] = 0.0\n",
    "    tprs.append(interp_tpr)\n",
    "\n",
    "mean_tpr = np.mean(tprs, axis=0)\n",
    "mean_tpr[-1] = 1.0\n",
    "mean_auc = auc(mean_fpr, mean_tpr)\n",
    "mean_auc = np.mean(aucs)\n",
    "std_auc = np.std(aucs)\n",
    "\n",
    "std_tpr = np.std(tprs, axis=0)\n",
    "tprs_upper = np.minimum(mean_tpr + std_tpr, 1)\n",
    "tprs_lower = np.maximum(mean_tpr - std_tpr, 0)"
   ]
  },
  {
   "cell_type": "code",
   "execution_count": 96,
   "metadata": {},
   "outputs": [
    {
     "name": "stdout",
     "output_type": "stream",
     "text": [
      "0.5009803921568627 0.0888149683024075\n"
     ]
    }
   ],
   "source": [
    "print(np.mean(aucs), np.std(aucs))"
   ]
  },
  {
   "cell_type": "code",
   "execution_count": 97,
   "metadata": {},
   "outputs": [
    {
     "name": "stdout",
     "output_type": "stream",
     "text": [
      "test_balanced_accuracy 0.4568627450980392 +/- 0.06329754076048229\n"
     ]
    }
   ],
   "source": [
    "metric = \"test_balanced_accuracy\"\n",
    "print(metric, np.mean(scores[metric]), \"+/-\", np.std(scores[metric]))"
   ]
  },
  {
   "cell_type": "code",
   "execution_count": 98,
   "metadata": {},
   "outputs": [
    {
     "name": "stdout",
     "output_type": "stream",
     "text": [
      "test_average_precision 0.7108305000078852 +/- 0.07409281539380314\n"
     ]
    }
   ],
   "source": [
    "metric = \"test_average_precision\"\n",
    "print(metric, np.mean(scores[metric]), \"+/-\", np.std(scores[metric]))"
   ]
  },
  {
   "cell_type": "code",
   "execution_count": 99,
   "metadata": {},
   "outputs": [
    {
     "name": "stdout",
     "output_type": "stream",
     "text": [
      "test_recall 0.7470588235294118 +/- 0.1290100717615371\n"
     ]
    }
   ],
   "source": [
    "metric = \"test_recall\"\n",
    "print(metric, np.mean(scores[metric]), \"+/-\", np.std(scores[metric]))"
   ]
  },
  {
   "cell_type": "code",
   "execution_count": 100,
   "metadata": {},
   "outputs": [
    {
     "ename": "KeyError",
     "evalue": "'test_specificity'",
     "output_type": "error",
     "traceback": [
      "\u001b[1;31m---------------------------------------------------------------------------\u001b[0m",
      "\u001b[1;31mKeyError\u001b[0m                                  Traceback (most recent call last)",
      "\u001b[1;32m<ipython-input-100-661f7881814b>\u001b[0m in \u001b[0;36m<module>\u001b[1;34m\u001b[0m\n\u001b[0;32m      1\u001b[0m \u001b[0mmetric\u001b[0m \u001b[1;33m=\u001b[0m \u001b[1;34m\"test_specificity\"\u001b[0m\u001b[1;33m\u001b[0m\u001b[1;33m\u001b[0m\u001b[0m\n\u001b[1;32m----> 2\u001b[1;33m \u001b[0mprint\u001b[0m\u001b[1;33m(\u001b[0m\u001b[0mmetric\u001b[0m\u001b[1;33m,\u001b[0m \u001b[0mnp\u001b[0m\u001b[1;33m.\u001b[0m\u001b[0mmean\u001b[0m\u001b[1;33m(\u001b[0m\u001b[0mscores\u001b[0m\u001b[1;33m[\u001b[0m\u001b[0mmetric\u001b[0m\u001b[1;33m]\u001b[0m\u001b[1;33m)\u001b[0m\u001b[1;33m,\u001b[0m \u001b[1;34m\"+/-\"\u001b[0m\u001b[1;33m,\u001b[0m \u001b[0mnp\u001b[0m\u001b[1;33m.\u001b[0m\u001b[0mstd\u001b[0m\u001b[1;33m(\u001b[0m\u001b[0mscores\u001b[0m\u001b[1;33m[\u001b[0m\u001b[0mmetric\u001b[0m\u001b[1;33m]\u001b[0m\u001b[1;33m)\u001b[0m\u001b[1;33m)\u001b[0m\u001b[1;33m\u001b[0m\u001b[1;33m\u001b[0m\u001b[0m\n\u001b[0m",
      "\u001b[1;31mKeyError\u001b[0m: 'test_specificity'"
     ]
    }
   ],
   "source": [
    "metric = \"test_specificity\"\n",
    "print(metric, np.mean(scores[metric]), \"+/-\", np.std(scores[metric]))"
   ]
  },
  {
   "cell_type": "code",
   "execution_count": 101,
   "metadata": {},
   "outputs": [
    {
     "name": "stdout",
     "output_type": "stream",
     "text": [
      "test_f1 0.6781240928381598 +/- 0.07186567077681091\n"
     ]
    }
   ],
   "source": [
    "metric = \"test_f1\"\n",
    "print(metric, np.mean(scores[metric]), \"+/-\", np.std(scores[metric]))"
   ]
  },
  {
   "cell_type": "code",
   "execution_count": 102,
   "metadata": {},
   "outputs": [
    {
     "data": {
      "text/html": [
       "<div>\n",
       "<style scoped>\n",
       "    .dataframe tbody tr th:only-of-type {\n",
       "        vertical-align: middle;\n",
       "    }\n",
       "\n",
       "    .dataframe tbody tr th {\n",
       "        vertical-align: top;\n",
       "    }\n",
       "\n",
       "    .dataframe thead th {\n",
       "        text-align: right;\n",
       "    }\n",
       "</style>\n",
       "<table border=\"1\" class=\"dataframe\">\n",
       "  <thead>\n",
       "    <tr style=\"text-align: right;\">\n",
       "      <th></th>\n",
       "      <th>fit_time</th>\n",
       "      <th>score_time</th>\n",
       "      <th>test_roc_auc</th>\n",
       "      <th>test_accuracy</th>\n",
       "      <th>test_balanced_accuracy</th>\n",
       "      <th>test_average_precision</th>\n",
       "      <th>test_precision</th>\n",
       "      <th>test_neg_brier_score</th>\n",
       "      <th>test_recall</th>\n",
       "      <th>test_f1</th>\n",
       "    </tr>\n",
       "  </thead>\n",
       "  <tbody>\n",
       "    <tr>\n",
       "      <th>0</th>\n",
       "      <td>2.010051</td>\n",
       "      <td>0.095264</td>\n",
       "      <td>0.535948</td>\n",
       "      <td>0.461538</td>\n",
       "      <td>0.379085</td>\n",
       "      <td>0.784031</td>\n",
       "      <td>0.578947</td>\n",
       "      <td>-0.244554</td>\n",
       "      <td>0.647059</td>\n",
       "      <td>0.611111</td>\n",
       "    </tr>\n",
       "    <tr>\n",
       "      <th>1</th>\n",
       "      <td>0.309705</td>\n",
       "      <td>0.083019</td>\n",
       "      <td>0.552288</td>\n",
       "      <td>0.538462</td>\n",
       "      <td>0.437908</td>\n",
       "      <td>0.760181</td>\n",
       "      <td>0.619048</td>\n",
       "      <td>-0.234689</td>\n",
       "      <td>0.764706</td>\n",
       "      <td>0.684211</td>\n",
       "    </tr>\n",
       "    <tr>\n",
       "      <th>2</th>\n",
       "      <td>0.307069</td>\n",
       "      <td>0.191043</td>\n",
       "      <td>0.549020</td>\n",
       "      <td>0.576923</td>\n",
       "      <td>0.467320</td>\n",
       "      <td>0.681519</td>\n",
       "      <td>0.636364</td>\n",
       "      <td>-0.237167</td>\n",
       "      <td>0.823529</td>\n",
       "      <td>0.717949</td>\n",
       "    </tr>\n",
       "    <tr>\n",
       "      <th>3</th>\n",
       "      <td>0.305068</td>\n",
       "      <td>0.085019</td>\n",
       "      <td>0.300654</td>\n",
       "      <td>0.461538</td>\n",
       "      <td>0.379085</td>\n",
       "      <td>0.590753</td>\n",
       "      <td>0.578947</td>\n",
       "      <td>-0.294637</td>\n",
       "      <td>0.647059</td>\n",
       "      <td>0.611111</td>\n",
       "    </tr>\n",
       "    <tr>\n",
       "      <th>4</th>\n",
       "      <td>0.309069</td>\n",
       "      <td>0.084018</td>\n",
       "      <td>0.444444</td>\n",
       "      <td>0.461538</td>\n",
       "      <td>0.379085</td>\n",
       "      <td>0.705919</td>\n",
       "      <td>0.578947</td>\n",
       "      <td>-0.292824</td>\n",
       "      <td>0.647059</td>\n",
       "      <td>0.611111</td>\n",
       "    </tr>\n",
       "  </tbody>\n",
       "</table>\n",
       "</div>"
      ],
      "text/plain": [
       "   fit_time  score_time  test_roc_auc  test_accuracy  test_balanced_accuracy  \\\n",
       "0  2.010051    0.095264      0.535948       0.461538                0.379085   \n",
       "1  0.309705    0.083019      0.552288       0.538462                0.437908   \n",
       "2  0.307069    0.191043      0.549020       0.576923                0.467320   \n",
       "3  0.305068    0.085019      0.300654       0.461538                0.379085   \n",
       "4  0.309069    0.084018      0.444444       0.461538                0.379085   \n",
       "\n",
       "   test_average_precision  test_precision  test_neg_brier_score  test_recall  \\\n",
       "0                0.784031        0.578947             -0.244554     0.647059   \n",
       "1                0.760181        0.619048             -0.234689     0.764706   \n",
       "2                0.681519        0.636364             -0.237167     0.823529   \n",
       "3                0.590753        0.578947             -0.294637     0.647059   \n",
       "4                0.705919        0.578947             -0.292824     0.647059   \n",
       "\n",
       "    test_f1  \n",
       "0  0.611111  \n",
       "1  0.684211  \n",
       "2  0.717949  \n",
       "3  0.611111  \n",
       "4  0.611111  "
      ]
     },
     "metadata": {},
     "output_type": "display_data"
    }
   ],
   "source": [
    "# create a dataframe from the statistics\n",
    "temp_scores = scores.copy()\n",
    "keys = list(temp_scores.keys())\n",
    "for key in keys:\n",
    "    if any(\n",
    "        [\n",
    "            chars in key\n",
    "            for chars in [\n",
    "                \"fpr\",\n",
    "                \"tpr\",\n",
    "                \"fnr\",\n",
    "                \"tnr\",\n",
    "                \"threshold\",\n",
    "                \"fraction_pos\",\n",
    "                \"mean_pred_value\",\n",
    "                \"subjects\",\n",
    "                \"y_pred_proba\",\n",
    "                \"importances\",\n",
    "                \"train\",\n",
    "            ]\n",
    "        ]\n",
    "    ):\n",
    "        temp_scores.pop(key)\n",
    "score_df = pd.DataFrame(temp_scores)\n",
    "\n",
    "display(score_df.head())"
   ]
  },
  {
   "cell_type": "code",
   "execution_count": 104,
   "metadata": {},
   "outputs": [
    {
     "data": {
      "image/png": "[encoded data removed]",
      "text/plain": [
       "<Figure size 432x288 with 1 Axes>"
      ]
     },
     "metadata": {
      "needs_background": "light"
     },
     "output_type": "display_data"
    }
   ],
   "source": [
    "fig, ax = plt.subplots()\n",
    "\n",
    "for idx in range(n_splits):\n",
    "    fpr = scores[f\"{which_set}_fpr\"][idx]\n",
    "    tpr = scores[f\"{which_set}_tpr\"][idx]\n",
    "\n",
    "    ax.plot(fpr, tpr, color=\"b\", lw=2, alpha=0.5)\n",
    "\n",
    "ax.plot([0, 1], [0, 1], linestyle=\"--\", lw=2, color=\"r\", label=\"Chance\", alpha=0.8)\n",
    "ax.plot(\n",
    "    mean_fpr,\n",
    "    mean_tpr,\n",
    "    color=\"b\",\n",
    "    label=r\"Mean ROC (AUC = %0.2f $\\pm$ %0.2f)\" % (mean_auc, std_auc),\n",
    "    lw=2,\n",
    "    alpha=0.8,\n",
    ")\n",
    "\n",
    "\n",
    "ax.fill_between(\n",
    "    mean_fpr,\n",
    "    tprs_lower,\n",
    "    tprs_upper,\n",
    "    color=\"grey\",\n",
    "    alpha=0.2,\n",
    "    label=r\"$\\pm$ 1 std. dev.\",\n",
    ")\n",
    "ax.set(\n",
    "    xlim=[-0.05, 1.05],\n",
    "    ylim=[-0.05, 1.05],\n",
    "    title=f\"Receiver operating characteristic curve {which_set} set - max features\",\n",
    ")\n",
    "ax.legend(loc=\"lower right\")\n",
    "plt.show()"
   ]
  },
  {
   "cell_type": "code",
   "execution_count": null,
   "metadata": {},
   "outputs": [],
   "source": []
  }
 ],
 "metadata": {
  "kernelspec": {
   "display_name": "episcalp",
   "language": "python",
   "name": "episcalp"
  },
  "language_info": {
   "codemirror_mode": {
    "name": "ipython",
    "version": 3
   },
   "file_extension": ".py",
   "mimetype": "text/x-python",
   "name": "python",
   "nbconvert_exporter": "python",
   "pygments_lexer": "ipython3",
   "version": "3.8.10"
  }
 },
 "nbformat": 4,
 "nbformat_minor": 4
}
