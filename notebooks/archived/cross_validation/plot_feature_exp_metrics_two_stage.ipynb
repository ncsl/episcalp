{
 "cells": [
  {
   "cell_type": "markdown",
   "metadata": {},
   "source": [
    "# Plotting Source Sink Cross Validation Experiment\n",
    "\n",
    "Acknowledgements: See https://github.com/sipv/MultipanelFigures/blob/main/MultipanelFigures.ipynb for a great explanation on laying out figures in matplotlib"
   ]
  },
  {
   "cell_type": "code",
   "execution_count": 28,
   "metadata": {},
   "outputs": [
    {
     "name": "stdout",
     "output_type": "stream",
     "text": [
      "The lab_black extension is already loaded. To reload it, use:\n",
      "  %reload_ext lab_black\n"
     ]
    }
   ],
   "source": [
    "%load_ext lab_black"
   ]
  },
  {
   "cell_type": "code",
   "execution_count": 1,
   "metadata": {},
   "outputs": [],
   "source": [
    "import numpy as np\n",
    "import scipy\n",
    "import scipy.io\n",
    "import pandas as pd\n",
    "from pathlib import Path\n",
    "import os\n",
    "import collections\n",
    "from natsort import natsorted\n",
    "import json\n",
    "import pickle\n",
    "from pprint import pprint\n",
    "import re\n",
    "\n",
    "from mne_bids import BIDSPath, get_entities_from_fname, get_entity_vals\n",
    "\n",
    "from sklearn.metrics import auc\n",
    "\n",
    "import pingouin as pg\n",
    "from mlxtend.evaluate import mcnemar_table, mcnemar\n",
    "import dabest\n",
    "\n",
    "import sys\n",
    "\n",
    "sys.path.append(\"../../\")\n",
    "from episcalp.utils.standard_1020_montage import get_standard_1020_montage\n",
    "\n",
    "import matplotlib as mpl\n",
    "import matplotlib.pyplot as plt\n",
    "import seaborn as sns"
   ]
  },
  {
   "cell_type": "markdown",
   "metadata": {},
   "source": [
    "# Set Plotting Options"
   ]
  },
  {
   "cell_type": "code",
   "execution_count": 2,
   "metadata": {},
   "outputs": [],
   "source": [
    "# Set font sizes\n",
    "SMALL_SIZE = 8 * 2\n",
    "MEDIUM_SIZE = 10 * 2\n",
    "BIGGER_SIZE = 12 * 2\n",
    "\n",
    "plt.rc(\"font\", size=SMALL_SIZE)  # controls default text sizes\n",
    "plt.rc(\"axes\", titlesize=SMALL_SIZE)  # fontsize of the axes title\n",
    "plt.rc(\"axes\", labelsize=MEDIUM_SIZE)  # fontsize of the x and y labels\n",
    "plt.rc(\"xtick\", labelsize=SMALL_SIZE)  # fontsize of the tick labels\n",
    "plt.rc(\"ytick\", labelsize=SMALL_SIZE)  # fontsize of the tick labels\n",
    "plt.rc(\"legend\", fontsize=SMALL_SIZE)  # legend fontsize\n",
    "plt.rc(\"figure\", titlesize=BIGGER_SIZE)  # fontsize of the figure title\n",
    "\n",
    "plt.rc(\"font\", **{\"family\": \"sans-serif\", \"sans-serif\": [\"Arial\"]})"
   ]
  },
  {
   "cell_type": "code",
   "execution_count": 3,
   "metadata": {},
   "outputs": [],
   "source": [
    "def load_participant_df(root, subject):\n",
    "    \"\"\"Load participants.tsv file as a dataframe for a specific subject.\n",
    "\n",
    "    Note: subject ID needs to be in format ``sub-<subject>``.\n",
    "    \"\"\"\n",
    "    df = pd.read_csv(os.path.join(root, \"participants.tsv\", sep=\"\\t\"))\n",
    "    if not subject.startswith(\"sub-\"):\n",
    "        subject = f\"sub-{subject}\"\n",
    "    subj_row = df[df[\"participant_id\"] == subject]\n",
    "    return subj_row"
   ]
  },
  {
   "cell_type": "markdown",
   "metadata": {},
   "source": [
    "# Load Data"
   ]
  },
  {
   "cell_type": "code",
   "execution_count": 4,
   "metadata": {},
   "outputs": [],
   "source": [
    "user = \"patrick\"\n",
    "if user == \"patrick\":\n",
    "    jhroot = Path(\"D:/OneDriveParent/OneDrive - Johns Hopkins/Shared Documents/bids\")\n",
    "    jeffroot = Path(\"D:/OneDriveParent/Johns Hopkins/Jefferson_Scalp - Documents/root\")\n",
    "\n",
    "    # not ready yet\n",
    "    upmcroot = Path(\"/Users/adam2392/Johns Hopkins/UPMC_Scalp - Documents/\")\n",
    "elif user == \"adam\":\n",
    "    jhroot = Path(\"/Users/adam2392/Johns Hopkins/Scalp EEG JHH - Documents/bids/\")\n",
    "    jeffroot = Path(\"/Users/adam2392/Johns Hopkins/Jefferson_Scalp - Documents/root/\")\n",
    "\n",
    "    # not ready yet\n",
    "    upmcroot = Path(\"/Users/adam2392/Johns Hopkins/UPMC_Scalp - Documents/\")"
   ]
  },
  {
   "cell_type": "code",
   "execution_count": 5,
   "metadata": {},
   "outputs": [],
   "source": [
    "if user == \"adam\":\n",
    "    root = Path(\"/Users/adam2392/Johns Hopkins/Scalp EEG JHH - Documents/\")\n",
    "elif user == \"patrick\":\n",
    "    root = Path(\"D:/OneDriveParent/OneDrive - Johns Hopkins/Shared Documents/bids\")\n",
    "deriv_root = root / \"derivatives\"\n",
    "deriv_path = deriv_root"
   ]
  },
  {
   "cell_type": "code",
   "execution_count": 6,
   "metadata": {},
   "outputs": [],
   "source": [
    "figure_dir = deriv_root / \"figures\""
   ]
  },
  {
   "cell_type": "markdown",
   "metadata": {},
   "source": [
    "## Load Experimental Data from JSON - output of sklearn's \"cross_validate\" function"
   ]
  },
  {
   "cell_type": "code",
   "execution_count": 229,
   "metadata": {},
   "outputs": [],
   "source": [
    "# here name the experiment something that is uniquely identifiable\n",
    "# THIS STR WILL BE USED TO PREFIX/SUFFIX ALL FIGURES DOWNSTREAM\n",
    "exp_name = \"fragility_benchmark\"\n",
    "exp_name = \"spikes_benchmark\"\n",
    "exp_name = \"tfrdelta_benchmark\"\n",
    "exp_name = \"betaquantiles_jhhjeff_spikes\""
   ]
  },
  {
   "cell_type": "code",
   "execution_count": 154,
   "metadata": {},
   "outputs": [],
   "source": [
    "n_splits = 20\n",
    "\n",
    "# clf_name = \"rf\"\n",
    "clf_name = \"lr\"\n",
    "max_features = 5"
   ]
  },
  {
   "cell_type": "code",
   "execution_count": 9,
   "metadata": {},
   "outputs": [
    {
     "name": "stdout",
     "output_type": "stream",
     "text": [
      "[WindowsPath('D:/OneDriveParent/OneDrive - Johns Hopkins/Shared Documents/bids/derivatives/cv10_logreg_mtry5_exp_ssdist_meandiff.json'),\n",
      " WindowsPath('D:/OneDriveParent/OneDrive - Johns Hopkins/Shared Documents/bids/derivatives/cv10_rf_mtry28_exp_fragility_alleeg.json'),\n",
      " WindowsPath('D:/OneDriveParent/OneDrive - Johns Hopkins/Shared Documents/bids/derivatives/cv10_rf_mtry28_exp_fragility_alphaO1O2_alleeg.json'),\n",
      " WindowsPath('D:/OneDriveParent/OneDrive - Johns Hopkins/Shared Documents/bids/derivatives/cv10_rf_mtry28_exp_fragility_alphaO1O2_multiclass.json'),\n",
      " WindowsPath('D:/OneDriveParent/OneDrive - Johns Hopkins/Shared Documents/bids/derivatives/cv10_rf_mtry28_exp_fragility_benchmark_alleeg.json'),\n",
      " WindowsPath('D:/OneDriveParent/OneDrive - Johns Hopkins/Shared Documents/bids/derivatives/cv10_rf_mtry28_exp_fragility_multiclass.json'),\n",
      " WindowsPath('D:/OneDriveParent/OneDrive - Johns Hopkins/Shared Documents/bids/derivatives/cv10_rf_mtry32_exp_fragility_benchmark_alleeg.json'),\n",
      " WindowsPath('D:/OneDriveParent/OneDrive - Johns Hopkins/Shared Documents/bids/derivatives/cv10_rf_mtry32_exp_fragility_benchmark_without_abnormaleeg.json'),\n",
      " WindowsPath('D:/OneDriveParent/OneDrive - Johns Hopkins/Shared Documents/bids/derivatives/cv10_rf_mtry32_exp_fragility_multiclass.json'),\n",
      " WindowsPath('D:/OneDriveParent/OneDrive - Johns Hopkins/Shared Documents/bids/derivatives/cv10_rf_mtry32_exp_ssdist_meandiff.json'),\n",
      " WindowsPath('D:/OneDriveParent/OneDrive - Johns Hopkins/Shared Documents/bids/derivatives/cv10_rf_mtry5_exp_ssdist_meandiff.json'),\n",
      " WindowsPath('D:/OneDriveParent/OneDrive - Johns Hopkins/Shared Documents/bids/derivatives/cv1_logreg_mtry5_exp_ssdist_meandiff.json'),\n",
      " WindowsPath('D:/OneDriveParent/OneDrive - Johns Hopkins/Shared Documents/bids/derivatives/cv1_logreg_mtry6_exp_abnormalspikes_meandiff.json'),\n",
      " WindowsPath('D:/OneDriveParent/OneDrive - Johns Hopkins/Shared Documents/bids/derivatives/cv20_lr_mtry5_alphaquantiles_jhhjeff_spikes.json'),\n",
      " WindowsPath('D:/OneDriveParent/OneDrive - Johns Hopkins/Shared Documents/bids/derivatives/cv20_lr_mtry5_betaquantiles_jhhjeff_spikes.json'),\n",
      " WindowsPath('D:/OneDriveParent/OneDrive - Johns Hopkins/Shared Documents/bids/derivatives/cv20_lr_mtry5_deltaquantiles_jhhjeff_spikes.json'),\n",
      " WindowsPath('D:/OneDriveParent/OneDrive - Johns Hopkins/Shared Documents/bids/derivatives/cv20_lr_mtry5_fragilityquantiles_jhhjeff_spikes.json'),\n",
      " WindowsPath('D:/OneDriveParent/OneDrive - Johns Hopkins/Shared Documents/bids/derivatives/cv20_lr_mtry5_sourcesinkquantiles_jhhjeff_spikes.json'),\n",
      " WindowsPath('D:/OneDriveParent/OneDrive - Johns Hopkins/Shared Documents/bids/derivatives/cv20_lr_mtry5_thetaquantiles_jhhjeff_spikes.json'),\n",
      " WindowsPath('D:/OneDriveParent/OneDrive - Johns Hopkins/Shared Documents/bids/derivatives/cv20_rf_mtry4_alphalobes_jhhjeff_spikes.json'),\n",
      " WindowsPath('D:/OneDriveParent/OneDrive - Johns Hopkins/Shared Documents/bids/derivatives/cv20_rf_mtry4_betalobes_jhhjeff_spikes.json'),\n",
      " WindowsPath('D:/OneDriveParent/OneDrive - Johns Hopkins/Shared Documents/bids/derivatives/cv20_rf_mtry4_deltalobes_jhhjeff_spikes.json'),\n",
      " WindowsPath('D:/OneDriveParent/OneDrive - Johns Hopkins/Shared Documents/bids/derivatives/cv20_rf_mtry4_fragilitylobes_jhhjeff_spikes.json'),\n",
      " WindowsPath('D:/OneDriveParent/OneDrive - Johns Hopkins/Shared Documents/bids/derivatives/cv20_rf_mtry4_sourcesinklobes_jhhjeff.json'),\n",
      " WindowsPath('D:/OneDriveParent/OneDrive - Johns Hopkins/Shared Documents/bids/derivatives/cv20_rf_mtry4_sourcesinklobes_jhhjeff_spikes.json'),\n",
      " WindowsPath('D:/OneDriveParent/OneDrive - Johns Hopkins/Shared Documents/bids/derivatives/cv20_rf_mtry4_thetalobes_jhhjeff_spikes.json'),\n",
      " WindowsPath('D:/OneDriveParent/OneDrive - Johns Hopkins/Shared Documents/bids/derivatives/cv20_rf_mtry5_alphaquantiles_jhhjeff_spikes.json'),\n",
      " WindowsPath('D:/OneDriveParent/OneDrive - Johns Hopkins/Shared Documents/bids/derivatives/cv20_rf_mtry5_betaquantiles_jhhjeff_spikes.json'),\n",
      " WindowsPath('D:/OneDriveParent/OneDrive - Johns Hopkins/Shared Documents/bids/derivatives/cv20_rf_mtry5_deltaquantiles_jhhjeff_spikes.json'),\n",
      " WindowsPath('D:/OneDriveParent/OneDrive - Johns Hopkins/Shared Documents/bids/derivatives/cv20_rf_mtry5_fragilityquantiles_jhhjeff_spikes.json'),\n",
      " WindowsPath('D:/OneDriveParent/OneDrive - Johns Hopkins/Shared Documents/bids/derivatives/cv20_rf_mtry5_sourcesinkquantiles_jhhjeff_spikes.json'),\n",
      " WindowsPath('D:/OneDriveParent/OneDrive - Johns Hopkins/Shared Documents/bids/derivatives/cv20_rf_mtry5_thetaquantiles_jhhjeff_spikes.json')]\n"
     ]
    }
   ],
   "source": [
    "pprint(list(deriv_root.glob(\"*.json\")))"
   ]
  },
  {
   "cell_type": "code",
   "execution_count": 230,
   "metadata": {},
   "outputs": [
    {
     "name": "stdout",
     "output_type": "stream",
     "text": [
      "D:\\OneDriveParent\\OneDrive - Johns Hopkins\\Shared Documents\\bids\\derivatives\\cv20_lr_mtry5_betaquantiles_jhhjeff_spikes.json\n"
     ]
    }
   ],
   "source": [
    "# specify the filenmae\n",
    "fname = (\n",
    "    deriv_root\n",
    "    / f\"cv{n_splits}_{clf_name}_mtry{max_features}_{exp_name}.json\"  # _without_abnormaleeg.json\"\n",
    ")\n",
    "print(fname)"
   ]
  },
  {
   "cell_type": "code",
   "execution_count": 231,
   "metadata": {},
   "outputs": [],
   "source": [
    "with open(fname.with_suffix(\".json\"), \"r\") as fp:\n",
    "    scores = json.load(fp)"
   ]
  },
  {
   "cell_type": "code",
   "execution_count": 12,
   "metadata": {},
   "outputs": [
    {
     "name": "stdout",
     "output_type": "stream",
     "text": [
      "23\n"
     ]
    }
   ],
   "source": [
    "ch_names = get_standard_1020_montage()\n",
    "print(len(ch_names))\n",
    "\n",
    "ch_names = [\n",
    "    \"Fp1\",\n",
    "    \"Fp2\",\n",
    "    \"F3\",\n",
    "    \"F4\",\n",
    "    #\"C3\",\n",
    "    #\"C4\",\n",
    "    \"P3\",\n",
    "    \"P4\",\n",
    "    \"O1\",\n",
    "    \"O2\",\n",
    "    \"F7\",\n",
    "    \"F8\",\n",
    "    \"T3\",\n",
    "    \"T4\",\n",
    "    \"T5\",\n",
    "    \"T6\",\n",
    "]"
   ]
  },
  {
   "cell_type": "markdown",
   "metadata": {},
   "source": [
    "# Load Metadata DataFrame"
   ]
  },
  {
   "cell_type": "code",
   "execution_count": 66,
   "metadata": {},
   "outputs": [
    {
     "data": {
      "text/html": [
       "<div>\n",
       "<style scoped>\n",
       "    .dataframe tbody tr th:only-of-type {\n",
       "        vertical-align: middle;\n",
       "    }\n",
       "\n",
       "    .dataframe tbody tr th {\n",
       "        vertical-align: top;\n",
       "    }\n",
       "\n",
       "    .dataframe thead th {\n",
       "        text-align: right;\n",
       "    }\n",
       "</style>\n",
       "<table border=\"1\" class=\"dataframe\">\n",
       "  <thead>\n",
       "    <tr style=\"text-align: right;\">\n",
       "      <th></th>\n",
       "      <th>participant_id</th>\n",
       "      <th>age</th>\n",
       "      <th>sex</th>\n",
       "      <th>hand</th>\n",
       "      <th>site</th>\n",
       "      <th>exp_condition</th>\n",
       "      <th>outcome</th>\n",
       "      <th>num_aeds</th>\n",
       "      <th>final_diagnosis</th>\n",
       "      <th>epilepsy_type</th>\n",
       "      <th>epilepsy_hemisphere</th>\n",
       "      <th>epilepsy_lobe</th>\n",
       "      <th>orig_sub_id</th>\n",
       "    </tr>\n",
       "  </thead>\n",
       "  <tbody>\n",
       "    <tr>\n",
       "      <th>0</th>\n",
       "      <td>sub-jhh001</td>\n",
       "      <td>NaN</td>\n",
       "      <td>NaN</td>\n",
       "      <td>NaN</td>\n",
       "      <td>BV</td>\n",
       "      <td>non-epilepsy-normal-eeg</td>\n",
       "      <td>0</td>\n",
       "      <td>0.0</td>\n",
       "      <td>PNES</td>\n",
       "      <td>NaN</td>\n",
       "      <td>NaN</td>\n",
       "      <td>NaN</td>\n",
       "      <td>NaN</td>\n",
       "    </tr>\n",
       "    <tr>\n",
       "      <th>1</th>\n",
       "      <td>sub-jhh002</td>\n",
       "      <td>NaN</td>\n",
       "      <td>NaN</td>\n",
       "      <td>NaN</td>\n",
       "      <td>BV</td>\n",
       "      <td>non-epilepsy-normal-eeg</td>\n",
       "      <td>0</td>\n",
       "      <td>0.0</td>\n",
       "      <td>PNES</td>\n",
       "      <td>NaN</td>\n",
       "      <td>NaN</td>\n",
       "      <td>NaN</td>\n",
       "      <td>NaN</td>\n",
       "    </tr>\n",
       "    <tr>\n",
       "      <th>2</th>\n",
       "      <td>sub-jhh003</td>\n",
       "      <td>NaN</td>\n",
       "      <td>NaN</td>\n",
       "      <td>NaN</td>\n",
       "      <td>BV</td>\n",
       "      <td>non-epilepsy-normal-eeg</td>\n",
       "      <td>0</td>\n",
       "      <td>0.0</td>\n",
       "      <td>PNES</td>\n",
       "      <td>NaN</td>\n",
       "      <td>NaN</td>\n",
       "      <td>NaN</td>\n",
       "      <td>NaN</td>\n",
       "    </tr>\n",
       "    <tr>\n",
       "      <th>3</th>\n",
       "      <td>sub-jhh004</td>\n",
       "      <td>NaN</td>\n",
       "      <td>NaN</td>\n",
       "      <td>NaN</td>\n",
       "      <td>BV</td>\n",
       "      <td>non-epilepsy-normal-eeg</td>\n",
       "      <td>0</td>\n",
       "      <td>1.0</td>\n",
       "      <td>PNES</td>\n",
       "      <td>NaN</td>\n",
       "      <td>NaN</td>\n",
       "      <td>NaN</td>\n",
       "      <td>NaN</td>\n",
       "    </tr>\n",
       "    <tr>\n",
       "      <th>4</th>\n",
       "      <td>sub-jhh005</td>\n",
       "      <td>NaN</td>\n",
       "      <td>NaN</td>\n",
       "      <td>NaN</td>\n",
       "      <td>BV</td>\n",
       "      <td>non-epilepsy-normal-eeg</td>\n",
       "      <td>0</td>\n",
       "      <td>1.0</td>\n",
       "      <td>PNES</td>\n",
       "      <td>NaN</td>\n",
       "      <td>NaN</td>\n",
       "      <td>NaN</td>\n",
       "      <td>NaN</td>\n",
       "    </tr>\n",
       "  </tbody>\n",
       "</table>\n",
       "</div>"
      ],
      "text/plain": [
       "  participant_id  age  sex  hand site            exp_condition  outcome  \\\n",
       "0     sub-jhh001  NaN  NaN   NaN   BV  non-epilepsy-normal-eeg        0   \n",
       "1     sub-jhh002  NaN  NaN   NaN   BV  non-epilepsy-normal-eeg        0   \n",
       "2     sub-jhh003  NaN  NaN   NaN   BV  non-epilepsy-normal-eeg        0   \n",
       "3     sub-jhh004  NaN  NaN   NaN   BV  non-epilepsy-normal-eeg        0   \n",
       "4     sub-jhh005  NaN  NaN   NaN   BV  non-epilepsy-normal-eeg        0   \n",
       "\n",
       "   num_aeds final_diagnosis epilepsy_type epilepsy_hemisphere epilepsy_lobe  \\\n",
       "0       0.0            PNES           NaN                 NaN           NaN   \n",
       "1       0.0            PNES           NaN                 NaN           NaN   \n",
       "2       0.0            PNES           NaN                 NaN           NaN   \n",
       "3       1.0            PNES           NaN                 NaN           NaN   \n",
       "4       1.0            PNES           NaN                 NaN           NaN   \n",
       "\n",
       "   orig_sub_id  \n",
       "0          NaN  \n",
       "1          NaN  \n",
       "2          NaN  \n",
       "3          NaN  \n",
       "4          NaN  "
      ]
     },
     "metadata": {},
     "output_type": "display_data"
    }
   ],
   "source": [
    "meta_df = pd.DataFrame()\n",
    "for root in [jhroot, jeffroot]:\n",
    "    df = pd.read_csv(os.path.join(root, \"participants.tsv\"), sep=\"\\t\")\n",
    "    meta_df = pd.concat((meta_df, df), axis=0)\n",
    "\n",
    "# meta_df = pd.concat(df_list, axis=0)\n",
    "\n",
    "display(meta_df.head())"
   ]
  },
  {
   "cell_type": "markdown",
   "metadata": {
    "tags": []
   },
   "source": [
    "# Make Plots of the Derived Dataset"
   ]
  },
  {
   "cell_type": "code",
   "execution_count": 232,
   "metadata": {},
   "outputs": [],
   "source": [
    "# either train or test set\n",
    "which_set = \"test\"\n",
    "\n",
    "# construct mean/std ROC curves\n",
    "tprs = []\n",
    "aucs = scores[f\"{which_set}_roc_auc\"]\n",
    "mean_fpr = np.linspace(0, 1, 100)\n",
    "\n",
    "for idx in range(n_splits):\n",
    "    fpr = scores[f\"{which_set}_fpr\"][idx]\n",
    "    tpr = scores[f\"{which_set}_tpr\"][idx]\n",
    "    thresh = scores[f\"{which_set}_thresholds\"][idx]\n",
    "\n",
    "    # interpolate the tpr\n",
    "    interp_tpr = np.interp(mean_fpr, fpr, tpr)\n",
    "    interp_tpr[0] = 0.0\n",
    "    tprs.append(interp_tpr)\n",
    "\n",
    "mean_tpr = np.mean(tprs, axis=0)\n",
    "mean_tpr[-1] = 1.0\n",
    "mean_auc = auc(mean_fpr, mean_tpr)\n",
    "mean_auc = np.mean(aucs)\n",
    "std_auc = np.std(aucs)\n",
    "\n",
    "std_tpr = np.std(tprs, axis=0)\n",
    "tprs_upper = np.minimum(mean_tpr + std_tpr, 1)\n",
    "tprs_lower = np.maximum(mean_tpr - std_tpr, 0)"
   ]
  },
  {
   "cell_type": "markdown",
   "metadata": {},
   "source": [
    "## Print out Summary Statistics"
   ]
  },
  {
   "cell_type": "code",
   "execution_count": 15,
   "metadata": {},
   "outputs": [
    {
     "name": "stdout",
     "output_type": "stream",
     "text": [
      "dict_keys(['fit_time', 'score_time', 'test_balanced_accuracy', 'train_balanced_accuracy', 'test_cohen_kappa_score', 'train_cohen_kappa_score', 'test_roc_auc', 'train_roc_auc', 'test_f1', 'train_f1', 'test_recall', 'train_recall', 'test_precision', 'train_precision', 'test_jaccard', 'train_jaccard', 'test_average_precision', 'train_average_precision', 'test_neg_brier_score', 'train_neg_brier_score', 'test_fraction_pos', 'test_mean_pred_value', 'test_fpr', 'test_tpr', 'test_fnr', 'test_tnr', 'test_thresholds', 'train_fraction_pos', 'train_mean_pred_value', 'train_y_pred_proba', 'train_fpr', 'train_tpr', 'train_fnr', 'train_tnr', 'train_thresholds', 'train_subjects', 'test_subjects', 'test_y_pred_proba', 'test_importances', 'test_specificity', 'test_y', 'test_y_encodings', 'y_classes', 'abnormal_fpaths'])\n"
     ]
    }
   ],
   "source": [
    "print(scores.keys())"
   ]
  },
  {
   "cell_type": "code",
   "execution_count": 20,
   "metadata": {},
   "outputs": [
    {
     "data": {
      "text/plain": [
       "16"
      ]
     },
     "execution_count": 20,
     "metadata": {},
     "output_type": "execute_result"
    }
   ],
   "source": [
    "len(scores['abnormal_fpaths'])"
   ]
  },
  {
   "cell_type": "code",
   "execution_count": 54,
   "metadata": {},
   "outputs": [
    {
     "name": "stdout",
     "output_type": "stream",
     "text": [
      "[[1.9969999999999999, 0.997, 0.994, 0.993, 0.975, 0.974, 0.972, 0.967, 0.96, 0.899, 0.887, 0.7, 0.618, 0.392, 0.247, 0.102, 0.098, 0.012], [1.999, 0.999, 0.998, 0.997, 0.71, 0.705, 0.646, 0.64, 0.614, 0.577, 0.483, 0.351, 0.074, 0.02], [1.9889999999999999, 0.989, 0.865, 0.844, 0.711, 0.587, 0.456, 0.431, 0.399, 0.376, 0.324, 0.294, 0.266, 0.22, 0.104], [1.9969999999999999, 0.997, 0.991, 0.98, 0.646, 0.64, 0.63, 0.597, 0.519, 0.517, 0.49, 0.404, 0.368, 0.254], [1.998, 0.998, 0.99, 0.987, 0.973, 0.971, 0.951, 0.9, 0.684, 0.515, 0.443, 0.171, 0.15, 0.137, 0.049, 0.022], [1.991, 0.991, 0.967, 0.963, 0.932, 0.923, 0.899, 0.88, 0.878, 0.859, 0.734, 0.73, 0.412, 0.281, 0.185, 0.108, 0.077], [1.999, 0.999, 0.997, 0.994, 0.993, 0.991, 0.95, 0.928, 0.743, 0.673, 0.486, 0.393, 0.368, 0.213], [1.995, 0.995, 0.985, 0.983, 0.981, 0.955, 0.953, 0.87, 0.862, 0.754, 0.749, 0.641, 0.632, 0.621, 0.515, 0.447, 0.328, 0.215, 0.162, 0.158, 0.155, 0.033], [1.9969999999999999, 0.997, 0.994, 0.959, 0.944, 0.889, 0.859, 0.837, 0.836, 0.73, 0.683, 0.545, 0.463, 0.451, 0.358, 0.261, 0.228, 0.192], [1.9889999999999999, 0.989, 0.928, 0.922, 0.885, 0.883, 0.751, 0.705, 0.681, 0.64, 0.615, 0.554, 0.432, 0.212, 0.141], [1.988, 0.988, 0.931, 0.93, 0.891, 0.883, 0.807, 0.784, 0.773, 0.722, 0.65, 0.617, 0.601, 0.594, 0.556, 0.441, 0.169, 0.129], [1.9969999999999999, 0.997, 0.987, 0.949, 0.947, 0.895, 0.868, 0.829, 0.796, 0.756, 0.727, 0.702, 0.665, 0.585, 0.563, 0.397, 0.22, 0.187], [2.0, 1.0, 0.96, 0.956, 0.943, 0.931, 0.615, 0.508, 0.487, 0.456, 0.371, 0.354, 0.326, 0.15, 0.136, 0.118, 0.11, 0.071, 0.057], [1.996, 0.996, 0.983, 0.972, 0.894, 0.865, 0.833, 0.8, 0.759, 0.746, 0.729, 0.698, 0.649, 0.5, 0.44, 0.312, 0.151], [1.9969999999999999, 0.997, 0.99, 0.983, 0.879, 0.749, 0.735, 0.719, 0.651, 0.572, 0.546, 0.436, 0.429, 0.252, 0.175, 0.152, 0.072, 0.016], [1.99, 0.99, 0.988, 0.966, 0.799, 0.789, 0.739, 0.713, 0.681, 0.588, 0.475, 0.471, 0.422, 0.193], [1.999, 0.999, 0.984, 0.982, 0.843, 0.831, 0.587, 0.555, 0.502, 0.467, 0.423, 0.312, 0.284, 0.209, 0.196, 0.188, 0.153], [1.9969999999999999, 0.997, 0.975, 0.971, 0.902, 0.901, 0.892, 0.877, 0.853, 0.773, 0.735, 0.691, 0.59, 0.544, 0.342, 0.263, 0.014], [1.991, 0.991, 0.885, 0.876, 0.872, 0.804, 0.744, 0.736, 0.648, 0.615, 0.585, 0.561, 0.538, 0.529, 0.528, 0.508, 0.483, 0.414, 0.39, 0.271, 0.237, 0.233, 0.183], [1.995, 0.995, 0.965, 0.957, 0.951, 0.947, 0.852, 0.827, 0.735, 0.732, 0.653, 0.599, 0.569, 0.563, 0.538, 0.293, 0.171, 0.166]]\n"
     ]
    }
   ],
   "source": [
    "thresh = scores['test_thresholds']\n",
    "print(thresh)"
   ]
  },
  {
   "cell_type": "code",
   "execution_count": 77,
   "metadata": {},
   "outputs": [],
   "source": [
    "aucs = scores[\"test_roc_auc\"]\n",
    "extra_str = \"\""
   ]
  },
  {
   "cell_type": "code",
   "execution_count": 78,
   "metadata": {},
   "outputs": [
    {
     "name": "stdout",
     "output_type": "stream",
     "text": [
      "0.5177083333333333 0.09152309027313865\n"
     ]
    }
   ],
   "source": [
    "print(np.mean(aucs), np.std(aucs))"
   ]
  },
  {
   "cell_type": "code",
   "execution_count": 233,
   "metadata": {},
   "outputs": [
    {
     "name": "stdout",
     "output_type": "stream",
     "text": [
      "test_balanced_accuracy 0.5631628787878789 +/- 0.046938662003752074\n"
     ]
    }
   ],
   "source": [
    "metric = f\"test_balanced_accuracy\"\n",
    "print(metric, np.mean(scores[metric]), \"+/-\", np.std(scores[metric]))"
   ]
  },
  {
   "cell_type": "code",
   "execution_count": 80,
   "metadata": {},
   "outputs": [
    {
     "name": "stdout",
     "output_type": "stream",
     "text": [
      "test_precision 0.6989434687999762 +/- 0.03210841393569382\n"
     ]
    }
   ],
   "source": [
    "metric = f\"test_precision{extra_str}\"\n",
    "print(metric, np.mean(scores[metric]), \"+/-\", np.std(scores[metric]))"
   ]
  },
  {
   "cell_type": "code",
   "execution_count": 81,
   "metadata": {},
   "outputs": [
    {
     "name": "stdout",
     "output_type": "stream",
     "text": [
      "test_recall 0.84375 +/- 0.08108958523345236\n"
     ]
    }
   ],
   "source": [
    "metric = f\"test_recall{extra_str}\"\n",
    "print(metric, np.mean(scores[metric]), \"+/-\", np.std(scores[metric]))"
   ]
  },
  {
   "cell_type": "code",
   "execution_count": 82,
   "metadata": {},
   "outputs": [
    {
     "name": "stdout",
     "output_type": "stream",
     "text": [
      "test_f1 0.7634829686981432 +/- 0.04821750952767362\n"
     ]
    }
   ],
   "source": [
    "metric = f\"test_f1{extra_str}\"\n",
    "print(metric, np.mean(scores[metric]), \"+/-\", np.std(scores[metric]))"
   ]
  },
  {
   "cell_type": "code",
   "execution_count": 234,
   "metadata": {},
   "outputs": [
    {
     "name": "stdout",
     "output_type": "stream",
     "text": [
      "test_specificity 0.1909090909090909 +/- 0.09491187735373227\n"
     ]
    }
   ],
   "source": [
    "metric = \"test_specificity\"\n",
    "print(metric, np.mean(scores[metric]), \"+/-\", np.std(scores[metric]))"
   ]
  },
  {
   "cell_type": "code",
   "execution_count": 235,
   "metadata": {},
   "outputs": [
    {
     "name": "stdout",
     "output_type": "stream",
     "text": [
      "fit_time: 20\n",
      "score_time: 20\n",
      "test_balanced_accuracy: 20\n",
      "test_cohen_kappa_score: 20\n",
      "test_roc_auc: 20\n",
      "test_f1: 20\n",
      "test_recall: 20\n",
      "test_precision: 20\n",
      "test_jaccard: 20\n",
      "test_average_precision: 20\n",
      "test_neg_brier_score: 20\n",
      "test_specificity: 20\n",
      "test_y: 20\n"
     ]
    },
    {
     "data": {
      "text/html": [
       "<div>\n",
       "<style scoped>\n",
       "    .dataframe tbody tr th:only-of-type {\n",
       "        vertical-align: middle;\n",
       "    }\n",
       "\n",
       "    .dataframe tbody tr th {\n",
       "        vertical-align: top;\n",
       "    }\n",
       "\n",
       "    .dataframe thead th {\n",
       "        text-align: right;\n",
       "    }\n",
       "</style>\n",
       "<table border=\"1\" class=\"dataframe\">\n",
       "  <thead>\n",
       "    <tr style=\"text-align: right;\">\n",
       "      <th></th>\n",
       "      <th>fit_time</th>\n",
       "      <th>score_time</th>\n",
       "      <th>test_balanced_accuracy</th>\n",
       "      <th>test_cohen_kappa_score</th>\n",
       "      <th>test_roc_auc</th>\n",
       "      <th>test_f1</th>\n",
       "      <th>test_recall</th>\n",
       "      <th>test_precision</th>\n",
       "      <th>test_jaccard</th>\n",
       "      <th>test_average_precision</th>\n",
       "      <th>test_neg_brier_score</th>\n",
       "      <th>test_specificity</th>\n",
       "      <th>test_y</th>\n",
       "    </tr>\n",
       "  </thead>\n",
       "  <tbody>\n",
       "    <tr>\n",
       "      <th>0</th>\n",
       "      <td>0.013003</td>\n",
       "      <td>0.006001</td>\n",
       "      <td>0.615530</td>\n",
       "      <td>0.279176</td>\n",
       "      <td>0.681818</td>\n",
       "      <td>0.836364</td>\n",
       "      <td>0.958333</td>\n",
       "      <td>0.741935</td>\n",
       "      <td>0.718750</td>\n",
       "      <td>0.739593</td>\n",
       "      <td>0.257143</td>\n",
       "      <td>0.272727</td>\n",
       "      <td>[1, 1, 0, 1, 1, 1, 1, 1, 1, 1, 0, 1, 1, 0, 0, ...</td>\n",
       "    </tr>\n",
       "    <tr>\n",
       "      <th>1</th>\n",
       "      <td>0.012002</td>\n",
       "      <td>0.006001</td>\n",
       "      <td>0.615530</td>\n",
       "      <td>0.279176</td>\n",
       "      <td>0.780303</td>\n",
       "      <td>0.836364</td>\n",
       "      <td>0.958333</td>\n",
       "      <td>0.741935</td>\n",
       "      <td>0.718750</td>\n",
       "      <td>0.739593</td>\n",
       "      <td>0.257143</td>\n",
       "      <td>0.272727</td>\n",
       "      <td>[1, 1, 1, 1, 1, 1, 0, 0, 1, 1, 0, 0, 0, 1, 0, ...</td>\n",
       "    </tr>\n",
       "    <tr>\n",
       "      <th>2</th>\n",
       "      <td>0.011002</td>\n",
       "      <td>0.007001</td>\n",
       "      <td>0.528409</td>\n",
       "      <td>0.066667</td>\n",
       "      <td>0.715909</td>\n",
       "      <td>0.777778</td>\n",
       "      <td>0.875000</td>\n",
       "      <td>0.700000</td>\n",
       "      <td>0.636364</td>\n",
       "      <td>0.698214</td>\n",
       "      <td>0.342857</td>\n",
       "      <td>0.181818</td>\n",
       "      <td>[1, 1, 1, 0, 1, 1, 1, 0, 1, 1, 1, 0, 0, 1, 1, ...</td>\n",
       "    </tr>\n",
       "    <tr>\n",
       "      <th>3</th>\n",
       "      <td>0.011002</td>\n",
       "      <td>0.006001</td>\n",
       "      <td>0.524621</td>\n",
       "      <td>0.063260</td>\n",
       "      <td>0.787879</td>\n",
       "      <td>0.807018</td>\n",
       "      <td>0.958333</td>\n",
       "      <td>0.696970</td>\n",
       "      <td>0.676471</td>\n",
       "      <td>0.696501</td>\n",
       "      <td>0.314286</td>\n",
       "      <td>0.090909</td>\n",
       "      <td>[0, 1, 1, 0, 1, 1, 1, 1, 1, 1, 1, 0, 0, 1, 1, ...</td>\n",
       "    </tr>\n",
       "    <tr>\n",
       "      <th>4</th>\n",
       "      <td>0.012002</td>\n",
       "      <td>0.006001</td>\n",
       "      <td>0.615530</td>\n",
       "      <td>0.279176</td>\n",
       "      <td>0.693182</td>\n",
       "      <td>0.836364</td>\n",
       "      <td>0.958333</td>\n",
       "      <td>0.741935</td>\n",
       "      <td>0.718750</td>\n",
       "      <td>0.739593</td>\n",
       "      <td>0.257143</td>\n",
       "      <td>0.272727</td>\n",
       "      <td>[1, 0, 0, 0, 1, 0, 0, 1, 1, 1, 0, 1, 1, 1, 1, ...</td>\n",
       "    </tr>\n",
       "  </tbody>\n",
       "</table>\n",
       "</div>"
      ],
      "text/plain": [
       "   fit_time  score_time  test_balanced_accuracy  test_cohen_kappa_score  \\\n",
       "0  0.013003    0.006001                0.615530                0.279176   \n",
       "1  0.012002    0.006001                0.615530                0.279176   \n",
       "2  0.011002    0.007001                0.528409                0.066667   \n",
       "3  0.011002    0.006001                0.524621                0.063260   \n",
       "4  0.012002    0.006001                0.615530                0.279176   \n",
       "\n",
       "   test_roc_auc   test_f1  test_recall  test_precision  test_jaccard  \\\n",
       "0      0.681818  0.836364     0.958333        0.741935      0.718750   \n",
       "1      0.780303  0.836364     0.958333        0.741935      0.718750   \n",
       "2      0.715909  0.777778     0.875000        0.700000      0.636364   \n",
       "3      0.787879  0.807018     0.958333        0.696970      0.676471   \n",
       "4      0.693182  0.836364     0.958333        0.741935      0.718750   \n",
       "\n",
       "   test_average_precision  test_neg_brier_score  test_specificity  \\\n",
       "0                0.739593              0.257143          0.272727   \n",
       "1                0.739593              0.257143          0.272727   \n",
       "2                0.698214              0.342857          0.181818   \n",
       "3                0.696501              0.314286          0.090909   \n",
       "4                0.739593              0.257143          0.272727   \n",
       "\n",
       "                                              test_y  \n",
       "0  [1, 1, 0, 1, 1, 1, 1, 1, 1, 1, 0, 1, 1, 0, 0, ...  \n",
       "1  [1, 1, 1, 1, 1, 1, 0, 0, 1, 1, 0, 0, 0, 1, 0, ...  \n",
       "2  [1, 1, 1, 0, 1, 1, 1, 0, 1, 1, 1, 0, 0, 1, 1, ...  \n",
       "3  [0, 1, 1, 0, 1, 1, 1, 1, 1, 1, 1, 0, 0, 1, 1, ...  \n",
       "4  [1, 0, 0, 0, 1, 0, 0, 1, 1, 1, 0, 1, 1, 1, 1, ...  "
      ]
     },
     "metadata": {},
     "output_type": "display_data"
    }
   ],
   "source": [
    "# create a dataframe from the statistics\n",
    "temp_scores = scores.copy()\n",
    "test_y_encodings = scores['test_y_encodings']\n",
    "y_classes = scores['y_classes']\n",
    "abnormal_fpaths = scores['abnormal_fpaths']\n",
    "keys = list(temp_scores.keys())\n",
    "for key in keys:\n",
    "    if any(\n",
    "        [\n",
    "            chars in key\n",
    "            for chars in [\n",
    "                \"fpr\",\n",
    "                \"tpr\",\n",
    "                \"fnr\",\n",
    "                \"tnr\",\n",
    "                \"threshold\",\n",
    "                \"fraction_pos\",\n",
    "                \"mean_pred_value\",\n",
    "                \"subjects\",\n",
    "                \"y_pred_proba\",\n",
    "                \"importances\",\n",
    "                \"train\",\n",
    "                \"test_y_encodings\",\n",
    "                \"y_classes\",\n",
    "                \"abnormal_fpaths\"\n",
    "            ]\n",
    "        ]\n",
    "    ):\n",
    "        temp_scores.pop(key)\n",
    "for key, val in temp_scores.items():\n",
    "    print(f\"{key}: {len(val)}\")\n",
    "score_df = pd.DataFrame(temp_scores)\n",
    "\n",
    "display(score_df.head())"
   ]
  },
  {
   "cell_type": "code",
   "execution_count": 25,
   "metadata": {},
   "outputs": [],
   "source": [
    "# score_df.describe().to_csv(figure_dir / f\"{exp_name}_{exp_name}_metrics_meansstd.csv\")"
   ]
  },
  {
   "cell_type": "markdown",
   "metadata": {},
   "source": [
    "## Making ROC Curve With Confidence Interval"
   ]
  },
  {
   "cell_type": "code",
   "execution_count": 236,
   "metadata": {},
   "outputs": [
    {
     "data": {
      "image/png": "[encoded data removed]",
      "text/plain": [
       "<Figure size 432x288 with 1 Axes>"
      ]
     },
     "metadata": {
      "needs_background": "light"
     },
     "output_type": "display_data"
    }
   ],
   "source": [
    "fig, ax = plt.subplots()\n",
    "\n",
    "for idx in range(n_splits):\n",
    "    fpr = scores[f\"{which_set}_fpr\"][idx]\n",
    "    tpr = scores[f\"{which_set}_tpr\"][idx]\n",
    "\n",
    "    ax.plot(fpr, tpr, color=\"teal\", lw=2, alpha=0.5, ls=\"--\")\n",
    "\n",
    "ax.plot([0, 1], [0, 1], linestyle=\"--\", lw=2, color=\"r\", label=\"Chance\", alpha=0.8)\n",
    "ax.plot(\n",
    "    mean_fpr,\n",
    "    mean_tpr,\n",
    "    color=\"b\",\n",
    "    label=r\"Mean ROC (AUC = %0.2f $\\pm$ %0.2f)\" % (mean_auc, std_auc),\n",
    "    lw=3,\n",
    "    alpha=0.8,\n",
    ")\n",
    "\n",
    "\n",
    "ax.fill_between(\n",
    "    mean_fpr,\n",
    "    tprs_lower,\n",
    "    tprs_upper,\n",
    "    color=\"grey\",\n",
    "    alpha=0.2,\n",
    "    label=r\"$\\pm$ 1 std. dev.\",\n",
    ")\n",
    "ax.set(\n",
    "    xlim=[-0.05, 1.05],\n",
    "    ylim=[-0.05, 1.05],\n",
    "    title=f\"ROC Curve on Held-out Test Set to \\nPredict EEG Abnormality - {exp_name}\",\n",
    "    xlabel=\"False Postive Rate\",\n",
    "    ylabel=\"True Positive Rate\",\n",
    ")\n",
    "ax.legend(loc=\"lower right\", fontsize=12)\n",
    "\n",
    "# And save it to PDF\n",
    "fig.savefig(figure_dir / f\"roc_curve_{exp_name}.pdf\", bbox_inches=\"tight\")"
   ]
  },
  {
   "cell_type": "markdown",
   "metadata": {},
   "source": [
    "# Boxplot of Metrics"
   ]
  },
  {
   "cell_type": "code",
   "execution_count": 27,
   "metadata": {},
   "outputs": [
    {
     "name": "stdout",
     "output_type": "stream",
     "text": [
      "dict_keys(['fit_time', 'score_time', 'test_roc_auc', 'train_roc_auc', 'test_accuracy', 'train_accuracy', 'test_balanced_accuracy', 'train_balanced_accuracy', 'test_average_precision', 'train_average_precision', 'test_precision', 'train_precision', 'test_neg_brier_score', 'train_neg_brier_score', 'test_recall', 'train_recall', 'test_f1', 'train_f1', 'test_fraction_pos', 'test_mean_pred_value', 'test_fpr', 'test_tpr', 'test_fnr', 'test_tnr', 'test_thresholds', 'train_fraction_pos', 'train_mean_pred_value', 'train_y_pred_proba', 'train_fpr', 'train_tpr', 'train_fnr', 'train_tnr', 'train_thresholds', 'train_subjects', 'test_subjects', 'test_y_pred_proba', 'test_importances', 'test_specificity', 'test_y', 'test_y_encodings'])\n"
     ]
    }
   ],
   "source": [
    "print(scores.keys())"
   ]
  },
  {
   "cell_type": "code",
   "execution_count": 100,
   "metadata": {},
   "outputs": [
    {
     "data": {
      "text/plain": [
       "700"
      ]
     },
     "execution_count": 100,
     "metadata": {},
     "output_type": "execute_result"
    }
   ],
   "source": [
    "test_subjs_ = scores['test_subjects']\n",
    "test_subjs = [item for sublist in test_subjs_ for item in sublist]\n",
    "len(test_subjs)"
   ]
  },
  {
   "cell_type": "code",
   "execution_count": 237,
   "metadata": {},
   "outputs": [],
   "source": [
    "metrics = [\n",
    "    \"test_f1\",\n",
    "    \"test_recall\",\n",
    "    \"test_precision\",\n",
    "    \"test_balanced_accuracy\",\n",
    "    #     \"test_neg_brier_score\",\n",
    "]\n",
    "\n",
    "df = pd.DataFrame()\n",
    "for metric in metrics:\n",
    "    metric_scores = scores[metric]\n",
    "    df[metric] = metric_scores\n",
    "\n",
    "df = pd.melt(df, value_name=\"value\", var_name=\"metric\")"
   ]
  },
  {
   "cell_type": "code",
   "execution_count": 238,
   "metadata": {},
   "outputs": [
    {
     "data": {
      "text/plain": [
       "<matplotlib.lines.Line2D at 0x201fee5e3a0>"
      ]
     },
     "execution_count": 238,
     "metadata": {},
     "output_type": "execute_result"
    },
    {
     "data": {
      "image/png": "[encoded data removed]",
      "text/plain": [
       "<Figure size 720x360 with 1 Axes>"
      ]
     },
     "metadata": {
      "needs_background": "light"
     },
     "output_type": "display_data"
    }
   ],
   "source": [
    "fig, ax = plt.subplots(figsize=(10, 5))\n",
    "sns.boxplot(\n",
    "    x=\"metric\",\n",
    "    y=\"value\",\n",
    "    #     color=\"gray\",\n",
    "    data=df,\n",
    "    ax=ax,\n",
    "    boxprops=dict(alpha=0.4),\n",
    ")\n",
    "sns.swarmplot(\n",
    "    x=\"metric\",\n",
    "    y=\"value\",\n",
    "    #     hue=\"exp_condition\",\n",
    "    #               color=\"black\",\n",
    "    data=df,\n",
    "    ax=ax,\n",
    ")\n",
    "ax.set(ylim=[0, 1])\n",
    "ax.axhline(0.5, label=\"chance\")"
   ]
  },
  {
   "cell_type": "markdown",
   "metadata": {},
   "source": [
    "## Plotting Predicted Probability of Success Scores"
   ]
  },
  {
   "cell_type": "code",
   "execution_count": 239,
   "metadata": {},
   "outputs": [],
   "source": [
    "# TODO: modify to fit the participants framework\n",
    "y_probas = []\n",
    "subj_list = []\n",
    "folds = []\n",
    "\n",
    "# experimental condition\n",
    "exp_conditions = []\n",
    "y_outcomes = []\n",
    "centers = []\n",
    "num_aeds = []\n",
    "final_diagnosis = []\n",
    "epilepsy_types = []\n",
    "epilepsy_hemisphere = []\n",
    "epilepsy_lobe = []\n",
    "\n",
    "# create dataframe over the entire cross validation\n",
    "for idx in range(n_splits):\n",
    "    y_pred_proba = scores[f\"{which_set}_y_pred_proba\"][idx]\n",
    "    cv_subjects = scores[f\"{which_set}_subjects\"][idx]\n",
    "    for subject in cv_subjects:\n",
    "        # extract column data for each subject\n",
    "        outcome = meta_df[meta_df[\"participant_id\"] == f\"sub-{subject}\"][\n",
    "            \"exp_condition\"\n",
    "        ].values[0]\n",
    "        aeds = meta_df[meta_df[\"participant_id\"] == f\"sub-{subject}\"][\n",
    "            \"num_aeds\"\n",
    "        ].values[0]\n",
    "        diagnosis = meta_df[meta_df[\"participant_id\"] == f\"sub-{subject}\"][\n",
    "            \"final_diagnosis\"\n",
    "        ].values[0]\n",
    "        epi_type = meta_df[meta_df[\"participant_id\"] == f\"sub-{subject}\"][\n",
    "            \"epilepsy_type\"\n",
    "        ].values[0]\n",
    "        epi_hemisphere = meta_df[meta_df[\"participant_id\"] == f\"sub-{subject}\"][\n",
    "            \"epilepsy_hemisphere\"\n",
    "        ].values[0]\n",
    "        epi_lobe = meta_df[meta_df[\"participant_id\"] == f\"sub-{subject}\"][\n",
    "            \"epilepsy_lobe\"\n",
    "        ].values[0]\n",
    "        \n",
    "        # this should match the original\n",
    "        if outcome.startswith(\"epilepsy\"):\n",
    "            y_outcome = \"epilepsy\"\n",
    "        else:\n",
    "            y_outcome = outcome\n",
    "        y_outcomes.append(y_outcome)\n",
    "        exp_conditions.append(outcome)\n",
    "        num_aeds.append(aeds)\n",
    "        \n",
    "        if subject.startswith(\"jhh\"):\n",
    "            center = \"JHH\"\n",
    "        elif subject.startswith(\"jeff\"):\n",
    "            center = \"Jefferson\"\n",
    "        elif subject.startswith(\"upmc\"):\n",
    "            center = \"UPMC\"\n",
    "        centers.append(center)\n",
    "\n",
    "    y_probas.extend(y_pred_proba)\n",
    "    subj_list.extend(cv_subjects)\n",
    "    folds.extend([idx] * len(cv_subjects))"
   ]
  },
  {
   "cell_type": "code",
   "execution_count": 240,
   "metadata": {},
   "outputs": [],
   "source": [
    "for ab_fpath in abnormal_fpaths:\n",
    "    y_probas.append(1.0)\n",
    "    sub_str = ab_fpath.split(\"_\")[0].split(\"-\")[1]\n",
    "    sub_id = int(re.search(r'\\d+', sub_str).group())\n",
    "    subj_list.append(sub_id)\n",
    "    center_id = sub_str.replace(str(sub_id), \"\")\n",
    "    centers.append(center_id.upper())\n",
    "    folds.append(-1)\n",
    "    if sub_id < 100:\n",
    "        exp_conditions.append(\"non-epilepsy-normal-eeg\")\n",
    "        y_outcomes.append(\"non-epilepsy-normal-eeg\")\n",
    "    elif sub_id > 200:\n",
    "        exp_conditions.append(\"epilepsy-abnormal-eeg\")\n",
    "        y_outcomes.append(\"epilepsy\")\n",
    "    else:\n",
    "        exp_conditions.append(\"epilepsy-normal-eeg\")\n",
    "        y_outcomes.append(\"epilepsy\")"
   ]
  },
  {
   "cell_type": "code",
   "execution_count": 241,
   "metadata": {},
   "outputs": [
    {
     "data": {
      "text/html": [
       "<div>\n",
       "<style scoped>\n",
       "    .dataframe tbody tr th:only-of-type {\n",
       "        vertical-align: middle;\n",
       "    }\n",
       "\n",
       "    .dataframe tbody tr th {\n",
       "        vertical-align: top;\n",
       "    }\n",
       "\n",
       "    .dataframe thead th {\n",
       "        text-align: right;\n",
       "    }\n",
       "</style>\n",
       "<table border=\"1\" class=\"dataframe\">\n",
       "  <thead>\n",
       "    <tr style=\"text-align: right;\">\n",
       "      <th></th>\n",
       "      <th>y_proba</th>\n",
       "      <th>subject</th>\n",
       "      <th>exp_condition</th>\n",
       "      <th>outcome</th>\n",
       "      <th>center</th>\n",
       "      <th>fold</th>\n",
       "    </tr>\n",
       "  </thead>\n",
       "  <tbody>\n",
       "    <tr>\n",
       "      <th>711</th>\n",
       "      <td>1.0</td>\n",
       "      <td>213</td>\n",
       "      <td>epilepsy-abnormal-eeg</td>\n",
       "      <td>epilepsy</td>\n",
       "      <td>JHH</td>\n",
       "      <td>-1</td>\n",
       "    </tr>\n",
       "    <tr>\n",
       "      <th>712</th>\n",
       "      <td>1.0</td>\n",
       "      <td>216</td>\n",
       "      <td>epilepsy-abnormal-eeg</td>\n",
       "      <td>epilepsy</td>\n",
       "      <td>JHH</td>\n",
       "      <td>-1</td>\n",
       "    </tr>\n",
       "    <tr>\n",
       "      <th>713</th>\n",
       "      <td>1.0</td>\n",
       "      <td>213</td>\n",
       "      <td>epilepsy-abnormal-eeg</td>\n",
       "      <td>epilepsy</td>\n",
       "      <td>JHH</td>\n",
       "      <td>-1</td>\n",
       "    </tr>\n",
       "    <tr>\n",
       "      <th>714</th>\n",
       "      <td>1.0</td>\n",
       "      <td>216</td>\n",
       "      <td>epilepsy-abnormal-eeg</td>\n",
       "      <td>epilepsy</td>\n",
       "      <td>JHH</td>\n",
       "      <td>-1</td>\n",
       "    </tr>\n",
       "    <tr>\n",
       "      <th>715</th>\n",
       "      <td>1.0</td>\n",
       "      <td>206</td>\n",
       "      <td>epilepsy-abnormal-eeg</td>\n",
       "      <td>epilepsy</td>\n",
       "      <td>JEFF</td>\n",
       "      <td>-1</td>\n",
       "    </tr>\n",
       "  </tbody>\n",
       "</table>\n",
       "</div>"
      ],
      "text/plain": [
       "    y_proba subject          exp_condition   outcome center fold\n",
       "711     1.0     213  epilepsy-abnormal-eeg  epilepsy    JHH   -1\n",
       "712     1.0     216  epilepsy-abnormal-eeg  epilepsy    JHH   -1\n",
       "713     1.0     213  epilepsy-abnormal-eeg  epilepsy    JHH   -1\n",
       "714     1.0     216  epilepsy-abnormal-eeg  epilepsy    JHH   -1\n",
       "715     1.0     206  epilepsy-abnormal-eeg  epilepsy   JEFF   -1"
      ]
     },
     "metadata": {},
     "output_type": "display_data"
    }
   ],
   "source": [
    "proba_df = pd.DataFrame(\n",
    "    (y_probas, subj_list, exp_conditions, y_outcomes, centers, folds)\n",
    ").T\n",
    "proba_df.columns = [\"y_proba\", \"subject\", \"exp_condition\", \"outcome\", \"center\", \"fold\"]\n",
    "\n",
    "display(proba_df.tail())"
   ]
  },
  {
   "cell_type": "code",
   "execution_count": 242,
   "metadata": {},
   "outputs": [],
   "source": [
    "y_trues = []\n",
    "for outcome in y_outcomes:\n",
    "    if outcome == \"epilepsy\":\n",
    "        y_trues.append(1)\n",
    "    else:\n",
    "        y_trues.append(0)\n"
   ]
  },
  {
   "cell_type": "code",
   "execution_count": 243,
   "metadata": {},
   "outputs": [
    {
     "data": {
      "text/plain": [
       "[Text(0, 0.5, 'Predicted Probability of Epilepsy'),\n",
       " Text(0.5, 0, 'Experimental Condition')]"
      ]
     },
     "execution_count": 243,
     "metadata": {},
     "output_type": "execute_result"
    },
    {
     "data": {
      "image/png": "[encoded data removed]",
      "text/plain": [
       "<Figure size 720x432 with 1 Axes>"
      ]
     },
     "metadata": {
      "needs_background": "light"
     },
     "output_type": "display_data"
    }
   ],
   "source": [
    "fig, ax = plt.subplots(figsize=(10, 6))\n",
    "sns.boxplot(\n",
    "    x=\"outcome\",\n",
    "    y=\"y_proba\",\n",
    "    color=\"gray\",\n",
    "    data=proba_df,\n",
    "    ax=ax,\n",
    "    boxprops=dict(alpha=0.4),\n",
    ")\n",
    "sns.swarmplot(\n",
    "    x=\"outcome\",\n",
    "    y=\"y_proba\",\n",
    "    hue=\"exp_condition\",\n",
    "    #               color=\"black\",\n",
    "    data=proba_df,\n",
    "    ax=ax,\n",
    ")\n",
    "\n",
    "ax.set(\n",
    "    ylabel=\"Predicted Probability of Epilepsy\",\n",
    "    xlabel=\"Experimental Condition\",\n",
    ")\n",
    "# fig.savefig(figure_dir / f\"{exp_name}_y_pred_proba_surgical_outcomes.pdf\", bbox_inches=\"tight\")"
   ]
  },
  {
   "cell_type": "markdown",
   "metadata": {},
   "source": [
    "## Boundary Split Figure"
   ]
  },
  {
   "cell_type": "code",
   "execution_count": 112,
   "metadata": {},
   "outputs": [
    {
     "data": {
      "text/plain": [
       "<matplotlib.legend.Legend at 0x16634e610>"
      ]
     },
     "execution_count": 112,
     "metadata": {},
     "output_type": "execute_result"
    },
    {
     "data": {
      "image/png": "[encoded data removed]",
      "text/plain": [
       "<Figure size 432x288 with 1 Axes>"
      ]
     },
     "metadata": {
      "needs_background": "light"
     },
     "output_type": "display_data"
    }
   ],
   "source": [
    "fig, ax = plt.subplots(figsize=(6, 4))\n",
    "ax.axhline([0.5], ls=\"--\", label=\"decision boundary\")\n",
    "# sns.boxplot(\n",
    "#     x=\"center\",\n",
    "#     y=\"y_proba\",\n",
    "#     data=proba_df,\n",
    "#     color=\"gray\",\n",
    "#     ax=ax,\n",
    "#     boxprops=dict(alpha=0.4),\n",
    "# )\n",
    "sns.swarmplot(x=\"center\", y=\"y_proba\", hue=\"outcome\", data=proba_df, ax=ax)\n",
    "ax.set(\n",
    "    ylabel=\"Predicted Probability of Epilepsy\",\n",
    "    xlabel=\"Clinical Center\",\n",
    ")\n",
    "ax.legend(fontsize=12)\n",
    "# fig.savefig(figure_dir / f\"{exp_name}_boundary_split_center.pdf\", bbox_inches=\"tight\")"
   ]
  },
  {
   "cell_type": "markdown",
   "metadata": {},
   "source": [
    "## Plotting Calibration Curve"
   ]
  },
  {
   "cell_type": "code",
   "execution_count": 53,
   "metadata": {},
   "outputs": [],
   "source": [
    "mean_brier = np.mean(scores[\"test_neg_brier_score\"])\n",
    "std_brier = np.std(scores[\"test_neg_brier_score\"])"
   ]
  },
  {
   "cell_type": "code",
   "execution_count": 32,
   "metadata": {},
   "outputs": [
    {
     "data": {
      "text/plain": [
       "<matplotlib.legend.Legend at 0x14e4b4370>"
      ]
     },
     "execution_count": 32,
     "metadata": {},
     "output_type": "execute_result"
    },
    {
     "data": {
      "image/png": "[encoded data removed]",
      "text/plain": [
       "<Figure size 648x432 with 1 Axes>"
      ]
     },
     "metadata": {
      "needs_background": "light"
     },
     "output_type": "display_data"
    }
   ],
   "source": [
    "frac_pred_vals = []\n",
    "mean_pred_values = np.linspace(0, 1.0, 200)\n",
    "\n",
    "fig, ax = plt.subplots(figsize=(9, 6))\n",
    "color = \"blue\"\n",
    "for idx in range(n_splits):\n",
    "    y_pred_proba = scores[f\"{which_set}_y_pred_proba\"][idx]\n",
    "\n",
    "    mean_predicted_value = scores[f\"{which_set}_mean_pred_value\"][idx]\n",
    "    fraction_of_positives = scores[f\"{which_set}_fraction_pos\"][idx]\n",
    "\n",
    "    # create a linear interpolation of the calibration\n",
    "    interp_frac_positives = np.interp(\n",
    "        mean_pred_values, mean_predicted_value, fraction_of_positives\n",
    "    )\n",
    "\n",
    "    # store curves\n",
    "    frac_pred_vals.append(interp_frac_positives)\n",
    "#     ax.plot(mean_pred_values, interp_frac_positives, \"s-\", alpha=0.5)\n",
    "\n",
    "# get the mean calibration curve\n",
    "mean_frac_pred_values = np.mean(frac_pred_vals, axis=0)\n",
    "ax.plot(\n",
    "    mean_pred_values,\n",
    "    mean_frac_pred_values,\n",
    "    \"s-\",\n",
    "    label=rf\"(Neg. Brier Loss = {np.round(mean_brier,3)} $\\pm$ {np.round(std_brier, 3)})\",\n",
    ")\n",
    "\n",
    "# get upper and lower bound for tpr\n",
    "std_fpv = np.std(frac_pred_vals, axis=0)\n",
    "tprs_upper = np.minimum(mean_frac_pred_values + std_fpv, 1)\n",
    "tprs_lower = np.maximum(mean_frac_pred_values - std_fpv, 0)\n",
    "ax.fill_between(\n",
    "    mean_pred_values,\n",
    "    tprs_lower,\n",
    "    tprs_upper,\n",
    "    color=color,\n",
    "    alpha=0.2,\n",
    "    label=r\"$\\pm$ 1 std. dev.\",\n",
    ")\n",
    "ax.plot([0, 1], [0, 1], \"k:\", label=\"Perfectly calibrated\")\n",
    "\n",
    "\n",
    "ax.set(\n",
    "    ylabel=\"Fraction of Epilepsy Outcomes\",\n",
    "    ylim=[-0.05, 1.05],\n",
    "    xlabel=\"Mean Predicted Probabilities of Subjects Being Epileptic\",\n",
    "    title=\"Calibration (Reliability) Curve\",\n",
    ")\n",
    "\n",
    "ax.legend(loc=\"lower right\", fontsize=12)\n",
    "\n",
    "# fig.savefig(figure_dir / f\"{exp_name}_calibration_curve.pdf\", bbox_inches=\"tight\")"
   ]
  },
  {
   "cell_type": "markdown",
   "metadata": {},
   "source": [
    "# Look at Feature Importances"
   ]
  },
  {
   "cell_type": "code",
   "execution_count": 69,
   "metadata": {},
   "outputs": [
    {
     "name": "stdout",
     "output_type": "stream",
     "text": [
      "dict_keys(['fit_time', 'score_time', 'test_roc_auc', 'train_roc_auc', 'test_accuracy', 'train_accuracy', 'test_balanced_accuracy', 'train_balanced_accuracy', 'test_average_precision', 'train_average_precision', 'test_precision', 'train_precision', 'test_neg_brier_score', 'train_neg_brier_score', 'test_recall', 'train_recall', 'test_f1', 'train_f1', 'test_fraction_pos', 'test_mean_pred_value', 'test_fpr', 'test_tpr', 'test_fnr', 'test_tnr', 'test_thresholds', 'train_fraction_pos', 'train_mean_pred_value', 'train_y_pred_proba', 'train_fpr', 'train_tpr', 'train_fnr', 'train_tnr', 'train_thresholds', 'train_subjects', 'test_subjects', 'test_y_pred_proba', 'test_importances', 'test_specificity'])\n"
     ]
    }
   ],
   "source": [
    "print(scores.keys())"
   ]
  },
  {
   "cell_type": "code",
   "execution_count": 82,
   "metadata": {},
   "outputs": [
    {
     "name": "stdout",
     "output_type": "stream",
     "text": [
      "10\n",
      "[(32, 5), (32, 5), (32, 5), (32, 5), (32, 5), (32, 5), (32, 5), (32, 5), (32, 5), (32, 5)]\n"
     ]
    }
   ],
   "source": [
    "importances = scores[\"test_importances\"]\n",
    "print(len(importances))\n",
    "print([np.array(x).shape for x in importances])"
   ]
  },
  {
   "cell_type": "code",
   "execution_count": 110,
   "metadata": {},
   "outputs": [
    {
     "name": "stdout",
     "output_type": "stream",
     "text": [
      "done\n"
     ]
    },
    {
     "data": {
      "image/png": "[encoded data removed]",
      "text/plain": [
       "<Figure size 576x288 with 1 Axes>"
      ]
     },
     "metadata": {
      "needs_background": "light"
     },
     "output_type": "display_data"
    }
   ],
   "source": [
    "mean_imp = np.array([np.mean(x, axis=1) for x in importances]).mean(axis=0)\n",
    "std_imp = np.array([np.std(x, axis=1) for x in importances]).mean(axis=0)\n",
    "\n",
    "# plt.figure()\n",
    "# sns.heatmap(mean_imp, xticklabels=chr)\n",
    "\n",
    "# plt.figure()\n",
    "# sns.heatmap(std_imp)\n",
    "\n",
    "fig, ax = plt.subplots(figsize=(8, 4))\n",
    "ax.bar(np.arange(len(mean_imp)), mean_imp)\n",
    "ax.set(\n",
    "    xticks=np.arange(len(mean_imp)),\n",
    ")\n",
    "ax.set_xticklabels(\n",
    "    [f\"mean-{ch}\" for ch in ch_names] + [f\"std-{ch}\" for ch in ch_names],\n",
    "    rotation=90,\n",
    "    ha=\"right\",\n",
    ")\n",
    "print(\"done\")"
   ]
  },
  {
   "cell_type": "markdown",
   "metadata": {},
   "source": [
    "# Analyze Problematic Folds"
   ]
  },
  {
   "cell_type": "code",
   "execution_count": 56,
   "metadata": {},
   "outputs": [],
   "source": [
    "metric = \"test_roc_auc\"\n",
    "\n",
    "metric_list = []\n",
    "subject_list = []\n",
    "\n",
    "for idx in range(n_splits):\n",
    "    metric_list.append(scores[metric][idx])\n",
    "    subject_list.append(scores[\"test_subjects\"][idx])"
   ]
  },
  {
   "cell_type": "code",
   "execution_count": 57,
   "metadata": {},
   "outputs": [
    {
     "name": "stdout",
     "output_type": "stream",
     "text": [
      "[0.42222222 0.53333333 0.53333333 0.55555556 0.55555556 0.61111111\n",
      " 0.65555556 0.68888889 0.71111111 0.71111111]\n",
      "[5 8 4 1 3 9 2 7 0 6]\n"
     ]
    }
   ],
   "source": [
    "sorted_idx = np.argsort(metric_list)\n",
    "print(np.array(metric_list)[sorted_idx])\n",
    "print(sorted_idx)"
   ]
  },
  {
   "cell_type": "code",
   "execution_count": 73,
   "metadata": {
    "tags": []
   },
   "outputs": [],
   "source": [
    "def _get_subject_intersections(indices, scores, key=\"test_subjects\"):\n",
    "    subs = []\n",
    "    for idx in indices:\n",
    "        subs.extend(scores[key][idx])\n",
    "\n",
    "    # get subjects and occurrences in each fold\n",
    "    subjects, counts = np.unique(subs, return_counts=True)\n",
    "\n",
    "    sorted_idx = np.argsort(counts)[::-1]\n",
    "    return subjects[sorted_idx], counts[sorted_idx]\n",
    "\n",
    "\n",
    "subjects, counts = _get_subject_intersections(\n",
    "    sorted_idx[:3], scores=scores, key=\"test_subjects\"\n",
    ")\n",
    "# subjects, counts = _get_subject_intersections(\n",
    "#     sorted_idx[:3], scores=scores, key=\"train_subjects\"\n",
    "# )"
   ]
  },
  {
   "cell_type": "markdown",
   "metadata": {},
   "source": [
    "## Print out incorrectly annotated set of subjects"
   ]
  },
  {
   "cell_type": "code",
   "execution_count": 76,
   "metadata": {},
   "outputs": [
    {
     "name": "stdout",
     "output_type": "stream",
     "text": [
      "Consistently incorrectly annotated set of subjects\n",
      "jhh027\n",
      "0 [0.6722499999999999, 0.6873666666666666, 0.6216666666666666]\n",
      "jhh125\n",
      "1 [0.24125000000000002, 0.29491666666666666, 0.11853333333333335, 0.15266666666666664, 0.15683333333333335]\n",
      "jhh113\n",
      "1 [0.3903833333333333, 0.4400833333333333, 0.5288333333333333]\n",
      "jhh008\n",
      "0 [0.6361666666666667, 0.66075, 0.6799999999999999, 0.7066666666666668]\n",
      "jhh124\n",
      "1 [0.1826666666666667, 0.23241666666666666, 0.14833333333333334, 0.28824999999999995, 0.2718333333333333, 0.13266666666666665]\n",
      "jhh028\n",
      "0 [0.5271999999999999, 0.5120666666666666, 0.7125999999999999, 0.33175000000000004, 0.6092000000000001]\n",
      "jhh116\n",
      "1 [0.43693333333333334, 0.4655833333333333]\n",
      "jhh019\n",
      "0 [0.6230833333333332]\n",
      "jhh003\n",
      "0 [0.7310833333333333, 0.6947333333333334, 0.6423666666666665, 0.6657000000000002]\n",
      "jhh010\n",
      "0 [0.7201666666666666, 0.7330833333333334, 0.6645000000000001, 0.46244999999999997]\n",
      "jhh012\n",
      "0 [0.5806666666666667, 0.6784166666666667, 0.43625]\n",
      "jhh015\n",
      "0 [0.5006666666666667, 0.5336166666666666, 0.5548666666666665]\n",
      "jhh016\n",
      "0 [0.6369166666666664, 0.6621666666666668, 0.5859166666666668, 0.51255]\n",
      "jhh017\n",
      "0 [0.5912833333333333, 0.5255, 0.6785333333333334]\n",
      "jhh018\n",
      "0 [0.7876666666666667, 0.7018333333333333, 0.5688333333333333]\n",
      "jhh114\n",
      "1 [0.48025, 0.2651666666666666, 0.48508333333333326, 0.2281]\n",
      "jhh023\n",
      "0 [0.5469166666666666, 0.6114333333333335, 0.7179166666666666]\n",
      "jhh024\n",
      "0 [0.58485, 0.599]\n",
      "jhh025\n",
      "0 [0.6697833333333332, 0.6931333333333332, 0.6282833333333334, 0.5061666666666667]\n",
      "jhh118\n",
      "1 [0.2595, 0.10476666666666666, 0.168, 0.08475]\n",
      "jhh102\n",
      "1 [0.4522833333333333, 0.34858333333333336, 0.4053333333333334]\n",
      "jhh103\n",
      "1 [0.12691666666666668, 0.341, 0.24180000000000004, 0.09951666666666667, 0.08826666666666666, 0.17808333333333332]\n",
      "jhh107\n",
      "1 [0.42725, 0.22768333333333332]\n",
      "jhh022\n",
      "0 [0.8474166666666667, 0.7056666666666668]\n"
     ]
    }
   ],
   "source": [
    "print(\"Consistently incorrectly annotated set of subjects\")\n",
    "\n",
    "for subject in subjects:\n",
    "    subj_pred_probas = []\n",
    "    for idx in range(n_splits):\n",
    "        # get the index of the subject in test subjects for each fold\n",
    "        if not subject in scores[\"test_subjects\"][idx]:\n",
    "            continue\n",
    "        subj_idx = scores[\"test_subjects\"][idx].index(subject)\n",
    "        y_pred_proba = scores[\"test_y_pred_proba\"][idx][subj_idx]\n",
    "\n",
    "        subj_pred_probas.append(y_pred_proba)\n",
    "\n",
    "    outcome = meta_df[meta_df[\"participant_id\"] == f\"sub-{subject}\"][\n",
    "        \"exp_condition\"\n",
    "    ].values[0]\n",
    "\n",
    "    if outcome.startswith(\"epilepsy\"):\n",
    "        outcome = 1\n",
    "    elif outcome.startswith(\"non-epilepsy\"):\n",
    "        outcome = 0\n",
    "\n",
    "    if outcome == 1 and np.mean(subj_pred_probas) > 0.5:\n",
    "        continue\n",
    "    elif outcome == 0 and np.mean(subj_pred_probas) < 0.5:\n",
    "        continue\n",
    "\n",
    "    print(subject)\n",
    "#     print(outcome, subj_pred_probas)"
   ]
  },
  {
   "cell_type": "code",
   "execution_count": 18,
   "metadata": {},
   "outputs": [],
   "source": [
    "for idx in range(n_splits):\n",
    "    test_subs = scores[\"test_subjects\"][idx]\n",
    "\n",
    "    for subject in test_subs:\n",
    "        outcome = meta_df[meta_df[\"participant_id\"] == f\"sub-{subject}\"][\n",
    "            \"exp_condition\"\n",
    "        ].values[0]"
   ]
  },
  {
   "cell_type": "markdown",
   "metadata": {},
   "source": [
    "# McNemars Test To Compare Two Different Classification Scenarios"
   ]
  },
  {
   "cell_type": "code",
   "execution_count": 55,
   "metadata": {},
   "outputs": [],
   "source": [
    "from numpy.testing import assert_array_equal"
   ]
  },
  {
   "cell_type": "code",
   "execution_count": 56,
   "metadata": {},
   "outputs": [],
   "source": [
    "from sklearn import preprocessing\n",
    "\n",
    "enc = preprocessing.OrdinalEncoder()"
   ]
  },
  {
   "cell_type": "code",
   "execution_count": 57,
   "metadata": {},
   "outputs": [],
   "source": [
    "y_target = []\n",
    "y_modelhfo = []\n",
    "y_modelss = []\n",
    "\n",
    "y_subjs = []\n",
    "for idx in range(n_splits):\n",
    "    y = ss_scores[\"test_subjects\"][idx]\n",
    "    hfo_y = hfo_scores[\"test_subjects\"][idx]\n",
    "\n",
    "    assert_array_equal(y, hfo_y)\n",
    "    y_subjs.extend(y)\n",
    "\n",
    "    y_predhfo = hfo_scores[\"test_y_pred_proba\"][idx]\n",
    "    y_predss = ss_scores[\"test_y_pred_proba\"][idx]\n",
    "    y_modelhfo.extend(y_predhfo)\n",
    "    y_modelss.extend(y_predss)"
   ]
  },
  {
   "cell_type": "code",
   "execution_count": 58,
   "metadata": {},
   "outputs": [],
   "source": [
    "for subject in y_subjs:\n",
    "    outcome = meta_df[meta_df[\"patient_id\"] == subject][\"outcome\"].values[0]\n",
    "    y_target.append(outcome)\n",
    "\n",
    "y_target = enc.fit_transform(np.array(y_target)[:, np.newaxis]).squeeze()\n",
    "y_modelss = np.array(y_modelss).round()\n",
    "y_modelhfo = np.array(y_modelhfo).round()"
   ]
  },
  {
   "cell_type": "code",
   "execution_count": 59,
   "metadata": {},
   "outputs": [
    {
     "name": "stdout",
     "output_type": "stream",
     "text": [
      "[[98 60]\n",
      " [33  9]]\n"
     ]
    }
   ],
   "source": [
    "tb = mcnemar_table(y_target=y_target, y_model1=y_modelss, y_model2=y_modelhfo)\n",
    "print(tb)"
   ]
  },
  {
   "cell_type": "code",
   "execution_count": 60,
   "metadata": {},
   "outputs": [
    {
     "name": "stdout",
     "output_type": "stream",
     "text": [
      "chi-squared: 7.268817204301075\n",
      "p-value: 0.0070161992342396284\n"
     ]
    }
   ],
   "source": [
    "chi2, p = mcnemar(ary=tb, corrected=True)\n",
    "print(\"chi-squared:\", chi2)\n",
    "print(\"p-value:\", p)"
   ]
  },
  {
   "cell_type": "markdown",
   "metadata": {
    "tags": []
   },
   "source": [
    "# Plots Comparing HFO and Source Sink"
   ]
  },
  {
   "cell_type": "code",
   "execution_count": 59,
   "metadata": {},
   "outputs": [],
   "source": [
    "which_set = \"test\"\n",
    "\n",
    "aucs = []\n",
    "precisions = []\n",
    "recalls = []\n",
    "specificities = []\n",
    "accuracies = []\n",
    "clfs = []\n",
    "\n",
    "for clf in [\"HFO\", \"Source-Sink\"]:\n",
    "    if clf == \"HFO\":\n",
    "        scores = hfo_scores\n",
    "    elif clf == \"Source-Sink\":\n",
    "        scores = ss_scores\n",
    "\n",
    "    for idx in range(n_splits):\n",
    "        auc_ = scores[f\"{which_set}_roc_auc\"][idx]\n",
    "        precision_ = scores[f\"{which_set}_average_precision\"][idx]\n",
    "        acc = scores[f\"{which_set}_balanced_accuracy\"][idx]\n",
    "        sens = scores[f\"{which_set}_recall\"][idx]\n",
    "        spec = scores[f\"{which_set}_specificity\"][idx]\n",
    "\n",
    "        aucs.append(auc_)\n",
    "        precisions.append(precision_)\n",
    "        accuracies.append(acc)\n",
    "        recalls.append(sens)\n",
    "        specificities.append(spec)\n",
    "        clfs.append(clf)\n",
    "\n",
    "comp_df = pd.DataFrame((aucs, precisions, accuracies, recalls, specificities, clfs)).T\n",
    "comp_df.columns = [\n",
    "    \"AUC\",\n",
    "    \"Average Precision\",\n",
    "    \"Accuracy\",\n",
    "    \"Sensitivity\",\n",
    "    \"Specificity\",\n",
    "    \"Feature\",\n",
    "]"
   ]
  },
  {
   "cell_type": "code",
   "execution_count": 60,
   "metadata": {},
   "outputs": [
    {
     "data": {
      "text/html": [
       "<div>\n",
       "<style scoped>\n",
       "    .dataframe tbody tr th:only-of-type {\n",
       "        vertical-align: middle;\n",
       "    }\n",
       "\n",
       "    .dataframe tbody tr th {\n",
       "        vertical-align: top;\n",
       "    }\n",
       "\n",
       "    .dataframe thead th {\n",
       "        text-align: right;\n",
       "    }\n",
       "</style>\n",
       "<table border=\"1\" class=\"dataframe\">\n",
       "  <thead>\n",
       "    <tr style=\"text-align: right;\">\n",
       "      <th></th>\n",
       "      <th>AUC</th>\n",
       "      <th>Average Precision</th>\n",
       "      <th>Accuracy</th>\n",
       "      <th>Sensitivity</th>\n",
       "      <th>Specificity</th>\n",
       "      <th>Feature</th>\n",
       "    </tr>\n",
       "  </thead>\n",
       "  <tbody>\n",
       "    <tr>\n",
       "      <th>0</th>\n",
       "      <td>0.787879</td>\n",
       "      <td>0.821022</td>\n",
       "      <td>0.787879</td>\n",
       "      <td>0.666667</td>\n",
       "      <td>0.909091</td>\n",
       "      <td>HFO</td>\n",
       "    </tr>\n",
       "    <tr>\n",
       "      <th>1</th>\n",
       "      <td>0.656566</td>\n",
       "      <td>0.665096</td>\n",
       "      <td>0.575758</td>\n",
       "      <td>0.333333</td>\n",
       "      <td>0.818182</td>\n",
       "      <td>HFO</td>\n",
       "    </tr>\n",
       "    <tr>\n",
       "      <th>2</th>\n",
       "      <td>0.727273</td>\n",
       "      <td>0.636522</td>\n",
       "      <td>0.676768</td>\n",
       "      <td>0.444444</td>\n",
       "      <td>0.909091</td>\n",
       "      <td>HFO</td>\n",
       "    </tr>\n",
       "    <tr>\n",
       "      <th>3</th>\n",
       "      <td>0.555556</td>\n",
       "      <td>0.615104</td>\n",
       "      <td>0.414141</td>\n",
       "      <td>0.555556</td>\n",
       "      <td>0.272727</td>\n",
       "      <td>HFO</td>\n",
       "    </tr>\n",
       "    <tr>\n",
       "      <th>4</th>\n",
       "      <td>0.707071</td>\n",
       "      <td>0.748319</td>\n",
       "      <td>0.69697</td>\n",
       "      <td>0.666667</td>\n",
       "      <td>0.727273</td>\n",
       "      <td>HFO</td>\n",
       "    </tr>\n",
       "  </tbody>\n",
       "</table>\n",
       "</div>"
      ],
      "text/plain": [
       "        AUC Average Precision  Accuracy Sensitivity Specificity Feature\n",
       "0  0.787879          0.821022  0.787879    0.666667    0.909091     HFO\n",
       "1  0.656566          0.665096  0.575758    0.333333    0.818182     HFO\n",
       "2  0.727273          0.636522  0.676768    0.444444    0.909091     HFO\n",
       "3  0.555556          0.615104  0.414141    0.555556    0.272727     HFO\n",
       "4  0.707071          0.748319   0.69697    0.666667    0.727273     HFO"
      ]
     },
     "metadata": {},
     "output_type": "display_data"
    }
   ],
   "source": [
    "display(comp_df.head())"
   ]
  },
  {
   "cell_type": "code",
   "execution_count": 61,
   "metadata": {},
   "outputs": [
    {
     "data": {
      "text/html": [
       "<div>\n",
       "<style scoped>\n",
       "    .dataframe tbody tr th:only-of-type {\n",
       "        vertical-align: middle;\n",
       "    }\n",
       "\n",
       "    .dataframe tbody tr th {\n",
       "        vertical-align: top;\n",
       "    }\n",
       "\n",
       "    .dataframe thead th {\n",
       "        text-align: right;\n",
       "    }\n",
       "</style>\n",
       "<table border=\"1\" class=\"dataframe\">\n",
       "  <thead>\n",
       "    <tr style=\"text-align: right;\">\n",
       "      <th></th>\n",
       "      <th>Feature</th>\n",
       "      <th>Metric</th>\n",
       "      <th>Value</th>\n",
       "    </tr>\n",
       "  </thead>\n",
       "  <tbody>\n",
       "    <tr>\n",
       "      <th>0</th>\n",
       "      <td>HFO</td>\n",
       "      <td>AUC</td>\n",
       "      <td>0.787879</td>\n",
       "    </tr>\n",
       "    <tr>\n",
       "      <th>1</th>\n",
       "      <td>HFO</td>\n",
       "      <td>AUC</td>\n",
       "      <td>0.656566</td>\n",
       "    </tr>\n",
       "    <tr>\n",
       "      <th>2</th>\n",
       "      <td>HFO</td>\n",
       "      <td>AUC</td>\n",
       "      <td>0.727273</td>\n",
       "    </tr>\n",
       "    <tr>\n",
       "      <th>3</th>\n",
       "      <td>HFO</td>\n",
       "      <td>AUC</td>\n",
       "      <td>0.555556</td>\n",
       "    </tr>\n",
       "    <tr>\n",
       "      <th>4</th>\n",
       "      <td>HFO</td>\n",
       "      <td>AUC</td>\n",
       "      <td>0.707071</td>\n",
       "    </tr>\n",
       "  </tbody>\n",
       "</table>\n",
       "</div>"
      ],
      "text/plain": [
       "  Feature Metric     Value\n",
       "0     HFO    AUC  0.787879\n",
       "1     HFO    AUC  0.656566\n",
       "2     HFO    AUC  0.727273\n",
       "3     HFO    AUC  0.555556\n",
       "4     HFO    AUC  0.707071"
      ]
     },
     "metadata": {},
     "output_type": "display_data"
    }
   ],
   "source": [
    "df = pd.melt(\n",
    "    comp_df,\n",
    "    id_vars=[\"Feature\"],\n",
    "    value_name=\"Value\",\n",
    "    var_name=\"Metric\",\n",
    ")\n",
    "\n",
    "display(df.head())"
   ]
  },
  {
   "cell_type": "code",
   "execution_count": 64,
   "metadata": {},
   "outputs": [
    {
     "name": "stderr",
     "output_type": "stream",
     "text": [
      "/opt/conda/lib/python3.8/site-packages/seaborn/categorical.py:3002: UserWarning: The `split` parameter has been renamed to `dodge`.\n",
      "  warnings.warn(msg, UserWarning)\n"
     ]
    },
    {
     "data": {
      "image/png": "[encoded data removed]",
      "text/plain": [
       "<Figure size 720x432 with 1 Axes>"
      ]
     },
     "metadata": {
      "needs_background": "light"
     },
     "output_type": "display_data"
    }
   ],
   "source": [
    "fig, ax = plt.subplots(figsize=(10, 6))\n",
    "sns.boxplot(\n",
    "    x=\"Metric\", y=\"Value\", hue=\"Feature\", data=df, ax=ax, boxprops=dict(alpha=0.4)\n",
    ")\n",
    "sns.swarmplot(x=\"Metric\", y=\"Value\", hue=\"Feature\", data=df, ax=ax, split=True)\n",
    "\n",
    "handles, labels = ax.get_legend_handles_labels()\n",
    "ax.legend(handles[:2], labels[:2])\n",
    "ax.set(\n",
    "    xlabel=\"Cross-Validated Metric\",\n",
    "    ylabel=\"Test Set Metric Value\",\n",
    ")\n",
    "fig.savefig(figure_dir / \"compare_metrics.pdf\", bbox_inches=\"tight\")"
   ]
  },
  {
   "cell_type": "code",
   "execution_count": null,
   "metadata": {},
   "outputs": [],
   "source": []
  }
 ],
 "metadata": {
  "kernelspec": {
   "display_name": "episcalp",
   "language": "python",
   "name": "episcalp"
  },
  "language_info": {
   "codemirror_mode": {
    "name": "ipython",
    "version": 3
   },
   "file_extension": ".py",
   "mimetype": "text/x-python",
   "name": "python",
   "nbconvert_exporter": "python",
   "pygments_lexer": "ipython3",
   "version": "3.8.7"
  }
 },
 "nbformat": 4,
 "nbformat_minor": 5
}
