{
 "cells": [
  {
   "cell_type": "code",
   "execution_count": 4,
   "metadata": {},
   "outputs": [],
   "source": [
    "import os\n",
    "from pathlib import Path\n",
    "import mne"
   ]
  },
  {
   "cell_type": "code",
   "execution_count": 20,
   "metadata": {},
   "outputs": [
    {
     "name": "stdout",
     "output_type": "stream",
     "text": [
      "Extracting parameters from D:\\OneDriveParent\\Johns Hopkins\\Adam Li - epilepsy_drugs\\sub-PY16N011\\ses-presurgery\\eeg\\sub-PY16N011_ses-presurgery_task-drugtaper_acq-eeg_run-08_eeg.vhdr...\n",
      "Setting channel info structure...\n"
     ]
    }
   ],
   "source": [
    "fpath = Path(\"D:/OneDriveParent/Johns Hopkins/Adam Li - epilepsy_drugs/sub-PY16N011/ses-presurgery/eeg/sub-PY16N011_ses-presurgery_task-drugtaper_acq-eeg_run-08_eeg.vhdr\")\n",
    "raw = mne.io.read_raw_brainvision(fpath)"
   ]
  },
  {
   "cell_type": "code",
   "execution_count": 21,
   "metadata": {},
   "outputs": [
    {
     "name": "stdout",
     "output_type": "stream",
     "text": [
      "Reading 0 ... 719199  =      0.000 ...  3595.995 secs...\n"
     ]
    }
   ],
   "source": [
    "out_fpath = Path(\"D:/ScalpData/drug_tapering/sourcedata/sub-PY16N011_ses-presurgery_task-drugtaper_acq-eeg_run-08_eeg.edf\")\n",
    "mne.export.export_raw(out_fpath, raw)"
   ]
  }
 ],
 "metadata": {
  "kernelspec": {
   "display_name": "episcalp",
   "language": "python",
   "name": "episcalp"
  },
  "language_info": {
   "codemirror_mode": {
    "name": "ipython",
    "version": 3
   },
   "file_extension": ".py",
   "mimetype": "text/x-python",
   "name": "python",
   "nbconvert_exporter": "python",
   "pygments_lexer": "ipython3",
   "version": "3.8.7"
  }
 },
 "nbformat": 4,
 "nbformat_minor": 4
}
