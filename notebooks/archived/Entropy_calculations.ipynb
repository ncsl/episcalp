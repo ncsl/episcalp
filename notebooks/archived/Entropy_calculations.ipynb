{
 "cells": [
  {
   "cell_type": "code",
   "execution_count": 11,
   "metadata": {},
   "outputs": [],
   "source": [
    "import mne\n",
    "import mne_bids\n",
    "import numpy as np\n",
    "import pywt\n",
    "from scipy.stats import entropy\n",
    "import antropy as ant"
   ]
  },
  {
   "cell_type": "code",
   "execution_count": 2,
   "metadata": {},
   "outputs": [],
   "source": [
    "def _phi(U, N, m, r):\n",
    "    z = N - m + 1\n",
    "    x = np.array([U[i:i+m] for i in range(int(z))])\n",
    "    X = np.repeat(x[:, np.newaxis], 1, axis=2)\n",
    "    C = np.sum(np.absolute(x - X).max(axis=2) <= r, axis=0) / z\n",
    "    return np.log(X).sum() / z"
   ]
  },
  {
   "cell_type": "code",
   "execution_count": 3,
   "metadata": {},
   "outputs": [],
   "source": [
    "def approx_entropy(sig, win_size, thresh):\n",
    "    U = np.array(sig)\n",
    "    N = U.shape[0]\n",
    "    return abs(_phi(U, N, win_size+1, thresh) - _phi(U, N, win_size, thresh))"
   ]
  },
  {
   "cell_type": "code",
   "execution_count": 4,
   "metadata": {},
   "outputs": [],
   "source": [
    "def _phi_samp(U, N, m, r):\n",
    "    z = N - m\n",
    "    xmi = np.array([U[i:i+m] for i in range(int(z))])\n",
    "    xmj = np.array([U[i:i+m] for i in range(int(z+1))])\n",
    "    return np.sum([np.sum(np.abs(xmii - xmj).max(axis=1) <= r) -1 for xmii in xmi])"
   ]
  },
  {
   "cell_type": "code",
   "execution_count": 5,
   "metadata": {},
   "outputs": [],
   "source": [
    "def sample_entropy(sig, win_size, thresh):\n",
    "    U = np.array(sig)\n",
    "    N = U.shape[0]\n",
    "    return -np.log(_phi_samp(U, N, win_size, 3) / _phi_samp(U, N, win_size+1, 3))"
   ]
  },
  {
   "cell_type": "code",
   "execution_count": 12,
   "metadata": {},
   "outputs": [],
   "source": [
    "def spectral_entropy(sig, sfreq):\n",
    "    return ant.spectral_entropy(sig, sfreq)"
   ]
  },
  {
   "cell_type": "code",
   "execution_count": 4,
   "metadata": {},
   "outputs": [],
   "source": [
    "def total_wavelet_entropy(sig, wname='coif2', level=4):\n",
    "    y=sig\n",
    "    n = len(sig)\n",
    "    energy = np.zeros(level)\n",
    "    # Calculate energy at each level\n",
    "    for lev in range(level):\n",
    "        (y, cD) = pywt.dwt(y, wname)\n",
    "        energy[lev] = np.sum(np.power(y, 2)) / n\n",
    "    energy_tot = np.sum(energy)\n",
    "    p_j = np.array([enr/energy_tot for enr in energy])\n",
    "    wavelet_entropy = - np.sum(np.dot(p_j, np.log(p_j)))\n",
    "    return wavelet_entropy   "
   ]
  },
  {
   "cell_type": "code",
   "execution_count": 5,
   "metadata": {},
   "outputs": [
    {
     "data": {
      "text/plain": [
       "1.1231899524180522"
      ]
     },
     "execution_count": 5,
     "metadata": {},
     "output_type": "execute_result"
    }
   ],
   "source": [
    "sig = [1, 2, 3, 4, 5, 1]\n",
    "we = total_wavelet_entropy(sig)\n",
    "we"
   ]
  },
  {
   "cell_type": "code",
   "execution_count": 13,
   "metadata": {},
   "outputs": [
    {
     "data": {
      "text/plain": [
       "9.978684580434496"
      ]
     },
     "execution_count": 13,
     "metadata": {},
     "output_type": "execute_result"
    }
   ],
   "source": [
    "x = np.random.rand(3000)\n",
    "se = spectral_entropy(x, 100)\n",
    "se"
   ]
  },
  {
   "cell_type": "code",
   "execution_count": null,
   "metadata": {},
   "outputs": [],
   "source": []
  }
 ],
 "metadata": {
  "kernelspec": {
   "display_name": "episcalp",
   "language": "python",
   "name": "episcalp"
  },
  "language_info": {
   "codemirror_mode": {
    "name": "ipython",
    "version": 3
   },
   "file_extension": ".py",
   "mimetype": "text/x-python",
   "name": "python",
   "nbconvert_exporter": "python",
   "pygments_lexer": "ipython3",
   "version": "3.8.7"
  }
 },
 "nbformat": 4,
 "nbformat_minor": 4
}
