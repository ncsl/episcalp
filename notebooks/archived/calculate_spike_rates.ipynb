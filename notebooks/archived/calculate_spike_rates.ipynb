{
 "cells": [
  {
   "cell_type": "markdown",
   "metadata": {},
   "source": [
    "# Calculating Spike Rates From Lay Files\n",
    "\n",
    "MNE has some useful features that will allow us to quickly read the spike data and calculate statistics of interest.\n",
    "\n",
    "**Note**: mne must have version 0.23 or else there is a bug in the annotation reader"
   ]
  },
  {
   "cell_type": "code",
   "execution_count": 1,
   "metadata": {},
   "outputs": [],
   "source": [
    "from pathlib import Path\n",
    "import mne"
   ]
  },
  {
   "cell_type": "markdown",
   "metadata": {},
   "source": [
    "### First, we can read in the .lay file into mne's raw object"
   ]
  },
  {
   "cell_type": "code",
   "execution_count": 9,
   "metadata": {},
   "outputs": [
    {
     "name": "stdout",
     "output_type": "stream",
     "text": [
      "Loading D:\\OneDriveParent\\OneDrive - Johns Hopkins\\spike_detection\\data\\3-archive.lay\n"
     ]
    }
   ],
   "source": [
    "lay_fpath = \"D:/OneDriveParent/OneDrive - Johns Hopkins/spike_detection/data/3-archive.lay\"  # Change me\n",
    "raw = mne.io.read_raw_persyst(lay_fpath)\n",
    "verbose = True"
   ]
  },
  {
   "cell_type": "markdown",
   "metadata": {},
   "source": [
    "### We can then extract important information from this object\n",
    "\n",
    "Here, we get the annotations, duration of the recording, and number of total channels"
   ]
  },
  {
   "cell_type": "code",
   "execution_count": 10,
   "metadata": {},
   "outputs": [
    {
     "name": "stdout",
     "output_type": "stream",
     "text": [
      "mins: 16.35; n_chs: 43\n",
      "+0.000000\n",
      "segment: rec start longit eeg\n",
      "a1+a2 off\n",
      "eyes closed\n",
      "@warning: persyst is post processing. detection notifications are turned off.\n",
      "+1.000000\n",
      "10-11 hz\n",
      "+4.000000\n",
      "eyes open\n",
      "eyes closed\n",
      "+12.000000\n",
      "eyes open\n",
      "+18.000000\n",
      "eyes closed\n",
      "+24.000000\n",
      "eyes open\n",
      "+33.000000\n",
      "eyes closed\n",
      "+42.000000\n",
      "+55.000000\n",
      "ask date\n",
      "+60.000000\n",
      "answer yes\n",
      "+64.000000\n",
      "ask hosp\n",
      "answer yes\n",
      "+66.000000\n",
      "+72.000000\n",
      "ask dob\n",
      "answer yes\n",
      "+76.000000\n",
      "+81.000000\n",
      "ask age\n",
      "answer yes\n",
      "+85.000000\n",
      "+92.000000\n",
      "ask 100-7=\n",
      "answer yes\n",
      "+96.000000\n",
      "+100.000000\n",
      "ask 93-7=\n",
      "answer yes\n",
      "+110.000000\n",
      "+140.000000\n",
      "photo 1hz\n",
      "+145.000000\n",
      "photo 3hz\n",
      "+150.000000\n",
      "photo 5hz\n",
      "+155.000000\n",
      "photo 7hz\n",
      "+160.000000\n",
      "photo 9hz\n",
      "+165.000000\n",
      "photo 11hz\n",
      "+171.000000\n",
      "* gen swc frag\n",
      "photo 13hz\n",
      "z ant predom/bifront\n",
      "z slightly r max\n",
      "+172.000000\n",
      "no clinical\n",
      "polyspike admixed\n",
      "spike f4-av12 0.90\n",
      "+176.000000\n",
      "photo 15hz\n",
      "+180.000000\n",
      "photo 17hz\n",
      "+185.000000\n",
      "photo 19hz\n",
      "+190.000000\n",
      "photo 21hz\n",
      "+195.000000\n",
      "photo 20hz\n",
      "+200.000000\n",
      "photo 18hz\n",
      "+206.000000\n",
      "photo 16hz\n",
      "+211.000000\n",
      "photo 14hz\n",
      "z gen swc3hz ant max\n",
      "+213.000000\n",
      "z no clinical\n",
      "+215.000000\n",
      "photo 12hz\n",
      "photo 9hz\n",
      "+220.000000\n",
      "+225.000000\n",
      "photo 8hz\n",
      "+230.000000\n",
      "photo 6hz\n",
      "+235.000000\n",
      "photo 4hz\n",
      "+241.000000\n",
      "photo 2hz\n",
      "+338.000000\n",
      "hv start\n",
      "+366.000000\n",
      "z frag\n",
      "+368.000000\n",
      "hv 00:30\n",
      "+398.000000\n",
      "hv 01:00\n",
      "+418.000000\n",
      "great effort\n",
      "+428.000000\n",
      "hv 01:30\n",
      "+458.000000\n",
      "hv 02:00\n",
      "+460.000000\n",
      "good effort\n",
      "@seizuredetected(persyst)\n",
      "+472.000000\n",
      "3 hz\n",
      "+474.000000\n",
      "z swc frag 3 sec\n",
      "+488.000000\n",
      "hv 02:30\n",
      "spike fp2-av12 0.53\n",
      "+504.000000\n",
      "3hz\n",
      "spike t3-av12 0.62\n",
      "spike f7-av12 0.60\n",
      "spike f7-av12 0.81\n",
      "spike o1-av12 0.52\n",
      "3hz\n",
      "+518.000000\n",
      "hv 03:00\n",
      "spike fp2-av12 0.41\n",
      "spike fp2-av12 0.45\n",
      "+527.000000\n",
      "hv end\n",
      "spike t5-av12 0.52\n",
      "+537.000000\n",
      "** 4 sec swc 3hz\n",
      "spike fp1-av12 0.76\n",
      "spike fp1-av12 0.90\n",
      "spike fp2-av12 1.00\n",
      "+539.000000\n",
      "z some polyspike\n",
      "spike f7-av12 0.86\n",
      "spike f4-av12 1.00\n",
      "spike fp2-av12 0.45\n",
      "spike fp1-av12 0.80\n",
      "spike t5-av12 0.72\n",
      "+682.000000\n",
      "pat ref a1 a2 eeg\n",
      "+691.000000\n",
      "pat ipsi ear eeg\n",
      "+692.000000\n",
      "pat biocal cal\n",
      "pat iic eeg\n",
      "+693.000000\n",
      "imp check on\n",
      "+695.000000\n",
      "+702.000000\n",
      "imp check off\n",
      "+713.000000\n",
      "segment: rec start biocal cal\n",
      "a1+a2 off\n",
      "+714.000000\n",
      "recording gap 0000:0\n",
      "+719.000000\n",
      "pat biocal eeg\n",
      "+723.000000\n",
      "pat longit eeg\n",
      "+726.000000\n",
      "t5 transient\n",
      "spike t5-av12 0.98\n",
      "+732.000000\n",
      "mistake\n",
      "+751.000000\n",
      "3 mins post hv\n",
      "pat ref a1 a2 eeg\n",
      "+772.000000\n",
      "spike t6-av12 0.90\n",
      "spike p3-av12 0.73\n",
      "spike t5-av12 0.78\n",
      "spike f8-av12 0.86\n"
     ]
    }
   ],
   "source": [
    "annotations = raw.annotations\n",
    "mins = raw.n_times/(60*raw.info['sfreq'])  # We will be calculating spikes/min in each channel\n",
    "n_chs = raw.info['nchan']\n",
    "if verbose:\n",
    "    print(f\"mins: {mins}; n_chs: {n_chs}\")\n",
    "    [print(a['description']) for a in annotations]"
   ]
  },
  {
   "cell_type": "markdown",
   "metadata": {},
   "source": [
    "### We now make sure we are only extracting the Spike annotations\n",
    "\n",
    "We can also get rid of all the information except for the channel name"
   ]
  },
  {
   "cell_type": "code",
   "execution_count": 11,
   "metadata": {},
   "outputs": [
    {
     "name": "stdout",
     "output_type": "stream",
     "text": [
      "['admixed', 'f4-av12', 'fp2-av12', 't3-av12', 'f7-av12', 'f7-av12', 'o1-av12', 'fp2-av12', 'fp2-av12', 't5-av12', 'fp1-av12', 'fp1-av12', 'fp2-av12', 'some', 'f7-av12', 'f4-av12', 'fp2-av12', 'fp1-av12', 't5-av12', 't5-av12', 't6-av12', 'p3-av12', 't5-av12', 'f8-av12']\n"
     ]
    }
   ],
   "source": [
    "spike_channels = [a['description'].split(' ')[1] for a in annotations if 'spike' in a['description']]\n",
    "if verbose:\n",
    "    print(spike_channels)"
   ]
  },
  {
   "cell_type": "markdown",
   "metadata": {},
   "source": [
    "### And now we can extract relevant rates"
   ]
  },
  {
   "cell_type": "code",
   "execution_count": 5,
   "metadata": {},
   "outputs": [],
   "source": [
    "def count_spikes(spike_list):\n",
    "    spike_dict = {}\n",
    "    for ch in list(set(spike_list)):\n",
    "        spike_dict.update({ch: spike_list.count(ch)})\n",
    "    return spike_dict"
   ]
  },
  {
   "cell_type": "code",
   "execution_count": 6,
   "metadata": {},
   "outputs": [
    {
     "name": "stdout",
     "output_type": "stream",
     "text": [
      "Spike Counts:\n",
      "p3-av12: 1\n",
      "f3-av12: 1\n",
      "p4-av12: 1\n",
      "t3-av12: 6\n",
      "t5-av12: 2\n",
      "cz-av12: 4\n",
      "f7-av12: 14\n",
      "pz-fp12: 1\n",
      "\n",
      "\n",
      "Spike Rates:\n",
      "p3-av12: 0.05946481665014866\n",
      "f3-av12: 0.05946481665014866\n",
      "p4-av12: 0.05946481665014866\n",
      "t3-av12: 0.35678889990089196\n",
      "t5-av12: 0.11892963330029732\n",
      "cz-av12: 0.23785926660059464\n",
      "f7-av12: 0.8325074331020813\n",
      "pz-fp12: 0.05946481665014866\n",
      "\n",
      "\n",
      "Total Spike Rate: 0.04148708138382465 spikes/min*ch\n"
     ]
    }
   ],
   "source": [
    "spike_counts = count_spikes(spike_channels)\n",
    "spike_rates = {}\n",
    "for key, val in spike_counts.items():\n",
    "    spike_rates[key] = val / mins\n",
    "total_spike_rate = sum(spike_counts.values()) / (n_chs*mins)  # normalizing by total time and number of channels\n",
    "if verbose:\n",
    "    print(\"Spike Counts:\")\n",
    "    [print(f\"{key}: {value}\") for key, value in spike_counts.items()]\n",
    "    print(\"\\n\\nSpike Rates:\")\n",
    "    [print(f\"{key}: {value}\") for key, value in spike_rates.items()]\n",
    "    print(f\"\\n\\nTotal Spike Rate: {total_spike_rate} spikes/min*ch\")"
   ]
  }
 ],
 "metadata": {
  "kernelspec": {
   "display_name": "episcalp",
   "language": "python",
   "name": "episcalp"
  },
  "language_info": {
   "codemirror_mode": {
    "name": "ipython",
    "version": 3
   },
   "file_extension": ".py",
   "mimetype": "text/x-python",
   "name": "python",
   "nbconvert_exporter": "python",
   "pygments_lexer": "ipython3",
   "version": "3.8.7"
  }
 },
 "nbformat": 4,
 "nbformat_minor": 4
}
