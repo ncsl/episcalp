{
 "cells": [
  {
   "cell_type": "markdown",
   "metadata": {},
   "source": [
    "# Imports"
   ]
  },
  {
   "cell_type": "code",
   "execution_count": 1,
   "metadata": {},
   "outputs": [],
   "source": [
    "import os\n",
    "from pathlib import Path\n",
    "import glob\n",
    "\n",
    "import numpy as np\n",
    "import matplotlib.pyplot as plt\n",
    "import seaborn as sbs\n",
    "\n",
    "import mne\n",
    "from mne.time_frequency import tfr_morlet, psd_multitaper, psd_welch\n",
    "from mne.datasets import somato\n",
    "import mne_bids\n",
    "\n",
    "import pandas as pd\n",
    "import scipy.signal as sig\n",
    "import scipy.stats as stats\n",
    "from sklearn.svm import SVC\n",
    "from sklearn.model_selection import train_test_split\n",
    "from sklearn.linear_model import LogisticRegression\n",
    "from sklearn.metrics import roc_auc_score\n",
    "from sklearn.feature_selection import SelectKBest, chi2\n",
    "from sklearn.decomposition import PCA\n",
    "from skimage import measure\n",
    "import pickle"
   ]
  },
  {
   "cell_type": "markdown",
   "metadata": {},
   "source": [
    "# Filename Parsing"
   ]
  },
  {
   "cell_type": "code",
   "execution_count": null,
   "metadata": {},
   "outputs": [],
   "source": [
    "# Gets all the paths of vhdr files and keeps only the actual filenames (split on '-')\n",
    "files = glob.glob(\"/Users/silumen/OneDrive - Johns Hopkins/40Hz-90/sub-*/ses-*/eeg/*.vhdr\")\n",
    "for i in range(len(files)):\n",
    "    files[i] = files[i].split('/')[-1]\n",
    "    files[i] = files[i].split('_')\n",
    "\n",
    "# Separates the file names into components    \n",
    "files = np.array(files)\n",
    "subs, session, task, run = files[:, 0], files[:, 1], files[:, 2], files[:, 3]\n",
    "\n",
    "# Parses the information from the files for mne bids\n",
    "for i in range(len(files)):\n",
    "    subs[i] = int(subs[i].split('-')[-1])\n",
    "    session[i] = session[i].split('-')[-1]\n",
    "    task[i] = task[i].split('-')[-1]\n",
    "    run[i] = int(run[i].split('-')[-1])\n",
    "    \n",
    "# saves information to csv\n",
    "data = {'id':subs, 'session':session, 'run':run, 'task':task}\n",
    "df = pd.DataFrame(data)\n",
    "df.to_csv('jhu_patients.csv')"
   ]
  },
  {
   "cell_type": "code",
   "execution_count": 3,
   "metadata": {},
   "outputs": [],
   "source": [
    "# loads from csv and removes duplicates from same patient\n",
    "data = pd.read_csv('jhu_patients.csv', index_col = 0)\n",
    "data = data.drop_duplicates('id')"
   ]
  },
  {
   "cell_type": "markdown",
   "metadata": {},
   "source": [
    "# PLV Calculations"
   ]
  },
  {
   "cell_type": "code",
   "execution_count": null,
   "metadata": {},
   "outputs": [],
   "source": [
    "def plv(sig1, sig2):\n",
    "    '''\n",
    "    Function that takes in 2 signals and calculates the PLV value between those\n",
    "    '''\n",
    "    diff = sig1-sig2\n",
    "    diff = np.array([complex(0, a) for a in diff])\n",
    "    return np.abs(np.sum(np.exp(diff))) / len(diff)"
   ]
  },
  {
   "cell_type": "code",
   "execution_count": null,
   "metadata": {},
   "outputs": [],
   "source": [
    "# Prevents prints from occuring for ease of reading code (can be removed)\n",
    "%%capture\n",
    "\n",
    "# sets the path for files\n",
    "root = Path('/Users/silumen/OneDrive - Johns Hopkins/40Hz-90/')\n",
    "\n",
    "# creates directory for numpy files and for figures\n",
    "if not os.path.exists(os.path.join(root, 'derivatives/plv_time/')):\n",
    "    os.makedirs(os.path.join(root, 'derivatives/plv_time/'))\n",
    "numpy_path = os.path.join(root, 'derivatives/plv_time/')\n",
    "\n",
    "if not os.path.exists(os.path.join(root, 'derivatives/figures/plv_time/')):\n",
    "    os.makedirs(os.path.join(root, 'derivatives/figures/plv_time/'))\n",
    "figures_path = os.path.join(root, 'derivatives/figures/plv_time/')\n",
    "\n",
    "# loops thru each of the subjects\n",
    "for index, row in data.iterrows():\n",
    "    # formats the fields needed for mne_bids to the correct length\n",
    "    subject = '{:03d}'.format(row['id'])\n",
    "    session = row['session']\n",
    "    task = row['task']\n",
    "    run = '{:02d}'.format(row['run'])\n",
    "    acq = 'run'\n",
    "    datatype = 'eeg'\n",
    "    # reads in data\n",
    "    bids_path = mne_bids.BIDSPath(subject=subject, session=session, task=task,\n",
    "                     acquisition=None, run=run, datatype=datatype, root=root,\n",
    "                     suffix='eeg', extension='.vhdr')\n",
    "    raw = mne_bids.read_raw_bids(bids_path)\n",
    "    \n",
    "    # ensures all windows are 30 seconds\n",
    "    sfreq = raw.info['sfreq']\n",
    "    win_size = int(sfreq*30)\n",
    "    \n",
    "    # gets the channel names\n",
    "    cols = np.array(raw.info['ch_names'])\n",
    "    \n",
    "    # sets the new dataframe of the raw data to be processed\n",
    "    df = raw.to_data_frame()\n",
    "    df = df.set_index('time')\n",
    "    \n",
    "    # keeps all channels except midline (since they may be unplugged)\n",
    "    idx = []\n",
    "    for i, col in enumerate(cols):\n",
    "        if 'Z' in col:\n",
    "            idx.append(i)\n",
    "            df = df.drop([col], axis = 1)\n",
    "    cols = np.delete(cols, idx)\n",
    "    \n",
    "    # converts raw data to numpy array\n",
    "    df_array = np.array(df)\n",
    "    \n",
    "    # runs preprocessing to turn signal into frequency domain\n",
    "    # removes the first and last 10% of datapoints to account for\n",
    "    # hilbert transform\n",
    "    df_array = sig.hilbert(df_array, axis = 0)\n",
    "    idx = int(np.ceil(df_array.shape[0] / 10))\n",
    "    df_array = df_array[idx:-1*idx, :]\n",
    "    df_array = np.angle(df_array)\n",
    "    df_array = np.unwrap(df_array, axis = 0)\n",
    "    \n",
    "    # finds the correct number of chunks to split into\n",
    "    chunks = int(np.ceil(df_array.shape[0] / win_size))\n",
    "    \n",
    "    split_30_s = np.array_split(df_array, chunks, axis = 0)\n",
    "    \n",
    "    # creates path for numpy data to be stored\n",
    "    if not os.path.exists(os.path.join(numpy_path, 'sub-{}'.format(subject))):\n",
    "        os.makedirs(os.path.join(numpy_path, 'sub-{}'.format(subject)))\n",
    "    \n",
    "    folder = os.path.join(numpy_path, 'sub-{}'.format(subject))\n",
    "    \n",
    "    base = 'sub-{}_ses-{}_task-{}_run-{}_desc-'.format(subject, session, task, run)\n",
    "    base = os.path.join(folder, base)\n",
    "    \n",
    "    # calculates the plv value for each split and saves it\n",
    "    plv_vals = np.zeros((len(split_30_s), split_30_s[0].shape[1], split_30_s[0].shape[1]))\n",
    "    \n",
    "    for i in range(len(split_30_s)):\n",
    "        split_val = split_30_s[i]\n",
    "        for j in range(split_val.shape[1]):\n",
    "            for k in range(split_val.shape[1]):\n",
    "                plv_vals[i, j, k] = plv(split_val[:, j], split_val[:, k])\n",
    "    \n",
    "    np.save(base + '30-s-split.npy', plv_vals)\n",
    "    \n",
    "    # changes the order of the columns so all odds are next to each other\n",
    "    # and all evens are next to each other\n",
    "    odd = list(range(1, len(cols), 2))\n",
    "    even = list(range(0, len(cols), 2))\n",
    "    new = even + odd\n",
    "    cols = cols[new]\n",
    "    \n",
    "    # makes path for figures\n",
    "    if not os.path.exists(os.path.join(figures_path, 'sub-{}'.format(subject))):\n",
    "        os.makedirs(os.path.join(figures_path, 'sub-{}'.format(subject)))\n",
    "    \n",
    "    direc = os.path.join(figures_path, 'sub-{}'.format(subject))\n",
    "    \n",
    "    filen = 'sub-{}_ses-{}_task-{}_run-{}_desc-'.format(subject, session, task, run)\n",
    "    filen = os.path.join(direc, filen)\n",
    "    \n",
    "    # gets the mean plv value and plots it\n",
    "    mean = np.mean(plv_vals, axis = 0)\n",
    "    mean = mean[new, :]\n",
    "    mean = mean[:, new]\n",
    "    \n",
    "    sbs.heatmap(data=mean, vmin = 0, vmax = 1, cmap = 'hot', square = True, xticklabels = cols, yticklabels = cols)\n",
    "    plt.savefig(filen + '30-s-split-whole.png')\n",
    "    plt.close()\n",
    "    \n",
    "    # gets the standard deviation of the plv values and plots it\n",
    "    std = np.std(plv_vals, axis = 0)\n",
    "    std = std[new, :]\n",
    "    std = std[:, new]\n",
    "    \n",
    "    sbs.heatmap(data = std, vmin = 0, vmax = 0.3, cmap = 'hot', square = True, xticklabels = cols, yticklabels = cols)\n",
    "    plt.savefig(filen + '30-s-split-std.png')\n",
    "    plt.close()\n",
    "    \n",
    "    # plots the plv values for each of the windows\n",
    "    for i in range(plv_vals.shape[0]):\n",
    "        window = plv_vals[i, :, :]\n",
    "        window = window[new, :]\n",
    "        window = window[:, new]\n",
    "\n",
    "        sbs.heatmap(data = window, vmin = 0, vmax = 1, cmap = 'hot', square = True, xticklabels = cols, yticklabels = cols)\n",
    "        plt.savefig(filen + 'split-{}-{}.png'.format(plv_vals.shape[0], i+1))\n",
    "        plt.close()"
   ]
  },
  {
   "cell_type": "markdown",
   "metadata": {},
   "source": [
    "# Feature Creation"
   ]
  },
  {
   "cell_type": "code",
   "execution_count": null,
   "metadata": {},
   "outputs": [],
   "source": [
    "# same as above, captures figures and outputs, loops thru all patients\n",
    "%%capture\n",
    "\n",
    "# sets the path for files\n",
    "root = Path('/Users/silumen/OneDrive - Johns Hopkins/40Hz-90/')\n",
    "\n",
    "# creates directory for numpy files and for figures\n",
    "if not os.path.exists(os.path.join(root, 'derivatives/plv_time/')):\n",
    "    os.makedirs(os.path.join(root, 'derivatives/plv_time/'))\n",
    "numpy_path = os.path.join(root, 'derivatives/plv_time/')\n",
    "\n",
    "if not os.path.exists(os.path.join(root, 'derivatives/figures/plv_time/')):\n",
    "    os.makedirs(os.path.join(root, 'derivatives/figures/plv_time/'))\n",
    "figures_path = os.path.join(root, 'derivatives/figures/plv_time/')\n",
    "\n",
    "for index, row in data.iterrows():\n",
    "    subject = '{:03d}'.format(row['id'])\n",
    "    session = row['session']\n",
    "    task = row['task']\n",
    "    run = '{:02d}'.format(row['run'])\n",
    "    acq = 'run'\n",
    "    datatype = 'eeg'\n",
    "    bids_path = mne_bids.BIDSPath(subject=subject, session=session, task=task,\n",
    "                     acquisition=None, run=run, datatype=datatype, root=root,\n",
    "                     suffix='eeg', extension='.vhdr')\n",
    "    raw = mne_bids.read_raw_bids(bids_path)\n",
    "    \n",
    "    # loads in the numpy data\n",
    "    folder = os.path.join(numpy_path, 'sub-{}'.format(subject))\n",
    "    \n",
    "    base = 'sub-{}_ses-{}_task-{}_run-{}_desc-'.format(subject, session, task, run)\n",
    "    base = os.path.join(folder, base)\n",
    "    \n",
    "    plv_vals = np.load(base + '30-s-split.npy')\n",
    "    \n",
    "    # precreates arrays for total absolute difference, total relative absolute difference\n",
    "    # individual absolute difference and individual relative absolute difference\n",
    "    abs_diff = np.zeros((plv_vals.shape[1], plv_vals.shape[2]))\n",
    "    rel_diff = abs_diff.copy()\n",
    "    abs_diff_ind = np.zeros((plv_vals.shape[0]-1, plv_vals.shape[1], plv_vals.shape[2]))\n",
    "    rel_diff_ind = abs_diff_ind.copy()\n",
    "    \n",
    "    # calculates the 4 values mentioned above\n",
    "    for i in range(plv_vals.shape[0]-1):\n",
    "        diff = np.abs(plv_vals[i] - plv_vals[i+1])\n",
    "        denom = (np.abs(plv_vals[i]) + np.abs(plv_vals[i+1])) / 2\n",
    "        \n",
    "        abs_diff_ind[i] = diff\n",
    "        rel_diff_ind[i] = diff / denom\n",
    "        abs_diff = abs_diff + diff\n",
    "        rel_diff = rel_diff + diff / denom\n",
    "    \n",
    "    # saves the numpy data\n",
    "    np.save(base + '30-s-split-abs-diff.npy', abs_diff)\n",
    "    np.save(base + '30-s-split-rel-diff.npy', rel_diff)\n",
    "    np.save(base + '30-s-split-abs-diff-ind.npy', abs_diff_ind)\n",
    "    np.save(base + '30-s-split-rel-diff-ind.npy', rel_diff_ind)\n",
    "    \n",
    "    # calculates entropy and variance across the channels for each of the differences\n",
    "    abs_ent = stats.entropy(abs_diff, axis = 0)\n",
    "    abs_var = np.var(abs_diff, axis = 0)\n",
    "    \n",
    "    rel_ent = stats.entropy(rel_diff, axis = 0)\n",
    "    rel_var = np.var(rel_diff, axis = 0)\n",
    "    \n",
    "    np.save(base + '30-s-split-abs-ent.npy', abs_ent)\n",
    "    np.save(base + '30-s-split-abs-var.npy', abs_var)\n",
    "    \n",
    "    np.save(base + '30-s-split-rel-ent.npy', rel_ent)\n",
    "    np.save(base + '30-s-split-rel-var.npy', rel_var)\n",
    "    \n",
    "    # saves the figure for relative difference\n",
    "    direc = os.path.join(figures_path, 'sub-{}'.format(subject))\n",
    "    \n",
    "    filen = 'sub-{}_ses-{}_task-{}_run-{}_desc-'.format(subject, session, task, run)\n",
    "    filen = os.path.join(direc, filen)\n",
    "    \n",
    "    sbs.heatmap(data=rel_diff, cmap = 'hot', square = True, xticklabels = cols, yticklabels = cols)\n",
    "    plt.savefig(filen + '30-s-rel-diff.png')\n",
    "    plt.close()"
   ]
  },
  {
   "cell_type": "markdown",
   "metadata": {},
   "source": [
    "# Feature Loading"
   ]
  },
  {
   "cell_type": "code",
   "execution_count": 6,
   "metadata": {},
   "outputs": [],
   "source": [
    "# creates lists for features\n",
    "labels = []\n",
    "\n",
    "abs_ent_list = []\n",
    "abs_var_list = []\n",
    "\n",
    "rel_ent_list = []\n",
    "rel_var_list = []\n",
    "rel_diff_list = []\n",
    "\n",
    "# sets the path for files\n",
    "root = Path('/Users/silumen/OneDrive - Johns Hopkins/40Hz-90/')\n",
    "\n",
    "# creates directory for numpy files and for figures\n",
    "if not os.path.exists(os.path.join(root, 'derivatives/plv_time/')):\n",
    "    os.makedirs(os.path.join(root, 'derivatives/plv_time/'))\n",
    "numpy_path = os.path.join(root, 'derivatives/plv_time/')\n",
    "\n",
    "if not os.path.exists(os.path.join(root, 'derivatives/figures/plv_time/')):\n",
    "    os.makedirs(os.path.join(root, 'derivatives/figures/plv_time/'))\n",
    "figures_path = os.path.join(root, 'derivatives/figures/plv_time/')\n",
    "\n",
    "for index, row in data.iterrows():\n",
    "    subject = '{:03d}'.format(row['id'])\n",
    "    session = row['session']\n",
    "    task = row['task']\n",
    "    run = '{:02d}'.format(row['run'])\n",
    "    acq = 'run'\n",
    "    datatype = 'eeg'\n",
    "    \n",
    "    folder = os.path.join(numpy_path, 'sub-{}'.format(subject))\n",
    "    \n",
    "    base = 'sub-{}_ses-{}_task-{}_run-{}_desc-'.format(subject, session, task, run)\n",
    "    base = os.path.join(folder, base)\n",
    "    \n",
    "    # gets labels and loads features\n",
    "    if subject[0] == '0':\n",
    "        labels.append(0)\n",
    "    elif subject[0] == '1':\n",
    "        labels.append(1)\n",
    "    else:\n",
    "        labels.append(2)\n",
    "    \n",
    "    abs_ent = np.load(base + '30-s-split-abs-ent.npy')\n",
    "    abs_var = np.load(base + '30-s-split-abs-var.npy')\n",
    "    \n",
    "    rel_ent = np.load(base + '30-s-split-rel-ent.npy')\n",
    "    rel_var = np.load(base + '30-s-split-rel-var.npy')\n",
    "    rel_diff = np.load(base + '30-s-split-rel-diff.npy')\n",
    "    \n",
    "    rel_diff = stats.skew(rel_diff.flatten(), axis = None)\n",
    "        \n",
    "    abs_ent_list.append(abs_ent)\n",
    "    abs_var_list.append(abs_var)\n",
    "    \n",
    "    rel_ent_list.append(rel_ent)\n",
    "    rel_var_list.append(rel_var)\n",
    "    rel_diff_list.append(rel_diff)\n",
    "    \n",
    "# turns lists into arrays for classifiers\n",
    "abs_ent_arr = np.zeros((len(abs_ent_list), abs_ent_list[0].shape[0]))\n",
    "abs_var_arr = abs_ent_arr.copy()\n",
    "\n",
    "rel_ent_arr = abs_ent_arr.copy()\n",
    "rel_var_arr = abs_ent_arr.copy()\n",
    "rel_diff_arr = np.zeros((len(abs_ent_list)))\n",
    "\n",
    "for i in range(len(abs_ent_list)):\n",
    "    abs_ent_arr[i] = abs_ent_list[i]\n",
    "    abs_var_arr[i] = abs_var_list[i]\n",
    "    \n",
    "    rel_ent_arr[i] = rel_ent_list[i]\n",
    "    rel_var_arr[i] = rel_var_list[i]\n",
    "    rel_diff_arr[i] = rel_diff_list[i]\n",
    "\n",
    "labels = np.array(labels)"
   ]
  },
  {
   "cell_type": "markdown",
   "metadata": {},
   "source": [
    "# Classifiers and Feature Selection"
   ]
  },
  {
   "cell_type": "code",
   "execution_count": 7,
   "metadata": {},
   "outputs": [
    {
     "data": {
      "text/plain": [
       "(44, 4)"
      ]
     },
     "execution_count": 7,
     "metadata": {},
     "output_type": "execute_result"
    }
   ],
   "source": [
    "# this does feature selection between Non-epilepsy and epilepsy normal\n",
    "idx = np.logical_or(labels == 0, labels == 1)\n",
    "rel_var_feats = rel_var_arr[idx, :]\n",
    "new_labels = labels[idx]\n",
    "rel_var_feats = SelectKBest(chi2, k = 4).fit_transform(rel_var_feats, new_labels)\n",
    "rel_var_feats.shape"
   ]
  },
  {
   "cell_type": "code",
   "execution_count": 8,
   "metadata": {},
   "outputs": [
    {
     "name": "stdout",
     "output_type": "stream",
     "text": [
      "The accuracy is 0.8636363636363636\n",
      "The sensitivity is 0.9090909090909091\n",
      "The specificity is 0.8181818181818182\n"
     ]
    }
   ],
   "source": [
    "# performs classification using svm\n",
    "clf = SVC(kernel = 'rbf', class_weight = 'balanced')\n",
    "clf.fit(rel_var_feats, new_labels)\n",
    "# calculates accuracy and tpr, tnr\n",
    "print('The accuracy is {}'.format(clf.score(rel_var_feats, new_labels)))\n",
    "\n",
    "preds = clf.predict(rel_var_feats)\n",
    "mask = preds[new_labels == 1] == 1\n",
    "tp = preds[new_labels == 1]\n",
    "tp = tp[mask]\n",
    "tpr = len(tp) / len(new_labels[new_labels == 1])\n",
    "print('The sensitivity is {}'.format(tpr))\n",
    "\n",
    "mask = preds[new_labels == 0] == 0\n",
    "tn = preds[new_labels == 0]\n",
    "tn = tn[mask]\n",
    "tnr = len(tn) / len(new_labels[new_labels == 0])\n",
    "print('The specificity is {}'.format(tnr))"
   ]
  },
  {
   "cell_type": "code",
   "execution_count": 9,
   "metadata": {},
   "outputs": [
    {
     "data": {
      "image/png": "[encoded data removed]",
      "text/plain": [
       "<Figure size 432x288 with 1 Axes>"
      ]
     },
     "metadata": {
      "needs_background": "light"
     },
     "output_type": "display_data"
    }
   ],
   "source": [
    "# plots the margin value and overlays with individual points\n",
    "# red points are predicted correctly and blue points are incorrect\n",
    "fig, ax = plt.subplots()\n",
    "dec_vals = clf.decision_function(rel_var_feats)\n",
    "plt.boxplot([dec_vals[new_labels == 0], dec_vals[new_labels == 1]])\n",
    "for i in [1,2]:\n",
    "    corr_points = np.logical_and(new_labels == i-1, preds == i-1)\n",
    "    inc_points = np.logical_and(new_labels == i-1, preds != i-1)\n",
    "    x_vals = np.random.normal(i, 0.04, size=len(dec_vals[corr_points]))\n",
    "    plt.plot(x_vals, dec_vals[corr_points], 'r.', alpha=0.3)\n",
    "    x_vals = np.random.normal(i, 0.04, size=len(dec_vals[inc_points]))\n",
    "    plt.plot(x_vals, dec_vals[inc_points], 'b.', alpha=0.3)\n",
    "ax.set_xticklabels(['Normal', 'Abnormal'])\n",
    "plt.show()"
   ]
  },
  {
   "cell_type": "code",
   "execution_count": 10,
   "metadata": {},
   "outputs": [
    {
     "data": {
      "text/plain": [
       "(70, 4)"
      ]
     },
     "execution_count": 10,
     "metadata": {},
     "output_type": "execute_result"
    }
   ],
   "source": [
    "# this does classification between Normal and abnormal eeg\n",
    "norm_idx = np.logical_or(labels == 0, labels == 1)\n",
    "norm_labels = labels.copy()\n",
    "norm_labels[norm_idx] = 0\n",
    "norm_labels[norm_labels == 2] = 1\n",
    "rel_var_feats = SelectKBest(chi2, k = 4).fit_transform(rel_var_arr, norm_labels)\n",
    "rel_var_feats.shape"
   ]
  },
  {
   "cell_type": "code",
   "execution_count": 11,
   "metadata": {},
   "outputs": [
    {
     "name": "stdout",
     "output_type": "stream",
     "text": [
      "The accuracy is 0.7428571428571429\n",
      "The sensitivity is 0.8076923076923077\n",
      "The specificity is 0.7045454545454546\n"
     ]
    }
   ],
   "source": [
    "# performs classification using svm\n",
    "clf = SVC(kernel = 'rbf', class_weight = 'balanced')\n",
    "clf.fit(rel_var_feats, norm_labels)\n",
    "# calculates accuracy and tpr, tnr\n",
    "print('The accuracy is {}'.format(clf.score(rel_var_feats, norm_labels)))\n",
    "\n",
    "preds = clf.predict(rel_var_feats)\n",
    "mask = preds[norm_labels == 1] == 1\n",
    "tp = preds[norm_labels == 1]\n",
    "tp = tp[mask]\n",
    "tpr = len(tp) / len(norm_labels[norm_labels == 1])\n",
    "print('The sensitivity is {}'.format(tpr))\n",
    "\n",
    "mask = preds[norm_labels == 0] == 0\n",
    "tn = preds[norm_labels == 0]\n",
    "tn = tn[mask]\n",
    "tnr = len(tn) / len(norm_labels[norm_labels == 0])\n",
    "print('The specificity is {}'.format(tnr))"
   ]
  },
  {
   "cell_type": "code",
   "execution_count": 12,
   "metadata": {},
   "outputs": [
    {
     "data": {
      "image/png": "[encoded data removed]",
      "text/plain": [
       "<Figure size 432x288 with 1 Axes>"
      ]
     },
     "metadata": {
      "needs_background": "light"
     },
     "output_type": "display_data"
    }
   ],
   "source": [
    "# plots the margin value and overlays with individual points\n",
    "# red points are predicted correctly and blue points are incorrect\n",
    "fig, ax = plt.subplots()\n",
    "dec_vals = clf.decision_function(rel_var_feats)\n",
    "plt.boxplot([dec_vals[norm_labels == 0], dec_vals[norm_labels == 1]])\n",
    "for i in [1,2]:\n",
    "    corr_points = np.logical_and(norm_labels == i-1, preds == i-1)\n",
    "    inc_points = np.logical_and(norm_labels == i-1, preds != i-1)\n",
    "    x_vals = np.random.normal(i, 0.04, size=len(dec_vals[corr_points]))\n",
    "    plt.plot(x_vals, dec_vals[corr_points], 'r.', alpha=0.3)\n",
    "    x_vals = np.random.normal(i, 0.04, size=len(dec_vals[inc_points]))\n",
    "    plt.plot(x_vals, dec_vals[inc_points], 'b.', alpha=0.3)\n",
    "ax.set_xticklabels(['Normal', 'Abnormal'])\n",
    "plt.show()"
   ]
  },
  {
   "cell_type": "code",
   "execution_count": null,
   "metadata": {},
   "outputs": [],
   "source": []
  }
 ],
 "metadata": {
  "kernelspec": {
   "display_name": "Python 3",
   "language": "python",
   "name": "python3"
  },
  "language_info": {
   "codemirror_mode": {
    "name": "ipython",
    "version": 3
   },
   "file_extension": ".py",
   "mimetype": "text/x-python",
   "name": "python",
   "nbconvert_exporter": "python",
   "pygments_lexer": "ipython3",
   "version": "3.9.4"
  }
 },
 "nbformat": 4,
 "nbformat_minor": 4
}
