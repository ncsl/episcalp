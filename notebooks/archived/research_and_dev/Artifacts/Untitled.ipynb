{
 "cells": [
  {
   "cell_type": "code",
   "execution_count": 3,
   "metadata": {},
   "outputs": [],
   "source": [
    "import mne\n",
    "from pathlib import Path"
   ]
  },
  {
   "cell_type": "code",
   "execution_count": 4,
   "metadata": {},
   "outputs": [],
   "source": [
    "eeg_channels = [\"Fp1\", \"Fp2\", \"F3\", \"F4\", \"F7\", \"F8\", \"P3\", \"P4\", \"C3\", \"C4\", \"P7\", \"P8\", \"O1\", \"O2\", \"T3\", \"T4\", \"T5\",\n",
    "            \"T6\", \"T7\", \"T8\", \"Cz\", \"Pz\", \"Fz\"]"
   ]
  },
  {
   "cell_type": "code",
   "execution_count": 5,
   "metadata": {},
   "outputs": [],
   "source": [
    "def _get_real_type(ch_name):\n",
    "    for eeg_ch in eeg_channels:\n",
    "        if eeg_ch in ch_name and \"POL\" not in ch_name:\n",
    "            return \"eeg\"\n",
    "    return \"misc\""
   ]
  },
  {
   "cell_type": "code",
   "execution_count": 6,
   "metadata": {},
   "outputs": [],
   "source": [
    "def get_real_types(base_names):\n",
    "    type_dict = dict()\n",
    "    for ch in base_names:\n",
    "        type_dict[ch] = _get_real_type(ch)\n",
    "    return type_dict"
   ]
  },
  {
   "cell_type": "code",
   "execution_count": 13,
   "metadata": {},
   "outputs": [],
   "source": [
    "root = Path(\"D:/ScalpData/persystSpikeDetection/9-1\")\n",
    "deriv= Path(\"D:/ScalpData/persystSpikeDetection/9-1-reexport\")\n",
    "source_fpaths = root.glob(\"*.edf\")"
   ]
  },
  {
   "cell_type": "code",
   "execution_count": 14,
   "metadata": {},
   "outputs": [
    {
     "name": "stdout",
     "output_type": "stream",
     "text": [
      "Extracting EDF parameters from D:\\ScalpData\\persystSpikeDetection\\9-1\\027-awake.edf...\n",
      "EDF file detected\n",
      "Setting channel info structure...\n",
      "Creating raw.info structure...\n",
      "Reading 0 ... 43799  =      0.000 ...   218.995 secs...\n"
     ]
    },
    {
     "name": "stderr",
     "output_type": "stream",
     "text": [
      "<ipython-input-14-710cfe7777c3>:2: RuntimeWarning: Scaling factor is not defined in following channels:\n",
      "POL SpO2, POL EtCO2, POL Pulse, POL CO2Wave\n",
      "  raw = mne.io.read_raw_edf(fpath)\n",
      "<ipython-input-14-710cfe7777c3>:2: RuntimeWarning: Physical range is not defined in following channels:\n",
      "POL SpO2, POL EtCO2, POL Pulse, POL CO2Wave\n",
      "  raw = mne.io.read_raw_edf(fpath)\n"
     ]
    },
    {
     "name": "stdout",
     "output_type": "stream",
     "text": [
      "Extracting EDF parameters from D:\\ScalpData\\persystSpikeDetection\\9-1\\027-sleep.edf...\n",
      "EDF file detected\n",
      "Setting channel info structure...\n",
      "Creating raw.info structure...\n",
      "Reading 0 ... 124399  =      0.000 ...   621.995 secs...\n"
     ]
    },
    {
     "name": "stderr",
     "output_type": "stream",
     "text": [
      "<ipython-input-14-710cfe7777c3>:2: RuntimeWarning: Scaling factor is not defined in following channels:\n",
      "POL SpO2, POL EtCO2, POL Pulse, POL CO2Wave\n",
      "  raw = mne.io.read_raw_edf(fpath)\n",
      "<ipython-input-14-710cfe7777c3>:2: RuntimeWarning: Physical range is not defined in following channels:\n",
      "POL SpO2, POL EtCO2, POL Pulse, POL CO2Wave\n",
      "  raw = mne.io.read_raw_edf(fpath)\n"
     ]
    },
    {
     "name": "stdout",
     "output_type": "stream",
     "text": [
      "Extracting EDF parameters from D:\\ScalpData\\persystSpikeDetection\\9-1\\028-awake.edf...\n",
      "EDF file detected\n",
      "Setting channel info structure...\n",
      "Creating raw.info structure...\n",
      "Reading 0 ... 103999  =      0.000 ...   519.995 secs...\n"
     ]
    },
    {
     "name": "stderr",
     "output_type": "stream",
     "text": [
      "<ipython-input-14-710cfe7777c3>:2: RuntimeWarning: Scaling factor is not defined in following channels:\n",
      "POL SpO2, POL EtCO2, POL Pulse, POL CO2Wave\n",
      "  raw = mne.io.read_raw_edf(fpath)\n",
      "<ipython-input-14-710cfe7777c3>:2: RuntimeWarning: Physical range is not defined in following channels:\n",
      "POL SpO2, POL EtCO2, POL Pulse, POL CO2Wave\n",
      "  raw = mne.io.read_raw_edf(fpath)\n"
     ]
    },
    {
     "name": "stdout",
     "output_type": "stream",
     "text": [
      "Extracting EDF parameters from D:\\ScalpData\\persystSpikeDetection\\9-1\\028-sleep.edf...\n",
      "EDF file detected\n",
      "Setting channel info structure...\n",
      "Creating raw.info structure...\n",
      "Reading 0 ... 44199  =      0.000 ...   220.995 secs...\n"
     ]
    },
    {
     "name": "stderr",
     "output_type": "stream",
     "text": [
      "<ipython-input-14-710cfe7777c3>:2: RuntimeWarning: Scaling factor is not defined in following channels:\n",
      "POL SpO2, POL EtCO2, POL Pulse, POL CO2Wave\n",
      "  raw = mne.io.read_raw_edf(fpath)\n",
      "<ipython-input-14-710cfe7777c3>:2: RuntimeWarning: Physical range is not defined in following channels:\n",
      "POL SpO2, POL EtCO2, POL Pulse, POL CO2Wave\n",
      "  raw = mne.io.read_raw_edf(fpath)\n"
     ]
    },
    {
     "name": "stdout",
     "output_type": "stream",
     "text": [
      "Extracting EDF parameters from D:\\ScalpData\\persystSpikeDetection\\9-1\\124-awake.edf...\n",
      "EDF file detected\n",
      "Setting channel info structure...\n",
      "Creating raw.info structure...\n",
      "Reading 0 ... 50199  =      0.000 ...   250.995 secs...\n"
     ]
    },
    {
     "name": "stderr",
     "output_type": "stream",
     "text": [
      "<ipython-input-14-710cfe7777c3>:2: RuntimeWarning: Scaling factor is not defined in following channels:\n",
      "POL SpO2, POL EtCO2, POL Pulse, POL CO2Wave\n",
      "  raw = mne.io.read_raw_edf(fpath)\n",
      "<ipython-input-14-710cfe7777c3>:2: RuntimeWarning: Physical range is not defined in following channels:\n",
      "POL SpO2, POL EtCO2, POL Pulse, POL CO2Wave\n",
      "  raw = mne.io.read_raw_edf(fpath)\n"
     ]
    },
    {
     "name": "stdout",
     "output_type": "stream",
     "text": [
      "Extracting EDF parameters from D:\\ScalpData\\persystSpikeDetection\\9-1\\124-sleep.edf...\n",
      "EDF file detected\n",
      "Setting channel info structure...\n",
      "Creating raw.info structure...\n",
      "Reading 0 ... 106199  =      0.000 ...   530.995 secs...\n"
     ]
    },
    {
     "name": "stderr",
     "output_type": "stream",
     "text": [
      "<ipython-input-14-710cfe7777c3>:2: RuntimeWarning: Scaling factor is not defined in following channels:\n",
      "POL SpO2, POL EtCO2, POL Pulse, POL CO2Wave\n",
      "  raw = mne.io.read_raw_edf(fpath)\n",
      "<ipython-input-14-710cfe7777c3>:2: RuntimeWarning: Physical range is not defined in following channels:\n",
      "POL SpO2, POL EtCO2, POL Pulse, POL CO2Wave\n",
      "  raw = mne.io.read_raw_edf(fpath)\n"
     ]
    },
    {
     "name": "stdout",
     "output_type": "stream",
     "text": [
      "Extracting EDF parameters from D:\\ScalpData\\persystSpikeDetection\\9-1\\125-awake.edf...\n",
      "EDF file detected\n",
      "Setting channel info structure...\n",
      "Creating raw.info structure...\n",
      "Reading 0 ... 38199  =      0.000 ...   190.995 secs...\n"
     ]
    },
    {
     "name": "stderr",
     "output_type": "stream",
     "text": [
      "<ipython-input-14-710cfe7777c3>:2: RuntimeWarning: Scaling factor is not defined in following channels:\n",
      "POL SpO2, POL EtCO2, POL Pulse, POL CO2Wave\n",
      "  raw = mne.io.read_raw_edf(fpath)\n",
      "<ipython-input-14-710cfe7777c3>:2: RuntimeWarning: Physical range is not defined in following channels:\n",
      "POL SpO2, POL EtCO2, POL Pulse, POL CO2Wave\n",
      "  raw = mne.io.read_raw_edf(fpath)\n"
     ]
    },
    {
     "name": "stdout",
     "output_type": "stream",
     "text": [
      "Extracting EDF parameters from D:\\ScalpData\\persystSpikeDetection\\9-1\\125-sleep.edf...\n",
      "EDF file detected\n",
      "Setting channel info structure...\n",
      "Creating raw.info structure...\n",
      "Reading 0 ... 16999  =      0.000 ...    84.995 secs...\n"
     ]
    },
    {
     "name": "stderr",
     "output_type": "stream",
     "text": [
      "<ipython-input-14-710cfe7777c3>:2: RuntimeWarning: Scaling factor is not defined in following channels:\n",
      "POL SpO2, POL EtCO2, POL Pulse, POL CO2Wave\n",
      "  raw = mne.io.read_raw_edf(fpath)\n",
      "<ipython-input-14-710cfe7777c3>:2: RuntimeWarning: Physical range is not defined in following channels:\n",
      "POL SpO2, POL EtCO2, POL Pulse, POL CO2Wave\n",
      "  raw = mne.io.read_raw_edf(fpath)\n"
     ]
    },
    {
     "name": "stdout",
     "output_type": "stream",
     "text": [
      "Extracting EDF parameters from D:\\ScalpData\\persystSpikeDetection\\9-1\\127-awake.edf...\n",
      "EDF file detected\n",
      "Setting channel info structure...\n",
      "Creating raw.info structure...\n",
      "Reading 0 ... 21199  =      0.000 ...   105.995 secs...\n"
     ]
    },
    {
     "name": "stderr",
     "output_type": "stream",
     "text": [
      "<ipython-input-14-710cfe7777c3>:2: RuntimeWarning: Scaling factor is not defined in following channels:\n",
      "POL SpO2, POL EtCO2, POL Pulse, POL CO2Wave\n",
      "  raw = mne.io.read_raw_edf(fpath)\n",
      "<ipython-input-14-710cfe7777c3>:2: RuntimeWarning: Physical range is not defined in following channels:\n",
      "POL SpO2, POL EtCO2, POL Pulse, POL CO2Wave\n",
      "  raw = mne.io.read_raw_edf(fpath)\n"
     ]
    },
    {
     "name": "stdout",
     "output_type": "stream",
     "text": [
      "Extracting EDF parameters from D:\\ScalpData\\persystSpikeDetection\\9-1\\127-sleep.edf...\n",
      "EDF file detected\n",
      "Setting channel info structure...\n",
      "Creating raw.info structure...\n",
      "Reading 0 ... 49199  =      0.000 ...   245.995 secs...\n"
     ]
    },
    {
     "name": "stderr",
     "output_type": "stream",
     "text": [
      "<ipython-input-14-710cfe7777c3>:2: RuntimeWarning: Scaling factor is not defined in following channels:\n",
      "POL SpO2, POL EtCO2, POL Pulse, POL CO2Wave\n",
      "  raw = mne.io.read_raw_edf(fpath)\n",
      "<ipython-input-14-710cfe7777c3>:2: RuntimeWarning: Physical range is not defined in following channels:\n",
      "POL SpO2, POL EtCO2, POL Pulse, POL CO2Wave\n",
      "  raw = mne.io.read_raw_edf(fpath)\n"
     ]
    },
    {
     "name": "stdout",
     "output_type": "stream",
     "text": [
      "Extracting EDF parameters from D:\\ScalpData\\persystSpikeDetection\\9-1\\228-awake.edf...\n",
      "EDF file detected\n",
      "Setting channel info structure...\n",
      "Creating raw.info structure...\n",
      "Reading 0 ... 94199  =      0.000 ...   470.995 secs...\n"
     ]
    },
    {
     "name": "stderr",
     "output_type": "stream",
     "text": [
      "<ipython-input-14-710cfe7777c3>:2: RuntimeWarning: Scaling factor is not defined in following channels:\n",
      "POL SpO2, POL EtCO2, POL Pulse, POL CO2Wave\n",
      "  raw = mne.io.read_raw_edf(fpath)\n",
      "<ipython-input-14-710cfe7777c3>:2: RuntimeWarning: Physical range is not defined in following channels:\n",
      "POL SpO2, POL EtCO2, POL Pulse, POL CO2Wave\n",
      "  raw = mne.io.read_raw_edf(fpath)\n"
     ]
    },
    {
     "name": "stdout",
     "output_type": "stream",
     "text": [
      "Extracting EDF parameters from D:\\ScalpData\\persystSpikeDetection\\9-1\\228-sleep.edf...\n",
      "EDF file detected\n",
      "Setting channel info structure...\n",
      "Creating raw.info structure...\n",
      "Reading 0 ... 60199  =      0.000 ...   300.995 secs...\n"
     ]
    },
    {
     "name": "stderr",
     "output_type": "stream",
     "text": [
      "<ipython-input-14-710cfe7777c3>:2: RuntimeWarning: Scaling factor is not defined in following channels:\n",
      "POL SpO2, POL EtCO2, POL Pulse, POL CO2Wave\n",
      "  raw = mne.io.read_raw_edf(fpath)\n",
      "<ipython-input-14-710cfe7777c3>:2: RuntimeWarning: Physical range is not defined in following channels:\n",
      "POL SpO2, POL EtCO2, POL Pulse, POL CO2Wave\n",
      "  raw = mne.io.read_raw_edf(fpath)\n"
     ]
    }
   ],
   "source": [
    "for fpath in source_fpaths:\n",
    "    raw = mne.io.read_raw_edf(fpath)\n",
    "    out_fpath = deriv / f\"{fpath.name}.edf\"\n",
    "    raw.set_channel_types(get_real_types(raw.ch_names))\n",
    "    raw.export(out_fpath)"
   ]
  }
 ],
 "metadata": {
  "kernelspec": {
   "display_name": "episcalp",
   "language": "python",
   "name": "episcalp"
  },
  "language_info": {
   "codemirror_mode": {
    "name": "ipython",
    "version": 3
   },
   "file_extension": ".py",
   "mimetype": "text/x-python",
   "name": "python",
   "nbconvert_exporter": "python",
   "pygments_lexer": "ipython3",
   "version": "3.8.7"
  }
 },
 "nbformat": 4,
 "nbformat_minor": 4
}
