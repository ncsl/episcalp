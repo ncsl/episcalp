{
 "cells": [
  {
   "cell_type": "markdown",
   "metadata": {},
   "source": [
    "# Classify Abnormal EEG using Information about Spikes and Frequency Power\n",
    "\n",
    "### Authors: Alana Tillery and Patrick Myers"
   ]
  },
  {
   "cell_type": "markdown",
   "metadata": {},
   "source": [
    "Imports"
   ]
  },
  {
   "cell_type": "code",
   "execution_count": 1,
   "metadata": {},
   "outputs": [],
   "source": [
    "import json\n",
    "from pathlib import Path\n",
    "import collections\n",
    "from collections import defaultdict\n",
    "from collections import Counter\n",
    "import glob\n",
    "import mne\n",
    "from mne_bids import get_entity_vals\n",
    "import matplotlib as pml\n",
    "import matplotlib.pyplot as plt\n",
    "import pandas as pd\n",
    "import numpy as np\n",
    "from pandas.core.common import flatten\n",
    "import os\n",
    "import random\n",
    "from random import randint\n",
    "import re\n",
    "import seaborn as sns\n",
    "from sklearn.calibration import calibration_curve\n",
    "from sklearn.model_selection import(\n",
    "    train_test_split,\n",
    "    StratifiedShuffleSplit,\n",
    "    cross_validate\n",
    ")\n",
    "from sklearn.linear_model import LogisticRegression\n",
    "from sklearn.metrics import (\n",
    "    average_precision_score,\n",
    "    roc_auc_score,\n",
    "    f1_score,\n",
    "    roc_curve,\n",
    "    balanced_accuracy_score,\n",
    "    accuracy_score,\n",
    "    auc,\n",
    "    brier_score_loss,\n",
    "    plot_precision_recall_curve,\n",
    "    precision_recall_curve,\n",
    ")\n",
    "from sklearn.feature_selection import SelectKBest, chi2\n",
    "import statsmodels.api as sm\n",
    "from episcalp.spikes.run_spike_analysis import run_spike_analysis\n",
    "from sample_code.study import generate_spike_feature, generate_slowing_features"
   ]
  },
  {
   "cell_type": "markdown",
   "metadata": {},
   "source": [
    "# 1.0 Set Up"
   ]
  },
  {
   "cell_type": "markdown",
   "metadata": {},
   "source": [
    "## 1.1 Define hyperparameters for modeling/plotting"
   ]
  },
  {
   "cell_type": "code",
   "execution_count": 19,
   "metadata": {},
   "outputs": [],
   "source": [
    "# Dict where keys are group names and values are the label assigned to that group\n",
    "include_subject_groups = {\n",
    "    'non-epilepsy': 0,\n",
    "    'epilepsy-normal': 0,\n",
    "    'epilepsy-abnormal': 1,\n",
    "}\n",
    "# List of subjects to exclude from analysis\n",
    "exclude_subjects = None\n",
    "# Features to use in the model\n",
    "include_feature_groups = {\n",
    "    'spikes': ['total_spike_rate', 'max_spike_rate', 'frontal_lobe_spike_rate', 'parietal_lobe_spike_rate', 'temporal_lobe_spike_rate', 'occipital_lobe_spike_rate'],\n",
    "    'slowing': ['total_outlier_windows']\n",
    "}\n",
    "total_features = [item for sublist in include_feature_groups.values() for item in sublist]\n",
    "extra_params = [None, None, {\"lobe\": \"frontal\"}, {\"lobe\": \"parietal\"}, {\"lobe\": \"temporal\"}, {\"lobe\": \"occipital\"}]\n",
    "slowing_kwargs = {\n",
    "    \"winsize\": 1000,\n",
    "    \"stepsize\": 200,\n",
    "    \"reference\": \"monopolar\"\n",
    "}\n",
    "kfeats = 5\n",
    "removeOutliers = False\n",
    "\n",
    "cross_val_splits = 10\n",
    "\n",
    "bids_root = Path(\"D:/OneDriveParent/OneDrive - Johns Hopkins/Shared Documents/40Hz-30\")\n",
    "deriv_root = bids_root / \"derivatives\""
   ]
  },
  {
   "cell_type": "code",
   "execution_count": 3,
   "metadata": {},
   "outputs": [],
   "source": [
    "nfeats = 0\n",
    "for groupKey, featVals in include_feature_groups.items():\n",
    "    nfeats += len(featVals)"
   ]
  },
  {
   "cell_type": "markdown",
   "metadata": {},
   "source": [
    "## 1.2 Read in the metadata sheet"
   ]
  },
  {
   "cell_type": "code",
   "execution_count": 4,
   "metadata": {},
   "outputs": [],
   "source": [
    "# Read metadata excel spreadsheet into a dataframe\n",
    "meta_fpath = Path(\"D:/OneDriveParent/OneDrive - Johns Hopkins/Shared Documents/JHU_scalp_clinical_datasheet_raw_local.xlsx\")\n",
    "meta_df = pd.read_excel(meta_fpath)"
   ]
  },
  {
   "cell_type": "markdown",
   "metadata": {},
   "source": [
    "## 1.3 Read in data"
   ]
  },
  {
   "cell_type": "code",
   "execution_count": 5,
   "metadata": {},
   "outputs": [],
   "source": [
    "subjects = get_entity_vals(bids_root, 'subject', ignore_subjects=exclude_subjects)\n",
    "nsubs = len(subjects)\n",
    "spikes_root = deriv_root / \"spikes\" / \"monopolar\"\n",
    "\n",
    "# Put spike features into a dict with subject_id keys and spike dict as the values\n",
    "subject_spike_map = dict()\n",
    "for subject in subjects:\n",
    "    subject_dir = spikes_root / f\"sub-{subject}\"\n",
    "    json_fpath = list(subject_dir.glob(\"*.json\"))[0]\n",
    "    with open(json_fpath) as f:\n",
    "        spike_data = json.load(f)\n",
    "    subject_spike_map[subject] = spike_data\n"
   ]
  },
  {
   "cell_type": "code",
   "execution_count": 6,
   "metadata": {},
   "outputs": [],
   "source": [
    "slowing_root = deriv_root / \"band-power\" / f\"winsize-{slowing_kwargs['winsize']}\" / f\"stepsize-{slowing_kwargs['stepsize']}\" / slowing_kwargs['reference']\n",
    "\n",
    "subject_slowing_map = dict()\n",
    "for subject in subjects:\n",
    "    subject_dir = slowing_root / f\"sub-{subject}\"\n",
    "    json_fpath = list(subject_dir.glob(\"*outliersfull.json\"))[0]\n",
    "    with open(json_fpath) as f:\n",
    "        slowing_data = json.load(f)\n",
    "    subject_slowing_map[subject] = slowing_data"
   ]
  },
  {
   "cell_type": "markdown",
   "metadata": {},
   "source": [
    "# 2.0 Feature Generation / Selection"
   ]
  },
  {
   "cell_type": "markdown",
   "metadata": {},
   "source": [
    "## 2.1 Feature Generation - Spike Data"
   ]
  },
  {
   "cell_type": "code",
   "execution_count": 7,
   "metadata": {},
   "outputs": [],
   "source": [
    "# Iterate over desired features, appending a column to our formatted X each time\n",
    "formatted_X = np.zeros((nsubs, nfeats), np.float64)\n",
    "fInd = 0;\n",
    "for idx, (feature, extra_param) in enumerate(zip(include_feature_groups['spikes'], extra_params)):\n",
    "    unformatted_X, y, groups, subject_ids = generate_spike_feature(subject_spike_map, feature, include_subject_groups, extra_param)\n",
    "    formatted_X[:, idx] = unformatted_X\n",
    "    fInd = idx;"
   ]
  },
  {
   "cell_type": "code",
   "execution_count": 8,
   "metadata": {},
   "outputs": [],
   "source": [
    "for idx, feature in enumerate(include_feature_groups['slowing']):\n",
    "    fInd += 1;\n",
    "    unformatted_X, y, groups, subject_ids = generate_slowing_features(subject_slowing_map, feature, include_subject_groups)\n",
    "    formatted_X[:, fInd] = unformatted_X"
   ]
  },
  {
   "cell_type": "markdown",
   "metadata": {},
   "source": [
    "### 2.1.1 Remove Outliers\n",
    "We are defining outliers to be subjects in the epilepsy-abnormal group that had 0 detected spikes"
   ]
  },
  {
   "cell_type": "code",
   "execution_count": 11,
   "metadata": {},
   "outputs": [],
   "source": [
    "include_inds = []\n",
    "removed_pt_ids = []\n",
    "if removeOutliers:\n",
    "    try:\n",
    "        spike_rate_index = include_feature_groups.index('total_spike_rate')\n",
    "    except ValueError as e:\n",
    "        print('Cannot search for outliers', e)\n",
    "        spike_rate_index = None\n",
    "    if spike_rate_index is not None:\n",
    "        print('Searching for outliers')\n",
    "        spike_rates = [x[spike_rate_index] for x in formatted_X]\n",
    "        for idx, spike_rate in enumerate(spike_rates):\n",
    "            group = groups[idx]\n",
    "            if spike_rate == 0.0 and group == 2:\n",
    "                print(f\"removing outlier: {subject_ids[idx]}\")\n",
    "                removed_pt_ids.append(subject_ids[idx])\n",
    "            else:\n",
    "                include_inds.append(idx)\n",
    "        formatted_X = formatted_X[include_inds, :]\n",
    "        y = y[include_inds]\n",
    "        groups = groups[include_inds]\n",
    "        subject_ids = subject_ids[include_inds]"
   ]
  },
  {
   "cell_type": "code",
   "execution_count": 7,
   "metadata": {},
   "outputs": [
    {
     "data": {
      "text/plain": [
       "['203', '217', '222', '225']"
      ]
     },
     "execution_count": 7,
     "metadata": {},
     "output_type": "execute_result"
    }
   ],
   "source": [
    "removed_pt_ids"
   ]
  },
  {
   "cell_type": "markdown",
   "metadata": {},
   "source": [
    "## 2.2 Feature Visualization"
   ]
  },
  {
   "cell_type": "markdown",
   "metadata": {},
   "source": [
    "### 2.2.1 Total Spike Rate and Max Spike Rate"
   ]
  },
  {
   "cell_type": "code",
   "execution_count": 12,
   "metadata": {},
   "outputs": [],
   "source": [
    "%matplotlib inline"
   ]
  },
  {
   "cell_type": "code",
   "execution_count": 14,
   "metadata": {},
   "outputs": [
    {
     "data": {
      "image/png": "[encoded data removed]",
      "text/plain": [
       "<Figure size 432x288 with 1 Axes>"
      ]
     },
     "metadata": {
      "needs_background": "light"
     },
     "output_type": "display_data"
    }
   ],
   "source": [
    "# Total spike Rate\n",
    "total_spike_rate_idx = total_features.index('total_spike_rate')\n",
    "total_spike_rates = [x[total_spike_rate_idx] for x in formatted_X]\n",
    "spike_rate_df = pd.DataFrame()\n",
    "spike_rate_df['spike_rate'] = total_spike_rates\n",
    "spike_rate_df['group'] = groups\n",
    "\n",
    "group_names = list(include_subject_groups.keys())\n",
    "xticks = [i+1 for i, g in enumerate(group_names)]\n",
    "\n",
    "fig, ax = plt.subplots()\n",
    "bp = spike_rate_df.boxplot(column='spike_rate', by='group', grid=False, ax=ax)\n",
    "for gdx, g in enumerate(group_names):\n",
    "    spike_rates_group = [sr for idx, sr in enumerate(total_spike_rates) if groups[idx] == gdx]\n",
    "    x = np.random.normal(gdx+1, 0.04, size=len(spike_rates_group))\n",
    "    plt.scatter(x, spike_rates_group, alpha=0.2, label=g)\n",
    "\n",
    "ax.set_xticks(xticks)\n",
    "ax.set_xticklabels(group_names)\n",
    "\n",
    "    \n",
    "plt.show()\n"
   ]
  },
  {
   "cell_type": "code",
   "execution_count": 15,
   "metadata": {},
   "outputs": [
    {
     "data": {
      "image/png": "[encoded data removed]",
      "text/plain": [
       "<Figure size 432x288 with 1 Axes>"
      ]
     },
     "metadata": {
      "needs_background": "light"
     },
     "output_type": "display_data"
    }
   ],
   "source": [
    "# Max spike Rate\n",
    "max_spike_rate_idx = total_features.index('max_spike_rate')\n",
    "max_spike_rates = [x[max_spike_rate_idx] for x in formatted_X]\n",
    "spike_rate_df = pd.DataFrame()\n",
    "spike_rate_df['spike_rate'] = max_spike_rates\n",
    "spike_rate_df['group'] = groups\n",
    "\n",
    "group_names = list(include_subject_groups.keys())\n",
    "xticks = [i+1 for i, g in enumerate(group_names)]\n",
    "\n",
    "fig, ax = plt.subplots()\n",
    "bp = spike_rate_df.boxplot(column='spike_rate', by='group', grid=False, ax=ax)\n",
    "for gdx, g in enumerate(group_names):\n",
    "    spike_rates_group = [sr for idx, sr in enumerate(max_spike_rates) if groups[idx] == gdx]\n",
    "    x = np.random.normal(gdx+1, 0.04, size=len(spike_rates_group))\n",
    "    plt.scatter(x, spike_rates_group, alpha=0.2, label=g)\n",
    "\n",
    "ax.set_xticks(xticks)\n",
    "ax.set_xticklabels(group_names)\n",
    "\n",
    "    \n",
    "plt.show()\n"
   ]
  },
  {
   "cell_type": "markdown",
   "metadata": {},
   "source": [
    "### 2.2.2 Spike Rate Per Channel"
   ]
  },
  {
   "cell_type": "code",
   "execution_count": 16,
   "metadata": {},
   "outputs": [
    {
     "name": "stderr",
     "output_type": "stream",
     "text": [
      "<ipython-input-16-46cc73940ec8>:17: UserWarning: FixedFormatter should only be used together with FixedLocator\n",
      "  axs[ug].set_xticklabels(ch_names, rotation = 45, ha=\"right\")\n",
      "<ipython-input-16-46cc73940ec8>:17: UserWarning: FixedFormatter should only be used together with FixedLocator\n",
      "  axs[ug].set_xticklabels(ch_names, rotation = 45, ha=\"right\")\n",
      "<ipython-input-16-46cc73940ec8>:17: UserWarning: FixedFormatter should only be used together with FixedLocator\n",
      "  axs[ug].set_xticklabels(ch_names, rotation = 45, ha=\"right\")\n"
     ]
    },
    {
     "data": {
      "image/png": "[encoded data removed]",
      "text/plain": [
       "<Figure size 432x288 with 3 Axes>"
      ]
     },
     "metadata": {
      "needs_background": "light"
     },
     "output_type": "display_data"
    }
   ],
   "source": [
    "fig, axs = plt.subplots(1, 3, sharey=True)\n",
    "spike_rate_df = pd.DataFrame()\n",
    "spike_rate_df['group'] = groups\n",
    "ch_names = list(subject_spike_map['001'].keys())\n",
    "for ch in ch_names:\n",
    "    ch_rates = []\n",
    "    for sub, spike_dict in subject_spike_map.items():\n",
    "        if sub not in removed_pt_ids:\n",
    "            ch_rates.append(spike_dict.get(ch, 0.0))\n",
    "    spike_rate_df[ch] = ch_rates\n",
    "colors=['k', 'c', 'm']\n",
    "unique_groups = np.unique(groups)\n",
    "for ug in unique_groups:\n",
    "    ch_df = spike_rate_df[spike_rate_df['group'] == ug]\n",
    "    ch_df_melt = ch_df.melt(id_vars=['group'])\n",
    "    axs[ug].scatter(x=ch_df_melt['variable'], y=ch_df_melt['value'], alpha=0.4, c=colors[ug])\n",
    "    axs[ug].set_xticklabels(ch_names, rotation = 45, ha=\"right\")\n",
    "    axs[ug].set_title(list(include_subject_groups.keys())[ug])\n",
    "    \n",
    "plt.subplots_adjust(bottom=0.30)\n",
    "plt.ylabel('Spike Rate')\n",
    "plt.show()"
   ]
  },
  {
   "cell_type": "markdown",
   "metadata": {},
   "source": [
    "### 2.2.3 Spike Rate Per Lobe"
   ]
  },
  {
   "cell_type": "code",
   "execution_count": 18,
   "metadata": {},
   "outputs": [
    {
     "name": "stderr",
     "output_type": "stream",
     "text": [
      "<ipython-input-18-dbf9454fb57b>:16: UserWarning: FixedFormatter should only be used together with FixedLocator\n",
      "  axs[ug].set_xticklabels(lobe_names, rotation = 45, ha=\"right\")\n",
      "<ipython-input-18-dbf9454fb57b>:16: UserWarning: FixedFormatter should only be used together with FixedLocator\n",
      "  axs[ug].set_xticklabels(lobe_names, rotation = 45, ha=\"right\")\n",
      "<ipython-input-18-dbf9454fb57b>:16: UserWarning: FixedFormatter should only be used together with FixedLocator\n",
      "  axs[ug].set_xticklabels(lobe_names, rotation = 45, ha=\"right\")\n"
     ]
    },
    {
     "data": {
      "image/png": "[encoded data removed]",
      "text/plain": [
       "<Figure size 432x288 with 3 Axes>"
      ]
     },
     "metadata": {
      "needs_background": "light"
     },
     "output_type": "display_data"
    }
   ],
   "source": [
    "fig, axs = plt.subplots(1, 3, sharey=True)\n",
    "spike_rate_df = pd.DataFrame()\n",
    "spike_rate_df['group'] = groups\n",
    "lobe_names = ['frontal_lobe', 'temporal_lobe', 'parietal_lobe', 'occipital_lobe']\n",
    "for lobe in lobe_names:\n",
    "    lobe_spike_rate_idx = total_features.index(f'{lobe}_spike_rate')\n",
    "    lobe_spike_rates = [x[lobe_spike_rate_idx] for x in formatted_X]\n",
    "    spike_rate_df[lobe] = lobe_spike_rates\n",
    "\n",
    "colors=['k', 'c', 'm']\n",
    "unique_groups = np.unique(groups)\n",
    "for ug in unique_groups:\n",
    "    lobe_df = spike_rate_df[spike_rate_df['group'] == ug]\n",
    "    lobe_df_melt = lobe_df.melt(id_vars=['group'])\n",
    "    axs[ug].scatter(x=lobe_df_melt['variable'], y=lobe_df_melt['value'], alpha=0.4, c=colors[ug])\n",
    "    axs[ug].set_xticklabels(lobe_names, rotation = 45, ha=\"right\")\n",
    "    axs[ug].set_title(list(include_subject_groups.keys())[ug])\n",
    "    \n",
    "plt.subplots_adjust(bottom=0.30)\n",
    "plt.ylabel('Spike Rate')\n",
    "plt.show()"
   ]
  },
  {
   "cell_type": "markdown",
   "metadata": {},
   "source": [
    "### 2.2.4 Slowing Rates Per Group"
   ]
  },
  {
   "cell_type": "code",
   "execution_count": 21,
   "metadata": {},
   "outputs": [
    {
     "data": {
      "image/png": "[encoded data removed]",
      "text/plain": [
       "<Figure size 432x288 with 1 Axes>"
      ]
     },
     "metadata": {
      "needs_background": "light"
     },
     "output_type": "display_data"
    }
   ],
   "source": [
    "# Total Slowing windows\n",
    "total_slowing_windows_idx = total_features.index('total_outlier_windows')\n",
    "total_slowing_rates = [x[total_slowing_windows_idx] for x in formatted_X]\n",
    "slowing_df = pd.DataFrame()\n",
    "slowing_df['slowing_windows'] = total_slowing_rates\n",
    "slowing_df['group'] = groups\n",
    "\n",
    "group_names = list(include_subject_groups.keys())\n",
    "xticks = [i+1 for i, g in enumerate(group_names)]\n",
    "\n",
    "fig, ax = plt.subplots()\n",
    "bp = slowing_df.boxplot(column='slowing_windows', by='group', grid=False, ax=ax)\n",
    "for gdx, g in enumerate(group_names):\n",
    "    slowing_rates_group = [sr for idx, sr in enumerate(total_slowing_rates) if groups[idx] == gdx]\n",
    "    x = np.random.normal(gdx+1, 0.04, size=len(slowing_rates_group))\n",
    "    plt.scatter(x, slowing_rates_group, alpha=0.2, label=g)\n",
    "\n",
    "ax.set_xticks(xticks)\n",
    "ax.set_xticklabels(group_names)\n",
    "\n",
    "    \n",
    "plt.show()\n"
   ]
  },
  {
   "cell_type": "markdown",
   "metadata": {},
   "source": [
    "## 2.3 Feature Selection - Get K Best Features"
   ]
  },
  {
   "cell_type": "code",
   "execution_count": 23,
   "metadata": {},
   "outputs": [],
   "source": [
    "# Select kfeats features and trim X to only include those features\n",
    "if kfeats < nfeats:\n",
    "    feature_selector = SelectKBest(chi2, k=kfeats)\n",
    "    trimmed_X = feature_selector.fit_transform(formatted_X, y)\n",
    "    feature_bool = feature_selector.get_support()\n",
    "    feature_arr = np.array(total_features)\n",
    "    included_feats = feature_arr[feature_bool]\n",
    "else:\n",
    "    trimmed_X = formatted_X.copy()\n",
    "    included_feats = np.array(include_feature_groups)"
   ]
  },
  {
   "cell_type": "markdown",
   "metadata": {},
   "source": [
    "# 3.0 Run the classification"
   ]
  },
  {
   "cell_type": "markdown",
   "metadata": {},
   "source": [
    "## 3.1 Set up cross validation"
   ]
  },
  {
   "cell_type": "code",
   "execution_count": 24,
   "metadata": {},
   "outputs": [],
   "source": [
    "sss = StratifiedShuffleSplit(n_splits=cross_val_splits, test_size=0.2, random_state=0)"
   ]
  },
  {
   "cell_type": "markdown",
   "metadata": {},
   "source": [
    "## 3.2 Set up classifier(s)"
   ]
  },
  {
   "cell_type": "code",
   "execution_count": 25,
   "metadata": {},
   "outputs": [],
   "source": [
    "clf = LogisticRegression()"
   ]
  },
  {
   "cell_type": "markdown",
   "metadata": {},
   "source": [
    "## 3.3 Set up cross-val"
   ]
  },
  {
   "cell_type": "code",
   "execution_count": 27,
   "metadata": {},
   "outputs": [],
   "source": [
    "def dummy_cv(train, test):\n",
    "    yield train, test"
   ]
  },
  {
   "cell_type": "markdown",
   "metadata": {},
   "source": [
    "## 3.4 Run Cross-val experiment"
   ]
  },
  {
   "cell_type": "code",
   "execution_count": 28,
   "metadata": {},
   "outputs": [],
   "source": [
    "def combine_patient_predictions(\n",
    "    y_trues, ypred_probs, subject_groups, pat_predictions=None, pat_true=None\n",
    "):\n",
    "    if pat_predictions is None or pat_true is None:\n",
    "        pat_predictions = collections.defaultdict(list)\n",
    "        pat_true = dict()\n",
    "        \n",
    "    # loop through things\n",
    "    for ytrue, ypred_proba, subject in zip(y_trues, ypred_probs, subject_groups):\n",
    "        pat_predictions[str(subject)].append(float(ypred_proba))\n",
    "        \n",
    "        if subject not in pat_true:\n",
    "            pat_true[str(subject)] = ytrue\n",
    "        else:\n",
    "            if pat_true[str(subject)] != ytrue:\n",
    "                raise RuntimeError(\"subjects should match...\")\n",
    "    return pat_predictions, pat_true"
   ]
  },
  {
   "cell_type": "code",
   "execution_count": 29,
   "metadata": {},
   "outputs": [
    {
     "name": "stdout",
     "output_type": "stream",
     "text": [
      "Done analyzing calibration stats...\n",
      "Done analyzing calibration stats...\n",
      "Done analyzing calibration stats...\n",
      "Done analyzing calibration stats...\n",
      "Done analyzing calibration stats...\n",
      "Done analyzing calibration stats...\n",
      "Done analyzing calibration stats...\n",
      "Done analyzing calibration stats...\n",
      "Done analyzing calibration stats...\n",
      "Done analyzing calibration stats...\n"
     ]
    }
   ],
   "source": [
    "cv_scores = collections.defaultdict(list)\n",
    "scoring_funcs = {\n",
    "    \"roc_auc\": roc_auc_score,\n",
    "    \"accuracy\": accuracy_score,\n",
    "    \"balanced_accuracy\": balanced_accuracy_score,\n",
    "    \"average_precision\": average_precision_score,\n",
    "}\n",
    "for train_inds, test_inds in sss.split(trimmed_X, y):\n",
    "    cv_scores[\"train_inds\"].append(list(train_inds))\n",
    "    cv_scores[\"test_inds\"].append(list(test_inds))\n",
    "    cv = dummy_cv(train_inds, test_inds)\n",
    "\n",
    "    scores = cross_validate(\n",
    "        clf,\n",
    "        trimmed_X,\n",
    "        y,\n",
    "        groups=groups,\n",
    "        cv=cv,\n",
    "        scoring=list(scoring_funcs.keys()),\n",
    "        return_estimator=True,\n",
    "        return_train_score=True,\n",
    "    )\n",
    "    \n",
    "    # removing array like structure\n",
    "    scores = {key: val[0] for key, val in scores.items()}\n",
    "    estimator = scores.pop(\"estimator\")\n",
    "\n",
    "    coeff_ = list(estimator.coef_)\n",
    "    intercept_ = estimator.intercept_\n",
    "    coeff = list(intercept_.copy())\n",
    "    [coeff.extend(c) for c in coeff_]\n",
    "\n",
    "    X_test, y_test = np.array(trimmed_X)[test_inds, ...], np.array(y)[test_inds]\n",
    "    groups_test = np.array(groups)[test_inds]\n",
    "    subjects_test = subject_ids[test_inds]\n",
    "\n",
    "\n",
    "    y_pred_prob = estimator.predict_proba(trimmed_X)[:, 1]\n",
    "    y_pred = estimator.predict(trimmed_X)\n",
    "    \n",
    "\n",
    "    cv_scores[\"validate_ytrue\"].append(list(y_test))\n",
    "    cv_scores[\"validate_ypred_prob\"].append(list(y_pred_prob))\n",
    "    cv_scores[\"validate_ypred\"].append(list(y_pred))\n",
    "    cv_scores[\"validate_subject_groups\"].append(list(groups_test))\n",
    "\n",
    "    # store ROC curve metrics on the held-out test set\n",
    "    fpr, tpr, thresholds = roc_curve(y, y_pred_prob, pos_label=1)\n",
    "    fnr, tnr, neg_thresholds = roc_curve(y, y_pred_prob, pos_label=0)\n",
    "    cv_scores[\"validate_fpr\"].append(list(fpr))\n",
    "    cv_scores[\"validate_tpr\"].append(list(tpr))\n",
    "    cv_scores[\"validate_fnr\"].append(list(fnr))\n",
    "    cv_scores[\"validate_tnr\"].append(list(tnr))\n",
    "    cv_scores[\"validate_thresholds\"].append(list(thresholds))\n",
    "    cv_scores[\"coeff\"].append(list(coeff))\n",
    "    \n",
    "    try:\n",
    "        fraction_of_positives, mean_predicted_value = calibration_curve(\n",
    "            y, y_pred_prob, n_bins=10, strategy=\"quantile\"\n",
    "        )\n",
    "    except Exception as e:\n",
    "        try:\n",
    "            print(e)\n",
    "            fraction_of_positives, mean_predicted_value = calibration_curve(\n",
    "                y, y_pred_prob, n_bins=5, strategy=\"uniform\"\n",
    "            )\n",
    "        except Exception as e:\n",
    "            print(e)\n",
    "            fraction_of_positives = [None]\n",
    "            mean_predicted_value = [None]\n",
    "    clf_brier_score = np.round(\n",
    "        brier_score_loss(y, y_pred_prob, pos_label=np.array(y).max()), 2\n",
    "    )\n",
    "\n",
    "    print(\"Done analyzing calibration stats...\")\n",
    "\n",
    "    # store ingredients for a calibration curve\n",
    "    cv_scores[\"validate_brier_score\"].append(float(clf_brier_score))\n",
    "    cv_scores[\"validate_fraction_pos\"].append(list(fraction_of_positives))\n",
    "    cv_scores[\"validate_mean_pred_value\"].append(list(mean_predicted_value))\n",
    "\n",
    "    pat_predictions, pat_true = combine_patient_predictions(\n",
    "        y, y_pred_prob, subjects_test\n",
    "    )\n",
    "    cv_scores[\"validate_pat_predictions\"].append(pat_predictions)\n",
    "    cv_scores[\"validate_pat_true\"].append(pat_true)"
   ]
  },
  {
   "cell_type": "markdown",
   "metadata": {},
   "source": [
    "# 4.0 Plot Results"
   ]
  },
  {
   "cell_type": "markdown",
   "metadata": {},
   "source": [
    "## 4.1 Define Additional Plotting Functions"
   ]
  },
  {
   "cell_type": "code",
   "execution_count": 30,
   "metadata": {},
   "outputs": [],
   "source": [
    "def average_roc(fpr, tpr):\n",
    "    \"\"\"Compute average ROC statistics.\"\"\"\n",
    "    tprs = []\n",
    "    aucs = []\n",
    "    mean_fpr = np.linspace(0, 1, 200)\n",
    "\n",
    "    n_splits = len(fpr)\n",
    "    print(f\"Computing average ROC over {n_splits} CV splits\")\n",
    "    for i in range(n_splits):\n",
    "        interp_tpr = np.interp(mean_fpr, fpr[i], tpr[i])\n",
    "        interp_tpr[0] = 0.0\n",
    "        tprs.append(interp_tpr)\n",
    "        aucs.append(auc(mean_fpr, interp_tpr))\n",
    "\n",
    "    mean_tpr = np.mean(tprs, axis=0)\n",
    "    mean_tpr[-1] = 1.0\n",
    "    mean_auc = auc(mean_fpr, mean_tpr)\n",
    "    std_auc = np.std(aucs)\n",
    "\n",
    "    print(f\"Found mean tpr: {mean_tpr}\")\n",
    "    std_tpr = np.std(tprs, axis=0)\n",
    "    return mean_fpr, tprs, aucs"
   ]
  },
  {
   "cell_type": "code",
   "execution_count": 31,
   "metadata": {},
   "outputs": [],
   "source": [
    "from scipy.spatial.distance import cdist\n",
    "\n",
    "# get line between optimum and clinical op point\n",
    "def create_line(x1, x2, y1, y2, n_points=200):\n",
    "    slope = (y2 - y1) / (x2 - x1)\n",
    "\n",
    "    xs = np.linspace(x1, x2, n_points)\n",
    "    ys = np.linspace(y1, y2, n_points)\n",
    "\n",
    "    return xs, ys\n",
    "\n",
    "\n",
    "def find_intersect_idx(x1s, y1s, x2s, y2s):\n",
    "    \"\"\"Help find intersection points between two curves.\"\"\"\n",
    "    euc_dists = []\n",
    "    points = np.vstack((x2s, y2s)).T\n",
    "    for idx, (x1, y1) in enumerate(zip(x1s, y1s)):\n",
    "        point = np.array([x1, y1])[np.newaxis, :]\n",
    "        dists = cdist(points, point)\n",
    "        euc_dists.append(min(dists))\n",
    "    return np.argmin(euc_dists)"
   ]
  },
  {
   "cell_type": "markdown",
   "metadata": {},
   "source": [
    "## 4.2 Plot ROC Curves for all folds and Average"
   ]
  },
  {
   "cell_type": "code",
   "execution_count": 32,
   "metadata": {},
   "outputs": [
    {
     "name": "stdout",
     "output_type": "stream",
     "text": [
      "Computing average ROC over 10 CV splits\n",
      "Found mean tpr: [0.         0.17586207 0.17586207 0.17586207 0.3862069  0.3862069\n",
      " 0.3862069  0.44137931 0.44137931 0.44137931 0.44137931 0.44827586\n",
      " 0.44827586 0.44827586 0.45517241 0.45517241 0.45517241 0.45517241\n",
      " 0.47241379 0.47241379 0.47241379 0.48275862 0.48275862 0.48275862\n",
      " 0.48275862 0.54482759 0.54482759 0.54482759 0.56896552 0.56896552\n",
      " 0.56896552 0.56896552 0.61034483 0.61034483 0.61034483 0.66206897\n",
      " 0.66206897 0.66206897 0.66206897 0.67931034 0.67931034 0.67931034\n",
      " 0.70689655 0.70689655 0.70689655 0.70689655 0.75517241 0.75517241\n",
      " 0.75517241 0.76896552 0.76896552 0.76896552 0.76896552 0.77931034\n",
      " 0.77931034 0.77931034 0.7862069  0.7862069  0.7862069  0.7862069\n",
      " 0.78965517 0.78965517 0.78965517 0.79310345 0.79310345 0.79310345\n",
      " 0.79310345 0.80344828 0.80344828 0.80344828 0.82413793 0.82413793\n",
      " 0.82413793 0.82413793 0.82413793 0.82413793 0.82413793 0.85179562\n",
      " 0.852166   0.85253639 0.85290678 0.86017371 0.8605441  0.86091449\n",
      " 0.86473315 0.86510353 0.86547392 0.86584431 0.86683634 0.86807096\n",
      " 0.86930558 0.8705402  0.87177482 0.87300944 0.87424407 0.87547869\n",
      " 0.87671331 0.87794793 0.87918255 0.88041717 0.88165179 0.88288641\n",
      " 0.88412104 0.88535566 0.88659028 0.8878249  0.88905952 0.89029414\n",
      " 0.89152876 0.89276339 0.89399801 0.89523263 0.89646725 0.89770187\n",
      " 0.89893649 0.90017111 0.90140574 0.90264036 0.90387498 0.9051096\n",
      " 0.90634422 0.90757884 0.90881346 0.91004809 0.91128271 0.91251733\n",
      " 0.91375195 0.91498657 0.91622119 0.91745581 0.91869043 0.91992506\n",
      " 0.92115968 0.9223943  0.92362892 0.92486354 0.92609816 0.92733278\n",
      " 0.92856741 0.92980203 0.93103665 0.93227127 0.93350589 0.93474051\n",
      " 0.93597513 0.93720976 0.93844438 0.939679   0.94091362 0.94214824\n",
      " 0.94338286 0.94461748 0.94585211 0.94708673 0.94832135 0.94955597\n",
      " 0.95079059 0.95202521 0.95325983 0.95449446 0.95572908 0.9569637\n",
      " 0.95819832 0.95943294 0.96066756 0.96190218 0.9631368  0.96437143\n",
      " 0.96560605 0.96684067 0.96807529 0.96930991 0.97054453 0.97177915\n",
      " 0.97301378 0.9742484  0.97548302 0.97671764 0.97795226 0.97918688\n",
      " 0.9804215  0.98165613 0.98289075 0.98412537 0.98535999 0.98659461\n",
      " 0.98782923 0.98906385 0.99029848 0.99135765 0.99222189 0.99308612\n",
      " 0.99395036 0.99481459 0.99567883 0.99654306 0.9974073  0.99827153\n",
      " 0.99913577 1.        ]\n"
     ]
    }
   ],
   "source": [
    "names = {\n",
    "    \"Log. Reg\": \"blue\",\n",
    "}\n",
    "auc_feat_names = []\n",
    "auc_feat_scores = []\n",
    "mean_tpr_scores = []\n",
    "mean_fpr_scores = []\n",
    "\n",
    "name = list(names.keys())[0]\n",
    "fprs, tprs = cv_scores[\"validate_fpr\"], cv_scores[\"validate_tpr\"]\n",
    "mean_fpr, mean_tprs, aucs = average_roc(fprs, tprs)\n",
    "\n",
    "mean_tpr, std_tpr = np.mean(mean_tprs, axis=0), np.std(mean_tprs, axis=0)\n",
    "mean_tpr_scores.append(mean_tpr)\n",
    "mean_fpr_scores.append(mean_fpr)\n",
    "\n",
    "auc_feat_names.append(name)\n",
    "auc_feat_scores.append(np.mean(aucs))\n",
    "\n",
    "fold_names = [f\"fold-{k+1}\" for k in range(len(fprs))]\n",
    "fold_names.append(\"average\")\n",
    "fpr_folds = fprs.copy()\n",
    "tpr_folds = tprs.copy()\n",
    "fpr_folds.append(list(mean_fpr))\n",
    "tpr_folds.append(list(mean_tpr))\n",
    "colors = []\n",
    "for i in range(len(fpr_folds)):\n",
    "    colors.append('#%06X' % randint(0, 0xFFFFFF))\n",
    "alphas = [0.2] * len(fpr_folds)\n",
    "alphas[-1] = 0.8"
   ]
  },
  {
   "cell_type": "code",
   "execution_count": 35,
   "metadata": {},
   "outputs": [
    {
     "data": {
      "image/png": "[encoded data removed]",
      "text/plain": [
       "<Figure size 432x288 with 1 Axes>"
      ]
     },
     "metadata": {
      "needs_background": "light"
     },
     "output_type": "display_data"
    }
   ],
   "source": [
    "plt.figure()\n",
    "for ind, color in enumerate(colors):\n",
    "    lw = 2\n",
    "    plt.plot(fpr_folds[ind], tpr_folds[ind], color=colors[ind],\n",
    "             lw=lw, label=f'RC curve for {fold_names[ind]}', alpha=alphas[ind])\n",
    "    plt.plot([0, 1], [0, 1], color='navy', lw=lw, linestyle='--')\n",
    "    plt.xlim([0.0, 1.0])\n",
    "    plt.ylim([0.0, 1.05])\n",
    "    plt.xlabel('False Positive Rate')\n",
    "    plt.ylabel('True Positive Rate')\n",
    "    plt.title('Receiver Operating Characteristic Curve \\n of Abnormal EEG Classifier')\n",
    "    plt.legend(loc=\"lower right\")\n",
    "plt.show()"
   ]
  },
  {
   "cell_type": "markdown",
   "metadata": {},
   "source": [
    "## 4.3 Plot Boxplots and Scatter Plots of Testing Data"
   ]
  },
  {
   "cell_type": "code",
   "execution_count": 34,
   "metadata": {},
   "outputs": [
    {
     "data": {
      "image/png": "[encoded data removed]",
      "text/plain": [
       "<Figure size 432x288 with 1 Axes>"
      ]
     },
     "metadata": {
      "needs_background": "light"
     },
     "output_type": "display_data"
    }
   ],
   "source": [
    "test_predictions = []\n",
    "test_groups = []\n",
    "y_pred_probs, test_inds = cv_scores['validate_ypred_prob'], cv_scores['test_inds']\n",
    "for idx, (predictions, t_inds) in enumerate(zip(y_pred_probs, test_inds)):\n",
    "    test_predictions_ = np.array(predictions)[t_inds]\n",
    "    test_predictions.extend(test_predictions_)\n",
    "    test_groups_ = groups[t_inds]\n",
    "    test_groups.extend(test_groups_)\n",
    "\n",
    "test_df = pd.DataFrame()\n",
    "test_df['prediction'] = test_predictions\n",
    "test_df['group'] = test_groups\n",
    "\n",
    "group_names = list(include_subject_groups.keys())\n",
    "xticks = [i+1 for i, g in enumerate(group_names)]\n",
    "\n",
    "fig, ax = plt.subplots()\n",
    "bp = test_df.boxplot(column='prediction', by='group', grid=False, ax=ax)\n",
    "for gdx, g in enumerate(group_names):\n",
    "    prediction_group = [pr for idx, pr in enumerate(test_predictions) if test_groups[idx] == gdx]\n",
    "    x = np.random.normal(gdx+1, 0.04, size=len(prediction_group))\n",
    "    plt.scatter(x, prediction_group, alpha=0.2, label=g)\n",
    "\n",
    "ax.set_xticks(xticks)\n",
    "ax.set_xticklabels(group_names)\n",
    "\n",
    "    \n",
    "plt.show()\n"
   ]
  }
 ],
 "metadata": {
  "kernelspec": {
   "display_name": "episcalp",
   "language": "python",
   "name": "episcalp"
  },
  "language_info": {
   "codemirror_mode": {
    "name": "ipython",
    "version": 3
   },
   "file_extension": ".py",
   "mimetype": "text/x-python",
   "name": "python",
   "nbconvert_exporter": "python",
   "pygments_lexer": "ipython3",
   "version": "3.8.7"
  }
 },
 "nbformat": 4,
 "nbformat_minor": 4
}
