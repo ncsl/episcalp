{
 "cells": [
  {
   "cell_type": "markdown",
   "id": "b4b284de-0c93-48c1-a897-1fd45c007f95",
   "metadata": {},
   "source": [
    "# Run Classification Experiment of Feature Heatmaps - Epilepsy Scalp EEG\n",
    "\n",
    "Here, we run through a pipeline for performing the classification experiment on feature heatmaps.\n",
    "\n",
    "This relies on a few files being up-to-date:\n",
    "\n",
    "- participants.tsv: contains metadata per subject"
   ]
  },
  {
   "cell_type": "code",
   "execution_count": 2,
   "id": "6dd162d8-2401-422a-a320-a58cac202d5d",
   "metadata": {},
   "outputs": [],
   "source": [
    "%load_ext lab_black"
   ]
  },
  {
   "cell_type": "code",
   "execution_count": 32,
   "id": "6bf2146b-0783-45fb-ac50-59589d1b869b",
   "metadata": {},
   "outputs": [
    {
     "name": "stdout",
     "output_type": "stream",
     "text": [
      "The autoreload extension is already loaded. To reload it, use:\n",
      "  %reload_ext autoreload\n"
     ]
    }
   ],
   "source": [
    "import collections\n",
    "import json\n",
    "import os\n",
    "from itertools import product\n",
    "from pathlib import Path\n",
    "import sys\n",
    "import pandas as pd\n",
    "import numpy as np\n",
    "from mne_bids import get_entities_from_fname, get_entity_vals\n",
    "\n",
    "from natsort import natsorted\n",
    "\n",
    "# from rerf.rerfClassifier import rerfClassifier\n",
    "\n",
    "# comparative classifiers\n",
    "from sklearn.linear_model import LogisticRegression\n",
    "from sklearn.dummy import DummyClassifier\n",
    "from sklearn.ensemble import RandomForestClassifier\n",
    "\n",
    "from sklearn.preprocessing import OrdinalEncoder\n",
    "from sklearn.metrics import (\n",
    "    average_precision_score,\n",
    "    roc_auc_score,\n",
    "    f1_score,\n",
    "    roc_curve,\n",
    "    balanced_accuracy_score,\n",
    "    accuracy_score,\n",
    "    auc,\n",
    "    brier_score_loss,\n",
    "    plot_precision_recall_curve,\n",
    "    average_precision_score,\n",
    "    precision_recall_curve,\n",
    ")\n",
    "from sklearn.model_selection import (\n",
    "    GroupKFold,\n",
    "    cross_validate,\n",
    "    StratifiedKFold,\n",
    "    RepeatedStratifiedKFold,\n",
    "    StratifiedShuffleSplit,\n",
    ")\n",
    "from sklearn.utils import resample\n",
    "from sklearn.calibration import calibration_curve\n",
    "\n",
    "import seaborn as sns\n",
    "import matplotlib\n",
    "import matplotlib.pyplot as plt\n",
    "\n",
    "sys.path.append(\"../\")\n",
    "%matplotlib inline\n",
    "%load_ext autoreload\n",
    "%autoreload 2"
   ]
  },
  {
   "cell_type": "markdown",
   "id": "0a3c80e4-63e0-4edd-9ae1-41c399bd43e7",
   "metadata": {},
   "source": [
    "# Specify where to find data"
   ]
  },
  {
   "cell_type": "code",
   "execution_count": 24,
   "id": "90767b82-016b-405d-aa5c-aefadd9f153f",
   "metadata": {},
   "outputs": [],
   "source": [
    "data_path = Path(\"/Users/adam2392/Johns Hopkins/Scalp EEG JHH - Documents/\")\n",
    "\n",
    "bids_path = data_path / \"40Hz-30\"\n",
    "deriv_root = bids_path / \"derivatives\"\n",
    "\n",
    "# analysis parameters\n",
    "reference = \"monopolar\"\n",
    "\n",
    "# type of derived data\n",
    "deriv_chain = Path(\"fragility\") / \"radius1.25\" / reference\n",
    "\n",
    "# where to read subject-specific metadata\n",
    "participants_fname = bids_path / \"participants.tsv\""
   ]
  },
  {
   "cell_type": "code",
   "execution_count": 26,
   "id": "95abf1d2-be2b-4b21-be7e-a36548344cc2",
   "metadata": {},
   "outputs": [
    {
     "name": "stdout",
     "output_type": "stream",
     "text": [
      "Analyzed 22 subjects\n"
     ]
    }
   ],
   "source": [
    "# get all derived data subjects\n",
    "subjs = get_entity_vals((deriv_root / deriv_chain).as_posix(), \"subject\")\n",
    "\n",
    "print(f\"Analyzed {len(subjs)} subjects\")"
   ]
  },
  {
   "cell_type": "code",
   "execution_count": 35,
   "id": "3525e71f-8c59-49bd-9f7b-bc0546d5386d",
   "metadata": {},
   "outputs": [],
   "source": [
    "# get a generator of all derived datasets\n",
    "# here, we find it by using the extension `.npy`. Each unique `.npy` file\n",
    "# defines another snapshot\n",
    "# Maybe change according to your dataset.\n",
    "deriv_fpaths = (deriv_root / deriv_chain).rglob(\"*desc-perturbmatrix_eeg.npy\")"
   ]
  },
  {
   "cell_type": "markdown",
   "id": "fe19b1c3-dc79-4a16-88f5-ee51e80092f5",
   "metadata": {},
   "source": [
    "# Read in Clinical Metadata"
   ]
  },
  {
   "cell_type": "code",
   "execution_count": 27,
   "id": "70d8a210-1774-48f9-869a-e61d8ab688d8",
   "metadata": {},
   "outputs": [
    {
     "data": {
      "text/html": [
       "<div>\n",
       "<style scoped>\n",
       "    .dataframe tbody tr th:only-of-type {\n",
       "        vertical-align: middle;\n",
       "    }\n",
       "\n",
       "    .dataframe tbody tr th {\n",
       "        vertical-align: top;\n",
       "    }\n",
       "\n",
       "    .dataframe thead th {\n",
       "        text-align: right;\n",
       "    }\n",
       "</style>\n",
       "<table border=\"1\" class=\"dataframe\">\n",
       "  <thead>\n",
       "    <tr style=\"text-align: right;\">\n",
       "      <th></th>\n",
       "      <th>participant_id</th>\n",
       "      <th>age</th>\n",
       "      <th>sex</th>\n",
       "      <th>hand</th>\n",
       "    </tr>\n",
       "  </thead>\n",
       "  <tbody>\n",
       "    <tr>\n",
       "      <th>0</th>\n",
       "      <td>sub-001</td>\n",
       "      <td>NaN</td>\n",
       "      <td>NaN</td>\n",
       "      <td>NaN</td>\n",
       "    </tr>\n",
       "    <tr>\n",
       "      <th>1</th>\n",
       "      <td>sub-002</td>\n",
       "      <td>NaN</td>\n",
       "      <td>NaN</td>\n",
       "      <td>NaN</td>\n",
       "    </tr>\n",
       "    <tr>\n",
       "      <th>2</th>\n",
       "      <td>sub-003</td>\n",
       "      <td>NaN</td>\n",
       "      <td>NaN</td>\n",
       "      <td>NaN</td>\n",
       "    </tr>\n",
       "    <tr>\n",
       "      <th>3</th>\n",
       "      <td>sub-004</td>\n",
       "      <td>NaN</td>\n",
       "      <td>NaN</td>\n",
       "      <td>NaN</td>\n",
       "    </tr>\n",
       "    <tr>\n",
       "      <th>4</th>\n",
       "      <td>sub-005</td>\n",
       "      <td>NaN</td>\n",
       "      <td>NaN</td>\n",
       "      <td>NaN</td>\n",
       "    </tr>\n",
       "  </tbody>\n",
       "</table>\n",
       "</div>"
      ],
      "text/plain": [
       "  participant_id  age  sex  hand\n",
       "0        sub-001  NaN  NaN   NaN\n",
       "1        sub-002  NaN  NaN   NaN\n",
       "2        sub-003  NaN  NaN   NaN\n",
       "3        sub-004  NaN  NaN   NaN\n",
       "4        sub-005  NaN  NaN   NaN"
      ]
     },
     "metadata": {},
     "output_type": "display_data"
    }
   ],
   "source": [
    "part_df = pd.read_csv(participants_fname, delimiter=\"\\t\")"
   ]
  },
  {
   "cell_type": "markdown",
   "id": "e722bd2b-e9d9-4b06-93ab-ed3ad318d772",
   "metadata": {},
   "source": [
    "# Instantiate Classification Model"
   ]
  },
  {
   "cell_type": "code",
   "execution_count": null,
   "id": "ae7b5b96-45f5-4779-bba1-d12cbc42a106",
   "metadata": {},
   "outputs": [],
   "source": [
    "n_jobs = -1\n",
    "num_runs = 1\n",
    "n_est = 500  # number of estimators\n",
    "\n",
    "max_depth = None\n",
    "max_features = \"auto\"\n",
    "IMAGE_HEIGHT = 20\n",
    "IMAGE_WIDTH = 1\n",
    "\n",
    "model_params = {\n",
    "    \"n_estimators\": 500,\n",
    "    \"max_depth\": max_depth[0],\n",
    "    \"max_features\": max_features[0],\n",
    "    \"n_jobs\": n_jobs,\n",
    "    \"random_state\": random_state,\n",
    "#     \"projection_matrix\": \"RerF\",\n",
    "#     \"projection_matrix\": \"S-RerF\",\n",
    "    \"projection_matrix\": \"MT-MORF\",\n",
    "    \"image_height\": IMAGE_HEIGHT,\n",
    "    \"image_width\": np.abs(windows[0]).sum(),\n",
    "    \"patch_height_max\": 4,\n",
    "    \"patch_height_min\": 1,\n",
    "    \"patch_width_max\": 8,\n",
    "    \"patch_width_min\": 1,\n",
    "}\n",
    "\n",
    "clf = rerfClassifier(**model_params)"
   ]
  },
  {
   "cell_type": "markdown",
   "id": "e4b87256-b63f-496e-809c-191179fefc9c",
   "metadata": {},
   "source": [
    "# Instatiate Scoring Functions"
   ]
  },
  {
   "cell_type": "code",
   "execution_count": 36,
   "id": "b7071e67-0072-43bd-9342-8c35c80847be",
   "metadata": {},
   "outputs": [],
   "source": [
    "# perform CV using Sklearn\n",
    "# and keep track of these metrics\n",
    "scoring_funcs = {\n",
    "    \"roc_auc\": roc_auc_score,\n",
    "    \"accuracy\": accuracy_score,\n",
    "    \"balanced_accuracy\": balanced_accuracy_score,\n",
    "    \"average_precision\": average_precision_score,\n",
    "    \"brier_score\": brier_score_loss,\n",
    "}"
   ]
  },
  {
   "cell_type": "markdown",
   "id": "3ed3d37d-b6c4-4daf-b6df-b08a6a324945",
   "metadata": {},
   "source": [
    "# Run Classification Experiment"
   ]
  },
  {
   "cell_type": "code",
   "execution_count": 33,
   "id": "2080b955-7b03-4d87-9cbc-2b074cc0d5d7",
   "metadata": {},
   "outputs": [],
   "source": [
    "# set seed and randomness for downstream reproducibility\n",
    "seed = 12345\n",
    "random_state = 12345\n",
    "np.random.seed(seed)\n",
    "n_jobs = -1\n",
    "\n",
    "# proportion of subjects to use for training\n",
    "train_size = 0.6\n",
    "\n",
    "# format supervised learning datasets\n",
    "# # define preprocessing to convert labels/groups into numbers\n",
    "# enc = OrdinalEncoder()  # handle_unknown='ignore', sparse=False\n",
    "# #     subject_groups = enc.fit_transform(np.array(subjects)[:, np.newaxis])\n",
    "# y = enc.fit_transform(np.array(y)[:, np.newaxis])\n",
    "# subject_groups = np.array(subject_groups)\n",
    "\n",
    "# get a stratified K fold\n",
    "cv = StratifiedShuffleSplit(\n",
    "    n_splits=10, train_size=train_size, random_state=random_state\n",
    ")"
   ]
  },
  {
   "cell_type": "code",
   "execution_count": null,
   "id": "a410d186-f49b-462d-9cd9-d3d46d414f75",
   "metadata": {},
   "outputs": [],
   "source": [
    "# load in X and y\n",
    "for fpath in deriv_fpaths:\n",
    "    # get entities from fname\n",
    "    entities = get_entities_from_fname(fpath.name)\n",
    "    subject = entities['subject']\n",
    "    \n",
    "    # get the label for this subject\n",
    "    \n",
    "    # transform the dataset into necessary parameter"
   ]
  },
  {
   "cell_type": "code",
   "execution_count": null,
   "id": "a3b2ff44-e428-4c49-b7c5-8747f8425008",
   "metadata": {},
   "outputs": [],
   "source": [
    "for jdx, (train_inds, test_inds) in enumerate(gss.split(X, y)):"
   ]
  },
  {
   "cell_type": "code",
   "execution_count": null,
   "id": "13c2fc77-aff0-4c67-84f5-a99ac6898a63",
   "metadata": {},
   "outputs": [],
   "source": [
    "scores = cross_validate(\n",
    "    clf,\n",
    "    X_formatted,\n",
    "    y,\n",
    "    groups=subject_groups,\n",
    "    cv=cv,\n",
    "    scoring=list(scoring_funcs.keys()),\n",
    "    return_estimator=False,\n",
    "    return_train_score=True,\n",
    "    n_jobs=n_jobs,\n",
    ")"
   ]
  }
 ],
 "metadata": {
  "kernelspec": {
   "display_name": "episcalp",
   "language": "python",
   "name": "episcalp"
  },
  "language_info": {
   "codemirror_mode": {
    "name": "ipython",
    "version": 3
   },
   "file_extension": ".py",
   "mimetype": "text/x-python",
   "name": "python",
   "nbconvert_exporter": "python",
   "pygments_lexer": "ipython3",
   "version": "3.8.10"
  }
 },
 "nbformat": 4,
 "nbformat_minor": 5
}
