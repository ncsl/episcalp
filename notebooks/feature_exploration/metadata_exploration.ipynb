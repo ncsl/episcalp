{
 "cells": [
  {
   "cell_type": "markdown",
   "id": "d7e04dbb-99e8-4d4a-9efb-9dc7df733ac1",
   "metadata": {},
   "source": [
    "# Feature Exploration of our Datasets"
   ]
  },
  {
   "cell_type": "code",
   "execution_count": 1,
   "id": "afff20e8-7215-47e2-82d7-d973a64c4337",
   "metadata": {},
   "outputs": [],
   "source": [
    "%load_ext lab_black"
   ]
  },
  {
   "cell_type": "code",
   "execution_count": 84,
   "id": "eb434f52-e463-4bbf-b895-5a3902762be3",
   "metadata": {
    "tags": []
   },
   "outputs": [
    {
     "name": "stdout",
     "output_type": "stream",
     "text": [
      "The autoreload extension is already loaded. To reload it, use:\n",
      "  %reload_ext autoreload\n"
     ]
    }
   ],
   "source": [
    "import numpy as np\n",
    "import scipy\n",
    "import scipy.io\n",
    "import pandas as pd\n",
    "from pathlib import Path\n",
    "import os\n",
    "import collections\n",
    "from natsort import natsorted\n",
    "import json\n",
    "import pickle\n",
    "import warnings\n",
    "import sys\n",
    "from numpy import interp\n",
    "from pprint import pprint\n",
    "import sys\n",
    "import joblib\n",
    "import pandas as pd\n",
    "\n",
    "warnings.filterwarnings(\"ignore\")\n",
    "\n",
    "import mne\n",
    "\n",
    "mne.set_log_level(\"ERROR\")\n",
    "from mne_bids import (\n",
    "    BIDSPath,\n",
    "    get_entities_from_fname,\n",
    "    get_entity_vals,\n",
    "    read_raw_bids,\n",
    "    get_bids_path_from_fname,\n",
    ")\n",
    "\n",
    "from eztrack.io import read_derivative_npy\n",
    "\n",
    "sys.path.append(\"../../\")\n",
    "from episcalp.features import spike_feature_vector, heatmap_features\n",
    "from episcalp.io.read import (\n",
    "    load_persyst_spikes,\n",
    "    load_reject_log,\n",
    "    load_derivative_heatmaps,\n",
    "    map_rejectlog_to_deriv,\n",
    "    load_all_spatiotemporal_datasets,\n",
    "    read_scalp_eeg,\n",
    ")\n",
    "from episcalp.montage import _standard_lobes, get_standard_1020_channels\n",
    "from episcalp.utils.utils import NumpyEncoder\n",
    "from episcalp.cross_validate import (\n",
    "    exclude_subjects,\n",
    "    run_exhaustive_heatmap_evaluation,\n",
    "    convert_experimental_cond_to_y,\n",
    ")\n",
    "\n",
    "from sklearn.preprocessing import OrdinalEncoder, LabelBinarizer, LabelEncoder\n",
    "from sklearn.multiclass import OneVsRestClassifier\n",
    "from sklearn.dummy import DummyClassifier\n",
    "from sklearn.ensemble import RandomForestClassifier\n",
    "from sklearn.linear_model import LogisticRegression\n",
    "from sklearn.calibration import calibration_curve\n",
    "from sklearn.metrics import (\n",
    "    brier_score_loss,\n",
    "    roc_curve,\n",
    "    average_precision_score,\n",
    "    roc_auc_score,\n",
    "    f1_score,\n",
    "    recall_score,\n",
    "    jaccard_score,\n",
    "    balanced_accuracy_score,\n",
    "    accuracy_score,\n",
    "    auc,\n",
    "    precision_score,\n",
    "    plot_precision_recall_curve,\n",
    "    average_precision_score,\n",
    "    precision_recall_curve,\n",
    "    confusion_matrix,\n",
    "    cohen_kappa_score,\n",
    "    make_scorer,\n",
    "    precision_recall_fscore_support,\n",
    ")\n",
    "from sklearn.inspection import permutation_importance\n",
    "from sklearn.model_selection import (\n",
    "    StratifiedGroupKFold,\n",
    "    cross_validate,\n",
    "    StratifiedShuffleSplit,\n",
    "    LeaveOneGroupOut,\n",
    ")\n",
    "from sklearn.utils import resample\n",
    "import sklearn\n",
    "from sklearn import preprocessing\n",
    "from sklearn.preprocessing import StandardScaler\n",
    "\n",
    "from sklearn.pipeline import make_pipeline\n",
    "\n",
    "# if you installed sporf via README\n",
    "from oblique_forests.sporf import ObliqueForestClassifier\n",
    "\n",
    "import matplotlib as mpl\n",
    "import matplotlib.pyplot as plt\n",
    "import seaborn as sns\n",
    "import re\n",
    "\n",
    "%load_ext autoreload\n",
    "%autoreload 2\n",
    "%matplotlib inline"
   ]
  },
  {
   "cell_type": "markdown",
   "id": "0bac46b0-ca63-45bb-b674-6690276bb4d9",
   "metadata": {
    "tags": []
   },
   "source": [
    "# Define Data Directories"
   ]
  },
  {
   "cell_type": "code",
   "execution_count": 3,
   "id": "72d1747b-a81b-4d48-8765-c6891d96ee63",
   "metadata": {},
   "outputs": [],
   "source": [
    "user = \"adam\"\n",
    "if user == \"patrick\":\n",
    "    jhroot = Path(\"D:/OneDriveParent/OneDrive - Johns Hopkins/Shared Documents/bids\")\n",
    "    jeffroot = Path(\"D:/OneDriveParent/Johns Hopkins/Jefferson_Scalp - Documents/root\")\n",
    "\n",
    "    # not ready yet\n",
    "    upmcroot = Path(\"/Users/adam2392/Johns Hopkins/UPMC_Scalp - Documents/\")\n",
    "elif user == \"adam\":\n",
    "    jhroot = Path(\"/Users/adam2392/Johns Hopkins/Scalp EEG JHH - Documents/bids/\")\n",
    "    jeffroot = Path(\"/Users/adam2392/Johns Hopkins/Jefferson_Scalp - Documents/root/\")\n",
    "\n",
    "    # not ready yet\n",
    "    upmcroot = Path(\"/Users/adam2392/Johns Hopkins/UPMC_Scalp - Documents/\")"
   ]
  },
  {
   "cell_type": "code",
   "execution_count": 4,
   "id": "d6453ae0-614a-4843-9055-75587bbec859",
   "metadata": {},
   "outputs": [],
   "source": [
    "bids_roots = [jhroot, jeffroot]"
   ]
  },
  {
   "cell_type": "code",
   "execution_count": 5,
   "id": "f68511f1-604d-47c5-bb37-9c5c2cc927de",
   "metadata": {},
   "outputs": [],
   "source": [
    "roots = [jhroot, jeffroot]"
   ]
  },
  {
   "cell_type": "code",
   "execution_count": 6,
   "id": "743681b1-cdf5-4b47-af9f-a2a8df374e36",
   "metadata": {},
   "outputs": [],
   "source": [
    "if user == \"adam\":\n",
    "    deriv_dir = Path(\n",
    "        \"/Users/adam2392/Johns Hopkins/Scalp EEG JHH - Documents/derivatives\"\n",
    "    )\n",
    "elif user == \"patrick\":\n",
    "    deriv_dir = Path(\n",
    "        \"D:/OneDriveParent/OneDrive - Johns Hopkins/Shared Documents/derivatives\"\n",
    "    )"
   ]
  },
  {
   "cell_type": "markdown",
   "id": "f4908a2e-95a4-439c-a09a-353898ec20b4",
   "metadata": {},
   "source": [
    "# Load Metadata DF"
   ]
  },
  {
   "cell_type": "code",
   "execution_count": 47,
   "id": "fb2c85ee-c2be-470f-a81f-e0349fe9c010",
   "metadata": {},
   "outputs": [],
   "source": [
    "meta_df = pd.DataFrame()\n",
    "\n",
    "for name, root in zip([\"jhh\", \"jeff\"], roots):\n",
    "    part_fname = Path(root) / \"participants.tsv\"\n",
    "    this_df = pd.read_csv(part_fname, delimiter=\"\\t\")\n",
    "    this_df[\"center\"] = name\n",
    "    meta_df = pd.concat((meta_df, this_df))"
   ]
  },
  {
   "cell_type": "code",
   "execution_count": 48,
   "id": "f7eefbff-7669-4d49-9b86-5f4c958838e9",
   "metadata": {},
   "outputs": [
    {
     "data": {
      "text/html": [
       "<div>\n",
       "<style scoped>\n",
       "    .dataframe tbody tr th:only-of-type {\n",
       "        vertical-align: middle;\n",
       "    }\n",
       "\n",
       "    .dataframe tbody tr th {\n",
       "        vertical-align: top;\n",
       "    }\n",
       "\n",
       "    .dataframe thead th {\n",
       "        text-align: right;\n",
       "    }\n",
       "</style>\n",
       "<table border=\"1\" class=\"dataframe\">\n",
       "  <thead>\n",
       "    <tr style=\"text-align: right;\">\n",
       "      <th></th>\n",
       "      <th>participant_id</th>\n",
       "      <th>age</th>\n",
       "      <th>sex</th>\n",
       "      <th>hand</th>\n",
       "      <th>site</th>\n",
       "      <th>exp_condition</th>\n",
       "      <th>outcome</th>\n",
       "      <th>num_aeds</th>\n",
       "      <th>final_diagnosis</th>\n",
       "      <th>epilepsy_type</th>\n",
       "      <th>epilepsy_hemisphere</th>\n",
       "      <th>epilepsy_lobe</th>\n",
       "      <th>center</th>\n",
       "      <th>orig_sub_id</th>\n",
       "    </tr>\n",
       "  </thead>\n",
       "  <tbody>\n",
       "    <tr>\n",
       "      <th>0</th>\n",
       "      <td>sub-jhh001</td>\n",
       "      <td>17.0</td>\n",
       "      <td>female</td>\n",
       "      <td>right</td>\n",
       "      <td>BV</td>\n",
       "      <td>non-epilepsy-normal-eeg</td>\n",
       "      <td>0.0</td>\n",
       "      <td>0.0</td>\n",
       "      <td>pnes</td>\n",
       "      <td>NaN</td>\n",
       "      <td>NaN</td>\n",
       "      <td>NaN</td>\n",
       "      <td>jhh</td>\n",
       "      <td>NaN</td>\n",
       "    </tr>\n",
       "    <tr>\n",
       "      <th>1</th>\n",
       "      <td>sub-jhh002</td>\n",
       "      <td>58.0</td>\n",
       "      <td>female</td>\n",
       "      <td>right</td>\n",
       "      <td>BV</td>\n",
       "      <td>non-epilepsy-normal-eeg</td>\n",
       "      <td>0.0</td>\n",
       "      <td>0.0</td>\n",
       "      <td>pnes</td>\n",
       "      <td>NaN</td>\n",
       "      <td>NaN</td>\n",
       "      <td>NaN</td>\n",
       "      <td>jhh</td>\n",
       "      <td>NaN</td>\n",
       "    </tr>\n",
       "    <tr>\n",
       "      <th>2</th>\n",
       "      <td>sub-jhh003</td>\n",
       "      <td>52.0</td>\n",
       "      <td>female</td>\n",
       "      <td>right</td>\n",
       "      <td>BV</td>\n",
       "      <td>non-epilepsy-normal-eeg</td>\n",
       "      <td>0.0</td>\n",
       "      <td>0.0</td>\n",
       "      <td>pnes</td>\n",
       "      <td>NaN</td>\n",
       "      <td>NaN</td>\n",
       "      <td>NaN</td>\n",
       "      <td>jhh</td>\n",
       "      <td>NaN</td>\n",
       "    </tr>\n",
       "    <tr>\n",
       "      <th>3</th>\n",
       "      <td>sub-jhh004</td>\n",
       "      <td>36.0</td>\n",
       "      <td>female</td>\n",
       "      <td>right</td>\n",
       "      <td>BV</td>\n",
       "      <td>non-epilepsy-normal-eeg</td>\n",
       "      <td>0.0</td>\n",
       "      <td>1.0</td>\n",
       "      <td>pnes</td>\n",
       "      <td>NaN</td>\n",
       "      <td>NaN</td>\n",
       "      <td>NaN</td>\n",
       "      <td>jhh</td>\n",
       "      <td>NaN</td>\n",
       "    </tr>\n",
       "    <tr>\n",
       "      <th>4</th>\n",
       "      <td>sub-jhh005</td>\n",
       "      <td>30.0</td>\n",
       "      <td>female</td>\n",
       "      <td>right</td>\n",
       "      <td>BV</td>\n",
       "      <td>non-epilepsy-normal-eeg</td>\n",
       "      <td>0.0</td>\n",
       "      <td>1.0</td>\n",
       "      <td>pnes</td>\n",
       "      <td>NaN</td>\n",
       "      <td>NaN</td>\n",
       "      <td>NaN</td>\n",
       "      <td>jhh</td>\n",
       "      <td>NaN</td>\n",
       "    </tr>\n",
       "  </tbody>\n",
       "</table>\n",
       "</div>"
      ],
      "text/plain": [
       "  participant_id   age     sex   hand site            exp_condition  outcome  \\\n",
       "0     sub-jhh001  17.0  female  right   BV  non-epilepsy-normal-eeg      0.0   \n",
       "1     sub-jhh002  58.0  female  right   BV  non-epilepsy-normal-eeg      0.0   \n",
       "2     sub-jhh003  52.0  female  right   BV  non-epilepsy-normal-eeg      0.0   \n",
       "3     sub-jhh004  36.0  female  right   BV  non-epilepsy-normal-eeg      0.0   \n",
       "4     sub-jhh005  30.0  female  right   BV  non-epilepsy-normal-eeg      0.0   \n",
       "\n",
       "   num_aeds final_diagnosis epilepsy_type epilepsy_hemisphere epilepsy_lobe  \\\n",
       "0       0.0            pnes           NaN                 NaN           NaN   \n",
       "1       0.0            pnes           NaN                 NaN           NaN   \n",
       "2       0.0            pnes           NaN                 NaN           NaN   \n",
       "3       1.0            pnes           NaN                 NaN           NaN   \n",
       "4       1.0            pnes           NaN                 NaN           NaN   \n",
       "\n",
       "  center  orig_sub_id  \n",
       "0    jhh          NaN  \n",
       "1    jhh          NaN  \n",
       "2    jhh          NaN  \n",
       "3    jhh          NaN  \n",
       "4    jhh          NaN  "
      ]
     },
     "metadata": {},
     "output_type": "display_data"
    },
    {
     "name": "stdout",
     "output_type": "stream",
     "text": [
      "(156, 14)\n"
     ]
    }
   ],
   "source": [
    "display(meta_df.head())\n",
    "print(meta_df.shape)"
   ]
  },
  {
   "cell_type": "code",
   "execution_count": 9,
   "id": "57bc166b-962f-486e-b27f-65a351b2c748",
   "metadata": {},
   "outputs": [
    {
     "name": "stdout",
     "output_type": "stream",
     "text": [
      "(149, 14)\n"
     ]
    }
   ],
   "source": [
    "# exclusion of certain classes\n",
    "meta_df = meta_df[meta_df[\"epilepsy_type\"] != \"generalized\"]\n",
    "print(meta_df.shape)"
   ]
  },
  {
   "cell_type": "code",
   "execution_count": 10,
   "id": "fb5c46fe-3041-4f41-aa6c-64c5006eb798",
   "metadata": {},
   "outputs": [
    {
     "data": {
      "text/plain": [
       "<AxesSubplot:xlabel='sex', ylabel='count'>"
      ]
     },
     "execution_count": 10,
     "metadata": {},
     "output_type": "execute_result"
    },
    {
     "data": {
      "image/png": "[encoded data removed]",
      "text/plain": [
       "<Figure size 432x288 with 1 Axes>"
      ]
     },
     "metadata": {
      "needs_background": "light"
     },
     "output_type": "display_data"
    }
   ],
   "source": [
    "sns.countplot(x=\"sex\", data=meta_df, hue=\"exp_condition\")"
   ]
  },
  {
   "cell_type": "code",
   "execution_count": 11,
   "id": "b86484e2-bbfb-4d7f-81c7-f4e6ba879975",
   "metadata": {},
   "outputs": [
    {
     "data": {
      "image/png": "[encoded data removed]",
      "text/plain": [
       "<Figure size 432x288 with 1 Axes>"
      ]
     },
     "metadata": {
      "needs_background": "light"
     },
     "output_type": "display_data"
    },
    {
     "data": {
      "image/png": "[encoded data removed]",
      "text/plain": [
       "<Figure size 432x288 with 1 Axes>"
      ]
     },
     "metadata": {
      "needs_background": "light"
     },
     "output_type": "display_data"
    },
    {
     "data": {
      "image/png": "[encoded data removed]",
      "text/plain": [
       "<Figure size 432x288 with 1 Axes>"
      ]
     },
     "metadata": {
      "needs_background": "light"
     },
     "output_type": "display_data"
    }
   ],
   "source": [
    "for exp in meta_df[\"exp_condition\"].unique():\n",
    "    fig, ax = plt.subplots()\n",
    "    df = meta_df[meta_df[\"exp_condition\"] == exp]\n",
    "    sns.histplot(x=\"age\", data=df, ax=ax)\n",
    "    min_age = df[\"age\"].min()\n",
    "    max_age = df[\"age\"].max()\n",
    "    ax.set_title(f\"{exp} with {min_age} - {max_age}\")"
   ]
  },
  {
   "cell_type": "code",
   "execution_count": 12,
   "id": "e477773d-69bf-4491-8ae1-f117e46cf7ad",
   "metadata": {},
   "outputs": [
    {
     "name": "stdout",
     "output_type": "stream",
     "text": [
      "(38, 14)\n"
     ]
    },
    {
     "data": {
      "text/plain": [
       "<AxesSubplot:xlabel='epilepsy_lobe', ylabel='count'>"
      ]
     },
     "execution_count": 12,
     "metadata": {},
     "output_type": "execute_result"
    },
    {
     "data": {
      "image/png": "[encoded data removed]",
      "text/plain": [
       "<Figure size 720x360 with 1 Axes>"
      ]
     },
     "metadata": {
      "needs_background": "light"
     },
     "output_type": "display_data"
    }
   ],
   "source": [
    "fig, ax = plt.subplots(figsize=(10, 5))\n",
    "df = meta_df[meta_df[\"exp_condition\"] == \"epilepsy-normal-eeg\"]\n",
    "print(df.shape)\n",
    "sns.countplot(x=\"epilepsy_lobe\", hue=\"epilepsy_hemisphere\", data=df, ax=ax)\n",
    "# min_age = df[\"age\"].min()\n",
    "# max_age = df[\"age\"].max()\n",
    "# ax.set_title(f\"{exp} with {min_age} - {max_age}\")"
   ]
  },
  {
   "cell_type": "code",
   "execution_count": 13,
   "id": "241f09e7-c47a-4c1c-8735-f665a209c946",
   "metadata": {},
   "outputs": [
    {
     "data": {
      "image/png": "[encoded data removed]",
      "text/plain": [
       "<Figure size 432x288 with 1 Axes>"
      ]
     },
     "metadata": {
      "needs_background": "light"
     },
     "output_type": "display_data"
    },
    {
     "data": {
      "image/png": "[encoded data removed]",
      "text/plain": [
       "<Figure size 432x288 with 1 Axes>"
      ]
     },
     "metadata": {
      "needs_background": "light"
     },
     "output_type": "display_data"
    },
    {
     "data": {
      "image/png": "[encoded data removed]",
      "text/plain": [
       "<Figure size 432x288 with 1 Axes>"
      ]
     },
     "metadata": {
      "needs_background": "light"
     },
     "output_type": "display_data"
    }
   ],
   "source": [
    "for exp in meta_df[\"exp_condition\"].unique():\n",
    "    fig, ax = plt.subplots()\n",
    "    df = meta_df[meta_df[\"exp_condition\"] == exp]\n",
    "    sns.countplot(x=\"num_aeds\", data=df, ax=ax)\n",
    "    #     min_age = df[\"age\"].min()\n",
    "    #     max_age = df[\"age\"].max()\n",
    "    ax.set_title(f\"{exp}\")"
   ]
  },
  {
   "cell_type": "markdown",
   "id": "b19f7aea-bf44-445b-8b54-17f3cda72a30",
   "metadata": {},
   "source": [
    "# Analysis of Raw Time Features"
   ]
  },
  {
   "cell_type": "code",
   "execution_count": 14,
   "id": "01018b67-bec5-4c69-be19-5147ec06b381",
   "metadata": {},
   "outputs": [],
   "source": [
    "import mne_features\n",
    "from mne_features import get_univariate_funcs\n",
    "from mne_features.univariate import compute_ptp_amp, compute_skewness"
   ]
  },
  {
   "cell_type": "code",
   "execution_count": 15,
   "id": "e629e913-63ef-415b-b3b1-6c46e699bb38",
   "metadata": {},
   "outputs": [],
   "source": [
    "reference = \"monopolar\"\n",
    "features = [\"ptp_amp\", \"skewness\", \"mean\", \"variance\", \"kurtosis\", \"line_length\"]"
   ]
  },
  {
   "cell_type": "code",
   "execution_count": 21,
   "id": "f25f2e1a-b036-46a2-90e1-65a128097ce3",
   "metadata": {},
   "outputs": [],
   "source": [
    "ica_deriv_chain = Path(\"ICA\") / \"1-30Hz-30\" / \"win-20\""
   ]
  },
  {
   "cell_type": "code",
   "execution_count": 26,
   "id": "f4198dd9-7510-41f8-9000-bdbd03e96357",
   "metadata": {},
   "outputs": [
    {
     "name": "stdout",
     "output_type": "stream",
     "text": [
      "['Fp1', 'Fp2', 'F3', 'F4', 'P3', 'P4', 'O1', 'O2', 'F7', 'F8', 'T3', 'T4', 'T5', 'T6']\n"
     ]
    }
   ],
   "source": [
    "ch_names = raw.ch_names\n",
    "print(ch_names)"
   ]
  },
  {
   "cell_type": "code",
   "execution_count": 27,
   "id": "1a708727-9fa9-4673-b440-7b0b22e3d8dc",
   "metadata": {},
   "outputs": [
    {
     "name": "stdout",
     "output_type": "stream",
     "text": [
      "['Fp1', 'Fp2', 'F3', 'F4', 'P3', 'P4', 'O1', 'O2', 'F7', 'F8', 'T3', 'T4', 'T5', 'T6']\n"
     ]
    }
   ],
   "source": [
    "print(raw.ch_names)"
   ]
  },
  {
   "cell_type": "code",
   "execution_count": null,
   "id": "07841725-eecd-4d58-9921-92cd68d97346",
   "metadata": {
    "tags": []
   },
   "outputs": [],
   "source": [
    "from numpy.testing import assert_array_equal\n",
    "\n",
    "# check if there are extra channels\n",
    "for root in roots:\n",
    "    subjects = get_entity_vals(root, \"subject\")\n",
    "    for subject in subjects:\n",
    "        subj_dir = root / \"derivatives\" / ica_deriv_chain / f\"sub-{subject}\"\n",
    "\n",
    "        fpaths = subj_dir.rglob(\"*.edf\")\n",
    "        for fpath in fpaths:\n",
    "            bids_path = get_bids_path_from_fname(fpath.as_posix(), verbose=False)\n",
    "            \n",
    "            raw = read_raw_bids(bids_path)\n",
    "            raw.drop_channels(raw.info[\"bads\"])\n",
    "            \n",
    "            # only keep montage chs\n",
    "            montage_chs = get_standard_1020_channels()\n",
    "            drop_chs = [ch for ch in raw.ch_names if ch not in montage_chs]\n",
    "            raw.drop_channels(drop_chs)\n",
    "            try:\n",
    "                assert_array_equal(ch_names, raw.ch_names)\n",
    "            except Exception as e:\n",
    "                print(subject, fpath, raw.ch_names)"
   ]
  },
  {
   "cell_type": "code",
   "execution_count": 32,
   "id": "21b4fd17-1be4-4ebd-9841-9b01dcf48e27",
   "metadata": {
    "collapsed": true,
    "jupyter": {
     "outputs_hidden": true
    },
    "tags": []
   },
   "outputs": [
    {
     "name": "stdout",
     "output_type": "stream",
     "text": [
      "/Users/adam2392/Johns Hopkins/Scalp EEG JHH - Documents/bids/derivatives/ICA/1-30Hz-30/win-20/sub-jhh001/eeg/sub-jhh001_run-01_eeg.edf\n",
      "/Users/adam2392/Johns Hopkins/Scalp EEG JHH - Documents/bids/derivatives/ICA/1-30Hz-30/win-20/sub-jhh002/eeg/sub-jhh002_run-01_eeg.edf\n",
      "/Users/adam2392/Johns Hopkins/Scalp EEG JHH - Documents/bids/derivatives/ICA/1-30Hz-30/win-20/sub-jhh003/eeg/sub-jhh003_run-01_eeg.edf\n",
      "/Users/adam2392/Johns Hopkins/Scalp EEG JHH - Documents/bids/derivatives/ICA/1-30Hz-30/win-20/sub-jhh004/eeg/sub-jhh004_run-01_eeg.edf\n",
      "/Users/adam2392/Johns Hopkins/Scalp EEG JHH - Documents/bids/derivatives/ICA/1-30Hz-30/win-20/sub-jhh005/eeg/sub-jhh005_run-01_eeg.edf\n",
      "/Users/adam2392/Johns Hopkins/Scalp EEG JHH - Documents/bids/derivatives/ICA/1-30Hz-30/win-20/sub-jhh006/eeg/sub-jhh006_run-01_eeg.edf\n",
      "/Users/adam2392/Johns Hopkins/Scalp EEG JHH - Documents/bids/derivatives/ICA/1-30Hz-30/win-20/sub-jhh007/eeg/sub-jhh007_run-01_eeg.edf\n",
      "/Users/adam2392/Johns Hopkins/Scalp EEG JHH - Documents/bids/derivatives/ICA/1-30Hz-30/win-20/sub-jhh008/eeg/sub-jhh008_run-01_eeg.edf\n",
      "/Users/adam2392/Johns Hopkins/Scalp EEG JHH - Documents/bids/derivatives/ICA/1-30Hz-30/win-20/sub-jhh009/eeg/sub-jhh009_run-01_eeg.edf\n",
      "/Users/adam2392/Johns Hopkins/Scalp EEG JHH - Documents/bids/derivatives/ICA/1-30Hz-30/win-20/sub-jhh010/eeg/sub-jhh010_run-01_eeg.edf\n",
      "/Users/adam2392/Johns Hopkins/Scalp EEG JHH - Documents/bids/derivatives/ICA/1-30Hz-30/win-20/sub-jhh011/eeg/sub-jhh011_run-01_eeg.edf\n",
      "/Users/adam2392/Johns Hopkins/Scalp EEG JHH - Documents/bids/derivatives/ICA/1-30Hz-30/win-20/sub-jhh012/eeg/sub-jhh012_run-01_eeg.edf\n",
      "/Users/adam2392/Johns Hopkins/Scalp EEG JHH - Documents/bids/derivatives/ICA/1-30Hz-30/win-20/sub-jhh013/eeg/sub-jhh013_run-01_eeg.edf\n",
      "/Users/adam2392/Johns Hopkins/Scalp EEG JHH - Documents/bids/derivatives/ICA/1-30Hz-30/win-20/sub-jhh014/eeg/sub-jhh014_run-01_eeg.edf\n",
      "/Users/adam2392/Johns Hopkins/Scalp EEG JHH - Documents/bids/derivatives/ICA/1-30Hz-30/win-20/sub-jhh015/eeg/sub-jhh015_run-01_eeg.edf\n",
      "/Users/adam2392/Johns Hopkins/Scalp EEG JHH - Documents/bids/derivatives/ICA/1-30Hz-30/win-20/sub-jhh016/eeg/sub-jhh016_run-01_eeg.edf\n",
      "/Users/adam2392/Johns Hopkins/Scalp EEG JHH - Documents/bids/derivatives/ICA/1-30Hz-30/win-20/sub-jhh017/eeg/sub-jhh017_run-01_eeg.edf\n",
      "/Users/adam2392/Johns Hopkins/Scalp EEG JHH - Documents/bids/derivatives/ICA/1-30Hz-30/win-20/sub-jhh018/eeg/sub-jhh018_run-01_eeg.edf\n",
      "/Users/adam2392/Johns Hopkins/Scalp EEG JHH - Documents/bids/derivatives/ICA/1-30Hz-30/win-20/sub-jhh019/eeg/sub-jhh019_run-01_eeg.edf\n",
      "/Users/adam2392/Johns Hopkins/Scalp EEG JHH - Documents/bids/derivatives/ICA/1-30Hz-30/win-20/sub-jhh020/eeg/sub-jhh020_run-01_eeg.edf\n",
      "/Users/adam2392/Johns Hopkins/Scalp EEG JHH - Documents/bids/derivatives/ICA/1-30Hz-30/win-20/sub-jhh021/eeg/sub-jhh021_run-01_eeg.edf\n",
      "/Users/adam2392/Johns Hopkins/Scalp EEG JHH - Documents/bids/derivatives/ICA/1-30Hz-30/win-20/sub-jhh022/eeg/sub-jhh022_run-01_eeg.edf\n",
      "/Users/adam2392/Johns Hopkins/Scalp EEG JHH - Documents/bids/derivatives/ICA/1-30Hz-30/win-20/sub-jhh023/eeg/sub-jhh023_run-01_eeg.edf\n",
      "/Users/adam2392/Johns Hopkins/Scalp EEG JHH - Documents/bids/derivatives/ICA/1-30Hz-30/win-20/sub-jhh024/eeg/sub-jhh024_run-01_eeg.edf\n",
      "/Users/adam2392/Johns Hopkins/Scalp EEG JHH - Documents/bids/derivatives/ICA/1-30Hz-30/win-20/sub-jhh025/eeg/sub-jhh025_run-01_eeg.edf\n",
      "/Users/adam2392/Johns Hopkins/Scalp EEG JHH - Documents/bids/derivatives/ICA/1-30Hz-30/win-20/sub-jhh026/eeg/sub-jhh026_run-01_eeg.edf\n",
      "/Users/adam2392/Johns Hopkins/Scalp EEG JHH - Documents/bids/derivatives/ICA/1-30Hz-30/win-20/sub-jhh027/eeg/sub-jhh027_task-asleep_run-02_eeg.edf\n",
      "/Users/adam2392/Johns Hopkins/Scalp EEG JHH - Documents/bids/derivatives/ICA/1-30Hz-30/win-20/sub-jhh028/eeg/sub-jhh028_task-asleep_run-02_eeg.edf\n",
      "/Users/adam2392/Johns Hopkins/Scalp EEG JHH - Documents/bids/derivatives/ICA/1-30Hz-30/win-20/sub-jhh029/eeg/sub-jhh029_task-awake_run-01_eeg.edf\n",
      "/Users/adam2392/Johns Hopkins/Scalp EEG JHH - Documents/bids/derivatives/ICA/1-30Hz-30/win-20/sub-jhh030/eeg/sub-jhh030_task-awake_run-01_eeg.edf\n",
      "/Users/adam2392/Johns Hopkins/Scalp EEG JHH - Documents/bids/derivatives/ICA/1-30Hz-30/win-20/sub-jhh031/eeg/sub-jhh031_task-awake_run-01_eeg.edf\n",
      "/Users/adam2392/Johns Hopkins/Scalp EEG JHH - Documents/bids/derivatives/ICA/1-30Hz-30/win-20/sub-jhh032/eeg/sub-jhh032_task-asleep_run-01_eeg.edf\n",
      "/Users/adam2392/Johns Hopkins/Scalp EEG JHH - Documents/bids/derivatives/ICA/1-30Hz-30/win-20/sub-jhh033/eeg/sub-jhh033_task-asleep_run-01_eeg.edf\n",
      "/Users/adam2392/Johns Hopkins/Scalp EEG JHH - Documents/bids/derivatives/ICA/1-30Hz-30/win-20/sub-jhh034/eeg/sub-jhh034_task-awake_run-01_eeg.edf\n",
      "/Users/adam2392/Johns Hopkins/Scalp EEG JHH - Documents/bids/derivatives/ICA/1-30Hz-30/win-20/sub-jhh101/eeg/sub-jhh101_run-01_eeg.edf\n",
      "/Users/adam2392/Johns Hopkins/Scalp EEG JHH - Documents/bids/derivatives/ICA/1-30Hz-30/win-20/sub-jhh102/eeg/sub-jhh102_run-01_eeg.edf\n",
      "/Users/adam2392/Johns Hopkins/Scalp EEG JHH - Documents/bids/derivatives/ICA/1-30Hz-30/win-20/sub-jhh103/eeg/sub-jhh103_run-01_eeg.edf\n",
      "/Users/adam2392/Johns Hopkins/Scalp EEG JHH - Documents/bids/derivatives/ICA/1-30Hz-30/win-20/sub-jhh104/eeg/sub-jhh104_run-01_eeg.edf\n",
      "/Users/adam2392/Johns Hopkins/Scalp EEG JHH - Documents/bids/derivatives/ICA/1-30Hz-30/win-20/sub-jhh105/eeg/sub-jhh105_run-01_eeg.edf\n",
      "/Users/adam2392/Johns Hopkins/Scalp EEG JHH - Documents/bids/derivatives/ICA/1-30Hz-30/win-20/sub-jhh106/eeg/sub-jhh106_run-01_eeg.edf\n",
      "/Users/adam2392/Johns Hopkins/Scalp EEG JHH - Documents/bids/derivatives/ICA/1-30Hz-30/win-20/sub-jhh107/eeg/sub-jhh107_run-01_eeg.edf\n",
      "/Users/adam2392/Johns Hopkins/Scalp EEG JHH - Documents/bids/derivatives/ICA/1-30Hz-30/win-20/sub-jhh108/eeg/sub-jhh108_run-01_eeg.edf\n",
      "/Users/adam2392/Johns Hopkins/Scalp EEG JHH - Documents/bids/derivatives/ICA/1-30Hz-30/win-20/sub-jhh109/eeg/sub-jhh109_run-01_eeg.edf\n",
      "/Users/adam2392/Johns Hopkins/Scalp EEG JHH - Documents/bids/derivatives/ICA/1-30Hz-30/win-20/sub-jhh110/eeg/sub-jhh110_run-01_eeg.edf\n",
      "/Users/adam2392/Johns Hopkins/Scalp EEG JHH - Documents/bids/derivatives/ICA/1-30Hz-30/win-20/sub-jhh111/eeg/sub-jhh111_run-01_eeg.edf\n",
      "/Users/adam2392/Johns Hopkins/Scalp EEG JHH - Documents/bids/derivatives/ICA/1-30Hz-30/win-20/sub-jhh112/eeg/sub-jhh112_run-01_eeg.edf\n",
      "/Users/adam2392/Johns Hopkins/Scalp EEG JHH - Documents/bids/derivatives/ICA/1-30Hz-30/win-20/sub-jhh113/eeg/sub-jhh113_run-01_eeg.edf\n",
      "/Users/adam2392/Johns Hopkins/Scalp EEG JHH - Documents/bids/derivatives/ICA/1-30Hz-30/win-20/sub-jhh114/eeg/sub-jhh114_run-01_eeg.edf\n",
      "/Users/adam2392/Johns Hopkins/Scalp EEG JHH - Documents/bids/derivatives/ICA/1-30Hz-30/win-20/sub-jhh115/eeg/sub-jhh115_run-01_eeg.edf\n",
      "/Users/adam2392/Johns Hopkins/Scalp EEG JHH - Documents/bids/derivatives/ICA/1-30Hz-30/win-20/sub-jhh116/eeg/sub-jhh116_run-01_eeg.edf\n",
      "/Users/adam2392/Johns Hopkins/Scalp EEG JHH - Documents/bids/derivatives/ICA/1-30Hz-30/win-20/sub-jhh117/eeg/sub-jhh117_run-01_eeg.edf\n",
      "/Users/adam2392/Johns Hopkins/Scalp EEG JHH - Documents/bids/derivatives/ICA/1-30Hz-30/win-20/sub-jhh118/eeg/sub-jhh118_run-01_eeg.edf\n",
      "/Users/adam2392/Johns Hopkins/Scalp EEG JHH - Documents/bids/derivatives/ICA/1-30Hz-30/win-20/sub-jhh119/eeg/sub-jhh119_run-01_eeg.edf\n",
      "/Users/adam2392/Johns Hopkins/Scalp EEG JHH - Documents/bids/derivatives/ICA/1-30Hz-30/win-20/sub-jhh120/eeg/sub-jhh120_run-01_eeg.edf\n",
      "/Users/adam2392/Johns Hopkins/Scalp EEG JHH - Documents/bids/derivatives/ICA/1-30Hz-30/win-20/sub-jhh121/eeg/sub-jhh121_run-01_eeg.edf\n",
      "/Users/adam2392/Johns Hopkins/Scalp EEG JHH - Documents/bids/derivatives/ICA/1-30Hz-30/win-20/sub-jhh122/eeg/sub-jhh122_run-01_eeg.edf\n",
      "/Users/adam2392/Johns Hopkins/Scalp EEG JHH - Documents/bids/derivatives/ICA/1-30Hz-30/win-20/sub-jhh124/eeg/sub-jhh124_task-awake_run-01_eeg.edf\n",
      "/Users/adam2392/Johns Hopkins/Scalp EEG JHH - Documents/bids/derivatives/ICA/1-30Hz-30/win-20/sub-jhh125/eeg/sub-jhh125_task-asleep_run-02_eeg.edf\n",
      "/Users/adam2392/Johns Hopkins/Scalp EEG JHH - Documents/bids/derivatives/ICA/1-30Hz-30/win-20/sub-jhh126/eeg/sub-jhh126_task-awake_run-01_eeg.edf\n",
      "/Users/adam2392/Johns Hopkins/Scalp EEG JHH - Documents/bids/derivatives/ICA/1-30Hz-30/win-20/sub-jhh127/eeg/sub-jhh127_task-asleep_run-01_eeg.edf\n",
      "/Users/adam2392/Johns Hopkins/Scalp EEG JHH - Documents/bids/derivatives/ICA/1-30Hz-30/win-20/sub-jhh128/eeg/sub-jhh128_task-awake_run-01_eeg.edf\n",
      "/Users/adam2392/Johns Hopkins/Scalp EEG JHH - Documents/bids/derivatives/ICA/1-30Hz-30/win-20/sub-jhh129/eeg/sub-jhh129_run-01_eeg.edf\n",
      "/Users/adam2392/Johns Hopkins/Scalp EEG JHH - Documents/bids/derivatives/ICA/1-30Hz-30/win-20/sub-jhh130/eeg/sub-jhh130_run-01_eeg.edf\n",
      "/Users/adam2392/Johns Hopkins/Scalp EEG JHH - Documents/bids/derivatives/ICA/1-30Hz-30/win-20/sub-jhh131/eeg/sub-jhh131_run-01_eeg.edf\n",
      "/Users/adam2392/Johns Hopkins/Scalp EEG JHH - Documents/bids/derivatives/ICA/1-30Hz-30/win-20/sub-jhh132/eeg/sub-jhh132_task-asleep_run-01_eeg.edf\n",
      "/Users/adam2392/Johns Hopkins/Scalp EEG JHH - Documents/bids/derivatives/ICA/1-30Hz-30/win-20/sub-jhh133/eeg/sub-jhh133_task-asleep_run-01_eeg.edf\n",
      "/Users/adam2392/Johns Hopkins/Scalp EEG JHH - Documents/bids/derivatives/ICA/1-30Hz-30/win-20/sub-jhh134/eeg/sub-jhh134_task-awake_run-01_eeg.edf\n",
      "/Users/adam2392/Johns Hopkins/Scalp EEG JHH - Documents/bids/derivatives/ICA/1-30Hz-30/win-20/sub-jhh135/eeg/sub-jhh135_task-asleep_run-01_eeg.edf\n",
      "/Users/adam2392/Johns Hopkins/Scalp EEG JHH - Documents/bids/derivatives/ICA/1-30Hz-30/win-20/sub-jhh136/eeg/sub-jhh136_task-asleep_run-01_eeg.edf\n",
      "/Users/adam2392/Johns Hopkins/Scalp EEG JHH - Documents/bids/derivatives/ICA/1-30Hz-30/win-20/sub-jhh137/eeg/sub-jhh137_task-awake_run-01_eeg.edf\n",
      "/Users/adam2392/Johns Hopkins/Scalp EEG JHH - Documents/bids/derivatives/ICA/1-30Hz-30/win-20/sub-jhh138/eeg/sub-jhh138_task-awake_run-01_eeg.edf\n",
      "/Users/adam2392/Johns Hopkins/Scalp EEG JHH - Documents/bids/derivatives/ICA/1-30Hz-30/win-20/sub-jhh139/eeg/sub-jhh139_task-awake_run-01_eeg.edf\n",
      "/Users/adam2392/Johns Hopkins/Scalp EEG JHH - Documents/bids/derivatives/ICA/1-30Hz-30/win-20/sub-jhh140/eeg/sub-jhh140_task-awake_run-01_eeg.edf\n",
      "/Users/adam2392/Johns Hopkins/Scalp EEG JHH - Documents/bids/derivatives/ICA/1-30Hz-30/win-20/sub-jhh201/eeg/sub-jhh201_run-01_eeg.edf\n",
      "/Users/adam2392/Johns Hopkins/Scalp EEG JHH - Documents/bids/derivatives/ICA/1-30Hz-30/win-20/sub-jhh202/eeg/sub-jhh202_run-01_eeg.edf\n",
      "/Users/adam2392/Johns Hopkins/Scalp EEG JHH - Documents/bids/derivatives/ICA/1-30Hz-30/win-20/sub-jhh204/eeg/sub-jhh204_run-01_eeg.edf\n",
      "/Users/adam2392/Johns Hopkins/Scalp EEG JHH - Documents/bids/derivatives/ICA/1-30Hz-30/win-20/sub-jhh205/eeg/sub-jhh205_run-01_eeg.edf\n",
      "/Users/adam2392/Johns Hopkins/Scalp EEG JHH - Documents/bids/derivatives/ICA/1-30Hz-30/win-20/sub-jhh206/eeg/sub-jhh206_run-01_eeg.edf\n",
      "/Users/adam2392/Johns Hopkins/Scalp EEG JHH - Documents/bids/derivatives/ICA/1-30Hz-30/win-20/sub-jhh207/eeg/sub-jhh207_run-01_eeg.edf\n",
      "/Users/adam2392/Johns Hopkins/Scalp EEG JHH - Documents/bids/derivatives/ICA/1-30Hz-30/win-20/sub-jhh209/eeg/sub-jhh209_run-01_eeg.edf\n",
      "/Users/adam2392/Johns Hopkins/Scalp EEG JHH - Documents/bids/derivatives/ICA/1-30Hz-30/win-20/sub-jhh210/eeg/sub-jhh210_run-01_eeg.edf\n",
      "/Users/adam2392/Johns Hopkins/Scalp EEG JHH - Documents/bids/derivatives/ICA/1-30Hz-30/win-20/sub-jhh211/eeg/sub-jhh211_run-01_eeg.edf\n",
      "/Users/adam2392/Johns Hopkins/Scalp EEG JHH - Documents/bids/derivatives/ICA/1-30Hz-30/win-20/sub-jhh212/eeg/sub-jhh212_run-01_eeg.edf\n",
      "/Users/adam2392/Johns Hopkins/Scalp EEG JHH - Documents/bids/derivatives/ICA/1-30Hz-30/win-20/sub-jhh213/eeg/sub-jhh213_run-01_eeg.edf\n",
      "/Users/adam2392/Johns Hopkins/Scalp EEG JHH - Documents/bids/derivatives/ICA/1-30Hz-30/win-20/sub-jhh214/eeg/sub-jhh214_run-01_eeg.edf\n",
      "/Users/adam2392/Johns Hopkins/Scalp EEG JHH - Documents/bids/derivatives/ICA/1-30Hz-30/win-20/sub-jhh215/eeg/sub-jhh215_run-01_eeg.edf\n",
      "/Users/adam2392/Johns Hopkins/Scalp EEG JHH - Documents/bids/derivatives/ICA/1-30Hz-30/win-20/sub-jhh216/eeg/sub-jhh216_run-01_eeg.edf\n",
      "/Users/adam2392/Johns Hopkins/Scalp EEG JHH - Documents/bids/derivatives/ICA/1-30Hz-30/win-20/sub-jhh217/eeg/sub-jhh217_run-01_eeg.edf\n",
      "/Users/adam2392/Johns Hopkins/Scalp EEG JHH - Documents/bids/derivatives/ICA/1-30Hz-30/win-20/sub-jhh218/eeg/sub-jhh218_run-01_eeg.edf\n",
      "/Users/adam2392/Johns Hopkins/Scalp EEG JHH - Documents/bids/derivatives/ICA/1-30Hz-30/win-20/sub-jhh219/eeg/sub-jhh219_run-01_eeg.edf\n",
      "/Users/adam2392/Johns Hopkins/Scalp EEG JHH - Documents/bids/derivatives/ICA/1-30Hz-30/win-20/sub-jhh220/eeg/sub-jhh220_run-01_eeg.edf\n",
      "/Users/adam2392/Johns Hopkins/Scalp EEG JHH - Documents/bids/derivatives/ICA/1-30Hz-30/win-20/sub-jhh221/eeg/sub-jhh221_run-01_eeg.edf\n",
      "/Users/adam2392/Johns Hopkins/Scalp EEG JHH - Documents/bids/derivatives/ICA/1-30Hz-30/win-20/sub-jhh222/eeg/sub-jhh222_run-01_eeg.edf\n",
      "/Users/adam2392/Johns Hopkins/Scalp EEG JHH - Documents/bids/derivatives/ICA/1-30Hz-30/win-20/sub-jhh223/eeg/sub-jhh223_run-01_eeg.edf\n",
      "/Users/adam2392/Johns Hopkins/Scalp EEG JHH - Documents/bids/derivatives/ICA/1-30Hz-30/win-20/sub-jhh225/eeg/sub-jhh225_run-01_eeg.edf\n",
      "/Users/adam2392/Johns Hopkins/Scalp EEG JHH - Documents/bids/derivatives/ICA/1-30Hz-30/win-20/sub-jhh226/eeg/sub-jhh226_run-01_eeg.edf\n",
      "/Users/adam2392/Johns Hopkins/Scalp EEG JHH - Documents/bids/derivatives/ICA/1-30Hz-30/win-20/sub-jhh227/eeg/sub-jhh227_run-01_eeg.edf\n",
      "/Users/adam2392/Johns Hopkins/Scalp EEG JHH - Documents/bids/derivatives/ICA/1-30Hz-30/win-20/sub-jhh228/eeg/sub-jhh228_task-awake_run-02_eeg.edf\n",
      "/Users/adam2392/Johns Hopkins/Scalp EEG JHH - Documents/bids/derivatives/ICA/1-30Hz-30/win-20/sub-jhh229/eeg/sub-jhh229_task-awake_run-01_eeg.edf\n",
      "/Users/adam2392/Johns Hopkins/Scalp EEG JHH - Documents/bids/derivatives/ICA/1-30Hz-30/win-20/sub-jhh230/eeg/sub-jhh230_task-awake_run-01_eeg.edf\n",
      "/Users/adam2392/Johns Hopkins/Scalp EEG JHH - Documents/bids/derivatives/ICA/1-30Hz-30/win-20/sub-jhh231/eeg/sub-jhh231_task-awake_run-01_eeg.edf\n",
      "/Users/adam2392/Johns Hopkins/Scalp EEG JHH - Documents/bids/derivatives/ICA/1-30Hz-30/win-20/sub-jhh232/eeg/sub-jhh232_task-awake_run-01_eeg.edf\n",
      "/Users/adam2392/Johns Hopkins/Scalp EEG JHH - Documents/bids/derivatives/ICA/1-30Hz-30/win-20/sub-jhh233/eeg/sub-jhh233_task-awake_run-01_eeg.edf\n",
      "/Users/adam2392/Johns Hopkins/Scalp EEG JHH - Documents/bids/derivatives/ICA/1-30Hz-30/win-20/sub-jhh234/eeg/sub-jhh234_task-awake_run-01_eeg.edf\n",
      "/Users/adam2392/Johns Hopkins/Scalp EEG JHH - Documents/bids/derivatives/ICA/1-30Hz-30/win-20/sub-jhh235/eeg/sub-jhh235_task-awake_run-01_eeg.edf\n",
      "/Users/adam2392/Johns Hopkins/Jefferson_Scalp - Documents/root/derivatives/ICA/1-30Hz-30/win-20/sub-jeff001/ses-1/eeg/sub-jeff001_ses-1_run-1_eeg.edf\n",
      "New resampled sfreq:  256.0\n",
      "/Users/adam2392/Johns Hopkins/Jefferson_Scalp - Documents/root/derivatives/ICA/1-30Hz-30/win-20/sub-jeff002/ses-1/eeg/sub-jeff002_ses-1_run-1_eeg.edf\n",
      "New resampled sfreq:  256.0\n",
      "/Users/adam2392/Johns Hopkins/Jefferson_Scalp - Documents/root/derivatives/ICA/1-30Hz-30/win-20/sub-jeff003/ses-1/eeg/sub-jeff003_ses-1_run-1_eeg.edf\n",
      "New resampled sfreq:  256.0\n",
      "/Users/adam2392/Johns Hopkins/Jefferson_Scalp - Documents/root/derivatives/ICA/1-30Hz-30/win-20/sub-jeff004/ses-1/eeg/sub-jeff004_ses-1_run-1_eeg.edf\n",
      "New resampled sfreq:  256.0\n",
      "/Users/adam2392/Johns Hopkins/Jefferson_Scalp - Documents/root/derivatives/ICA/1-30Hz-30/win-20/sub-jeff005/ses-1/eeg/sub-jeff005_ses-1_run-1_eeg.edf\n",
      "New resampled sfreq:  256.0\n",
      "/Users/adam2392/Johns Hopkins/Jefferson_Scalp - Documents/root/derivatives/ICA/1-30Hz-30/win-20/sub-jeff006/ses-1/eeg/sub-jeff006_ses-1_run-1_eeg.edf\n",
      "New resampled sfreq:  256.0\n",
      "/Users/adam2392/Johns Hopkins/Jefferson_Scalp - Documents/root/derivatives/ICA/1-30Hz-30/win-20/sub-jeff007/ses-1/eeg/sub-jeff007_ses-1_run-1_eeg.edf\n",
      "New resampled sfreq:  256.0\n",
      "/Users/adam2392/Johns Hopkins/Jefferson_Scalp - Documents/root/derivatives/ICA/1-30Hz-30/win-20/sub-jeff008/ses-1/eeg/sub-jeff008_ses-1_run-1_eeg.edf\n",
      "New resampled sfreq:  256.0\n",
      "/Users/adam2392/Johns Hopkins/Jefferson_Scalp - Documents/root/derivatives/ICA/1-30Hz-30/win-20/sub-jeff009/ses-1/eeg/sub-jeff009_ses-1_run-1_eeg.edf\n",
      "New resampled sfreq:  256.0\n",
      "/Users/adam2392/Johns Hopkins/Jefferson_Scalp - Documents/root/derivatives/ICA/1-30Hz-30/win-20/sub-jeff010/ses-1/eeg/sub-jeff010_ses-1_run-1_eeg.edf\n",
      "New resampled sfreq:  256.0\n",
      "/Users/adam2392/Johns Hopkins/Jefferson_Scalp - Documents/root/derivatives/ICA/1-30Hz-30/win-20/sub-jeff011/ses-1/eeg/sub-jeff011_ses-1_run-1_eeg.edf\n",
      "New resampled sfreq:  256.0\n",
      "/Users/adam2392/Johns Hopkins/Jefferson_Scalp - Documents/root/derivatives/ICA/1-30Hz-30/win-20/sub-jeff012/ses-1/eeg/sub-jeff012_ses-1_run-1_eeg.edf\n",
      "New resampled sfreq:  256.0\n",
      "/Users/adam2392/Johns Hopkins/Jefferson_Scalp - Documents/root/derivatives/ICA/1-30Hz-30/win-20/sub-jeff013/ses-1/eeg/sub-jeff013_ses-1_run-1_eeg.edf\n",
      "New resampled sfreq:  256.0\n",
      "/Users/adam2392/Johns Hopkins/Jefferson_Scalp - Documents/root/derivatives/ICA/1-30Hz-30/win-20/sub-jeff014/ses-1/eeg/sub-jeff014_ses-1_run-1_eeg.edf\n",
      "New resampled sfreq:  256.0\n",
      "/Users/adam2392/Johns Hopkins/Jefferson_Scalp - Documents/root/derivatives/ICA/1-30Hz-30/win-20/sub-jeff015/ses-1/eeg/sub-jeff015_ses-1_run-2_eeg.edf\n",
      "New resampled sfreq:  256.0\n",
      "/Users/adam2392/Johns Hopkins/Jefferson_Scalp - Documents/root/derivatives/ICA/1-30Hz-30/win-20/sub-jeff019/ses-1/eeg/sub-jeff019_ses-1_run-1_eeg.edf\n",
      "New resampled sfreq:  256.0\n",
      "/Users/adam2392/Johns Hopkins/Jefferson_Scalp - Documents/root/derivatives/ICA/1-30Hz-30/win-20/sub-jeff020/ses-1/eeg/sub-jeff020_ses-1_run-1_eeg.edf\n",
      "New resampled sfreq:  256.0\n",
      "/Users/adam2392/Johns Hopkins/Jefferson_Scalp - Documents/root/derivatives/ICA/1-30Hz-30/win-20/sub-jeff021/ses-1/eeg/sub-jeff021_ses-1_run-1_eeg.edf\n",
      "New resampled sfreq:  256.0\n",
      "/Users/adam2392/Johns Hopkins/Jefferson_Scalp - Documents/root/derivatives/ICA/1-30Hz-30/win-20/sub-jeff022/ses-1/eeg/sub-jeff022_ses-1_run-1_eeg.edf\n",
      "New resampled sfreq:  256.0\n",
      "/Users/adam2392/Johns Hopkins/Jefferson_Scalp - Documents/root/derivatives/ICA/1-30Hz-30/win-20/sub-jeff023/ses-1/eeg/sub-jeff023_ses-1_run-1_eeg.edf\n",
      "New resampled sfreq:  256.0\n",
      "/Users/adam2392/Johns Hopkins/Jefferson_Scalp - Documents/root/derivatives/ICA/1-30Hz-30/win-20/sub-jeff024/ses-1/eeg/sub-jeff024_ses-1_run-1_eeg.edf\n",
      "New resampled sfreq:  256.0\n",
      "/Users/adam2392/Johns Hopkins/Jefferson_Scalp - Documents/root/derivatives/ICA/1-30Hz-30/win-20/sub-jeff025/ses-1/eeg/sub-jeff025_ses-1_run-1_eeg.edf\n",
      "New resampled sfreq:  256.0\n",
      "/Users/adam2392/Johns Hopkins/Jefferson_Scalp - Documents/root/derivatives/ICA/1-30Hz-30/win-20/sub-jeff101/ses-1/eeg/sub-jeff101_ses-1_run-2_eeg.edf\n",
      "New resampled sfreq:  256.0\n",
      "/Users/adam2392/Johns Hopkins/Jefferson_Scalp - Documents/root/derivatives/ICA/1-30Hz-30/win-20/sub-jeff102/ses-1/eeg/sub-jeff102_ses-1_run-1_eeg.edf\n",
      "New resampled sfreq:  256.0\n",
      "/Users/adam2392/Johns Hopkins/Jefferson_Scalp - Documents/root/derivatives/ICA/1-30Hz-30/win-20/sub-jeff201/ses-1/eeg/sub-jeff201_ses-1_run-6_eeg.edf\n",
      "New resampled sfreq:  256.0\n",
      "/Users/adam2392/Johns Hopkins/Jefferson_Scalp - Documents/root/derivatives/ICA/1-30Hz-30/win-20/sub-jeff202/ses-1/eeg/sub-jeff202_ses-1_run-5_eeg.edf\n",
      "New resampled sfreq:  256.0\n",
      "/Users/adam2392/Johns Hopkins/Jefferson_Scalp - Documents/root/derivatives/ICA/1-30Hz-30/win-20/sub-jeff203/ses-1/eeg/sub-jeff203_ses-1_run-1_eeg.edf\n",
      "New resampled sfreq:  256.0\n",
      "/Users/adam2392/Johns Hopkins/Jefferson_Scalp - Documents/root/derivatives/ICA/1-30Hz-30/win-20/sub-jeff204/ses-1/eeg/sub-jeff204_ses-1_run-1_eeg.edf\n",
      "New resampled sfreq:  256.0\n",
      "/Users/adam2392/Johns Hopkins/Jefferson_Scalp - Documents/root/derivatives/ICA/1-30Hz-30/win-20/sub-jeff205/ses-1/eeg/sub-jeff205_ses-1_run-1_eeg.edf\n",
      "/Users/adam2392/Johns Hopkins/Jefferson_Scalp - Documents/root/derivatives/ICA/1-30Hz-30/win-20/sub-jeff206/ses-1/eeg/sub-jeff206_ses-1_run-1_eeg.edf\n",
      "/Users/adam2392/Johns Hopkins/Jefferson_Scalp - Documents/root/derivatives/ICA/1-30Hz-30/win-20/sub-jeff207/ses-1/eeg/sub-jeff207_ses-1_run-1_eeg.edf\n",
      "New resampled sfreq:  256.0\n",
      "/Users/adam2392/Johns Hopkins/Jefferson_Scalp - Documents/root/derivatives/ICA/1-30Hz-30/win-20/sub-jeff208/ses-2/eeg/sub-jeff208_ses-2_run-4_eeg.edf\n",
      "New resampled sfreq:  256.0\n",
      "/Users/adam2392/Johns Hopkins/Jefferson_Scalp - Documents/root/derivatives/ICA/1-30Hz-30/win-20/sub-jeff209/ses-1/eeg/sub-jeff209_ses-1_run-1_eeg.edf\n",
      "New resampled sfreq:  256.0\n",
      "/Users/adam2392/Johns Hopkins/Jefferson_Scalp - Documents/root/derivatives/ICA/1-30Hz-30/win-20/sub-jeff210/ses-1/eeg/sub-jeff210_ses-1_run-1_eeg.edf\n",
      "New resampled sfreq:  256.0\n",
      "/Users/adam2392/Johns Hopkins/Jefferson_Scalp - Documents/root/derivatives/ICA/1-30Hz-30/win-20/sub-jeff211/ses-1/eeg/sub-jeff211_ses-1_run-1_eeg.edf\n",
      "New resampled sfreq:  256.0\n",
      "/Users/adam2392/Johns Hopkins/Jefferson_Scalp - Documents/root/derivatives/ICA/1-30Hz-30/win-20/sub-jeff212/ses-1/eeg/sub-jeff212_ses-1_run-1_eeg.edf\n",
      "New resampled sfreq:  256.0\n",
      "/Users/adam2392/Johns Hopkins/Jefferson_Scalp - Documents/root/derivatives/ICA/1-30Hz-30/win-20/sub-jeff213/ses-1/eeg/sub-jeff213_ses-1_run-1_eeg.edf\n",
      "New resampled sfreq:  256.0\n",
      "/Users/adam2392/Johns Hopkins/Jefferson_Scalp - Documents/root/derivatives/ICA/1-30Hz-30/win-20/sub-jeff214/ses-1/eeg/sub-jeff214_ses-1_run-2_eeg.edf\n",
      "New resampled sfreq:  256.0\n",
      "/Users/adam2392/Johns Hopkins/Jefferson_Scalp - Documents/root/derivatives/ICA/1-30Hz-30/win-20/sub-jeff215/ses-1/eeg/sub-jeff215_ses-1_run-1_eeg.edf\n",
      "New resampled sfreq:  256.0\n",
      "/Users/adam2392/Johns Hopkins/Jefferson_Scalp - Documents/root/derivatives/ICA/1-30Hz-30/win-20/sub-jeff216/ses-1/eeg/sub-jeff216_ses-1_run-1_eeg.edf\n",
      "New resampled sfreq:  256.0\n",
      "/Users/adam2392/Johns Hopkins/Jefferson_Scalp - Documents/root/derivatives/ICA/1-30Hz-30/win-20/sub-jeff217/ses-1/eeg/sub-jeff217_ses-1_run-1_eeg.edf\n",
      "New resampled sfreq:  256.0\n",
      "/Users/adam2392/Johns Hopkins/Jefferson_Scalp - Documents/root/derivatives/ICA/1-30Hz-30/win-20/sub-jeff218/ses-1/eeg/sub-jeff218_ses-1_run-1_eeg.edf\n",
      "New resampled sfreq:  256.0\n",
      "/Users/adam2392/Johns Hopkins/Jefferson_Scalp - Documents/root/derivatives/ICA/1-30Hz-30/win-20/sub-jeff219/ses-1/eeg/sub-jeff219_ses-1_run-1_eeg.edf\n",
      "New resampled sfreq:  256.0\n",
      "/Users/adam2392/Johns Hopkins/Jefferson_Scalp - Documents/root/derivatives/ICA/1-30Hz-30/win-20/sub-jeff220/ses-1/eeg/sub-jeff220_ses-1_run-1_eeg.edf\n",
      "New resampled sfreq:  256.0\n",
      "/Users/adam2392/Johns Hopkins/Jefferson_Scalp - Documents/root/derivatives/ICA/1-30Hz-30/win-20/sub-jeff221/ses-1/eeg/sub-jeff221_ses-1_run-1_eeg.edf\n",
      "New resampled sfreq:  256.0\n",
      "/Users/adam2392/Johns Hopkins/Jefferson_Scalp - Documents/root/derivatives/ICA/1-30Hz-30/win-20/sub-jeff222/ses-1/eeg/sub-jeff222_ses-1_run-1_eeg.edf\n",
      "New resampled sfreq:  256.0\n",
      "/Users/adam2392/Johns Hopkins/Jefferson_Scalp - Documents/root/derivatives/ICA/1-30Hz-30/win-20/sub-jeff223/ses-1/eeg/sub-jeff223_ses-1_run-1_eeg.edf\n",
      "New resampled sfreq:  256.0\n",
      "/Users/adam2392/Johns Hopkins/Jefferson_Scalp - Documents/root/derivatives/ICA/1-30Hz-30/win-20/sub-jeff224/ses-1/eeg/sub-jeff224_ses-1_run-1_eeg.edf\n",
      "New resampled sfreq:  256.0\n"
     ]
    }
   ],
   "source": [
    "subject_list = []\n",
    "bids_roots = []\n",
    "feature_df = pd.DataFrame()\n",
    "\n",
    "for root in roots:\n",
    "    subjects = get_entity_vals(root, \"subject\")\n",
    "    for subject in subjects:\n",
    "        subj_dir = root / \"derivatives\" / ica_deriv_chain / f\"sub-{subject}\"\n",
    "\n",
    "        fpaths = subj_dir.rglob(\"*.edf\")\n",
    "        for fpath in fpaths:\n",
    "            bids_path = get_bids_path_from_fname(fpath.as_posix(), verbose=False)\n",
    "            print(bids_path)\n",
    "            raw = read_scalp_eeg(\n",
    "                bids_path,\n",
    "                reference,\n",
    "                rereference=False,\n",
    "                resample_sfreq=None,\n",
    "                verbose=False,\n",
    "            )\n",
    "            raw.drop_channels(raw.info[\"bads\"])\n",
    "\n",
    "            # only keep montage chs\n",
    "            montage_chs = get_standard_1020_channels()\n",
    "            drop_chs = [ch for ch in raw.ch_names if ch not in montage_chs]\n",
    "            raw.drop_channels(drop_chs)\n",
    "\n",
    "            # extract features\n",
    "            feature_list = []\n",
    "            feature_names = []\n",
    "\n",
    "            for name in features:\n",
    "                func = get_univariate_funcs(raw.info[\"sfreq\"])[name]\n",
    "                feature_vec = func(raw.get_data())\n",
    "                if any(np.isnan(feature_vec)):\n",
    "                    raise RuntimeError(f\"{name} has nans in feature vec\")\n",
    "                feature_list.extend(feature_vec)\n",
    "                feature_names.extend([f\"{name}_{ch}\" for ch in raw.ch_names])\n",
    "            subject_list.append(subject)\n",
    "            bids_roots.append(root)\n",
    "            this_df = pd.DataFrame(feature_list).T\n",
    "            this_df.columns = feature_names\n",
    "            this_df[\"subject\"] = subject\n",
    "            feature_df = pd.concat((feature_df, this_df), axis=0)\n",
    "\n",
    "            break\n",
    "#         break\n",
    "#     break"
   ]
  },
  {
   "cell_type": "code",
   "execution_count": 35,
   "id": "0db9c0bd-fb14-4e3d-88e5-2f9d2b31aa81",
   "metadata": {},
   "outputs": [
    {
     "data": {
      "text/html": [
       "<div>\n",
       "<style scoped>\n",
       "    .dataframe tbody tr th:only-of-type {\n",
       "        vertical-align: middle;\n",
       "    }\n",
       "\n",
       "    .dataframe tbody tr th {\n",
       "        vertical-align: top;\n",
       "    }\n",
       "\n",
       "    .dataframe thead th {\n",
       "        text-align: right;\n",
       "    }\n",
       "</style>\n",
       "<table border=\"1\" class=\"dataframe\">\n",
       "  <thead>\n",
       "    <tr style=\"text-align: right;\">\n",
       "      <th></th>\n",
       "      <th>ptp_amp_Fp1</th>\n",
       "      <th>ptp_amp_Fp2</th>\n",
       "      <th>ptp_amp_F3</th>\n",
       "      <th>ptp_amp_F4</th>\n",
       "      <th>ptp_amp_P3</th>\n",
       "      <th>ptp_amp_P4</th>\n",
       "      <th>ptp_amp_O1</th>\n",
       "      <th>ptp_amp_O2</th>\n",
       "      <th>ptp_amp_F7</th>\n",
       "      <th>ptp_amp_F8</th>\n",
       "      <th>...</th>\n",
       "      <th>line_length_P4</th>\n",
       "      <th>line_length_O1</th>\n",
       "      <th>line_length_O2</th>\n",
       "      <th>line_length_F7</th>\n",
       "      <th>line_length_F8</th>\n",
       "      <th>line_length_T3</th>\n",
       "      <th>line_length_T4</th>\n",
       "      <th>line_length_T5</th>\n",
       "      <th>line_length_T6</th>\n",
       "      <th>subject</th>\n",
       "    </tr>\n",
       "  </thead>\n",
       "  <tbody>\n",
       "    <tr>\n",
       "      <th>0</th>\n",
       "      <td>0.000248</td>\n",
       "      <td>0.000209</td>\n",
       "      <td>0.000196</td>\n",
       "      <td>0.000115</td>\n",
       "      <td>0.000136</td>\n",
       "      <td>0.000099</td>\n",
       "      <td>0.000206</td>\n",
       "      <td>0.000170</td>\n",
       "      <td>0.000224</td>\n",
       "      <td>0.000214</td>\n",
       "      <td>...</td>\n",
       "      <td>1.523807e-06</td>\n",
       "      <td>0.000003</td>\n",
       "      <td>0.000002</td>\n",
       "      <td>0.000002</td>\n",
       "      <td>0.000002</td>\n",
       "      <td>0.000001</td>\n",
       "      <td>0.000002</td>\n",
       "      <td>0.000002</td>\n",
       "      <td>0.000002</td>\n",
       "      <td>jhh001</td>\n",
       "    </tr>\n",
       "    <tr>\n",
       "      <th>0</th>\n",
       "      <td>0.000116</td>\n",
       "      <td>0.000117</td>\n",
       "      <td>0.000072</td>\n",
       "      <td>0.000070</td>\n",
       "      <td>0.000083</td>\n",
       "      <td>0.000080</td>\n",
       "      <td>0.000150</td>\n",
       "      <td>0.000125</td>\n",
       "      <td>0.000191</td>\n",
       "      <td>0.000164</td>\n",
       "      <td>...</td>\n",
       "      <td>2.197103e-06</td>\n",
       "      <td>0.000003</td>\n",
       "      <td>0.000003</td>\n",
       "      <td>0.000002</td>\n",
       "      <td>0.000003</td>\n",
       "      <td>0.000002</td>\n",
       "      <td>0.000002</td>\n",
       "      <td>0.000003</td>\n",
       "      <td>0.000003</td>\n",
       "      <td>jhh002</td>\n",
       "    </tr>\n",
       "    <tr>\n",
       "      <th>0</th>\n",
       "      <td>0.000220</td>\n",
       "      <td>0.000160</td>\n",
       "      <td>0.000219</td>\n",
       "      <td>0.000190</td>\n",
       "      <td>0.000122</td>\n",
       "      <td>0.000187</td>\n",
       "      <td>0.000216</td>\n",
       "      <td>0.000207</td>\n",
       "      <td>0.000350</td>\n",
       "      <td>0.000186</td>\n",
       "      <td>...</td>\n",
       "      <td>1.013232e-06</td>\n",
       "      <td>0.000001</td>\n",
       "      <td>0.000001</td>\n",
       "      <td>0.000001</td>\n",
       "      <td>0.000002</td>\n",
       "      <td>0.000001</td>\n",
       "      <td>0.000001</td>\n",
       "      <td>0.000001</td>\n",
       "      <td>0.000001</td>\n",
       "      <td>jhh003</td>\n",
       "    </tr>\n",
       "    <tr>\n",
       "      <th>0</th>\n",
       "      <td>0.000121</td>\n",
       "      <td>0.000146</td>\n",
       "      <td>0.000103</td>\n",
       "      <td>0.000131</td>\n",
       "      <td>0.000054</td>\n",
       "      <td>0.000059</td>\n",
       "      <td>0.000087</td>\n",
       "      <td>0.000098</td>\n",
       "      <td>0.000103</td>\n",
       "      <td>0.000102</td>\n",
       "      <td>...</td>\n",
       "      <td>1.633642e-06</td>\n",
       "      <td>0.000002</td>\n",
       "      <td>0.000002</td>\n",
       "      <td>0.000002</td>\n",
       "      <td>0.000002</td>\n",
       "      <td>0.000002</td>\n",
       "      <td>0.000002</td>\n",
       "      <td>0.000002</td>\n",
       "      <td>0.000002</td>\n",
       "      <td>jhh004</td>\n",
       "    </tr>\n",
       "    <tr>\n",
       "      <th>0</th>\n",
       "      <td>0.000059</td>\n",
       "      <td>0.000063</td>\n",
       "      <td>0.000038</td>\n",
       "      <td>0.000066</td>\n",
       "      <td>0.000038</td>\n",
       "      <td>0.000062</td>\n",
       "      <td>0.000097</td>\n",
       "      <td>0.000108</td>\n",
       "      <td>0.000083</td>\n",
       "      <td>0.000096</td>\n",
       "      <td>...</td>\n",
       "      <td>8.631064e-07</td>\n",
       "      <td>0.000002</td>\n",
       "      <td>0.000002</td>\n",
       "      <td>0.000002</td>\n",
       "      <td>0.000001</td>\n",
       "      <td>0.000002</td>\n",
       "      <td>0.000001</td>\n",
       "      <td>0.000002</td>\n",
       "      <td>0.000002</td>\n",
       "      <td>jhh005</td>\n",
       "    </tr>\n",
       "  </tbody>\n",
       "</table>\n",
       "<p>5 rows × 85 columns</p>\n",
       "</div>"
      ],
      "text/plain": [
       "   ptp_amp_Fp1  ptp_amp_Fp2  ptp_amp_F3  ptp_amp_F4  ptp_amp_P3  ptp_amp_P4  \\\n",
       "0     0.000248     0.000209    0.000196    0.000115    0.000136    0.000099   \n",
       "0     0.000116     0.000117    0.000072    0.000070    0.000083    0.000080   \n",
       "0     0.000220     0.000160    0.000219    0.000190    0.000122    0.000187   \n",
       "0     0.000121     0.000146    0.000103    0.000131    0.000054    0.000059   \n",
       "0     0.000059     0.000063    0.000038    0.000066    0.000038    0.000062   \n",
       "\n",
       "   ptp_amp_O1  ptp_amp_O2  ptp_amp_F7  ptp_amp_F8  ...  line_length_P4  \\\n",
       "0    0.000206    0.000170    0.000224    0.000214  ...    1.523807e-06   \n",
       "0    0.000150    0.000125    0.000191    0.000164  ...    2.197103e-06   \n",
       "0    0.000216    0.000207    0.000350    0.000186  ...    1.013232e-06   \n",
       "0    0.000087    0.000098    0.000103    0.000102  ...    1.633642e-06   \n",
       "0    0.000097    0.000108    0.000083    0.000096  ...    8.631064e-07   \n",
       "\n",
       "   line_length_O1  line_length_O2  line_length_F7  line_length_F8  \\\n",
       "0        0.000003        0.000002        0.000002        0.000002   \n",
       "0        0.000003        0.000003        0.000002        0.000003   \n",
       "0        0.000001        0.000001        0.000001        0.000002   \n",
       "0        0.000002        0.000002        0.000002        0.000002   \n",
       "0        0.000002        0.000002        0.000002        0.000001   \n",
       "\n",
       "   line_length_T3  line_length_T4  line_length_T5  line_length_T6  subject  \n",
       "0        0.000001        0.000002        0.000002        0.000002   jhh001  \n",
       "0        0.000002        0.000002        0.000003        0.000003   jhh002  \n",
       "0        0.000001        0.000001        0.000001        0.000001   jhh003  \n",
       "0        0.000002        0.000002        0.000002        0.000002   jhh004  \n",
       "0        0.000002        0.000001        0.000002        0.000002   jhh005  \n",
       "\n",
       "[5 rows x 85 columns]"
      ]
     },
     "metadata": {},
     "output_type": "display_data"
    }
   ],
   "source": [
    "print(feature_df.shape)\n",
    "display(feature_df.head())"
   ]
  },
  {
   "cell_type": "code",
   "execution_count": 21,
   "id": "9e9a010c-be09-4fa4-a9c0-5f2c60fdfaa6",
   "metadata": {},
   "outputs": [
    {
     "name": "stdout",
     "output_type": "stream",
     "text": [
      "line_length [1.87181367e-06 1.88372506e-06 1.49480625e-06 1.39916776e-06\n",
      " 1.15559132e-06 1.16269899e-06 1.60822952e-06 1.59304840e-06\n",
      " 1.93030248e-06 1.83979238e-06 1.62683731e-06 1.59970410e-06\n",
      " 1.64167917e-06 1.89999629e-06]\n"
     ]
    }
   ],
   "source": [
    "feature_vec = func(raw.get_data())\n",
    "print(name, feature_vec)"
   ]
  },
  {
   "cell_type": "code",
   "execution_count": 44,
   "id": "53451139-d570-4fe5-95e3-271ce7bb4c00",
   "metadata": {
    "collapsed": true,
    "jupyter": {
     "outputs_hidden": true
    },
    "tags": []
   },
   "outputs": [
    {
     "name": "stdout",
     "output_type": "stream",
     "text": [
      "146\n"
     ]
    },
    {
     "ename": "KeyError",
     "evalue": "'[1, 2, 3, 4, 5, 6, 7, 8, 9, 10, 11, 12, 13, 14, 15, 16, 17, 18, 19, 20, 21, 22, 23, 24, 25, 26, 27, 28, 29, 30, 31, 32, 33, 34, 36, 37, 38, 39, 40, 41, 42, 43, 44, 45, 47, 48, 49, 50, 51, 52, 53, 54, 55, 56, 57, 59, 60, 61, 62, 63, 64, 65, 66, 67, 68, 69, 70, 71, 72, 73, 74, 75, 76, 77, 79, 80, 81, 82, 83, 84, 85, 86, 87, 88, 89, 90, 91, 92, 93, 94, 95, 96, 98, 99, 100, 101, 102, 103, 104, 105, 106, 107, 108, 109, 110, 111, 112, 113, 114, 115, 116, 117, 118, 119, 120, 121, 122, 123, 124, 125, 126, 127, 128, 129, 130, 131, 132, 133, 134, 135, 136, 137, 138, 139, 140, 142, 143, 144, 145, 146, 148, 149, 150, 151, 152] not in index'",
     "output_type": "error",
     "traceback": [
      "\u001b[0;31m---------------------------------------------------------------------------\u001b[0m",
      "\u001b[0;31mKeyError\u001b[0m                                  Traceback (most recent call last)",
      "\u001b[0;32m/var/folders/6_/sl83qtkd68x3_mvfys07_6qm0000gn/T/ipykernel_92340/502002075.py\u001b[0m in \u001b[0;36m<module>\u001b[0;34m\u001b[0m\n\u001b[1;32m      8\u001b[0m \u001b[0mprint\u001b[0m\u001b[0;34m(\u001b[0m\u001b[0mlen\u001b[0m\u001b[0;34m(\u001b[0m\u001b[0mkeep_idx\u001b[0m\u001b[0;34m)\u001b[0m\u001b[0;34m)\u001b[0m\u001b[0;34m\u001b[0m\u001b[0;34m\u001b[0m\u001b[0m\n\u001b[1;32m      9\u001b[0m \u001b[0;34m\u001b[0m\u001b[0m\n\u001b[0;32m---> 10\u001b[0;31m \u001b[0mdf\u001b[0m \u001b[0;34m=\u001b[0m \u001b[0mfeature_df\u001b[0m\u001b[0;34m.\u001b[0m\u001b[0mloc\u001b[0m\u001b[0;34m[\u001b[0m\u001b[0mnp\u001b[0m\u001b[0;34m.\u001b[0m\u001b[0marray\u001b[0m\u001b[0;34m(\u001b[0m\u001b[0mkeep_idx\u001b[0m\u001b[0;34m)\u001b[0m\u001b[0;34m]\u001b[0m\u001b[0;34m\u001b[0m\u001b[0;34m\u001b[0m\u001b[0m\n\u001b[0m\u001b[1;32m     11\u001b[0m \u001b[0mnorm_subjects\u001b[0m \u001b[0;34m=\u001b[0m \u001b[0msubject_list\u001b[0m\u001b[0;34m[\u001b[0m\u001b[0mkeep_idx\u001b[0m\u001b[0;34m]\u001b[0m\u001b[0;34m\u001b[0m\u001b[0;34m\u001b[0m\u001b[0m\n\u001b[1;32m     12\u001b[0m \u001b[0mprint\u001b[0m\u001b[0;34m(\u001b[0m\u001b[0mdf\u001b[0m\u001b[0;34m.\u001b[0m\u001b[0mshape\u001b[0m\u001b[0;34m)\u001b[0m\u001b[0;34m\u001b[0m\u001b[0;34m\u001b[0m\u001b[0m\n",
      "\u001b[0;32m~/miniconda3/envs/episcalp/lib/python3.8/site-packages/pandas/core/indexing.py\u001b[0m in \u001b[0;36m__getitem__\u001b[0;34m(self, key)\u001b[0m\n\u001b[1;32m    929\u001b[0m \u001b[0;34m\u001b[0m\u001b[0m\n\u001b[1;32m    930\u001b[0m             \u001b[0mmaybe_callable\u001b[0m \u001b[0;34m=\u001b[0m \u001b[0mcom\u001b[0m\u001b[0;34m.\u001b[0m\u001b[0mapply_if_callable\u001b[0m\u001b[0;34m(\u001b[0m\u001b[0mkey\u001b[0m\u001b[0;34m,\u001b[0m \u001b[0mself\u001b[0m\u001b[0;34m.\u001b[0m\u001b[0mobj\u001b[0m\u001b[0;34m)\u001b[0m\u001b[0;34m\u001b[0m\u001b[0;34m\u001b[0m\u001b[0m\n\u001b[0;32m--> 931\u001b[0;31m             \u001b[0;32mreturn\u001b[0m \u001b[0mself\u001b[0m\u001b[0;34m.\u001b[0m\u001b[0m_getitem_axis\u001b[0m\u001b[0;34m(\u001b[0m\u001b[0mmaybe_callable\u001b[0m\u001b[0;34m,\u001b[0m \u001b[0maxis\u001b[0m\u001b[0;34m=\u001b[0m\u001b[0maxis\u001b[0m\u001b[0;34m)\u001b[0m\u001b[0;34m\u001b[0m\u001b[0;34m\u001b[0m\u001b[0m\n\u001b[0m\u001b[1;32m    932\u001b[0m \u001b[0;34m\u001b[0m\u001b[0m\n\u001b[1;32m    933\u001b[0m     \u001b[0;32mdef\u001b[0m \u001b[0m_is_scalar_access\u001b[0m\u001b[0;34m(\u001b[0m\u001b[0mself\u001b[0m\u001b[0;34m,\u001b[0m \u001b[0mkey\u001b[0m\u001b[0;34m:\u001b[0m \u001b[0mtuple\u001b[0m\u001b[0;34m)\u001b[0m\u001b[0;34m:\u001b[0m\u001b[0;34m\u001b[0m\u001b[0;34m\u001b[0m\u001b[0m\n",
      "\u001b[0;32m~/miniconda3/envs/episcalp/lib/python3.8/site-packages/pandas/core/indexing.py\u001b[0m in \u001b[0;36m_getitem_axis\u001b[0;34m(self, key, axis)\u001b[0m\n\u001b[1;32m   1151\u001b[0m                     \u001b[0;32mraise\u001b[0m \u001b[0mValueError\u001b[0m\u001b[0;34m(\u001b[0m\u001b[0;34m\"Cannot index with multidimensional key\"\u001b[0m\u001b[0;34m)\u001b[0m\u001b[0;34m\u001b[0m\u001b[0;34m\u001b[0m\u001b[0m\n\u001b[1;32m   1152\u001b[0m \u001b[0;34m\u001b[0m\u001b[0m\n\u001b[0;32m-> 1153\u001b[0;31m                 \u001b[0;32mreturn\u001b[0m \u001b[0mself\u001b[0m\u001b[0;34m.\u001b[0m\u001b[0m_getitem_iterable\u001b[0m\u001b[0;34m(\u001b[0m\u001b[0mkey\u001b[0m\u001b[0;34m,\u001b[0m \u001b[0maxis\u001b[0m\u001b[0;34m=\u001b[0m\u001b[0maxis\u001b[0m\u001b[0;34m)\u001b[0m\u001b[0;34m\u001b[0m\u001b[0;34m\u001b[0m\u001b[0m\n\u001b[0m\u001b[1;32m   1154\u001b[0m \u001b[0;34m\u001b[0m\u001b[0m\n\u001b[1;32m   1155\u001b[0m             \u001b[0;31m# nested tuple slicing\u001b[0m\u001b[0;34m\u001b[0m\u001b[0;34m\u001b[0m\u001b[0;34m\u001b[0m\u001b[0m\n",
      "\u001b[0;32m~/miniconda3/envs/episcalp/lib/python3.8/site-packages/pandas/core/indexing.py\u001b[0m in \u001b[0;36m_getitem_iterable\u001b[0;34m(self, key, axis)\u001b[0m\n\u001b[1;32m   1091\u001b[0m \u001b[0;34m\u001b[0m\u001b[0m\n\u001b[1;32m   1092\u001b[0m         \u001b[0;31m# A collection of keys\u001b[0m\u001b[0;34m\u001b[0m\u001b[0;34m\u001b[0m\u001b[0;34m\u001b[0m\u001b[0m\n\u001b[0;32m-> 1093\u001b[0;31m         \u001b[0mkeyarr\u001b[0m\u001b[0;34m,\u001b[0m \u001b[0mindexer\u001b[0m \u001b[0;34m=\u001b[0m \u001b[0mself\u001b[0m\u001b[0;34m.\u001b[0m\u001b[0m_get_listlike_indexer\u001b[0m\u001b[0;34m(\u001b[0m\u001b[0mkey\u001b[0m\u001b[0;34m,\u001b[0m \u001b[0maxis\u001b[0m\u001b[0;34m)\u001b[0m\u001b[0;34m\u001b[0m\u001b[0;34m\u001b[0m\u001b[0m\n\u001b[0m\u001b[1;32m   1094\u001b[0m         return self.obj._reindex_with_indexers(\n\u001b[1;32m   1095\u001b[0m             \u001b[0;34m{\u001b[0m\u001b[0maxis\u001b[0m\u001b[0;34m:\u001b[0m \u001b[0;34m[\u001b[0m\u001b[0mkeyarr\u001b[0m\u001b[0;34m,\u001b[0m \u001b[0mindexer\u001b[0m\u001b[0;34m]\u001b[0m\u001b[0;34m}\u001b[0m\u001b[0;34m,\u001b[0m \u001b[0mcopy\u001b[0m\u001b[0;34m=\u001b[0m\u001b[0;32mTrue\u001b[0m\u001b[0;34m,\u001b[0m \u001b[0mallow_dups\u001b[0m\u001b[0;34m=\u001b[0m\u001b[0;32mTrue\u001b[0m\u001b[0;34m\u001b[0m\u001b[0;34m\u001b[0m\u001b[0m\n",
      "\u001b[0;32m~/miniconda3/envs/episcalp/lib/python3.8/site-packages/pandas/core/indexing.py\u001b[0m in \u001b[0;36m_get_listlike_indexer\u001b[0;34m(self, key, axis)\u001b[0m\n\u001b[1;32m   1312\u001b[0m             \u001b[0mkeyarr\u001b[0m\u001b[0;34m,\u001b[0m \u001b[0mindexer\u001b[0m\u001b[0;34m,\u001b[0m \u001b[0mnew_indexer\u001b[0m \u001b[0;34m=\u001b[0m \u001b[0max\u001b[0m\u001b[0;34m.\u001b[0m\u001b[0m_reindex_non_unique\u001b[0m\u001b[0;34m(\u001b[0m\u001b[0mkeyarr\u001b[0m\u001b[0;34m)\u001b[0m\u001b[0;34m\u001b[0m\u001b[0;34m\u001b[0m\u001b[0m\n\u001b[1;32m   1313\u001b[0m \u001b[0;34m\u001b[0m\u001b[0m\n\u001b[0;32m-> 1314\u001b[0;31m         \u001b[0mself\u001b[0m\u001b[0;34m.\u001b[0m\u001b[0m_validate_read_indexer\u001b[0m\u001b[0;34m(\u001b[0m\u001b[0mkeyarr\u001b[0m\u001b[0;34m,\u001b[0m \u001b[0mindexer\u001b[0m\u001b[0;34m,\u001b[0m \u001b[0maxis\u001b[0m\u001b[0;34m)\u001b[0m\u001b[0;34m\u001b[0m\u001b[0;34m\u001b[0m\u001b[0m\n\u001b[0m\u001b[1;32m   1315\u001b[0m \u001b[0;34m\u001b[0m\u001b[0m\n\u001b[1;32m   1316\u001b[0m         if needs_i8_conversion(ax.dtype) or isinstance(\n",
      "\u001b[0;32m~/miniconda3/envs/episcalp/lib/python3.8/site-packages/pandas/core/indexing.py\u001b[0m in \u001b[0;36m_validate_read_indexer\u001b[0;34m(self, key, indexer, axis)\u001b[0m\n\u001b[1;32m   1375\u001b[0m \u001b[0;34m\u001b[0m\u001b[0m\n\u001b[1;32m   1376\u001b[0m             \u001b[0mnot_found\u001b[0m \u001b[0;34m=\u001b[0m \u001b[0mlist\u001b[0m\u001b[0;34m(\u001b[0m\u001b[0mensure_index\u001b[0m\u001b[0;34m(\u001b[0m\u001b[0mkey\u001b[0m\u001b[0;34m)\u001b[0m\u001b[0;34m[\u001b[0m\u001b[0mmissing_mask\u001b[0m\u001b[0;34m.\u001b[0m\u001b[0mnonzero\u001b[0m\u001b[0;34m(\u001b[0m\u001b[0;34m)\u001b[0m\u001b[0;34m[\u001b[0m\u001b[0;36m0\u001b[0m\u001b[0;34m]\u001b[0m\u001b[0;34m]\u001b[0m\u001b[0;34m.\u001b[0m\u001b[0munique\u001b[0m\u001b[0;34m(\u001b[0m\u001b[0;34m)\u001b[0m\u001b[0;34m)\u001b[0m\u001b[0;34m\u001b[0m\u001b[0;34m\u001b[0m\u001b[0m\n\u001b[0;32m-> 1377\u001b[0;31m             \u001b[0;32mraise\u001b[0m \u001b[0mKeyError\u001b[0m\u001b[0;34m(\u001b[0m\u001b[0;34mf\"{not_found} not in index\"\u001b[0m\u001b[0;34m)\u001b[0m\u001b[0;34m\u001b[0m\u001b[0;34m\u001b[0m\u001b[0m\n\u001b[0m\u001b[1;32m   1378\u001b[0m \u001b[0;34m\u001b[0m\u001b[0m\n\u001b[1;32m   1379\u001b[0m \u001b[0;34m\u001b[0m\u001b[0m\n",
      "\u001b[0;31mKeyError\u001b[0m: '[1, 2, 3, 4, 5, 6, 7, 8, 9, 10, 11, 12, 13, 14, 15, 16, 17, 18, 19, 20, 21, 22, 23, 24, 25, 26, 27, 28, 29, 30, 31, 32, 33, 34, 36, 37, 38, 39, 40, 41, 42, 43, 44, 45, 47, 48, 49, 50, 51, 52, 53, 54, 55, 56, 57, 59, 60, 61, 62, 63, 64, 65, 66, 67, 68, 69, 70, 71, 72, 73, 74, 75, 76, 77, 79, 80, 81, 82, 83, 84, 85, 86, 87, 88, 89, 90, 91, 92, 93, 94, 95, 96, 98, 99, 100, 101, 102, 103, 104, 105, 106, 107, 108, 109, 110, 111, 112, 113, 114, 115, 116, 117, 118, 119, 120, 121, 122, 123, 124, 125, 126, 127, 128, 129, 130, 131, 132, 133, 134, 135, 136, 137, 138, 139, 140, 142, 143, 144, 145, 146, 148, 149, 150, 151, 152] not in index'"
     ]
    }
   ],
   "source": [
    "# # only keep subjects of interest\n",
    "# keep_idx = [\n",
    "#     idx\n",
    "#     for idx, subj in enumerate(subject_list)\n",
    "#     if f\"sub-{subj}\" in meta_df[\"participant_id\"].values\n",
    "# ]\n",
    "\n",
    "# print(len(keep_idx))\n",
    "\n",
    "# df = feature_df.loc[keep_idx]\n",
    "# norm_subjects = subject_list[keep_idx]\n",
    "# print(df.shape)\n",
    "# print(len(norm_subjects))"
   ]
  },
  {
   "cell_type": "markdown",
   "id": "c5a1e6be-141b-4a5e-8ce1-c6d0cd1e5433",
   "metadata": {},
   "source": [
    "## Get the Y Labels"
   ]
  },
  {
   "cell_type": "code",
   "execution_count": 95,
   "id": "85e0cbc7-7256-43c3-9c9c-3b3df0afca80",
   "metadata": {},
   "outputs": [
    {
     "name": "stdout",
     "output_type": "stream",
     "text": [
      "[0 1 2]\n",
      "153\n"
     ]
    }
   ],
   "source": [
    "# get all y labels\n",
    "y_labels = []\n",
    "for subject in subject_list:\n",
    "    try:\n",
    "        y_labels.append(\n",
    "            meta_df[meta_df[\"participant_id\"] == f\"sub-{subject}\"][\n",
    "                \"exp_condition\"\n",
    "            ].values[0]\n",
    "        )\n",
    "    except Exception as e:\n",
    "        print(subject)\n",
    "        raise Exception(e)\n",
    "y = convert_experimental_cond_to_y(y_labels)\n",
    "\n",
    "print(np.unique(y))\n",
    "print(len(y_labels))"
   ]
  },
  {
   "cell_type": "code",
   "execution_count": 96,
   "id": "81276971-7e33-494b-a40e-637ed2da1380",
   "metadata": {},
   "outputs": [
    {
     "name": "stdout",
     "output_type": "stream",
     "text": [
      "(153, 85)\n",
      "153\n",
      "153\n"
     ]
    }
   ],
   "source": [
    "print(feature_df.shape)\n",
    "print(len(y))\n",
    "print(len(subject_list))"
   ]
  },
  {
   "cell_type": "markdown",
   "id": "1209e06e-002d-4652-8d37-581bca47d7fa",
   "metadata": {},
   "source": [
    "## Keep Normal EEG Subjects"
   ]
  },
  {
   "cell_type": "code",
   "execution_count": 97,
   "id": "2c3c2bc4-f9b0-4aa1-8b71-ee84255eed1a",
   "metadata": {},
   "outputs": [
    {
     "name": "stdout",
     "output_type": "stream",
     "text": [
      "['epilepsy-abnormal-eeg' 'epilepsy-normal-eeg' 'non-epilepsy-normal-eeg']\n",
      "94\n"
     ]
    }
   ],
   "source": [
    "print(np.unique(y_labels))\n",
    "\n",
    "# exclusion of certain classes\n",
    "keep_idx = []\n",
    "for idx, subject in enumerate(subject_list):\n",
    "    exp_condition = meta_df[meta_df[\"participant_id\"] == f\"sub-{subject}\"][\n",
    "        \"exp_condition\"\n",
    "    ].values[0]\n",
    "\n",
    "    epi_type = str(\n",
    "        meta_df[meta_df[\"participant_id\"] == f\"sub-{subject}\"][\"epilepsy_type\"].values[\n",
    "            0\n",
    "        ]\n",
    "    )\n",
    "    if \"-normal-eeg\" in exp_condition and \"generalized\" not in epi_type:\n",
    "        keep_idx.append(idx)\n",
    "print(len(keep_idx))"
   ]
  },
  {
   "cell_type": "code",
   "execution_count": 98,
   "id": "09b833fa-956d-4c5b-a1de-5595a8ef361e",
   "metadata": {},
   "outputs": [
    {
     "name": "stdout",
     "output_type": "stream",
     "text": [
      "(94, 84) 94\n"
     ]
    }
   ],
   "source": [
    "# subset features and y\n",
    "df = feature_df.iloc[keep_idx]\n",
    "y = np.array(y)[keep_idx]\n",
    "subjects = np.array(subject_list)[keep_idx]\n",
    "\n",
    "# make subject the index\n",
    "df = df.set_index(\"subject\")\n",
    "\n",
    "print(df.shape, len(y))"
   ]
  },
  {
   "cell_type": "code",
   "execution_count": 76,
   "id": "e6828291-3898-424d-8df6-7f08e68d4444",
   "metadata": {},
   "outputs": [
    {
     "data": {
      "text/html": [
       "<div>\n",
       "<style scoped>\n",
       "    .dataframe tbody tr th:only-of-type {\n",
       "        vertical-align: middle;\n",
       "    }\n",
       "\n",
       "    .dataframe tbody tr th {\n",
       "        vertical-align: top;\n",
       "    }\n",
       "\n",
       "    .dataframe thead th {\n",
       "        text-align: right;\n",
       "    }\n",
       "</style>\n",
       "<table border=\"1\" class=\"dataframe\">\n",
       "  <thead>\n",
       "    <tr style=\"text-align: right;\">\n",
       "      <th></th>\n",
       "      <th>ptp_amp_Fp1</th>\n",
       "      <th>ptp_amp_Fp2</th>\n",
       "      <th>ptp_amp_F3</th>\n",
       "      <th>ptp_amp_F4</th>\n",
       "      <th>ptp_amp_P3</th>\n",
       "      <th>ptp_amp_P4</th>\n",
       "      <th>ptp_amp_O1</th>\n",
       "      <th>ptp_amp_O2</th>\n",
       "      <th>ptp_amp_F7</th>\n",
       "      <th>ptp_amp_F8</th>\n",
       "      <th>...</th>\n",
       "      <th>line_length_P3</th>\n",
       "      <th>line_length_P4</th>\n",
       "      <th>line_length_O1</th>\n",
       "      <th>line_length_O2</th>\n",
       "      <th>line_length_F7</th>\n",
       "      <th>line_length_F8</th>\n",
       "      <th>line_length_T3</th>\n",
       "      <th>line_length_T4</th>\n",
       "      <th>line_length_T5</th>\n",
       "      <th>line_length_T6</th>\n",
       "    </tr>\n",
       "    <tr>\n",
       "      <th>subject</th>\n",
       "      <th></th>\n",
       "      <th></th>\n",
       "      <th></th>\n",
       "      <th></th>\n",
       "      <th></th>\n",
       "      <th></th>\n",
       "      <th></th>\n",
       "      <th></th>\n",
       "      <th></th>\n",
       "      <th></th>\n",
       "      <th></th>\n",
       "      <th></th>\n",
       "      <th></th>\n",
       "      <th></th>\n",
       "      <th></th>\n",
       "      <th></th>\n",
       "      <th></th>\n",
       "      <th></th>\n",
       "      <th></th>\n",
       "      <th></th>\n",
       "      <th></th>\n",
       "    </tr>\n",
       "  </thead>\n",
       "  <tbody>\n",
       "    <tr>\n",
       "      <th>jhh001</th>\n",
       "      <td>0.000248</td>\n",
       "      <td>0.000209</td>\n",
       "      <td>0.000196</td>\n",
       "      <td>0.000115</td>\n",
       "      <td>0.000136</td>\n",
       "      <td>0.000099</td>\n",
       "      <td>0.000206</td>\n",
       "      <td>0.000170</td>\n",
       "      <td>0.000224</td>\n",
       "      <td>0.000214</td>\n",
       "      <td>...</td>\n",
       "      <td>1.757138e-06</td>\n",
       "      <td>1.523807e-06</td>\n",
       "      <td>0.000003</td>\n",
       "      <td>0.000002</td>\n",
       "      <td>0.000002</td>\n",
       "      <td>0.000002</td>\n",
       "      <td>0.000001</td>\n",
       "      <td>0.000002</td>\n",
       "      <td>0.000002</td>\n",
       "      <td>0.000002</td>\n",
       "    </tr>\n",
       "    <tr>\n",
       "      <th>jhh002</th>\n",
       "      <td>0.000116</td>\n",
       "      <td>0.000117</td>\n",
       "      <td>0.000072</td>\n",
       "      <td>0.000070</td>\n",
       "      <td>0.000083</td>\n",
       "      <td>0.000080</td>\n",
       "      <td>0.000150</td>\n",
       "      <td>0.000125</td>\n",
       "      <td>0.000191</td>\n",
       "      <td>0.000164</td>\n",
       "      <td>...</td>\n",
       "      <td>2.259913e-06</td>\n",
       "      <td>2.197103e-06</td>\n",
       "      <td>0.000003</td>\n",
       "      <td>0.000003</td>\n",
       "      <td>0.000002</td>\n",
       "      <td>0.000003</td>\n",
       "      <td>0.000002</td>\n",
       "      <td>0.000002</td>\n",
       "      <td>0.000003</td>\n",
       "      <td>0.000003</td>\n",
       "    </tr>\n",
       "    <tr>\n",
       "      <th>jhh003</th>\n",
       "      <td>0.000220</td>\n",
       "      <td>0.000160</td>\n",
       "      <td>0.000219</td>\n",
       "      <td>0.000190</td>\n",
       "      <td>0.000122</td>\n",
       "      <td>0.000187</td>\n",
       "      <td>0.000216</td>\n",
       "      <td>0.000207</td>\n",
       "      <td>0.000350</td>\n",
       "      <td>0.000186</td>\n",
       "      <td>...</td>\n",
       "      <td>9.876022e-07</td>\n",
       "      <td>1.013232e-06</td>\n",
       "      <td>0.000001</td>\n",
       "      <td>0.000001</td>\n",
       "      <td>0.000001</td>\n",
       "      <td>0.000002</td>\n",
       "      <td>0.000001</td>\n",
       "      <td>0.000001</td>\n",
       "      <td>0.000001</td>\n",
       "      <td>0.000001</td>\n",
       "    </tr>\n",
       "    <tr>\n",
       "      <th>jhh004</th>\n",
       "      <td>0.000121</td>\n",
       "      <td>0.000146</td>\n",
       "      <td>0.000103</td>\n",
       "      <td>0.000131</td>\n",
       "      <td>0.000054</td>\n",
       "      <td>0.000059</td>\n",
       "      <td>0.000087</td>\n",
       "      <td>0.000098</td>\n",
       "      <td>0.000103</td>\n",
       "      <td>0.000102</td>\n",
       "      <td>...</td>\n",
       "      <td>1.345140e-06</td>\n",
       "      <td>1.633642e-06</td>\n",
       "      <td>0.000002</td>\n",
       "      <td>0.000002</td>\n",
       "      <td>0.000002</td>\n",
       "      <td>0.000002</td>\n",
       "      <td>0.000002</td>\n",
       "      <td>0.000002</td>\n",
       "      <td>0.000002</td>\n",
       "      <td>0.000002</td>\n",
       "    </tr>\n",
       "    <tr>\n",
       "      <th>jhh005</th>\n",
       "      <td>0.000059</td>\n",
       "      <td>0.000063</td>\n",
       "      <td>0.000038</td>\n",
       "      <td>0.000066</td>\n",
       "      <td>0.000038</td>\n",
       "      <td>0.000062</td>\n",
       "      <td>0.000097</td>\n",
       "      <td>0.000108</td>\n",
       "      <td>0.000083</td>\n",
       "      <td>0.000096</td>\n",
       "      <td>...</td>\n",
       "      <td>1.019398e-06</td>\n",
       "      <td>8.631064e-07</td>\n",
       "      <td>0.000002</td>\n",
       "      <td>0.000002</td>\n",
       "      <td>0.000002</td>\n",
       "      <td>0.000001</td>\n",
       "      <td>0.000002</td>\n",
       "      <td>0.000001</td>\n",
       "      <td>0.000002</td>\n",
       "      <td>0.000002</td>\n",
       "    </tr>\n",
       "  </tbody>\n",
       "</table>\n",
       "<p>5 rows × 84 columns</p>\n",
       "</div>"
      ],
      "text/plain": [
       "         ptp_amp_Fp1  ptp_amp_Fp2  ptp_amp_F3  ptp_amp_F4  ptp_amp_P3  \\\n",
       "subject                                                                 \n",
       "jhh001      0.000248     0.000209    0.000196    0.000115    0.000136   \n",
       "jhh002      0.000116     0.000117    0.000072    0.000070    0.000083   \n",
       "jhh003      0.000220     0.000160    0.000219    0.000190    0.000122   \n",
       "jhh004      0.000121     0.000146    0.000103    0.000131    0.000054   \n",
       "jhh005      0.000059     0.000063    0.000038    0.000066    0.000038   \n",
       "\n",
       "         ptp_amp_P4  ptp_amp_O1  ptp_amp_O2  ptp_amp_F7  ptp_amp_F8  ...  \\\n",
       "subject                                                              ...   \n",
       "jhh001     0.000099    0.000206    0.000170    0.000224    0.000214  ...   \n",
       "jhh002     0.000080    0.000150    0.000125    0.000191    0.000164  ...   \n",
       "jhh003     0.000187    0.000216    0.000207    0.000350    0.000186  ...   \n",
       "jhh004     0.000059    0.000087    0.000098    0.000103    0.000102  ...   \n",
       "jhh005     0.000062    0.000097    0.000108    0.000083    0.000096  ...   \n",
       "\n",
       "         line_length_P3  line_length_P4  line_length_O1  line_length_O2  \\\n",
       "subject                                                                   \n",
       "jhh001     1.757138e-06    1.523807e-06        0.000003        0.000002   \n",
       "jhh002     2.259913e-06    2.197103e-06        0.000003        0.000003   \n",
       "jhh003     9.876022e-07    1.013232e-06        0.000001        0.000001   \n",
       "jhh004     1.345140e-06    1.633642e-06        0.000002        0.000002   \n",
       "jhh005     1.019398e-06    8.631064e-07        0.000002        0.000002   \n",
       "\n",
       "         line_length_F7  line_length_F8  line_length_T3  line_length_T4  \\\n",
       "subject                                                                   \n",
       "jhh001         0.000002        0.000002        0.000001        0.000002   \n",
       "jhh002         0.000002        0.000003        0.000002        0.000002   \n",
       "jhh003         0.000001        0.000002        0.000001        0.000001   \n",
       "jhh004         0.000002        0.000002        0.000002        0.000002   \n",
       "jhh005         0.000002        0.000001        0.000002        0.000001   \n",
       "\n",
       "         line_length_T5  line_length_T6  \n",
       "subject                                  \n",
       "jhh001         0.000002        0.000002  \n",
       "jhh002         0.000003        0.000003  \n",
       "jhh003         0.000001        0.000001  \n",
       "jhh004         0.000002        0.000002  \n",
       "jhh005         0.000002        0.000002  \n",
       "\n",
       "[5 rows x 84 columns]"
      ]
     },
     "metadata": {},
     "output_type": "display_data"
    }
   ],
   "source": [
    "display(df.head())"
   ]
  },
  {
   "cell_type": "markdown",
   "id": "de2c2d9a-19d8-4a29-81fa-776ca99b4e00",
   "metadata": {},
   "source": [
    "# Analysis with Cross-Validation"
   ]
  },
  {
   "cell_type": "code",
   "execution_count": 99,
   "id": "34b0f7dc-e4c5-4853-973f-9cd52b08a993",
   "metadata": {},
   "outputs": [
    {
     "name": "stdout",
     "output_type": "stream",
     "text": [
      "(94, 84) (94,) 94\n"
     ]
    }
   ],
   "source": [
    "X = df.copy()\n",
    "print(X.shape, y.shape, len(subjects))"
   ]
  },
  {
   "cell_type": "code",
   "execution_count": 90,
   "id": "1c17c51b-0858-4b74-9b7b-1635bd3341be",
   "metadata": {},
   "outputs": [
    {
     "name": "stdout",
     "output_type": "stream",
     "text": [
      "[0 1]\n"
     ]
    }
   ],
   "source": [
    "print(np.unique(y))"
   ]
  },
  {
   "cell_type": "code",
   "execution_count": 80,
   "id": "74974eb5-9047-4678-975e-296dd40f7af2",
   "metadata": {},
   "outputs": [],
   "source": [
    "n_splits = 20\n",
    "train_size = 0.7\n",
    "random_state = 12345"
   ]
  },
  {
   "cell_type": "code",
   "execution_count": 81,
   "id": "4aa737b6-58f4-460b-9df8-4ceb7ca463f0",
   "metadata": {},
   "outputs": [],
   "source": [
    "clf_name = \"sporf\"\n",
    "# clf_name = 'rf'\n",
    "# clf_name = \"lr\""
   ]
  },
  {
   "cell_type": "code",
   "execution_count": 82,
   "id": "f9e93eea-1967-4253-9b03-dc1ee3d30b3a",
   "metadata": {},
   "outputs": [
    {
     "name": "stdout",
     "output_type": "stream",
     "text": [
      "File /Users/adam2392/Johns Hopkins/Scalp EEG JHH - Documents/derivatives/normaleeg/sporf/mne-features.csv exists False\n"
     ]
    }
   ],
   "source": [
    "fname = deriv_dir / \"normaleeg\" / clf_name / f\"mne-features.csv\"\n",
    "fname.parent.mkdir(exist_ok=True, parents=True)\n",
    "\n",
    "print(f\"File {fname} exists {fname.exists()}\")"
   ]
  },
  {
   "cell_type": "code",
   "execution_count": 85,
   "id": "121d3d80-1a5a-4e62-8ae0-fc42ac407f8e",
   "metadata": {},
   "outputs": [],
   "source": [
    "stratified_cv = StratifiedShuffleSplit(\n",
    "    n_splits=n_splits,\n",
    "    train_size=train_size,\n",
    "    random_state=random_state,\n",
    ")\n",
    "log_cv = LeaveOneGroupOut()\n",
    "# cv = BootstrapSplit(n_splits=100, random_state=random_state)\n",
    "\n",
    "cvs = {\n",
    "    \"stratifiedshuffle\": stratified_cv,\n",
    "    #        \"leaveonesubout\": log_cv\n",
    "}"
   ]
  },
  {
   "cell_type": "code",
   "execution_count": 87,
   "id": "5511326c-3747-4c40-ab74-fca83c245333",
   "metadata": {},
   "outputs": [
    {
     "name": "stdout",
     "output_type": "stream",
     "text": [
      "Pipeline(steps=[('obliqueforestclassifier',\n",
      "                 ObliqueForestClassifier(max_features=84, n_estimators=1000,\n",
      "                                         n_jobs=-1, random_state=12345))])\n",
      "[('obliqueforestclassifier', ObliqueForestClassifier(max_features=84, n_estimators=1000, n_jobs=-1,\n",
      "                        random_state=12345))]\n"
     ]
    }
   ],
   "source": [
    "max_features = X.shape[1]\n",
    "\n",
    "rf_model_params = {\n",
    "    \"n_estimators\": 1000,\n",
    "    \"max_features\": max_features,\n",
    "    \"n_jobs\": -1,\n",
    "    \"random_state\": random_state,\n",
    "}\n",
    "lr_model_params = {\n",
    "    \"n_jobs\": -1,\n",
    "    \"random_state\": random_state,\n",
    "    \"penalty\": \"l1\",\n",
    "    \"solver\": \"liblinear\",\n",
    "}\n",
    "\n",
    "if clf_name == \"rf\":\n",
    "    clf = RandomForestClassifier(**rf_model_params)\n",
    "elif clf_name == \"sporf\":\n",
    "    # only used if you installed cysporf\n",
    "    clf = ObliqueForestClassifier(**rf_model_params)\n",
    "elif clf_name == \"lr\":\n",
    "    clf = LogisticRegression(**lr_model_params)\n",
    "\n",
    "# for multiclass\n",
    "# clf = OneVsRestClassifier(clf)\n",
    "\n",
    "steps = []\n",
    "if clf_name == \"lr\":\n",
    "    steps.append(StandardScaler())\n",
    "steps.append(clf)\n",
    "\n",
    "clf = make_pipeline(*steps)\n",
    "print(clf)\n",
    "print(clf.steps)"
   ]
  },
  {
   "cell_type": "markdown",
   "id": "43ac690c-a0c7-4e97-929b-dfb91b703772",
   "metadata": {},
   "source": [
    "## Entire Dataset as Training Evaluation"
   ]
  },
  {
   "cell_type": "code",
   "execution_count": 103,
   "id": "748e46c9-267b-4db6-b8a3-bd8e41871550",
   "metadata": {},
   "outputs": [],
   "source": [
    "# fit on entire dataset\n",
    "clf.fit(X, y)\n",
    "\n",
    "scoring_funcs = {\n",
    "    \"balanced_accuracy\": balanced_accuracy_score,\n",
    "    \"cohen_kappa_score\": cohen_kappa_score,\n",
    "    \"roc_auc\": roc_auc_score,  #  \"roc_auc\",  # roc_auc_score,\n",
    "    \"f1\": f1_score,\n",
    "    \"recall\": recall_score,\n",
    "    \"specificity\": recall_score,\n",
    "    \"precision\": precision_score,\n",
    "    \"jaccard\": jaccard_score,\n",
    "    \"average_precision\": average_precision_score,\n",
    "    \"neg_brier_score\": brier_score_loss,\n",
    "    \"cohen_kappa_score\": cohen_kappa_score,\n",
    "    #     'specificity': '',\n",
    "}\n",
    "\n",
    "scoring_funcs = {\n",
    "    \"balanced_accuracy\": make_scorer(balanced_accuracy_score),\n",
    "    \"cohen_kappa_score\": make_scorer(cohen_kappa_score),\n",
    "    \"roc_auc\": \"roc_auc\",  # roc_auc_score,\n",
    "    \"f1\": \"f1\",  # f1_score,\n",
    "    \"recall\": \"recall\",  # makerecall_score,\n",
    "    \"precision\": \"precision\",  # precision_score,\n",
    "    \"jaccard\": \"jaccard\",  # jaccard_score,\n",
    "    \"average_precision\": \"average_precision\",  # average_precision_score,\n",
    "    \"neg_brier_score\": \"neg_brier_score\",  # brier_score_loss,\n",
    "}"
   ]
  },
  {
   "cell_type": "code",
   "execution_count": 104,
   "id": "94eae3ce-36c9-4bea-ac1c-1f48935c64e9",
   "metadata": {},
   "outputs": [],
   "source": [
    "# run cross-validation\n",
    "scores = cross_validate(\n",
    "    clf,\n",
    "    X,\n",
    "    y,\n",
    "    groups=subjects,\n",
    "    cv=stratified_cv,\n",
    "    scoring=scoring_funcs,\n",
    "    return_estimator=True,\n",
    "    return_train_score=False,\n",
    "    n_jobs=-1,\n",
    "    error_score=\"raise\",\n",
    ")\n",
    "\n",
    "# get the estimators\n",
    "estimators = scores.pop(\"estimator\")"
   ]
  },
  {
   "cell_type": "code",
   "execution_count": 105,
   "id": "b2c05779-b821-446e-a4b1-04ecc65b30e1",
   "metadata": {},
   "outputs": [
    {
     "name": "stdout",
     "output_type": "stream",
     "text": [
      "dict_keys(['fit_time', 'score_time', 'test_balanced_accuracy', 'test_cohen_kappa_score', 'test_roc_auc', 'test_f1', 'test_recall', 'test_precision', 'test_jaccard', 'test_average_precision', 'test_neg_brier_score'])\n"
     ]
    }
   ],
   "source": [
    "print(scores.keys())"
   ]
  },
  {
   "cell_type": "code",
   "execution_count": 112,
   "id": "60a7dd9c-6c1d-4550-85dc-59c57a09c2b4",
   "metadata": {},
   "outputs": [
    {
     "data": {
      "text/html": [
       "<div>\n",
       "<style scoped>\n",
       "    .dataframe tbody tr th:only-of-type {\n",
       "        vertical-align: middle;\n",
       "    }\n",
       "\n",
       "    .dataframe tbody tr th {\n",
       "        vertical-align: top;\n",
       "    }\n",
       "\n",
       "    .dataframe thead th {\n",
       "        text-align: right;\n",
       "    }\n",
       "</style>\n",
       "<table border=\"1\" class=\"dataframe\">\n",
       "  <thead>\n",
       "    <tr style=\"text-align: right;\">\n",
       "      <th></th>\n",
       "      <th>metric</th>\n",
       "      <th>value</th>\n",
       "    </tr>\n",
       "  </thead>\n",
       "  <tbody>\n",
       "    <tr>\n",
       "      <th>0</th>\n",
       "      <td>test_balanced_accuracy</td>\n",
       "      <td>0.519608</td>\n",
       "    </tr>\n",
       "    <tr>\n",
       "      <th>1</th>\n",
       "      <td>test_balanced_accuracy</td>\n",
       "      <td>0.578431</td>\n",
       "    </tr>\n",
       "    <tr>\n",
       "      <th>2</th>\n",
       "      <td>test_balanced_accuracy</td>\n",
       "      <td>0.419118</td>\n",
       "    </tr>\n",
       "    <tr>\n",
       "      <th>3</th>\n",
       "      <td>test_balanced_accuracy</td>\n",
       "      <td>0.424020</td>\n",
       "    </tr>\n",
       "    <tr>\n",
       "      <th>4</th>\n",
       "      <td>test_balanced_accuracy</td>\n",
       "      <td>0.419118</td>\n",
       "    </tr>\n",
       "  </tbody>\n",
       "</table>\n",
       "</div>"
      ],
      "text/plain": [
       "                   metric     value\n",
       "0  test_balanced_accuracy  0.519608\n",
       "1  test_balanced_accuracy  0.578431\n",
       "2  test_balanced_accuracy  0.419118\n",
       "3  test_balanced_accuracy  0.424020\n",
       "4  test_balanced_accuracy  0.419118"
      ]
     },
     "metadata": {},
     "output_type": "display_data"
    }
   ],
   "source": [
    "scores_df = pd.DataFrame.from_dict(scores)\n",
    "\n",
    "scores_df.drop([\"fit_time\", \"score_time\"], axis=1, inplace=True)\n",
    "scores_df = pd.melt(scores_df, var_name=\"metric\")\n",
    "display(scores_df.head())"
   ]
  },
  {
   "cell_type": "code",
   "execution_count": 122,
   "id": "13f9edee-2aab-43fb-8a35-7966caff4407",
   "metadata": {},
   "outputs": [
    {
     "data": {
      "text/plain": [
       "Text(0.5, 1.0, 'MNE-Features Classification of PNES vs Epilepsy with SPORF')"
      ]
     },
     "execution_count": 122,
     "metadata": {},
     "output_type": "execute_result"
    },
    {
     "data": {
      "image/png": "[encoded data removed]",
      "text/plain": [
       "<Figure size 576x360 with 1 Axes>"
      ]
     },
     "metadata": {
      "needs_background": "light"
     },
     "output_type": "display_data"
    }
   ],
   "source": [
    "fig, ax = plt.subplots(figsize=(8, 5))\n",
    "sns.boxplot(x=\"metric\", y=\"value\", data=scores_df, ax=ax, boxprops=dict(alpha=0.3))\n",
    "sns.stripplot(x=\"metric\", y=\"value\", data=scores_df, ax=ax)\n",
    "ax.set_xticklabels(ax.get_xticklabels(), rotation=90)\n",
    "ax.axhline([0.5])\n",
    "ax.set_title(\"MNE-Features Classification of PNES vs Epilepsy with SPORF\")"
   ]
  },
  {
   "cell_type": "code",
   "execution_count": null,
   "id": "8019e724-ff8c-45ae-aeed-acaa510f0e20",
   "metadata": {},
   "outputs": [],
   "source": []
  }
 ],
 "metadata": {
  "kernelspec": {
   "display_name": "episcalp",
   "language": "python",
   "name": "episcalp"
  },
  "language_info": {
   "codemirror_mode": {
    "name": "ipython",
    "version": 3
   },
   "file_extension": ".py",
   "mimetype": "text/x-python",
   "name": "python",
   "nbconvert_exporter": "python",
   "pygments_lexer": "ipython3",
   "version": "3.8.12"
  },
  "toc-autonumbering": true
 },
 "nbformat": 4,
 "nbformat_minor": 5
}
